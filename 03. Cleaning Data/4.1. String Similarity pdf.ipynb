{
 "cells": [
  {
   "cell_type": "code",
   "execution_count": 1,
   "id": "19ca456e",
   "metadata": {},
   "outputs": [],
   "source": [
    "import numpy as np\n",
    "import pandas as pd"
   ]
  },
  {
   "cell_type": "code",
   "execution_count": 2,
   "id": "941fa949",
   "metadata": {},
   "outputs": [],
   "source": [
    "from fuzzywuzzy import fuzz, process"
   ]
  },
  {
   "cell_type": "markdown",
   "id": "ebaab7f0",
   "metadata": {},
   "source": [
    "### String Similarity & Minimum Edit Distance\n",
    "\n",
    "Minimum edit distance is used to identify how similar two strings are. It is the minimum number of steps needed to reach from String A to String B, with the operations available being:\n",
    "\n",
    "1.`Insertion` of a new character.\n",
    "\n",
    "2.`Deletion` of an existing character.\n",
    "\n",
    "3.`Substitution` of an existing character.\n",
    "\n",
    "4.`Transposition` of two existing consecutive characters."
   ]
  },
  {
   "cell_type": "code",
   "execution_count": 3,
   "id": "b53dcb72",
   "metadata": {},
   "outputs": [
    {
     "data": {
      "text/plain": [
       "86"
      ]
     },
     "execution_count": 3,
     "metadata": {},
     "output_type": "execute_result"
    }
   ],
   "source": [
    "# Lets compare between two strings by fuzz.WRatio()\n",
    "# It gives a similarity ratio betn two strings with 0 being not similar at all to 100 being fully similar\n",
    "# Compare reeding vs reading\n",
    "\n",
    "fuzz.WRatio(\"Reeding\", \"Reading\")"
   ]
  },
  {
   "cell_type": "code",
   "execution_count": 4,
   "id": "9e9313a5",
   "metadata": {},
   "outputs": [
    {
     "data": {
      "text/plain": [
       "90"
      ]
     },
     "execution_count": 4,
     "metadata": {},
     "output_type": "execute_result"
    }
   ],
   "source": [
    "## We can see that 'Reeding' and 'Reading' are 86% similar to each other\n",
    "## we can get partial strings similarity by it\n",
    "\n",
    "# Partial string comparison\n",
    "fuzz.WRatio('Houston Rockets', 'Rockets')"
   ]
  },
  {
   "cell_type": "code",
   "execution_count": 5,
   "id": "a68f5f95",
   "metadata": {},
   "outputs": [
    {
     "data": {
      "text/plain": [
       "86"
      ]
     },
     "execution_count": 5,
     "metadata": {},
     "output_type": "execute_result"
    }
   ],
   "source": [
    "# ## we can also get partial string comarison of different orders similarity by it\n",
    "# Partial string comparison with different order\n",
    "\n",
    "fuzz.WRatio('Houston Rockets vs Los Angeles Lakers', 'Lakers vs Rockets')"
   ]
  },
  {
   "cell_type": "code",
   "execution_count": 6,
   "id": "040c61df",
   "metadata": {},
   "outputs": [
    {
     "data": {
      "text/plain": [
       "[('Rockets vs Lakers', 86, 0),\n",
       " ('Lakers vs Rockets', 86, 1),\n",
       " ('Houson vs Los Angeles', 86, 2),\n",
       " ('Heat vs Bulls', 86, 3)]"
      ]
     },
     "execution_count": 6,
     "metadata": {},
     "output_type": "execute_result"
    }
   ],
   "source": [
    "## We can compare strings with array of strings by fuzzywuzz's extract function in process module\n",
    "\n",
    "# string \n",
    "string = \"Houston Rockets vs Los Angeles Lakers\"\n",
    "\n",
    "# array of possible matches\n",
    "choices = pd.Series(['Rockets vs Lakers', 'Lakers vs Rockets',\n",
    "'Houson vs Los Angeles', 'Heat vs Bulls'])\n",
    "\n",
    "# now we'll use process module and extract function to find the similarity ratio\n",
    "\n",
    "process.extract(string, choices)"
   ]
  },
  {
   "cell_type": "code",
   "execution_count": 7,
   "id": "6594ceed",
   "metadata": {},
   "outputs": [
    {
     "data": {
      "text/plain": [
       "[('Rockets vs Lakers', 86, 0), ('Lakers vs Rockets', 86, 1)]"
      ]
     },
     "execution_count": 7,
     "metadata": {},
     "output_type": "execute_result"
    }
   ],
   "source": [
    "## This extract function outputs tuple of strings where 3 values are in one tuple---\n",
    "\n",
    "# 1st value is the array value to compare\n",
    "# 2nd value is the ratio\n",
    "# 3rd value is the element index value in the array\n",
    "\n",
    "## We can also set limit in our values\n",
    "\n",
    "process.extract(string, choices, limit = 2)"
   ]
  },
  {
   "cell_type": "markdown",
   "id": "e4fb23bc",
   "metadata": {},
   "source": [
    "### Collapsing categories with string matching\n",
    "\n",
    "When manually replacing of values are not possible, we can use string similarity"
   ]
  },
  {
   "cell_type": "code",
   "execution_count": 10,
   "id": "fe5398c2",
   "metadata": {},
   "outputs": [],
   "source": [
    "state = [\"California\", \"Cali\", \"Calefornia\", \"Calefernia\", \"New York\", \"Newark\", \"New York City\", \"NYC\"]"
   ]
  },
  {
   "cell_type": "code",
   "execution_count": 11,
   "id": "58952ac0",
   "metadata": {},
   "outputs": [],
   "source": [
    "data = {\"state\":state}"
   ]
  },
  {
   "cell_type": "code",
   "execution_count": 12,
   "id": "b2a8cb72",
   "metadata": {},
   "outputs": [
    {
     "data": {
      "text/html": [
       "<div>\n",
       "<style scoped>\n",
       "    .dataframe tbody tr th:only-of-type {\n",
       "        vertical-align: middle;\n",
       "    }\n",
       "\n",
       "    .dataframe tbody tr th {\n",
       "        vertical-align: top;\n",
       "    }\n",
       "\n",
       "    .dataframe thead th {\n",
       "        text-align: right;\n",
       "    }\n",
       "</style>\n",
       "<table border=\"1\" class=\"dataframe\">\n",
       "  <thead>\n",
       "    <tr style=\"text-align: right;\">\n",
       "      <th></th>\n",
       "      <th>state</th>\n",
       "    </tr>\n",
       "  </thead>\n",
       "  <tbody>\n",
       "    <tr>\n",
       "      <th>0</th>\n",
       "      <td>California</td>\n",
       "    </tr>\n",
       "    <tr>\n",
       "      <th>1</th>\n",
       "      <td>Cali</td>\n",
       "    </tr>\n",
       "    <tr>\n",
       "      <th>2</th>\n",
       "      <td>Calefornia</td>\n",
       "    </tr>\n",
       "    <tr>\n",
       "      <th>3</th>\n",
       "      <td>Calefernia</td>\n",
       "    </tr>\n",
       "    <tr>\n",
       "      <th>4</th>\n",
       "      <td>New York</td>\n",
       "    </tr>\n",
       "    <tr>\n",
       "      <th>5</th>\n",
       "      <td>Newark</td>\n",
       "    </tr>\n",
       "    <tr>\n",
       "      <th>6</th>\n",
       "      <td>New York City</td>\n",
       "    </tr>\n",
       "    <tr>\n",
       "      <th>7</th>\n",
       "      <td>NYC</td>\n",
       "    </tr>\n",
       "  </tbody>\n",
       "</table>\n",
       "</div>"
      ],
      "text/plain": [
       "           state\n",
       "0     California\n",
       "1           Cali\n",
       "2     Calefornia\n",
       "3     Calefernia\n",
       "4       New York\n",
       "5         Newark\n",
       "6  New York City\n",
       "7            NYC"
      ]
     },
     "execution_count": 12,
     "metadata": {},
     "output_type": "execute_result"
    }
   ],
   "source": [
    "survey = pd.DataFrame(data)\n",
    "survey"
   ]
  },
  {
   "cell_type": "code",
   "execution_count": 13,
   "id": "7f7e3ff0",
   "metadata": {},
   "outputs": [
    {
     "data": {
      "text/html": [
       "<div>\n",
       "<style scoped>\n",
       "    .dataframe tbody tr th:only-of-type {\n",
       "        vertical-align: middle;\n",
       "    }\n",
       "\n",
       "    .dataframe tbody tr th {\n",
       "        vertical-align: top;\n",
       "    }\n",
       "\n",
       "    .dataframe thead th {\n",
       "        text-align: right;\n",
       "    }\n",
       "</style>\n",
       "<table border=\"1\" class=\"dataframe\">\n",
       "  <thead>\n",
       "    <tr style=\"text-align: right;\">\n",
       "      <th></th>\n",
       "      <th>state</th>\n",
       "    </tr>\n",
       "  </thead>\n",
       "  <tbody>\n",
       "    <tr>\n",
       "      <th>0</th>\n",
       "      <td>New York</td>\n",
       "    </tr>\n",
       "    <tr>\n",
       "      <th>1</th>\n",
       "      <td>California</td>\n",
       "    </tr>\n",
       "  </tbody>\n",
       "</table>\n",
       "</div>"
      ],
      "text/plain": [
       "        state\n",
       "0    New York\n",
       "1  California"
      ]
     },
     "execution_count": 13,
     "metadata": {},
     "output_type": "execute_result"
    }
   ],
   "source": [
    "categories = pd.DataFrame(data= {\"state\" : [\"New York\", \"California\"]})\n",
    "categories"
   ]
  },
  {
   "cell_type": "code",
   "execution_count": 14,
   "id": "cde367b0",
   "metadata": {},
   "outputs": [
    {
     "name": "stdout",
     "output_type": "stream",
     "text": [
      "state : New York\n",
      "Match Similarity: [('New York', 100, 4), ('New York City', 90, 6), ('Newark', 71, 5), ('NYC', 36, 7), ('Calefornia', 33, 2), ('California', 22, 0), ('Calefernia', 22, 3), ('Cali', 0, 1)]\n",
      "New York\n",
      "New York\n",
      "New York\n",
      "state : California\n",
      "Match Similarity: [('California', 100, 0), ('Cali', 90, 1), ('Calefornia', 90, 2), ('Calefernia', 80, 3), ('NYC', 30, 7), ('New York', 22, 4), ('New York', 22, 5), ('New York', 22, 6)]\n",
      "California\n",
      "California\n",
      "California\n",
      "California\n"
     ]
    }
   ],
   "source": [
    "# For each correct category\n",
    "for state in categories['state']:\n",
    "    # Find potential matches in states with typoes\n",
    "    print(\"state :\", state)\n",
    "    matches = process.extract( state, survey['state'], limit = survey.shape[0])\n",
    "    print(\"Match Similarity:\", matches)\n",
    "    # For each potential match match\n",
    "    for potential_match in matches:\n",
    "        # If high similarity score\n",
    "        if potential_match[1] >= 70:\n",
    "            # Replace typo with correct category\n",
    "            survey.loc[survey['state'] == potential_match[0], 'state'] = state\n",
    "            print(state)"
   ]
  },
  {
   "cell_type": "code",
   "execution_count": 15,
   "id": "7c00f567",
   "metadata": {},
   "outputs": [
    {
     "name": "stdout",
     "output_type": "stream",
     "text": [
      "['California' 'New York' 'NYC']\n"
     ]
    }
   ],
   "source": [
    "# Inspect the final result\n",
    "print(survey['state'].unique())"
   ]
  },
  {
   "cell_type": "code",
   "execution_count": null,
   "id": "d31966f8",
   "metadata": {},
   "outputs": [],
   "source": []
  },
  {
   "cell_type": "code",
   "execution_count": null,
   "id": "ac3bac59",
   "metadata": {},
   "outputs": [],
   "source": []
  },
  {
   "cell_type": "code",
   "execution_count": null,
   "id": "951e997a",
   "metadata": {},
   "outputs": [],
   "source": []
  },
  {
   "cell_type": "code",
   "execution_count": null,
   "id": "52ea50f1",
   "metadata": {},
   "outputs": [],
   "source": []
  },
  {
   "cell_type": "code",
   "execution_count": null,
   "id": "d1df5e00",
   "metadata": {},
   "outputs": [],
   "source": []
  },
  {
   "cell_type": "code",
   "execution_count": null,
   "id": "a3ab79f8",
   "metadata": {},
   "outputs": [],
   "source": []
  },
  {
   "cell_type": "code",
   "execution_count": null,
   "id": "bc265dd4",
   "metadata": {},
   "outputs": [],
   "source": []
  },
  {
   "cell_type": "code",
   "execution_count": null,
   "id": "90b762f6",
   "metadata": {},
   "outputs": [],
   "source": []
  },
  {
   "cell_type": "code",
   "execution_count": null,
   "id": "4613d6c5",
   "metadata": {},
   "outputs": [],
   "source": []
  },
  {
   "cell_type": "code",
   "execution_count": null,
   "id": "9ea1d5ec",
   "metadata": {},
   "outputs": [],
   "source": []
  },
  {
   "cell_type": "code",
   "execution_count": null,
   "id": "b39ed87c",
   "metadata": {},
   "outputs": [],
   "source": []
  },
  {
   "cell_type": "code",
   "execution_count": null,
   "id": "45d3e42f",
   "metadata": {},
   "outputs": [],
   "source": []
  }
 ],
 "metadata": {
  "kernelspec": {
   "display_name": "Python 3",
   "language": "python",
   "name": "python3"
  },
  "language_info": {
   "codemirror_mode": {
    "name": "ipython",
    "version": 3
   },
   "file_extension": ".py",
   "mimetype": "text/x-python",
   "name": "python",
   "nbconvert_exporter": "python",
   "pygments_lexer": "ipython3",
   "version": "3.8.8"
  }
 },
 "nbformat": 4,
 "nbformat_minor": 5
}

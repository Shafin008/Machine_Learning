{
 "cells": [
  {
   "cell_type": "code",
   "execution_count": 1,
   "id": "359e1c79",
   "metadata": {},
   "outputs": [],
   "source": [
    "import numpy as np\n",
    "import pandas as pd\n",
    "import recordlinkage"
   ]
  },
  {
   "cell_type": "markdown",
   "id": "76b990ef",
   "metadata": {},
   "source": [
    "### Record Linkage:\n",
    "\n",
    "`Record linkage` is the act of `linking data` from `different sources` regarding the `same entity`. Record linkage does not require `exact` matches between `different pairs` of data, and instead can find `close matches` using `string similarity`. This is why record linkage is effective when there are `no common unique keys` between the `data sources` you can rely upon when linking data sources such as a unique identifier."
   ]
  },
  {
   "cell_type": "code",
   "execution_count": 2,
   "id": "2a8bd28d",
   "metadata": {},
   "outputs": [],
   "source": [
    "restaurants = pd.read_csv(\"restaurants_L2.csv\")\n",
    "#restaurants.head()"
   ]
  },
  {
   "cell_type": "code",
   "execution_count": 4,
   "id": "90e5b971",
   "metadata": {},
   "outputs": [
    {
     "data": {
      "text/html": [
       "<div>\n",
       "<style scoped>\n",
       "    .dataframe tbody tr th:only-of-type {\n",
       "        vertical-align: middle;\n",
       "    }\n",
       "\n",
       "    .dataframe tbody tr th {\n",
       "        vertical-align: top;\n",
       "    }\n",
       "\n",
       "    .dataframe thead th {\n",
       "        text-align: right;\n",
       "    }\n",
       "</style>\n",
       "<table border=\"1\" class=\"dataframe\">\n",
       "  <thead>\n",
       "    <tr style=\"text-align: right;\">\n",
       "      <th></th>\n",
       "      <th>Unnamed: 0</th>\n",
       "      <th>name</th>\n",
       "      <th>addr</th>\n",
       "      <th>city</th>\n",
       "      <th>phone</th>\n",
       "      <th>type</th>\n",
       "    </tr>\n",
       "  </thead>\n",
       "  <tbody>\n",
       "    <tr>\n",
       "      <th>0</th>\n",
       "      <td>0</td>\n",
       "      <td>kokomo</td>\n",
       "      <td>6333 w. third st.</td>\n",
       "      <td>la</td>\n",
       "      <td>2139330773</td>\n",
       "      <td>american</td>\n",
       "    </tr>\n",
       "    <tr>\n",
       "      <th>1</th>\n",
       "      <td>1</td>\n",
       "      <td>feenix</td>\n",
       "      <td>8358 sunset blvd. west</td>\n",
       "      <td>hollywood</td>\n",
       "      <td>2138486677</td>\n",
       "      <td>american</td>\n",
       "    </tr>\n",
       "    <tr>\n",
       "      <th>2</th>\n",
       "      <td>2</td>\n",
       "      <td>parkway</td>\n",
       "      <td>510 s. arroyo pkwy .</td>\n",
       "      <td>pasadena</td>\n",
       "      <td>8187951001</td>\n",
       "      <td>californian</td>\n",
       "    </tr>\n",
       "    <tr>\n",
       "      <th>3</th>\n",
       "      <td>3</td>\n",
       "      <td>r-23</td>\n",
       "      <td>923 e. third st.</td>\n",
       "      <td>los angeles</td>\n",
       "      <td>2136877178</td>\n",
       "      <td>japanese</td>\n",
       "    </tr>\n",
       "    <tr>\n",
       "      <th>4</th>\n",
       "      <td>4</td>\n",
       "      <td>gumbo</td>\n",
       "      <td>6333 w. third st.</td>\n",
       "      <td>la</td>\n",
       "      <td>2139330358</td>\n",
       "      <td>cajun/creole</td>\n",
       "    </tr>\n",
       "  </tbody>\n",
       "</table>\n",
       "</div>"
      ],
      "text/plain": [
       "   Unnamed: 0     name                      addr         city       phone  \\\n",
       "0           0   kokomo         6333 w. third st.           la  2139330773   \n",
       "1           1   feenix   8358 sunset blvd. west     hollywood  2138486677   \n",
       "2           2  parkway      510 s. arroyo pkwy .     pasadena  8187951001   \n",
       "3           3     r-23          923 e. third st.  los angeles  2136877178   \n",
       "4           4    gumbo         6333 w. third st.           la  2139330358   \n",
       "\n",
       "           type  \n",
       "0      american  \n",
       "1      american  \n",
       "2   californian  \n",
       "3      japanese  \n",
       "4  cajun/creole  "
      ]
     },
     "execution_count": 4,
     "metadata": {},
     "output_type": "execute_result"
    }
   ],
   "source": [
    "restaurants_new = pd.read_csv(\"restaurants_L2_dirty.csv\")\n",
    "restaurants_new.head()"
   ]
  },
  {
   "cell_type": "markdown",
   "id": "2c41cb04",
   "metadata": {},
   "source": [
    "### Ex 1:\n",
    "\n",
    "In this exercise, you will perform the first step in `record linkage` and generate possible `pairs` of rows between `restaurants` and `restaurants_new`.\n",
    "\n",
    "### Steps of Record Linkage:\n",
    "\n",
    "1.Generate Pairs\n",
    "  \n",
    "2.Compare between columns : \n",
    "\n",
    "3.Score the comparison :\n",
    "\n",
    "4.Link the DataFrames :"
   ]
  },
  {
   "cell_type": "markdown",
   "id": "ae6c7412",
   "metadata": {},
   "source": [
    "### Generate Pairs : \n",
    "\n",
    "Steps to Generate pairs:\n",
    "\n",
    "  a. To generate pairs you need to `create` an `indexing` object and find possible `pairs`.\n",
    "    \n",
    "  b. Then you need to `Block` your `pairing` by using `indexer's' .block()` method.\n",
    "    \n",
    "  c. Finally, `Generate pairs` by `indexing` restaurants and restaurants_new in that order."
   ]
  },
  {
   "cell_type": "code",
   "execution_count": 6,
   "id": "0f930085",
   "metadata": {
    "scrolled": false
   },
   "outputs": [],
   "source": [
    "# Create an indexer and object and find possible pairs\n",
    "indexer = recordlinkage.Index()\n",
    "\n",
    "# Block pairing on cuisine_type\n",
    "indexer.block(\"cuisine_type\")\n",
    "\n",
    "# Generate pairs\n",
    "pairs = indexer.index(restaurants, restaurants_new)"
   ]
  },
  {
   "cell_type": "markdown",
   "id": "8984061b",
   "metadata": {},
   "source": []
  },
  {
   "cell_type": "markdown",
   "id": "ea731523",
   "metadata": {},
   "source": [
    "### Ex 2:\n",
    "\n",
    "When performing `record linkage`, there are different types of `matching` you can perform between different columns of your DataFrames, including `exact matches`, `string similarities`, and more.\n",
    "\n",
    "Now that your `pairs` have been `generated` and `stored in pairs`, you will find `exact matches` in the `city` and `cuisine_type` columns between each pair, and `similar strings` for each pair in the `rest_name` column. "
   ]
  },
  {
   "cell_type": "markdown",
   "id": "e58cd3b7",
   "metadata": {},
   "source": [
    "### Compare between columns and Scoring the comparison :\n",
    "\n",
    "Steps to Compare between columns :\n",
    "\n",
    "1.Instantiate a comparison object using the `recordlinkage.Compare()` function.\n",
    "\n",
    "2.find `exact` matches \n",
    "\n",
    "3.find `similar` strings \n",
    "\n",
    "4.Compute the comparison of the pairs by using the `.compute()` method\n",
    "\n",
    "5.Print out `potential_matches`"
   ]
  },
  {
   "cell_type": "code",
   "execution_count": null,
   "id": "502aed6c",
   "metadata": {},
   "outputs": [],
   "source": [
    "# Create a comparison object\n",
    "comp_cl = recordlinkage.Compare()\n",
    "\n",
    "# Find exact matches on city, cuisine_types \n",
    "comp_cl.exact('city', 'city', label='city')\n",
    "comp_cl.exact('cuisine_type', 'cuisine_type', label = 'cuisine_type')\n",
    "\n",
    "# Find similar matches of rest_name\n",
    "comp_cl.string('rest_name', 'rest_name', label='name', threshold = 0.8) \n",
    "\n",
    "## Scoring \n",
    "# Get potential matches and print\n",
    "potential_matches = comp_cl.compute(pairs, restaurants, restaurants_new)\n",
    "print(potential_matches)\n",
    "print(potential_matches[potential_matches.sum(axis = 1) >= 3])"
   ]
  },
  {
   "cell_type": "code",
   "execution_count": null,
   "id": "c30bbd88",
   "metadata": {},
   "outputs": [],
   "source": []
  },
  {
   "cell_type": "markdown",
   "id": "8c732f5a",
   "metadata": {},
   "source": [
    "### Ex 3: \n",
    "\n",
    "Now it's finally time to `link` both DataFrames. You will do so by first extracting all `row indices` of `restaurants_new` that are `matching` across the `columns` mentioned above from `potential_matches`. Then you will `subset` restaurants_new on these indices, then `append` the `non-duplicate` values to `restaurants`."
   ]
  },
  {
   "cell_type": "markdown",
   "id": "84558323",
   "metadata": {},
   "source": [
    "### Linking DataFrames:\n",
    "\n",
    "Steps of Linking DataFrames:\n",
    "\n",
    "1.Isolate instances of potential_matches where the row sum is above or equal to `n` by using the `.sum()` method. Here `n` is the `minimum` number of `columns` you want matching to ensure a `proper duplicate find`, \n",
    "\n",
    "`potential_matches[potential_matches.sum(axis = 1) >= n]`\n",
    "\n",
    "2.Finding `duplicate` rows by using the `.get_level_values()` method.\n",
    "\n",
    "3.Finding `non-duplicate` rows by subsetting.\n",
    "\n",
    "4.Finally `append` dataframes with no duplicate values"
   ]
  },
  {
   "cell_type": "code",
   "execution_count": null,
   "id": "2d134972",
   "metadata": {},
   "outputs": [],
   "source": [
    "# Isolate potential matches with row sum >=3\n",
    "matches = potential_matches[potential_matches.sum(axis = 1) >= 3]\n",
    "# potential_matches[potential_matches.sum(axis = 1) >= 3]\n",
    "\n",
    "# Get values of second column index of matches\n",
    "matching_indices = matches.index.get_level_values(1)\n",
    "\n",
    "# Subset restaurants_new based on non-duplicate values\n",
    "non_dup = restaurants_new[~restaurants_new.index.isin(matching_indices)]\n",
    "\n",
    "# Append non_dup to restaurants\n",
    "full_restaurants = restaurants.append(non_dup)\n",
    "print(full_restaurants)"
   ]
  },
  {
   "cell_type": "code",
   "execution_count": null,
   "id": "85223f71",
   "metadata": {},
   "outputs": [],
   "source": []
  },
  {
   "cell_type": "code",
   "execution_count": null,
   "id": "00174f92",
   "metadata": {},
   "outputs": [],
   "source": []
  },
  {
   "cell_type": "code",
   "execution_count": null,
   "id": "aa5f3342",
   "metadata": {},
   "outputs": [],
   "source": []
  },
  {
   "cell_type": "code",
   "execution_count": null,
   "id": "59933afb",
   "metadata": {},
   "outputs": [],
   "source": []
  },
  {
   "cell_type": "code",
   "execution_count": null,
   "id": "687bafee",
   "metadata": {},
   "outputs": [],
   "source": []
  },
  {
   "cell_type": "code",
   "execution_count": null,
   "id": "9ab5d672",
   "metadata": {},
   "outputs": [],
   "source": []
  },
  {
   "cell_type": "code",
   "execution_count": null,
   "id": "0f0d45bf",
   "metadata": {},
   "outputs": [],
   "source": []
  },
  {
   "cell_type": "code",
   "execution_count": null,
   "id": "c0c6a883",
   "metadata": {},
   "outputs": [],
   "source": []
  },
  {
   "cell_type": "code",
   "execution_count": null,
   "id": "64411440",
   "metadata": {},
   "outputs": [],
   "source": []
  },
  {
   "cell_type": "code",
   "execution_count": null,
   "id": "bb50ac10",
   "metadata": {},
   "outputs": [],
   "source": []
  },
  {
   "cell_type": "code",
   "execution_count": null,
   "id": "df4a1893",
   "metadata": {},
   "outputs": [],
   "source": []
  },
  {
   "cell_type": "code",
   "execution_count": null,
   "id": "0d6424f9",
   "metadata": {},
   "outputs": [],
   "source": []
  },
  {
   "cell_type": "code",
   "execution_count": null,
   "id": "81dd9d26",
   "metadata": {},
   "outputs": [],
   "source": []
  },
  {
   "cell_type": "code",
   "execution_count": null,
   "id": "abb5b4ff",
   "metadata": {},
   "outputs": [],
   "source": []
  },
  {
   "cell_type": "code",
   "execution_count": null,
   "id": "f5301960",
   "metadata": {},
   "outputs": [],
   "source": []
  },
  {
   "cell_type": "code",
   "execution_count": null,
   "id": "d80b58fe",
   "metadata": {},
   "outputs": [],
   "source": []
  },
  {
   "cell_type": "code",
   "execution_count": null,
   "id": "85bc5b46",
   "metadata": {},
   "outputs": [],
   "source": []
  },
  {
   "cell_type": "code",
   "execution_count": null,
   "id": "1d2e7e0d",
   "metadata": {},
   "outputs": [],
   "source": []
  },
  {
   "cell_type": "code",
   "execution_count": null,
   "id": "6ccb2cdd",
   "metadata": {},
   "outputs": [],
   "source": []
  },
  {
   "cell_type": "code",
   "execution_count": null,
   "id": "687bd409",
   "metadata": {},
   "outputs": [],
   "source": []
  },
  {
   "cell_type": "code",
   "execution_count": null,
   "id": "0901863c",
   "metadata": {},
   "outputs": [],
   "source": []
  },
  {
   "cell_type": "code",
   "execution_count": null,
   "id": "f024aa6c",
   "metadata": {},
   "outputs": [],
   "source": []
  },
  {
   "cell_type": "code",
   "execution_count": null,
   "id": "bd0c96d8",
   "metadata": {},
   "outputs": [],
   "source": []
  },
  {
   "cell_type": "code",
   "execution_count": null,
   "id": "f1de774e",
   "metadata": {},
   "outputs": [],
   "source": []
  },
  {
   "cell_type": "code",
   "execution_count": null,
   "id": "2a35cdee",
   "metadata": {},
   "outputs": [],
   "source": []
  },
  {
   "cell_type": "code",
   "execution_count": null,
   "id": "022c1de9",
   "metadata": {},
   "outputs": [],
   "source": []
  },
  {
   "cell_type": "code",
   "execution_count": null,
   "id": "4c971ebf",
   "metadata": {},
   "outputs": [],
   "source": []
  },
  {
   "cell_type": "code",
   "execution_count": null,
   "id": "887dfecf",
   "metadata": {},
   "outputs": [],
   "source": []
  },
  {
   "cell_type": "code",
   "execution_count": null,
   "id": "a1331c59",
   "metadata": {},
   "outputs": [],
   "source": []
  },
  {
   "cell_type": "code",
   "execution_count": null,
   "id": "552f3d46",
   "metadata": {},
   "outputs": [],
   "source": []
  },
  {
   "cell_type": "code",
   "execution_count": null,
   "id": "64b18b70",
   "metadata": {},
   "outputs": [],
   "source": []
  },
  {
   "cell_type": "code",
   "execution_count": null,
   "id": "e26f7dd9",
   "metadata": {},
   "outputs": [],
   "source": []
  },
  {
   "cell_type": "code",
   "execution_count": null,
   "id": "28d01838",
   "metadata": {},
   "outputs": [],
   "source": []
  },
  {
   "cell_type": "code",
   "execution_count": null,
   "id": "662b91fb",
   "metadata": {},
   "outputs": [],
   "source": []
  },
  {
   "cell_type": "code",
   "execution_count": null,
   "id": "b058e806",
   "metadata": {},
   "outputs": [],
   "source": []
  },
  {
   "cell_type": "code",
   "execution_count": null,
   "id": "d2dd5511",
   "metadata": {},
   "outputs": [],
   "source": []
  },
  {
   "cell_type": "code",
   "execution_count": null,
   "id": "1927a06a",
   "metadata": {},
   "outputs": [],
   "source": []
  },
  {
   "cell_type": "code",
   "execution_count": null,
   "id": "e74cc153",
   "metadata": {},
   "outputs": [],
   "source": []
  },
  {
   "cell_type": "code",
   "execution_count": null,
   "id": "a45c055d",
   "metadata": {},
   "outputs": [],
   "source": []
  }
 ],
 "metadata": {
  "kernelspec": {
   "display_name": "Python 3",
   "language": "python",
   "name": "python3"
  },
  "language_info": {
   "codemirror_mode": {
    "name": "ipython",
    "version": 3
   },
   "file_extension": ".py",
   "mimetype": "text/x-python",
   "name": "python",
   "nbconvert_exporter": "python",
   "pygments_lexer": "ipython3",
   "version": "3.8.8"
  }
 },
 "nbformat": 4,
 "nbformat_minor": 5
}

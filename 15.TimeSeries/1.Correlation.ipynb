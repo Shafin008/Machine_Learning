{
 "cells": [
  {
   "cell_type": "markdown",
   "id": "3a4f2705",
   "metadata": {},
   "source": [
    "### Example of Time Series: Google Trends\n",
    "\n",
    "Time series analysis deals with data that is ordered in time. Of course, there are many other types of data that are not covered in this course - for example, cross-sectional data that are taken at one point in time. \n",
    "\n",
    "Time series come up in many contexts. Here is a time series of the frequency of Google searches for the word \"diet\" over a five year period. \n",
    "\n",
    "<img src=\"t.jpg\" style=\"max-width:600px\">\n",
    "\n",
    "You can see an interesting pattern: it hits a low around the holidays, and then spikes up at the beginning of the year when people make New Year's resolutions to lose weight.\n",
    "\n",
    "###  Example of Time Series: Climate Data\n",
    "\n",
    "Here is another example of a time series: the average annual temperature in New York City since 1870. \n",
    "\n",
    "<img src=\"t-1.jpg\" style=\"max-width:600px\">\n",
    "\n",
    "Notice that this time series is trending up. Many of the most interesting applications of time series analysis are financial time series. \n",
    "\n",
    "In this course, you will look at a variety of financial time series: stocks, bonds, commodities, even crytpocurrencies like Bitcoin.\n",
    "\n",
    "### Example of Time Series: Quarterly Earnings Data\n",
    "\n",
    "Here is the time series of quarterly earnings for the company H&R Block. \n",
    "\n",
    "<img src=\"t-2.jpg\" style=\"max-width:600px\">\n",
    "\n",
    "H&R Block is in the business of preparing tax returns for customers and selling tax software. The vast majority of their earnings occurs in the quarter that taxes are due. Notice the strong seasonality pattern in the earnings.\n",
    "\n",
    "###  Example of Multiple Series: Natural Gas and Heating Oil\n",
    "\n",
    "<img src=\"t-3.jpg\" style=\"max-width:600px\">\n",
    "\n",
    "Here are the prices of two energy commodities, heating oil and natural gas, which move together."
   ]
  },
  {
   "cell_type": "markdown",
   "id": "71c7f03e",
   "metadata": {},
   "source": [
    "### Some Useful Pandas Tools\n",
    "\n",
    "In the course of analyzing time series data, you will use several convenient pandas tools for manipulating times series data. \n",
    "\n",
    "<img src=\"p.jpg\" style=\"max-width:500px\">\n",
    "\n",
    "`to_datetime()` is used to convert an index, often read in as a string, into a datetime index. The `plot` method of pandas is a quick way to plot data, and if the index has been converted to a datetime object, you can slice the data by year, for example. \n",
    "\n",
    "<img src=\"p-1.jpg\" style=\"max-width:500px\">\n",
    "\n",
    "You will sometimes need to `merge or join` two DataFrames. For example, one DataFrame may contain stock prices and another DataFrame may contain bond prices. Pandas makes it easy to resample data. For example, a DataFrame of daily data can be converted to weekly data with the `resample` method\n",
    "\n",
    "<img src=\"p-2.jpg\" style=\"max-width:500px\">\n",
    "\n",
    "Often, you will want to convert prices to returns, which you can do with the `pct_change` method. Or if you want differences, you can use the `diff` method. You can compute the `correlation` of two series using the `corr` method, and the `autocorrelation` using the `autocorr` method."
   ]
  },
  {
   "cell_type": "code",
   "execution_count": null,
   "id": "ee2eefb3",
   "metadata": {},
   "outputs": [],
   "source": []
  },
  {
   "cell_type": "code",
   "execution_count": 1,
   "id": "f1ec3df5",
   "metadata": {},
   "outputs": [],
   "source": [
    "import pandas as pd\n",
    "import matplotlib.pyplot as plt"
   ]
  },
  {
   "cell_type": "code",
   "execution_count": 2,
   "id": "c620f39b",
   "metadata": {},
   "outputs": [
    {
     "data": {
      "text/html": [
       "<div>\n",
       "<style scoped>\n",
       "    .dataframe tbody tr th:only-of-type {\n",
       "        vertical-align: middle;\n",
       "    }\n",
       "\n",
       "    .dataframe tbody tr th {\n",
       "        vertical-align: top;\n",
       "    }\n",
       "\n",
       "    .dataframe thead th {\n",
       "        text-align: right;\n",
       "    }\n",
       "</style>\n",
       "<table border=\"1\" class=\"dataframe\">\n",
       "  <thead>\n",
       "    <tr style=\"text-align: right;\">\n",
       "      <th></th>\n",
       "      <th>Date</th>\n",
       "      <th>diet</th>\n",
       "    </tr>\n",
       "  </thead>\n",
       "  <tbody>\n",
       "    <tr>\n",
       "      <th>0</th>\n",
       "      <td>6/26/2011</td>\n",
       "      <td>70</td>\n",
       "    </tr>\n",
       "    <tr>\n",
       "      <th>1</th>\n",
       "      <td>7/3/2011</td>\n",
       "      <td>71</td>\n",
       "    </tr>\n",
       "    <tr>\n",
       "      <th>2</th>\n",
       "      <td>7/10/2011</td>\n",
       "      <td>73</td>\n",
       "    </tr>\n",
       "    <tr>\n",
       "      <th>3</th>\n",
       "      <td>7/17/2011</td>\n",
       "      <td>74</td>\n",
       "    </tr>\n",
       "    <tr>\n",
       "      <th>4</th>\n",
       "      <td>7/24/2011</td>\n",
       "      <td>72</td>\n",
       "    </tr>\n",
       "  </tbody>\n",
       "</table>\n",
       "</div>"
      ],
      "text/plain": [
       "        Date  diet\n",
       "0  6/26/2011    70\n",
       "1   7/3/2011    71\n",
       "2  7/10/2011    73\n",
       "3  7/17/2011    74\n",
       "4  7/24/2011    72"
      ]
     },
     "execution_count": 2,
     "metadata": {},
     "output_type": "execute_result"
    }
   ],
   "source": [
    "diet = pd.read_csv(\"diet.csv\")\n",
    "diet.head()"
   ]
  },
  {
   "cell_type": "code",
   "execution_count": 3,
   "id": "9d059983",
   "metadata": {},
   "outputs": [
    {
     "data": {
      "text/html": [
       "<div>\n",
       "<style scoped>\n",
       "    .dataframe tbody tr th:only-of-type {\n",
       "        vertical-align: middle;\n",
       "    }\n",
       "\n",
       "    .dataframe tbody tr th {\n",
       "        vertical-align: top;\n",
       "    }\n",
       "\n",
       "    .dataframe thead th {\n",
       "        text-align: right;\n",
       "    }\n",
       "</style>\n",
       "<table border=\"1\" class=\"dataframe\">\n",
       "  <thead>\n",
       "    <tr style=\"text-align: right;\">\n",
       "      <th></th>\n",
       "      <th>diet</th>\n",
       "    </tr>\n",
       "    <tr>\n",
       "      <th>Date</th>\n",
       "      <th></th>\n",
       "    </tr>\n",
       "  </thead>\n",
       "  <tbody>\n",
       "    <tr>\n",
       "      <th>6/26/2011</th>\n",
       "      <td>70</td>\n",
       "    </tr>\n",
       "    <tr>\n",
       "      <th>7/3/2011</th>\n",
       "      <td>71</td>\n",
       "    </tr>\n",
       "    <tr>\n",
       "      <th>7/10/2011</th>\n",
       "      <td>73</td>\n",
       "    </tr>\n",
       "    <tr>\n",
       "      <th>7/17/2011</th>\n",
       "      <td>74</td>\n",
       "    </tr>\n",
       "    <tr>\n",
       "      <th>7/24/2011</th>\n",
       "      <td>72</td>\n",
       "    </tr>\n",
       "  </tbody>\n",
       "</table>\n",
       "</div>"
      ],
      "text/plain": [
       "           diet\n",
       "Date           \n",
       "6/26/2011    70\n",
       "7/3/2011     71\n",
       "7/10/2011    73\n",
       "7/17/2011    74\n",
       "7/24/2011    72"
      ]
     },
     "execution_count": 3,
     "metadata": {},
     "output_type": "execute_result"
    }
   ],
   "source": [
    "diet = diet.set_index(\"Date\")\n",
    "diet.head()"
   ]
  },
  {
   "cell_type": "markdown",
   "id": "9d860086",
   "metadata": {},
   "source": [
    "## Exercise 1: A \"Thin\" Application of Time Series\n",
    "\n",
    "Google Trends allows users to see how often a term is searched for. We downloaded a file from Google Trends containing the frequency over time for the search word `\"diet\"`, which is pre-loaded in a DataFrame called `diet`. \n",
    "\n",
    "A first step when analyzing a time series is to `visualize` the data with a plot. You should be able to clearly see a gradual decrease in searches for \"diet\" throughout the calendar year, hitting a low around the December holidays, followed by a spike in searches around the new year as people make New Year's resolutions to lose weight.\n",
    "\n",
    "`Like many time series datasets you will be working with, the index of dates are strings and should be converted to a datetime index before plotting`.\n",
    "\n",
    "- Convert the date index to datetime using pandas's to_datetime()\n",
    "\n",
    "\n",
    "- Plot the time series and set the argument grid to True to better see the year-ends.\n",
    "\n",
    "\n",
    "- Slice the diet dataset to keep only values from 2012, assigning to diet2012. Plot the diet2012, again creating gridlines with the grid argument."
   ]
  },
  {
   "cell_type": "code",
   "execution_count": 4,
   "id": "226906b9",
   "metadata": {
    "scrolled": true
   },
   "outputs": [
    {
     "data": {
      "text/html": [
       "<div>\n",
       "<style scoped>\n",
       "    .dataframe tbody tr th:only-of-type {\n",
       "        vertical-align: middle;\n",
       "    }\n",
       "\n",
       "    .dataframe tbody tr th {\n",
       "        vertical-align: top;\n",
       "    }\n",
       "\n",
       "    .dataframe thead th {\n",
       "        text-align: right;\n",
       "    }\n",
       "</style>\n",
       "<table border=\"1\" class=\"dataframe\">\n",
       "  <thead>\n",
       "    <tr style=\"text-align: right;\">\n",
       "      <th></th>\n",
       "      <th>diet</th>\n",
       "    </tr>\n",
       "    <tr>\n",
       "      <th>Date</th>\n",
       "      <th></th>\n",
       "    </tr>\n",
       "  </thead>\n",
       "  <tbody>\n",
       "    <tr>\n",
       "      <th>6/26/2011</th>\n",
       "      <td>70</td>\n",
       "    </tr>\n",
       "    <tr>\n",
       "      <th>7/3/2011</th>\n",
       "      <td>71</td>\n",
       "    </tr>\n",
       "    <tr>\n",
       "      <th>7/10/2011</th>\n",
       "      <td>73</td>\n",
       "    </tr>\n",
       "    <tr>\n",
       "      <th>7/17/2011</th>\n",
       "      <td>74</td>\n",
       "    </tr>\n",
       "    <tr>\n",
       "      <th>7/24/2011</th>\n",
       "      <td>72</td>\n",
       "    </tr>\n",
       "    <tr>\n",
       "      <th>...</th>\n",
       "      <td>...</td>\n",
       "    </tr>\n",
       "    <tr>\n",
       "      <th>5/22/2016</th>\n",
       "      <td>62</td>\n",
       "    </tr>\n",
       "    <tr>\n",
       "      <th>5/29/2016</th>\n",
       "      <td>62</td>\n",
       "    </tr>\n",
       "    <tr>\n",
       "      <th>6/5/2016</th>\n",
       "      <td>62</td>\n",
       "    </tr>\n",
       "    <tr>\n",
       "      <th>6/12/2016</th>\n",
       "      <td>58</td>\n",
       "    </tr>\n",
       "    <tr>\n",
       "      <th>6/19/2016</th>\n",
       "      <td>58</td>\n",
       "    </tr>\n",
       "  </tbody>\n",
       "</table>\n",
       "<p>261 rows × 1 columns</p>\n",
       "</div>"
      ],
      "text/plain": [
       "           diet\n",
       "Date           \n",
       "6/26/2011    70\n",
       "7/3/2011     71\n",
       "7/10/2011    73\n",
       "7/17/2011    74\n",
       "7/24/2011    72\n",
       "...         ...\n",
       "5/22/2016    62\n",
       "5/29/2016    62\n",
       "6/5/2016     62\n",
       "6/12/2016    58\n",
       "6/19/2016    58\n",
       "\n",
       "[261 rows x 1 columns]"
      ]
     },
     "execution_count": 4,
     "metadata": {},
     "output_type": "execute_result"
    }
   ],
   "source": [
    "diet"
   ]
  },
  {
   "cell_type": "code",
   "execution_count": 5,
   "id": "87e768cf",
   "metadata": {},
   "outputs": [
    {
     "data": {
      "text/plain": [
       "Index(['6/26/2011', '7/3/2011', '7/10/2011', '7/17/2011', '7/24/2011',\n",
       "       '7/31/2011', '8/7/2011', '8/14/2011', '8/21/2011', '8/28/2011',\n",
       "       ...\n",
       "       '4/17/2016', '4/24/2016', '5/1/2016', '5/8/2016', '5/15/2016',\n",
       "       '5/22/2016', '5/29/2016', '6/5/2016', '6/12/2016', '6/19/2016'],\n",
       "      dtype='object', name='Date', length=261)"
      ]
     },
     "execution_count": 5,
     "metadata": {},
     "output_type": "execute_result"
    }
   ],
   "source": [
    "diet.index"
   ]
  },
  {
   "cell_type": "code",
   "execution_count": 6,
   "id": "f0399666",
   "metadata": {},
   "outputs": [
    {
     "data": {
      "text/plain": [
       "DatetimeIndex(['2011-06-26', '2011-07-03', '2011-07-10', '2011-07-17',\n",
       "               '2011-07-24', '2011-07-31', '2011-08-07', '2011-08-14',\n",
       "               '2011-08-21', '2011-08-28',\n",
       "               ...\n",
       "               '2016-04-17', '2016-04-24', '2016-05-01', '2016-05-08',\n",
       "               '2016-05-15', '2016-05-22', '2016-05-29', '2016-06-05',\n",
       "               '2016-06-12', '2016-06-19'],\n",
       "              dtype='datetime64[ns]', name='Date', length=261, freq=None)"
      ]
     },
     "execution_count": 6,
     "metadata": {},
     "output_type": "execute_result"
    }
   ],
   "source": [
    "## q1\n",
    "diet.index = pd.to_datetime(diet.index)\n",
    "diet.index"
   ]
  },
  {
   "cell_type": "code",
   "execution_count": 7,
   "id": "288bac43",
   "metadata": {
    "scrolled": true
   },
   "outputs": [
    {
     "data": {
      "text/plain": [
       "<Figure size 2000x800 with 0 Axes>"
      ]
     },
     "metadata": {},
     "output_type": "display_data"
    },
    {
     "data": {
      "image/png": "[encoded data removed]",
      "text/plain": [
       "<Figure size 432x288 with 1 Axes>"
      ]
     },
     "metadata": {
      "needs_background": "light"
     },
     "output_type": "display_data"
    }
   ],
   "source": [
    "## q2: Plot the entire time series diet and show gridlines\n",
    "plt.figure(figsize=(10,4), dpi=200)\n",
    "diet.plot(grid=True)\n",
    "plt.show()"
   ]
  },
  {
   "cell_type": "code",
   "execution_count": 10,
   "id": "816adf12",
   "metadata": {
    "scrolled": true
   },
   "outputs": [
    {
     "data": {
      "text/plain": [
       "<Figure size 2000x800 with 0 Axes>"
      ]
     },
     "metadata": {},
     "output_type": "display_data"
    },
    {
     "data": {
      "image/png": "[encoded data removed]",
      "text/plain": [
       "<Figure size 432x288 with 1 Axes>"
      ]
     },
     "metadata": {
      "needs_background": "light"
     },
     "output_type": "display_data"
    }
   ],
   "source": [
    "## q3: Slice the dataset to keep only 2012. Plot 2012 data\n",
    "diet2012 = diet.loc['2012']\n",
    "#print(diet2012)\n",
    "\n",
    "plt.figure(figsize=(10,4), dpi=200)\n",
    "diet2012.plot(grid=True)\n",
    "plt.show()"
   ]
  },
  {
   "cell_type": "code",
   "execution_count": 12,
   "id": "044ee689",
   "metadata": {},
   "outputs": [],
   "source": []
  },
  {
   "cell_type": "code",
   "execution_count": 39,
   "id": "4ac2fa1e",
   "metadata": {},
   "outputs": [
    {
     "data": {
      "text/html": [
       "<div>\n",
       "<style scoped>\n",
       "    .dataframe tbody tr th:only-of-type {\n",
       "        vertical-align: middle;\n",
       "    }\n",
       "\n",
       "    .dataframe tbody tr th {\n",
       "        vertical-align: top;\n",
       "    }\n",
       "\n",
       "    .dataframe thead th {\n",
       "        text-align: right;\n",
       "    }\n",
       "</style>\n",
       "<table border=\"1\" class=\"dataframe\">\n",
       "  <thead>\n",
       "    <tr style=\"text-align: right;\">\n",
       "      <th></th>\n",
       "      <th>SP500</th>\n",
       "    </tr>\n",
       "    <tr>\n",
       "      <th>observation_date</th>\n",
       "      <th></th>\n",
       "    </tr>\n",
       "  </thead>\n",
       "  <tbody>\n",
       "    <tr>\n",
       "      <th>2007-06-11</th>\n",
       "      <td>1509.12</td>\n",
       "    </tr>\n",
       "    <tr>\n",
       "      <th>2007-06-12</th>\n",
       "      <td>1493.00</td>\n",
       "    </tr>\n",
       "    <tr>\n",
       "      <th>2007-06-13</th>\n",
       "      <td>1515.67</td>\n",
       "    </tr>\n",
       "    <tr>\n",
       "      <th>2007-06-14</th>\n",
       "      <td>1522.97</td>\n",
       "    </tr>\n",
       "    <tr>\n",
       "      <th>2007-06-15</th>\n",
       "      <td>1532.91</td>\n",
       "    </tr>\n",
       "  </tbody>\n",
       "</table>\n",
       "</div>"
      ],
      "text/plain": [
       "                    SP500\n",
       "observation_date         \n",
       "2007-06-11        1509.12\n",
       "2007-06-12        1493.00\n",
       "2007-06-13        1515.67\n",
       "2007-06-14        1522.97\n",
       "2007-06-15        1532.91"
      ]
     },
     "execution_count": 39,
     "metadata": {},
     "output_type": "execute_result"
    }
   ],
   "source": [
    "Stocks = pd.read_csv(\"Stocks.csv\")\n",
    "Stocks = Stocks.set_index(\"observation_date\")\n",
    "Stocks.head()"
   ]
  },
  {
   "cell_type": "code",
   "execution_count": 40,
   "id": "44df03ae",
   "metadata": {},
   "outputs": [
    {
     "data": {
      "text/html": [
       "<div>\n",
       "<style scoped>\n",
       "    .dataframe tbody tr th:only-of-type {\n",
       "        vertical-align: middle;\n",
       "    }\n",
       "\n",
       "    .dataframe tbody tr th {\n",
       "        vertical-align: top;\n",
       "    }\n",
       "\n",
       "    .dataframe thead th {\n",
       "        text-align: right;\n",
       "    }\n",
       "</style>\n",
       "<table border=\"1\" class=\"dataframe\">\n",
       "  <thead>\n",
       "    <tr style=\"text-align: right;\">\n",
       "      <th></th>\n",
       "      <th>US10Y</th>\n",
       "    </tr>\n",
       "    <tr>\n",
       "      <th>observation_date</th>\n",
       "      <th></th>\n",
       "    </tr>\n",
       "  </thead>\n",
       "  <tbody>\n",
       "    <tr>\n",
       "      <th>2007-06-08</th>\n",
       "      <td>5.12</td>\n",
       "    </tr>\n",
       "    <tr>\n",
       "      <th>2007-06-11</th>\n",
       "      <td>5.14</td>\n",
       "    </tr>\n",
       "    <tr>\n",
       "      <th>2007-06-12</th>\n",
       "      <td>5.26</td>\n",
       "    </tr>\n",
       "    <tr>\n",
       "      <th>2007-06-13</th>\n",
       "      <td>5.20</td>\n",
       "    </tr>\n",
       "    <tr>\n",
       "      <th>2007-06-14</th>\n",
       "      <td>5.23</td>\n",
       "    </tr>\n",
       "  </tbody>\n",
       "</table>\n",
       "</div>"
      ],
      "text/plain": [
       "                  US10Y\n",
       "observation_date       \n",
       "2007-06-08         5.12\n",
       "2007-06-11         5.14\n",
       "2007-06-12         5.26\n",
       "2007-06-13         5.20\n",
       "2007-06-14         5.23"
      ]
     },
     "execution_count": 40,
     "metadata": {},
     "output_type": "execute_result"
    }
   ],
   "source": [
    "Bonds = pd.read_csv(\"Bonds.csv\")\n",
    "Bonds = Bonds.set_index(\"observation_date\")\n",
    "Bonds.head()"
   ]
  },
  {
   "cell_type": "markdown",
   "id": "b4a4ed1d",
   "metadata": {},
   "source": [
    "## Exercise 2: Merging Time Series With Different Dates\n",
    "\n",
    "`Stock` and `bond` markets in the U.S. are `closed` on `different days`. For example, although the bond market is closed on Columbus Day (around Oct 12) and Veterans Day (around Nov 11), the stock market is open on those days. \n",
    "\n",
    "One way to see the dates that the stock market is open and the bond market is closed is to `convert` both `indexes` of `dates` into `sets` and take the `difference` in sets.\n",
    "\n",
    "The pandas `.join()` method is a convenient tool to `merge` the `stock and bond` DataFrames on dates when both markets are `open`.\n",
    "\n",
    "Stock prices and 10-year US Government bond yields, which were downloaded from FRED, are pre-loaded in DataFrames stocks and bonds.\n",
    "\n",
    "- Convert the dates in the stocks.index and bonds.index into sets.\n",
    "\n",
    "\n",
    "- Take the difference of the stock set minus the bond set to get those dates where the stock market has data but the bond market does not.\n",
    "\n",
    "\n",
    "- Merge the two DataFrames into a new DataFrame, stocks_and_bonds using the .join() method, which has the syntax df1.join(df2). To get the intersection of dates, use the argument how='inner'."
   ]
  },
  {
   "cell_type": "code",
   "execution_count": 41,
   "id": "f7e3fa10",
   "metadata": {},
   "outputs": [
    {
     "name": "stdout",
     "output_type": "stream",
     "text": [
      "Total closed days for Stock and Bond market from 2008-17 are 21 days \n",
      "\n",
      "{'2008-10-13', '2015-11-11', '2007-10-08', '2008-11-11', '2011-11-11', '2013-10-14', '2012-10-08', '2010-11-11', '2014-10-13', '2013-11-11', '2016-11-11', '2012-11-12', '2009-11-11', '2010-10-11', '2014-11-11', '2011-10-10', '2007-11-12', '2009-10-12', '2016-10-10', '2017-06-09', '2015-10-12'}\n"
     ]
    }
   ],
   "source": [
    "# Convert the stock index and bond index into sets\n",
    "set_stock_dates = set(Stocks.index)\n",
    "set_bond_dates = set(Bonds.index)\n",
    "\n",
    "# Take the difference between the sets and print\n",
    "print(f'Total closed days for Stock and Bond market from 2008-17 are {len(set_stock_dates - set_bond_dates)} days \\n')\n",
    "print(set_stock_dates - set_bond_dates)"
   ]
  },
  {
   "cell_type": "code",
   "execution_count": 42,
   "id": "10171067",
   "metadata": {},
   "outputs": [
    {
     "name": "stdout",
     "output_type": "stream",
     "text": [
      "Total common opening days for Stock and Bond market from 2008-17 are 2498 days \n",
      "\n",
      "                    SP500  US10Y\n",
      "observation_date                \n",
      "2007-06-11        1509.12   5.14\n",
      "2007-06-12        1493.00   5.26\n",
      "2007-06-13        1515.67   5.20\n",
      "2007-06-14        1522.97   5.23\n",
      "2007-06-15        1532.91   5.16\n",
      "...                   ...    ...\n",
      "2017-06-02        2439.07   2.15\n",
      "2017-06-05        2436.10   2.18\n",
      "2017-06-06        2429.33   2.14\n",
      "2017-06-07        2433.14   2.18\n",
      "2017-06-08        2433.79   2.19\n",
      "\n",
      "[2498 rows x 2 columns]\n"
     ]
    }
   ],
   "source": [
    "# Merge stocks and bonds DataFrames using join()\n",
    "stocks_and_bonds = Stocks.join(Bonds, how = 'inner')\n",
    "print(f'Total common opening days for Stock and Bond market from 2008-17 are {len(stocks_and_bonds)} days \\n')\n",
    "print(stocks_and_bonds)"
   ]
  },
  {
   "cell_type": "code",
   "execution_count": null,
   "id": "30fe23db",
   "metadata": {},
   "outputs": [],
   "source": []
  },
  {
   "cell_type": "markdown",
   "id": "42d4a7e5",
   "metadata": {},
   "source": [
    "### Correlation of Two Time Series\n",
    "\n",
    "Often, two time series vary together. Here is a plot of the stock prices of JP Morgan and the S&P500. \n",
    "\n",
    "<img src=\"c.jpg\" style=\"max-width:500px\">\n",
    "\n",
    "You can see from this plot that, in general, when the market drops, JP Morgan drops as well, and when the market rises, JP Morgan also rises.\n",
    "\n",
    "<img src=\"c-1.jpg\" style=\"max-width:500px\">\n",
    "\n",
    "A scatter plot of the returns of JP Morgan and the returns of the market help to visualize the relationship between the two time series. The correlation coefficient is a measure of how much two series vary together. \n",
    "\n",
    "<img src=\"c-2.jpg\" style=\"max-width:500px\">\n",
    "\n",
    "\n",
    "- A correlation of one means that the two series have a perfect linear relationship with no deviations. \n",
    "\n",
    "- High correlations mean that the two series strongly vary together. \n",
    "\n",
    "- A low correlation means they vary together, but there is a weak association.\n",
    "\n",
    "- And a high negative correlation means they vary in opposite directions, but still with a linear relationship.\n",
    "\n",
    "\n",
    "\n",
    "### Common Mistake: Correlation of Two Trending Series\n",
    "\n",
    "Consider two time series that are both trending. Even if the two series are totally unrelated, you could still get a very high correlation. That's why, when you look at the correlation of say, two stocks, you should look at the correlation of their `*returns*`, `not` their `levels`. \n",
    "\n",
    "<img src=\"c-3.jpg\" style=\"max-width:500px\">\n",
    "\n",
    "In this example, the two series, `stock prices` and `UFO sightings`, both trend up over time. Of course, there is `no relationship` between those two series, but the correlation is `0.94`. If you compute the `correlation of percent changes`, the correlation goes down to `approximately zero`.\n",
    "\n",
    "\n",
    "###  Example: Correlation of Large Cap and Small Cap Stocks\n",
    "\n",
    "Now you'll see how to compute the correlation of two financial time series, the S&P500 index of large cap stocks and the Russell 2000 index of small cap stocks, using the pandas correlation method. \n",
    "\n",
    "- First compute the percent changes using the pct_change method. This gives the returns of these series instead of prices. You can also visualize the correlation with a scatter plot.\n",
    "\n",
    "\n",
    "<img src=\"c-4.jpg\" style=\"max-width:500px\">\n",
    "\n",
    "<img src=\"c-5.jpg\" style=\"max-width:500px\">\n",
    "\n",
    "\n",
    "- Then, use the pandas correlation method for Series. The correlation between large cap and small cap stocks is very high: 0.868\n",
    "\n",
    "<img src=\"c-6.jpg\" style=\"max-width:500px\">\n"
   ]
  },
  {
   "cell_type": "code",
   "execution_count": null,
   "id": "2c8a5c05",
   "metadata": {},
   "outputs": [],
   "source": []
  },
  {
   "cell_type": "code",
   "execution_count": 43,
   "id": "a877b812",
   "metadata": {
    "scrolled": true
   },
   "outputs": [
    {
     "data": {
      "text/html": [
       "<div>\n",
       "<style scoped>\n",
       "    .dataframe tbody tr th:only-of-type {\n",
       "        vertical-align: middle;\n",
       "    }\n",
       "\n",
       "    .dataframe tbody tr th {\n",
       "        vertical-align: top;\n",
       "    }\n",
       "\n",
       "    .dataframe thead th {\n",
       "        text-align: right;\n",
       "    }\n",
       "</style>\n",
       "<table border=\"1\" class=\"dataframe\">\n",
       "  <thead>\n",
       "    <tr style=\"text-align: right;\">\n",
       "      <th></th>\n",
       "      <th>SP500</th>\n",
       "      <th>US10Y</th>\n",
       "    </tr>\n",
       "    <tr>\n",
       "      <th>observation_date</th>\n",
       "      <th></th>\n",
       "      <th></th>\n",
       "    </tr>\n",
       "  </thead>\n",
       "  <tbody>\n",
       "    <tr>\n",
       "      <th>2007-06-11</th>\n",
       "      <td>1509.12</td>\n",
       "      <td>5.14</td>\n",
       "    </tr>\n",
       "    <tr>\n",
       "      <th>2007-06-12</th>\n",
       "      <td>1493.00</td>\n",
       "      <td>5.26</td>\n",
       "    </tr>\n",
       "    <tr>\n",
       "      <th>2007-06-13</th>\n",
       "      <td>1515.67</td>\n",
       "      <td>5.20</td>\n",
       "    </tr>\n",
       "    <tr>\n",
       "      <th>2007-06-14</th>\n",
       "      <td>1522.97</td>\n",
       "      <td>5.23</td>\n",
       "    </tr>\n",
       "    <tr>\n",
       "      <th>2007-06-15</th>\n",
       "      <td>1532.91</td>\n",
       "      <td>5.16</td>\n",
       "    </tr>\n",
       "  </tbody>\n",
       "</table>\n",
       "</div>"
      ],
      "text/plain": [
       "                    SP500  US10Y\n",
       "observation_date                \n",
       "2007-06-11        1509.12   5.14\n",
       "2007-06-12        1493.00   5.26\n",
       "2007-06-13        1515.67   5.20\n",
       "2007-06-14        1522.97   5.23\n",
       "2007-06-15        1532.91   5.16"
      ]
     },
     "execution_count": 43,
     "metadata": {},
     "output_type": "execute_result"
    }
   ],
   "source": [
    "stocks_and_bonds.head()"
   ]
  },
  {
   "cell_type": "markdown",
   "id": "57228536",
   "metadata": {},
   "source": [
    "## Exercise 3: Correlation of Stocks and Bonds\n",
    "\n",
    "`Investors` are often `interested` in the `correlation between the returns` of two different assets for `asset allocation` and `hedging purposes`. \n",
    "\n",
    "In this exercise, you'll try to answer the question of whether `stocks` are `positively or negatively correlated` with `bonds`. Scatter plots are also useful for visualizing the correlation between the two variables.\n",
    "\n",
    "Keep in mind that you should compute the correlations on the `percentage changes` rather than the `levels`.\n",
    "\n",
    "Stock prices and 10-year bond yields are combined in a DataFrame called `stocks_and_bonds` under columns `SP500` and `US10Y`\n",
    "\n",
    "\n",
    "- Compute percent changes on the `stocks_and_bonds` DataFrame using the `.pct_change()` method and call the new DataFrame `returns`.\n",
    "\n",
    "\n",
    "- `Compute the correlation` of the columns `SP500 and US10Y` in the `returns` DataFrame using the `.corr()` method for Series which has the syntax `series1.corr(series2)`.\n",
    "\n",
    "\n",
    "- Show a scatter plot of the `percentage change` in `stock` and `bond` yields."
   ]
  },
  {
   "cell_type": "code",
   "execution_count": 44,
   "id": "c8689256",
   "metadata": {},
   "outputs": [
    {
     "data": {
      "text/html": [
       "<div>\n",
       "<style scoped>\n",
       "    .dataframe tbody tr th:only-of-type {\n",
       "        vertical-align: middle;\n",
       "    }\n",
       "\n",
       "    .dataframe tbody tr th {\n",
       "        vertical-align: top;\n",
       "    }\n",
       "\n",
       "    .dataframe thead th {\n",
       "        text-align: right;\n",
       "    }\n",
       "</style>\n",
       "<table border=\"1\" class=\"dataframe\">\n",
       "  <thead>\n",
       "    <tr style=\"text-align: right;\">\n",
       "      <th></th>\n",
       "      <th>SP500</th>\n",
       "      <th>US10Y</th>\n",
       "    </tr>\n",
       "    <tr>\n",
       "      <th>observation_date</th>\n",
       "      <th></th>\n",
       "      <th></th>\n",
       "    </tr>\n",
       "  </thead>\n",
       "  <tbody>\n",
       "    <tr>\n",
       "      <th>2007-06-11</th>\n",
       "      <td>NaN</td>\n",
       "      <td>NaN</td>\n",
       "    </tr>\n",
       "    <tr>\n",
       "      <th>2007-06-12</th>\n",
       "      <td>-0.010682</td>\n",
       "      <td>0.023346</td>\n",
       "    </tr>\n",
       "    <tr>\n",
       "      <th>2007-06-13</th>\n",
       "      <td>0.015184</td>\n",
       "      <td>-0.011407</td>\n",
       "    </tr>\n",
       "    <tr>\n",
       "      <th>2007-06-14</th>\n",
       "      <td>0.004816</td>\n",
       "      <td>0.005769</td>\n",
       "    </tr>\n",
       "    <tr>\n",
       "      <th>2007-06-15</th>\n",
       "      <td>0.006527</td>\n",
       "      <td>-0.013384</td>\n",
       "    </tr>\n",
       "    <tr>\n",
       "      <th>...</th>\n",
       "      <td>...</td>\n",
       "      <td>...</td>\n",
       "    </tr>\n",
       "    <tr>\n",
       "      <th>2017-06-02</th>\n",
       "      <td>0.003708</td>\n",
       "      <td>-0.027149</td>\n",
       "    </tr>\n",
       "    <tr>\n",
       "      <th>2017-06-05</th>\n",
       "      <td>-0.001218</td>\n",
       "      <td>0.013953</td>\n",
       "    </tr>\n",
       "    <tr>\n",
       "      <th>2017-06-06</th>\n",
       "      <td>-0.002779</td>\n",
       "      <td>-0.018349</td>\n",
       "    </tr>\n",
       "    <tr>\n",
       "      <th>2017-06-07</th>\n",
       "      <td>0.001568</td>\n",
       "      <td>0.018692</td>\n",
       "    </tr>\n",
       "    <tr>\n",
       "      <th>2017-06-08</th>\n",
       "      <td>0.000267</td>\n",
       "      <td>0.004587</td>\n",
       "    </tr>\n",
       "  </tbody>\n",
       "</table>\n",
       "<p>2498 rows × 2 columns</p>\n",
       "</div>"
      ],
      "text/plain": [
       "                     SP500     US10Y\n",
       "observation_date                    \n",
       "2007-06-11             NaN       NaN\n",
       "2007-06-12       -0.010682  0.023346\n",
       "2007-06-13        0.015184 -0.011407\n",
       "2007-06-14        0.004816  0.005769\n",
       "2007-06-15        0.006527 -0.013384\n",
       "...                    ...       ...\n",
       "2017-06-02        0.003708 -0.027149\n",
       "2017-06-05       -0.001218  0.013953\n",
       "2017-06-06       -0.002779 -0.018349\n",
       "2017-06-07        0.001568  0.018692\n",
       "2017-06-08        0.000267  0.004587\n",
       "\n",
       "[2498 rows x 2 columns]"
      ]
     },
     "execution_count": 44,
     "metadata": {},
     "output_type": "execute_result"
    }
   ],
   "source": [
    "returns = stocks_and_bonds.pct_change()\n",
    "returns"
   ]
  },
  {
   "cell_type": "code",
   "execution_count": 45,
   "id": "725607ca",
   "metadata": {},
   "outputs": [
    {
     "name": "stdout",
     "output_type": "stream",
     "text": [
      "Correlation of stocks and interest rates:  0.4119448886249272\n"
     ]
    }
   ],
   "source": [
    "correlation = returns['SP500'].corr(returns[\"US10Y\"])\n",
    "print(\"Correlation of stocks and interest rates: \", correlation)"
   ]
  },
  {
   "cell_type": "code",
   "execution_count": 46,
   "id": "7460829a",
   "metadata": {},
   "outputs": [],
   "source": [
    "import matplotlib.pyplot as plt"
   ]
  },
  {
   "cell_type": "code",
   "execution_count": 47,
   "id": "7917fdd1",
   "metadata": {},
   "outputs": [
    {
     "data": {
      "image/png": "[encoded data removed]",
      "text/plain": [
       "<Figure size 1000x400 with 1 Axes>"
      ]
     },
     "metadata": {
      "needs_background": "light"
     },
     "output_type": "display_data"
    }
   ],
   "source": [
    "plt.figure(figsize=(10,4), dpi=100)\n",
    "plt.scatter(returns['SP500'], returns[\"US10Y\"])\n",
    "plt.show()"
   ]
  },
  {
   "cell_type": "code",
   "execution_count": null,
   "id": "ad31eff3",
   "metadata": {},
   "outputs": [],
   "source": []
  },
  {
   "cell_type": "code",
   "execution_count": 49,
   "id": "909b2583",
   "metadata": {},
   "outputs": [
    {
     "data": {
      "text/html": [
       "<div>\n",
       "<style scoped>\n",
       "    .dataframe tbody tr th:only-of-type {\n",
       "        vertical-align: middle;\n",
       "    }\n",
       "\n",
       "    .dataframe tbody tr th {\n",
       "        vertical-align: top;\n",
       "    }\n",
       "\n",
       "    .dataframe thead th {\n",
       "        text-align: right;\n",
       "    }\n",
       "</style>\n",
       "<table border=\"1\" class=\"dataframe\">\n",
       "  <thead>\n",
       "    <tr style=\"text-align: right;\">\n",
       "      <th></th>\n",
       "      <th>DJI</th>\n",
       "      <th>UFO</th>\n",
       "    </tr>\n",
       "    <tr>\n",
       "      <th>Date</th>\n",
       "      <th></th>\n",
       "      <th></th>\n",
       "    </tr>\n",
       "  </thead>\n",
       "  <tbody>\n",
       "    <tr>\n",
       "      <th>1941</th>\n",
       "      <td>110.96</td>\n",
       "      <td>1</td>\n",
       "    </tr>\n",
       "    <tr>\n",
       "      <th>1942</th>\n",
       "      <td>119.40</td>\n",
       "      <td>2</td>\n",
       "    </tr>\n",
       "    <tr>\n",
       "      <th>1943</th>\n",
       "      <td>135.89</td>\n",
       "      <td>9</td>\n",
       "    </tr>\n",
       "    <tr>\n",
       "      <th>1944</th>\n",
       "      <td>152.32</td>\n",
       "      <td>9</td>\n",
       "    </tr>\n",
       "    <tr>\n",
       "      <th>1945</th>\n",
       "      <td>192.91</td>\n",
       "      <td>9</td>\n",
       "    </tr>\n",
       "    <tr>\n",
       "      <th>...</th>\n",
       "      <td>...</td>\n",
       "      <td>...</td>\n",
       "    </tr>\n",
       "    <tr>\n",
       "      <th>2009</th>\n",
       "      <td>10428.05</td>\n",
       "      <td>4541</td>\n",
       "    </tr>\n",
       "    <tr>\n",
       "      <th>2010</th>\n",
       "      <td>11577.51</td>\n",
       "      <td>4283</td>\n",
       "    </tr>\n",
       "    <tr>\n",
       "      <th>2011</th>\n",
       "      <td>12217.56</td>\n",
       "      <td>5107</td>\n",
       "    </tr>\n",
       "    <tr>\n",
       "      <th>2012</th>\n",
       "      <td>13104.14</td>\n",
       "      <td>7357</td>\n",
       "    </tr>\n",
       "    <tr>\n",
       "      <th>2013</th>\n",
       "      <td>16576.66</td>\n",
       "      <td>7037</td>\n",
       "    </tr>\n",
       "  </tbody>\n",
       "</table>\n",
       "<p>73 rows × 2 columns</p>\n",
       "</div>"
      ],
      "text/plain": [
       "           DJI   UFO\n",
       "Date                \n",
       "1941    110.96     1\n",
       "1942    119.40     2\n",
       "1943    135.89     9\n",
       "1944    152.32     9\n",
       "1945    192.91     9\n",
       "...        ...   ...\n",
       "2009  10428.05  4541\n",
       "2010  11577.51  4283\n",
       "2011  12217.56  5107\n",
       "2012  13104.14  7357\n",
       "2013  16576.66  7037\n",
       "\n",
       "[73 rows x 2 columns]"
      ]
     },
     "execution_count": 49,
     "metadata": {},
     "output_type": "execute_result"
    }
   ],
   "source": [
    "levels  = pd.read_csv(\"levels.csv\")\n",
    "levels = levels.set_index(\"Date\")\n",
    "levels"
   ]
  },
  {
   "cell_type": "code",
   "execution_count": null,
   "id": "9a62594a",
   "metadata": {},
   "outputs": [],
   "source": []
  },
  {
   "cell_type": "markdown",
   "id": "e2c737a5",
   "metadata": {},
   "source": [
    "## Exercise 4: Flying Saucers Aren't Correlated to Flying Markets\n",
    "\n",
    "Two trending series may show a strong correlation even if they are completely unrelated. This is referred to as \"spurious correlation\". That's why when you look at the correlation of say, two stocks, you should look at the correlation of their returns and not their levels.\n",
    "\n",
    "To illustrate this point, calculate the correlation between the levels of the stock market and the annual sightings of UFOs. Both of those time series have trended up over the last several decades, and the correlation of their levels is very high.\n",
    "\n",
    "Then calculate the correlation of their percent changes. This will be close to zero, since there is no relationship between those two series.\n",
    "\n",
    "The DataFrame `levels` contains the levels of `DJI` and `UFO`.\n",
    "\n",
    "- Calculate the correlation of the columns DJI and UFO.\n",
    "\n",
    "\n",
    "- Create a new DataFrame of changes using the .pct_change() method.\n",
    "\n",
    "\n",
    "- Re-calculate the correlation of the columns DJI and UFO on the changes."
   ]
  },
  {
   "cell_type": "code",
   "execution_count": 51,
   "id": "3b62707d",
   "metadata": {},
   "outputs": [
    {
     "data": {
      "text/plain": [
       "0.9399762210726428"
      ]
     },
     "execution_count": 51,
     "metadata": {},
     "output_type": "execute_result"
    }
   ],
   "source": [
    "corr = levels[\"DJI\"].corr(levels[\"UFO\"])\n",
    "corr"
   ]
  },
  {
   "cell_type": "code",
   "execution_count": 55,
   "id": "13a7f295",
   "metadata": {},
   "outputs": [
    {
     "data": {
      "text/plain": [
       "<AxesSubplot:xlabel='Date'>"
      ]
     },
     "execution_count": 55,
     "metadata": {},
     "output_type": "execute_result"
    },
    {
     "data": {
      "image/png": "[encoded data removed]",
      "text/plain": [
       "<Figure size 432x288 with 1 Axes>"
      ]
     },
     "metadata": {
      "needs_background": "light"
     },
     "output_type": "display_data"
    }
   ],
   "source": [
    "levels.plot()"
   ]
  },
  {
   "cell_type": "code",
   "execution_count": 52,
   "id": "eb017d0b",
   "metadata": {},
   "outputs": [
    {
     "data": {
      "text/html": [
       "<div>\n",
       "<style scoped>\n",
       "    .dataframe tbody tr th:only-of-type {\n",
       "        vertical-align: middle;\n",
       "    }\n",
       "\n",
       "    .dataframe tbody tr th {\n",
       "        vertical-align: top;\n",
       "    }\n",
       "\n",
       "    .dataframe thead th {\n",
       "        text-align: right;\n",
       "    }\n",
       "</style>\n",
       "<table border=\"1\" class=\"dataframe\">\n",
       "  <thead>\n",
       "    <tr style=\"text-align: right;\">\n",
       "      <th></th>\n",
       "      <th>DJI</th>\n",
       "      <th>UFO</th>\n",
       "    </tr>\n",
       "    <tr>\n",
       "      <th>Date</th>\n",
       "      <th></th>\n",
       "      <th></th>\n",
       "    </tr>\n",
       "  </thead>\n",
       "  <tbody>\n",
       "    <tr>\n",
       "      <th>1941</th>\n",
       "      <td>NaN</td>\n",
       "      <td>NaN</td>\n",
       "    </tr>\n",
       "    <tr>\n",
       "      <th>1942</th>\n",
       "      <td>0.076063</td>\n",
       "      <td>1.0</td>\n",
       "    </tr>\n",
       "    <tr>\n",
       "      <th>1943</th>\n",
       "      <td>0.138107</td>\n",
       "      <td>3.5</td>\n",
       "    </tr>\n",
       "    <tr>\n",
       "      <th>1944</th>\n",
       "      <td>0.120907</td>\n",
       "      <td>0.0</td>\n",
       "    </tr>\n",
       "    <tr>\n",
       "      <th>1945</th>\n",
       "      <td>0.266478</td>\n",
       "      <td>0.0</td>\n",
       "    </tr>\n",
       "  </tbody>\n",
       "</table>\n",
       "</div>"
      ],
      "text/plain": [
       "           DJI  UFO\n",
       "Date               \n",
       "1941       NaN  NaN\n",
       "1942  0.076063  1.0\n",
       "1943  0.138107  3.5\n",
       "1944  0.120907  0.0\n",
       "1945  0.266478  0.0"
      ]
     },
     "execution_count": 52,
     "metadata": {},
     "output_type": "execute_result"
    }
   ],
   "source": [
    "new_df = levels.pct_change()\n",
    "new_df.head()"
   ]
  },
  {
   "cell_type": "code",
   "execution_count": 54,
   "id": "4a1a2fac",
   "metadata": {},
   "outputs": [
    {
     "data": {
      "text/plain": [
       "0.06026935462405373"
      ]
     },
     "execution_count": 54,
     "metadata": {},
     "output_type": "execute_result"
    }
   ],
   "source": [
    "new_corr = new_df[\"DJI\"].corr(new_df[\"UFO\"])\n",
    "new_corr"
   ]
  },
  {
   "cell_type": "code",
   "execution_count": 56,
   "id": "64a74320",
   "metadata": {},
   "outputs": [
    {
     "data": {
      "text/plain": [
       "<AxesSubplot:xlabel='Date'>"
      ]
     },
     "execution_count": 56,
     "metadata": {},
     "output_type": "execute_result"
    },
    {
     "data": {
      "image/png": "[encoded data removed]",
      "text/plain": [
       "<Figure size 432x288 with 1 Axes>"
      ]
     },
     "metadata": {
      "needs_background": "light"
     },
     "output_type": "display_data"
    }
   ],
   "source": [
    "new_df.plot()"
   ]
  },
  {
   "cell_type": "code",
   "execution_count": null,
   "id": "f964bc4d",
   "metadata": {},
   "outputs": [],
   "source": []
  },
  {
   "cell_type": "markdown",
   "id": "e32c1112",
   "metadata": {},
   "source": [
    "### What is a Regression?\n",
    "\n",
    "Now, you'll learn about simple linear regressions of time series. A simple linear regression finds the slope, beta, and intercept, alpha, of a line that's the best fit between a dependent variable, y, and an independent variable, x. The x's and y's can be two time series.\n",
    "\n",
    "<img src=\"lr.jpg\" style=\"max-width:500px\">\n",
    "\n",
    "A linear regression is also known as Ordinary Least Squares, or OLS, because it minimizes the sum of the squared distances between the data points and the regression line.\n",
    "\n",
    "\n",
    "### Python Packages to Perform Regressions\n",
    "\n",
    "Regression techniques are very common, and therefore there are many packages in Python that can be used. \n",
    "\n",
    "<img src=\"lr-1.jpg\" style=\"max-width:500px\">\n",
    "\n",
    "- In statsmodels, there is OLS. \n",
    "\n",
    "\n",
    "- In numpy, there is polyfit, and if you set degree equals 1, it fits the data to a line, which is a linear regression. \n",
    "\n",
    "\n",
    "- Pandas has an ols method, and \n",
    "\n",
    "\n",
    "- scipy has a linear regression function. \n",
    "\n",
    "\n",
    "Beware that the order of x and y is not consistent across packages. All these packages are very similar, and in this course, you will use the statsmodels OLS.\n",
    "\n",
    "\n",
    "### Example: Regression of Small Cap Returns on Large Cap\n",
    "\n",
    "Now you'll regress the returns of the small cap stocks on the returns of large cap stocks. Compute returns from prices using the \"pct_change\" method in pandas. \n",
    "\n",
    "<img src=\"lr-2.jpg\" style=\"max-width:500px\">\n",
    "\n",
    "You need to add a column of ones as a dependent, right hand side variable. The reason you have to do this is because the regression function assumes that if there is no constant column, then you want to run the regression without an intercept. By adding a column of ones, statsmodels will compute the regression coefficient of that column as well, which can be interpreted as the intercept of the line. The statsmodels method `\"add constant\"` is a simple way to add a constant.\n",
    "\n",
    "<img src=\"lr-3.jpg\" style=\"max-width:500px\">\n",
    "\n",
    "Notice that the first row of the return series is NaN. Each return is computed from two prices, so there is one less return than price. \n",
    "\n",
    "To delete the first row of `NaN's`, use the pandas method `\"dropna\"`. You're finally ready to run the regression. \n",
    "\n",
    "The first argument of the statsmodel regression is the series that represents the dependent variable, y, and the next argument contains the independent variable or variables. \n",
    "\n",
    "In this case, the dependent variable is the R2000 returns and the independent variables are the constant and SPX returns. The method `\"fit\"` runs the regression and results are saved in a class instance called results.\n",
    "\n",
    "<img src=\"lr-4.jpg\" style=\"max-width:800px\">\n",
    "\n",
    "The summary method of results shows the entire regression output. We will only focus on a few items of the regression results. \n",
    "\n",
    "In the red box, the `coefficent 1.1412` is the `slope` of the regression, which is also referred to as `beta`. \n",
    "\n",
    "The coefficient above that is the `intercept`, which is very close to zero. \n",
    "\n",
    "You can also pull out individual items from results, like the `intercept`, in `results-dot-params zero`, and the `slope`, in `results-dot-params one`. \n",
    "\n",
    "Another statistic to take note of is the `R-Squared` of `0.753`.\n",
    "\n",
    "### Relationship Between R-Squared and Correlation\n",
    "\n",
    "From the scatter diagrams, you saw that the correlation measures how closely the data are clustered along a line. The R-squared also measures how well the linear regression line fits the data. So as you would expect, there is a relationship between correlation and R-squared. \n",
    "\n",
    "<img src=\"r.jpg\" style=\"max-width:500px\">\n",
    "\n",
    "- The magnitude of the correlation is the square root of the R-squared. \n",
    "\n",
    "- And the sign of the correlation is the sign of the slope of the regression line. If the regression line is positively sloped, the correlation is positive and if the the regression line is negatively sloped, the correlation is negative. \n",
    "\n",
    "- In the example you just analyzed, of large cap and small cap stocks, the R-Squared was 0.753, the slope of the regression was positive, so the correlation is then positive the square root of 0.753, or 0.868, which can be verified by computing the correlation directly."
   ]
  },
  {
   "cell_type": "code",
   "execution_count": null,
   "id": "e5edf001",
   "metadata": {},
   "outputs": [],
   "source": []
  },
  {
   "cell_type": "code",
   "execution_count": 61,
   "id": "8f4afc7e",
   "metadata": {
    "scrolled": true
   },
   "outputs": [
    {
     "data": {
      "text/html": [
       "<div>\n",
       "<style scoped>\n",
       "    .dataframe tbody tr th:only-of-type {\n",
       "        vertical-align: middle;\n",
       "    }\n",
       "\n",
       "    .dataframe tbody tr th {\n",
       "        vertical-align: top;\n",
       "    }\n",
       "\n",
       "    .dataframe thead th {\n",
       "        text-align: right;\n",
       "    }\n",
       "</style>\n",
       "<table border=\"1\" class=\"dataframe\">\n",
       "  <thead>\n",
       "    <tr style=\"text-align: right;\">\n",
       "      <th></th>\n",
       "      <th>x</th>\n",
       "      <th>y</th>\n",
       "    </tr>\n",
       "  </thead>\n",
       "  <tbody>\n",
       "    <tr>\n",
       "      <th>0</th>\n",
       "      <td>1.281155</td>\n",
       "      <td>-0.835129</td>\n",
       "    </tr>\n",
       "    <tr>\n",
       "      <th>1</th>\n",
       "      <td>-0.612631</td>\n",
       "      <td>-0.061004</td>\n",
       "    </tr>\n",
       "    <tr>\n",
       "      <th>2</th>\n",
       "      <td>0.933222</td>\n",
       "      <td>-0.194677</td>\n",
       "    </tr>\n",
       "    <tr>\n",
       "      <th>3</th>\n",
       "      <td>2.269327</td>\n",
       "      <td>-2.461142</td>\n",
       "    </tr>\n",
       "    <tr>\n",
       "      <th>4</th>\n",
       "      <td>-1.427691</td>\n",
       "      <td>1.040073</td>\n",
       "    </tr>\n",
       "  </tbody>\n",
       "</table>\n",
       "</div>"
      ],
      "text/plain": [
       "          x         y\n",
       "0  1.281155 -0.835129\n",
       "1 -0.612631 -0.061004\n",
       "2  0.933222 -0.194677\n",
       "3  2.269327 -2.461142\n",
       "4 -1.427691  1.040073"
      ]
     },
     "execution_count": 61,
     "metadata": {},
     "output_type": "execute_result"
    }
   ],
   "source": [
    "df = pd.read_csv(\"x_y.csv\")\n",
    "df.head()"
   ]
  },
  {
   "cell_type": "code",
   "execution_count": 64,
   "id": "b291a790",
   "metadata": {},
   "outputs": [],
   "source": [
    "import statsmodels.api as sm"
   ]
  },
  {
   "cell_type": "markdown",
   "id": "8d4da512",
   "metadata": {},
   "source": [
    "## Exercise 5: Looking at a Regression's R-Squared\n",
    "\n",
    "R-squared measures how closely the data fit the regression line, so the R-squared in a simple regression is related to the correlation between the two variables. In particular, the magnitude of the correlation is the square root of the R-squared and the sign of the correlation is the sign of the regression coefficient.\n",
    "\n",
    "In this exercise, you will start using the statistical package statsmodels, which performs much of the statistical modeling and testing that is found in R and software packages like SAS and MATLAB.\n",
    "\n",
    "You will take two series, x and y, compute their correlation, and then regress y on x using the function OLS(y,x) in the statsmodels.api library (note that the dependent, or right-hand side variable y is the first argument). Most linear regressions contain a constant term which is the intercept (the  in the regression \n",
    "). To include a constant using the function OLS(), you need to add a column of 1's to the right hand side of the regression.\n",
    "\n",
    "The module statsmodels.api has been imported for you as sm.\n",
    "\n",
    "- Compute the correlation between x and y using the .corr() method.\n",
    "\n",
    "- Run a regression: First convert the Series x to a DataFrame dfx. Add a constant using sm.add_constant(), assigning it to dfx1\n",
    "\n",
    "\n",
    "- Regress y on dfx1 using sm.OLS().fit().\n",
    "\n",
    "\n",
    "- Print out the results of the regression and compare the R-squared with the correlation."
   ]
  },
  {
   "cell_type": "code",
   "execution_count": 62,
   "id": "086548cf",
   "metadata": {},
   "outputs": [
    {
     "name": "stdout",
     "output_type": "stream",
     "text": [
      "The correlation between x and y is -0.90\n"
     ]
    }
   ],
   "source": [
    "# Compute correlation of x and y\n",
    "correlation = df['x'].corr(df['y'])\n",
    "print(\"The correlation between x and y is %.2f\" %(correlation))"
   ]
  },
  {
   "cell_type": "code",
   "execution_count": 66,
   "id": "a7bf4f4d",
   "metadata": {},
   "outputs": [
    {
     "name": "stdout",
     "output_type": "stream",
     "text": [
      "          x\n",
      "0  1.281155\n",
      "1 -0.612631\n",
      "2  0.933222\n",
      "3  2.269327\n",
      "4 -1.427691 \n",
      "\n",
      "   const         x\n",
      "0    1.0  1.281155\n",
      "1    1.0 -0.612631\n",
      "2    1.0  0.933222\n",
      "3    1.0  2.269327\n",
      "4    1.0 -1.427691\n"
     ]
    }
   ],
   "source": [
    "# Convert the Series x to a DataFrame and name the column x\n",
    "dfx = pd.DataFrame(df['x'], columns=['x'])\n",
    "print(dfx.head(), '\\n')\n",
    "\n",
    "# Add a constant to the DataFrame dfx\n",
    "dfx1 = sm.add_constant(dfx)\n",
    "print(dfx1.head())"
   ]
  },
  {
   "cell_type": "code",
   "execution_count": 67,
   "id": "7d53fbe7",
   "metadata": {},
   "outputs": [
    {
     "name": "stdout",
     "output_type": "stream",
     "text": [
      "                            OLS Regression Results                            \n",
      "==============================================================================\n",
      "Dep. Variable:                      y   R-squared:                       0.818\n",
      "Model:                            OLS   Adj. R-squared:                  0.817\n",
      "Method:                 Least Squares   F-statistic:                     4471.\n",
      "Date:                Mon, 28 Feb 2022   Prob (F-statistic):               0.00\n",
      "Time:                        16:47:49   Log-Likelihood:                -560.10\n",
      "No. Observations:                1000   AIC:                             1124.\n",
      "Df Residuals:                     998   BIC:                             1134.\n",
      "Df Model:                           1                                         \n",
      "Covariance Type:            nonrobust                                         \n",
      "==============================================================================\n",
      "                 coef    std err          t      P>|t|      [0.025      0.975]\n",
      "------------------------------------------------------------------------------\n",
      "const         -0.0052      0.013     -0.391      0.696      -0.032       0.021\n",
      "x             -0.9080      0.014    -66.869      0.000      -0.935      -0.881\n",
      "==============================================================================\n",
      "Omnibus:                        0.048   Durbin-Watson:                   2.066\n",
      "Prob(Omnibus):                  0.976   Jarque-Bera (JB):                0.103\n",
      "Skew:                          -0.003   Prob(JB):                        0.950\n",
      "Kurtosis:                       2.951   Cond. No.                         1.03\n",
      "==============================================================================\n",
      "\n",
      "Notes:\n",
      "[1] Standard Errors assume that the covariance matrix of the errors is correctly specified.\n"
     ]
    }
   ],
   "source": [
    "# Regress y on dfx1\n",
    "result = sm.OLS(df['y'], dfx1).fit()\n",
    "\n",
    "# Print out the results and look at the relationship between R-squared and the correlation above\n",
    "print(result.summary())"
   ]
  },
  {
   "cell_type": "code",
   "execution_count": null,
   "id": "63b5a1c1",
   "metadata": {},
   "outputs": [],
   "source": []
  },
  {
   "cell_type": "code",
   "execution_count": null,
   "id": "05f3c249",
   "metadata": {},
   "outputs": [],
   "source": []
  },
  {
   "cell_type": "code",
   "execution_count": null,
   "id": "f489db1a",
   "metadata": {},
   "outputs": [],
   "source": []
  }
 ],
 "metadata": {
  "kernelspec": {
   "display_name": "Python 3",
   "language": "python",
   "name": "python3"
  },
  "language_info": {
   "codemirror_mode": {
    "name": "ipython",
    "version": 3
   },
   "file_extension": ".py",
   "mimetype": "text/x-python",
   "name": "python",
   "nbconvert_exporter": "python",
   "pygments_lexer": "ipython3",
   "version": "3.8.8"
  }
 },
 "nbformat": 4,
 "nbformat_minor": 5
}

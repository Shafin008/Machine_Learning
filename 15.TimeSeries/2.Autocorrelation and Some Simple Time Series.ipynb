{
 "cells": [
  {
   "cell_type": "markdown",
   "id": "46b73775",
   "metadata": {},
   "source": [
    "### What is Autocorrelation?\n",
    "\n",
    "So far, you have looked at the correlation of two time series. Autocorrelation is the correlation of a single time series with a lagged copy of itself. It's also called \"serial correlation\".\n",
    "\n",
    "<img src=\"au.jpg\" style=\"max-width:500px\">\n",
    "\n",
    "Often, when we refer to a series's autocorrelation, we mean the \"lag-one\" autocorrelation. So when using daily data, for example, the autocorrelation would be the correlation of the series with the same series lagged by one day.\n",
    "\n",
    "\n",
    "### Interpretation of Autocorrelation\n",
    "\n",
    "What does it mean when a series has a positive or negative autocorrelation? \n",
    "\n",
    "With financial time series, when returns have a `negative autocorrelation`, we say it is `\"mean reverting\"`.\n",
    "\n",
    "<img src=\"au-1.jpg\" style=\"max-width:500px\">\n",
    "\n",
    "Alternatively, if a series has `positive autocorrelation`, we say it is `\"trend-following\"`.\n",
    "\n",
    "<img src=\"au-2.jpg\" style=\"max-width:500px\">\n",
    "\n",
    "\n",
    "### Traders Use Autocorrelation to Make Money\n",
    "\n",
    "Lest you think these concepts of autocorrelation are purely theoretical, they are actually used on Wall Street to make money. Many hedge fund strategies are only slightly more complex versions of mean reversion and momentum strategies. \n",
    "\n",
    "Since stocks have historically had `negative autocorrelation` over horizons of about a week, one popular strategy is to buy stocks that have dropped over the last week and sell stocks that have gone up. \n",
    "\n",
    "<img src=\"au-3.jpg\" style=\"max-width:500px\">\n",
    "\n",
    "For other assets like commodities and currencies, they have historically had positive autocorrelation over horizons of several months, so the typical hedge fund strategy there is to buy commodities that have gone up in the last several months and sell those commodities that have gone down.\n",
    "\n",
    "\n",
    "### Example of Positive Autocorrelation: Exchange Rates\n",
    "\n",
    "Here is an example of how you would compute the monthly autocorrelation for the Japanese Yen-US Dollar exchange rate. The data was downloaded from the FRED website, which stands for Federal Reserve Economic Data. \n",
    "\n",
    "\n",
    "<img src=\"au-4.jpg\" style=\"max-width:500px\">\n",
    "\n",
    "- The date column was read in as a string, so before you can compute autocorrelations, you will have to convert the dates in the DataFrame index to a datetime object using the pandas method \"to_datetime\". \n",
    "\n",
    "- Now that it's a datetime object, downsample the data using the resample method. The \"rule\" argument indicates the desired frequency. 'M' stands for monthly. The how argument indicates how to do the resampling. For example, you can use the first date of the period, the last date, or even an average. \n",
    "\n",
    "\n",
    "- Finally, compute the autocorrelation using the pandas method \"autocorr\". Notice in this example that the autocorrelation is positive, 0.0567, so this series exhibits some momentum."
   ]
  },
  {
   "cell_type": "code",
   "execution_count": 1,
   "id": "f4f237a6",
   "metadata": {},
   "outputs": [],
   "source": [
    "import pandas as pd\n",
    "import matplotlib.pyplot as plt"
   ]
  },
  {
   "cell_type": "code",
   "execution_count": 2,
   "id": "c69cbfcb",
   "metadata": {},
   "outputs": [
    {
     "data": {
      "text/html": [
       "<div>\n",
       "<style scoped>\n",
       "    .dataframe tbody tr th:only-of-type {\n",
       "        vertical-align: middle;\n",
       "    }\n",
       "\n",
       "    .dataframe tbody tr th {\n",
       "        vertical-align: top;\n",
       "    }\n",
       "\n",
       "    .dataframe thead th {\n",
       "        text-align: right;\n",
       "    }\n",
       "</style>\n",
       "<table border=\"1\" class=\"dataframe\">\n",
       "  <thead>\n",
       "    <tr style=\"text-align: right;\">\n",
       "      <th></th>\n",
       "      <th>Adj Close</th>\n",
       "    </tr>\n",
       "    <tr>\n",
       "      <th>Date</th>\n",
       "      <th></th>\n",
       "    </tr>\n",
       "  </thead>\n",
       "  <tbody>\n",
       "    <tr>\n",
       "      <th>8/6/2012</th>\n",
       "      <td>26.107651</td>\n",
       "    </tr>\n",
       "    <tr>\n",
       "      <th>8/7/2012</th>\n",
       "      <td>26.377876</td>\n",
       "    </tr>\n",
       "    <tr>\n",
       "      <th>8/8/2012</th>\n",
       "      <td>26.438896</td>\n",
       "    </tr>\n",
       "    <tr>\n",
       "      <th>8/9/2012</th>\n",
       "      <td>26.587088</td>\n",
       "    </tr>\n",
       "    <tr>\n",
       "      <th>8/10/2012</th>\n",
       "      <td>26.517351</td>\n",
       "    </tr>\n",
       "  </tbody>\n",
       "</table>\n",
       "</div>"
      ],
      "text/plain": [
       "           Adj Close\n",
       "Date                \n",
       "8/6/2012   26.107651\n",
       "8/7/2012   26.377876\n",
       "8/8/2012   26.438896\n",
       "8/9/2012   26.587088\n",
       "8/10/2012  26.517351"
      ]
     },
     "execution_count": 2,
     "metadata": {},
     "output_type": "execute_result"
    }
   ],
   "source": [
    "MSFT = pd.read_csv(\"MSFT.csv\")\n",
    "MSFT = MSFT.set_index(\"Date\")\n",
    "MSFT.head()"
   ]
  },
  {
   "cell_type": "code",
   "execution_count": 3,
   "id": "d876562c",
   "metadata": {},
   "outputs": [
    {
     "data": {
      "text/plain": [
       "DatetimeIndex(['2012-08-06', '2012-08-07', '2012-08-08', '2012-08-09',\n",
       "               '2012-08-10', '2012-08-13', '2012-08-14', '2012-08-15',\n",
       "               '2012-08-16', '2012-08-17',\n",
       "               ...\n",
       "               '2017-07-24', '2017-07-25', '2017-07-26', '2017-07-27',\n",
       "               '2017-07-28', '2017-07-31', '2017-08-01', '2017-08-02',\n",
       "               '2017-08-03', '2017-08-04'],\n",
       "              dtype='datetime64[ns]', name='Date', length=1258, freq=None)"
      ]
     },
     "execution_count": 3,
     "metadata": {},
     "output_type": "execute_result"
    }
   ],
   "source": [
    "MSFT.index = pd.to_datetime(MSFT.index)\n",
    "MSFT.index"
   ]
  },
  {
   "cell_type": "markdown",
   "id": "2ef952db",
   "metadata": {},
   "source": [
    "## Exercise 1: A Popular Strategy Using Autocorrelation\n",
    "\n",
    "One puzzling anomaly with stocks is that investors tend to overreact to news. Following large jumps, either up or down, stock prices tend to reverse. This is described as mean reversion in stock prices: prices tend to bounce back, or revert, towards previous levels after large moves, which are observed over time horizons of about a week. A more mathematical way to describe mean reversion is to say that stock returns are negatively autocorrelated.\n",
    "\n",
    "This simple idea is actually the basis for a popular hedge fund strategy.\n",
    "\n",
    "You'll look at the autocorrelation of weekly returns of `MSFT stock from 2012 to 2017`. You'll start with a DataFrame `MSFT` of daily prices. You should use the `.resample()` method to get weekly prices and then compute returns from prices. \n",
    "\n",
    "Use the pandas method `.autocorr()` to get the autocorrelation and show that the autocorrelation is `negative`. \n",
    "\n",
    "Note that the .autocorr() method only works on Series, not DataFrames (even DataFrames with one column), so you will have to select the column in the DataFrame.\n",
    "\n",
    "- Use the .resample() method with rule='W' to convert daily data to weekly data. Use The new syntax .resample().last().\n",
    "\n",
    "\n",
    "- Create a new DataFrame, returns, of percent changes in weekly prices using the .pct_change() method.\n",
    "\n",
    "\n",
    "- Compute the autocorrelation using the .autocorr() method on the series of closing stock prices, which is the column 'Adj Close' in the DataFrame returns."
   ]
  },
  {
   "cell_type": "code",
   "execution_count": 4,
   "id": "ebeaec3b",
   "metadata": {},
   "outputs": [
    {
     "data": {
      "text/html": [
       "<div>\n",
       "<style scoped>\n",
       "    .dataframe tbody tr th:only-of-type {\n",
       "        vertical-align: middle;\n",
       "    }\n",
       "\n",
       "    .dataframe tbody tr th {\n",
       "        vertical-align: top;\n",
       "    }\n",
       "\n",
       "    .dataframe thead th {\n",
       "        text-align: right;\n",
       "    }\n",
       "</style>\n",
       "<table border=\"1\" class=\"dataframe\">\n",
       "  <thead>\n",
       "    <tr style=\"text-align: right;\">\n",
       "      <th></th>\n",
       "      <th>Adj Close</th>\n",
       "    </tr>\n",
       "    <tr>\n",
       "      <th>Date</th>\n",
       "      <th></th>\n",
       "    </tr>\n",
       "  </thead>\n",
       "  <tbody>\n",
       "    <tr>\n",
       "      <th>2012-08-12</th>\n",
       "      <td>26.517351</td>\n",
       "    </tr>\n",
       "    <tr>\n",
       "      <th>2012-08-19</th>\n",
       "      <td>27.114212</td>\n",
       "    </tr>\n",
       "    <tr>\n",
       "      <th>2012-08-26</th>\n",
       "      <td>26.815865</td>\n",
       "    </tr>\n",
       "    <tr>\n",
       "      <th>2012-09-02</th>\n",
       "      <td>27.044012</td>\n",
       "    </tr>\n",
       "    <tr>\n",
       "      <th>2012-09-09</th>\n",
       "      <td>27.158091</td>\n",
       "    </tr>\n",
       "    <tr>\n",
       "      <th>...</th>\n",
       "      <td>...</td>\n",
       "    </tr>\n",
       "    <tr>\n",
       "      <th>2017-07-09</th>\n",
       "      <td>69.459999</td>\n",
       "    </tr>\n",
       "    <tr>\n",
       "      <th>2017-07-16</th>\n",
       "      <td>72.779999</td>\n",
       "    </tr>\n",
       "    <tr>\n",
       "      <th>2017-07-23</th>\n",
       "      <td>73.790001</td>\n",
       "    </tr>\n",
       "    <tr>\n",
       "      <th>2017-07-30</th>\n",
       "      <td>73.040001</td>\n",
       "    </tr>\n",
       "    <tr>\n",
       "      <th>2017-08-06</th>\n",
       "      <td>72.680000</td>\n",
       "    </tr>\n",
       "  </tbody>\n",
       "</table>\n",
       "<p>261 rows × 1 columns</p>\n",
       "</div>"
      ],
      "text/plain": [
       "            Adj Close\n",
       "Date                 \n",
       "2012-08-12  26.517351\n",
       "2012-08-19  27.114212\n",
       "2012-08-26  26.815865\n",
       "2012-09-02  27.044012\n",
       "2012-09-09  27.158091\n",
       "...               ...\n",
       "2017-07-09  69.459999\n",
       "2017-07-16  72.779999\n",
       "2017-07-23  73.790001\n",
       "2017-07-30  73.040001\n",
       "2017-08-06  72.680000\n",
       "\n",
       "[261 rows x 1 columns]"
      ]
     },
     "execution_count": 4,
     "metadata": {},
     "output_type": "execute_result"
    }
   ],
   "source": [
    "# Convert the daily data to weekly data\n",
    "MSFT = MSFT.resample(rule='W').last()\n",
    "MSFT"
   ]
  },
  {
   "cell_type": "code",
   "execution_count": 5,
   "id": "dc41082d",
   "metadata": {},
   "outputs": [
    {
     "data": {
      "text/html": [
       "<div>\n",
       "<style scoped>\n",
       "    .dataframe tbody tr th:only-of-type {\n",
       "        vertical-align: middle;\n",
       "    }\n",
       "\n",
       "    .dataframe tbody tr th {\n",
       "        vertical-align: top;\n",
       "    }\n",
       "\n",
       "    .dataframe thead th {\n",
       "        text-align: right;\n",
       "    }\n",
       "</style>\n",
       "<table border=\"1\" class=\"dataframe\">\n",
       "  <thead>\n",
       "    <tr style=\"text-align: right;\">\n",
       "      <th></th>\n",
       "      <th>Adj Close</th>\n",
       "    </tr>\n",
       "    <tr>\n",
       "      <th>Date</th>\n",
       "      <th></th>\n",
       "    </tr>\n",
       "  </thead>\n",
       "  <tbody>\n",
       "    <tr>\n",
       "      <th>2012-08-12</th>\n",
       "      <td>NaN</td>\n",
       "    </tr>\n",
       "    <tr>\n",
       "      <th>2012-08-19</th>\n",
       "      <td>0.022508</td>\n",
       "    </tr>\n",
       "    <tr>\n",
       "      <th>2012-08-26</th>\n",
       "      <td>-0.011003</td>\n",
       "    </tr>\n",
       "    <tr>\n",
       "      <th>2012-09-02</th>\n",
       "      <td>0.008508</td>\n",
       "    </tr>\n",
       "    <tr>\n",
       "      <th>2012-09-09</th>\n",
       "      <td>0.004218</td>\n",
       "    </tr>\n",
       "    <tr>\n",
       "      <th>...</th>\n",
       "      <td>...</td>\n",
       "    </tr>\n",
       "    <tr>\n",
       "      <th>2017-07-09</th>\n",
       "      <td>0.007689</td>\n",
       "    </tr>\n",
       "    <tr>\n",
       "      <th>2017-07-16</th>\n",
       "      <td>0.047797</td>\n",
       "    </tr>\n",
       "    <tr>\n",
       "      <th>2017-07-23</th>\n",
       "      <td>0.013877</td>\n",
       "    </tr>\n",
       "    <tr>\n",
       "      <th>2017-07-30</th>\n",
       "      <td>-0.010164</td>\n",
       "    </tr>\n",
       "    <tr>\n",
       "      <th>2017-08-06</th>\n",
       "      <td>-0.004929</td>\n",
       "    </tr>\n",
       "  </tbody>\n",
       "</table>\n",
       "<p>261 rows × 1 columns</p>\n",
       "</div>"
      ],
      "text/plain": [
       "            Adj Close\n",
       "Date                 \n",
       "2012-08-12        NaN\n",
       "2012-08-19   0.022508\n",
       "2012-08-26  -0.011003\n",
       "2012-09-02   0.008508\n",
       "2012-09-09   0.004218\n",
       "...               ...\n",
       "2017-07-09   0.007689\n",
       "2017-07-16   0.047797\n",
       "2017-07-23   0.013877\n",
       "2017-07-30  -0.010164\n",
       "2017-08-06  -0.004929\n",
       "\n",
       "[261 rows x 1 columns]"
      ]
     },
     "execution_count": 5,
     "metadata": {},
     "output_type": "execute_result"
    }
   ],
   "source": [
    "# Compute the percentage change of prices\n",
    "returns = MSFT.pct_change()\n",
    "returns"
   ]
  },
  {
   "cell_type": "code",
   "execution_count": 6,
   "id": "c58749ee",
   "metadata": {},
   "outputs": [
    {
     "name": "stdout",
     "output_type": "stream",
     "text": [
      "The autocorrelation of weekly returns is -0.16\n"
     ]
    }
   ],
   "source": [
    "# Compute and print the autocorrelation of returns\n",
    "autocorrelation = returns['Adj Close'].autocorr()\n",
    "print(\"The autocorrelation of weekly returns is %4.2f\" %(autocorrelation))"
   ]
  },
  {
   "cell_type": "markdown",
   "id": "e4c81d24",
   "metadata": {},
   "source": [
    "Notice how the autocorrelation of returns for MSFT is negative, so the stock is 'mean reverting'"
   ]
  },
  {
   "cell_type": "code",
   "execution_count": null,
   "id": "b7755a1d",
   "metadata": {},
   "outputs": [],
   "source": []
  },
  {
   "cell_type": "code",
   "execution_count": 7,
   "id": "ee02b0bd",
   "metadata": {},
   "outputs": [],
   "source": [
    "Bonds = pd.read_csv(\"Bonds.csv\")\n",
    "Bonds = Bonds.set_index(\"observation_date\")"
   ]
  },
  {
   "cell_type": "code",
   "execution_count": 8,
   "id": "f418d359",
   "metadata": {},
   "outputs": [
    {
     "data": {
      "text/plain": [
       "DatetimeIndex(['2007-06-08', '2007-06-11', '2007-06-12', '2007-06-13',\n",
       "               '2007-06-14', '2007-06-15', '2007-06-18', '2007-06-19',\n",
       "               '2007-06-20', '2007-06-21',\n",
       "               ...\n",
       "               '2017-05-25', '2017-05-26', '2017-05-30', '2017-05-31',\n",
       "               '2017-06-01', '2017-06-02', '2017-06-05', '2017-06-06',\n",
       "               '2017-06-07', '2017-06-08'],\n",
       "              dtype='datetime64[ns]', name='observation_date', length=2503, freq=None)"
      ]
     },
     "execution_count": 8,
     "metadata": {},
     "output_type": "execute_result"
    }
   ],
   "source": [
    "Bonds.index = pd.to_datetime(Bonds.index)\n",
    "Bonds.index"
   ]
  },
  {
   "cell_type": "code",
   "execution_count": 9,
   "id": "4593fdd9",
   "metadata": {},
   "outputs": [
    {
     "data": {
      "text/html": [
       "<div>\n",
       "<style scoped>\n",
       "    .dataframe tbody tr th:only-of-type {\n",
       "        vertical-align: middle;\n",
       "    }\n",
       "\n",
       "    .dataframe tbody tr th {\n",
       "        vertical-align: top;\n",
       "    }\n",
       "\n",
       "    .dataframe thead th {\n",
       "        text-align: right;\n",
       "    }\n",
       "</style>\n",
       "<table border=\"1\" class=\"dataframe\">\n",
       "  <thead>\n",
       "    <tr style=\"text-align: right;\">\n",
       "      <th></th>\n",
       "      <th>US10Y</th>\n",
       "    </tr>\n",
       "    <tr>\n",
       "      <th>observation_date</th>\n",
       "      <th></th>\n",
       "    </tr>\n",
       "  </thead>\n",
       "  <tbody>\n",
       "    <tr>\n",
       "      <th>2007-06-08</th>\n",
       "      <td>5.12</td>\n",
       "    </tr>\n",
       "    <tr>\n",
       "      <th>2007-06-11</th>\n",
       "      <td>5.14</td>\n",
       "    </tr>\n",
       "    <tr>\n",
       "      <th>2007-06-12</th>\n",
       "      <td>5.26</td>\n",
       "    </tr>\n",
       "    <tr>\n",
       "      <th>2007-06-13</th>\n",
       "      <td>5.20</td>\n",
       "    </tr>\n",
       "    <tr>\n",
       "      <th>2007-06-14</th>\n",
       "      <td>5.23</td>\n",
       "    </tr>\n",
       "  </tbody>\n",
       "</table>\n",
       "</div>"
      ],
      "text/plain": [
       "                  US10Y\n",
       "observation_date       \n",
       "2007-06-08         5.12\n",
       "2007-06-11         5.14\n",
       "2007-06-12         5.26\n",
       "2007-06-13         5.20\n",
       "2007-06-14         5.23"
      ]
     },
     "execution_count": 9,
     "metadata": {},
     "output_type": "execute_result"
    }
   ],
   "source": [
    "Bonds.head()"
   ]
  },
  {
   "cell_type": "code",
   "execution_count": 10,
   "id": "3cb0b3bf",
   "metadata": {},
   "outputs": [
    {
     "data": {
      "text/html": [
       "<div>\n",
       "<style scoped>\n",
       "    .dataframe tbody tr th:only-of-type {\n",
       "        vertical-align: middle;\n",
       "    }\n",
       "\n",
       "    .dataframe tbody tr th {\n",
       "        vertical-align: top;\n",
       "    }\n",
       "\n",
       "    .dataframe thead th {\n",
       "        text-align: right;\n",
       "    }\n",
       "</style>\n",
       "<table border=\"1\" class=\"dataframe\">\n",
       "  <thead>\n",
       "    <tr style=\"text-align: right;\">\n",
       "      <th></th>\n",
       "      <th>US10Y</th>\n",
       "    </tr>\n",
       "    <tr>\n",
       "      <th>observation_date</th>\n",
       "      <th></th>\n",
       "    </tr>\n",
       "  </thead>\n",
       "  <tbody>\n",
       "    <tr>\n",
       "      <th>2007-06-08</th>\n",
       "      <td>NaN</td>\n",
       "    </tr>\n",
       "    <tr>\n",
       "      <th>2007-06-11</th>\n",
       "      <td>0.02</td>\n",
       "    </tr>\n",
       "    <tr>\n",
       "      <th>2007-06-12</th>\n",
       "      <td>0.12</td>\n",
       "    </tr>\n",
       "    <tr>\n",
       "      <th>2007-06-13</th>\n",
       "      <td>-0.06</td>\n",
       "    </tr>\n",
       "    <tr>\n",
       "      <th>2007-06-14</th>\n",
       "      <td>0.03</td>\n",
       "    </tr>\n",
       "    <tr>\n",
       "      <th>...</th>\n",
       "      <td>...</td>\n",
       "    </tr>\n",
       "    <tr>\n",
       "      <th>2017-06-02</th>\n",
       "      <td>-0.06</td>\n",
       "    </tr>\n",
       "    <tr>\n",
       "      <th>2017-06-05</th>\n",
       "      <td>0.03</td>\n",
       "    </tr>\n",
       "    <tr>\n",
       "      <th>2017-06-06</th>\n",
       "      <td>-0.04</td>\n",
       "    </tr>\n",
       "    <tr>\n",
       "      <th>2017-06-07</th>\n",
       "      <td>0.04</td>\n",
       "    </tr>\n",
       "    <tr>\n",
       "      <th>2017-06-08</th>\n",
       "      <td>0.01</td>\n",
       "    </tr>\n",
       "  </tbody>\n",
       "</table>\n",
       "<p>2503 rows × 1 columns</p>\n",
       "</div>"
      ],
      "text/plain": [
       "                  US10Y\n",
       "observation_date       \n",
       "2007-06-08          NaN\n",
       "2007-06-11         0.02\n",
       "2007-06-12         0.12\n",
       "2007-06-13        -0.06\n",
       "2007-06-14         0.03\n",
       "...                 ...\n",
       "2017-06-02        -0.06\n",
       "2017-06-05         0.03\n",
       "2017-06-06        -0.04\n",
       "2017-06-07         0.04\n",
       "2017-06-08         0.01\n",
       "\n",
       "[2503 rows x 1 columns]"
      ]
     },
     "execution_count": 10,
     "metadata": {},
     "output_type": "execute_result"
    }
   ],
   "source": [
    "Bonds.diff()"
   ]
  },
  {
   "cell_type": "markdown",
   "id": "60ffec4e",
   "metadata": {},
   "source": [
    "## Exercise 2: Are Interest Rates Autocorrelated?\n",
    "\n",
    "When you look at daily changes in interest rates, the autocorrelation is close to zero. However, if you resample the data and look at annual changes, the autocorrelation is negative. This implies that while short term changes in interest rates may be uncorrelated, long term changes in interest rates are negatively autocorrelated. A daily move up or down in interest rates is unlikely to tell you anything about interest rates tomorrow, but a move in interest rates over a year can tell you something about where interest rates are going over the next year. And this makes some economic sense: over long horizons, when interest rates go up, the economy tends to slow down, which consequently causes interest rates to fall, and vice versa.\n",
    "\n",
    "The DataFrame Bonds contains daily data of 10-year interest rates from 2007 to 2017.\n",
    "\n",
    "\n",
    "- Create a new DataFrame, daily_diff, of changes in Bonds using the .diff() method.\n",
    "\n",
    "\n",
    "- Compute the autocorrelation of the column 'US10Y' in daily_diff using the .autocorr() method.\n",
    "\n",
    "\n",
    "- Use the .resample() method with arguments rule='A' to convert to annual frequency and use The new syntax .resample().last() .\n",
    "\n",
    "\n",
    "- Create a new DataFrame, yearly_diff of changes in annual rates and compute the autocorrelation, as above."
   ]
  },
  {
   "cell_type": "code",
   "execution_count": 11,
   "id": "cb59e210",
   "metadata": {},
   "outputs": [
    {
     "name": "stdout",
     "output_type": "stream",
     "text": [
      "                  US10Y\n",
      "observation_date       \n",
      "2007-06-11          NaN\n",
      "2007-06-12         0.12\n",
      "2007-06-13        -0.06\n",
      "2007-06-14         0.03\n",
      "2007-06-15        -0.07\n",
      "...                 ...\n",
      "2017-06-02        -0.06\n",
      "2017-06-05         0.03\n",
      "2017-06-06        -0.04\n",
      "2017-06-07         0.04\n",
      "2017-06-08         0.01\n",
      "\n",
      "[2502 rows x 1 columns] \n",
      "\n",
      "The autocorrelation of daily interest rate changes is -0.03\n"
     ]
    }
   ],
   "source": [
    "# Compute the daily change in interest rates \n",
    "daily_diff = Bonds.iloc[1:].diff()\n",
    "print(daily_diff, \"\\n\")\n",
    "\n",
    "# Compute and print the autocorrelation of daily changes\n",
    "autocorrelation_daily = daily_diff['US10Y'].autocorr()\n",
    "print(\"The autocorrelation of daily interest rate changes is %4.2f\" %(autocorrelation_daily))"
   ]
  },
  {
   "cell_type": "code",
   "execution_count": 12,
   "id": "eefe3c82",
   "metadata": {},
   "outputs": [
    {
     "name": "stdout",
     "output_type": "stream",
     "text": [
      "                  US10Y\n",
      "observation_date       \n",
      "2007-12-31         4.04\n",
      "2008-12-31         2.25\n",
      "2009-12-31         3.85\n",
      "2010-12-31         3.30\n",
      "2011-12-31         1.89\n",
      "2012-12-31         1.78\n",
      "2013-12-31         3.04\n",
      "2014-12-31         2.17\n",
      "2015-12-31         2.27\n",
      "2016-12-31         2.45\n",
      "2017-12-31         2.19\n"
     ]
    }
   ],
   "source": [
    "# Convert the daily data to annual data\n",
    "yearly_rates = Bonds.iloc[1:].resample(rule='A').last()\n",
    "print(yearly_rates)"
   ]
  },
  {
   "cell_type": "code",
   "execution_count": 13,
   "id": "5647598b",
   "metadata": {},
   "outputs": [
    {
     "name": "stdout",
     "output_type": "stream",
     "text": [
      "The autocorrelation of annual interest rate changes is -0.48\n"
     ]
    }
   ],
   "source": [
    "# Repeat above for annual data\n",
    "yearly_diff = yearly_rates.diff()\n",
    "autocorrelation_yearly = yearly_diff['US10Y'].autocorr()\n",
    "print(\"The autocorrelation of annual interest rate changes is %4.2f\" %(autocorrelation_yearly))"
   ]
  },
  {
   "cell_type": "code",
   "execution_count": null,
   "id": "6502e900",
   "metadata": {},
   "outputs": [],
   "source": []
  },
  {
   "cell_type": "markdown",
   "id": "b7e17170",
   "metadata": {},
   "source": [
    "### Autocorrelation Function\n",
    "\n",
    "The sample autocorrelation function, or ACF, shows not only the lag-one autocorrelation, but the entire autocorrelation function for different lags. Any significant non-zero autocorrelations implies that the series can be forecast from the past.\n",
    "\n",
    "<img src=\"af.jpg\" style=\"max-width:500px\">\n",
    "\n",
    "### ACF Example 1: Simple Autocorrelation Function\n",
    "\n",
    "<img src=\"af-2.jpg\" style=\"max-width:500px\">\n",
    "\n",
    "This autocorrelation function implies that you can forecast the next value of the series from the last two values, since the lag-one and lag-two autocorrelations differ from zero.\n",
    "\n",
    "### ACF Example 2: Seasonal Earnings\n",
    "\n",
    "Consider the time series of quarterly earnings of the company H&R Block. A vast majority of their earnings occurs in the quarter that taxes are due. \n",
    "\n",
    "<img src=\"af-3.jpg\" style=\"max-width:500px\">\n",
    "\n",
    "In this case, you can clearly see a seasonal pattern in the quarterly data on the left, and the autocorrelation function on the right shows strong autocorrelation at lags 4, 8, 12, 16, and 20\n",
    "\n",
    "### ACF Example 3: Useful for Model Selection\n",
    "\n",
    "The ACF can also be useful for selecting a parsimonious model for fitting the data. \n",
    "\n",
    "\n",
    "###  Plot ACF in Python\n",
    "\n",
    "`plot_acf` is the statsmodels function for plotting the autocorrelation function. \n",
    "\n",
    "<img src=\"af-5.jpg\" style=\"max-width:500px\">\n",
    "\n",
    "The input x is a series or array. The argument lags indicates how many lags of the autocorrelation function will be plotted. The alpha argument sets the width of the confidence interval, which is discussed on the next slide.\n",
    "\n",
    "### Confidence Interval of ACF\n",
    "\n",
    "<img src=\"af-6.jpg\" style=\"max-width:500px\">\n",
    "\n",
    "Here is an ACF plot that contains confidence intervals for each lag, which is the blue region in the figure.\n",
    "\n",
    "### Confidence Interval of ACF\n",
    "\n",
    "In plot_acf, the argument alpha determines the width of the confidence intervals. \n",
    "\n",
    "<img src=\"af-7.jpg\" style=\"max-width:500px\">\n",
    "\n",
    "For example:\n",
    "\n",
    "- if alpha equals 0.05, that means that if the true autocorrelation at that lag is zero, there is only a 5% chance the sample autocorrelation will fall outside that window. \n",
    "\n",
    "\n",
    "- You will get a wider confidence interval if you set alpha lower, or if you have fewer observations. \n",
    "\n",
    "\n",
    "- An approximation to the width of the 95% confidence intervals, if you make some simplifying assumptions, is plus or minus 2 over the square root of the number of observations in your series. Incidentally, if you don't want to see confidence intervals in your plot, set alpha equal to one.\n",
    "\n",
    "### ACF Values Instead of Plot\n",
    "\n",
    "Besides plotting the ACF, you can also extract its numerical values using a similar Python function, acf, instead of plot_acf.\n",
    "\n",
    "<img src=\"af-8.jpg\" style=\"max-width:500px\">"
   ]
  },
  {
   "cell_type": "code",
   "execution_count": null,
   "id": "34366add",
   "metadata": {},
   "outputs": [],
   "source": []
  },
  {
   "cell_type": "code",
   "execution_count": 14,
   "id": "f0c29032",
   "metadata": {
    "scrolled": false
   },
   "outputs": [
    {
     "data": {
      "text/html": [
       "<div>\n",
       "<style scoped>\n",
       "    .dataframe tbody tr th:only-of-type {\n",
       "        vertical-align: middle;\n",
       "    }\n",
       "\n",
       "    .dataframe tbody tr th {\n",
       "        vertical-align: top;\n",
       "    }\n",
       "\n",
       "    .dataframe thead th {\n",
       "        text-align: right;\n",
       "    }\n",
       "</style>\n",
       "<table border=\"1\" class=\"dataframe\">\n",
       "  <thead>\n",
       "    <tr style=\"text-align: right;\">\n",
       "      <th></th>\n",
       "      <th>Quarter</th>\n",
       "      <th>Earnings</th>\n",
       "    </tr>\n",
       "  </thead>\n",
       "  <tbody>\n",
       "    <tr>\n",
       "      <th>0</th>\n",
       "      <td>2007Q1</td>\n",
       "      <td>-0.36</td>\n",
       "    </tr>\n",
       "    <tr>\n",
       "      <th>1</th>\n",
       "      <td>2007Q2</td>\n",
       "      <td>-0.38</td>\n",
       "    </tr>\n",
       "    <tr>\n",
       "      <th>2</th>\n",
       "      <td>2007Q3</td>\n",
       "      <td>0.07</td>\n",
       "    </tr>\n",
       "    <tr>\n",
       "      <th>3</th>\n",
       "      <td>2007Q4</td>\n",
       "      <td>1.85</td>\n",
       "    </tr>\n",
       "    <tr>\n",
       "      <th>4</th>\n",
       "      <td>2008Q1</td>\n",
       "      <td>-0.34</td>\n",
       "    </tr>\n",
       "  </tbody>\n",
       "</table>\n",
       "</div>"
      ],
      "text/plain": [
       "  Quarter  Earnings\n",
       "0  2007Q1     -0.36\n",
       "1  2007Q2     -0.38\n",
       "2  2007Q3      0.07\n",
       "3  2007Q4      1.85\n",
       "4  2008Q1     -0.34"
      ]
     },
     "execution_count": 14,
     "metadata": {},
     "output_type": "execute_result"
    }
   ],
   "source": [
    "HRB = pd.read_csv(\"HRB.csv\")\n",
    "HRB.head()"
   ]
  },
  {
   "cell_type": "code",
   "execution_count": 15,
   "id": "24d0b7f9",
   "metadata": {},
   "outputs": [
    {
     "data": {
      "text/html": [
       "<div>\n",
       "<style scoped>\n",
       "    .dataframe tbody tr th:only-of-type {\n",
       "        vertical-align: middle;\n",
       "    }\n",
       "\n",
       "    .dataframe tbody tr th {\n",
       "        vertical-align: top;\n",
       "    }\n",
       "\n",
       "    .dataframe thead th {\n",
       "        text-align: right;\n",
       "    }\n",
       "</style>\n",
       "<table border=\"1\" class=\"dataframe\">\n",
       "  <thead>\n",
       "    <tr style=\"text-align: right;\">\n",
       "      <th></th>\n",
       "      <th>Earnings</th>\n",
       "    </tr>\n",
       "    <tr>\n",
       "      <th>Quarter</th>\n",
       "      <th></th>\n",
       "    </tr>\n",
       "  </thead>\n",
       "  <tbody>\n",
       "    <tr>\n",
       "      <th>2007Q1</th>\n",
       "      <td>-0.36</td>\n",
       "    </tr>\n",
       "    <tr>\n",
       "      <th>2007Q2</th>\n",
       "      <td>-0.38</td>\n",
       "    </tr>\n",
       "    <tr>\n",
       "      <th>2007Q3</th>\n",
       "      <td>0.07</td>\n",
       "    </tr>\n",
       "    <tr>\n",
       "      <th>2007Q4</th>\n",
       "      <td>1.85</td>\n",
       "    </tr>\n",
       "    <tr>\n",
       "      <th>2008Q1</th>\n",
       "      <td>-0.34</td>\n",
       "    </tr>\n",
       "  </tbody>\n",
       "</table>\n",
       "</div>"
      ],
      "text/plain": [
       "         Earnings\n",
       "Quarter          \n",
       "2007Q1      -0.36\n",
       "2007Q2      -0.38\n",
       "2007Q3       0.07\n",
       "2007Q4       1.85\n",
       "2008Q1      -0.34"
      ]
     },
     "execution_count": 15,
     "metadata": {},
     "output_type": "execute_result"
    }
   ],
   "source": [
    "HRB = HRB.set_index(\"Quarter\")\n",
    "HRB.head()"
   ]
  },
  {
   "cell_type": "code",
   "execution_count": 16,
   "id": "752232e8",
   "metadata": {
    "scrolled": true
   },
   "outputs": [
    {
     "data": {
      "text/html": [
       "<div>\n",
       "<style scoped>\n",
       "    .dataframe tbody tr th:only-of-type {\n",
       "        vertical-align: middle;\n",
       "    }\n",
       "\n",
       "    .dataframe tbody tr th {\n",
       "        vertical-align: top;\n",
       "    }\n",
       "\n",
       "    .dataframe thead th {\n",
       "        text-align: right;\n",
       "    }\n",
       "</style>\n",
       "<table border=\"1\" class=\"dataframe\">\n",
       "  <thead>\n",
       "    <tr style=\"text-align: right;\">\n",
       "      <th></th>\n",
       "      <th>Earnings</th>\n",
       "    </tr>\n",
       "    <tr>\n",
       "      <th>Quarter</th>\n",
       "      <th></th>\n",
       "    </tr>\n",
       "  </thead>\n",
       "  <tbody>\n",
       "    <tr>\n",
       "      <th>2007-01-01</th>\n",
       "      <td>-0.36</td>\n",
       "    </tr>\n",
       "    <tr>\n",
       "      <th>2007-04-01</th>\n",
       "      <td>-0.38</td>\n",
       "    </tr>\n",
       "    <tr>\n",
       "      <th>2007-07-01</th>\n",
       "      <td>0.07</td>\n",
       "    </tr>\n",
       "    <tr>\n",
       "      <th>2007-10-01</th>\n",
       "      <td>1.85</td>\n",
       "    </tr>\n",
       "    <tr>\n",
       "      <th>2008-01-01</th>\n",
       "      <td>-0.34</td>\n",
       "    </tr>\n",
       "    <tr>\n",
       "      <th>2008-04-01</th>\n",
       "      <td>-0.42</td>\n",
       "    </tr>\n",
       "    <tr>\n",
       "      <th>2008-07-01</th>\n",
       "      <td>0.02</td>\n",
       "    </tr>\n",
       "    <tr>\n",
       "      <th>2008-10-01</th>\n",
       "      <td>2.11</td>\n",
       "    </tr>\n",
       "    <tr>\n",
       "      <th>2009-01-01</th>\n",
       "      <td>-0.39</td>\n",
       "    </tr>\n",
       "    <tr>\n",
       "      <th>2009-04-01</th>\n",
       "      <td>-0.40</td>\n",
       "    </tr>\n",
       "    <tr>\n",
       "      <th>2009-07-01</th>\n",
       "      <td>0.21</td>\n",
       "    </tr>\n",
       "    <tr>\n",
       "      <th>2009-10-01</th>\n",
       "      <td>2.10</td>\n",
       "    </tr>\n",
       "    <tr>\n",
       "      <th>2010-01-01</th>\n",
       "      <td>-0.39</td>\n",
       "    </tr>\n",
       "    <tr>\n",
       "      <th>2010-04-01</th>\n",
       "      <td>-0.37</td>\n",
       "    </tr>\n",
       "    <tr>\n",
       "      <th>2010-07-01</th>\n",
       "      <td>0.20</td>\n",
       "    </tr>\n",
       "    <tr>\n",
       "      <th>2010-10-01</th>\n",
       "      <td>2.14</td>\n",
       "    </tr>\n",
       "    <tr>\n",
       "      <th>2011-01-01</th>\n",
       "      <td>-0.35</td>\n",
       "    </tr>\n",
       "    <tr>\n",
       "      <th>2011-04-01</th>\n",
       "      <td>-0.37</td>\n",
       "    </tr>\n",
       "    <tr>\n",
       "      <th>2011-07-01</th>\n",
       "      <td>0.10</td>\n",
       "    </tr>\n",
       "    <tr>\n",
       "      <th>2011-10-01</th>\n",
       "      <td>2.26</td>\n",
       "    </tr>\n",
       "    <tr>\n",
       "      <th>2012-01-01</th>\n",
       "      <td>-0.24</td>\n",
       "    </tr>\n",
       "    <tr>\n",
       "      <th>2012-04-01</th>\n",
       "      <td>-0.38</td>\n",
       "    </tr>\n",
       "    <tr>\n",
       "      <th>2012-07-01</th>\n",
       "      <td>-0.01</td>\n",
       "    </tr>\n",
       "    <tr>\n",
       "      <th>2012-10-01</th>\n",
       "      <td>2.02</td>\n",
       "    </tr>\n",
       "    <tr>\n",
       "      <th>2013-01-01</th>\n",
       "      <td>-0.38</td>\n",
       "    </tr>\n",
       "    <tr>\n",
       "      <th>2013-04-01</th>\n",
       "      <td>-0.36</td>\n",
       "    </tr>\n",
       "    <tr>\n",
       "      <th>2013-07-01</th>\n",
       "      <td>-0.22</td>\n",
       "    </tr>\n",
       "    <tr>\n",
       "      <th>2013-10-01</th>\n",
       "      <td>2.56</td>\n",
       "    </tr>\n",
       "    <tr>\n",
       "      <th>2014-01-01</th>\n",
       "      <td>-0.42</td>\n",
       "    </tr>\n",
       "    <tr>\n",
       "      <th>2014-04-01</th>\n",
       "      <td>-0.40</td>\n",
       "    </tr>\n",
       "    <tr>\n",
       "      <th>2014-07-01</th>\n",
       "      <td>-0.78</td>\n",
       "    </tr>\n",
       "    <tr>\n",
       "      <th>2014-10-01</th>\n",
       "      <td>1.58</td>\n",
       "    </tr>\n",
       "    <tr>\n",
       "      <th>2015-01-01</th>\n",
       "      <td>-0.40</td>\n",
       "    </tr>\n",
       "    <tr>\n",
       "      <th>2015-04-01</th>\n",
       "      <td>-0.46</td>\n",
       "    </tr>\n",
       "    <tr>\n",
       "      <th>2015-07-01</th>\n",
       "      <td>-0.13</td>\n",
       "    </tr>\n",
       "    <tr>\n",
       "      <th>2015-10-01</th>\n",
       "      <td>2.71</td>\n",
       "    </tr>\n",
       "    <tr>\n",
       "      <th>2016-01-01</th>\n",
       "      <td>-0.35</td>\n",
       "    </tr>\n",
       "    <tr>\n",
       "      <th>2016-04-01</th>\n",
       "      <td>-0.56</td>\n",
       "    </tr>\n",
       "    <tr>\n",
       "      <th>2016-07-01</th>\n",
       "      <td>-0.34</td>\n",
       "    </tr>\n",
       "    <tr>\n",
       "      <th>2016-10-01</th>\n",
       "      <td>3.17</td>\n",
       "    </tr>\n",
       "    <tr>\n",
       "      <th>2017-01-01</th>\n",
       "      <td>-0.55</td>\n",
       "    </tr>\n",
       "    <tr>\n",
       "      <th>2017-04-01</th>\n",
       "      <td>-0.67</td>\n",
       "    </tr>\n",
       "    <tr>\n",
       "      <th>2017-07-01</th>\n",
       "      <td>-0.45</td>\n",
       "    </tr>\n",
       "    <tr>\n",
       "      <th>2017-10-01</th>\n",
       "      <td>3.76</td>\n",
       "    </tr>\n",
       "  </tbody>\n",
       "</table>\n",
       "</div>"
      ],
      "text/plain": [
       "            Earnings\n",
       "Quarter             \n",
       "2007-01-01     -0.36\n",
       "2007-04-01     -0.38\n",
       "2007-07-01      0.07\n",
       "2007-10-01      1.85\n",
       "2008-01-01     -0.34\n",
       "2008-04-01     -0.42\n",
       "2008-07-01      0.02\n",
       "2008-10-01      2.11\n",
       "2009-01-01     -0.39\n",
       "2009-04-01     -0.40\n",
       "2009-07-01      0.21\n",
       "2009-10-01      2.10\n",
       "2010-01-01     -0.39\n",
       "2010-04-01     -0.37\n",
       "2010-07-01      0.20\n",
       "2010-10-01      2.14\n",
       "2011-01-01     -0.35\n",
       "2011-04-01     -0.37\n",
       "2011-07-01      0.10\n",
       "2011-10-01      2.26\n",
       "2012-01-01     -0.24\n",
       "2012-04-01     -0.38\n",
       "2012-07-01     -0.01\n",
       "2012-10-01      2.02\n",
       "2013-01-01     -0.38\n",
       "2013-04-01     -0.36\n",
       "2013-07-01     -0.22\n",
       "2013-10-01      2.56\n",
       "2014-01-01     -0.42\n",
       "2014-04-01     -0.40\n",
       "2014-07-01     -0.78\n",
       "2014-10-01      1.58\n",
       "2015-01-01     -0.40\n",
       "2015-04-01     -0.46\n",
       "2015-07-01     -0.13\n",
       "2015-10-01      2.71\n",
       "2016-01-01     -0.35\n",
       "2016-04-01     -0.56\n",
       "2016-07-01     -0.34\n",
       "2016-10-01      3.17\n",
       "2017-01-01     -0.55\n",
       "2017-04-01     -0.67\n",
       "2017-07-01     -0.45\n",
       "2017-10-01      3.76"
      ]
     },
     "execution_count": 16,
     "metadata": {},
     "output_type": "execute_result"
    }
   ],
   "source": [
    "HRB.index = pd.to_datetime(HRB.index)\n",
    "HRB"
   ]
  },
  {
   "cell_type": "markdown",
   "id": "16b6a412",
   "metadata": {},
   "source": [
    "## Exercise 3: Taxing Exercise: Compute the ACF\n",
    "\n",
    "In the last chapter, you computed autocorrelations with one lag. Often we are interested in seeing the autocorrelation over many lags. \n",
    "\n",
    "<img src=\"t-2.jpg\" style=\"max-width:400px\">\n",
    "\n",
    "In The quarterly earnings for H&R Block (ticker symbol HRB) is plot above, and you can see the extreme cyclicality of its earnings. A vast majority of its earnings occurs in the quarter that taxes are due.\n",
    "\n",
    "You will compute the array of autocorrelations for the H&R Block quarterly earnings that is pre-loaded in the DataFrame `HRB`. \n",
    "\n",
    "Then, plot the autocorrelation function using the `plot_acf` module. This plot shows what the autocorrelation function looks like for cyclical earnings data. The `ACF at lag=0 is always one`, of course. For now, suppress the confidence interval by setting `alpha=1`.\n",
    "\n",
    "- Import the acf module and plot_acf module from statsmodels.\n",
    "\n",
    "\n",
    "- Compute the array of autocorrelations of the quarterly earnings data in DataFrame HRB.\n",
    "\n",
    "\n",
    "- Plot the autocorrelation function of the quarterly earnings data in HRB, and pass the argument alpha=1 to suppress the confidence interval."
   ]
  },
  {
   "cell_type": "code",
   "execution_count": 17,
   "id": "8efa35a8",
   "metadata": {},
   "outputs": [],
   "source": [
    "from statsmodels.graphics.tsaplots import plot_acf\n",
    "from statsmodels.tsa.stattools import acf"
   ]
  },
  {
   "cell_type": "code",
   "execution_count": 18,
   "id": "07ce05d8",
   "metadata": {},
   "outputs": [
    {
     "data": {
      "text/plain": [
       "-0.24428975075297543"
      ]
     },
     "execution_count": 18,
     "metadata": {},
     "output_type": "execute_result"
    }
   ],
   "source": [
    "ac_quart_earn = HRB[\"Earnings\"].autocorr()\n",
    "ac_quart_earn"
   ]
  },
  {
   "cell_type": "code",
   "execution_count": 19,
   "id": "06cfce5e",
   "metadata": {},
   "outputs": [
    {
     "name": "stderr",
     "output_type": "stream",
     "text": [
      "C:\\Users\\User\\anaconda3\\lib\\site-packages\\statsmodels\\tsa\\stattools.py:657: FutureWarning: The default number of lags is changing from 40 tomin(int(10 * np.log10(nobs)), nobs - 1) after 0.12is released. Set the number of lags to an integer to  silence this warning.\n",
      "  warnings.warn(\n"
     ]
    },
    {
     "data": {
      "text/plain": [
       "array([ 1.        , -0.22122696, -0.39856504, -0.26615093,  0.83479804,\n",
       "       -0.1901038 , -0.3475634 , -0.23140368,  0.71995993, -0.15661007,\n",
       "       -0.29766783, -0.22097189,  0.61656933, -0.15022869, -0.27922022,\n",
       "       -0.22465946,  0.5725259 , -0.08758288, -0.24075584, -0.20363054,\n",
       "        0.4797058 , -0.06091139, -0.20935484, -0.18303202,  0.42481275,\n",
       "       -0.03352559, -0.17471087, -0.16384328,  0.34341079, -0.01734364,\n",
       "       -0.13820811, -0.12232172,  0.28407164, -0.01927656, -0.11757974,\n",
       "       -0.10386933,  0.20156485, -0.0120634 , -0.07509539, -0.0707104 ,\n",
       "        0.10222029])"
      ]
     },
     "execution_count": 19,
     "metadata": {},
     "output_type": "execute_result"
    }
   ],
   "source": [
    "acf_array = acf(HRB, fft=False)\n",
    "acf_array"
   ]
  },
  {
   "cell_type": "code",
   "execution_count": 20,
   "id": "df09b5c7",
   "metadata": {},
   "outputs": [
    {
     "data": {
      "image/png": "[encoded data removed]",
      "text/plain": [
       "<Figure size 432x288 with 1 Axes>"
      ]
     },
     "metadata": {
      "needs_background": "light"
     },
     "output_type": "display_data"
    }
   ],
   "source": [
    "plot_acf(HRB, alpha = 1)\n",
    "plt.show()"
   ]
  },
  {
   "cell_type": "markdown",
   "id": "37bd7445",
   "metadata": {},
   "source": [
    "Notice the strong positive autocorrelation at lags 4, 8, 12, 16,20, ..."
   ]
  },
  {
   "cell_type": "code",
   "execution_count": null,
   "id": "a16a1f69",
   "metadata": {},
   "outputs": [],
   "source": []
  },
  {
   "cell_type": "code",
   "execution_count": 21,
   "id": "0f554988",
   "metadata": {},
   "outputs": [
    {
     "data": {
      "text/html": [
       "<div>\n",
       "<style scoped>\n",
       "    .dataframe tbody tr th:only-of-type {\n",
       "        vertical-align: middle;\n",
       "    }\n",
       "\n",
       "    .dataframe tbody tr th {\n",
       "        vertical-align: top;\n",
       "    }\n",
       "\n",
       "    .dataframe thead th {\n",
       "        text-align: right;\n",
       "    }\n",
       "</style>\n",
       "<table border=\"1\" class=\"dataframe\">\n",
       "  <thead>\n",
       "    <tr style=\"text-align: right;\">\n",
       "      <th></th>\n",
       "      <th>Adj Close</th>\n",
       "    </tr>\n",
       "    <tr>\n",
       "      <th>Date</th>\n",
       "      <th></th>\n",
       "    </tr>\n",
       "  </thead>\n",
       "  <tbody>\n",
       "    <tr>\n",
       "      <th>2012-08-19</th>\n",
       "      <td>0.022508</td>\n",
       "    </tr>\n",
       "    <tr>\n",
       "      <th>2012-08-26</th>\n",
       "      <td>-0.011003</td>\n",
       "    </tr>\n",
       "    <tr>\n",
       "      <th>2012-09-02</th>\n",
       "      <td>0.008508</td>\n",
       "    </tr>\n",
       "    <tr>\n",
       "      <th>2012-09-09</th>\n",
       "      <td>0.004218</td>\n",
       "    </tr>\n",
       "    <tr>\n",
       "      <th>2012-09-16</th>\n",
       "      <td>0.008400</td>\n",
       "    </tr>\n",
       "  </tbody>\n",
       "</table>\n",
       "</div>"
      ],
      "text/plain": [
       "            Adj Close\n",
       "Date                 \n",
       "2012-08-19   0.022508\n",
       "2012-08-26  -0.011003\n",
       "2012-09-02   0.008508\n",
       "2012-09-09   0.004218\n",
       "2012-09-16   0.008400"
      ]
     },
     "execution_count": 21,
     "metadata": {},
     "output_type": "execute_result"
    }
   ],
   "source": [
    "returns = returns.iloc[1:]\n",
    "returns.head()"
   ]
  },
  {
   "cell_type": "markdown",
   "id": "d26c3d86",
   "metadata": {},
   "source": [
    "## Exercise 4: Are We Confident This Stock is Mean Reverting?\n",
    "\n",
    "In the Exercise 1, you saw that the autocorrelation of MSFT's weekly stock returns was -0.16. That autocorrelation seems large, but is it statistically significant? In other words, can you say that there is less than a 5% chance that we would observe such a large negative autocorrelation if the true autocorrelation were really zero? And are there any autocorrelations at other lags that are significantly different from zero?\n",
    "\n",
    "Even if the true autocorrelations were zero at all lags, in a finite sample of returns you won't see the estimate of the autocorrelations exactly zero. In fact, the standard deviation of the sample autocorrelation is `1/root(N)` where `N` is the number of observations, so if , for example, the standard deviation of the ACF is `0.1`, and since `95%` of a normal curve is between `+1.96 and -1.96` standard deviations from the mean, the 95% confidence interval is `(+-)1.96/root(N)` . This approximation only holds when the true autocorrelations are all zero.\n",
    "\n",
    "\n",
    "You will compute the actual and approximate confidence interval for the ACF, and compare it to the lag-one autocorrelation of -0.16 from the Exercise 1. The weekly returns of Microsoft is pre-loaded in a DataFrame called `returns`.\n",
    "\n",
    "\n",
    "- Recompute the autocorrelation of weekly returns in the Series 'Adj Close' in the returns DataFrame.\n",
    "\n",
    "\n",
    "- Find the number of observations in the returns DataFrame using the len() function.\n",
    "\n",
    "\n",
    "- Approximate the 95% confidence interval of the estimated autocorrelation. The math function sqrt() has been imported and can be used.\n",
    "\n",
    "\n",
    "- Plot the autocorrelation function of returns using plot_acf that was imported from statsmodels. Set alpha=0.05 for the confidence intervals (that's the default) and lags=20."
   ]
  },
  {
   "cell_type": "code",
   "execution_count": 22,
   "id": "716ece00",
   "metadata": {},
   "outputs": [
    {
     "name": "stdout",
     "output_type": "stream",
     "text": [
      "The autocorrelation of weekly MSFT returns is -0.16\n"
     ]
    }
   ],
   "source": [
    "# Compute and print the autocorrelation of MSFT weekly returns\n",
    "autocorrelation = returns['Adj Close'].autocorr()\n",
    "print(\"The autocorrelation of weekly MSFT returns is %4.2f\" %(autocorrelation))"
   ]
  },
  {
   "cell_type": "code",
   "execution_count": 23,
   "id": "33bbfe0d",
   "metadata": {},
   "outputs": [
    {
     "data": {
      "text/plain": [
       "260"
      ]
     },
     "execution_count": 23,
     "metadata": {},
     "output_type": "execute_result"
    }
   ],
   "source": [
    "# Find the number of observations by taking the length of the returns DataFrame\n",
    "nobs = len(returns)\n",
    "nobs"
   ]
  },
  {
   "cell_type": "code",
   "execution_count": 24,
   "id": "2123d798",
   "metadata": {},
   "outputs": [],
   "source": [
    "import numpy as np"
   ]
  },
  {
   "cell_type": "code",
   "execution_count": 25,
   "id": "d57edf37",
   "metadata": {},
   "outputs": [
    {
     "name": "stdout",
     "output_type": "stream",
     "text": [
      "The approximate confidence interval is +/- 0.12\n"
     ]
    }
   ],
   "source": [
    "# Compute the approximate confidence interval\n",
    "conf = 1.96/np.sqrt(nobs)\n",
    "print(\"The approximate confidence interval is +/- %4.2f\" %(conf))"
   ]
  },
  {
   "cell_type": "code",
   "execution_count": 26,
   "id": "5493e5c3",
   "metadata": {},
   "outputs": [
    {
     "data": {
      "image/png": "[encoded data removed]",
      "text/plain": [
       "<Figure size 432x288 with 1 Axes>"
      ]
     },
     "metadata": {
      "needs_background": "light"
     },
     "output_type": "display_data"
    }
   ],
   "source": [
    "plot_acf(returns, lags = 20, alpha = 0.05)\n",
    "plt.show()"
   ]
  },
  {
   "cell_type": "code",
   "execution_count": null,
   "id": "736c613a",
   "metadata": {},
   "outputs": [],
   "source": []
  },
  {
   "cell_type": "markdown",
   "id": "11f7fc15",
   "metadata": {},
   "source": [
    "### White Noise\n",
    "Although people define white noise slightly differently, a general definition is that it is a `series` with `mean` that is `constant with time`, a `variance` that is also `constant with time`, and `zero autocorrelation at all lags`. \n",
    "\n",
    "There are several special cases of White Noise. For example, if the data is white noise but also has a normal, or Gaussian, distribution, then it is called `Gaussian White Noise`.\n",
    "\n",
    "### Simulating White Noise\n",
    "\n",
    "numpy random normal creates an array of normally distributed random numbers. \n",
    "\n",
    "<img src=\"wn.jpg\" style=\"max-width:400px\">\n",
    "\n",
    "The `loc` argument is the `mean` and the `scale` argument is the `standard deviation`. This is one way to generate a white noise series.\n",
    "\n",
    "<img src=\"wn-1.jpg\" style=\"max-width:400px\">\n",
    "\n",
    "And here is a plot of the white noise series.\n",
    "\n",
    "### Autocorrelation of White Noise\n",
    "\n",
    "<img src=\"wn-2.jpg\" style=\"max-width:400px\">\n",
    "\n",
    "And `all the autocorrelations of a white noise series are zero`. The `returns` on the `stock market` are pretty `close to a white noise` process.\n",
    "\n",
    "### Stock Market Returns: Close to White Noise\n",
    "\n",
    "<img src=\"wn-3.jpg\" style=\"max-width:400px\">\n",
    "\n",
    "Here is the autocorrelation function for the S&P500. Notice that there are pretty much no lags where the autocorrelation is significantly different from zero."
   ]
  },
  {
   "cell_type": "code",
   "execution_count": null,
   "id": "0b81d296",
   "metadata": {},
   "outputs": [],
   "source": []
  },
  {
   "cell_type": "markdown",
   "id": "378c3961",
   "metadata": {},
   "source": [
    "## Exercise 5: Can't Forecast White Noise\n",
    "\n",
    "A `white noise time series` is simply a `sequence of uncorrelated random variables` that are `identically distributed`. \n",
    "\n",
    "`Stock returns` are often modeled as white noise. Unfortunately, for white noise, `we cannot forecast future observations based on the past` - autocorrelations at all lags are zero.\n",
    "\n",
    "You will generate a white noise series and plot the autocorrelation function to show that it is zero for all lags. You can use `np.random.normal()` to generate random returns. For a Gaussian white noise process, the mean and standard deviation describe the entire process.\n",
    "\n",
    "Plot this white noise series to see what it looks like, and then plot the autocorrelation function.\n",
    "\n",
    "\n",
    "- Generate 1000 random normal returns using np.random.normal() with mean 2% (0.02) and standard deviation 5% (0.05), where the argument for the mean is loc and the argument for the standard deviation is scale.\n",
    "\n",
    "\n",
    "- Verify the mean and standard deviation of returns using np.mean() and np.std().\n",
    "\n",
    "\n",
    "- Plot the time series. Plot the autocorrelation function using plot_acf with lags=20."
   ]
  },
  {
   "cell_type": "code",
   "execution_count": 27,
   "id": "18ddf8c8",
   "metadata": {},
   "outputs": [],
   "source": [
    "noise = np.random.normal(loc = 0.02, scale = 0.05, size = 1000)\n",
    "# noise"
   ]
  },
  {
   "cell_type": "code",
   "execution_count": 28,
   "id": "ffafe82c",
   "metadata": {},
   "outputs": [
    {
     "data": {
      "text/plain": [
       "0.02181987740587777"
      ]
     },
     "execution_count": 28,
     "metadata": {},
     "output_type": "execute_result"
    }
   ],
   "source": [
    "mean = np.mean(noise)\n",
    "mean"
   ]
  },
  {
   "cell_type": "code",
   "execution_count": 29,
   "id": "1619cfa7",
   "metadata": {},
   "outputs": [
    {
     "data": {
      "text/plain": [
       "0.05027204031582523"
      ]
     },
     "execution_count": 29,
     "metadata": {},
     "output_type": "execute_result"
    }
   ],
   "source": [
    "std = np.std(noise)\n",
    "std"
   ]
  },
  {
   "cell_type": "code",
   "execution_count": 30,
   "id": "c1ccd380",
   "metadata": {},
   "outputs": [
    {
     "data": {
      "image/png": "[encoded data removed]",
      "text/plain": [
       "<Figure size 432x288 with 1 Axes>"
      ]
     },
     "metadata": {
      "needs_background": "light"
     },
     "output_type": "display_data"
    }
   ],
   "source": [
    "plt.plot(noise)\n",
    "plt.show()"
   ]
  },
  {
   "cell_type": "code",
   "execution_count": 31,
   "id": "84ec8236",
   "metadata": {},
   "outputs": [
    {
     "data": {
      "image/png": "[encoded data removed]",
      "text/plain": [
       "<Figure size 432x288 with 1 Axes>"
      ]
     },
     "metadata": {
      "needs_background": "light"
     },
     "output_type": "display_data"
    }
   ],
   "source": [
    "plot_acf(noise, lags = 20)\n",
    "plt.show()"
   ]
  },
  {
   "cell_type": "markdown",
   "id": "7c904015",
   "metadata": {},
   "source": [
    "Notice that for a white noise time series, all the autocorrelations are close to zero, so the past will not help you forecast the future."
   ]
  },
  {
   "cell_type": "code",
   "execution_count": null,
   "id": "aad72193",
   "metadata": {},
   "outputs": [],
   "source": []
  },
  {
   "cell_type": "markdown",
   "id": "9157d167",
   "metadata": {},
   "source": [
    "### Random Walk\n",
    "In a random walk, today's price is equal to yesterday's price plus some noise. Here is a plot of a simulated random walk.\n",
    "\n",
    "<img src=\"rw.jpg\" style=\"max-width:600px\">\n",
    "\n",
    "The `change in price` of a `random walk` is just `White Noise`. Incidentally, if prices are in logs, then the difference in log prices is one way to measure returns. \n",
    "\n",
    "<img src=\"rw-1.jpg\" style=\"max-width:600px\">\n",
    "\n",
    "`The bottom line is that if stock *prices* follow a random walk, then stock *returns* are White Noise`. You can't forecast a random walk. The best guess for tomorrow's price is simply today's price.\n",
    "\n",
    "<img src=\"rw-2.jpg\" style=\"max-width:600px\">\n",
    "\n",
    "In a `random walk with drift`, prices on average drift by mu every period. And the change in price for a random walk with drift is still white noise but with a mean of mu. So if we now think of stock prices as a random walk with drift, then the returns are still white noise, but with an average return of mu instead of zero.\n",
    "\n",
    "\n",
    "### Statistical Test for Random Walk\n",
    "\n",
    "To test whether a series like stock prices follows a random walk, you can regress current prices on lagged prices. \n",
    "\n",
    "<img src=\"rw-3.jpg\" style=\"max-width:600px\">\n",
    "\n",
    "If the slope coefficient, beta, is not significantly different from one, then we cannot reject the null hypothesis that the series is a random walk. However, if the slope coefficient is significantly less than one, then we can reject the null hypothesis that the series is a random walk.\n",
    "\n",
    "<img src=\"rw-5.jpg\" style=\"max-width:600px\">\n",
    "\n",
    "An identical way to do that test is to regress the difference in prices on the lagged price, and instead of testing whether the slope coefficient is 1, now we test whether it is zero. This is called the \"Dickey-Fuller\" test. If you add more lagged prices on the right hand side, then it's called the Augmented Dickey-Fuller test."
   ]
  },
  {
   "cell_type": "code",
   "execution_count": null,
   "id": "55dad062",
   "metadata": {},
   "outputs": [],
   "source": []
  },
  {
   "cell_type": "markdown",
   "id": "08f4045b",
   "metadata": {},
   "source": [
    "## Exercise 6: Generate a Random Walk\n",
    "\n",
    "Whereas `stock returns` are often modeled as `white noise`, `stock prices` closely follow a `random walk`. In other words, today's price is yesterday's price plus some random noise.\n",
    "\n",
    "You will simulate the price of a stock over time that has a starting price of `100` and every day goes `up or down` by a `random amount`. Then, plot the simulated stock price. If you hit the \"Run Code\" code button multiple times, you'll see several realizations.\n",
    "\n",
    "\n",
    "- Generate 500 random normal \"steps\" with mean=0 and standard deviation=1 using np.random.normal(), where the argument for the mean is loc and the argument for the standard deviation is scale.\n",
    "\n",
    "- Set first element to 0 so that the first price will be the starting stock price.\n",
    "\n",
    "- Simulate stock prices P: Cumulate the random steps using the numpy .cumsum() method. Add 100 to P to get a starting stock price of 100. \n",
    "\n",
    "\n",
    "- Plot the simulated random walk."
   ]
  },
  {
   "cell_type": "code",
   "execution_count": 32,
   "id": "1a13d031",
   "metadata": {},
   "outputs": [],
   "source": [
    "steps = np.random.normal(loc = 0, scale = 1, size = 500)\n",
    "# steps"
   ]
  },
  {
   "cell_type": "code",
   "execution_count": 33,
   "id": "41038b38",
   "metadata": {},
   "outputs": [],
   "source": [
    "steps[0] = 0"
   ]
  },
  {
   "cell_type": "code",
   "execution_count": 34,
   "id": "a2e6159b",
   "metadata": {
    "scrolled": true
   },
   "outputs": [],
   "source": [
    "P = np.cumsum(steps) \n",
    "P = 100 + P\n",
    "# P"
   ]
  },
  {
   "cell_type": "code",
   "execution_count": 35,
   "id": "a23152d4",
   "metadata": {},
   "outputs": [
    {
     "data": {
      "image/png": "[encoded data removed]",
      "text/plain": [
       "<Figure size 432x288 with 1 Axes>"
      ]
     },
     "metadata": {
      "needs_background": "light"
     },
     "output_type": "display_data"
    }
   ],
   "source": [
    "plt.plot(P)\n",
    "plt.show()"
   ]
  },
  {
   "cell_type": "markdown",
   "id": "6387f29e",
   "metadata": {},
   "source": [
    "The simulated price series you plotted should closely resemble a random walk."
   ]
  },
  {
   "cell_type": "code",
   "execution_count": null,
   "id": "216f2fa4",
   "metadata": {},
   "outputs": [],
   "source": []
  },
  {
   "cell_type": "markdown",
   "id": "aa7efdfb",
   "metadata": {},
   "source": [
    "## Exercise 7: Get the Drift\n",
    "\n",
    "In the last exercise, you simulated stock prices that follow a random walk. You will extend this in two ways in this exercise.\n",
    "\n",
    "\n",
    "1. You will look at a random walk with a drift. Many time series, like stock prices, are random walks but tend to drift up over time.\n",
    "\n",
    "\n",
    "2. In the last exercise, the noise in the random walk was additive: random, normal changes in price were added to the last price. However, when adding noise, you could theoretically get negative prices. Now you will make the noise multiplicative: you will add one to the random, normal changes to get a total return, and multiply that by the last price.\n",
    "\n",
    "\n",
    "- Generate 500 random normal multiplicative \"steps\" with mean 0.1% and standard deviation 1% using np.random.normal(), which are now returns, and add one for total return.\n",
    "\n",
    "\n",
    "- Set first element to 1\n",
    "\n",
    "\n",
    "- Simulate stock prices P: Cumulate the product of the steps using the numpy .cumprod() method. Multiply the cumulative product of total returns by 100 to get a starting value of 100. \n",
    "\n",
    "\n",
    "- Plot the simulated random walk with drift."
   ]
  },
  {
   "cell_type": "code",
   "execution_count": 36,
   "id": "8d7ade77",
   "metadata": {
    "scrolled": true
   },
   "outputs": [],
   "source": [
    "returns = np.random.normal(loc = 0.001 , scale = 0.01 , size = 500) + 1\n",
    "#returns"
   ]
  },
  {
   "cell_type": "code",
   "execution_count": 37,
   "id": "e9821b0b",
   "metadata": {},
   "outputs": [],
   "source": [
    "returns[0] = 1"
   ]
  },
  {
   "cell_type": "code",
   "execution_count": 38,
   "id": "7da0cdd8",
   "metadata": {
    "scrolled": true
   },
   "outputs": [
    {
     "data": {
      "text/plain": [
       "array([100.        , 100.19066202,  99.58897794,  97.4373128 ,\n",
       "        97.64587776,  98.27751671,  97.73267459,  97.14481225,\n",
       "        96.17056212,  95.61512823,  96.89382267,  96.57151631,\n",
       "        96.61914766,  96.45193053,  95.31286398,  95.43173089,\n",
       "        97.10055991,  97.75425311,  97.9587383 ,  96.74502227,\n",
       "        95.51716155,  96.049522  ,  96.18238116,  95.23153715,\n",
       "        94.40017761,  93.44478645,  92.79963942,  93.80312764,\n",
       "        94.66011032,  94.94946704,  95.21279988,  96.02346837,\n",
       "        96.42444988,  96.70239239,  98.14352684,  97.7556191 ,\n",
       "        98.03178985,  98.18344796,  98.11734439,  98.53481611,\n",
       "        97.80862121,  98.75672526,  97.03718882,  98.39003843,\n",
       "        97.73560965,  97.89864875,  97.4132849 ,  96.93283495,\n",
       "        97.50203501,  96.74150507,  97.36479197,  98.77269362,\n",
       "        98.27322611, 100.05563823, 100.38343432, 100.18807725,\n",
       "        99.5486128 ,  99.69040036, 100.40214894, 100.37406232,\n",
       "        99.16256941,  98.67442153,  98.43994997,  99.16761378,\n",
       "        99.3161121 ,  97.96849124,  97.76550783,  98.03766985,\n",
       "        97.10089134,  98.46107231,  99.27847993,  99.92682681,\n",
       "        99.66404023,  99.27371164, 100.55306729, 100.80373009,\n",
       "        99.38900654,  98.73263932,  98.808982  ,  98.07557932,\n",
       "        98.8819274 ,  98.60043799,  99.5420179 ,  98.90534527,\n",
       "       100.43612395, 101.10200123, 101.77397187, 101.88467427,\n",
       "       101.25069226, 102.36099626, 101.37340494, 101.29822215,\n",
       "       100.7987535 , 101.19738596, 100.20229755,  99.52378308,\n",
       "        99.41771141, 101.99041647, 101.52655133, 101.50122214,\n",
       "       101.95025331, 101.7566332 , 100.01523468,  99.52759889,\n",
       "        98.22506154,  99.18161951,  98.0412069 ,  97.47106291,\n",
       "        96.06913109,  94.93641871,  94.63470682,  95.0908136 ,\n",
       "        96.13768431,  95.30921361,  95.98601827,  95.09726393,\n",
       "        93.37486277,  93.20284897,  92.90154446,  92.61218576,\n",
       "        92.61539325,  92.51822029,  91.744574  ,  89.9030627 ,\n",
       "        88.47821671,  86.69104835,  85.69955196,  84.69891896,\n",
       "        85.52442829,  87.1524614 ,  88.24815549,  88.02323969,\n",
       "        87.74965039,  85.56048834,  85.27586822,  85.36580284,\n",
       "        85.47153516,  85.44116385,  85.72143215,  85.76091448,\n",
       "        87.61860949,  86.55461806,  85.1186787 ,  85.59285616,\n",
       "        84.81647167,  85.3213268 ,  85.9680354 ,  84.67898016,\n",
       "        83.75393059,  83.17971042,  82.8133546 ,  83.61806631,\n",
       "        83.61851985,  83.70179414,  84.28866856,  83.57521992,\n",
       "        82.98826897,  84.56875962,  83.8804367 ,  83.19075546,\n",
       "        81.92222378,  81.92952259,  81.66492003,  81.82963997,\n",
       "        80.91698579,  81.12180829,  80.83069117,  80.79771445,\n",
       "        80.55730819,  80.70903206,  80.71676453,  80.93434872,\n",
       "        82.3434357 ,  81.681294  ,  81.36618625,  82.70896624,\n",
       "        82.08286213,  84.01043911,  83.14001978,  84.36048691,\n",
       "        84.75860784,  86.49235709,  87.12090906,  87.55158868,\n",
       "        88.53313017,  90.42257127,  91.01966629,  90.79170607,\n",
       "        91.49652353,  91.5360495 ,  90.73515193,  91.13907975,\n",
       "        92.24231055,  93.56006609,  92.65452068,  93.30568803,\n",
       "        93.35858004,  92.11071553,  93.00553278,  93.12224826,\n",
       "        93.23561144,  94.60889377,  95.17326806,  96.08822369,\n",
       "        95.97475129,  96.73434259,  94.6834406 ,  93.91076991,\n",
       "        94.64377133,  95.08699818,  95.18789723,  95.51080453,\n",
       "        96.72345928,  96.80634766,  95.47249182,  95.74893544,\n",
       "        95.49579971,  95.11887333,  94.40075145,  94.19607914,\n",
       "        95.29177775,  94.36036082,  94.10386245,  94.74314339,\n",
       "        93.86515909,  94.5174424 ,  95.92581881,  95.84674174,\n",
       "        96.15887815,  97.06419765,  98.12735924,  98.1839783 ,\n",
       "        98.86355959,  98.01725178,  98.29761912, 100.21585512,\n",
       "       101.24548509, 100.97577463, 101.29630106, 101.12661873,\n",
       "        99.94766191,  99.19688347, 100.1884955 ,  98.95247233,\n",
       "        99.06368863, 100.04110567,  98.6163648 ,  97.34746421,\n",
       "        99.38215938,  97.79462933,  96.91045786,  96.77764465,\n",
       "        97.4533781 ,  96.61418618,  97.3738606 ,  96.70623943,\n",
       "        98.24882975,  97.72182855,  98.41776028,  99.8146621 ,\n",
       "        99.34237233,  98.12334653,  98.4684687 ,  97.31314078,\n",
       "        96.78279112,  97.04156578,  97.07726699,  98.8478852 ,\n",
       "        97.02781222,  96.40184109,  95.87182793,  95.87888817,\n",
       "        96.00379113,  95.68327694,  95.23611968,  94.29620397,\n",
       "        94.42200809,  95.62740068,  97.08027023,  96.67763245,\n",
       "        96.83577007,  97.12743989,  98.8219872 ,  99.08052832,\n",
       "        99.91928006, 100.42863378, 100.69065107, 101.79461406,\n",
       "       100.51194434,  99.80247056, 100.94404518, 100.3790305 ,\n",
       "       101.64375437, 101.74583583, 101.36595375, 100.51556491,\n",
       "       100.32697972, 100.63000567, 101.73145699, 100.62673553,\n",
       "        99.26251304,  98.5311989 , 100.35591978, 100.21555095,\n",
       "        98.65846576,  97.75588741,  96.51013602,  96.13691581,\n",
       "        95.53767017,  94.85005418,  94.88950612,  96.00526664,\n",
       "        95.32346342,  95.23298057,  95.58866392,  95.37650377,\n",
       "        95.39093652,  96.11385511,  96.43613379,  98.0854322 ,\n",
       "        97.13360244,  98.11900725,  99.41374275,  99.63874298,\n",
       "        98.99782199,  99.17132401,  99.58973527,  99.98705887,\n",
       "       100.14954318, 100.63716645, 100.11828904,  99.5908621 ,\n",
       "        99.40255188, 100.17021289, 102.02672777, 101.79485353,\n",
       "       102.05660037, 100.666714  , 100.97318449, 101.06811259,\n",
       "       101.89619865, 102.86315786, 101.6386419 , 102.32367565,\n",
       "       101.44299177, 101.69282247, 101.08251549, 100.85637431,\n",
       "       100.84124609, 102.23666595, 101.95122398, 101.38382877,\n",
       "       101.61644391, 102.31752672, 102.924505  , 102.94244255,\n",
       "       103.49057441, 102.69637337, 102.94172166, 103.70096985,\n",
       "       104.60724555, 104.42171936, 103.64885631, 102.5585018 ,\n",
       "       104.64983096, 104.18049919, 103.30429649, 104.13913748,\n",
       "       104.74588866, 105.62949172, 105.11437791, 104.85164503,\n",
       "       103.88151997, 104.20381048, 104.49000642, 104.67136643,\n",
       "       105.48107306, 105.59604556, 106.46505116, 108.17228488,\n",
       "       108.215133  , 108.04231372, 109.15935547, 110.30919832,\n",
       "       109.80623313, 110.97787083, 111.24947079, 108.81868617,\n",
       "       109.06816162, 108.56111865, 109.59443385, 110.02353259,\n",
       "       110.26066412, 109.38143822, 111.46774601, 113.19412802,\n",
       "       114.34518619, 113.73464388, 113.76995003, 112.04038936,\n",
       "       110.75283826, 111.95394308, 110.31142908, 111.03531458,\n",
       "       112.1234283 , 113.69573348, 112.77402412, 111.88020698,\n",
       "       112.00752469, 111.62557595, 110.44530818, 110.34487856,\n",
       "       110.469515  , 110.33027372, 109.57537342, 110.5225595 ,\n",
       "       112.00808519, 110.81262294, 111.56096871, 112.18001352,\n",
       "       112.15868062, 112.0072815 , 109.68270939, 109.1622    ,\n",
       "       107.30881773, 110.89870294, 112.57773733, 111.1792071 ,\n",
       "       110.60565565, 111.22748652, 112.24062824, 112.23942654,\n",
       "       111.99357521, 110.77173428, 111.30572307, 110.29129835,\n",
       "       109.24421712, 106.92038797, 109.58804874, 110.32331128,\n",
       "       109.37159278, 108.63156234, 108.08596013, 105.60651328,\n",
       "       106.56950936, 106.30801939, 104.88043943, 105.3368721 ,\n",
       "       105.00080342, 104.79636977, 103.69991001, 103.67567945,\n",
       "       104.03118398, 103.09295427, 104.43388391, 103.39789767,\n",
       "       103.51182199, 101.58524259, 101.72088357, 102.37909397,\n",
       "       101.05157525, 103.12467742, 101.97474988, 101.4637977 ,\n",
       "       102.36748283, 103.47466943, 100.94257616, 101.04999678,\n",
       "       101.79656716, 100.38106066, 101.92682984, 100.23372608,\n",
       "        99.23135469, 101.05389704, 102.5997973 , 103.04211385,\n",
       "       104.18550485, 103.54978895, 105.44676674, 104.48537051,\n",
       "       103.34395379, 104.49135244, 105.11484482, 106.23424827,\n",
       "       106.33752219, 106.15900486, 106.30266101, 106.34710089,\n",
       "       108.00969471, 108.77699432, 108.88271188, 109.61349166,\n",
       "       109.58027467, 110.27681097, 111.9532901 , 112.25541821,\n",
       "       112.1929169 , 113.76990531, 114.92822721, 115.64515567])"
      ]
     },
     "execution_count": 38,
     "metadata": {},
     "output_type": "execute_result"
    }
   ],
   "source": [
    "stock_prices = np.cumprod(returns) * 100\n",
    "stock_prices "
   ]
  },
  {
   "cell_type": "code",
   "execution_count": 39,
   "id": "220e22fb",
   "metadata": {},
   "outputs": [
    {
     "data": {
      "image/png": "[encoded data removed]",
      "text/plain": [
       "<Figure size 432x288 with 1 Axes>"
      ]
     },
     "metadata": {
      "needs_background": "light"
     },
     "output_type": "display_data"
    }
   ],
   "source": [
    "# Plot the simulated stock prices\n",
    "plt.plot(stock_prices)\n",
    "plt.title(\"Simulated Random Walk with Drift\")\n",
    "plt.show()"
   ]
  },
  {
   "cell_type": "markdown",
   "id": "e177fac7",
   "metadata": {},
   "source": [
    "This simulated price series you plotted should closely resemble a random walk for a high flying stock"
   ]
  },
  {
   "cell_type": "code",
   "execution_count": null,
   "id": "b232d6fe",
   "metadata": {},
   "outputs": [],
   "source": []
  },
  {
   "cell_type": "markdown",
   "id": "9dbb7d0d",
   "metadata": {},
   "source": [
    "### ADF Test in Python\n",
    "\n",
    "<img src=\"ad.jpg\" style=\"max-width:400px\">\n",
    "\n",
    "statsmodels has a function, adfuller, for performing the Augmented Dickey-Fuller test.\n",
    "\n",
    "### Example: Is the S&P500 a Random Walk?\n",
    "\n",
    "As an example, let's run the Augmented Dickey-Fuller test on a time series of S&P500 prices using the adfuller function. \n",
    "\n",
    "<img src=\"ad-1.jpg\" style=\"max-width:600px\">\n",
    "\n",
    "The results are stored in results. The main output we're interested in is the p-value of the test. \n",
    "\n",
    "If the p-value is less than 5%, we can reject the null hypothesis that the series is a random walk with 95% confidence. In this case, the p-value is much higher than 0.05 - it's 0.78. Therefore, we cannot reject the null hypothesis that the S&P500 is a random walk. \n",
    "\n",
    "You can also print out the full output of the test, which gives other information, like the number of observations (1257), the test statistic (-point-917) and the critical values of the test statistic for various alphas - 1%, 10%, and 5%."
   ]
  },
  {
   "cell_type": "code",
   "execution_count": 40,
   "id": "675f7e91",
   "metadata": {
    "scrolled": true
   },
   "outputs": [
    {
     "data": {
      "text/html": [
       "<div>\n",
       "<style scoped>\n",
       "    .dataframe tbody tr th:only-of-type {\n",
       "        vertical-align: middle;\n",
       "    }\n",
       "\n",
       "    .dataframe tbody tr th {\n",
       "        vertical-align: top;\n",
       "    }\n",
       "\n",
       "    .dataframe thead th {\n",
       "        text-align: right;\n",
       "    }\n",
       "</style>\n",
       "<table border=\"1\" class=\"dataframe\">\n",
       "  <thead>\n",
       "    <tr style=\"text-align: right;\">\n",
       "      <th></th>\n",
       "      <th>Adj Close</th>\n",
       "    </tr>\n",
       "    <tr>\n",
       "      <th>Date</th>\n",
       "      <th></th>\n",
       "    </tr>\n",
       "  </thead>\n",
       "  <tbody>\n",
       "    <tr>\n",
       "      <th>1997-05-15</th>\n",
       "      <td>1.958333</td>\n",
       "    </tr>\n",
       "    <tr>\n",
       "      <th>1997-05-16</th>\n",
       "      <td>1.729167</td>\n",
       "    </tr>\n",
       "    <tr>\n",
       "      <th>1997-05-19</th>\n",
       "      <td>1.708333</td>\n",
       "    </tr>\n",
       "    <tr>\n",
       "      <th>1997-05-20</th>\n",
       "      <td>1.635417</td>\n",
       "    </tr>\n",
       "    <tr>\n",
       "      <th>1997-05-21</th>\n",
       "      <td>1.427083</td>\n",
       "    </tr>\n",
       "  </tbody>\n",
       "</table>\n",
       "</div>"
      ],
      "text/plain": [
       "            Adj Close\n",
       "Date                 \n",
       "1997-05-15   1.958333\n",
       "1997-05-16   1.729167\n",
       "1997-05-19   1.708333\n",
       "1997-05-20   1.635417\n",
       "1997-05-21   1.427083"
      ]
     },
     "execution_count": 40,
     "metadata": {},
     "output_type": "execute_result"
    }
   ],
   "source": [
    "AMZN = pd.read_csv(\"AMZN.csv\")\n",
    "AMZN = AMZN.set_index(\"Date\")\n",
    "AMZN.index = pd.to_datetime(AMZN.index)\n",
    "AMZN.head()"
   ]
  },
  {
   "cell_type": "markdown",
   "id": "b30cd97d",
   "metadata": {},
   "source": [
    "## Exercise 8: Are Stock Prices a Random Walk?\n",
    "\n",
    "Most stock prices follow a random walk (perhaps with a drift). You will look at a time series of Amazon stock prices, pre-loaded in the DataFrame `AMZN`, and run the 'Augmented Dickey-Fuller Test' from the statsmodels library to show that it does indeed follow a random walk.\n",
    "\n",
    "With the ADF test, the \"null hypothesis\" (the hypothesis that we either reject or fail to reject) is that the series follows a random walk. Therefore, a low p-value (say less than 5%) means we can reject the null hypothesis that the series is a random walk.\n",
    "\n",
    "\n",
    "- Import the adfuller module from statsmodels. Run the Augmented Dickey-Fuller test on the series of closing stock prices, which is the column 'Adj Close' in the AMZN DataFrame.\n",
    "\n",
    "\n",
    "- Print out the entire output, which includes the test statistic, the p-values, and the critical values for tests with 1%, 10%, and 5% levels.\n",
    "\n",
    "\n",
    "- Print out just the p-value of the test (results[0] is the test statistic, and results[1] is the p-value)."
   ]
  },
  {
   "cell_type": "code",
   "execution_count": 41,
   "id": "f34456e1",
   "metadata": {},
   "outputs": [],
   "source": [
    "from statsmodels.tsa.stattools import adfuller"
   ]
  },
  {
   "cell_type": "code",
   "execution_count": 42,
   "id": "b6fe4e74",
   "metadata": {},
   "outputs": [
    {
     "data": {
      "text/plain": [
       "(4.025168525770738,\n",
       " 1.0,\n",
       " 33,\n",
       " 5054,\n",
       " {'1%': -3.4316445438146865,\n",
       "  '5%': -2.862112049726916,\n",
       "  '10%': -2.5670745025321304},\n",
       " 30308.64216426981)"
      ]
     },
     "execution_count": 42,
     "metadata": {},
     "output_type": "execute_result"
    }
   ],
   "source": [
    "results = adfuller(AMZN['Adj Close'])\n",
    "results"
   ]
  },
  {
   "cell_type": "code",
   "execution_count": 43,
   "id": "51312cbb",
   "metadata": {},
   "outputs": [
    {
     "name": "stdout",
     "output_type": "stream",
     "text": [
      "The p-value of the test on prices is: 1.0\n"
     ]
    }
   ],
   "source": [
    "# Just print out the p-value\n",
    "print('The p-value of the test on prices is: ' + str(results[1]))"
   ]
  },
  {
   "cell_type": "markdown",
   "id": "52952920",
   "metadata": {},
   "source": [
    "According to this test, we cannot reject the hypothesis that Amazon prices follow a random walk."
   ]
  },
  {
   "cell_type": "code",
   "execution_count": null,
   "id": "72bd2b59",
   "metadata": {},
   "outputs": [],
   "source": []
  },
  {
   "cell_type": "markdown",
   "id": "ebcb540d",
   "metadata": {},
   "source": [
    "## Exercise 9: How About Stock Returns?\n",
    "\n",
    "In the last exercise, you showed that Amazon stock prices, contained in the DataFrame AMZN follow a random walk. \n",
    "\n",
    "In this exercise. you will do the same thing for Amazon returns (percent change in prices) and show that the returns do not follow a random walk.\n",
    "\n",
    "\n",
    "- Import the adfuller module from statsmodels. Create a new DataFrame of AMZN returns by taking the percent change of prices using the method .pct_change().\n",
    "\n",
    "\n",
    "- Eliminate the NaN in the first row of returns using the .dropna() method on the DataFrame.\n",
    "\n",
    "\n",
    "- Run the Augmented Dickey-Fuller test on the 'Adj Close' column of AMZN_ret, and print out the p-value in results[1]."
   ]
  },
  {
   "cell_type": "code",
   "execution_count": 44,
   "id": "8e766b6e",
   "metadata": {},
   "outputs": [
    {
     "data": {
      "text/html": [
       "<div>\n",
       "<style scoped>\n",
       "    .dataframe tbody tr th:only-of-type {\n",
       "        vertical-align: middle;\n",
       "    }\n",
       "\n",
       "    .dataframe tbody tr th {\n",
       "        vertical-align: top;\n",
       "    }\n",
       "\n",
       "    .dataframe thead th {\n",
       "        text-align: right;\n",
       "    }\n",
       "</style>\n",
       "<table border=\"1\" class=\"dataframe\">\n",
       "  <thead>\n",
       "    <tr style=\"text-align: right;\">\n",
       "      <th></th>\n",
       "      <th>Adj Close</th>\n",
       "    </tr>\n",
       "    <tr>\n",
       "      <th>Date</th>\n",
       "      <th></th>\n",
       "    </tr>\n",
       "  </thead>\n",
       "  <tbody>\n",
       "    <tr>\n",
       "      <th>1997-05-15</th>\n",
       "      <td>1.958333</td>\n",
       "    </tr>\n",
       "    <tr>\n",
       "      <th>1997-05-16</th>\n",
       "      <td>1.729167</td>\n",
       "    </tr>\n",
       "    <tr>\n",
       "      <th>1997-05-19</th>\n",
       "      <td>1.708333</td>\n",
       "    </tr>\n",
       "    <tr>\n",
       "      <th>1997-05-20</th>\n",
       "      <td>1.635417</td>\n",
       "    </tr>\n",
       "    <tr>\n",
       "      <th>1997-05-21</th>\n",
       "      <td>1.427083</td>\n",
       "    </tr>\n",
       "  </tbody>\n",
       "</table>\n",
       "</div>"
      ],
      "text/plain": [
       "            Adj Close\n",
       "Date                 \n",
       "1997-05-15   1.958333\n",
       "1997-05-16   1.729167\n",
       "1997-05-19   1.708333\n",
       "1997-05-20   1.635417\n",
       "1997-05-21   1.427083"
      ]
     },
     "execution_count": 44,
     "metadata": {},
     "output_type": "execute_result"
    }
   ],
   "source": [
    "AMZN.head()"
   ]
  },
  {
   "cell_type": "code",
   "execution_count": 45,
   "id": "13c414ab",
   "metadata": {
    "scrolled": true
   },
   "outputs": [
    {
     "data": {
      "text/html": [
       "<div>\n",
       "<style scoped>\n",
       "    .dataframe tbody tr th:only-of-type {\n",
       "        vertical-align: middle;\n",
       "    }\n",
       "\n",
       "    .dataframe tbody tr th {\n",
       "        vertical-align: top;\n",
       "    }\n",
       "\n",
       "    .dataframe thead th {\n",
       "        text-align: right;\n",
       "    }\n",
       "</style>\n",
       "<table border=\"1\" class=\"dataframe\">\n",
       "  <thead>\n",
       "    <tr style=\"text-align: right;\">\n",
       "      <th></th>\n",
       "      <th>Adj Close</th>\n",
       "    </tr>\n",
       "    <tr>\n",
       "      <th>Date</th>\n",
       "      <th></th>\n",
       "    </tr>\n",
       "  </thead>\n",
       "  <tbody>\n",
       "    <tr>\n",
       "      <th>1997-05-16</th>\n",
       "      <td>-0.117021</td>\n",
       "    </tr>\n",
       "    <tr>\n",
       "      <th>1997-05-19</th>\n",
       "      <td>-0.012049</td>\n",
       "    </tr>\n",
       "    <tr>\n",
       "      <th>1997-05-20</th>\n",
       "      <td>-0.042683</td>\n",
       "    </tr>\n",
       "    <tr>\n",
       "      <th>1997-05-21</th>\n",
       "      <td>-0.127389</td>\n",
       "    </tr>\n",
       "    <tr>\n",
       "      <th>1997-05-22</th>\n",
       "      <td>-0.021898</td>\n",
       "    </tr>\n",
       "  </tbody>\n",
       "</table>\n",
       "</div>"
      ],
      "text/plain": [
       "            Adj Close\n",
       "Date                 \n",
       "1997-05-16  -0.117021\n",
       "1997-05-19  -0.012049\n",
       "1997-05-20  -0.042683\n",
       "1997-05-21  -0.127389\n",
       "1997-05-22  -0.021898"
      ]
     },
     "execution_count": 45,
     "metadata": {},
     "output_type": "execute_result"
    }
   ],
   "source": [
    "amzn_ret = AMZN.pct_change()\n",
    "amzn_ret = amzn_ret.dropna()\n",
    "amzn_ret.head()"
   ]
  },
  {
   "cell_type": "code",
   "execution_count": 46,
   "id": "9ae59208",
   "metadata": {},
   "outputs": [
    {
     "data": {
      "text/plain": [
       "(-12.053453021869629,\n",
       " 2.5655898083489317e-22,\n",
       " 33,\n",
       " 5053,\n",
       " {'1%': -3.431644800138127,\n",
       "  '5%': -2.86211216296977,\n",
       "  '10%': -2.567074562815631},\n",
       " -18483.377508750207)"
      ]
     },
     "execution_count": 46,
     "metadata": {},
     "output_type": "execute_result"
    }
   ],
   "source": [
    "results_ret = adfuller(amzn_ret[\"Adj Close\"])\n",
    "results_ret"
   ]
  },
  {
   "cell_type": "code",
   "execution_count": 47,
   "id": "fc47ecf2",
   "metadata": {},
   "outputs": [
    {
     "name": "stdout",
     "output_type": "stream",
     "text": [
      "The p-value of the test on returns is: 2.5655898083489317e-22\n"
     ]
    }
   ],
   "source": [
    "print('The p-value of the test on returns is: ' + str(results_ret[1]))"
   ]
  },
  {
   "cell_type": "markdown",
   "id": "45d8319d",
   "metadata": {},
   "source": [
    "The p-value is extremely small, so we can easily reject the hypothesis. It shows that the stock returns do not follow a random walk like the Stock prices."
   ]
  },
  {
   "cell_type": "code",
   "execution_count": null,
   "id": "2fa4378a",
   "metadata": {},
   "outputs": [],
   "source": []
  },
  {
   "cell_type": "markdown",
   "id": "3725f6c0",
   "metadata": {},
   "source": [
    "###  Stationarity\n",
    "\n",
    "There are different ways to define stationarity, but in its strictest sense, it means that the joint distribution of the observations do not depend on time. \n",
    "\n",
    "<img src=\"s.jpg\" style=\"max-width:600px\">\n",
    "\n",
    "A less restrictive version of stationarity, and one that is easier to test, is weak stationarity, which just means that the mean, variance, and autocorrelations of the observations do not depend on time. \n",
    "\n",
    "In other words, for the autocorrelation, the correlation between X-t and X-(t-tau) is only a function of the lag tau, and not a function of time.\n",
    "\n",
    "### Why Do We Care?\n",
    "\n",
    "If a process is not stationary, then it becomes difficult to model. Modeling involves estimating a set of parameters, and if a process is not stationary, and the parameters are different at each point in time, then there are too many parameters to estimate. You may end up having more parameters than actual data! So stationarity is necessary for a parsimonious model, one with a smaller set of parameters to estimate.\n",
    "\n",
    "\n",
    "### Examples of Nonstationary Series\n",
    "\n",
    "A random walk is a common type of non-stationary series. The variance grows with time. For example, if stock prices are a random walk, then the uncertainty about prices tomorrow is much less than the uncertainty 10 years from now.\n",
    "\n",
    "<img src=\"s-1.jpg\" style=\"max-width:600px\">\n",
    "\n",
    "Seasonal series are also non-stationary. Here is the dataset you saw earlier on the frequency of Google searches for the word 'diet'. The mean varies with the time of the year.\n",
    "\n",
    "###  Stationarity\n",
    "\n",
    "There are different ways to define stationarity, but in its strictest sense, it means that the joint distribution of the observations do not depend on time. \n",
    "\n",
    "<img src=\"s.jpg\" style=\"max-width:600px\">\n",
    "\n",
    "A less restrictive version of stationarity, and one that is easier to test, is weak stationarity, which just means that the mean, variance, and autocorrelations of the observations do not depend on time. \n",
    "\n",
    "In other words, for the autocorrelation, the correlation between X-t and X-(t-tau) is only a function of the lag tau, and not a function of time.\n",
    "\n",
    "### Why Do We Care?\n",
    "\n",
    "If a process is not stationary, then it becomes difficult to model. Modeling involves estimating a set of parameters, and if a process is not stationary, and the parameters are different at each point in time, then there are too many parameters to estimate. You may end up having more parameters than actual data! So stationarity is necessary for a parsimonious model, one with a smaller set of parameters to estimate.\n",
    "\n",
    "\n",
    "### Examples of Nonstationary Series\n",
    "\n",
    "A random walk is a common type of non-stationary series. The variance grows with time. For example, if stock prices are a random walk, then the uncertainty about prices tomorrow is much less than the uncertainty 10 years from now.\n",
    "\n",
    "<img src=\"s-1.jpg\" style=\"max-width:600px\">\n",
    "\n",
    "Seasonal series are also non-stationary. Here is the dataset you saw earlier on the frequency of Google searches for the word 'diet'. The mean varies with the time of the year.\n",
    "\n",
    "<img src=\"s-2.jpg\" style=\"max-width:600px\">\n",
    "\n",
    "Here is White Noise, which would ordinarily be a stationary process, but here the mean increases over time, which makes it non-stationary.\n",
    "\n",
    "<img src=\"s-3.jpg\" style=\"max-width:600px\">\n",
    "\n",
    "\n",
    "### Transforming Nonstationary Series Into Stationary Series\n",
    "\n",
    "Many non-stationary series can be made stationary through a simple transformation. A Random Walk is a non-stationary series, but if you take the first differences, the new series is White Noise, which is stationary. \n",
    "\n",
    "<img src=\"s-4.jpg\" style=\"max-width:800px\">\n",
    "\n",
    "On the left are S&P500 prices, which is a non-stationary random walk, but if you compute first differences on the right, it becomes a stationary white noise process.\n",
    "\n",
    "<img src=\"s-5.jpg\" style=\"max-width:800px\">\n",
    "\n",
    "On the left, we have the quarterly earnings for H&R Block, which has a large seasonal component and is therefore not stationary. If we take the seasonal difference, by taking the difference with lag of 4, the transformed series looks stationary.\n",
    "\n",
    "<img src=\"s-6.jpg\" style=\"max-width:800px\">\n",
    "\n",
    "Sometimes, you may need to make two transformations. Here is a time series of Amazon's quarterly revenue. It is growing exponentially as well as exhibiting a strong seasonal pattern. First, if you take only the log of the series, in the upper right, you eliminate the exponential growth. But if you take both the log of the series and then the seasonal difference, in the lower right, the transformed series looks stationary."
   ]
  },
  {
   "cell_type": "code",
   "execution_count": null,
   "id": "97e2f371",
   "metadata": {},
   "outputs": [],
   "source": []
  },
  {
   "cell_type": "markdown",
   "id": "6967b702",
   "metadata": {},
   "source": [
    "## Exercise 10: Seasonal Adjustment During Tax Season\n",
    "\n",
    "Many time series exhibit strong seasonal behavior. The procedure for removing the seasonal component of a time series is called seasonal adjustment. For example, most economic data published by the government is seasonally adjusted.\n",
    "\n",
    "You saw earlier that by taking first differences of a random walk, you get a stationary white noise process. \n",
    "\n",
    "For seasonal adjustments, instead of taking first differences, you will take differences with a lag corresponding to the periodicity.\n",
    "\n",
    "Look again at the ACF of H&R Block's quarterly earnings, pre-loaded in the DataFrame HRB, and there is a clear seasonal component. \n",
    "\n",
    "The autocorrelation is high for lags 4,8,12,16,… because of the spike in earnings every four quarters during tax season. \n",
    "\n",
    "\n",
    "Apply a seasonal adjustment by taking the fourth difference (four represents the periodicity of the series). Then compute the autocorrelation of the transformed series.\n",
    "\n",
    "\n",
    "- Create a new DataFrame of seasonally adjusted earnings by taking the lag-4 difference of quarterly earnings using the .diff() method.\n",
    "\n",
    "\n",
    "- Examine the first 10 rows of the seasonally adjusted DataFrame and notice that the first four rows are NaN. Drop the NaN rows using the .dropna() method.\n",
    "\n",
    "\n",
    "- Plot the autocorrelation function of the seasonally adjusted DataFrame."
   ]
  },
  {
   "cell_type": "code",
   "execution_count": 48,
   "id": "1aa06c21",
   "metadata": {},
   "outputs": [
    {
     "data": {
      "text/html": [
       "<div>\n",
       "<style scoped>\n",
       "    .dataframe tbody tr th:only-of-type {\n",
       "        vertical-align: middle;\n",
       "    }\n",
       "\n",
       "    .dataframe tbody tr th {\n",
       "        vertical-align: top;\n",
       "    }\n",
       "\n",
       "    .dataframe thead th {\n",
       "        text-align: right;\n",
       "    }\n",
       "</style>\n",
       "<table border=\"1\" class=\"dataframe\">\n",
       "  <thead>\n",
       "    <tr style=\"text-align: right;\">\n",
       "      <th></th>\n",
       "      <th>Earnings</th>\n",
       "    </tr>\n",
       "    <tr>\n",
       "      <th>Quarter</th>\n",
       "      <th></th>\n",
       "    </tr>\n",
       "  </thead>\n",
       "  <tbody>\n",
       "    <tr>\n",
       "      <th>2007-01-01</th>\n",
       "      <td>-0.36</td>\n",
       "    </tr>\n",
       "    <tr>\n",
       "      <th>2007-04-01</th>\n",
       "      <td>-0.38</td>\n",
       "    </tr>\n",
       "    <tr>\n",
       "      <th>2007-07-01</th>\n",
       "      <td>0.07</td>\n",
       "    </tr>\n",
       "    <tr>\n",
       "      <th>2007-10-01</th>\n",
       "      <td>1.85</td>\n",
       "    </tr>\n",
       "    <tr>\n",
       "      <th>2008-01-01</th>\n",
       "      <td>-0.34</td>\n",
       "    </tr>\n",
       "  </tbody>\n",
       "</table>\n",
       "</div>"
      ],
      "text/plain": [
       "            Earnings\n",
       "Quarter             \n",
       "2007-01-01     -0.36\n",
       "2007-04-01     -0.38\n",
       "2007-07-01      0.07\n",
       "2007-10-01      1.85\n",
       "2008-01-01     -0.34"
      ]
     },
     "execution_count": 48,
     "metadata": {},
     "output_type": "execute_result"
    }
   ],
   "source": [
    "HRB.head()"
   ]
  },
  {
   "cell_type": "code",
   "execution_count": 59,
   "id": "c1b5bdb2",
   "metadata": {
    "scrolled": true
   },
   "outputs": [
    {
     "data": {
      "text/html": [
       "<div>\n",
       "<style scoped>\n",
       "    .dataframe tbody tr th:only-of-type {\n",
       "        vertical-align: middle;\n",
       "    }\n",
       "\n",
       "    .dataframe tbody tr th {\n",
       "        vertical-align: top;\n",
       "    }\n",
       "\n",
       "    .dataframe thead th {\n",
       "        text-align: right;\n",
       "    }\n",
       "</style>\n",
       "<table border=\"1\" class=\"dataframe\">\n",
       "  <thead>\n",
       "    <tr style=\"text-align: right;\">\n",
       "      <th></th>\n",
       "      <th>Earnings</th>\n",
       "    </tr>\n",
       "    <tr>\n",
       "      <th>Quarter</th>\n",
       "      <th></th>\n",
       "    </tr>\n",
       "  </thead>\n",
       "  <tbody>\n",
       "    <tr>\n",
       "      <th>2007-01-01</th>\n",
       "      <td>NaN</td>\n",
       "    </tr>\n",
       "    <tr>\n",
       "      <th>2007-04-01</th>\n",
       "      <td>NaN</td>\n",
       "    </tr>\n",
       "    <tr>\n",
       "      <th>2007-07-01</th>\n",
       "      <td>NaN</td>\n",
       "    </tr>\n",
       "    <tr>\n",
       "      <th>2007-10-01</th>\n",
       "      <td>NaN</td>\n",
       "    </tr>\n",
       "    <tr>\n",
       "      <th>2008-01-01</th>\n",
       "      <td>0.02</td>\n",
       "    </tr>\n",
       "    <tr>\n",
       "      <th>2008-04-01</th>\n",
       "      <td>-0.04</td>\n",
       "    </tr>\n",
       "    <tr>\n",
       "      <th>2008-07-01</th>\n",
       "      <td>-0.05</td>\n",
       "    </tr>\n",
       "    <tr>\n",
       "      <th>2008-10-01</th>\n",
       "      <td>0.26</td>\n",
       "    </tr>\n",
       "    <tr>\n",
       "      <th>2009-01-01</th>\n",
       "      <td>-0.05</td>\n",
       "    </tr>\n",
       "    <tr>\n",
       "      <th>2009-04-01</th>\n",
       "      <td>0.02</td>\n",
       "    </tr>\n",
       "  </tbody>\n",
       "</table>\n",
       "</div>"
      ],
      "text/plain": [
       "            Earnings\n",
       "Quarter             \n",
       "2007-01-01       NaN\n",
       "2007-04-01       NaN\n",
       "2007-07-01       NaN\n",
       "2007-10-01       NaN\n",
       "2008-01-01      0.02\n",
       "2008-04-01     -0.04\n",
       "2008-07-01     -0.05\n",
       "2008-10-01      0.26\n",
       "2009-01-01     -0.05\n",
       "2009-04-01      0.02"
      ]
     },
     "execution_count": 59,
     "metadata": {},
     "output_type": "execute_result"
    }
   ],
   "source": [
    "seasonal_adj = HRB.diff(4)\n",
    "seasonal_adj.head(10)"
   ]
  },
  {
   "cell_type": "code",
   "execution_count": 62,
   "id": "d2aeba7a",
   "metadata": {
    "scrolled": true
   },
   "outputs": [],
   "source": [
    "seasonal_adj = seasonal_adj.dropna()"
   ]
  },
  {
   "cell_type": "code",
   "execution_count": 68,
   "id": "8998e475",
   "metadata": {},
   "outputs": [
    {
     "data": {
      "text/plain": [
       "array([ 1.00000000e+00,  2.34591025e-01, -3.47509867e-02, -2.99002071e-01,\n",
       "       -3.20234139e-01, -1.36249503e-01, -7.58009068e-02,  1.70211363e-01,\n",
       "        2.55894101e-01,  5.57398589e-02,  9.85155760e-03, -9.30955522e-02,\n",
       "       -1.31943449e-01, -1.40194808e-01,  4.29824452e-03,  1.29988608e-02,\n",
       "        5.30440354e-02, -3.63462358e-02,  1.42198327e-02, -4.76283831e-03,\n",
       "        1.48151968e-03, -9.09037981e-02, -7.98494356e-03, -1.23527593e-02,\n",
       "       -9.01690989e-03,  5.01851826e-02,  7.74900881e-04,  1.52949051e-02,\n",
       "        4.40059652e-02, -9.42300158e-03, -2.66381625e-02, -2.67916934e-02,\n",
       "        2.46782829e-02,  8.34094987e-03, -8.05861946e-03, -1.19326941e-02,\n",
       "        3.63175923e-02, -7.72258803e-03, -8.35267103e-03, -3.69846466e-04])"
      ]
     },
     "execution_count": 68,
     "metadata": {},
     "output_type": "execute_result"
    }
   ],
   "source": [
    "ac = acf(seasonal_adj, fft = True)\n",
    "ac"
   ]
  },
  {
   "cell_type": "code",
   "execution_count": 63,
   "id": "256ec892",
   "metadata": {
    "scrolled": true
   },
   "outputs": [
    {
     "data": {
      "image/png": "[encoded data removed]",
      "text/plain": [
       "<Figure size 432x288 with 1 Axes>"
      ]
     },
     "metadata": {
      "needs_background": "light"
     },
     "output_type": "display_data"
    }
   ],
   "source": [
    "plot_acf(seasonal_adj)\n",
    "plt.show()"
   ]
  },
  {
   "cell_type": "code",
   "execution_count": null,
   "id": "c92d709a",
   "metadata": {},
   "outputs": [],
   "source": []
  },
  {
   "cell_type": "code",
   "execution_count": null,
   "id": "7566d6c5",
   "metadata": {},
   "outputs": [],
   "source": []
  },
  {
   "cell_type": "code",
   "execution_count": null,
   "id": "f8e560cb",
   "metadata": {},
   "outputs": [],
   "source": []
  },
  {
   "cell_type": "code",
   "execution_count": null,
   "id": "26db1914",
   "metadata": {},
   "outputs": [],
   "source": []
  },
  {
   "cell_type": "code",
   "execution_count": null,
   "id": "9fa60e83",
   "metadata": {},
   "outputs": [],
   "source": []
  },
  {
   "cell_type": "code",
   "execution_count": null,
   "id": "a4d9ed7d",
   "metadata": {},
   "outputs": [],
   "source": []
  },
  {
   "cell_type": "code",
   "execution_count": null,
   "id": "0af42247",
   "metadata": {},
   "outputs": [],
   "source": []
  },
  {
   "cell_type": "code",
   "execution_count": null,
   "id": "0cc4eac4",
   "metadata": {},
   "outputs": [],
   "source": []
  },
  {
   "cell_type": "code",
   "execution_count": null,
   "id": "fe2ba170",
   "metadata": {},
   "outputs": [],
   "source": []
  },
  {
   "cell_type": "code",
   "execution_count": null,
   "id": "2ac2953d",
   "metadata": {},
   "outputs": [],
   "source": []
  },
  {
   "cell_type": "code",
   "execution_count": null,
   "id": "c42cf051",
   "metadata": {},
   "outputs": [],
   "source": []
  },
  {
   "cell_type": "code",
   "execution_count": null,
   "id": "16e78b5a",
   "metadata": {},
   "outputs": [],
   "source": []
  },
  {
   "cell_type": "code",
   "execution_count": null,
   "id": "8cdbea15",
   "metadata": {},
   "outputs": [],
   "source": []
  },
  {
   "cell_type": "code",
   "execution_count": null,
   "id": "995d3803",
   "metadata": {},
   "outputs": [],
   "source": []
  },
  {
   "cell_type": "code",
   "execution_count": null,
   "id": "2ac4867c",
   "metadata": {},
   "outputs": [],
   "source": []
  },
  {
   "cell_type": "code",
   "execution_count": null,
   "id": "21711bc6",
   "metadata": {},
   "outputs": [],
   "source": []
  },
  {
   "cell_type": "code",
   "execution_count": null,
   "id": "1b5c9a66",
   "metadata": {},
   "outputs": [],
   "source": []
  },
  {
   "cell_type": "code",
   "execution_count": null,
   "id": "6db444b7",
   "metadata": {},
   "outputs": [],
   "source": []
  },
  {
   "cell_type": "code",
   "execution_count": null,
   "id": "89992cdb",
   "metadata": {},
   "outputs": [],
   "source": []
  },
  {
   "cell_type": "code",
   "execution_count": null,
   "id": "da11f123",
   "metadata": {},
   "outputs": [],
   "source": []
  },
  {
   "cell_type": "code",
   "execution_count": null,
   "id": "ed022323",
   "metadata": {},
   "outputs": [],
   "source": []
  },
  {
   "cell_type": "code",
   "execution_count": null,
   "id": "3c8b623d",
   "metadata": {},
   "outputs": [],
   "source": []
  },
  {
   "cell_type": "code",
   "execution_count": null,
   "id": "c6b9846f",
   "metadata": {},
   "outputs": [],
   "source": []
  },
  {
   "cell_type": "code",
   "execution_count": null,
   "id": "21502b52",
   "metadata": {},
   "outputs": [],
   "source": []
  },
  {
   "cell_type": "code",
   "execution_count": null,
   "id": "d368d592",
   "metadata": {},
   "outputs": [],
   "source": []
  },
  {
   "cell_type": "code",
   "execution_count": null,
   "id": "d5fa41b5",
   "metadata": {},
   "outputs": [],
   "source": []
  },
  {
   "cell_type": "code",
   "execution_count": null,
   "id": "26508618",
   "metadata": {},
   "outputs": [],
   "source": []
  },
  {
   "cell_type": "code",
   "execution_count": null,
   "id": "90ef889b",
   "metadata": {},
   "outputs": [],
   "source": []
  },
  {
   "cell_type": "code",
   "execution_count": null,
   "id": "356616a8",
   "metadata": {},
   "outputs": [],
   "source": []
  },
  {
   "cell_type": "code",
   "execution_count": null,
   "id": "1522dfa7",
   "metadata": {},
   "outputs": [],
   "source": []
  },
  {
   "cell_type": "code",
   "execution_count": null,
   "id": "2b4d1750",
   "metadata": {},
   "outputs": [],
   "source": []
  },
  {
   "cell_type": "code",
   "execution_count": null,
   "id": "c67f37dc",
   "metadata": {},
   "outputs": [],
   "source": []
  },
  {
   "cell_type": "code",
   "execution_count": null,
   "id": "67ac0345",
   "metadata": {},
   "outputs": [],
   "source": []
  },
  {
   "cell_type": "code",
   "execution_count": null,
   "id": "aa5e4400",
   "metadata": {},
   "outputs": [],
   "source": []
  },
  {
   "cell_type": "code",
   "execution_count": null,
   "id": "b24e1633",
   "metadata": {},
   "outputs": [],
   "source": []
  },
  {
   "cell_type": "code",
   "execution_count": null,
   "id": "f1a6d7dc",
   "metadata": {},
   "outputs": [],
   "source": []
  },
  {
   "cell_type": "code",
   "execution_count": null,
   "id": "1ddb8227",
   "metadata": {},
   "outputs": [],
   "source": []
  },
  {
   "cell_type": "code",
   "execution_count": null,
   "id": "367e2f3b",
   "metadata": {},
   "outputs": [],
   "source": []
  }
 ],
 "metadata": {
  "kernelspec": {
   "display_name": "Python 3 (ipykernel)",
   "language": "python",
   "name": "python3"
  },
  "language_info": {
   "codemirror_mode": {
    "name": "ipython",
    "version": 3
   },
   "file_extension": ".py",
   "mimetype": "text/x-python",
   "name": "python",
   "nbconvert_exporter": "python",
   "pygments_lexer": "ipython3",
   "version": "3.9.7"
  }
 },
 "nbformat": 4,
 "nbformat_minor": 5
}

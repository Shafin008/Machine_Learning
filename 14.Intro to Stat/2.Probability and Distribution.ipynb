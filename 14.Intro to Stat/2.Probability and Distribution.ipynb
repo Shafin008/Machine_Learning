{
 "cells": [
  {
   "cell_type": "markdown",
   "id": "429cd579",
   "metadata": {},
   "source": [
    "### What are the chances?\n",
    "\n",
    "People talk about chance pretty frequently, like what are the chances of closing a sale, of rain tomorrow, or of winning a game? But how exactly do we measure chance?\n",
    "\n",
    "### Measuring chance\n",
    "\n",
    "We can measure the chances of an event using probability. We can calculate the probability of some event by taking the number of ways the event can happen and dividing it by the total number of possible outcomes. For example, if we flip a coin, it can land on either heads or tails. To get the probability of the coin landing on heads, we divide the 1 way to get heads by the two possible outcomes, heads and tails. This gives us one half, or a fifty percent chance of getting heads. \n",
    "\n",
    "Probability is always between zero and 100 percent. If the probability of something is zero, it's impossible, and if the probability of something is 100%, it will certainly happen."
   ]
  },
  {
   "cell_type": "code",
   "execution_count": 8,
   "id": "9eebbc53",
   "metadata": {},
   "outputs": [],
   "source": [
    "import numpy as np\n",
    "import pandas as pd"
   ]
  },
  {
   "cell_type": "code",
   "execution_count": 9,
   "id": "677ed581",
   "metadata": {},
   "outputs": [
    {
     "data": {
      "text/html": [
       "<div>\n",
       "<style scoped>\n",
       "    .dataframe tbody tr th:only-of-type {\n",
       "        vertical-align: middle;\n",
       "    }\n",
       "\n",
       "    .dataframe tbody tr th {\n",
       "        vertical-align: top;\n",
       "    }\n",
       "\n",
       "    .dataframe thead th {\n",
       "        text-align: right;\n",
       "    }\n",
       "</style>\n",
       "<table border=\"1\" class=\"dataframe\">\n",
       "  <thead>\n",
       "    <tr style=\"text-align: right;\">\n",
       "      <th></th>\n",
       "      <th>product</th>\n",
       "      <th>client</th>\n",
       "      <th>status</th>\n",
       "      <th>amount</th>\n",
       "      <th>num_users</th>\n",
       "    </tr>\n",
       "  </thead>\n",
       "  <tbody>\n",
       "    <tr>\n",
       "      <th>0</th>\n",
       "      <td>Product F</td>\n",
       "      <td>Current</td>\n",
       "      <td>Won</td>\n",
       "      <td>7389.52</td>\n",
       "      <td>19</td>\n",
       "    </tr>\n",
       "    <tr>\n",
       "      <th>1</th>\n",
       "      <td>Product C</td>\n",
       "      <td>New</td>\n",
       "      <td>Won</td>\n",
       "      <td>4493.01</td>\n",
       "      <td>43</td>\n",
       "    </tr>\n",
       "    <tr>\n",
       "      <th>2</th>\n",
       "      <td>Product B</td>\n",
       "      <td>New</td>\n",
       "      <td>Won</td>\n",
       "      <td>5738.09</td>\n",
       "      <td>87</td>\n",
       "    </tr>\n",
       "    <tr>\n",
       "      <th>3</th>\n",
       "      <td>Product I</td>\n",
       "      <td>Current</td>\n",
       "      <td>Won</td>\n",
       "      <td>2591.24</td>\n",
       "      <td>83</td>\n",
       "    </tr>\n",
       "    <tr>\n",
       "      <th>4</th>\n",
       "      <td>Product E</td>\n",
       "      <td>Current</td>\n",
       "      <td>Won</td>\n",
       "      <td>6622.97</td>\n",
       "      <td>17</td>\n",
       "    </tr>\n",
       "  </tbody>\n",
       "</table>\n",
       "</div>"
      ],
      "text/plain": [
       "     product   client status   amount  num_users\n",
       "0  Product F  Current    Won  7389.52         19\n",
       "1  Product C      New    Won  4493.01         43\n",
       "2  Product B      New    Won  5738.09         87\n",
       "3  Product I  Current    Won  2591.24         83\n",
       "4  Product E  Current    Won  6622.97         17"
      ]
     },
     "execution_count": 9,
     "metadata": {},
     "output_type": "execute_result"
    }
   ],
   "source": [
    "amir_deals = pd.read_csv(\"amir_deals.csv\")\n",
    "amir_deals = amir_deals.drop(\"Unnamed: 0\", axis = 1)\n",
    "amir_deals.head()"
   ]
  },
  {
   "cell_type": "code",
   "execution_count": null,
   "id": "0e3baaba",
   "metadata": {},
   "outputs": [],
   "source": []
  },
  {
   "cell_type": "markdown",
   "id": "d0a09b0e",
   "metadata": {},
   "source": [
    "## Exercise 1: Calculating probabilities\n",
    "\n",
    "You're in charge of the sales team, and it's time for performance reviews, starting with Amir. As part of the review, you want to randomly select a few of the deals that he's worked on over the past year so that you can look at them more deeply. Before you start selecting deals, you'll first figure out what the chances are of selecting certain deals.\n",
    "\n",
    "Both pandas as pd and numpy as np are loaded and `amir_deals` is available.\n",
    "\n",
    "- Count the number of deals Amir worked on for each product type and store in `counts`.\n",
    "\n",
    "\n",
    "- Calculate the probability of selecting a deal for the different product types by dividing the counts by the total number of deals Amir worked on. Save this as `probs`.\n",
    "\n",
    "\n",
    "- If you randomly select one of Amir's deals, what's the probability that the deal will involve `Product C`?"
   ]
  },
  {
   "cell_type": "code",
   "execution_count": 11,
   "id": "159fa977",
   "metadata": {},
   "outputs": [
    {
     "data": {
      "text/plain": [
       "Product B    62\n",
       "Product D    40\n",
       "Product A    23\n",
       "Product C    15\n",
       "Product F    11\n",
       "Product H     8\n",
       "Product I     7\n",
       "Product E     5\n",
       "Product N     3\n",
       "Product J     2\n",
       "Product G     2\n",
       "Name: product, dtype: int64"
      ]
     },
     "execution_count": 11,
     "metadata": {},
     "output_type": "execute_result"
    }
   ],
   "source": [
    "## q1: Count the number of deals Amir worked on for each product type and store in counts.\n",
    "counts = amir_deals[\"product\"].value_counts()\n",
    "counts"
   ]
  },
  {
   "cell_type": "code",
   "execution_count": 12,
   "id": "34b70540",
   "metadata": {},
   "outputs": [
    {
     "data": {
      "text/plain": [
       "Product B    0.348315\n",
       "Product D    0.224719\n",
       "Product A    0.129213\n",
       "Product C    0.084270\n",
       "Product F    0.061798\n",
       "Product H    0.044944\n",
       "Product I    0.039326\n",
       "Product E    0.028090\n",
       "Product N    0.016854\n",
       "Product J    0.011236\n",
       "Product G    0.011236\n",
       "Name: product, dtype: float64"
      ]
     },
     "execution_count": 12,
     "metadata": {},
     "output_type": "execute_result"
    }
   ],
   "source": [
    "## q2: Calculate the probability of selecting a deal for \n",
    "##     the different product types by dividing the counts by the total number of deals Amir worked on. Save this as probs\n",
    "\n",
    "probs = amir_deals[\"product\"].value_counts()/amir_deals[\"product\"].count()\n",
    "probs"
   ]
  },
  {
   "cell_type": "code",
   "execution_count": 13,
   "id": "dc5de4e3",
   "metadata": {},
   "outputs": [],
   "source": [
    "## q3: If you randomly select one of Amir's deals, what's the probability that the deal will involve Product C?"
   ]
  },
  {
   "cell_type": "markdown",
   "id": "7fdcbd2d",
   "metadata": {},
   "source": [
    "> **If I randomly select one of Amir's deals, the probability that the deal will involve Product C is 8.43%.**"
   ]
  },
  {
   "cell_type": "code",
   "execution_count": null,
   "id": "1df9a9c0",
   "metadata": {},
   "outputs": [],
   "source": []
  },
  {
   "cell_type": "markdown",
   "id": "add4b64c",
   "metadata": {},
   "source": [
    "### Assigning salespeople\n",
    "\n",
    "Let's look at a more complex scenario. There's a meeting coming up with a potential client, and we want to send someone from the sales team to the meeting. We'll put each person's name on a ticket in a box and pull one out randomly to decide who goes to the meeting.\n",
    "\n",
    "<img src=\"p.jpg\" style=\"max-width:800px\">\n",
    "\n",
    "Brian's name gets pulled out. The probability of Brian being selected is one out of four, or 25%.\n",
    "\n",
    "### Sampling from a DataFrame\n",
    "\n",
    "We can recreate this scenario in Python using the sample() method. By default, it randomly samples one row from the DataFrame. However, if we run the same thing again, we may get a different row since the sample method chooses randomly. If we want to show the team how we picked Brian, this won't work well.\n",
    "\n",
    "<img src=\"p-1.jpg\" style=\"max-width:800px\">\n",
    "\n",
    "### Setting a random seed\n",
    "\n",
    "To ensure we get the same results when we run the script in front of the team, we'll set the random seed using np-dot-random-dot-seed. The seed is a number that Python's random number generator uses as a starting point, so if we orient it with a seed number, it will generate the same random value each time. The number itself doesn't matter. We could use 5, 139, or 3 million. The only thing that matters is that we use the same seed the next time we run the script. Now, we, or one of the sales-team members, can run this code over and over and get Brian every time.\n",
    "\n",
    "<img src=\"p-2.jpg\" style=\"max-width:800px\">"
   ]
  },
  {
   "cell_type": "markdown",
   "id": "669c20ea",
   "metadata": {},
   "source": [
    "### Sampling Without replacement\n",
    "\n",
    "Now there's another potential client who wants to meet at the same time, so we need to pick another salesperson. Brian haas already been picked and he can't be in two meetings at once, so we'll pick between the remaining three. This is called sampling without replacement, since we aren't replacing the name we already pulled out.\n",
    "\n",
    "<img src=\"p-4.jpg\" style=\"max-width:800px\">\n",
    "\n",
    "This time, Claire is picked, and the probability of this is one out of three, or about 33%.\n",
    "\n",
    "To recreate this in Python, we can pass 2 into the sample method, which will give us 2 rows of the DataFrame.\n",
    "\n",
    "<img src=\"p-5.jpg\" style=\"max-width:800px\">"
   ]
  },
  {
   "cell_type": "markdown",
   "id": "782ac5e2",
   "metadata": {},
   "source": [
    "### Sampling with replacement\n",
    "\n",
    "Now let's say the two meetings are happening on different days, so the same person could attend both. In this scenario, we need to return Brian's name to the box after picking it. This is called sampling with replacement.\n",
    "\n",
    "<img src=\"p-3.jpg\" style=\"max-width:800px\">\n",
    "\n",
    "Claire gets picked for the second meeting, but this time, the probability of picking her is 25%.\n",
    "\n",
    "\n",
    "### Sampling with/without replacement in Python\n",
    "\n",
    "To sample with replacement, set the replace argument to True, so names can appear more than once. If there were 5 meetings, all at different times, it's possible to pick some rows multiple times since we're replacing them each time.\n",
    "\n",
    "<img src=\"p-6.jpg\" style=\"max-width:800px\">"
   ]
  },
  {
   "cell_type": "code",
   "execution_count": null,
   "id": "42ba12d8",
   "metadata": {},
   "outputs": [],
   "source": []
  },
  {
   "cell_type": "markdown",
   "id": "be3a6bef",
   "metadata": {},
   "source": [
    "## Exercise 2: Sampling deals\n",
    "\n",
    "In the previous exercise, you counted the deals Amir worked on. Now it's time to randomly pick five deals so that you can reach out to each customer and ask if they were satisfied with the service they received. You'll try doing this both with and without replacement.\n",
    "\n",
    "Additionally, you want to make sure this is done randomly and that it can be reproduced in case you get asked how you chose the deals, so you'll need to set the random seed before sampling from the deals.\n",
    "\n",
    "Both pandas as pd and numpy as np are loaded and amir_deals is available.\n",
    "\n",
    "\n",
    "- Set the random seed to 24.\n",
    "\n",
    "\n",
    "- Take a sample of 5 deals without replacement and store them as sample_without_replacement.\n",
    "\n",
    "\n",
    "- Take a sample of 5 deals with replacement and save as sample_with_replacement.\n",
    "\n",
    "\n",
    "- What type of sampling is better to use for this situation?"
   ]
  },
  {
   "cell_type": "code",
   "execution_count": 14,
   "id": "de4161ff",
   "metadata": {},
   "outputs": [
    {
     "data": {
      "text/html": [
       "<div>\n",
       "<style scoped>\n",
       "    .dataframe tbody tr th:only-of-type {\n",
       "        vertical-align: middle;\n",
       "    }\n",
       "\n",
       "    .dataframe tbody tr th {\n",
       "        vertical-align: top;\n",
       "    }\n",
       "\n",
       "    .dataframe thead th {\n",
       "        text-align: right;\n",
       "    }\n",
       "</style>\n",
       "<table border=\"1\" class=\"dataframe\">\n",
       "  <thead>\n",
       "    <tr style=\"text-align: right;\">\n",
       "      <th></th>\n",
       "      <th>product</th>\n",
       "      <th>client</th>\n",
       "      <th>status</th>\n",
       "      <th>amount</th>\n",
       "      <th>num_users</th>\n",
       "    </tr>\n",
       "  </thead>\n",
       "  <tbody>\n",
       "    <tr>\n",
       "      <th>0</th>\n",
       "      <td>Product F</td>\n",
       "      <td>Current</td>\n",
       "      <td>Won</td>\n",
       "      <td>7389.52</td>\n",
       "      <td>19</td>\n",
       "    </tr>\n",
       "    <tr>\n",
       "      <th>1</th>\n",
       "      <td>Product C</td>\n",
       "      <td>New</td>\n",
       "      <td>Won</td>\n",
       "      <td>4493.01</td>\n",
       "      <td>43</td>\n",
       "    </tr>\n",
       "    <tr>\n",
       "      <th>2</th>\n",
       "      <td>Product B</td>\n",
       "      <td>New</td>\n",
       "      <td>Won</td>\n",
       "      <td>5738.09</td>\n",
       "      <td>87</td>\n",
       "    </tr>\n",
       "    <tr>\n",
       "      <th>3</th>\n",
       "      <td>Product I</td>\n",
       "      <td>Current</td>\n",
       "      <td>Won</td>\n",
       "      <td>2591.24</td>\n",
       "      <td>83</td>\n",
       "    </tr>\n",
       "    <tr>\n",
       "      <th>4</th>\n",
       "      <td>Product E</td>\n",
       "      <td>Current</td>\n",
       "      <td>Won</td>\n",
       "      <td>6622.97</td>\n",
       "      <td>17</td>\n",
       "    </tr>\n",
       "  </tbody>\n",
       "</table>\n",
       "</div>"
      ],
      "text/plain": [
       "     product   client status   amount  num_users\n",
       "0  Product F  Current    Won  7389.52         19\n",
       "1  Product C      New    Won  4493.01         43\n",
       "2  Product B      New    Won  5738.09         87\n",
       "3  Product I  Current    Won  2591.24         83\n",
       "4  Product E  Current    Won  6622.97         17"
      ]
     },
     "execution_count": 14,
     "metadata": {},
     "output_type": "execute_result"
    }
   ],
   "source": [
    "amir_deals.head()"
   ]
  },
  {
   "cell_type": "code",
   "execution_count": 15,
   "id": "50ad27ae",
   "metadata": {},
   "outputs": [
    {
     "data": {
      "text/html": [
       "<div>\n",
       "<style scoped>\n",
       "    .dataframe tbody tr th:only-of-type {\n",
       "        vertical-align: middle;\n",
       "    }\n",
       "\n",
       "    .dataframe tbody tr th {\n",
       "        vertical-align: top;\n",
       "    }\n",
       "\n",
       "    .dataframe thead th {\n",
       "        text-align: right;\n",
       "    }\n",
       "</style>\n",
       "<table border=\"1\" class=\"dataframe\">\n",
       "  <thead>\n",
       "    <tr style=\"text-align: right;\">\n",
       "      <th></th>\n",
       "      <th>product</th>\n",
       "      <th>client</th>\n",
       "      <th>status</th>\n",
       "      <th>amount</th>\n",
       "      <th>num_users</th>\n",
       "    </tr>\n",
       "  </thead>\n",
       "  <tbody>\n",
       "    <tr>\n",
       "      <th>127</th>\n",
       "      <td>Product B</td>\n",
       "      <td>Current</td>\n",
       "      <td>Won</td>\n",
       "      <td>2070.25</td>\n",
       "      <td>7</td>\n",
       "    </tr>\n",
       "    <tr>\n",
       "      <th>148</th>\n",
       "      <td>Product D</td>\n",
       "      <td>Current</td>\n",
       "      <td>Won</td>\n",
       "      <td>3485.48</td>\n",
       "      <td>52</td>\n",
       "    </tr>\n",
       "    <tr>\n",
       "      <th>77</th>\n",
       "      <td>Product B</td>\n",
       "      <td>Current</td>\n",
       "      <td>Won</td>\n",
       "      <td>6252.30</td>\n",
       "      <td>27</td>\n",
       "    </tr>\n",
       "    <tr>\n",
       "      <th>104</th>\n",
       "      <td>Product D</td>\n",
       "      <td>Current</td>\n",
       "      <td>Won</td>\n",
       "      <td>4110.98</td>\n",
       "      <td>39</td>\n",
       "    </tr>\n",
       "    <tr>\n",
       "      <th>166</th>\n",
       "      <td>Product C</td>\n",
       "      <td>New</td>\n",
       "      <td>Lost</td>\n",
       "      <td>3779.86</td>\n",
       "      <td>11</td>\n",
       "    </tr>\n",
       "  </tbody>\n",
       "</table>\n",
       "</div>"
      ],
      "text/plain": [
       "       product   client status   amount  num_users\n",
       "127  Product B  Current    Won  2070.25          7\n",
       "148  Product D  Current    Won  3485.48         52\n",
       "77   Product B  Current    Won  6252.30         27\n",
       "104  Product D  Current    Won  4110.98         39\n",
       "166  Product C      New   Lost  3779.86         11"
      ]
     },
     "execution_count": 15,
     "metadata": {},
     "output_type": "execute_result"
    }
   ],
   "source": [
    "## q1: Set the random seed to 24. \n",
    "## q2: Take a sample of 5 deals without replacement and store them as sample_without_replacement. \n",
    "\n",
    "np.random.seed(24)\n",
    "sample_without_replacement = amir_deals.sample(5, replace=False)\n",
    "sample_without_replacement"
   ]
  },
  {
   "cell_type": "code",
   "execution_count": 17,
   "id": "77039d88",
   "metadata": {},
   "outputs": [
    {
     "data": {
      "text/html": [
       "<div>\n",
       "<style scoped>\n",
       "    .dataframe tbody tr th:only-of-type {\n",
       "        vertical-align: middle;\n",
       "    }\n",
       "\n",
       "    .dataframe tbody tr th {\n",
       "        vertical-align: top;\n",
       "    }\n",
       "\n",
       "    .dataframe thead th {\n",
       "        text-align: right;\n",
       "    }\n",
       "</style>\n",
       "<table border=\"1\" class=\"dataframe\">\n",
       "  <thead>\n",
       "    <tr style=\"text-align: right;\">\n",
       "      <th></th>\n",
       "      <th>product</th>\n",
       "      <th>client</th>\n",
       "      <th>status</th>\n",
       "      <th>amount</th>\n",
       "      <th>num_users</th>\n",
       "    </tr>\n",
       "  </thead>\n",
       "  <tbody>\n",
       "    <tr>\n",
       "      <th>162</th>\n",
       "      <td>Product D</td>\n",
       "      <td>Current</td>\n",
       "      <td>Won</td>\n",
       "      <td>6755.66</td>\n",
       "      <td>59</td>\n",
       "    </tr>\n",
       "    <tr>\n",
       "      <th>131</th>\n",
       "      <td>Product B</td>\n",
       "      <td>Current</td>\n",
       "      <td>Won</td>\n",
       "      <td>6872.29</td>\n",
       "      <td>25</td>\n",
       "    </tr>\n",
       "    <tr>\n",
       "      <th>87</th>\n",
       "      <td>Product C</td>\n",
       "      <td>Current</td>\n",
       "      <td>Won</td>\n",
       "      <td>3579.63</td>\n",
       "      <td>3</td>\n",
       "    </tr>\n",
       "    <tr>\n",
       "      <th>145</th>\n",
       "      <td>Product A</td>\n",
       "      <td>Current</td>\n",
       "      <td>Won</td>\n",
       "      <td>4682.94</td>\n",
       "      <td>63</td>\n",
       "    </tr>\n",
       "    <tr>\n",
       "      <th>145</th>\n",
       "      <td>Product A</td>\n",
       "      <td>Current</td>\n",
       "      <td>Won</td>\n",
       "      <td>4682.94</td>\n",
       "      <td>63</td>\n",
       "    </tr>\n",
       "  </tbody>\n",
       "</table>\n",
       "</div>"
      ],
      "text/plain": [
       "       product   client status   amount  num_users\n",
       "162  Product D  Current    Won  6755.66         59\n",
       "131  Product B  Current    Won  6872.29         25\n",
       "87   Product C  Current    Won  3579.63          3\n",
       "145  Product A  Current    Won  4682.94         63\n",
       "145  Product A  Current    Won  4682.94         63"
      ]
     },
     "execution_count": 17,
     "metadata": {},
     "output_type": "execute_result"
    }
   ],
   "source": [
    "## q3: Take a sample of 5 deals with replacement and save as sample_with_replacement.\n",
    "\n",
    "np.random.seed(24)\n",
    "sample_with_replacement = amir_deals.sample(5, replace=True)\n",
    "sample_with_replacement"
   ]
  },
  {
   "cell_type": "code",
   "execution_count": 18,
   "id": "c966295b",
   "metadata": {},
   "outputs": [],
   "source": [
    "## q4: What type of sampling is better to use for this situation?"
   ]
  },
  {
   "cell_type": "markdown",
   "id": "e4cd437e",
   "metadata": {},
   "source": [
    "> **Without replacement sampling is better to use for this situation, because then we can get different feedbacks from different customers.**"
   ]
  },
  {
   "cell_type": "code",
   "execution_count": null,
   "id": "d057169f",
   "metadata": {},
   "outputs": [],
   "source": []
  },
  {
   "cell_type": "markdown",
   "id": "b657d0fb",
   "metadata": {},
   "source": [
    "### Independent events\n",
    "\n",
    "Let's quickly talk about independence. Two events are independent if the probability of the second event isn't affected by the outcome of the first event. \n",
    "\n",
    "<img src=\"p-7.jpg\" style=\"max-width:800px\">\n",
    "\n",
    "For example, if we're sampling with replacement, the probability that Claire is picked second is 25%, no matter who gets picked first. In general, when sampling with replacement, each pick is independent."
   ]
  },
  {
   "cell_type": "markdown",
   "id": "410cc7e4",
   "metadata": {},
   "source": [
    "###  Dependent events\n",
    "\n",
    "Similarly, events are considered dependent when the outcome of the first changes the probability of the second. If we sample without replacement, the probability that Claire is picked second depends on who gets picked first.\n",
    "\n",
    "\n",
    "If Claire is picked first, there's 0% probability that Claire will be picked second.\n",
    "\n",
    "<img src=\"p-8.jpg\" style=\"max-width:800px\">\n",
    "\n",
    "If someone else is picked first, there's a 33% probability Claire will be picked second. In general, when sampling without replacement, each pick is dependent."
   ]
  },
  {
   "cell_type": "markdown",
   "id": "e5079569",
   "metadata": {},
   "source": [
    "###  Discrete distributions\n",
    "\n",
    "In this lesson, we'll take a deeper dive into probability and begin looking at probability distributions.\n",
    "\n",
    "Let's consider rolling a standard, six-sided die.\n",
    "\n",
    "<img src=\"d.jpg\" style=\"max-width:800px\">\n",
    "\n",
    "There are six numbers, or six possible outcomes, and every number has one sixth, or about a 17 percent chance of being rolled. This is an example of a probability distribution.\n",
    "\n",
    "\n",
    "### Probability distribution\n",
    "\n",
    "A probability distribution describes the probability of each possible outcome in a scenario. \n",
    "\n",
    "<img src=\"pd.jpg\" style=\"max-width:800px\">\n",
    "\n",
    "We can also talk about the expected value of a distribution, which is the mean of a distribution. We can calculate this by multiplying each value by its probability (one sixth in this case) and summing, so the expected value of rolling a fair die is 3.5.\n",
    "\n",
    "\n",
    "### Visualizing a probability distribution\n",
    "\n",
    "We can visualize this using a barplot, where each bar represents an outcome, and each bar's height represents the probability of that outcome.\n",
    "\n",
    "###  Probability = area\n",
    "\n",
    "We can calculate probabilities of different outcomes by taking areas of the probability distribution. For example, what's the probability that our die roll is less than or equal to 2? \n",
    "\n",
    "To figure this out, we'll take the area of each bar representing an outcome of 2 or less.\n",
    "\n",
    "<img src=\"pd-1.jpg\" style=\"max-width:800px\">\n",
    "\n",
    "Each bar has a width of 1 and a height of one sixth, so the area of each bar is one sixth. We'll sum the areas for 1 and 2, to get a total probability of one third."
   ]
  },
  {
   "cell_type": "markdown",
   "id": "10f0b566",
   "metadata": {},
   "source": [
    "### Uneven die\n",
    "\n",
    "Now let's say we have a die where the two got turned into a three. This means that we now have a 0% chance of getting a 2, and a 33% chance of getting a 3. \n",
    "\n",
    "<img src=\"un.jpg\" style=\"max-width:800px\">\n",
    "\n",
    "To calculate the expected value of this die, we now multiply 2 by 0, since it's impossible to get a 2, and 3 by its new probability, one third. This gives us an expected value that's slightly higher than the fair die.\n",
    "\n",
    "###  Adding areas\n",
    "\n",
    "When we visualize these new probabilities, the bars are no longer even. With this die, what's the probability of getting something less than or equal to 2? \n",
    "\n",
    "<img src=\"un-1.jpg\" style=\"max-width:800px\">\n",
    "\n",
    "There's a one sixth probability of getting 1, and zero probability of getting 2, which sums to one sixth."
   ]
  },
  {
   "cell_type": "markdown",
   "id": "a0004e1a",
   "metadata": {},
   "source": [
    "### Discrete probability distributions\n",
    "\n",
    "The probability distributions you've seen so far are both discrete probability distributions, since they represent situations with discrete outcomes. Recall that discrete variables can be thought of as counted variables. \n",
    "\n",
    "<img src=\"dp.jpg\" style=\"max-width:800px\">\n",
    "\n",
    "In the case of a die, we're counting dots, so we can't roll a 1-point-5 or 4-point-3. When all outcomes have the same probability, like a fair die, this is a special distribution called a discrete uniform distribution."
   ]
  },
  {
   "cell_type": "markdown",
   "id": "38f4593f",
   "metadata": {},
   "source": [
    "### Sampling from discrete distributions\n",
    "\n",
    "Just like we sampled names from a box, we can do the same thing with probability distributions like the ones we've seen. Here's a DataFrame called die that represents a fair die, and its expected value is 3.5. "
   ]
  },
  {
   "cell_type": "code",
   "execution_count": 20,
   "id": "224d7af3",
   "metadata": {},
   "outputs": [
    {
     "name": "stdout",
     "output_type": "stream",
     "text": [
      "   number      prob\n",
      "0       1  0.166667\n",
      "1       2  0.166667\n",
      "2       3  0.166667\n",
      "3       4  0.166667\n",
      "4       5  0.166667\n",
      "5       6  0.166667\n"
     ]
    }
   ],
   "source": [
    "die = {'number': [1,2,3,4,5,6], \n",
    "       \"prob\": [1/6,1/6,1/6,1/6,1/6,1/6]}\n",
    "die = pd.DataFrame(die)\n",
    "print(die)"
   ]
  },
  {
   "cell_type": "code",
   "execution_count": 21,
   "id": "bbb2a6aa",
   "metadata": {},
   "outputs": [
    {
     "data": {
      "text/plain": [
       "3.5"
      ]
     },
     "execution_count": 21,
     "metadata": {},
     "output_type": "execute_result"
    }
   ],
   "source": [
    "np.mean(die[\"number\"])"
   ]
  },
  {
   "cell_type": "markdown",
   "id": "83213e24",
   "metadata": {},
   "source": [
    "> We'll sample from it 10 times to simulate 10 rolls. Notice that we sample with replacement so that we're sampling from the same distribution every time."
   ]
  },
  {
   "cell_type": "code",
   "execution_count": 29,
   "id": "4fd2d7d4",
   "metadata": {},
   "outputs": [
    {
     "data": {
      "text/html": [
       "<div>\n",
       "<style scoped>\n",
       "    .dataframe tbody tr th:only-of-type {\n",
       "        vertical-align: middle;\n",
       "    }\n",
       "\n",
       "    .dataframe tbody tr th {\n",
       "        vertical-align: top;\n",
       "    }\n",
       "\n",
       "    .dataframe thead th {\n",
       "        text-align: right;\n",
       "    }\n",
       "</style>\n",
       "<table border=\"1\" class=\"dataframe\">\n",
       "  <thead>\n",
       "    <tr style=\"text-align: right;\">\n",
       "      <th></th>\n",
       "      <th>number</th>\n",
       "      <th>prob</th>\n",
       "    </tr>\n",
       "  </thead>\n",
       "  <tbody>\n",
       "    <tr>\n",
       "      <th>1</th>\n",
       "      <td>2</td>\n",
       "      <td>0.166667</td>\n",
       "    </tr>\n",
       "    <tr>\n",
       "      <th>2</th>\n",
       "      <td>3</td>\n",
       "      <td>0.166667</td>\n",
       "    </tr>\n",
       "    <tr>\n",
       "      <th>1</th>\n",
       "      <td>2</td>\n",
       "      <td>0.166667</td>\n",
       "    </tr>\n",
       "    <tr>\n",
       "      <th>3</th>\n",
       "      <td>4</td>\n",
       "      <td>0.166667</td>\n",
       "    </tr>\n",
       "    <tr>\n",
       "      <th>5</th>\n",
       "      <td>6</td>\n",
       "      <td>0.166667</td>\n",
       "    </tr>\n",
       "    <tr>\n",
       "      <th>4</th>\n",
       "      <td>5</td>\n",
       "      <td>0.166667</td>\n",
       "    </tr>\n",
       "    <tr>\n",
       "      <th>0</th>\n",
       "      <td>1</td>\n",
       "      <td>0.166667</td>\n",
       "    </tr>\n",
       "    <tr>\n",
       "      <th>4</th>\n",
       "      <td>5</td>\n",
       "      <td>0.166667</td>\n",
       "    </tr>\n",
       "    <tr>\n",
       "      <th>1</th>\n",
       "      <td>2</td>\n",
       "      <td>0.166667</td>\n",
       "    </tr>\n",
       "    <tr>\n",
       "      <th>1</th>\n",
       "      <td>2</td>\n",
       "      <td>0.166667</td>\n",
       "    </tr>\n",
       "  </tbody>\n",
       "</table>\n",
       "</div>"
      ],
      "text/plain": [
       "   number      prob\n",
       "1       2  0.166667\n",
       "2       3  0.166667\n",
       "1       2  0.166667\n",
       "3       4  0.166667\n",
       "5       6  0.166667\n",
       "4       5  0.166667\n",
       "0       1  0.166667\n",
       "4       5  0.166667\n",
       "1       2  0.166667\n",
       "1       2  0.166667"
      ]
     },
     "execution_count": 29,
     "metadata": {},
     "output_type": "execute_result"
    }
   ],
   "source": [
    "rolls_10 = die.sample(10, replace = True)\n",
    "rolls_10"
   ]
  },
  {
   "cell_type": "markdown",
   "id": "a3d97eff",
   "metadata": {},
   "source": [
    "###  Visualizing a sample\n",
    "We can visualize the outcomes of the ten rolls using a histogram, defining the bins we want using np-dot-linspace."
   ]
  },
  {
   "cell_type": "code",
   "execution_count": 30,
   "id": "50720bda",
   "metadata": {},
   "outputs": [],
   "source": [
    "import matplotlib.pyplot as plt "
   ]
  },
  {
   "cell_type": "code",
   "execution_count": 31,
   "id": "4262cc72",
   "metadata": {},
   "outputs": [
    {
     "data": {
      "image/png": "[encoded data removed]",
      "text/plain": [
       "<Figure size 432x288 with 1 Axes>"
      ]
     },
     "metadata": {
      "needs_background": "light"
     },
     "output_type": "display_data"
    }
   ],
   "source": [
    "rolls_10['number'].hist(bins=np.linspace(1,7,7))\n",
    "plt.show()"
   ]
  },
  {
   "cell_type": "markdown",
   "id": "9fe7b5ee",
   "metadata": {},
   "source": [
    "###  Sample distribution vs. theoretical distribution\n",
    "\n",
    "Notice that we have different numbers of 1's, 2's, 3's, and so on since the sample was random, even though on each roll we had the same probability of rolling each number. "
   ]
  },
  {
   "cell_type": "code",
   "execution_count": 32,
   "id": "1fac8012",
   "metadata": {},
   "outputs": [
    {
     "data": {
      "text/plain": [
       "3.2"
      ]
     },
     "execution_count": 32,
     "metadata": {},
     "output_type": "execute_result"
    }
   ],
   "source": [
    "np.mean(rolls_10[\"number\"])"
   ]
  },
  {
   "cell_type": "markdown",
   "id": "8e864db1",
   "metadata": {},
   "source": [
    "The mean of our sample is 3.2, which isn't super close to the 3.5 we were expecting."
   ]
  },
  {
   "cell_type": "markdown",
   "id": "b746425c",
   "metadata": {},
   "source": [
    "### A bigger sample"
   ]
  },
  {
   "cell_type": "code",
   "execution_count": 33,
   "id": "71e865c5",
   "metadata": {},
   "outputs": [
    {
     "data": {
      "text/html": [
       "<div>\n",
       "<style scoped>\n",
       "    .dataframe tbody tr th:only-of-type {\n",
       "        vertical-align: middle;\n",
       "    }\n",
       "\n",
       "    .dataframe tbody tr th {\n",
       "        vertical-align: top;\n",
       "    }\n",
       "\n",
       "    .dataframe thead th {\n",
       "        text-align: right;\n",
       "    }\n",
       "</style>\n",
       "<table border=\"1\" class=\"dataframe\">\n",
       "  <thead>\n",
       "    <tr style=\"text-align: right;\">\n",
       "      <th></th>\n",
       "      <th>number</th>\n",
       "      <th>prob</th>\n",
       "    </tr>\n",
       "  </thead>\n",
       "  <tbody>\n",
       "    <tr>\n",
       "      <th>4</th>\n",
       "      <td>5</td>\n",
       "      <td>0.166667</td>\n",
       "    </tr>\n",
       "    <tr>\n",
       "      <th>1</th>\n",
       "      <td>2</td>\n",
       "      <td>0.166667</td>\n",
       "    </tr>\n",
       "    <tr>\n",
       "      <th>1</th>\n",
       "      <td>2</td>\n",
       "      <td>0.166667</td>\n",
       "    </tr>\n",
       "    <tr>\n",
       "      <th>1</th>\n",
       "      <td>2</td>\n",
       "      <td>0.166667</td>\n",
       "    </tr>\n",
       "    <tr>\n",
       "      <th>1</th>\n",
       "      <td>2</td>\n",
       "      <td>0.166667</td>\n",
       "    </tr>\n",
       "    <tr>\n",
       "      <th>...</th>\n",
       "      <td>...</td>\n",
       "      <td>...</td>\n",
       "    </tr>\n",
       "    <tr>\n",
       "      <th>5</th>\n",
       "      <td>6</td>\n",
       "      <td>0.166667</td>\n",
       "    </tr>\n",
       "    <tr>\n",
       "      <th>3</th>\n",
       "      <td>4</td>\n",
       "      <td>0.166667</td>\n",
       "    </tr>\n",
       "    <tr>\n",
       "      <th>4</th>\n",
       "      <td>5</td>\n",
       "      <td>0.166667</td>\n",
       "    </tr>\n",
       "    <tr>\n",
       "      <th>1</th>\n",
       "      <td>2</td>\n",
       "      <td>0.166667</td>\n",
       "    </tr>\n",
       "    <tr>\n",
       "      <th>1</th>\n",
       "      <td>2</td>\n",
       "      <td>0.166667</td>\n",
       "    </tr>\n",
       "  </tbody>\n",
       "</table>\n",
       "<p>100 rows × 2 columns</p>\n",
       "</div>"
      ],
      "text/plain": [
       "    number      prob\n",
       "4        5  0.166667\n",
       "1        2  0.166667\n",
       "1        2  0.166667\n",
       "1        2  0.166667\n",
       "1        2  0.166667\n",
       "..     ...       ...\n",
       "5        6  0.166667\n",
       "3        4  0.166667\n",
       "4        5  0.166667\n",
       "1        2  0.166667\n",
       "1        2  0.166667\n",
       "\n",
       "[100 rows x 2 columns]"
      ]
     },
     "execution_count": 33,
     "metadata": {},
     "output_type": "execute_result"
    }
   ],
   "source": [
    "rolls_100 = die.sample(100, replace = True)\n",
    "rolls_100"
   ]
  },
  {
   "cell_type": "code",
   "execution_count": 34,
   "id": "add63426",
   "metadata": {},
   "outputs": [
    {
     "data": {
      "image/png": "[encoded data removed]",
      "text/plain": [
       "<Figure size 432x288 with 1 Axes>"
      ]
     },
     "metadata": {
      "needs_background": "light"
     },
     "output_type": "display_data"
    }
   ],
   "source": [
    "rolls_100['number'].hist(bins=np.linspace(1,7,7))\n",
    "plt.show()"
   ]
  },
  {
   "cell_type": "code",
   "execution_count": 35,
   "id": "e07010aa",
   "metadata": {},
   "outputs": [
    {
     "data": {
      "text/plain": [
       "3.44"
      ]
     },
     "execution_count": 35,
     "metadata": {},
     "output_type": "execute_result"
    }
   ],
   "source": [
    "np.mean(rolls_100[\"number\"])"
   ]
  },
  {
   "cell_type": "markdown",
   "id": "a542a4a6",
   "metadata": {},
   "source": [
    "If we roll the die 100 times, the distribution of the rolls looks a bit more even, and the mean is closer to 3.44."
   ]
  },
  {
   "cell_type": "markdown",
   "id": "f87cab6b",
   "metadata": {},
   "source": [
    "### An even bigger sample"
   ]
  },
  {
   "cell_type": "code",
   "execution_count": 39,
   "id": "8fae86b0",
   "metadata": {},
   "outputs": [
    {
     "data": {
      "text/html": [
       "<div>\n",
       "<style scoped>\n",
       "    .dataframe tbody tr th:only-of-type {\n",
       "        vertical-align: middle;\n",
       "    }\n",
       "\n",
       "    .dataframe tbody tr th {\n",
       "        vertical-align: top;\n",
       "    }\n",
       "\n",
       "    .dataframe thead th {\n",
       "        text-align: right;\n",
       "    }\n",
       "</style>\n",
       "<table border=\"1\" class=\"dataframe\">\n",
       "  <thead>\n",
       "    <tr style=\"text-align: right;\">\n",
       "      <th></th>\n",
       "      <th>number</th>\n",
       "      <th>prob</th>\n",
       "    </tr>\n",
       "  </thead>\n",
       "  <tbody>\n",
       "    <tr>\n",
       "      <th>2</th>\n",
       "      <td>3</td>\n",
       "      <td>0.166667</td>\n",
       "    </tr>\n",
       "    <tr>\n",
       "      <th>0</th>\n",
       "      <td>1</td>\n",
       "      <td>0.166667</td>\n",
       "    </tr>\n",
       "    <tr>\n",
       "      <th>3</th>\n",
       "      <td>4</td>\n",
       "      <td>0.166667</td>\n",
       "    </tr>\n",
       "    <tr>\n",
       "      <th>0</th>\n",
       "      <td>1</td>\n",
       "      <td>0.166667</td>\n",
       "    </tr>\n",
       "    <tr>\n",
       "      <th>0</th>\n",
       "      <td>1</td>\n",
       "      <td>0.166667</td>\n",
       "    </tr>\n",
       "    <tr>\n",
       "      <th>...</th>\n",
       "      <td>...</td>\n",
       "      <td>...</td>\n",
       "    </tr>\n",
       "    <tr>\n",
       "      <th>1</th>\n",
       "      <td>2</td>\n",
       "      <td>0.166667</td>\n",
       "    </tr>\n",
       "    <tr>\n",
       "      <th>1</th>\n",
       "      <td>2</td>\n",
       "      <td>0.166667</td>\n",
       "    </tr>\n",
       "    <tr>\n",
       "      <th>2</th>\n",
       "      <td>3</td>\n",
       "      <td>0.166667</td>\n",
       "    </tr>\n",
       "    <tr>\n",
       "      <th>0</th>\n",
       "      <td>1</td>\n",
       "      <td>0.166667</td>\n",
       "    </tr>\n",
       "    <tr>\n",
       "      <th>5</th>\n",
       "      <td>6</td>\n",
       "      <td>0.166667</td>\n",
       "    </tr>\n",
       "  </tbody>\n",
       "</table>\n",
       "<p>1000 rows × 2 columns</p>\n",
       "</div>"
      ],
      "text/plain": [
       "    number      prob\n",
       "2        3  0.166667\n",
       "0        1  0.166667\n",
       "3        4  0.166667\n",
       "0        1  0.166667\n",
       "0        1  0.166667\n",
       "..     ...       ...\n",
       "1        2  0.166667\n",
       "1        2  0.166667\n",
       "2        3  0.166667\n",
       "0        1  0.166667\n",
       "5        6  0.166667\n",
       "\n",
       "[1000 rows x 2 columns]"
      ]
     },
     "execution_count": 39,
     "metadata": {},
     "output_type": "execute_result"
    }
   ],
   "source": [
    "rolls_1000 = die.sample(1000, replace = True)\n",
    "rolls_1000"
   ]
  },
  {
   "cell_type": "code",
   "execution_count": 40,
   "id": "e120baf8",
   "metadata": {},
   "outputs": [
    {
     "data": {
      "image/png": "[encoded data removed]",
      "text/plain": [
       "<Figure size 432x288 with 1 Axes>"
      ]
     },
     "metadata": {
      "needs_background": "light"
     },
     "output_type": "display_data"
    }
   ],
   "source": [
    "rolls_1000['number'].hist(bins=np.linspace(1,7,7))\n",
    "plt.show()"
   ]
  },
  {
   "cell_type": "code",
   "execution_count": 41,
   "id": "36ab1fdc",
   "metadata": {},
   "outputs": [
    {
     "data": {
      "text/plain": [
       "3.491"
      ]
     },
     "execution_count": 41,
     "metadata": {},
     "output_type": "execute_result"
    }
   ],
   "source": [
    "np.mean(rolls_1000[\"number\"])"
   ]
  },
  {
   "cell_type": "markdown",
   "id": "a2fac251",
   "metadata": {},
   "source": [
    "If we roll 1000 times, it looks even more like the theoretical probability distribution and the mean closely matches 3.5."
   ]
  },
  {
   "cell_type": "markdown",
   "id": "908bca49",
   "metadata": {},
   "source": [
    "### Law of large numbers\n",
    "\n",
    ">> This is called the law of large numbers, which is the idea that as the size of your sample increases, the sample mean will approach the theoretical mean."
   ]
  },
  {
   "cell_type": "code",
   "execution_count": null,
   "id": "f9eb4b0b",
   "metadata": {},
   "outputs": [],
   "source": []
  },
  {
   "cell_type": "markdown",
   "id": "75dff8b2",
   "metadata": {},
   "source": [
    "## Exercise 3: Creating a probability distribution\n",
    "\n",
    "A new restaurant opened a few months ago, and the restaurant's management wants to optimize its seating space based on the size of the groups that come most often. \n",
    "\n",
    "On one night, there are 10 groups of people waiting to be seated at the restaurant, but instead of being called in the order they arrived, they will be called randomly. \n",
    "\n",
    "In this exercise, you'll investigate the probability of groups of different sizes getting picked first. Data on each of the ten groups is contained in the `restaurant_groups` DataFrame.\n",
    "\n",
    "Remember that `expected value` can be calculated by `multiplying each possible outcome with its corresponding probability and taking the sum`. The restaurant_groups data is available."
   ]
  },
  {
   "cell_type": "code",
   "execution_count": 43,
   "id": "d07750e2",
   "metadata": {},
   "outputs": [
    {
     "data": {
      "text/html": [
       "<div>\n",
       "<style scoped>\n",
       "    .dataframe tbody tr th:only-of-type {\n",
       "        vertical-align: middle;\n",
       "    }\n",
       "\n",
       "    .dataframe tbody tr th {\n",
       "        vertical-align: top;\n",
       "    }\n",
       "\n",
       "    .dataframe thead th {\n",
       "        text-align: right;\n",
       "    }\n",
       "</style>\n",
       "<table border=\"1\" class=\"dataframe\">\n",
       "  <thead>\n",
       "    <tr style=\"text-align: right;\">\n",
       "      <th></th>\n",
       "      <th>group_id</th>\n",
       "      <th>group_size</th>\n",
       "    </tr>\n",
       "  </thead>\n",
       "  <tbody>\n",
       "    <tr>\n",
       "      <th>0</th>\n",
       "      <td>A</td>\n",
       "      <td>2</td>\n",
       "    </tr>\n",
       "    <tr>\n",
       "      <th>1</th>\n",
       "      <td>B</td>\n",
       "      <td>4</td>\n",
       "    </tr>\n",
       "    <tr>\n",
       "      <th>2</th>\n",
       "      <td>C</td>\n",
       "      <td>6</td>\n",
       "    </tr>\n",
       "    <tr>\n",
       "      <th>3</th>\n",
       "      <td>D</td>\n",
       "      <td>2</td>\n",
       "    </tr>\n",
       "    <tr>\n",
       "      <th>4</th>\n",
       "      <td>E</td>\n",
       "      <td>2</td>\n",
       "    </tr>\n",
       "    <tr>\n",
       "      <th>5</th>\n",
       "      <td>F</td>\n",
       "      <td>2</td>\n",
       "    </tr>\n",
       "    <tr>\n",
       "      <th>6</th>\n",
       "      <td>G</td>\n",
       "      <td>3</td>\n",
       "    </tr>\n",
       "    <tr>\n",
       "      <th>7</th>\n",
       "      <td>H</td>\n",
       "      <td>2</td>\n",
       "    </tr>\n",
       "    <tr>\n",
       "      <th>8</th>\n",
       "      <td>I</td>\n",
       "      <td>4</td>\n",
       "    </tr>\n",
       "    <tr>\n",
       "      <th>9</th>\n",
       "      <td>J</td>\n",
       "      <td>2</td>\n",
       "    </tr>\n",
       "  </tbody>\n",
       "</table>\n",
       "</div>"
      ],
      "text/plain": [
       "  group_id  group_size\n",
       "0        A           2\n",
       "1        B           4\n",
       "2        C           6\n",
       "3        D           2\n",
       "4        E           2\n",
       "5        F           2\n",
       "6        G           3\n",
       "7        H           2\n",
       "8        I           4\n",
       "9        J           2"
      ]
     },
     "execution_count": 43,
     "metadata": {},
     "output_type": "execute_result"
    }
   ],
   "source": [
    "restaurant_groups = {'group_id': [\"A\", \"B\", \"C\", \"D\", \"E\", \"F\", \"G\", \"H\", \"I\", \"J\"],\n",
    "                     \n",
    "                     'group_size': [2, 4, 6, 2, 2, 2, 3, 2, 4, 2]}\n",
    "\n",
    "restaurant_groups = pd.DataFrame(restaurant_groups)\n",
    "restaurant_groups"
   ]
  },
  {
   "cell_type": "markdown",
   "id": "a491d984",
   "metadata": {},
   "source": [
    "- Create a histogram of the group_size column of restaurant_groups, setting bins to [2, 3, 4, 5, 6]. Remember to show the plot.\n",
    "\n",
    "\n",
    "- Count the number of each group_size in restaurant_groups, then divide by the number of rows in restaurant_groups to calculate the probability of randomly selecting a group of each size. Save as size_dist.\n",
    "\n",
    "\n",
    "- Reset the index of size_dist.\n",
    "\n",
    "\n",
    "- Rename the columns of size_dist to group_size and prob.\n",
    "\n",
    "\n",
    "- Calculate the expected value of the size_distribution, which represents the expected group size, by multiplying the group_size by the prob and taking the sum.\n",
    "\n",
    "\n",
    "- Calculate the probability of randomly picking a group of 4 or more people by subsetting for groups of size 4 or more and summing the probabilities of selecting those groups."
   ]
  },
  {
   "cell_type": "code",
   "execution_count": 44,
   "id": "f40d4114",
   "metadata": {},
   "outputs": [
    {
     "data": {
      "image/png": "[encoded data removed]",
      "text/plain": [
       "<Figure size 432x288 with 1 Axes>"
      ]
     },
     "metadata": {
      "needs_background": "light"
     },
     "output_type": "display_data"
    }
   ],
   "source": [
    "## q1: Create a histogram of the group_size column of restaurant_groups, setting bins to [2, 3, 4, 5, 6]. \n",
    "## Remember to show the plot.\n",
    "\n",
    "restaurant_groups[\"group_size\"].hist(bins = [2, 3, 4, 5, 6])\n",
    "plt.show()"
   ]
  },
  {
   "cell_type": "code",
   "execution_count": 46,
   "id": "6b146918",
   "metadata": {},
   "outputs": [
    {
     "data": {
      "text/html": [
       "<div>\n",
       "<style scoped>\n",
       "    .dataframe tbody tr th:only-of-type {\n",
       "        vertical-align: middle;\n",
       "    }\n",
       "\n",
       "    .dataframe tbody tr th {\n",
       "        vertical-align: top;\n",
       "    }\n",
       "\n",
       "    .dataframe thead th {\n",
       "        text-align: right;\n",
       "    }\n",
       "</style>\n",
       "<table border=\"1\" class=\"dataframe\">\n",
       "  <thead>\n",
       "    <tr style=\"text-align: right;\">\n",
       "      <th></th>\n",
       "      <th>group_id</th>\n",
       "      <th>group_size</th>\n",
       "    </tr>\n",
       "  </thead>\n",
       "  <tbody>\n",
       "    <tr>\n",
       "      <th>0</th>\n",
       "      <td>A</td>\n",
       "      <td>2</td>\n",
       "    </tr>\n",
       "    <tr>\n",
       "      <th>1</th>\n",
       "      <td>B</td>\n",
       "      <td>4</td>\n",
       "    </tr>\n",
       "    <tr>\n",
       "      <th>2</th>\n",
       "      <td>C</td>\n",
       "      <td>6</td>\n",
       "    </tr>\n",
       "    <tr>\n",
       "      <th>3</th>\n",
       "      <td>D</td>\n",
       "      <td>2</td>\n",
       "    </tr>\n",
       "    <tr>\n",
       "      <th>4</th>\n",
       "      <td>E</td>\n",
       "      <td>2</td>\n",
       "    </tr>\n",
       "  </tbody>\n",
       "</table>\n",
       "</div>"
      ],
      "text/plain": [
       "  group_id  group_size\n",
       "0        A           2\n",
       "1        B           4\n",
       "2        C           6\n",
       "3        D           2\n",
       "4        E           2"
      ]
     },
     "execution_count": 46,
     "metadata": {},
     "output_type": "execute_result"
    }
   ],
   "source": [
    "restaurant_groups.head()"
   ]
  },
  {
   "cell_type": "code",
   "execution_count": 52,
   "id": "9441e0e3",
   "metadata": {},
   "outputs": [
    {
     "name": "stdout",
     "output_type": "stream",
     "text": [
      "2    6\n",
      "4    2\n",
      "3    1\n",
      "6    1\n",
      "Name: group_size, dtype: int64\n",
      "10\n"
     ]
    },
    {
     "data": {
      "text/plain": [
       "2    0.6\n",
       "4    0.2\n",
       "3    0.1\n",
       "6    0.1\n",
       "Name: group_size, dtype: float64"
      ]
     },
     "execution_count": 52,
     "metadata": {},
     "output_type": "execute_result"
    }
   ],
   "source": [
    "## q2: Count the number of each group_size in restaurant_groups, then \n",
    "## divide by the number of rows in restaurant_groups to calculate the probability of randomly selecting a group of each size. \n",
    "## Save as size_dist.\n",
    "\n",
    "num_group_size = restaurant_groups[\"group_size\"].value_counts()\n",
    "print(num_group_size)\n",
    "\n",
    "num_rows = len(restaurant_groups)\n",
    "print(num_rows)\n",
    "\n",
    "size_dist = num_group_size / num_rows\n",
    "size_dist"
   ]
  },
  {
   "cell_type": "code",
   "execution_count": 53,
   "id": "83c3e4c3",
   "metadata": {},
   "outputs": [
    {
     "name": "stdout",
     "output_type": "stream",
     "text": [
      "2    0.6\n",
      "4    0.2\n",
      "3    0.1\n",
      "6    0.1\n",
      "Name: group_size, dtype: float64 \n",
      "\n",
      "   index  group_size\n",
      "0      2         0.6\n",
      "1      4         0.2\n",
      "2      3         0.1\n",
      "3      6         0.1\n"
     ]
    }
   ],
   "source": [
    "## q3: Reset the index of size_dist.\n",
    "print(size_dist, '\\n')\n",
    "size_dist = size_dist.reset_index()\n",
    "print(size_dist)"
   ]
  },
  {
   "cell_type": "code",
   "execution_count": 54,
   "id": "6d200396",
   "metadata": {},
   "outputs": [
    {
     "data": {
      "text/html": [
       "<div>\n",
       "<style scoped>\n",
       "    .dataframe tbody tr th:only-of-type {\n",
       "        vertical-align: middle;\n",
       "    }\n",
       "\n",
       "    .dataframe tbody tr th {\n",
       "        vertical-align: top;\n",
       "    }\n",
       "\n",
       "    .dataframe thead th {\n",
       "        text-align: right;\n",
       "    }\n",
       "</style>\n",
       "<table border=\"1\" class=\"dataframe\">\n",
       "  <thead>\n",
       "    <tr style=\"text-align: right;\">\n",
       "      <th></th>\n",
       "      <th>group_size</th>\n",
       "      <th>prob</th>\n",
       "    </tr>\n",
       "  </thead>\n",
       "  <tbody>\n",
       "    <tr>\n",
       "      <th>0</th>\n",
       "      <td>2</td>\n",
       "      <td>0.6</td>\n",
       "    </tr>\n",
       "    <tr>\n",
       "      <th>1</th>\n",
       "      <td>4</td>\n",
       "      <td>0.2</td>\n",
       "    </tr>\n",
       "    <tr>\n",
       "      <th>2</th>\n",
       "      <td>3</td>\n",
       "      <td>0.1</td>\n",
       "    </tr>\n",
       "    <tr>\n",
       "      <th>3</th>\n",
       "      <td>6</td>\n",
       "      <td>0.1</td>\n",
       "    </tr>\n",
       "  </tbody>\n",
       "</table>\n",
       "</div>"
      ],
      "text/plain": [
       "   group_size  prob\n",
       "0           2   0.6\n",
       "1           4   0.2\n",
       "2           3   0.1\n",
       "3           6   0.1"
      ]
     },
     "execution_count": 54,
     "metadata": {},
     "output_type": "execute_result"
    }
   ],
   "source": [
    "## q4: Rename the columns of size_dist to group_size and prob.\n",
    "size_dist.columns = [\"group_size\", \"prob\"]\n",
    "size_dist"
   ]
  },
  {
   "cell_type": "code",
   "execution_count": 55,
   "id": "98276c25",
   "metadata": {},
   "outputs": [
    {
     "data": {
      "text/plain": [
       "2.9"
      ]
     },
     "execution_count": 55,
     "metadata": {},
     "output_type": "execute_result"
    }
   ],
   "source": [
    "## q5: Calculate the expected value of the size_distribution, which represents the expected group size, by \n",
    "## multiplying the group_size by the prob and taking the sum.\n",
    "\n",
    "expected_value = (size_dist['group_size'] * size_dist[\"prob\"]).sum()\n",
    "expected_value"
   ]
  },
  {
   "cell_type": "code",
   "execution_count": 58,
   "id": "d35a4674",
   "metadata": {},
   "outputs": [
    {
     "name": "stdout",
     "output_type": "stream",
     "text": [
      "   group_size  prob\n",
      "1           4   0.2\n",
      "3           6   0.1 \n",
      "\n",
      "0.30000000000000004\n"
     ]
    }
   ],
   "source": [
    "## q6: Calculate the probability of randomly picking a group of 4 or more people by \n",
    "## subsetting for groups of size 4 or more and summing the probabilities of selecting those groups.\n",
    "\n",
    "group_4_or_more = size_dist[size_dist['group_size'] >= 4]\n",
    "print(group_4_or_more, '\\n')\n",
    "\n",
    "prob_4_or_more = group_4_or_more['prob'].sum()\n",
    "print(prob_4_or_more)"
   ]
  },
  {
   "cell_type": "code",
   "execution_count": null,
   "id": "49172586",
   "metadata": {},
   "outputs": [],
   "source": []
  },
  {
   "cell_type": "markdown",
   "id": "1e9ac3f1",
   "metadata": {},
   "source": [
    "### Continuous distributions\n",
    "\n",
    "We can use discrete distributions to model situations that involve discrete or countable variables, but how can we model continuous variables?\n",
    "\n",
    "###  Continuous uniform distribution\n",
    "\n",
    "Let's start with an example. The city bus arrives once every twelve minutes, so if you show up at a random time, you could wait anywhere from 0 minutes if you just arrive as the bus pulls in, up to 12 minutes if you arrive just as the bus leaves.\n",
    "\n",
    "Let's model this scenario with a probability distribution. There are an infinite number of minutes we could wait since we could wait 1 minute, 1-point-5 minutes, 1-point-53 minutes, and so on, so we can't create individual blocks like we could with a discrete variable.\n",
    "\n",
    "\n",
    "Instead, we'll use a continuous line to represent probability. The line is flat since there's the same probability of waiting any time from 0 to 12 minutes. This is called the continuous uniform distribution.\n",
    "\n",
    "<img src=\"cd.jpg\" style=\"max-width:600px\">"
   ]
  },
  {
   "cell_type": "markdown",
   "id": "842d56f1",
   "metadata": {},
   "source": [
    "### Probability still = area\n",
    "\n",
    "Now that we have our distribution, let's figure out what the probability is that we'll wait between 4 and 7 minutes. Just like with discrete distributions, we can take the area from 4 to 7 to calculate probability.\n",
    "\n",
    "<img src=\"cd-2.jpg\" style=\"max-width:600px\">\n",
    "\n",
    "The width of this rectangle is 7 minus 4 which is 3. The height is one twelfth.Multiplying those together to get area, we get 3/12 or 25%."
   ]
  },
  {
   "cell_type": "markdown",
   "id": "754a1241",
   "metadata": {},
   "source": [
    "### Uniform distribution in Python\n",
    "\n",
    "Let's use the uniform distribution in Python to calculate the probability of waiting 7 minutes or less. We need to import uniform from scipy-dot-stats. \n",
    "\n",
    "<img src=\"cd-3.jpg\" style=\"max-width:600px\">\n",
    "\n",
    "We can call uniform-dot-cdf and pass it 7, followed by the lower and upper limits, which in our case is 0 and 12. The probability of waiting less than 7 minutes is about 58%."
   ]
  },
  {
   "cell_type": "markdown",
   "id": "eb005256",
   "metadata": {},
   "source": [
    "### \"Greater than\" probabilities\n",
    "\n",
    "If we want the probability of waiting more than 7 minutes, we need to take 1 minus the probability of waiting less than 7 minutes.\n",
    "\n",
    "<img src=\"cd-4.jpg\" style=\"max-width:600px\">\n",
    "\n",
    "### Combining multiple uniform.cdf() calls\n",
    "\n",
    "How do we calculate the probability of waiting 4 to 7 minutes using Python?\n",
    "\n",
    "<img src=\"cd-5.jpg\" style=\"max-width:600px\">\n",
    "\n",
    "We can start with the probability of waiting less than 7 minutes, then subtract the probability of waiting less than 4 minutes. This gives us 25%."
   ]
  },
  {
   "cell_type": "markdown",
   "id": "9154c2e3",
   "metadata": {},
   "source": [
    "### Total area = 1\n",
    "\n",
    "To calculate the probability of waiting between 0 and 12 minutes, we multiply 12 by 1/12, which is 1, or 100%. This makes sense since we're certain we'll wait anywhere from 0 to 12 minutes.\n",
    "\n",
    "<img src=\"cd-6.jpg\" style=\"max-width:600px\">\n",
    "\n",
    "### Generating random numbers according to uniform distribution\n",
    "\n",
    "To generate random numbers according to the uniform distribution, we can use uniform-dot-rvs, which takes in the minimum value, maximum value, followed by the number of random values we want to generate. \n",
    "\n",
    "<img src=\"cd-7.jpg\" style=\"max-width:600px\">\n",
    "\n",
    "Here, we generate 10 random values between 0 and 5."
   ]
  },
  {
   "cell_type": "markdown",
   "id": "f67100fb",
   "metadata": {},
   "source": [
    "### Other continuous distributions\n",
    "\n",
    "Continuous distributions can take forms other than uniform where some values have a higher probability than others.\n",
    "\n",
    "<img src=\"cd-8.jpg\" style=\"max-width:800px\">\n",
    "\n",
    "No matter the shape of the distribution, the area beneath it must always equal 1.\n",
    "\n",
    "### Other special types of distributions\n",
    "\n",
    "This will also be true of other distributions, like the normal distribution or exponential distribution, which can be used to model many real-life situations.\n",
    "\n",
    "<img src=\"ot.jpg\" style=\"max-width:800px\">"
   ]
  },
  {
   "cell_type": "code",
   "execution_count": null,
   "id": "7af7166b",
   "metadata": {},
   "outputs": [],
   "source": []
  },
  {
   "cell_type": "markdown",
   "id": "de36c503",
   "metadata": {},
   "source": [
    "## Exercise 4: Data back-ups\n",
    "\n",
    "The sales software used at your company is set to automatically back itself up, but no one knows exactly what time the back-ups happen. It is known, however, that back-ups happen exactly every 30 minutes. \n",
    "\n",
    "Amir comes back from sales meetings at random times to update the data on the client he just met with. He wants to know how long he'll have to wait for his newly-entered data to get backed up. \n",
    "\n",
    "Use your new knowledge of continuous uniform distributions to model this situation and answer Amir's questions.\n",
    "\n",
    "- To model how long Amir will wait for a back-up using a continuous uniform distribution, save his lowest possible wait time as min_time and his longest possible wait time as max_time. Remember that back-ups happen every 30 minutes.\n",
    "\n",
    "\n",
    "- Import uniform from scipy.stats and calculate the probability that Amir has to wait less than 5 minutes, and store in a variable called prob_less_than_5.\n",
    "\n",
    "\n",
    "- Calculate the probability that Amir has to wait more than 5 minutes, and store in a variable called prob_greater_than_5.\n",
    "\n",
    "\n",
    "- Calculate the probability that Amir has to wait between 10 and 20 minutes, and store in a variable called prob_between_10_and_20."
   ]
  },
  {
   "cell_type": "code",
   "execution_count": 59,
   "id": "fe65425f",
   "metadata": {},
   "outputs": [],
   "source": [
    "## q1: To model how long Amir will wait for a back-up using a continuous uniform distribution, \n",
    "## save his lowest possible wait time as min_time and his longest possible wait time as max_time. \n",
    "## Remember that back-ups happen every 30 minutes.\n",
    "\n",
    "min_time = 0\n",
    "max_time = 30"
   ]
  },
  {
   "cell_type": "code",
   "execution_count": 60,
   "id": "e0a0e9a6",
   "metadata": {},
   "outputs": [
    {
     "data": {
      "text/plain": [
       "0.16666666666666666"
      ]
     },
     "execution_count": 60,
     "metadata": {},
     "output_type": "execute_result"
    }
   ],
   "source": [
    "## q2: Import uniform from scipy.stats and \n",
    "## calculate the probability that Amir has to wait less than 5 minutes, and store in a variable called prob_less_than_5.\n",
    "\n",
    "from scipy.stats import uniform\n",
    "prob_less_than_5 = uniform.cdf(5, min_time, max_time)\n",
    "prob_less_than_5"
   ]
  },
  {
   "cell_type": "code",
   "execution_count": 61,
   "id": "53c46566",
   "metadata": {},
   "outputs": [
    {
     "data": {
      "text/plain": [
       "0.8333333333333334"
      ]
     },
     "execution_count": 61,
     "metadata": {},
     "output_type": "execute_result"
    }
   ],
   "source": [
    "## q3: Calculate the probability that Amir has to wait more than 5 minutes, and \n",
    "## store in a variable called prob_greater_than_5.\n",
    "\n",
    "prob_greater_than_5 = 1 - uniform.cdf(5, min_time, max_time)\n",
    "prob_greater_than_5"
   ]
  },
  {
   "cell_type": "code",
   "execution_count": 62,
   "id": "7078d0fe",
   "metadata": {},
   "outputs": [
    {
     "data": {
      "text/plain": [
       "0.3333333333333333"
      ]
     },
     "execution_count": 62,
     "metadata": {},
     "output_type": "execute_result"
    }
   ],
   "source": [
    "## q4: Calculate the probability that Amir has to wait between 10 and 20 minutes, and \n",
    "## store in a variable called prob_between_10_and_20.\n",
    "\n",
    "prob_between_10_and_20 = uniform.cdf(20, min_time, max_time) - uniform.cdf(10, min_time, max_time)\n",
    "prob_between_10_and_20"
   ]
  },
  {
   "cell_type": "markdown",
   "id": "b9acbbbf",
   "metadata": {},
   "source": [
    "## Exercise 5: Simulating wait times\n",
    "\n",
    "To give Amir a better idea of how long he'll have to wait, you'll simulate Amir waiting 1000 times and create a histogram to show him what he should expect. \n",
    "\n",
    "Recall from the last exercise that his minimum wait time is 0 minutes and his maximum wait time is 30 minutes.\n",
    "\n",
    "- Set the random seed to 334. Generate 1000 wait times from the continuous uniform distribution that models Amir's wait time. Save this as wait_times.\n",
    "\n",
    "\n",
    "- Create a histogram of the simulated wait times and show the plot."
   ]
  },
  {
   "cell_type": "code",
   "execution_count": 68,
   "id": "f4905908",
   "metadata": {},
   "outputs": [
    {
     "data": {
      "image/png": "[encoded data removed]",
      "text/plain": [
       "<Figure size 576x288 with 1 Axes>"
      ]
     },
     "metadata": {
      "needs_background": "light"
     },
     "output_type": "display_data"
    }
   ],
   "source": [
    "np.random.seed(334)\n",
    "\n",
    "wait_times = uniform.rvs(min_time, max_time, size = 1000)\n",
    "#print(wait_times, '\\n')\n",
    "\n",
    "plt.figure(figsize=(8,4))\n",
    "plt.hist(wait_times)\n",
    "plt.show()"
   ]
  },
  {
   "cell_type": "code",
   "execution_count": null,
   "id": "48ca6b9f",
   "metadata": {},
   "outputs": [],
   "source": []
  },
  {
   "cell_type": "markdown",
   "id": "f802192b",
   "metadata": {},
   "source": [
    "###  The binomial distribution\n",
    "\n",
    "It's time to further expand your toolbox of distributions. In this video, you'll learn about the binomial distribution.\n",
    "\n",
    "### Binary outcomes\n",
    "\n",
    "We'll start by flipping a coin, which has two possible outcomes, heads or tails, each with a probability of 50%. This is just one example of a binary outcome, or an outcome with two possible values. \n",
    "\n",
    "We could also represent these outcomes as a 1 and a 0, a success or a failure, and a win or a loss."
   ]
  },
  {
   "cell_type": "markdown",
   "id": "c55284e4",
   "metadata": {},
   "source": [
    "### A single flip\n",
    "\n",
    "In Python, we can simulate this by importing binom from scipy-dot-stats and using the binom-dot-rvs function, which takes in the number of coins we want to flip, the probability of heads or success, and an argument called size, which is number of trials. size is a named argument, so we'll need to explicitly specify that the third argument corresponds to size, or we'll get incorrect results. \n",
    "\n",
    "This call will return a 1, which we'll count as a head, or a 0, which we'll count as tails. We can use binom-dot-rvs 1, 0.5, size equals 1 to flip 1 coin, with a 50% probability of heads, 1 time.\n",
    "\n",
    "<img src=\"bd.jpg\" style=\"max-width:600px\">\n",
    "\n",
    "\n",
    "### One flip many times\n",
    "\n",
    "To perform eight coin flips, we can change the size argument to 8, which will flip 1 coin with a 50% chance of heads 8 times. \n",
    "\n",
    "<img src=\"bd-1.jpg\" style=\"max-width:600px\">\n",
    "\n",
    "This gives us a set of 8 ones and zeros.\n",
    "\n",
    "\n",
    "### Many flips one time\n",
    "\n",
    "If we swap the first and last arguments, we flip eight coins one time. \n",
    "\n",
    "<img src=\"bd-2.jpg\" style=\"max-width:600px\">\n",
    "\n",
    "This gives us one number, which is the total number of heads or successes.\n",
    "\n",
    "\n",
    "### Many flips many times\n",
    "\n",
    "Similarly, we can pass 3 as the first argument, and set size equal to 10 to flip 3 coins. \n",
    "\n",
    "<img src=\"bd-3.jpg\" style=\"max-width:600px\">\n",
    "\n",
    "This returns 10 numbers, each representing the total number of heads from each set of flips.\n",
    "\n",
    "\n",
    "### Other probabilities\n",
    "\n",
    "We could also have a coin that's heavier on one side than the other, so the probability of getting heads is only 25%. To simulate flips with this coin, we'll adjust the second argument of binom-dot-rvs to 0-point-25. \n",
    "\n",
    "<img src=\"bd-4.jpg\" style=\"max-width:600px\">\n",
    "\n",
    "The result has lower numbers, since getting multiple heads isn't as likely with the new coin."
   ]
  },
  {
   "cell_type": "markdown",
   "id": "cb49ed06",
   "metadata": {},
   "source": [
    "### Binomial distribution\n",
    "\n",
    "The binomial distribution describes the probability of the number of successes in a sequence of independent trials. In other words, it can tell us the probability of getting some number of heads in a sequence of coin flips. Note that this is a discrete distribution since we're working with a countable outcome. \n",
    "\n",
    "The binomial distribution can be described using two parameters, n and p. n represents the total number of trials being performed, and p is the probability of success. n and p are also the third and second arguments of binom-dot-rvs. \n",
    "\n",
    "\n",
    "<img src=\"bd-5.jpg\" style=\"max-width:800px\">\n",
    "\n",
    "\n",
    "Here's what the distribution looks like for 3 coins and 10 flips/trials. We have the biggest chance of getting 5 heads total, and a much smaller chance of getting 0 heads or 10 heads."
   ]
  },
  {
   "cell_type": "code",
   "execution_count": null,
   "id": "04480a61",
   "metadata": {},
   "outputs": [],
   "source": []
  },
  {
   "cell_type": "markdown",
   "id": "53276896",
   "metadata": {},
   "source": [
    "## Exercise 6: Simulating sales deals\n",
    "\n",
    "Assume that Amir usually works on 3 deals per week, and overall, he wins 30% of deals he works on. Each deal has a binary outcome: it's either lost, or won, so you can model his sales deals with a binomial distribution. \n",
    "\n",
    "In this exercise, you'll help Amir simulate a year's worth of his deals so he can better understand his performance.\n",
    "\n",
    "- Import binom from scipy.stats and set the random seed to 10. Simulate 1 deal worked on by Amir, who wins 30% of the deals he works on.\n",
    "\n",
    "\n",
    "- Simulate a typical week of Amir's deals, or one week of 3 deals.\n",
    "\n",
    "\n",
    "- Simulate a year's worth of Amir's deals, or 52 weeks of 3 deals each, and store in deals. Print the mean number of deals he won per week."
   ]
  },
  {
   "cell_type": "code",
   "execution_count": 69,
   "id": "1a4d7412",
   "metadata": {},
   "outputs": [
    {
     "data": {
      "text/plain": [
       "array([1])"
      ]
     },
     "execution_count": 69,
     "metadata": {},
     "output_type": "execute_result"
    }
   ],
   "source": [
    "## q1: Import binom from scipy.stats and set the random seed to 10. \n",
    "## Simulate 1 deal worked on by Amir, who wins 30% of the deals he works on.\n",
    "\n",
    "from scipy.stats import binom\n",
    "np.random.seed(10)\n",
    "\n",
    "binom.rvs(1, 0.3, size=1)"
   ]
  },
  {
   "cell_type": "code",
   "execution_count": 70,
   "id": "2b9b6a8c",
   "metadata": {},
   "outputs": [
    {
     "data": {
      "text/plain": [
       "array([1])"
      ]
     },
     "execution_count": 70,
     "metadata": {},
     "output_type": "execute_result"
    }
   ],
   "source": [
    "## q2: Simulate a typical week of Amir's deals, or one week of 3 deals.\n",
    "np.random.seed(10)\n",
    "\n",
    "binom.rvs(3, 0.3, size = 1)"
   ]
  },
  {
   "cell_type": "code",
   "execution_count": 71,
   "id": "82ebe82e",
   "metadata": {},
   "outputs": [
    {
     "name": "stdout",
     "output_type": "stream",
     "text": [
      "[1 0 1 1 1 0 0 1 0 0 1 2 0 1 2 1 1 0 2 1 1 0 1 1 1 1 1 1 1 1 2 1 2 0 0 0 0\n",
      " 2 0 1 1 2 0 2 1 1 0 2 0 0 1 0] \n",
      "\n",
      "0.8269230769230769\n"
     ]
    }
   ],
   "source": [
    "## q3: Simulate a year's worth of Amir's deals, or 52 weeks of 3 deals each, and store in deals. \n",
    "## Print the mean number of deals he won per week.\n",
    "\n",
    "np.random.seed(10)\n",
    "\n",
    "deals = binom.rvs(3, 0.3, size = 52)\n",
    "print(deals,'\\n')\n",
    "print(np.mean(deals))"
   ]
  },
  {
   "cell_type": "code",
   "execution_count": null,
   "id": "62dbbdcb",
   "metadata": {},
   "outputs": [],
   "source": []
  },
  {
   "cell_type": "markdown",
   "id": "408eaa1f",
   "metadata": {},
   "source": [
    "### What's the probability of 7 heads?\n",
    "\n",
    "To get the probability of getting 7 heads out of 10 coins, we can use binom-dot-pmf. The first argument is the number of heads or successes. The second argument is the number of trials, n, and the third is the probability of success, p. \n",
    "\n",
    "<img src=\"pr.jpg\" style=\"max-width:600px\">\n",
    "\n",
    "If we flip 10 coins, there's about a 12% chance that exactly 7 of them will be heads.\n",
    "\n",
    "\n",
    "###  What's the probability of 7 or fewer heads?\n",
    "\n",
    "binom-dot-cdf gives the probability of getting a number of successes less than or equal to the first argument. \n",
    "\n",
    "<img src=\"pr-1.jpg\" style=\"max-width:600px\">\n",
    "\n",
    "The probability of getting 7 or fewer heads out of 10 coins is about 95%.\n",
    "\n",
    "\n",
    "### What's the probability of more than 7 heads?\n",
    "\n",
    "We can take 1 minus the probability of getting 7 or fewer heads to get the probability of a number of successes greater than the first argument.\n",
    "\n",
    "<img src=\"pr-2.jpg\" style=\"max-width:600px\">"
   ]
  },
  {
   "cell_type": "code",
   "execution_count": null,
   "id": "b15459ac",
   "metadata": {},
   "outputs": [],
   "source": []
  },
  {
   "cell_type": "markdown",
   "id": "5d0a5a28",
   "metadata": {},
   "source": [
    "## Exercise 7: Calculating binomial probabilities\n",
    "\n",
    "Just as in the last exercise, assume that Amir wins 30% of deals. He wants to get an idea of how likely he is to close a certain number of deals each week. \n",
    "\n",
    "In this exercise, you'll calculate what the chances are of him closing different numbers of deals using the binomial distribution.\n",
    "\n",
    "- What's the probability that Amir closes all 3 deals in a week? Save this as prob_3.\n",
    "\n",
    "\n",
    "- What's the probability that Amir closes 1 or fewer deals in a week? Save this as prob_less_than_or_equal_1.\n",
    "\n",
    "\n",
    "- What's the probability that Amir closes more than 1 deal? Save this as prob_greater_than_1."
   ]
  },
  {
   "cell_type": "code",
   "execution_count": 72,
   "id": "4e7c026d",
   "metadata": {},
   "outputs": [
    {
     "data": {
      "text/plain": [
       "0.026999999999999982"
      ]
     },
     "execution_count": 72,
     "metadata": {},
     "output_type": "execute_result"
    }
   ],
   "source": [
    "## q1: What's the probability that Amir closes all 3 deals in a week? Save this as prob_3.\n",
    "prob_3 = binom.pmf(3, 3, 0.3)\n",
    "prob_3"
   ]
  },
  {
   "cell_type": "code",
   "execution_count": 73,
   "id": "69d7cd37",
   "metadata": {},
   "outputs": [
    {
     "data": {
      "text/plain": [
       "0.7839999999999999"
      ]
     },
     "execution_count": 73,
     "metadata": {},
     "output_type": "execute_result"
    }
   ],
   "source": [
    "## q2: What's the probability that Amir closes 1 or fewer deals in a week? Save this as prob_less_than_or_equal_1.\n",
    "\n",
    "prob_less_than_or_equal_1 = binom.cdf(1,3,0.3)\n",
    "prob_less_than_or_equal_1"
   ]
  },
  {
   "cell_type": "code",
   "execution_count": 74,
   "id": "8696a46c",
   "metadata": {},
   "outputs": [
    {
     "data": {
      "text/plain": [
       "0.21600000000000008"
      ]
     },
     "execution_count": 74,
     "metadata": {},
     "output_type": "execute_result"
    }
   ],
   "source": [
    "## q3: What's the probability that Amir closes more than 1 deal? Save this as prob_greater_than_1.\n",
    "\n",
    "prob_greater_than_1 = 1 - binom.cdf(1,3,0.3)\n",
    "prob_greater_than_1"
   ]
  },
  {
   "cell_type": "code",
   "execution_count": null,
   "id": "692fc311",
   "metadata": {},
   "outputs": [],
   "source": []
  },
  {
   "cell_type": "markdown",
   "id": "071a232d",
   "metadata": {},
   "source": [
    "###  Expected value\n",
    "\n",
    "The expected value of the binomial distribution can be calculated by multiplying n times p. The expected number of heads we'll get from flipping 10 coins is 10 times 0-point-5, which is 5.\n",
    "\n",
    "<img src=\"ev.jpg\" style=\"max-width:600px\">"
   ]
  },
  {
   "cell_type": "code",
   "execution_count": null,
   "id": "6e8fdea9",
   "metadata": {},
   "outputs": [],
   "source": []
  },
  {
   "cell_type": "markdown",
   "id": "3cd90a79",
   "metadata": {},
   "source": [
    "## Exercise 8: How many sales will be won?\n",
    "\n",
    "Now Amir wants to know how many deals he can expect to close each week if his win rate changes. Luckily, you can use your binomial distribution knowledge to help him calculate the expected value in different situations. \n",
    "\n",
    "Recall, that the expected value of a binomial distribution can be calculated by n * p.\n",
    "\n",
    "- Calculate the expected number of sales out of the 3 he works on that Amir will win each week if he maintains his 30% win rate.\n",
    "\n",
    "\n",
    "- Calculate the expected number of sales out of the 3 he works on that he'll win if his win rate drops to 25%.\n",
    "\n",
    "\n",
    "- Calculate the expected number of sales out of the 3 he works on that he'll win if his win rate rises to 35%."
   ]
  },
  {
   "cell_type": "code",
   "execution_count": 75,
   "id": "2a51fc67",
   "metadata": {},
   "outputs": [
    {
     "name": "stdout",
     "output_type": "stream",
     "text": [
      "0.8999999999999999\n",
      "0.75\n",
      "1.0499999999999998\n"
     ]
    }
   ],
   "source": [
    "# Expected number won with 30% win rate\n",
    "won_30pct = 3 * 0.3\n",
    "print(won_30pct)\n",
    "\n",
    "# Expected number won with 25% win rate\n",
    "won_25pct = 3 * 0.25\n",
    "print(won_25pct)\n",
    "\n",
    "# Expected number won with 35% win rate\n",
    "won_35pct = 3 * 0.35\n",
    "print(won_35pct)"
   ]
  },
  {
   "cell_type": "code",
   "execution_count": null,
   "id": "13f0066d",
   "metadata": {},
   "outputs": [],
   "source": []
  },
  {
   "cell_type": "markdown",
   "id": "de70d482",
   "metadata": {},
   "source": [
    "### Independence\n",
    "\n",
    "It's important to remember that in order for the binomial distribution to apply, each trial must be independent, so the outcome of one trial shouldn't have an effect on the next.\n",
    "\n",
    "<img src=\"in.jpg\" style=\"max-width:800px\">\n",
    "\n",
    "For example, if we're picking randomly from these cards with zeros and ones, we have a 50-50 chance of getting a 0 or a 1.\n",
    "\n",
    "But if we're sampling without replacement, the probabilities for the second trial are different due to the outcome of the first trial. Since these trials aren't independent, we can't calculate accurate probabilities for this situation using the binomial distribution.\n",
    "\n",
    "<img src=\"in-1.jpg\" style=\"max-width:800px\">"
   ]
  },
  {
   "cell_type": "code",
   "execution_count": null,
   "id": "d678f484",
   "metadata": {},
   "outputs": [],
   "source": []
  },
  {
   "cell_type": "code",
   "execution_count": null,
   "id": "836709df",
   "metadata": {},
   "outputs": [],
   "source": []
  },
  {
   "cell_type": "code",
   "execution_count": null,
   "id": "f6df03f5",
   "metadata": {},
   "outputs": [],
   "source": []
  },
  {
   "cell_type": "code",
   "execution_count": null,
   "id": "46874448",
   "metadata": {},
   "outputs": [],
   "source": []
  },
  {
   "cell_type": "code",
   "execution_count": null,
   "id": "caf87cb0",
   "metadata": {},
   "outputs": [],
   "source": []
  },
  {
   "cell_type": "code",
   "execution_count": null,
   "id": "a38ffd2c",
   "metadata": {},
   "outputs": [],
   "source": []
  },
  {
   "cell_type": "code",
   "execution_count": null,
   "id": "c6a3f939",
   "metadata": {},
   "outputs": [],
   "source": []
  },
  {
   "cell_type": "code",
   "execution_count": null,
   "id": "08e1abeb",
   "metadata": {},
   "outputs": [],
   "source": []
  },
  {
   "cell_type": "code",
   "execution_count": null,
   "id": "9b5a03eb",
   "metadata": {},
   "outputs": [],
   "source": []
  },
  {
   "cell_type": "code",
   "execution_count": null,
   "id": "335dd1cc",
   "metadata": {},
   "outputs": [],
   "source": []
  },
  {
   "cell_type": "code",
   "execution_count": null,
   "id": "ca2d1cf2",
   "metadata": {},
   "outputs": [],
   "source": []
  },
  {
   "cell_type": "code",
   "execution_count": null,
   "id": "bacccb24",
   "metadata": {},
   "outputs": [],
   "source": []
  },
  {
   "cell_type": "code",
   "execution_count": null,
   "id": "58de8b33",
   "metadata": {},
   "outputs": [],
   "source": []
  },
  {
   "cell_type": "code",
   "execution_count": null,
   "id": "72759337",
   "metadata": {},
   "outputs": [],
   "source": []
  },
  {
   "cell_type": "code",
   "execution_count": null,
   "id": "7b69426e",
   "metadata": {},
   "outputs": [],
   "source": []
  },
  {
   "cell_type": "code",
   "execution_count": null,
   "id": "ed92942e",
   "metadata": {},
   "outputs": [],
   "source": []
  },
  {
   "cell_type": "code",
   "execution_count": null,
   "id": "d69d961a",
   "metadata": {},
   "outputs": [],
   "source": []
  },
  {
   "cell_type": "code",
   "execution_count": null,
   "id": "986f3b3a",
   "metadata": {},
   "outputs": [],
   "source": []
  },
  {
   "cell_type": "code",
   "execution_count": null,
   "id": "fc740ffc",
   "metadata": {},
   "outputs": [],
   "source": []
  },
  {
   "cell_type": "code",
   "execution_count": null,
   "id": "55ad5bbc",
   "metadata": {},
   "outputs": [],
   "source": []
  },
  {
   "cell_type": "code",
   "execution_count": null,
   "id": "67c4f0c2",
   "metadata": {},
   "outputs": [],
   "source": []
  },
  {
   "cell_type": "code",
   "execution_count": null,
   "id": "3aa8a043",
   "metadata": {},
   "outputs": [],
   "source": []
  },
  {
   "cell_type": "code",
   "execution_count": null,
   "id": "3b4a2063",
   "metadata": {},
   "outputs": [],
   "source": []
  },
  {
   "cell_type": "code",
   "execution_count": null,
   "id": "deab329b",
   "metadata": {},
   "outputs": [],
   "source": []
  },
  {
   "cell_type": "code",
   "execution_count": null,
   "id": "f79a0b38",
   "metadata": {},
   "outputs": [],
   "source": []
  },
  {
   "cell_type": "code",
   "execution_count": null,
   "id": "b5080507",
   "metadata": {},
   "outputs": [],
   "source": []
  },
  {
   "cell_type": "code",
   "execution_count": null,
   "id": "655969f6",
   "metadata": {},
   "outputs": [],
   "source": []
  },
  {
   "cell_type": "code",
   "execution_count": null,
   "id": "9de3820a",
   "metadata": {},
   "outputs": [],
   "source": []
  },
  {
   "cell_type": "code",
   "execution_count": null,
   "id": "eae8feff",
   "metadata": {},
   "outputs": [],
   "source": []
  },
  {
   "cell_type": "code",
   "execution_count": null,
   "id": "4900a0a9",
   "metadata": {},
   "outputs": [],
   "source": []
  },
  {
   "cell_type": "code",
   "execution_count": null,
   "id": "1de8da8c",
   "metadata": {},
   "outputs": [],
   "source": []
  },
  {
   "cell_type": "code",
   "execution_count": null,
   "id": "8df11ecd",
   "metadata": {},
   "outputs": [],
   "source": []
  },
  {
   "cell_type": "code",
   "execution_count": null,
   "id": "c32df250",
   "metadata": {},
   "outputs": [],
   "source": []
  },
  {
   "cell_type": "code",
   "execution_count": null,
   "id": "0ef93cdb",
   "metadata": {},
   "outputs": [],
   "source": []
  },
  {
   "cell_type": "code",
   "execution_count": null,
   "id": "e82a4a98",
   "metadata": {},
   "outputs": [],
   "source": []
  },
  {
   "cell_type": "code",
   "execution_count": null,
   "id": "cf55d4fa",
   "metadata": {},
   "outputs": [],
   "source": []
  },
  {
   "cell_type": "code",
   "execution_count": null,
   "id": "07b3af48",
   "metadata": {},
   "outputs": [],
   "source": []
  },
  {
   "cell_type": "code",
   "execution_count": null,
   "id": "88534049",
   "metadata": {},
   "outputs": [],
   "source": []
  },
  {
   "cell_type": "code",
   "execution_count": null,
   "id": "ac9ea149",
   "metadata": {},
   "outputs": [],
   "source": []
  },
  {
   "cell_type": "code",
   "execution_count": null,
   "id": "06a58b20",
   "metadata": {},
   "outputs": [],
   "source": []
  },
  {
   "cell_type": "code",
   "execution_count": null,
   "id": "00db349e",
   "metadata": {},
   "outputs": [],
   "source": []
  },
  {
   "cell_type": "code",
   "execution_count": null,
   "id": "1b7320be",
   "metadata": {},
   "outputs": [],
   "source": []
  },
  {
   "cell_type": "code",
   "execution_count": null,
   "id": "700b7549",
   "metadata": {},
   "outputs": [],
   "source": []
  },
  {
   "cell_type": "code",
   "execution_count": null,
   "id": "e3afc51b",
   "metadata": {},
   "outputs": [],
   "source": []
  },
  {
   "cell_type": "code",
   "execution_count": null,
   "id": "da1a3dd3",
   "metadata": {},
   "outputs": [],
   "source": []
  },
  {
   "cell_type": "code",
   "execution_count": null,
   "id": "c4f973f4",
   "metadata": {},
   "outputs": [],
   "source": []
  },
  {
   "cell_type": "code",
   "execution_count": null,
   "id": "781fbea1",
   "metadata": {},
   "outputs": [],
   "source": []
  },
  {
   "cell_type": "code",
   "execution_count": null,
   "id": "8f5eb4d5",
   "metadata": {},
   "outputs": [],
   "source": []
  }
 ],
 "metadata": {
  "kernelspec": {
   "display_name": "Python 3",
   "language": "python",
   "name": "python3"
  },
  "language_info": {
   "codemirror_mode": {
    "name": "ipython",
    "version": 3
   },
   "file_extension": ".py",
   "mimetype": "text/x-python",
   "name": "python",
   "nbconvert_exporter": "python",
   "pygments_lexer": "ipython3",
   "version": "3.8.8"
  }
 },
 "nbformat": 4,
 "nbformat_minor": 5
}

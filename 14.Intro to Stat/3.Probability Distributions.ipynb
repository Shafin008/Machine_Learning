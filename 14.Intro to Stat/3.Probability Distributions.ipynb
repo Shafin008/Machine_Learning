{
 "cells": [
  {
   "cell_type": "markdown",
   "id": "791b7eb7",
   "metadata": {},
   "source": [
    "### The normal distribution\n",
    "\n",
    "The next probability distribution we'll discuss is the normal distribution. It's one of the most important probability distributions you'll learn about since a countless number of statistical methods rely on it, and it applies to more real-world situations than the distributions we've covered so far.\n",
    "\n",
    "### What is the normal distribution?\n",
    "\n",
    "The normal distribution looks like this. Its shape is commonly referred to as a \"bell curve\". \n",
    "\n",
    "<img src=\"nd.jpg\" style=\"max-width:600px\">\n",
    "\n",
    "\n",
    "The normal distribution has a few important properties.\n",
    "\n",
    "- `Symmetrical`: First, it's symmetrical, so the left side is a mirror image of the right.\n",
    "\n",
    "\n",
    "- `Area = 1`: Second, just like any continuous distribution, the area beneath the curve is 1.\n",
    "\n",
    "\n",
    "- `Curve never hits 0`: The probability never hits 0, even if it looks like it does at the tail ends. Only 0.006% of its area is contained beyond the edges of this graph.\n",
    "\n",
    "\n",
    "- `Described by mean and standard deviation`: The normal distribution is described by its mean and standard deviation. \n",
    "\n",
    "\n",
    "<img src=\"nd-1.jpg\" style=\"max-width:600px\">\n",
    "\n",
    "    \n",
    "Here is a normal distribution with a mean of 20 and standard deviation of 3, and here is a normal distribution with a mean of 0 and a standard deviation of 1. \n",
    "    \n",
    "When a normal distribution has mean 0 and a standard deviation of 1, it's a special distribution called the `standard normal distribution` Notice how both distributions have the same shape, but their axes have different scales.\n",
    "\n",
    "- `Areas under the normal distribution`: For the normal distribution, `68%` of the area is within `1 standard deviation` of the mean. `95%` of the area falls within `2 standard deviations` of the mean,and `99.7%`of the area falls within `3 standard deviations`. This is sometimes called the `68-95-99.7` rule."
   ]
  },
  {
   "cell_type": "code",
   "execution_count": null,
   "id": "a673025c",
   "metadata": {},
   "outputs": [],
   "source": []
  },
  {
   "cell_type": "code",
   "execution_count": 1,
   "id": "7f33ecbe",
   "metadata": {},
   "outputs": [],
   "source": [
    "import numpy as np\n",
    "import pandas as pd\n",
    "import matplotlib.pyplot as plt"
   ]
  },
  {
   "cell_type": "code",
   "execution_count": 2,
   "id": "b4230952",
   "metadata": {},
   "outputs": [
    {
     "data": {
      "text/html": [
       "<div>\n",
       "<style scoped>\n",
       "    .dataframe tbody tr th:only-of-type {\n",
       "        vertical-align: middle;\n",
       "    }\n",
       "\n",
       "    .dataframe tbody tr th {\n",
       "        vertical-align: top;\n",
       "    }\n",
       "\n",
       "    .dataframe thead th {\n",
       "        text-align: right;\n",
       "    }\n",
       "</style>\n",
       "<table border=\"1\" class=\"dataframe\">\n",
       "  <thead>\n",
       "    <tr style=\"text-align: right;\">\n",
       "      <th></th>\n",
       "      <th>product</th>\n",
       "      <th>client</th>\n",
       "      <th>status</th>\n",
       "      <th>amount</th>\n",
       "      <th>num_users</th>\n",
       "    </tr>\n",
       "  </thead>\n",
       "  <tbody>\n",
       "    <tr>\n",
       "      <th>0</th>\n",
       "      <td>Product F</td>\n",
       "      <td>Current</td>\n",
       "      <td>Won</td>\n",
       "      <td>7389.52</td>\n",
       "      <td>19</td>\n",
       "    </tr>\n",
       "    <tr>\n",
       "      <th>1</th>\n",
       "      <td>Product C</td>\n",
       "      <td>New</td>\n",
       "      <td>Won</td>\n",
       "      <td>4493.01</td>\n",
       "      <td>43</td>\n",
       "    </tr>\n",
       "    <tr>\n",
       "      <th>2</th>\n",
       "      <td>Product B</td>\n",
       "      <td>New</td>\n",
       "      <td>Won</td>\n",
       "      <td>5738.09</td>\n",
       "      <td>87</td>\n",
       "    </tr>\n",
       "    <tr>\n",
       "      <th>3</th>\n",
       "      <td>Product I</td>\n",
       "      <td>Current</td>\n",
       "      <td>Won</td>\n",
       "      <td>2591.24</td>\n",
       "      <td>83</td>\n",
       "    </tr>\n",
       "    <tr>\n",
       "      <th>4</th>\n",
       "      <td>Product E</td>\n",
       "      <td>Current</td>\n",
       "      <td>Won</td>\n",
       "      <td>6622.97</td>\n",
       "      <td>17</td>\n",
       "    </tr>\n",
       "  </tbody>\n",
       "</table>\n",
       "</div>"
      ],
      "text/plain": [
       "     product   client status   amount  num_users\n",
       "0  Product F  Current    Won  7389.52         19\n",
       "1  Product C      New    Won  4493.01         43\n",
       "2  Product B      New    Won  5738.09         87\n",
       "3  Product I  Current    Won  2591.24         83\n",
       "4  Product E  Current    Won  6622.97         17"
      ]
     },
     "execution_count": 2,
     "metadata": {},
     "output_type": "execute_result"
    }
   ],
   "source": [
    "amir_deals = pd.read_csv(\"amir_deals.csv\")\n",
    "amir_deals = amir_deals.drop(\"Unnamed: 0\", axis = 1)\n",
    "amir_deals.head()"
   ]
  },
  {
   "cell_type": "markdown",
   "id": "01402f7c",
   "metadata": {},
   "source": [
    "## Exercise 1: Distribution of Amir's sales\n",
    "\n",
    "Since each deal Amir worked on (both won and lost) was different, each was worth a different amount of money. These values are stored in the amount column of amir_deals As part of Amir's performance review, you want to be able to estimate the probability of him selling different amounts, but before you can do this, you'll need to determine what kind of distribution the amount variable follows.\n",
    "\n",
    "- Create a histogram with 10 bins to visualize the distribution of the amount. Show the plot.\n",
    "\n",
    "- Which probability distribution do the sales amounts most closely follow?"
   ]
  },
  {
   "cell_type": "code",
   "execution_count": 7,
   "id": "ebb39b5b",
   "metadata": {},
   "outputs": [
    {
     "data": {
      "image/png": "[encoded data removed]",
      "text/plain": [
       "<Figure size 432x288 with 1 Axes>"
      ]
     },
     "metadata": {
      "needs_background": "light"
     },
     "output_type": "display_data"
    }
   ],
   "source": [
    "## q1: Create a histogram with 10 bins to visualize the distribution of the amount. Show the plot.\n",
    "amir_deals[\"amount\"].hist(bins=10)\n",
    "plt.show()"
   ]
  },
  {
   "cell_type": "code",
   "execution_count": 8,
   "id": "a15483dc",
   "metadata": {},
   "outputs": [],
   "source": [
    "## q2: Which probability distribution do the sales amounts most closely follow?"
   ]
  },
  {
   "cell_type": "markdown",
   "id": "c55edff0",
   "metadata": {},
   "source": [
    "> Now that we've visualized the data, we can say that the sales amounts most closely follow Normal Distribution in the dataset. Now, we can approximate probabilities of different amounts using the normal distribution."
   ]
  },
  {
   "cell_type": "code",
   "execution_count": null,
   "id": "04e8565c",
   "metadata": {},
   "outputs": [],
   "source": []
  },
  {
   "cell_type": "markdown",
   "id": "d40b38fa",
   "metadata": {},
   "source": [
    "### Lots of histograms look normal\n",
    "\n",
    "There's lots of real-world data shaped like the normal distribution. \n",
    "\n",
    "<img src=\"nd-2.jpg\" style=\"max-width:600px\">\n",
    "\n",
    "For example, here is a histogram of the heights of women that participated in the National Health and Nutrition Examination Survey. The mean height is around 161 centimeters and the standard deviation is about 7 centimeters.\n",
    "\n",
    "Since this height data closely resembles the normal distribution, we can take the area under a normal distribution with mean 161 and standard deviation 7 to approximate what percent of women fall into different height ranges.\n",
    "\n",
    "####  What percent of women are shorter than 154 cm?\n",
    "\n",
    "For example, what percent of women are shorter than 154 centimeters? \n",
    "\n",
    "<img src=\"nd-3.jpg\" style=\"max-width:600px\">\n",
    "\n",
    "We can answer this using norm-dot-cdf from scipy-dot-stats, which takes the area of the normal distribution less than some number. We pass in the number of interest, 154, followed by the mean and standard deviation of the normal distribution we're using. This gives us about 16% of women are shorter than 154 centimeters."
   ]
  },
  {
   "cell_type": "markdown",
   "id": "5d220b3d",
   "metadata": {},
   "source": [
    "#### What percent of women are taller than 154 cm?\n",
    "\n",
    "To find the percent of women taller than 154 centimeters, we can take 1 minus the area on the left of 154, which equals the area to the right of 154.\n",
    "\n",
    "<img src=\"nd-4.jpg\" style=\"max-width:600px\">\n",
    "\n",
    "#### What percent of women are 154-157 cm?\n",
    "\n",
    "To get the percent of women between 154 and 157 centimeters tall we can take the area below 157 and subtract the area below 154, which leaves us the area between 154 and 157.\n",
    "\n",
    "<img src=\"nd-5.jpg\" style=\"max-width:600px\">"
   ]
  },
  {
   "cell_type": "markdown",
   "id": "1031e4b2",
   "metadata": {},
   "source": [
    "####  What height are 90% of women shorter than?\n",
    "We can also calculate percentages from heights using norm-dot-ppf. To figure out what height 90% of women are shorter than, we pass 0-point-9 into norm-dot-ppf along with the same mean and standard deviation we've been working with. \n",
    "\n",
    "<img src=\"nd-6.jpg\" style=\"max-width:600px\">\n",
    "\n",
    "This tells us that 90% of women are shorter than 170 centimeters tall.\n",
    "\n",
    "####  What height are 90% of women taller than?\n",
    "\n",
    "We can figure out the height 90% of women are taller than, since this is also the height that 10% of women are shorter than. We can take 1 minus point-9 to get point-1, which we'll use as the first argument of norm-ppf.\n",
    "\n",
    "<img src=\"nd-7.jpg\" style=\"max-width:600px\">"
   ]
  },
  {
   "cell_type": "code",
   "execution_count": null,
   "id": "fc14e701",
   "metadata": {},
   "outputs": [],
   "source": []
  },
  {
   "cell_type": "markdown",
   "id": "f0efcfc7",
   "metadata": {},
   "source": [
    "## Exercise 2: Probabilities from the normal distribution\n",
    "\n",
    "Since each deal Amir worked on (both won and lost) was different, each was worth a different amount of money. These values are stored in the amount column of amir_deals and follow a normal distribution with a mean of 5000 dollars and a standard deviation of 2000 dollars. \n",
    "\n",
    "As part of his performance metrics, you want to calculate the probability of Amir closing a deal worth various amounts.\n",
    "\n",
    "- What's the probability of Amir closing a deal worth less than `$`7500?\n",
    "\n",
    "\n",
    "- What's the probability of Amir closing a deal worth more than `$`1000?\n",
    "\n",
    "\n",
    "- What's the probability of Amir closing a deal worth between `$`3000 and `$`7000?\n",
    "\n",
    "\n",
    "- What amount will 25% of Amir's sales be less than?"
   ]
  },
  {
   "cell_type": "code",
   "execution_count": 10,
   "id": "5833b2a2",
   "metadata": {},
   "outputs": [],
   "source": [
    "from scipy.stats import norm"
   ]
  },
  {
   "cell_type": "code",
   "execution_count": 11,
   "id": "6cb00d7f",
   "metadata": {
    "scrolled": true
   },
   "outputs": [
    {
     "name": "stdout",
     "output_type": "stream",
     "text": [
      "0.8943502263331446\n"
     ]
    }
   ],
   "source": [
    "## q1 : What's the probability of Amir closing a deal worth less than $7500?\n",
    "\n",
    "prob_less_7500 = norm.cdf(7500, 5000, 2000)\n",
    "print(prob_less_7500)"
   ]
  },
  {
   "cell_type": "code",
   "execution_count": 12,
   "id": "a2b577cc",
   "metadata": {},
   "outputs": [
    {
     "name": "stdout",
     "output_type": "stream",
     "text": [
      "0.9772498680518208\n"
     ]
    }
   ],
   "source": [
    "## q2: What's the probability of Amir closing a deal worth more than $1000?\n",
    "prob_over_1000 = 1 - norm.cdf(1000, 5000, 2000)\n",
    "print(prob_over_1000)"
   ]
  },
  {
   "cell_type": "code",
   "execution_count": 13,
   "id": "ea2a67e2",
   "metadata": {},
   "outputs": [
    {
     "name": "stdout",
     "output_type": "stream",
     "text": [
      "0.6826894921370859\n"
     ]
    }
   ],
   "source": [
    "## q3: What's the probability of Amir closing a deal worth between $3000 and $7000?\n",
    "prob_3000_to_7000 = norm.cdf(7000, 5000, 2000) - norm.cdf(3000, 5000, 2000)\n",
    "print(prob_3000_to_7000)"
   ]
  },
  {
   "cell_type": "code",
   "execution_count": 14,
   "id": "8af03cab",
   "metadata": {},
   "outputs": [
    {
     "name": "stdout",
     "output_type": "stream",
     "text": [
      "3651.0204996078364\n"
     ]
    }
   ],
   "source": [
    "## q4: What amount will 25% of Amir's sales be less than?\n",
    "pct_25 = norm.ppf(0.25, 5000, 2000)\n",
    "print(pct_25)"
   ]
  },
  {
   "cell_type": "code",
   "execution_count": null,
   "id": "9d680974",
   "metadata": {},
   "outputs": [],
   "source": []
  },
  {
   "cell_type": "markdown",
   "id": "fb0c0e77",
   "metadata": {},
   "source": [
    "### Generating random numbers\n",
    "\n",
    "Just like with other distributions, we can generate random numbers from a normal distribution using norm-dot-rvs, passing in the distribution's mean and standard deviation, as well as the sample size we want. Here, we've generated 10 more random heights.\n",
    "\n",
    "<img src=\"nd-8.jpg\" style=\"max-width:600px\">"
   ]
  },
  {
   "cell_type": "markdown",
   "id": "9e67c907",
   "metadata": {},
   "source": []
  },
  {
   "cell_type": "markdown",
   "id": "23e917ec",
   "metadata": {},
   "source": [
    "## Exercise 3: Simulating sales under new market conditions\n",
    "\n",
    "The company's financial analyst is predicting that next quarter, the worth of each sale will increase by 20% and the volatility, or standard deviation, of each sale's worth will increase by 30%. \n",
    "\n",
    "To see what Amir's sales might look like next quarter under these new market conditions, you'll simulate new sales amounts using the normal distribution.\n",
    "\n",
    "- Currently, Amir's average sale amount is `$`5000. Calculate what his new average amount will be if it increases by 20% and store this in new_mean.\n",
    "\n",
    "\n",
    "- Amir's current standard deviation is `$`2000. Calculate what his new standard deviation will be if it increases by 30% and store this in new_sd.\n",
    "\n",
    "\n",
    "- Create a variable called new_sales, which contains 36 simulated amounts from a normal distribution with a mean of new_mean and a standard deviation of new_sd.\n",
    "\n",
    "\n",
    "- Plot the distribution of the new_sales amounts using a histogram and show the plot."
   ]
  },
  {
   "cell_type": "code",
   "execution_count": 17,
   "id": "289f5975",
   "metadata": {},
   "outputs": [
    {
     "data": {
      "image/png": "[encoded data removed]",
      "text/plain": [
       "<Figure size 432x288 with 1 Axes>"
      ]
     },
     "metadata": {
      "needs_background": "light"
     },
     "output_type": "display_data"
    }
   ],
   "source": [
    "# q1\n",
    "new_mean = 5000 + 5000 * 0.2\n",
    "\n",
    "# q2\n",
    "new_sd = 2000 + 2000 * 0.3\n",
    "\n",
    "# q3\n",
    "new_sales = norm.rvs(new_mean, new_sd, size = 36)\n",
    "\n",
    "# q4\n",
    "plt.hist(new_sales)\n",
    "plt.show()"
   ]
  },
  {
   "cell_type": "markdown",
   "id": "e13da5bc",
   "metadata": {},
   "source": [
    "## Exercise 4: Which market is better?\n",
    "\n",
    "The key metric that the company uses to evaluate salespeople is the percent of sales they make over `$`1000 since the time put into each sale is usually worth a bit more than that, so the higher this metric, the better the salesperson is performing.\n",
    "\n",
    "Recall that Amir's current sales amounts have a mean of `$`5000 and a standard deviation of `$`2000, and Amir's predicted amounts in next quarter's market have a mean of `$`6000 and a standard deviation of `$`2600.\n",
    "\n",
    "Based only on the metric of percent of sales over `$`1000, does Amir perform better in the current market or the predicted market?"
   ]
  },
  {
   "cell_type": "code",
   "execution_count": 19,
   "id": "9b78a96a",
   "metadata": {},
   "outputs": [
    {
     "data": {
      "text/plain": [
       "0.9772498680518208"
      ]
     },
     "execution_count": 19,
     "metadata": {},
     "output_type": "execute_result"
    }
   ],
   "source": [
    "current_market = 1 - norm.cdf(1000, 5000, 2000)\n",
    "current_market"
   ]
  },
  {
   "cell_type": "code",
   "execution_count": 20,
   "id": "2e3e9cef",
   "metadata": {},
   "outputs": [
    {
     "data": {
      "text/plain": [
       "0.9727648049862613"
      ]
     },
     "execution_count": 20,
     "metadata": {},
     "output_type": "execute_result"
    }
   ],
   "source": [
    "predicted_market = 1 - norm.cdf(1000, 6000, 2600)\n",
    "predicted_market"
   ]
  },
  {
   "cell_type": "markdown",
   "id": "a1c40d18",
   "metadata": {},
   "source": [
    "> In the current market, Amir makes sales over `$`1000 about `97.7%` of the time, and about `97.3%` of the time in the predicted market, so there's not much of a difference. However, his average sale amount is higher in the predicted market."
   ]
  },
  {
   "cell_type": "code",
   "execution_count": null,
   "id": "f9efe4f3",
   "metadata": {},
   "outputs": [],
   "source": []
  },
  {
   "cell_type": "markdown",
   "id": "93538c43",
   "metadata": {},
   "source": [
    "### The central limit theorem\n",
    "\n",
    "Now that you're familiar with the normal distribution, it's time to learn about what makes it so important.\n",
    "\n",
    "####  Rolling the dice 5 times\n",
    "\n",
    "Let's go back to our dice rolling example. We have a Series of the numbers 1 to 6 called die. To simulate rolling the die 5 times, we'll call die-dot-sample. We pass in the Series we want to sample from, the size of the sample, and set replace to True. This gives us the results of 5 rolls. \n",
    "\n",
    "<img src=\"di.jpg\" style=\"max-width:600px\">\n",
    "\n",
    "Now, we'll take the mean of the 5 rolls, which gives us 2.\n",
    "\n",
    "If we roll another 5 times and take the mean, we get a different mean. If we do it again, we get another mean.\n",
    "\n",
    "<img src=\"di-1.jpg\" style=\"max-width:600px\">\n",
    "\n",
    "#### Rolling the dice 5 times 10 times\n",
    "\n",
    "Let's repeat this 10 times: we'll roll 5 times and take the mean. To do this, we'll use a for loop. We start by creating an empty list called sample_means to hold our means. We loop from 0 to 9 so that the process is repeated 10 times. Inside the loop, we roll 5 times and append the sample's mean to the sample_means list. \n",
    "\n",
    "<img src=\"di-2.jpg\" style=\"max-width:600px\">\n",
    "\n",
    "This gives us a list of 10 different sample means. Let's plot these sample means.\n",
    "\n",
    "### Sampling distributions\n",
    "\n",
    "A distribution of a summary statistic like this is called a sampling distribution. This distribution, specifically, is a sampling distribution of the sample mean.\n",
    "\n",
    "<img src=\"di-3.jpg\" style=\"max-width:600px\">\n",
    "\n",
    "#### 100 sample means\n",
    "\n",
    "Now let's do this 100 times. If we look at the new sampling distribution, its shape somewhat resembles the normal distribution, even though the distribution of the die is uniform.\n",
    "\n",
    "<img src=\"di-4.jpg\" style=\"max-width:600px\">\n",
    "\n",
    "#### 1000 sample means\n",
    "\n",
    "Let's take 1000 means. This sampling distribution more closely resembles the normal distribution.\n",
    "\n",
    "<img src=\"di-5.jpg\" style=\"max-width:600px\">"
   ]
  },
  {
   "cell_type": "markdown",
   "id": "8eb0dc44",
   "metadata": {},
   "source": [
    "### Central limit theorem\n",
    "\n",
    "This phenomenon is known as the central limit theorem, which states that a sampling distribution will approach a normal distribution as the number of trials increases. In our example, the sampling distribution became closer to the normal distribution as we took more and more sample means. \n",
    "\n",
    "<img src=\"clt.jpg\" style=\"max-width:600px\">\n",
    "\n",
    "It's important to note that the central limit theorem only applies when samples are taken randomly and are independent.\n",
    "\n",
    "### Standard deviation and the CLT\n",
    "\n",
    "The central limit theorem, or CLT, applies to other summary statistics as well. If we take the standard deviation of 5 rolls 1000 times, the sample standard deviations are distributed normally, centered around 1.9, which is the distribution's standard deviation.\n",
    "\n",
    "<img src=\"clt-1.jpg\" style=\"max-width:600px\">\n",
    "\n",
    "\n",
    "### Proportions and the CLT\n",
    "\n",
    "Another statistic that the CLT applies to is proportion. \n",
    "\n",
    "Let's sample from the sales team 10 times with replacement and see how many draws have Claire as the outcome. In this case, 10% of draws were Claire. \n",
    "\n",
    "<img src=\"clt-2.jpg\" style=\"max-width:600px\">\n",
    "\n",
    "If we draw again, there are 40% Claires.\n",
    "\n",
    "###  Sampling distribution of proportion\n",
    "\n",
    "If we repeat this 1000 times and plot the distribution of the sample proportions, it resembles a normal distribution centered around 0-point-25, since Claire's name was on 25% of the tickets.\n",
    "\n",
    "<img src=\"clt-3.jpg\" style=\"max-width:600px\">\n",
    "\n",
    "### Mean of sampling distribution\n",
    "\n",
    "Since these sampling distributions are normal, we can take their mean to get an estimate of a distribution's mean, standard deviation, or proportion. \n",
    "\n",
    "<img src=\"clt-4.jpg\" style=\"max-width:600px\">\n",
    "\n",
    "If we take the mean of our sample means from earlier, we get 3.48. That's pretty close to the expected value, which is 3.5! \n",
    "\n",
    "Similarly, the mean of the sample proportions of Claires isn't far off from 0.25. \n",
    "\n",
    "In these examples, we know what the underlying distributions look like, but if we don't, this can be a useful method for estimating characteristics of an underlying distribution. \n",
    "\n",
    "The central limit theorem also comes in handy when you have a huge population and don't have the time or resources to collect data on everyone. Instead, you can collect several smaller samples and create a sampling distribution to estimate what the mean or standard deviation is."
   ]
  },
  {
   "cell_type": "code",
   "execution_count": null,
   "id": "fb4f916e",
   "metadata": {},
   "outputs": [],
   "source": []
  },
  {
   "cell_type": "markdown",
   "id": "0ed8f251",
   "metadata": {},
   "source": [
    "## Exercise 5: The CLT in action\n",
    "\n",
    "The central limit theorem states that a sampling distribution of a sample statistic approaches the normal distribution as you take more samples, no matter the original distribution being sampled from.\n",
    "\n",
    "In this exercise, you'll focus on the sample mean and see the central limit theorem in action while examining the num_users column of amir_deals more closely, which contains the number of people who intend to use the product Amir is selling\n",
    "\n",
    "\n",
    "- Create a histogram of the num_users column of amir_deals and show the plot.\n",
    "\n",
    "- Set the seed to 104. Take a sample of size 20 with replacement from the num_users column of amir_deals, and take the mean.\n",
    "\n",
    "- Repeat this 100 times using a for loop and store as sample_means. This will take 100 different samples and calculate the mean of each.\n",
    "\n",
    "- Convert sample_means into a pd.Series, create a histogram of the sample_means, and show the plot."
   ]
  },
  {
   "cell_type": "code",
   "execution_count": 24,
   "id": "52854e3e",
   "metadata": {},
   "outputs": [
    {
     "data": {
      "text/html": [
       "<div>\n",
       "<style scoped>\n",
       "    .dataframe tbody tr th:only-of-type {\n",
       "        vertical-align: middle;\n",
       "    }\n",
       "\n",
       "    .dataframe tbody tr th {\n",
       "        vertical-align: top;\n",
       "    }\n",
       "\n",
       "    .dataframe thead th {\n",
       "        text-align: right;\n",
       "    }\n",
       "</style>\n",
       "<table border=\"1\" class=\"dataframe\">\n",
       "  <thead>\n",
       "    <tr style=\"text-align: right;\">\n",
       "      <th></th>\n",
       "      <th>product</th>\n",
       "      <th>client</th>\n",
       "      <th>status</th>\n",
       "      <th>amount</th>\n",
       "      <th>num_users</th>\n",
       "    </tr>\n",
       "  </thead>\n",
       "  <tbody>\n",
       "    <tr>\n",
       "      <th>0</th>\n",
       "      <td>Product F</td>\n",
       "      <td>Current</td>\n",
       "      <td>Won</td>\n",
       "      <td>7389.52</td>\n",
       "      <td>19</td>\n",
       "    </tr>\n",
       "    <tr>\n",
       "      <th>1</th>\n",
       "      <td>Product C</td>\n",
       "      <td>New</td>\n",
       "      <td>Won</td>\n",
       "      <td>4493.01</td>\n",
       "      <td>43</td>\n",
       "    </tr>\n",
       "    <tr>\n",
       "      <th>2</th>\n",
       "      <td>Product B</td>\n",
       "      <td>New</td>\n",
       "      <td>Won</td>\n",
       "      <td>5738.09</td>\n",
       "      <td>87</td>\n",
       "    </tr>\n",
       "    <tr>\n",
       "      <th>3</th>\n",
       "      <td>Product I</td>\n",
       "      <td>Current</td>\n",
       "      <td>Won</td>\n",
       "      <td>2591.24</td>\n",
       "      <td>83</td>\n",
       "    </tr>\n",
       "    <tr>\n",
       "      <th>4</th>\n",
       "      <td>Product E</td>\n",
       "      <td>Current</td>\n",
       "      <td>Won</td>\n",
       "      <td>6622.97</td>\n",
       "      <td>17</td>\n",
       "    </tr>\n",
       "  </tbody>\n",
       "</table>\n",
       "</div>"
      ],
      "text/plain": [
       "     product   client status   amount  num_users\n",
       "0  Product F  Current    Won  7389.52         19\n",
       "1  Product C      New    Won  4493.01         43\n",
       "2  Product B      New    Won  5738.09         87\n",
       "3  Product I  Current    Won  2591.24         83\n",
       "4  Product E  Current    Won  6622.97         17"
      ]
     },
     "execution_count": 24,
     "metadata": {},
     "output_type": "execute_result"
    }
   ],
   "source": [
    "amir_deals.head()"
   ]
  },
  {
   "cell_type": "code",
   "execution_count": 26,
   "id": "b02c211c",
   "metadata": {},
   "outputs": [
    {
     "data": {
      "image/png": "[encoded data removed]",
      "text/plain": [
       "<Figure size 432x288 with 1 Axes>"
      ]
     },
     "metadata": {
      "needs_background": "light"
     },
     "output_type": "display_data"
    }
   ],
   "source": [
    "## q1: Create a histogram of the num_users column of amir_deals and show the plot.\n",
    "plt.hist(amir_deals['num_users'])\n",
    "plt.show()"
   ]
  },
  {
   "cell_type": "code",
   "execution_count": 32,
   "id": "3937c8cd",
   "metadata": {},
   "outputs": [
    {
     "name": "stdout",
     "output_type": "stream",
     "text": [
      "32.0\n"
     ]
    },
    {
     "data": {
      "image/png": "[encoded data removed]",
      "text/plain": [
       "<Figure size 432x288 with 1 Axes>"
      ]
     },
     "metadata": {
      "needs_background": "light"
     },
     "output_type": "display_data"
    }
   ],
   "source": [
    "## q2: Set the seed to 104. \n",
    "## Take a sample of size 20 with replacement from the num_users column of amir_deals, and take the mean.\n",
    "\n",
    "np.random.seed(104)\n",
    "samp_20 = amir_deals['num_users'].sample(20, replace=True)\n",
    "print(np.mean(samp_20))\n",
    "\n",
    "## q3: Repeat this 100 times using a for loop and store as sample_means. \n",
    "## This will take 100 different samples and calculate the mean of each.\n",
    "\n",
    "sample_means = []\n",
    "for i in range(100):\n",
    "    samp_20 = amir_deals['num_users'].sample(20, replace=True)\n",
    "    sample_mean = np.mean(samp_20)\n",
    "    sample_means.append(sample_mean)\n",
    "\n",
    "#print(sample_means)\n",
    "\n",
    "## q4: Convert sample_means into a pd.Series, create a histogram of the sample_means, and show the plot.\n",
    "\n",
    "sample_means_series = pd.Series(sample_means)\n",
    "#print(sample_means_series)\n",
    "plt.hist(sample_means_series)\n",
    "plt.show()"
   ]
  },
  {
   "cell_type": "code",
   "execution_count": 33,
   "id": "18763c18",
   "metadata": {},
   "outputs": [
    {
     "name": "stdout",
     "output_type": "stream",
     "text": [
      "37.651685393258425\n",
      "38.080000000000005\n"
     ]
    }
   ],
   "source": [
    "print(np.mean(amir_deals['num_users']))\n",
    "print(np.mean(sample_means))"
   ]
  },
  {
   "cell_type": "code",
   "execution_count": null,
   "id": "fcd8b600",
   "metadata": {},
   "outputs": [],
   "source": []
  },
  {
   "cell_type": "markdown",
   "id": "7074d4f7",
   "metadata": {},
   "source": [
    "### The Poisson distribution\n",
    "\n",
    "Now we'll talk about another probability distribution called the Poisson distribution.\n",
    "\n",
    "### Poisson processes\n",
    "\n",
    "Before we talk about probability, let's define a Poisson process. A Poisson process is a process where events appear to happen at a certain rate, but completely at random. \n",
    "\n",
    "- For example, the number of animals adopted from an animal shelter each week is a Poisson process - we may know that on average there are 8 adoptions per week, but this number can differ randomly. \n",
    "\n",
    "\n",
    "- Other examples would be the number of people arriving at a restaurant each hour, or the number of earthquakes per year in California. \n",
    "\n",
    "\n",
    "- The time unit like, hours, weeks, or years, is irrelevant as long as it's consistent.\n",
    "\n",
    "### Poisson distribution\n",
    "\n",
    "The Poisson distribution describes the probability of some number of events happening over a fixed period of time. \n",
    "\n",
    "- We can use the Poisson distribution to calculate the probability of at least 5 animals getting adopted in a week, \n",
    "\n",
    "- The probability of 12 people arriving in a restaurant in an hour, or \n",
    "\n",
    "- The probability of fewer than 20 earthquakes in California in a year.\n",
    "\n",
    "### Lambda ($\\lambda$)\n",
    "\n",
    "The Poisson distribution is described by a value called `lambda`, which represents the average number of events per time period. In the animal shelter example, this would be the average number of adoptions per week, which is 8. This value is also the expected value of the distribution! The Poisson distribution with lambda equals 8 looks like this. \n",
    "\n",
    "<img src=\"poss.jpg\" style=\"max-width:600px\">\n",
    "\n",
    "Notice that it's a discrete distribution since we're counting events, and 7 and 8 are the most likely number of adoptions to happen in a week.\n",
    "\n",
    "### Lambda is the distribution's peak\n",
    "\n",
    "<img src=\"l.jpg\" style=\"max-width:600px\">\n",
    "\n",
    "Lambda changes the shape of the distribution, so a Poisson distribution with lambda equals 1, in blue, looks quite different than a Poisson distribution with lambda equals 8, in green, but no matter what, the distribution's peak is always at its lambda value."
   ]
  },
  {
   "cell_type": "markdown",
   "id": "e09361c3",
   "metadata": {},
   "source": [
    "### Probability of a single value\n",
    "\n",
    "Given that the average number of adoptions per week is 8, what's the probability of 5 adoptions in a week? \n",
    "\n",
    "Just like the other probability distributions, we can import poisson from scipy-dot-stats. We'll use the poisson-dot-pmf function, passing 5 as the first argument and 8 as the second argument to indicate the distribution's mean. \n",
    "\n",
    "<img src=\"poss-1.jpg\" style=\"max-width:800px\">\n",
    "\n",
    "This gives us about 9%.\n",
    "\n",
    "### Probability of less than or equal to\n",
    "\n",
    "To get the probability that 5 or fewer adoptions will happen in a week, use the poisson-dot-cdf function, passing in the same numbers. \n",
    "\n",
    "<img src=\"poss-2.jpg\" style=\"max-width:800px\">\n",
    "\n",
    "This gives us about 20%.\n",
    "\n",
    "### Probability of greater than\n",
    "\n",
    "Just like other probability functions you've learned about so far, take 1 minus the \"less than or equal to 5\" probability to get the probability of more than 5 adoptions. \n",
    "\n",
    "<img src=\"poss-3.jpg\" style=\"max-width:800px\">\n",
    "\n",
    "There's an 81% chance that more than 5 adoptions will occur. \n",
    "\n",
    "If the average number of adoptions rises to 10 per week, \n",
    "\n",
    "<img src=\"poss-4.jpg\" style=\"max-width:800px\">\n",
    "\n",
    "there will be a 93% chance that more than 5 adoptions will occur."
   ]
  },
  {
   "cell_type": "code",
   "execution_count": null,
   "id": "6120b958",
   "metadata": {},
   "outputs": [],
   "source": []
  },
  {
   "cell_type": "markdown",
   "id": "1a43b326",
   "metadata": {},
   "source": [
    "## Exercise 6: Tracking lead responses\n",
    "\n",
    "Your company uses sales software to keep track of new sales leads. It organizes them into a queue so that anyone can follow up on one when they have a bit of free time. Since the number of lead responses is a countable outcome over a period of time, this scenario corresponds to a Poisson distribution. On average, Amir responds to 4 leads each day. \n",
    "\n",
    "In this exercise, you'll calculate probabilities of Amir responding to different numbers of leads.\n",
    "\n",
    "- Import poisson from scipy.stats and calculate the probability that Amir responds to 5 leads in a day, given that he responds to an average of 4.\n",
    "\n",
    "\n",
    "- Amir's coworker responds to an average of 5.5 leads per day. What is the probability that she answers 5 leads in a day?\n",
    "\n",
    "\n",
    "- What's the probability that Amir responds to 2 or fewer leads in a day?\n",
    "\n",
    "\n",
    "- What's the probability that Amir responds to more than 10 leads in a day?"
   ]
  },
  {
   "cell_type": "code",
   "execution_count": 8,
   "id": "b486ffef",
   "metadata": {},
   "outputs": [
    {
     "name": "stdout",
     "output_type": "stream",
     "text": [
      "0.1562934518505317\n"
     ]
    }
   ],
   "source": [
    "## q1\n",
    "\n",
    "# Import poisson from scipy.stats\n",
    "from scipy.stats import poisson\n",
    "\n",
    "# Probability of 5 responses\n",
    "prob_5 = poisson.pmf(5,4)\n",
    "print(prob_5)"
   ]
  },
  {
   "cell_type": "code",
   "execution_count": 5,
   "id": "1b35448d",
   "metadata": {},
   "outputs": [
    {
     "name": "stdout",
     "output_type": "stream",
     "text": [
      "0.17140068409793663\n"
     ]
    }
   ],
   "source": [
    "# q2\n",
    "# Probability of 5 responses\n",
    "prob_coworker = poisson.pmf(5,5.5)\n",
    "print(prob_coworker)"
   ]
  },
  {
   "cell_type": "code",
   "execution_count": 6,
   "id": "05611e80",
   "metadata": {},
   "outputs": [
    {
     "name": "stdout",
     "output_type": "stream",
     "text": [
      "0.23810330555354436\n"
     ]
    }
   ],
   "source": [
    "# q3\n",
    "# Probability of 2 or fewer responses\n",
    "prob_2_or_less = poisson.cdf(2,4)\n",
    "print(prob_2_or_less)"
   ]
  },
  {
   "cell_type": "code",
   "execution_count": 7,
   "id": "989e54f0",
   "metadata": {},
   "outputs": [
    {
     "name": "stdout",
     "output_type": "stream",
     "text": [
      "0.0028397661205137315\n"
     ]
    }
   ],
   "source": [
    "# q4\n",
    "# Probability of > 10 responses\n",
    "prob_over_10 = 1 - poisson.cdf(10,4)\n",
    "print(prob_over_10)"
   ]
  },
  {
   "cell_type": "code",
   "execution_count": null,
   "id": "50dde5b4",
   "metadata": {},
   "outputs": [],
   "source": []
  },
  {
   "cell_type": "markdown",
   "id": "32cc81a9",
   "metadata": {},
   "source": [
    "### Sampling from a Poisson distribution\n",
    "\n",
    "Just like other distributions, we can take samples from Poisson distributions using poisson-dot-rvs. \n",
    "\n",
    "<img src=\"poss-5.jpg\" style=\"max-width:600px\">\n",
    "\n",
    "Here, we'll simulate 10 different weeks at the animal shelter. In one week, there are 14 adoptions, but only 6 in another.\n",
    "\n",
    "### The CLT still applies!\n",
    "\n",
    "Just like other distributions, the sampling distribution of sample means of a Poisson distribution looks normal with a large number of samples.\n",
    "\n",
    "<img src=\"poss-6.jpg\" style=\"max-width:600px\">"
   ]
  },
  {
   "cell_type": "markdown",
   "id": "312b07a5",
   "metadata": {},
   "source": [
    "### Exponential distribution\n",
    "\n",
    "The exponential distribution represents the probability of a certain time passing between Poisson events. We can use the exponential distribution to predict, for example, \n",
    "\n",
    "- the probability of more than 1 day between adoptions, \n",
    "\n",
    "- the probability of fewer than 10 minutes between restaurant arrivals, and \n",
    "\n",
    "- the probability of 6-8 months passing between earthquakes. \n",
    "\n",
    "Just like the Poisson distribution, the time unit doesn't matter as long as it's consistent. \n",
    "\n",
    "The exponential distribution uses the same lambda value, which represents the rate, that the Poisson distribution does. Note that lambda and rate mean the same value in this context. It's also continuous, unlike the Poisson distribution, since it represents time.\n",
    "\n",
    "<img src=\"ed.jpg\" style=\"max-width:500px\">\n",
    "\n",
    "For example, let's say that one customer service ticket is created every 2 minutes. We can rephrase this so it's in terms of a time interval of one minute, so half of a ticket is created each minute. We'll use 0.5 as the lambda value. The exponential distribution with a rate of one half looks like this.\n",
    "\n",
    "<img src=\"ed-1.jpg\" style=\"max-width:500px\">\n",
    "\n",
    "The rate affects the shape of the distribution and how steeply it declines.\n",
    "\n",
    "<img src=\"ed-2.jpg\" style=\"max-width:500px\">"
   ]
  },
  {
   "cell_type": "markdown",
   "id": "f2d4310b",
   "metadata": {},
   "source": [
    "### Expected value of exponential distribution\n",
    "\n",
    "Recall that lambda is the expected value of the Poisson distribution, which measures frequency in terms of rate or number of events. \n",
    "\n",
    "For example, let's say that one customer service ticket is created every 2 minutes. We can rephrase this so it's in terms of a `time interval of one minute`, so half of a ticket is created each minute. We'll use `0.5` as the lambda value.\n",
    "\n",
    "The exponential distribution measures frequency in terms of `time between events`. The expected value of the exponential distribution can be calculated by taking 1 divided by lambda. \n",
    "\n",
    "In our example, the expected time between requests is 1 over one half, which is 2, so there is an average of 2 minutes between requests.\n",
    "\n",
    "<img src=\"ed-3.jpg\" style=\"max-width:500px\">\n",
    "\n",
    "\n",
    "### How long until a new request is created?\n",
    "\n",
    "Similar to other continuous distributions, we can use expon-dot-cdf to calculate probabilities. \n",
    "\n",
    "<img src=\"ed-4.jpg\" style=\"max-width:800px\">\n",
    "\n",
    "The probability of waiting less than 1 minute for a new request is calculated using expon-cdf, passing in 1 followed by scale equals 0.5, which gives us about an 86% chance. \n",
    "\n",
    "The probability of waiting more than 3 minutes can be found using 1 minus expon-cdf of 3, scale equals point 5, giving a 0.2% chance. \n",
    "\n",
    "Finally, the probability of waiting between 1 and 3 minutes can be found by taking expon-cdf of 3 and subtracting expon-cdf of 1. There's a 13% chance you'll wait between 1 and 3 minutes."
   ]
  },
  {
   "cell_type": "code",
   "execution_count": null,
   "id": "776fe356",
   "metadata": {},
   "outputs": [],
   "source": []
  },
  {
   "cell_type": "markdown",
   "id": "b886359e",
   "metadata": {},
   "source": [
    "## Exercise 7: Modeling time between leads\n",
    "\n",
    "To further evaluate Amir's performance, you want to know how much time it takes him to respond to a lead after he opens it. On average, it takes 2.5 hours for him to respond. \n",
    "\n",
    "In this exercise, you'll calculate probabilities of different amounts of time passing between Amir receiving a lead and sending a response.\n",
    "\n",
    "- Import expon from scipy.stats. What's the probability it takes Amir less than an hour to respond to a lead?\n",
    "\n",
    "\n",
    "- What's the probability it takes Amir more than 4 hours to respond to a lead?\n",
    "\n",
    "\n",
    "- What's the probability it takes Amir 3-4 hours to respond to a lead?"
   ]
  },
  {
   "cell_type": "code",
   "execution_count": 9,
   "id": "7de54f28",
   "metadata": {},
   "outputs": [
    {
     "name": "stdout",
     "output_type": "stream",
     "text": [
      "0.3296799539643607\n"
     ]
    }
   ],
   "source": [
    "## q1\n",
    "\n",
    "# Import expon from scipy.stats\n",
    "from scipy.stats import expon\n",
    "\n",
    "# Print probability response takes < 1 hour\n",
    "print(expon.cdf(1, scale=2.5))"
   ]
  },
  {
   "cell_type": "code",
   "execution_count": 10,
   "id": "e505a500",
   "metadata": {},
   "outputs": [
    {
     "name": "stdout",
     "output_type": "stream",
     "text": [
      "0.20189651799465536\n"
     ]
    }
   ],
   "source": [
    "## q2\n",
    "\n",
    "# Print probability response takes > 4 hours\n",
    "print(1-expon.cdf(4, scale = 2.5))"
   ]
  },
  {
   "cell_type": "code",
   "execution_count": 11,
   "id": "3ea659f2",
   "metadata": {},
   "outputs": [
    {
     "name": "stdout",
     "output_type": "stream",
     "text": [
      "0.09929769391754684\n"
     ]
    }
   ],
   "source": [
    "## q3\n",
    "\n",
    "# Print probability response takes 3-4 hours\n",
    "print(expon.cdf(4, scale = 2.5) - expon.cdf(3, scale = 2.5))"
   ]
  },
  {
   "cell_type": "code",
   "execution_count": null,
   "id": "2ce4d3ed",
   "metadata": {},
   "outputs": [],
   "source": []
  },
  {
   "cell_type": "markdown",
   "id": "a2e02290",
   "metadata": {},
   "source": [
    "### (Student's) t-distribution\n",
    "\n",
    "The next distribution is the t-distribution, which is also sometimes called Student's t-distribution. Its shape is similar to the normal distribution, but not quite the same. \n",
    "\n",
    "<img src=\"t.jpg\" style=\"max-width:500px\">\n",
    "\n",
    "If we compare the normal distribution, in blue, with the t-distribution with one degree of freedom, in orange, the t-distribution's tails are thicker. This means that in a t-distribution, observations are more likely to fall further from the mean.\n",
    "\n",
    "### Degrees of freedom\n",
    "\n",
    "The t-distribution has a parameter called degrees of freedom, which affects the thickness of the distribution's tails. Lower degrees of freedom results in thicker tails and a higher standard deviation. As the number of degrees of freedom increases, the distribution looks more and more like the normal distribution.\n",
    "\n",
    "<img src=\"t-1.jpg\" style=\"max-width:600px\">\n",
    "\n",
    "\n",
    "### Log-normal distribution\n",
    "\n",
    "The last distribution we'll discuss is the log-normal distribution. Variables that follow a log-normal distribution have a logarithm that is normally distributed. This results in distributions that are skewed, unlike the normal distribution. \n",
    "\n",
    "<img src=\"ln.jpg\" style=\"max-width:800px\">\n",
    "\n",
    "There are lots of real-world examples that follow this distribution, such as the length of chess games, blood pressure in adults, and the number of hospitalizations in the 2003 SARS outbreak."
   ]
  },
  {
   "cell_type": "code",
   "execution_count": null,
   "id": "c018e1f3",
   "metadata": {},
   "outputs": [],
   "source": []
  }
 ],
 "metadata": {
  "kernelspec": {
   "display_name": "Python 3",
   "language": "python",
   "name": "python3"
  },
  "language_info": {
   "codemirror_mode": {
    "name": "ipython",
    "version": 3
   },
   "file_extension": ".py",
   "mimetype": "text/x-python",
   "name": "python",
   "nbconvert_exporter": "python",
   "pygments_lexer": "ipython3",
   "version": "3.8.8"
  }
 },
 "nbformat": 4,
 "nbformat_minor": 5
}

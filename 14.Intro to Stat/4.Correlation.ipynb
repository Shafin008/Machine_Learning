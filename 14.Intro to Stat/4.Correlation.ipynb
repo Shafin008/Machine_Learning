{
 "cells": [
  {
   "cell_type": "markdown",
   "id": "8f0f0b8a",
   "metadata": {},
   "source": [
    "### Correlation\n",
    "Welcome to the final chapter of the course, where we'll talk about correlation and experimental design.\n",
    "\n",
    "### Relationships between two variables\n",
    "\n",
    "Before we dive in, let's talk about relationships between numeric variables. We can visualize these kinds of relationships with scatter plots. \n",
    "\n",
    "<img src=\"corr.jpg\" style=\"max-width:600px\">\n",
    "\n",
    "In this scatterplot, we can see the relationship between the total amount of sleep mammals get and the amount of REM sleep they get. The variable on the x-axis is called the explanatory or independent variable, and the variable on the y-axis is called the response or dependent variable.\n",
    "\n",
    "### Correlation coefficient\n",
    "\n",
    "We can also examine relationships between two numeric variables using a number called the `correlation coefficient`. This is a number between `-1 and 1`, where the `magnitude` corresponds to the `strength of the relationship` between the variables, and the `sign`, positive or negative, corresponds to the `direction of the relationship`.\n",
    "\n",
    "### Magnitude = strength of relationship\n",
    "\n",
    "Here's a scatterplot of 2 variables, x and y, that have a correlation coefficient of 0.99. Since the data points are closely clustered around a line, we can describe this as a near-perfect or very strong relationship. If we know what x is, we'll have a pretty good idea of what the value of y could be.\n",
    "\n",
    "<img src=\"m.jpg\" style=\"max-width:600px\">\n",
    "\n",
    "Here, x and y have a correlation coefficient of 0.75, and the data points are a bit more spread out.\n",
    "\n",
    "<img src=\"m-1.jpg\" style=\"max-width:600px\">\n",
    "\n",
    "In this plot, x and y have a correlation of 0.56 and are therefore moderately correlated. A correlation coefficient around 0.21 would be considered a weak relationship.\n",
    "\n",
    "<img src=\"m-2.jpg\" style=\"max-width:600px\">\n",
    "\n",
    "When the correlation coefficient is close to 0, x and y have no relationship and the scatterplot looks completely random. This means that knowing the value of x doesn't tell us anything about the value of y."
   ]
  },
  {
   "cell_type": "markdown",
   "id": "c818f520",
   "metadata": {},
   "source": [
    "### Sign = direction\n",
    "\n",
    "The sign of the correlation coefficient corresponds to the direction of the relationship. A positive correlation coefficient indicates that as x increases, y also increases. A negative correlation coefficient indicates that as x increases, y decreases.\n",
    "\n",
    "<img src=\"dir.jpg\" style=\"max-width:600px\">"
   ]
  },
  {
   "cell_type": "markdown",
   "id": "2ebdd754",
   "metadata": {},
   "source": [
    "### Visualizing relationships\n",
    "\n",
    "To visualize relationships between two variables, we can use a scatterplot. We'll use seaborn, which is a plotting package built on top of matplotlib. We import seaborn as sns, which is the alias commonly used for seaborn. We create a scatterplot using sns-dot-scatterplot, passing it the name of the variable for the x-axis, the name of the variable for the y-axis, as well as the msleep DataFrame to the data argument. Finally, we call plt-dot-show.\n",
    "\n",
    "<img src=\"v.jpg\" style=\"max-width:600px\">\n",
    "\n",
    "### Adding a trendline\n",
    "\n",
    "We can add a linear trendline to the scatterplot using seaborn's lmplot() function. It takes the same arguments as sns-dot-scatterplot, but we'll set ci to None so that there aren't any confidence interval margins around the line. \n",
    "\n",
    "<img src=\"v-1.jpg\" style=\"max-width:600px\">\n",
    "\n",
    "Trendlines like this can be helpful to more easily see a relationship between two variables."
   ]
  },
  {
   "cell_type": "markdown",
   "id": "3284812f",
   "metadata": {},
   "source": [
    "### Computing correlation\n",
    "\n",
    "To calculate the correlation coefficient between two Series, we can use the dot-corr method. If we want the correlation between the sleep_total and sleep_rem columns of msleep, we can take the sleep_total column and call dot-corr on it, passing in the other Series we're interested in. \n",
    "\n",
    "<img src=\"corr-1.jpg\" style=\"max-width:600px\">\n",
    "\n",
    "Note that it doesn't matter which Series the method is invoked on and which is passed in since the correlation between x and y is the same thing as the correlation between y and x.\n",
    "\n",
    "### Many ways to calculate correlation\n",
    "\n",
    "There's more than one way to calculate correlation, but the method we've been using in this chapter is called the Pearson product-moment correlation, which is also written as r. This is the most commonly used measure of correlation. Mathematically, it's calculated using this formula where x and y bar are the means of x and y, and sigma x and sigma y are the standard deviations of x and y. The formula itself isn't important to memorize, but know that there are variations of this formula that measure correlation a bit differently, such as Kendall's tau and Spearman's rho.\n",
    "\n",
    "<img src=\"mc.jpg\" style=\"max-width:600px\">"
   ]
  },
  {
   "cell_type": "code",
   "execution_count": null,
   "id": "2df5da68",
   "metadata": {},
   "outputs": [],
   "source": []
  },
  {
   "cell_type": "code",
   "execution_count": 1,
   "id": "3507063f",
   "metadata": {},
   "outputs": [],
   "source": [
    "import pandas as pd\n",
    "import numpy as np\n",
    "import matplotlib.pyplot as plt\n",
    "import seaborn as sns"
   ]
  },
  {
   "cell_type": "code",
   "execution_count": 3,
   "id": "baaec998",
   "metadata": {},
   "outputs": [
    {
     "data": {
      "text/html": [
       "<div>\n",
       "<style scoped>\n",
       "    .dataframe tbody tr th:only-of-type {\n",
       "        vertical-align: middle;\n",
       "    }\n",
       "\n",
       "    .dataframe tbody tr th {\n",
       "        vertical-align: top;\n",
       "    }\n",
       "\n",
       "    .dataframe thead th {\n",
       "        text-align: right;\n",
       "    }\n",
       "</style>\n",
       "<table border=\"1\" class=\"dataframe\">\n",
       "  <thead>\n",
       "    <tr style=\"text-align: right;\">\n",
       "      <th></th>\n",
       "      <th>country</th>\n",
       "      <th>social_support</th>\n",
       "      <th>freedom</th>\n",
       "      <th>corruption</th>\n",
       "      <th>generosity</th>\n",
       "      <th>gdp_per_cap</th>\n",
       "      <th>life_exp</th>\n",
       "      <th>happiness_score</th>\n",
       "    </tr>\n",
       "  </thead>\n",
       "  <tbody>\n",
       "    <tr>\n",
       "      <th>0</th>\n",
       "      <td>Finland</td>\n",
       "      <td>2.0</td>\n",
       "      <td>5.0</td>\n",
       "      <td>4.0</td>\n",
       "      <td>47.0</td>\n",
       "      <td>42400</td>\n",
       "      <td>81.8</td>\n",
       "      <td>155</td>\n",
       "    </tr>\n",
       "    <tr>\n",
       "      <th>1</th>\n",
       "      <td>Denmark</td>\n",
       "      <td>4.0</td>\n",
       "      <td>6.0</td>\n",
       "      <td>3.0</td>\n",
       "      <td>22.0</td>\n",
       "      <td>48300</td>\n",
       "      <td>81.0</td>\n",
       "      <td>154</td>\n",
       "    </tr>\n",
       "    <tr>\n",
       "      <th>2</th>\n",
       "      <td>Norway</td>\n",
       "      <td>3.0</td>\n",
       "      <td>3.0</td>\n",
       "      <td>8.0</td>\n",
       "      <td>11.0</td>\n",
       "      <td>66300</td>\n",
       "      <td>82.6</td>\n",
       "      <td>153</td>\n",
       "    </tr>\n",
       "    <tr>\n",
       "      <th>3</th>\n",
       "      <td>Iceland</td>\n",
       "      <td>1.0</td>\n",
       "      <td>7.0</td>\n",
       "      <td>45.0</td>\n",
       "      <td>3.0</td>\n",
       "      <td>47900</td>\n",
       "      <td>83.0</td>\n",
       "      <td>152</td>\n",
       "    </tr>\n",
       "    <tr>\n",
       "      <th>4</th>\n",
       "      <td>Netherlands</td>\n",
       "      <td>15.0</td>\n",
       "      <td>19.0</td>\n",
       "      <td>12.0</td>\n",
       "      <td>7.0</td>\n",
       "      <td>50500</td>\n",
       "      <td>81.8</td>\n",
       "      <td>151</td>\n",
       "    </tr>\n",
       "  </tbody>\n",
       "</table>\n",
       "</div>"
      ],
      "text/plain": [
       "       country  social_support  freedom  corruption  generosity  gdp_per_cap  \\\n",
       "0      Finland             2.0      5.0         4.0        47.0        42400   \n",
       "1      Denmark             4.0      6.0         3.0        22.0        48300   \n",
       "2       Norway             3.0      3.0         8.0        11.0        66300   \n",
       "3      Iceland             1.0      7.0        45.0         3.0        47900   \n",
       "4  Netherlands            15.0     19.0        12.0         7.0        50500   \n",
       "\n",
       "   life_exp  happiness_score  \n",
       "0      81.8              155  \n",
       "1      81.0              154  \n",
       "2      82.6              153  \n",
       "3      83.0              152  \n",
       "4      81.8              151  "
      ]
     },
     "execution_count": 3,
     "metadata": {},
     "output_type": "execute_result"
    }
   ],
   "source": [
    "world_happiness = pd.read_csv('world_happiness.csv')\n",
    "world_happiness = world_happiness.drop('Unnamed: 0', axis = 1)\n",
    "world_happiness.head()"
   ]
  },
  {
   "cell_type": "markdown",
   "id": "e766d40a",
   "metadata": {},
   "source": [
    "## Exercise 1: Relationships between variables\n",
    "\n",
    "In this chapter, you'll be working with a dataset world_happiness containing results from the 2019 World Happiness Report. \n",
    "\n",
    "The report scores various countries based on how happy people in that country are. It also ranks each country on various societal aspects such as social support, freedom, corruption, and others. The dataset also includes the GDP per capita and life expectancy for each country.\n",
    "\n",
    "In this exercise, you'll examine the relationship between a country's `life expectancy (life_exp)` and `happiness score (happiness_score)` both `visually` and `quantitatively`. \n",
    "\n",
    "seaborn as sns, matplotlib.pyplot as plt, and pandas as pd are loaded and world_happiness is available.\n",
    "\n",
    "- Create a scatterplot of happiness_score vs. life_exp (without a trendline) using seaborn. Show the plot.\n",
    "\n",
    "- Create a scatterplot of happiness_score vs. life_exp with a linear trendline using seaborn, setting ci to None. Show the plot.\n",
    "\n",
    "- Calculate the correlation between life_exp and happiness_score. Save this as cor."
   ]
  },
  {
   "cell_type": "code",
   "execution_count": 4,
   "id": "a95e21e3",
   "metadata": {},
   "outputs": [
    {
     "data": {
      "text/html": [
       "<div>\n",
       "<style scoped>\n",
       "    .dataframe tbody tr th:only-of-type {\n",
       "        vertical-align: middle;\n",
       "    }\n",
       "\n",
       "    .dataframe tbody tr th {\n",
       "        vertical-align: top;\n",
       "    }\n",
       "\n",
       "    .dataframe thead th {\n",
       "        text-align: right;\n",
       "    }\n",
       "</style>\n",
       "<table border=\"1\" class=\"dataframe\">\n",
       "  <thead>\n",
       "    <tr style=\"text-align: right;\">\n",
       "      <th></th>\n",
       "      <th>country</th>\n",
       "      <th>social_support</th>\n",
       "      <th>freedom</th>\n",
       "      <th>corruption</th>\n",
       "      <th>generosity</th>\n",
       "      <th>gdp_per_cap</th>\n",
       "      <th>life_exp</th>\n",
       "      <th>happiness_score</th>\n",
       "    </tr>\n",
       "  </thead>\n",
       "  <tbody>\n",
       "    <tr>\n",
       "      <th>0</th>\n",
       "      <td>Finland</td>\n",
       "      <td>2.0</td>\n",
       "      <td>5.0</td>\n",
       "      <td>4.0</td>\n",
       "      <td>47.0</td>\n",
       "      <td>42400</td>\n",
       "      <td>81.8</td>\n",
       "      <td>155</td>\n",
       "    </tr>\n",
       "    <tr>\n",
       "      <th>1</th>\n",
       "      <td>Denmark</td>\n",
       "      <td>4.0</td>\n",
       "      <td>6.0</td>\n",
       "      <td>3.0</td>\n",
       "      <td>22.0</td>\n",
       "      <td>48300</td>\n",
       "      <td>81.0</td>\n",
       "      <td>154</td>\n",
       "    </tr>\n",
       "    <tr>\n",
       "      <th>2</th>\n",
       "      <td>Norway</td>\n",
       "      <td>3.0</td>\n",
       "      <td>3.0</td>\n",
       "      <td>8.0</td>\n",
       "      <td>11.0</td>\n",
       "      <td>66300</td>\n",
       "      <td>82.6</td>\n",
       "      <td>153</td>\n",
       "    </tr>\n",
       "    <tr>\n",
       "      <th>3</th>\n",
       "      <td>Iceland</td>\n",
       "      <td>1.0</td>\n",
       "      <td>7.0</td>\n",
       "      <td>45.0</td>\n",
       "      <td>3.0</td>\n",
       "      <td>47900</td>\n",
       "      <td>83.0</td>\n",
       "      <td>152</td>\n",
       "    </tr>\n",
       "    <tr>\n",
       "      <th>4</th>\n",
       "      <td>Netherlands</td>\n",
       "      <td>15.0</td>\n",
       "      <td>19.0</td>\n",
       "      <td>12.0</td>\n",
       "      <td>7.0</td>\n",
       "      <td>50500</td>\n",
       "      <td>81.8</td>\n",
       "      <td>151</td>\n",
       "    </tr>\n",
       "  </tbody>\n",
       "</table>\n",
       "</div>"
      ],
      "text/plain": [
       "       country  social_support  freedom  corruption  generosity  gdp_per_cap  \\\n",
       "0      Finland             2.0      5.0         4.0        47.0        42400   \n",
       "1      Denmark             4.0      6.0         3.0        22.0        48300   \n",
       "2       Norway             3.0      3.0         8.0        11.0        66300   \n",
       "3      Iceland             1.0      7.0        45.0         3.0        47900   \n",
       "4  Netherlands            15.0     19.0        12.0         7.0        50500   \n",
       "\n",
       "   life_exp  happiness_score  \n",
       "0      81.8              155  \n",
       "1      81.0              154  \n",
       "2      82.6              153  \n",
       "3      83.0              152  \n",
       "4      81.8              151  "
      ]
     },
     "execution_count": 4,
     "metadata": {},
     "output_type": "execute_result"
    }
   ],
   "source": [
    "world_happiness.head()"
   ]
  },
  {
   "cell_type": "code",
   "execution_count": 8,
   "id": "eb9ceaf3",
   "metadata": {},
   "outputs": [
    {
     "data": {
      "image/png": "[encoded data removed]",
      "text/plain": [
       "<Figure size 600x300 with 1 Axes>"
      ]
     },
     "metadata": {
      "needs_background": "light"
     },
     "output_type": "display_data"
    }
   ],
   "source": [
    "## q1: Create a scatterplot of life_exp vs. happiness_score  (without a trendline) using seaborn. Show the plot.\n",
    "plt.figure(figsize=(6,3), dpi=100)\n",
    "sns.scatterplot(x = 'life_exp', y = 'happiness_score', data = world_happiness)\n",
    "plt.show()"
   ]
  },
  {
   "cell_type": "code",
   "execution_count": 14,
   "id": "a9752e4b",
   "metadata": {},
   "outputs": [
    {
     "data": {
      "text/plain": [
       "<Figure size 1500x500 with 0 Axes>"
      ]
     },
     "metadata": {},
     "output_type": "display_data"
    },
    {
     "data": {
      "image/png": "[encoded data removed]",
      "text/plain": [
       "<Figure size 360x360 with 1 Axes>"
      ]
     },
     "metadata": {
      "needs_background": "light"
     },
     "output_type": "display_data"
    }
   ],
   "source": [
    "## q2: Create a scatterplot of happiness_score vs. life_exp with a linear trendline using seaborn, setting ci to None. \n",
    "## Show the plot.\n",
    "\n",
    "plt.figure(figsize=(15,5), dpi=100)\n",
    "sns.lmplot(x = 'life_exp', y = 'happiness_score', data = world_happiness, ci = None)\n",
    "plt.show()"
   ]
  },
  {
   "cell_type": "code",
   "execution_count": 15,
   "id": "f7eb2cde",
   "metadata": {},
   "outputs": [
    {
     "name": "stdout",
     "output_type": "stream",
     "text": [
      "0.7802249053272061\n"
     ]
    }
   ],
   "source": [
    "## q3: Calculate the correlation between life_exp and happiness_score. Save this as cor.\n",
    "cor = world_happiness['life_exp'].corr(world_happiness['happiness_score'])\n",
    "print(cor)"
   ]
  },
  {
   "cell_type": "code",
   "execution_count": 16,
   "id": "6d57561a",
   "metadata": {},
   "outputs": [
    {
     "name": "stdout",
     "output_type": "stream",
     "text": [
      "0.7802249053272061\n"
     ]
    }
   ],
   "source": [
    "cor = world_happiness['happiness_score'].corr(world_happiness['life_exp'])\n",
    "print(cor)"
   ]
  },
  {
   "cell_type": "code",
   "execution_count": null,
   "id": "2febb985",
   "metadata": {},
   "outputs": [],
   "source": []
  },
  {
   "cell_type": "markdown",
   "id": "6a5007a8",
   "metadata": {},
   "source": [
    "### Correlation caveats\n",
    "\n",
    "While correlation is a useful way to quantify relationships, there are some caveats.\n",
    "\n",
    "### Non-linear relationships\n",
    "\n",
    "Consider this data. There is clearly a relationship between x and y, but when we calculate the correlation, we get 0.18.\n",
    "\n",
    "<img src=\"cc.jpg\" style=\"max-width:600px\">\n",
    "\n",
    "This is because the relationship between the two variables is a quadratic relationship, not a linear relationship. The correlation coefficient measures the strength of linear relationships, and linear relationships only.\n",
    "\n",
    "Just like any summary statistic, correlation shouldn't be used blindly, and you should always visualize your data when possible."
   ]
  },
  {
   "cell_type": "markdown",
   "id": "30ed4a8f",
   "metadata": {},
   "source": [
    "### Mammal sleep data\n",
    "Let's return to the mammal sleep data.\n",
    "\n",
    "<img src=\"ms.jpg\" style=\"max-width:800px\">\n",
    "\n",
    "Here's a scatterplot of each mammal's body weight versus the time they spend awake each day. The relationship between these variables is definitely not a linear one. The correlation between body weight and awake time is only about 0.3, which is a weak linear relationship.\n",
    "\n",
    "<img src=\"ms-1.jpg\" style=\"max-width:600px\">\n",
    "\n",
    "If we take a closer look at the distribution for bodywt, it's highly skewed. There are lots of lower weights and a few weights that are much higher than the rest.\n",
    "\n",
    "### Log transformation\n",
    "\n",
    "When data is highly skewed like this, we can apply a log transformation. We'll create a new column called log_bodywt which holds the log of each body weight. We can do this using np-dot-log. \n",
    "\n",
    "<img src=\"ms-2.jpg\" style=\"max-width:800px\">\n",
    "\n",
    "If we plot the log of bodyweight versus awake time, the relationship looks much more linear than the one between regular bodyweight and awake time. The correlation between the log of bodyweight and awake time is about 0.57, which is much higher than the 0.3 we had before.\n",
    "\n",
    "\n",
    "### Other transformations\n",
    "\n",
    "In addition to the log transformation, there are lots of other transformations that can be used to make a relationship more linear, like taking the square root or reciprocal of a variable. The choice of transformation will depend on the data and how skewed it is. These can be applied in different combinations to x and y, for example, you could apply a log transformation to both x and y, or a square root transformation to x and a reciprocal transformation to y.\n",
    "\n",
    "<img src=\"ms-3.jpg\" style=\"max-width:800px\">\n",
    "\n",
    "### Why use a transformation?\n",
    "\n",
    "So why use a transformation? Certain statistical methods rely on variables having a linear relationship, like calculating a correlation coefficient. Linear regression is another statistical technique that requires variables to be related in a linear manner."
   ]
  },
  {
   "cell_type": "markdown",
   "id": "1bddbd03",
   "metadata": {},
   "source": [
    "### Correlation does not imply causation\n",
    "\n",
    "Let's talk about one more important caveat of correlation that you may have heard about before: `correlation does not imply causation`. This means that if x and y are correlated, x doesn't necessarily cause y. \n",
    "\n",
    "<img src=\"cca.jpg\" style=\"max-width:800px\">\n",
    "\n",
    "For example, here's a scatterplot of the per capita margarine consumption in the US each year and the divorce rate in the state of Maine. The correlation between these two variables is 0.99, which is nearly perfect. However, this doesn't mean that consuming more margarine will cause more divorces. \n",
    "\n",
    "This kind of correlation is often called a `spurious correlation`.\n",
    "\n",
    "\n",
    "### Confounding\n",
    "\n",
    "A phenomenon called confounding can lead to spurious correlations. Let's say we want to know if drinking coffee causes lung cancer. Looking at the data, we find that coffee drinking and lung cancer are correlated, which may lead us to think that drinking more coffee will give you lung cancer.\n",
    "\n",
    "<img src=\"conf.jpg\" style=\"max-width:800px\">\n",
    "\n",
    "However, there is a third, hidden variable at play, which is smoking. Smoking is known to be associated with coffee consumption. It is also known that smoking causes lung cancer.\n",
    "\n",
    "<img src=\"conf-1.jpg\" style=\"max-width:800px\">\n",
    "\n",
    "In reality, it turns out that coffee does not cause lung cancer and is only associated with it, but it appeared causal due to the third variable, smoking. \n",
    "\n",
    "<img src=\"conf-3.jpg\" style=\"max-width:800px\">\n",
    "\n",
    "This third variable is called a `confounder, or lurking` variable. This means that the relationship of interest between coffee and lung cancer is a spurious correlation. \n",
    "\n",
    "\n",
    "Another example of this is the relationship between holidays and retail sales. While it might be that people buy more around holidays as a way of celebrating, it's hard to tell how much of the increased sales is due to holidays, and how much is due to the special deals and promotions that often run around holidays. Here, special deals confound the relationship between holidays and sales.\n",
    "\n",
    "<img src=\"conf-2.jpg\" style=\"max-width:800px\">"
   ]
  },
  {
   "cell_type": "code",
   "execution_count": null,
   "id": "6fb5cf1b",
   "metadata": {},
   "outputs": [],
   "source": []
  },
  {
   "cell_type": "markdown",
   "id": "f41bd4b5",
   "metadata": {},
   "source": [
    "## Exercise 2: What can't correlation measure?\n",
    "\n",
    "While the correlation coefficient is a convenient way to quantify the strength of a relationship between two variables, it's far from perfect. \n",
    "\n",
    "In this exercise, you'll explore one of the caveats of the correlation coefficient by examining the relationship between a country's GDP per capita (gdp_per_cap) and happiness score.\n",
    "\n",
    "- Create a seaborn scatterplot (without a trendline) showing the relationship between gdp_per_cap (on the x-axis) and life_exp (on the y-axis). Show the plot.\n",
    "\n",
    "- Calculate the correlation between gdp_per_cap and life_exp and store as cor."
   ]
  },
  {
   "cell_type": "code",
   "execution_count": 26,
   "id": "ea8b5fc8",
   "metadata": {},
   "outputs": [
    {
     "data": {
      "image/png": "[encoded data removed]",
      "text/plain": [
       "<Figure size 800x400 with 1 Axes>"
      ]
     },
     "metadata": {
      "needs_background": "light"
     },
     "output_type": "display_data"
    },
    {
     "name": "stdout",
     "output_type": "stream",
     "text": [
      "0.7019547642148014\n"
     ]
    }
   ],
   "source": [
    "# Scatterplot of gdp_per_cap and life_exp\n",
    "plt.figure(figsize=(8,4), dpi=100)\n",
    "sns.scatterplot(x='gdp_per_cap', y='life_exp', data=world_happiness)\n",
    "\n",
    "# Show plot\n",
    "plt.show()\n",
    "  \n",
    "# Correlation between gdp_per_cap and life_exp\n",
    "cor = world_happiness['gdp_per_cap'].corr(world_happiness['life_exp'])\n",
    "\n",
    "print(cor)"
   ]
  },
  {
   "cell_type": "code",
   "execution_count": null,
   "id": "f23d905a",
   "metadata": {},
   "outputs": [],
   "source": []
  },
  {
   "cell_type": "markdown",
   "id": "388270a1",
   "metadata": {},
   "source": [
    "## Exercise 3: Transforming variables\n",
    "\n",
    "When variables have skewed distributions, they often require a transformation in order to form a linear relationship with another variable so that correlation can be computed. \n",
    "\n",
    "In this exercise, you'll perform a transformation yourself.\n",
    "\n",
    "- Create a scatterplot of happiness_score versus gdp_per_cap and calculate the correlation between them.\n",
    "\n",
    "\n",
    "- Add a new column to world_happiness called log_gdp_per_cap that contains the log of gdp_per_cap.\n",
    "\n",
    "\n",
    "- Create a seaborn scatterplot of log_gdp_per_cap and happiness_score and calculate the correlation between them."
   ]
  },
  {
   "cell_type": "code",
   "execution_count": 27,
   "id": "13e5b882",
   "metadata": {},
   "outputs": [
    {
     "data": {
      "image/png": "[encoded data removed]",
      "text/plain": [
       "<Figure size 800x400 with 1 Axes>"
      ]
     },
     "metadata": {
      "needs_background": "light"
     },
     "output_type": "display_data"
    },
    {
     "name": "stdout",
     "output_type": "stream",
     "text": [
      "0.7279733012222975\n"
     ]
    }
   ],
   "source": [
    "## q1\n",
    "# Scatterplot of happiness_score vs. gdp_per_cap\n",
    "plt.figure(figsize=(8,4), dpi=100)\n",
    "sns.scatterplot(x='gdp_per_cap',y='happiness_score',data=world_happiness)\n",
    "plt.show()\n",
    "\n",
    "# Calculate correlation\n",
    "cor = world_happiness['gdp_per_cap'].corr(world_happiness['happiness_score'])\n",
    "print(cor)"
   ]
  },
  {
   "cell_type": "code",
   "execution_count": 28,
   "id": "8dc6328b",
   "metadata": {},
   "outputs": [
    {
     "data": {
      "image/png": "[encoded data removed]",
      "text/plain": [
       "<Figure size 800x400 with 1 Axes>"
      ]
     },
     "metadata": {
      "needs_background": "light"
     },
     "output_type": "display_data"
    },
    {
     "name": "stdout",
     "output_type": "stream",
     "text": [
      "0.8043146004918288\n"
     ]
    }
   ],
   "source": [
    "## q2\n",
    "# Create log_gdp_per_cap column\n",
    "world_happiness['log_gdp_per_cap'] = np.log(world_happiness['gdp_per_cap'])\n",
    "\n",
    "# Scatterplot of log_gdp_per_cap and happiness_score\n",
    "plt.figure(figsize=(8,4), dpi=100)\n",
    "sns.scatterplot(x='log_gdp_per_cap',y='happiness_score',data=world_happiness)\n",
    "plt.show()\n",
    "\n",
    "# Calculate correlation\n",
    "cor = world_happiness['log_gdp_per_cap'].corr(world_happiness['happiness_score'])\n",
    "print(cor)"
   ]
  },
  {
   "cell_type": "markdown",
   "id": "94317f58",
   "metadata": {},
   "source": [
    "The relationship between `GDP per capita` and `happiness` became `more linear` by applying a `log transformation`. Log transformations are great to use on variables with a `skewed distribution`, such as `GDP`."
   ]
  },
  {
   "cell_type": "code",
   "execution_count": null,
   "id": "d56aae47",
   "metadata": {},
   "outputs": [],
   "source": []
  },
  {
   "cell_type": "code",
   "execution_count": 29,
   "id": "10100519",
   "metadata": {},
   "outputs": [
    {
     "data": {
      "text/html": [
       "<div>\n",
       "<style scoped>\n",
       "    .dataframe tbody tr th:only-of-type {\n",
       "        vertical-align: middle;\n",
       "    }\n",
       "\n",
       "    .dataframe tbody tr th {\n",
       "        vertical-align: top;\n",
       "    }\n",
       "\n",
       "    .dataframe thead th {\n",
       "        text-align: right;\n",
       "    }\n",
       "</style>\n",
       "<table border=\"1\" class=\"dataframe\">\n",
       "  <thead>\n",
       "    <tr style=\"text-align: right;\">\n",
       "      <th></th>\n",
       "      <th>country</th>\n",
       "      <th>social_support</th>\n",
       "      <th>freedom</th>\n",
       "      <th>corruption</th>\n",
       "      <th>generosity</th>\n",
       "      <th>gdp_per_cap</th>\n",
       "      <th>life_exp</th>\n",
       "      <th>happiness_score</th>\n",
       "      <th>grams_sugar_per_day</th>\n",
       "    </tr>\n",
       "  </thead>\n",
       "  <tbody>\n",
       "    <tr>\n",
       "      <th>0</th>\n",
       "      <td>Finland</td>\n",
       "      <td>2</td>\n",
       "      <td>5</td>\n",
       "      <td>4.0</td>\n",
       "      <td>47</td>\n",
       "      <td>42400</td>\n",
       "      <td>81.8</td>\n",
       "      <td>155</td>\n",
       "      <td>86.8</td>\n",
       "    </tr>\n",
       "    <tr>\n",
       "      <th>1</th>\n",
       "      <td>Denmark</td>\n",
       "      <td>4</td>\n",
       "      <td>6</td>\n",
       "      <td>3.0</td>\n",
       "      <td>22</td>\n",
       "      <td>48300</td>\n",
       "      <td>81.0</td>\n",
       "      <td>154</td>\n",
       "      <td>152.0</td>\n",
       "    </tr>\n",
       "    <tr>\n",
       "      <th>2</th>\n",
       "      <td>Norway</td>\n",
       "      <td>3</td>\n",
       "      <td>3</td>\n",
       "      <td>8.0</td>\n",
       "      <td>11</td>\n",
       "      <td>66300</td>\n",
       "      <td>82.6</td>\n",
       "      <td>153</td>\n",
       "      <td>120.0</td>\n",
       "    </tr>\n",
       "    <tr>\n",
       "      <th>3</th>\n",
       "      <td>Iceland</td>\n",
       "      <td>1</td>\n",
       "      <td>7</td>\n",
       "      <td>45.0</td>\n",
       "      <td>3</td>\n",
       "      <td>47900</td>\n",
       "      <td>83.0</td>\n",
       "      <td>152</td>\n",
       "      <td>132.0</td>\n",
       "    </tr>\n",
       "    <tr>\n",
       "      <th>4</th>\n",
       "      <td>Netherlands</td>\n",
       "      <td>15</td>\n",
       "      <td>19</td>\n",
       "      <td>12.0</td>\n",
       "      <td>7</td>\n",
       "      <td>50500</td>\n",
       "      <td>81.8</td>\n",
       "      <td>151</td>\n",
       "      <td>122.0</td>\n",
       "    </tr>\n",
       "  </tbody>\n",
       "</table>\n",
       "</div>"
      ],
      "text/plain": [
       "       country  social_support  freedom  corruption  generosity  gdp_per_cap  \\\n",
       "0      Finland               2        5         4.0          47        42400   \n",
       "1      Denmark               4        6         3.0          22        48300   \n",
       "2       Norway               3        3         8.0          11        66300   \n",
       "3      Iceland               1        7        45.0           3        47900   \n",
       "4  Netherlands              15       19        12.0           7        50500   \n",
       "\n",
       "   life_exp  happiness_score  grams_sugar_per_day  \n",
       "0      81.8              155                 86.8  \n",
       "1      81.0              154                152.0  \n",
       "2      82.6              153                120.0  \n",
       "3      83.0              152                132.0  \n",
       "4      81.8              151                122.0  "
      ]
     },
     "execution_count": 29,
     "metadata": {},
     "output_type": "execute_result"
    }
   ],
   "source": [
    "world_happiness_new = pd.read_csv('world_happiness_new.csv')\n",
    "world_happiness_new.head()"
   ]
  },
  {
   "cell_type": "markdown",
   "id": "5972747e",
   "metadata": {},
   "source": [
    "## Exercise 4: Does sugar improve happiness?\n",
    "\n",
    "A new column has been added to world_happiness called `grams_sugar_per_day`, which contains the average amount of sugar eaten per person per day in each country. \n",
    "\n",
    "In this exercise, you'll examine the effect of a country's average sugar consumption on its happiness score.\n",
    "\n",
    "- Create a seaborn scatterplot showing the relationship between grams_sugar_per_day (on the x-axis) and happiness_score (on the y-axis).\n",
    "\n",
    "\n",
    "- Calculate the correlation between grams_sugar_per_day and happiness_score."
   ]
  },
  {
   "cell_type": "code",
   "execution_count": 31,
   "id": "13b4e449",
   "metadata": {},
   "outputs": [
    {
     "data": {
      "image/png": "[encoded data removed]",
      "text/plain": [
       "<Figure size 800x400 with 1 Axes>"
      ]
     },
     "metadata": {
      "needs_background": "light"
     },
     "output_type": "display_data"
    },
    {
     "name": "stdout",
     "output_type": "stream",
     "text": [
      "0.6939100021829635\n"
     ]
    }
   ],
   "source": [
    "# Scatterplot of grams_sugar_per_day and happiness_score\n",
    "plt.figure(figsize=(8,4), dpi=100)\n",
    "sns.scatterplot(x = 'grams_sugar_per_day', y='happiness_score', data = world_happiness_new)\n",
    "plt.show()\n",
    "\n",
    "# Correlation between grams_sugar_per_day and happiness_score\n",
    "cor = world_happiness_new['grams_sugar_per_day'].corr(world_happiness_new['happiness_score'])\n",
    "print(cor)"
   ]
  },
  {
   "cell_type": "markdown",
   "id": "eaf0f2c2",
   "metadata": {},
   "source": [
    "Based on this data we can say, Increased sugar consumption is `associated` with a higher happiness score. But we `can not` say that, Increased sugar consumption `leads` to a higher happiness score.\n",
    "\n",
    "If correlation always implied that one thing causes another, people may do some nonsensical things, like eat more sugar to be happier."
   ]
  },
  {
   "cell_type": "code",
   "execution_count": null,
   "id": "cf05d280",
   "metadata": {},
   "outputs": [],
   "source": []
  },
  {
   "cell_type": "code",
   "execution_count": null,
   "id": "f7d970a4",
   "metadata": {},
   "outputs": [],
   "source": []
  }
 ],
 "metadata": {
  "kernelspec": {
   "display_name": "Python 3",
   "language": "python",
   "name": "python3"
  },
  "language_info": {
   "codemirror_mode": {
    "name": "ipython",
    "version": 3
   },
   "file_extension": ".py",
   "mimetype": "text/x-python",
   "name": "python",
   "nbconvert_exporter": "python",
   "pygments_lexer": "ipython3",
   "version": "3.8.8"
  }
 },
 "nbformat": 4,
 "nbformat_minor": 5
}

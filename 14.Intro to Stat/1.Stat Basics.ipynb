{
 "cells": [
  {
   "cell_type": "markdown",
   "id": "bf116a56",
   "metadata": {},
   "source": [
    "###  What is statistics?\n",
    "\n",
    "So what is statistics anyway? \n",
    "\n",
    "- We can talk about the `field of statistics`, which is the practice and `study of collecting and analyzing data`. \n",
    "\n",
    "\n",
    "- We can also talk about a `summary statistic`, which is a `fact about or summary of some data, like an average or a count`.\n",
    "\n",
    "### What can statistics do?\n",
    "\n",
    "A more important question, however, is what can statistics do? With the power of statistics, we can answer tons of different questions like: \n",
    "\n",
    "<img src=\"st.jpg\" style=\"max-width:800px\">"
   ]
  },
  {
   "cell_type": "markdown",
   "id": "9408c8c6",
   "metadata": {},
   "source": [
    "### Types of statistics\n",
    "There are 2 main branches of statistics: descriptive statistics and inferential statistics. \n",
    "\n",
    "- `Descriptive statistics` focuses on `describing and summarizing` the data at hand. After asking four friends how they get to work, we can see that 50% of them drive to work, 25% ride the bus, and 25% bike. These are examples of descriptive statistics. \n",
    "\n",
    "\n",
    "- `Inferential statistics` uses the `data at hand`, which is called `sample data`, to `make inferences about a larger population`. We could use inferential statistics to figure out what percent of people drive to work based on our sample data.\n",
    "\n",
    "\n",
    "<img src=\"st-1.jpg\" style=\"max-width:800px\">"
   ]
  },
  {
   "cell_type": "markdown",
   "id": "daef085e",
   "metadata": {},
   "source": [
    "### Types of data\n",
    "\n",
    "There are two main types of data. \n",
    "\n",
    "- `Numeric or quantitative` data is made up of `numeric values`. Numeric data can be further separated into `continuous` and `discrete` data. \n",
    "      \n",
    "    > `Continuous` numeric data is often `quantities that can be measured`, like speed or time. \n",
    "      \n",
    "    > `Discrete` numeric data is usually `count` data, like number of pets or number of packages shipped.\n",
    "\n",
    "\n",
    "- `Categorical or qualitative` data is made up of values that belong to `distinct groups`. Categorical data can be `nominal` or `ordinal`. \n",
    "\n",
    "    > `Nominal` categorical data is made up of categories with `no inherent ordering`, like marriage status or country of residence. \n",
    "    \n",
    "    > `Ordinal` categorical data has an `inherent order`, like a survey question where you need to indicate the degree to which you agree with a statement.\n",
    "\n",
    "<img src=\"st-2.jpg\" style=\"max-width:800px\">\n",
    "\n",
    "> It's important to note that these aren't the only two types of data that exist - there are others too, but we'll be focusing on these two.  "
   ]
  },
  {
   "cell_type": "markdown",
   "id": "eace5167",
   "metadata": {},
   "source": [
    "### Categorical data can be represented as numbers\n",
    "\n",
    "Sometimes, categorical variables are represented using numbers.\n",
    "\n",
    "Married and unmarried can be represented using 1 and 0, or an agreement scale could be represented with numbers 1 through 5. \n",
    "\n",
    "\n",
    "<img src=\"st-3.jpg\" style=\"max-width:800px\">\n",
    "\n",
    "\n",
    "> However, it's important to note that this doesn't necessarily make them numeric variables.\n",
    "\n",
    "### Why does data type matter?\n",
    "\n",
    "> Being able to identify data types is important since the type of data you're working with will dictate what kinds of summary statistics and visualizations make sense for your data, so this is an important skill to master. \n",
    "\n",
    "> For numerical data, we can use summary statistics like mean, and plots like scatter plots, but these don't make a ton of sense for categorical data.\n",
    "\n",
    "> Similarly, things like counts and barplots don't make much sense for numeric data."
   ]
  },
  {
   "cell_type": "markdown",
   "id": "d3c8f608",
   "metadata": {},
   "source": [
    "### Measures of center\n",
    "In this lesson, we'll begin to discuss summary statistics, some of which you may already be familiar with, like mean and median.\n",
    "\n",
    "#### Mammal sleep data\n",
    "\n",
    "We'll look at data about different mammals' sleep habits.\n",
    "\n",
    "### Histograms\n",
    "\n",
    "Before we dive in, let's remind ourselves how histograms work. A histogram takes a bunch of data points and separates them into bins, or ranges of values. \n",
    "\n",
    "<img src=\"h.jpg\" style=\"max-width:600px\">\n",
    "\n",
    "Here, there's a bin for 0 to 2 hours, 2 to 4 hours, and so on. The heights of the bars represent the number of data points that fall into that bin, so \n",
    "\n",
    "- there's one mammal in the dataset that sleeps between 0 to 2 hours, and nine mammals that sleep two to four hours. \n",
    "\n",
    "Histograms are a great way to visually summarize the data, but we can use numerical summary statistics to summarize even further.\n",
    "\n",
    "### How long do mammals in this dataset typically sleep?\n",
    "\n",
    "One way we could summarize the data is by answering the question, How long do mammals in this dataset typically sleep? To answer this, we need to figure out what the \"typical\" or \"center\" value of the data is. We'll discuss three different definitions, or measures, of center: mean, median, and mode.\n",
    "\n",
    "### Measures of center: mean\n",
    "\n",
    "The `mean`, often called the `average`, is one of the most common ways of summarizing data. To calculate mean, we add up all the numbers of interest and divide by the total number of data points. \n",
    "\n",
    "In Python, we can use numpy's mean function, passing it the variable of interest.\n",
    "\n",
    "### Measures of center: median\n",
    "\n",
    "Another measure of center is the `median`. The median is the value where `50% of the data is lower than it, and 50% of the data is higher`. We can calculate this by `sorting` all the data points and taking the `middle` one.\n",
    "\n",
    "In Python, we can use np-dot-median to do the calculations for us.\n",
    "\n",
    "### Measures of center: mode\n",
    "\n",
    "The `mode` is the `most frequent value` in the data. We can also find the mode using the mode function from the `statistics` module. \n",
    "\n",
    "Mode is often used for `categorical` variables, since categorical variables can be unordered and often don't have an inherent numerical representation."
   ]
  },
  {
   "cell_type": "markdown",
   "id": "2b768524",
   "metadata": {},
   "source": [
    "### Adding an outlier\n",
    "\n",
    "Now that we have lots of ways to measure center, how do we know which one to use? \n",
    "\n",
    "Let's look at an example. Here, we have all of the insectivores in the dataset.\n",
    "\n",
    "<img src=\"o.jpg\" style=\"max-width:800px\">\n",
    "\n",
    "<img src=\"o-1.jpg\" style=\"max-width:800px\">\n",
    "\n",
    "We get a mean sleep time of 16.5 hours and a median sleep time of 18.9 hours.\n",
    "\n",
    "Now let's say we've discovered a new mystery insectivore that never sleeps.\n",
    "\n",
    "<img src=\"o-2.jpg\" style=\"max-width:800px\">\n",
    "\n",
    "<img src=\"o-3.jpg\" style=\"max-width:800px\">\n",
    "\n",
    "If we take the mean and median again, we get different results. The mean went down by more than 3 hours, while the median changed by less than an hour. This is because the mean is much more sensitive to extreme values than the median."
   ]
  },
  {
   "cell_type": "markdown",
   "id": "f02e0871",
   "metadata": {},
   "source": [
    "### Which measure to use?\n",
    "\n",
    "Since the mean is more sensitive to extreme values, it works better for symmetrical data like this. \n",
    "\n",
    "<img src=\"h-1.jpg\" style=\"max-width:800px\">\n",
    "\n",
    "Notice that the mean, in black, and median, in red, are quite close.\n",
    "\n",
    "### Skew\n",
    "\n",
    "However, if the data is skewed, meaning it's not symmetrical, like this, median is usually better to use. \n",
    "\n",
    "<img src=\"s.jpg\" style=\"max-width:1000px\">\n",
    "\n",
    "- In this histogram, the data is piled up on the right, with a `tail` on the `left`. Data that looks like this is called `left-skewed data`. \n",
    "\n",
    "\n",
    "- When data is piled up on the left with a `tail` on the `right`, it's `right-skewed`.\n",
    "\n",
    "\n",
    "### Which measure to use?\n",
    "\n",
    "When data is skewed, the mean and median are different. The `mean` is `pulled in the direction of the skew`, so it's `lower` than the `median` on the `left-skewed` data, and `higher` than the `median` on the `right-skewed` data. Because the `mean` is pulled around by the `extreme values`, it's `better` to use the `median` since it's `less affected by outliers`."
   ]
  },
  {
   "cell_type": "code",
   "execution_count": null,
   "id": "24a6a358",
   "metadata": {},
   "outputs": [],
   "source": []
  },
  {
   "cell_type": "markdown",
   "id": "31aafb35",
   "metadata": {},
   "source": [
    "## Exercise 1: Mean and median\n",
    "\n",
    "In this chapter, you'll be working with the `2018 Food Carbon Footprint Index from nu3`. The `food_consumption` dataset contains information about the `kilograms of food consumed per person per year in each country in each food category (consumption)` as well as information about the `carbon footprint of that food category (co2_emissions)` measured in kilograms of carbon dioxide, or CO2, per person per year in each country.\n",
    "\n",
    "In this exercise, you'll compute measures of center to compare food consumption in the `US` and `Belgium` using your pandas and numpy skills.\n",
    "\n",
    "pandas is imported as pd for you and `food_consumption` is pre-loaded."
   ]
  },
  {
   "cell_type": "code",
   "execution_count": 1,
   "id": "06abe05b",
   "metadata": {},
   "outputs": [],
   "source": [
    "import pandas as pd\n",
    "import numpy as np\n",
    "import statistics\n",
    "import matplotlib.pyplot as plt"
   ]
  },
  {
   "cell_type": "code",
   "execution_count": 2,
   "id": "6fe9f66b",
   "metadata": {},
   "outputs": [
    {
     "data": {
      "text/html": [
       "<div>\n",
       "<style scoped>\n",
       "    .dataframe tbody tr th:only-of-type {\n",
       "        vertical-align: middle;\n",
       "    }\n",
       "\n",
       "    .dataframe tbody tr th {\n",
       "        vertical-align: top;\n",
       "    }\n",
       "\n",
       "    .dataframe thead th {\n",
       "        text-align: right;\n",
       "    }\n",
       "</style>\n",
       "<table border=\"1\" class=\"dataframe\">\n",
       "  <thead>\n",
       "    <tr style=\"text-align: right;\">\n",
       "      <th></th>\n",
       "      <th>country</th>\n",
       "      <th>food_category</th>\n",
       "      <th>consumption</th>\n",
       "      <th>co2_emission</th>\n",
       "    </tr>\n",
       "  </thead>\n",
       "  <tbody>\n",
       "    <tr>\n",
       "      <th>0</th>\n",
       "      <td>Argentina</td>\n",
       "      <td>pork</td>\n",
       "      <td>10.51</td>\n",
       "      <td>37.20</td>\n",
       "    </tr>\n",
       "    <tr>\n",
       "      <th>1</th>\n",
       "      <td>Argentina</td>\n",
       "      <td>poultry</td>\n",
       "      <td>38.66</td>\n",
       "      <td>41.53</td>\n",
       "    </tr>\n",
       "    <tr>\n",
       "      <th>2</th>\n",
       "      <td>Argentina</td>\n",
       "      <td>beef</td>\n",
       "      <td>55.48</td>\n",
       "      <td>1712.00</td>\n",
       "    </tr>\n",
       "    <tr>\n",
       "      <th>3</th>\n",
       "      <td>Argentina</td>\n",
       "      <td>lamb_goat</td>\n",
       "      <td>1.56</td>\n",
       "      <td>54.63</td>\n",
       "    </tr>\n",
       "    <tr>\n",
       "      <th>4</th>\n",
       "      <td>Argentina</td>\n",
       "      <td>fish</td>\n",
       "      <td>4.36</td>\n",
       "      <td>6.96</td>\n",
       "    </tr>\n",
       "  </tbody>\n",
       "</table>\n",
       "</div>"
      ],
      "text/plain": [
       "     country food_category  consumption  co2_emission\n",
       "0  Argentina          pork        10.51         37.20\n",
       "1  Argentina       poultry        38.66         41.53\n",
       "2  Argentina          beef        55.48       1712.00\n",
       "3  Argentina     lamb_goat         1.56         54.63\n",
       "4  Argentina          fish         4.36          6.96"
      ]
     },
     "execution_count": 2,
     "metadata": {},
     "output_type": "execute_result"
    }
   ],
   "source": [
    "food_consumption = pd.read_csv(\"food_consumption.csv\")\n",
    "food_consumption = food_consumption.drop(\"Unnamed: 0\", axis=1)\n",
    "food_consumption.head()"
   ]
  },
  {
   "cell_type": "markdown",
   "id": "a0ebb720",
   "metadata": {},
   "source": [
    "- Create two DataFrames: one that holds the rows of food_consumption for 'Belgium' and another that holds rows for 'USA'. Call these be_consumption and usa_consumption.\n",
    "\n",
    "\n",
    "- Calculate the mean and median of kilograms of food consumed per person per year for both countries.\n",
    "\n",
    "\n",
    "- Subset food_consumption for rows with data about Belgium and the USA.\n",
    "\n",
    "\n",
    "- Group the subsetted data by country and select only the consumption column.\n",
    "\n",
    "\n",
    "- Calculate the mean and median of the kilograms of food consumed per person per year in each country using .agg()."
   ]
  },
  {
   "cell_type": "code",
   "execution_count": 3,
   "id": "3b792f1e",
   "metadata": {},
   "outputs": [
    {
     "data": {
      "text/html": [
       "<div>\n",
       "<style scoped>\n",
       "    .dataframe tbody tr th:only-of-type {\n",
       "        vertical-align: middle;\n",
       "    }\n",
       "\n",
       "    .dataframe tbody tr th {\n",
       "        vertical-align: top;\n",
       "    }\n",
       "\n",
       "    .dataframe thead th {\n",
       "        text-align: right;\n",
       "    }\n",
       "</style>\n",
       "<table border=\"1\" class=\"dataframe\">\n",
       "  <thead>\n",
       "    <tr style=\"text-align: right;\">\n",
       "      <th></th>\n",
       "      <th>country</th>\n",
       "      <th>food_category</th>\n",
       "      <th>consumption</th>\n",
       "      <th>co2_emission</th>\n",
       "    </tr>\n",
       "  </thead>\n",
       "  <tbody>\n",
       "    <tr>\n",
       "      <th>396</th>\n",
       "      <td>Belgium</td>\n",
       "      <td>pork</td>\n",
       "      <td>38.65</td>\n",
       "      <td>136.80</td>\n",
       "    </tr>\n",
       "    <tr>\n",
       "      <th>397</th>\n",
       "      <td>Belgium</td>\n",
       "      <td>poultry</td>\n",
       "      <td>12.20</td>\n",
       "      <td>13.11</td>\n",
       "    </tr>\n",
       "    <tr>\n",
       "      <th>398</th>\n",
       "      <td>Belgium</td>\n",
       "      <td>beef</td>\n",
       "      <td>15.63</td>\n",
       "      <td>482.31</td>\n",
       "    </tr>\n",
       "    <tr>\n",
       "      <th>399</th>\n",
       "      <td>Belgium</td>\n",
       "      <td>lamb_goat</td>\n",
       "      <td>1.32</td>\n",
       "      <td>46.23</td>\n",
       "    </tr>\n",
       "    <tr>\n",
       "      <th>400</th>\n",
       "      <td>Belgium</td>\n",
       "      <td>fish</td>\n",
       "      <td>18.97</td>\n",
       "      <td>30.29</td>\n",
       "    </tr>\n",
       "    <tr>\n",
       "      <th>401</th>\n",
       "      <td>Belgium</td>\n",
       "      <td>eggs</td>\n",
       "      <td>12.59</td>\n",
       "      <td>11.57</td>\n",
       "    </tr>\n",
       "    <tr>\n",
       "      <th>402</th>\n",
       "      <td>Belgium</td>\n",
       "      <td>dairy</td>\n",
       "      <td>236.19</td>\n",
       "      <td>336.43</td>\n",
       "    </tr>\n",
       "    <tr>\n",
       "      <th>403</th>\n",
       "      <td>Belgium</td>\n",
       "      <td>wheat</td>\n",
       "      <td>111.91</td>\n",
       "      <td>21.34</td>\n",
       "    </tr>\n",
       "    <tr>\n",
       "      <th>404</th>\n",
       "      <td>Belgium</td>\n",
       "      <td>rice</td>\n",
       "      <td>8.61</td>\n",
       "      <td>11.02</td>\n",
       "    </tr>\n",
       "    <tr>\n",
       "      <th>405</th>\n",
       "      <td>Belgium</td>\n",
       "      <td>soybeans</td>\n",
       "      <td>0.07</td>\n",
       "      <td>0.03</td>\n",
       "    </tr>\n",
       "    <tr>\n",
       "      <th>406</th>\n",
       "      <td>Belgium</td>\n",
       "      <td>nuts</td>\n",
       "      <td>7.32</td>\n",
       "      <td>12.96</td>\n",
       "    </tr>\n",
       "  </tbody>\n",
       "</table>\n",
       "</div>"
      ],
      "text/plain": [
       "     country food_category  consumption  co2_emission\n",
       "396  Belgium          pork        38.65        136.80\n",
       "397  Belgium       poultry        12.20         13.11\n",
       "398  Belgium          beef        15.63        482.31\n",
       "399  Belgium     lamb_goat         1.32         46.23\n",
       "400  Belgium          fish        18.97         30.29\n",
       "401  Belgium          eggs        12.59         11.57\n",
       "402  Belgium         dairy       236.19        336.43\n",
       "403  Belgium         wheat       111.91         21.34\n",
       "404  Belgium          rice         8.61         11.02\n",
       "405  Belgium      soybeans         0.07          0.03\n",
       "406  Belgium          nuts         7.32         12.96"
      ]
     },
     "execution_count": 3,
     "metadata": {},
     "output_type": "execute_result"
    }
   ],
   "source": [
    "## q1 : Create two DataFrames: one that holds the rows of food_consumption for 'Belgium' and another that holds rows for 'USA'. \n",
    "## Call these be_consumption and usa_consumption.\n",
    "\n",
    "\n",
    "# Filter for Belgium\n",
    "be_consumption = food_consumption[food_consumption[\"country\"]==\"Belgium\"]\n",
    "be_consumption"
   ]
  },
  {
   "cell_type": "code",
   "execution_count": 4,
   "id": "6036bed4",
   "metadata": {
    "scrolled": true
   },
   "outputs": [
    {
     "data": {
      "text/html": [
       "<div>\n",
       "<style scoped>\n",
       "    .dataframe tbody tr th:only-of-type {\n",
       "        vertical-align: middle;\n",
       "    }\n",
       "\n",
       "    .dataframe tbody tr th {\n",
       "        vertical-align: top;\n",
       "    }\n",
       "\n",
       "    .dataframe thead th {\n",
       "        text-align: right;\n",
       "    }\n",
       "</style>\n",
       "<table border=\"1\" class=\"dataframe\">\n",
       "  <thead>\n",
       "    <tr style=\"text-align: right;\">\n",
       "      <th></th>\n",
       "      <th>country</th>\n",
       "      <th>food_category</th>\n",
       "      <th>consumption</th>\n",
       "      <th>co2_emission</th>\n",
       "    </tr>\n",
       "  </thead>\n",
       "  <tbody>\n",
       "    <tr>\n",
       "      <th>55</th>\n",
       "      <td>USA</td>\n",
       "      <td>pork</td>\n",
       "      <td>27.64</td>\n",
       "      <td>97.83</td>\n",
       "    </tr>\n",
       "    <tr>\n",
       "      <th>56</th>\n",
       "      <td>USA</td>\n",
       "      <td>poultry</td>\n",
       "      <td>50.01</td>\n",
       "      <td>53.72</td>\n",
       "    </tr>\n",
       "    <tr>\n",
       "      <th>57</th>\n",
       "      <td>USA</td>\n",
       "      <td>beef</td>\n",
       "      <td>36.24</td>\n",
       "      <td>1118.29</td>\n",
       "    </tr>\n",
       "    <tr>\n",
       "      <th>58</th>\n",
       "      <td>USA</td>\n",
       "      <td>lamb_goat</td>\n",
       "      <td>0.43</td>\n",
       "      <td>15.06</td>\n",
       "    </tr>\n",
       "    <tr>\n",
       "      <th>59</th>\n",
       "      <td>USA</td>\n",
       "      <td>fish</td>\n",
       "      <td>12.35</td>\n",
       "      <td>19.72</td>\n",
       "    </tr>\n",
       "    <tr>\n",
       "      <th>60</th>\n",
       "      <td>USA</td>\n",
       "      <td>eggs</td>\n",
       "      <td>14.58</td>\n",
       "      <td>13.39</td>\n",
       "    </tr>\n",
       "    <tr>\n",
       "      <th>61</th>\n",
       "      <td>USA</td>\n",
       "      <td>dairy</td>\n",
       "      <td>254.69</td>\n",
       "      <td>362.78</td>\n",
       "    </tr>\n",
       "    <tr>\n",
       "      <th>62</th>\n",
       "      <td>USA</td>\n",
       "      <td>wheat</td>\n",
       "      <td>80.43</td>\n",
       "      <td>15.34</td>\n",
       "    </tr>\n",
       "    <tr>\n",
       "      <th>63</th>\n",
       "      <td>USA</td>\n",
       "      <td>rice</td>\n",
       "      <td>6.88</td>\n",
       "      <td>8.80</td>\n",
       "    </tr>\n",
       "    <tr>\n",
       "      <th>64</th>\n",
       "      <td>USA</td>\n",
       "      <td>soybeans</td>\n",
       "      <td>0.04</td>\n",
       "      <td>0.02</td>\n",
       "    </tr>\n",
       "    <tr>\n",
       "      <th>65</th>\n",
       "      <td>USA</td>\n",
       "      <td>nuts</td>\n",
       "      <td>7.86</td>\n",
       "      <td>13.91</td>\n",
       "    </tr>\n",
       "  </tbody>\n",
       "</table>\n",
       "</div>"
      ],
      "text/plain": [
       "   country food_category  consumption  co2_emission\n",
       "55     USA          pork        27.64         97.83\n",
       "56     USA       poultry        50.01         53.72\n",
       "57     USA          beef        36.24       1118.29\n",
       "58     USA     lamb_goat         0.43         15.06\n",
       "59     USA          fish        12.35         19.72\n",
       "60     USA          eggs        14.58         13.39\n",
       "61     USA         dairy       254.69        362.78\n",
       "62     USA         wheat        80.43         15.34\n",
       "63     USA          rice         6.88          8.80\n",
       "64     USA      soybeans         0.04          0.02\n",
       "65     USA          nuts         7.86         13.91"
      ]
     },
     "execution_count": 4,
     "metadata": {},
     "output_type": "execute_result"
    }
   ],
   "source": [
    "# Filter for USA\n",
    "usa_consumption = food_consumption[food_consumption[\"country\"]==\"USA\"]\n",
    "usa_consumption"
   ]
  },
  {
   "cell_type": "code",
   "execution_count": 11,
   "id": "c6977a4b",
   "metadata": {},
   "outputs": [
    {
     "data": {
      "text/plain": [
       "mean      42.132727\n",
       "median    12.590000\n",
       "Name: consumption, dtype: float64"
      ]
     },
     "execution_count": 11,
     "metadata": {},
     "output_type": "execute_result"
    }
   ],
   "source": [
    "## q2: Calculate the mean and median of kilograms of food consumed per person per year for both countries.\n",
    "\n",
    "be_consumption['consumption'].agg([np.mean,np.median])"
   ]
  },
  {
   "cell_type": "code",
   "execution_count": 12,
   "id": "22fa5019",
   "metadata": {},
   "outputs": [
    {
     "data": {
      "text/plain": [
       "mean      44.65\n",
       "median    14.58\n",
       "Name: consumption, dtype: float64"
      ]
     },
     "execution_count": 12,
     "metadata": {},
     "output_type": "execute_result"
    }
   ],
   "source": [
    "usa_consumption['consumption'].agg([np.mean,np.median])"
   ]
  },
  {
   "cell_type": "code",
   "execution_count": 7,
   "id": "ad80e34e",
   "metadata": {},
   "outputs": [
    {
     "name": "stdout",
     "output_type": "stream",
     "text": [
      "     country food_category  consumption  co2_emission\n",
      "55       USA          pork        27.64         97.83\n",
      "56       USA       poultry        50.01         53.72\n",
      "57       USA          beef        36.24       1118.29\n",
      "58       USA     lamb_goat         0.43         15.06\n",
      "59       USA          fish        12.35         19.72\n",
      "60       USA          eggs        14.58         13.39\n",
      "61       USA         dairy       254.69        362.78\n",
      "62       USA         wheat        80.43         15.34\n",
      "63       USA          rice         6.88          8.80\n",
      "64       USA      soybeans         0.04          0.02\n",
      "65       USA          nuts         7.86         13.91\n",
      "396  Belgium          pork        38.65        136.80\n",
      "397  Belgium       poultry        12.20         13.11\n",
      "398  Belgium          beef        15.63        482.31\n",
      "399  Belgium     lamb_goat         1.32         46.23\n",
      "400  Belgium          fish        18.97         30.29\n",
      "401  Belgium          eggs        12.59         11.57\n",
      "402  Belgium         dairy       236.19        336.43\n",
      "403  Belgium         wheat       111.91         21.34\n",
      "404  Belgium          rice         8.61         11.02\n",
      "405  Belgium      soybeans         0.07          0.03\n",
      "406  Belgium          nuts         7.32         12.96\n"
     ]
    }
   ],
   "source": [
    "# q3: Subset food_consumption for rows with data about Belgium and the USA.\n",
    "\n",
    "be_and_usa = food_consumption[(food_consumption[\"country\"]==\"Belgium\") | (food_consumption[\"country\"]==\"USA\")]\n",
    "print(be_and_usa)"
   ]
  },
  {
   "cell_type": "code",
   "execution_count": 18,
   "id": "c5d9a0c4",
   "metadata": {},
   "outputs": [
    {
     "name": "stdout",
     "output_type": "stream",
     "text": [
      "<pandas.core.groupby.generic.SeriesGroupBy object at 0x000001F5F3B94D90>\n",
      "{'Belgium': [396, 397, 398, 399, 400, 401, 402, 403, 404, 405, 406], 'USA': [55, 56, 57, 58, 59, 60, 61, 62, 63, 64, 65]}\n"
     ]
    }
   ],
   "source": [
    "# q4: 1) Group the subsetted data by country and select only the consumption column.\n",
    "#     2) Calculate the mean and median of the kilograms of food consumed per person per year in each country using .agg().\n",
    "\n",
    "# Group by country, select consumption column, and compute mean and median\n",
    "print(be_and_usa.groupby(\"country\")['consumption'])\n",
    "print(be_and_usa.groupby(\"country\")['consumption'].groups)"
   ]
  },
  {
   "cell_type": "code",
   "execution_count": 16,
   "id": "1795d150",
   "metadata": {},
   "outputs": [
    {
     "data": {
      "text/html": [
       "<div>\n",
       "<style scoped>\n",
       "    .dataframe tbody tr th:only-of-type {\n",
       "        vertical-align: middle;\n",
       "    }\n",
       "\n",
       "    .dataframe tbody tr th {\n",
       "        vertical-align: top;\n",
       "    }\n",
       "\n",
       "    .dataframe thead th {\n",
       "        text-align: right;\n",
       "    }\n",
       "</style>\n",
       "<table border=\"1\" class=\"dataframe\">\n",
       "  <thead>\n",
       "    <tr style=\"text-align: right;\">\n",
       "      <th></th>\n",
       "      <th>mean</th>\n",
       "      <th>median</th>\n",
       "    </tr>\n",
       "    <tr>\n",
       "      <th>country</th>\n",
       "      <th></th>\n",
       "      <th></th>\n",
       "    </tr>\n",
       "  </thead>\n",
       "  <tbody>\n",
       "    <tr>\n",
       "      <th>Belgium</th>\n",
       "      <td>42.132727</td>\n",
       "      <td>12.59</td>\n",
       "    </tr>\n",
       "    <tr>\n",
       "      <th>USA</th>\n",
       "      <td>44.650000</td>\n",
       "      <td>14.58</td>\n",
       "    </tr>\n",
       "  </tbody>\n",
       "</table>\n",
       "</div>"
      ],
      "text/plain": [
       "              mean  median\n",
       "country                   \n",
       "Belgium  42.132727   12.59\n",
       "USA      44.650000   14.58"
      ]
     },
     "execution_count": 16,
     "metadata": {},
     "output_type": "execute_result"
    }
   ],
   "source": [
    "be_and_usa.groupby(\"country\")['consumption'].agg([np.mean,np.median])"
   ]
  },
  {
   "cell_type": "code",
   "execution_count": null,
   "id": "ee8f5131",
   "metadata": {},
   "outputs": [],
   "source": []
  },
  {
   "cell_type": "markdown",
   "id": "c7ef5f75",
   "metadata": {},
   "source": [
    "## Exercise 2: Mean vs. median\n",
    "\n",
    "You learned that the mean is the sum of all the data points divided by the total number of data points, and the median is the middle value of the dataset where 50% of the data is less than the median, and 50% of the data is greater than the median. \n",
    "\n",
    "In this exercise, you'll compare these two measures of center.\n",
    "\n",
    "- Subset food_consumption to get the rows where food_category is 'rice'.\n",
    "\n",
    "\n",
    "- Create a histogram of co2_emission for rice and show the plot.\n",
    "\n",
    "\n",
    "- Use .agg() to calculate the mean and median of co2_emission for rice."
   ]
  },
  {
   "cell_type": "code",
   "execution_count": 19,
   "id": "248c7d3a",
   "metadata": {},
   "outputs": [
    {
     "data": {
      "text/html": [
       "<div>\n",
       "<style scoped>\n",
       "    .dataframe tbody tr th:only-of-type {\n",
       "        vertical-align: middle;\n",
       "    }\n",
       "\n",
       "    .dataframe tbody tr th {\n",
       "        vertical-align: top;\n",
       "    }\n",
       "\n",
       "    .dataframe thead th {\n",
       "        text-align: right;\n",
       "    }\n",
       "</style>\n",
       "<table border=\"1\" class=\"dataframe\">\n",
       "  <thead>\n",
       "    <tr style=\"text-align: right;\">\n",
       "      <th></th>\n",
       "      <th>country</th>\n",
       "      <th>food_category</th>\n",
       "      <th>consumption</th>\n",
       "      <th>co2_emission</th>\n",
       "    </tr>\n",
       "  </thead>\n",
       "  <tbody>\n",
       "    <tr>\n",
       "      <th>0</th>\n",
       "      <td>Argentina</td>\n",
       "      <td>pork</td>\n",
       "      <td>10.51</td>\n",
       "      <td>37.20</td>\n",
       "    </tr>\n",
       "    <tr>\n",
       "      <th>1</th>\n",
       "      <td>Argentina</td>\n",
       "      <td>poultry</td>\n",
       "      <td>38.66</td>\n",
       "      <td>41.53</td>\n",
       "    </tr>\n",
       "    <tr>\n",
       "      <th>2</th>\n",
       "      <td>Argentina</td>\n",
       "      <td>beef</td>\n",
       "      <td>55.48</td>\n",
       "      <td>1712.00</td>\n",
       "    </tr>\n",
       "    <tr>\n",
       "      <th>3</th>\n",
       "      <td>Argentina</td>\n",
       "      <td>lamb_goat</td>\n",
       "      <td>1.56</td>\n",
       "      <td>54.63</td>\n",
       "    </tr>\n",
       "    <tr>\n",
       "      <th>4</th>\n",
       "      <td>Argentina</td>\n",
       "      <td>fish</td>\n",
       "      <td>4.36</td>\n",
       "      <td>6.96</td>\n",
       "    </tr>\n",
       "  </tbody>\n",
       "</table>\n",
       "</div>"
      ],
      "text/plain": [
       "     country food_category  consumption  co2_emission\n",
       "0  Argentina          pork        10.51         37.20\n",
       "1  Argentina       poultry        38.66         41.53\n",
       "2  Argentina          beef        55.48       1712.00\n",
       "3  Argentina     lamb_goat         1.56         54.63\n",
       "4  Argentina          fish         4.36          6.96"
      ]
     },
     "execution_count": 19,
     "metadata": {},
     "output_type": "execute_result"
    }
   ],
   "source": [
    "food_consumption.head()"
   ]
  },
  {
   "cell_type": "code",
   "execution_count": 20,
   "id": "45bac911",
   "metadata": {},
   "outputs": [
    {
     "data": {
      "text/html": [
       "<div>\n",
       "<style scoped>\n",
       "    .dataframe tbody tr th:only-of-type {\n",
       "        vertical-align: middle;\n",
       "    }\n",
       "\n",
       "    .dataframe tbody tr th {\n",
       "        vertical-align: top;\n",
       "    }\n",
       "\n",
       "    .dataframe thead th {\n",
       "        text-align: right;\n",
       "    }\n",
       "</style>\n",
       "<table border=\"1\" class=\"dataframe\">\n",
       "  <thead>\n",
       "    <tr style=\"text-align: right;\">\n",
       "      <th></th>\n",
       "      <th>country</th>\n",
       "      <th>food_category</th>\n",
       "      <th>consumption</th>\n",
       "      <th>co2_emission</th>\n",
       "    </tr>\n",
       "  </thead>\n",
       "  <tbody>\n",
       "    <tr>\n",
       "      <th>8</th>\n",
       "      <td>Argentina</td>\n",
       "      <td>rice</td>\n",
       "      <td>8.77</td>\n",
       "      <td>11.22</td>\n",
       "    </tr>\n",
       "    <tr>\n",
       "      <th>19</th>\n",
       "      <td>Australia</td>\n",
       "      <td>rice</td>\n",
       "      <td>11.03</td>\n",
       "      <td>14.12</td>\n",
       "    </tr>\n",
       "    <tr>\n",
       "      <th>30</th>\n",
       "      <td>Albania</td>\n",
       "      <td>rice</td>\n",
       "      <td>7.78</td>\n",
       "      <td>9.96</td>\n",
       "    </tr>\n",
       "    <tr>\n",
       "      <th>41</th>\n",
       "      <td>Iceland</td>\n",
       "      <td>rice</td>\n",
       "      <td>3.89</td>\n",
       "      <td>4.98</td>\n",
       "    </tr>\n",
       "    <tr>\n",
       "      <th>52</th>\n",
       "      <td>New Zealand</td>\n",
       "      <td>rice</td>\n",
       "      <td>9.16</td>\n",
       "      <td>11.72</td>\n",
       "    </tr>\n",
       "    <tr>\n",
       "      <th>...</th>\n",
       "      <td>...</td>\n",
       "      <td>...</td>\n",
       "      <td>...</td>\n",
       "      <td>...</td>\n",
       "    </tr>\n",
       "    <tr>\n",
       "      <th>1383</th>\n",
       "      <td>Sierra Leone</td>\n",
       "      <td>rice</td>\n",
       "      <td>103.30</td>\n",
       "      <td>132.19</td>\n",
       "    </tr>\n",
       "    <tr>\n",
       "      <th>1394</th>\n",
       "      <td>Sri Lanka</td>\n",
       "      <td>rice</td>\n",
       "      <td>109.72</td>\n",
       "      <td>140.41</td>\n",
       "    </tr>\n",
       "    <tr>\n",
       "      <th>1405</th>\n",
       "      <td>Indonesia</td>\n",
       "      <td>rice</td>\n",
       "      <td>134.62</td>\n",
       "      <td>172.27</td>\n",
       "    </tr>\n",
       "    <tr>\n",
       "      <th>1416</th>\n",
       "      <td>Liberia</td>\n",
       "      <td>rice</td>\n",
       "      <td>94.75</td>\n",
       "      <td>121.25</td>\n",
       "    </tr>\n",
       "    <tr>\n",
       "      <th>1427</th>\n",
       "      <td>Bangladesh</td>\n",
       "      <td>rice</td>\n",
       "      <td>171.73</td>\n",
       "      <td>219.76</td>\n",
       "    </tr>\n",
       "  </tbody>\n",
       "</table>\n",
       "<p>130 rows × 4 columns</p>\n",
       "</div>"
      ],
      "text/plain": [
       "           country food_category  consumption  co2_emission\n",
       "8        Argentina          rice         8.77         11.22\n",
       "19       Australia          rice        11.03         14.12\n",
       "30         Albania          rice         7.78          9.96\n",
       "41         Iceland          rice         3.89          4.98\n",
       "52     New Zealand          rice         9.16         11.72\n",
       "...            ...           ...          ...           ...\n",
       "1383  Sierra Leone          rice       103.30        132.19\n",
       "1394     Sri Lanka          rice       109.72        140.41\n",
       "1405     Indonesia          rice       134.62        172.27\n",
       "1416       Liberia          rice        94.75        121.25\n",
       "1427    Bangladesh          rice       171.73        219.76\n",
       "\n",
       "[130 rows x 4 columns]"
      ]
     },
     "execution_count": 20,
     "metadata": {},
     "output_type": "execute_result"
    }
   ],
   "source": [
    "## q1: Subset food_consumption to get the rows where food_category is 'rice'\n",
    "\n",
    "rice_consumption = food_consumption[food_consumption[\"food_category\"]=='rice']\n",
    "rice_consumption"
   ]
  },
  {
   "cell_type": "code",
   "execution_count": 21,
   "id": "d325b6d7",
   "metadata": {},
   "outputs": [
    {
     "data": {
      "image/png": "[encoded data removed]",
      "text/plain": [
       "<Figure size 432x288 with 1 Axes>"
      ]
     },
     "metadata": {
      "needs_background": "light"
     },
     "output_type": "display_data"
    }
   ],
   "source": [
    "## q2: Create a histogram of co2_emission for rice and show the plot.\n",
    "\n",
    "plt.hist(rice_consumption['co2_emission'])\n",
    "plt.show()"
   ]
  },
  {
   "cell_type": "code",
   "execution_count": 22,
   "id": "b8654be2",
   "metadata": {},
   "outputs": [
    {
     "data": {
      "text/plain": [
       "mean      37.591615\n",
       "median    15.200000\n",
       "Name: co2_emission, dtype: float64"
      ]
     },
     "execution_count": 22,
     "metadata": {},
     "output_type": "execute_result"
    }
   ],
   "source": [
    "## q3: Use .agg() to calculate the mean and median of co2_emission for rice\n",
    "\n",
    "rice_consumption['co2_emission'].agg([np.mean, np.median])"
   ]
  },
  {
   "cell_type": "markdown",
   "id": "a7aefa06",
   "metadata": {},
   "source": [
    "If we take a look at the histogram we just created of different countries' CO2 emissions for rice. The histogram is right skewed. \n",
    "\n",
    "Given the skew of this data, median is the measure of central tendency best summarizes the kilograms of CO2 emissions per person per year for rice than mean.\n",
    "\n",
    "Because here, The mean is substantially higher than the median since it's being pulled up by the high values over 100 kg/person/year."
   ]
  },
  {
   "cell_type": "code",
   "execution_count": null,
   "id": "162a7d69",
   "metadata": {},
   "outputs": [],
   "source": []
  },
  {
   "cell_type": "markdown",
   "id": "f70f0682",
   "metadata": {},
   "source": [
    "### Measures of spread\n",
    "\n",
    "In this lesson, we'll talk about another set of summary statistics: measures of spread.\n",
    "\n",
    "### What is spread?\n",
    "\n",
    "Spread is just what it sounds like - it describes how spread apart or close together the data points are. Just like measures of center, there are a few different measures of spread.\n",
    "\n",
    "### Variance\n",
    "The first measure, variance, measures the average distance from each data point to the data's mean.\n",
    "\n",
    "<img src=\"var.jpg\" style=\"max-width:800px\">\n",
    "\n",
    "### Calculating variance\n",
    "\n",
    "To calculate the variance-  \n",
    "\n",
    "- we start by calculating the distance between each point and the mean, so we get one number for every data point. \n",
    "\n",
    "- We then square each distance\n",
    "\n",
    "- then add them all together. \n",
    "\n",
    "- Finally, we divide the sum of squared distances by the number of data points minus 1, giving us the variance. \n",
    "\n",
    "\n",
    "<img src=\"var-1.jpg\" style=\"max-width:800px\">\n",
    "\n",
    "\n",
    "<img src=\"var-3.jpg\" style=\"max-width:800px\">\n",
    "\n",
    "\n",
    "The higher the variance, the more spread out the data is. It's important to note that the units of variance are squared, so in this case, it's 19-point-8 hours squared.\n",
    "\n",
    "\n",
    "We can calculate the variance in one step using np-dot-var, setting the ddof argument to 1. If we don't specify ddof equals 1, a slightly different formula is used to calculate variance that should only be used on a full population, not a sample."
   ]
  },
  {
   "cell_type": "markdown",
   "id": "ff9524f4",
   "metadata": {},
   "source": [
    "###  Standard deviation\n",
    "\n",
    "The standard deviation is another measure of spread, calculated by taking the square root of the variance. It can be calculated using np-dot-std. Just like np-dot-var, we need to set ddof to 1. \n",
    "\n",
    "<img src=\"std.jpg\" style=\"max-width:800px\">\n",
    "\n",
    "The nice thing about standard deviation is that the units are usually easier to understand since they're not squared. It's easier to wrap your head around 4.5 hours than 19.8 hours squared."
   ]
  },
  {
   "cell_type": "markdown",
   "id": "af56b5de",
   "metadata": {},
   "source": [
    "###  Mean absolute deviation\n",
    "\n",
    "Mean absolute deviation takes the absolute value of the distances to the mean, and then takes the mean of those differences. While this is similar to standard deviation, it's not exactly the same. \n",
    "\n",
    "<img src=\"mad.jpg\" style=\"max-width:800px\">\n",
    "<img src=\"mad-2.jpg\" style=\"max-width:800px\">\n",
    "\n",
    "Standard deviation squares distances, so longer distances are penalized more than shorter ones, while mean absolute deviation penalizes each distance equally. One isn't better than the other, but SD is more common than MAD."
   ]
  },
  {
   "cell_type": "code",
   "execution_count": null,
   "id": "b14def75",
   "metadata": {},
   "outputs": [],
   "source": []
  },
  {
   "cell_type": "markdown",
   "id": "d5058803",
   "metadata": {},
   "source": [
    "## Exercise 3: Variance and standard deviation\n",
    "\n",
    "Variance and standard deviation are two of the most common ways to measure the spread of a variable, and you'll practice calculating these in this exercise. Spread is important since it can help inform expectations. \n",
    "\n",
    "For example, if a salesperson sells a mean of 20 products a day, but has a standard deviation of 10 products, there will probably be days where they sell 40 products, but also days where they only sell one or two. \n",
    "\n",
    "Information like this is important, especially when making predictions.\n",
    "\n",
    "- Calculate the variance and standard deviation of co2_emission for each food_category by grouping and aggregating.\n",
    "\n",
    "\n",
    "- Create a histogram of co2_emission for the beef food_category and show the plot.\n",
    "\n",
    "\n",
    "- Create a histogram of co2_emission for the eggs food_category and show the plot."
   ]
  },
  {
   "cell_type": "code",
   "execution_count": 49,
   "id": "888888cb",
   "metadata": {},
   "outputs": [
    {
     "data": {
      "text/html": [
       "<div>\n",
       "<style scoped>\n",
       "    .dataframe tbody tr th:only-of-type {\n",
       "        vertical-align: middle;\n",
       "    }\n",
       "\n",
       "    .dataframe tbody tr th {\n",
       "        vertical-align: top;\n",
       "    }\n",
       "\n",
       "    .dataframe thead th {\n",
       "        text-align: right;\n",
       "    }\n",
       "</style>\n",
       "<table border=\"1\" class=\"dataframe\">\n",
       "  <thead>\n",
       "    <tr style=\"text-align: right;\">\n",
       "      <th></th>\n",
       "      <th>var</th>\n",
       "      <th>std</th>\n",
       "    </tr>\n",
       "    <tr>\n",
       "      <th>food_category</th>\n",
       "      <th></th>\n",
       "      <th></th>\n",
       "    </tr>\n",
       "  </thead>\n",
       "  <tbody>\n",
       "    <tr>\n",
       "      <th>beef</th>\n",
       "      <td>88748.408132</td>\n",
       "      <td>297.906710</td>\n",
       "    </tr>\n",
       "    <tr>\n",
       "      <th>dairy</th>\n",
       "      <td>17671.891985</td>\n",
       "      <td>132.935669</td>\n",
       "    </tr>\n",
       "    <tr>\n",
       "      <th>eggs</th>\n",
       "      <td>21.371819</td>\n",
       "      <td>4.622966</td>\n",
       "    </tr>\n",
       "    <tr>\n",
       "      <th>fish</th>\n",
       "      <td>921.637349</td>\n",
       "      <td>30.358481</td>\n",
       "    </tr>\n",
       "    <tr>\n",
       "      <th>lamb_goat</th>\n",
       "      <td>16475.518363</td>\n",
       "      <td>128.356996</td>\n",
       "    </tr>\n",
       "    <tr>\n",
       "      <th>nuts</th>\n",
       "      <td>35.639652</td>\n",
       "      <td>5.969895</td>\n",
       "    </tr>\n",
       "    <tr>\n",
       "      <th>pork</th>\n",
       "      <td>3094.963537</td>\n",
       "      <td>55.632396</td>\n",
       "    </tr>\n",
       "    <tr>\n",
       "      <th>poultry</th>\n",
       "      <td>245.026801</td>\n",
       "      <td>15.653332</td>\n",
       "    </tr>\n",
       "    <tr>\n",
       "      <th>rice</th>\n",
       "      <td>2281.376243</td>\n",
       "      <td>47.763754</td>\n",
       "    </tr>\n",
       "    <tr>\n",
       "      <th>soybeans</th>\n",
       "      <td>0.879882</td>\n",
       "      <td>0.938020</td>\n",
       "    </tr>\n",
       "    <tr>\n",
       "      <th>wheat</th>\n",
       "      <td>71.023937</td>\n",
       "      <td>8.427570</td>\n",
       "    </tr>\n",
       "  </tbody>\n",
       "</table>\n",
       "</div>"
      ],
      "text/plain": [
       "                        var         std\n",
       "food_category                          \n",
       "beef           88748.408132  297.906710\n",
       "dairy          17671.891985  132.935669\n",
       "eggs              21.371819    4.622966\n",
       "fish             921.637349   30.358481\n",
       "lamb_goat      16475.518363  128.356996\n",
       "nuts              35.639652    5.969895\n",
       "pork            3094.963537   55.632396\n",
       "poultry          245.026801   15.653332\n",
       "rice            2281.376243   47.763754\n",
       "soybeans           0.879882    0.938020\n",
       "wheat             71.023937    8.427570"
      ]
     },
     "execution_count": 49,
     "metadata": {},
     "output_type": "execute_result"
    }
   ],
   "source": [
    "## q1: Calculate the variance and standard deviation of co2_emission for each food_category by grouping and aggregating.\n",
    "food_consumption.groupby('food_category')[\"co2_emission\"].agg([np.var, np.std])"
   ]
  },
  {
   "cell_type": "code",
   "execution_count": 51,
   "id": "3cf24c1c",
   "metadata": {},
   "outputs": [
    {
     "data": {
      "image/png": "[encoded data removed]",
      "text/plain": [
       "<Figure size 432x288 with 1 Axes>"
      ]
     },
     "metadata": {
      "needs_background": "light"
     },
     "output_type": "display_data"
    }
   ],
   "source": [
    "## q2: Create a histogram of co2_emission for the beef food_category and show the plot.\n",
    "plt.hist(food_consumption[food_consumption['food_category']=='beef']['co2_emission'])\n",
    "plt.show()"
   ]
  },
  {
   "cell_type": "code",
   "execution_count": 52,
   "id": "9e04460e",
   "metadata": {
    "scrolled": true
   },
   "outputs": [
    {
     "data": {
      "image/png": "[encoded data removed]",
      "text/plain": [
       "<Figure size 432x288 with 1 Axes>"
      ]
     },
     "metadata": {
      "needs_background": "light"
     },
     "output_type": "display_data"
    }
   ],
   "source": [
    "## q3: Create a histogram of co2_emission for the eggs food_category and show the plot.\n",
    "plt.hist(food_consumption[food_consumption['food_category']=='eggs']['co2_emission'])\n",
    "plt.show()"
   ]
  },
  {
   "cell_type": "code",
   "execution_count": null,
   "id": "90f94243",
   "metadata": {},
   "outputs": [],
   "source": []
  },
  {
   "cell_type": "markdown",
   "id": "e4482dd2",
   "metadata": {},
   "source": [
    "### Quantiles\n",
    "\n",
    "Before we discuss the next measure of spread, let's quickly talk about quantiles. `Quantiles, also called percentiles`, split up the data into some number of equal parts. \n",
    "\n",
    "<img src=\"q.jpg\" style=\"max-width:800px\">\n",
    "\n",
    "Here, we call np-dot-quantile, passing in the column of interest, followed by point-5. This gives us 10-point-1 hours, so 50% of mammals in the dataset sleep less than 10-point-1 hours a day, and the other 50% sleep more than 10-point-1 hours, so this is exactly the same as the median. \n",
    "\n",
    "\n",
    "### Quartiles\n",
    "\n",
    "<img src=\"q-1.jpg\" style=\"max-width:800px\">\n",
    "\n",
    "We can also pass in a list of numbers to get multiple quantiles at once. Here, we split the data into 4 equal parts. These are also called quartiles. This means that 25% of the data is between 1-point-9 and 7-point-85, another 25% is between 7-point-85 and 10-point-10, and so on.\n",
    "\n",
    "### Boxplots use quartiles\n",
    "\n",
    "<img src=\"q-2.jpg\" style=\"max-width:800px\">\n",
    "\n",
    "The boxes in box plots represent quartiles. The bottom of the box is the first quartile, and the top of the box is the third quartile. The middle line is the second quartile, or the median."
   ]
  },
  {
   "cell_type": "markdown",
   "id": "cf1e4ca2",
   "metadata": {},
   "source": [
    "### Quantiles using np.linspace()\n",
    "\n",
    "<img src=\"q-4.jpg\" style=\"max-width:800px\">\n",
    "\n",
    "Here, we split the data in five equal pieces, but we can also use np-dot-linspace as a shortcut, which takes in the starting number, the stopping number, and the number intervals. We can compute the same quantiles using np-dot-linspace starting at zero, stopping at one, splitting into 5 different intervals."
   ]
  },
  {
   "cell_type": "code",
   "execution_count": null,
   "id": "a511ae75",
   "metadata": {},
   "outputs": [],
   "source": []
  },
  {
   "cell_type": "markdown",
   "id": "c35313b9",
   "metadata": {},
   "source": [
    "## Exercise 4: Quartiles, quantiles, and quintiles\n",
    "\n",
    "Quantiles are a great way of summarizing numerical data since they can be used to measure center and spread, as well as to get a sense of where a data point stands in relation to the rest of the data set. For example, you might want to give a discount to the 10% most active users on a website.\n",
    "\n",
    "In this exercise, you'll calculate quartiles, quintiles, and deciles, which split up a dataset into 4, 5, and 10 pieces, respectively.\n",
    "\n",
    "- Calculate the quartiles of the co2_emission column of food_consumption.\n",
    "\n",
    "\n",
    "- Calculate the six quantiles that split up the data into 5 pieces (quintiles) of the co2_emission column of food_consumption.\n",
    "\n",
    "\n",
    "- Calculate the eleven quantiles of co2_emission that split up the data into ten pieces (deciles)."
   ]
  },
  {
   "cell_type": "code",
   "execution_count": 45,
   "id": "17b58574",
   "metadata": {},
   "outputs": [
    {
     "data": {
      "text/html": [
       "<div>\n",
       "<style scoped>\n",
       "    .dataframe tbody tr th:only-of-type {\n",
       "        vertical-align: middle;\n",
       "    }\n",
       "\n",
       "    .dataframe tbody tr th {\n",
       "        vertical-align: top;\n",
       "    }\n",
       "\n",
       "    .dataframe thead th {\n",
       "        text-align: right;\n",
       "    }\n",
       "</style>\n",
       "<table border=\"1\" class=\"dataframe\">\n",
       "  <thead>\n",
       "    <tr style=\"text-align: right;\">\n",
       "      <th></th>\n",
       "      <th>country</th>\n",
       "      <th>food_category</th>\n",
       "      <th>consumption</th>\n",
       "      <th>co2_emission</th>\n",
       "    </tr>\n",
       "  </thead>\n",
       "  <tbody>\n",
       "    <tr>\n",
       "      <th>0</th>\n",
       "      <td>Argentina</td>\n",
       "      <td>pork</td>\n",
       "      <td>10.51</td>\n",
       "      <td>37.20</td>\n",
       "    </tr>\n",
       "    <tr>\n",
       "      <th>1</th>\n",
       "      <td>Argentina</td>\n",
       "      <td>poultry</td>\n",
       "      <td>38.66</td>\n",
       "      <td>41.53</td>\n",
       "    </tr>\n",
       "    <tr>\n",
       "      <th>2</th>\n",
       "      <td>Argentina</td>\n",
       "      <td>beef</td>\n",
       "      <td>55.48</td>\n",
       "      <td>1712.00</td>\n",
       "    </tr>\n",
       "    <tr>\n",
       "      <th>3</th>\n",
       "      <td>Argentina</td>\n",
       "      <td>lamb_goat</td>\n",
       "      <td>1.56</td>\n",
       "      <td>54.63</td>\n",
       "    </tr>\n",
       "    <tr>\n",
       "      <th>4</th>\n",
       "      <td>Argentina</td>\n",
       "      <td>fish</td>\n",
       "      <td>4.36</td>\n",
       "      <td>6.96</td>\n",
       "    </tr>\n",
       "  </tbody>\n",
       "</table>\n",
       "</div>"
      ],
      "text/plain": [
       "     country food_category  consumption  co2_emission\n",
       "0  Argentina          pork        10.51         37.20\n",
       "1  Argentina       poultry        38.66         41.53\n",
       "2  Argentina          beef        55.48       1712.00\n",
       "3  Argentina     lamb_goat         1.56         54.63\n",
       "4  Argentina          fish         4.36          6.96"
      ]
     },
     "execution_count": 45,
     "metadata": {},
     "output_type": "execute_result"
    }
   ],
   "source": [
    "food_consumption.head()"
   ]
  },
  {
   "cell_type": "code",
   "execution_count": 46,
   "id": "306fb7e5",
   "metadata": {},
   "outputs": [
    {
     "data": {
      "text/plain": [
       "array([   0.    ,    5.21  ,   16.53  ,   62.5975, 1712.    ])"
      ]
     },
     "execution_count": 46,
     "metadata": {},
     "output_type": "execute_result"
    }
   ],
   "source": [
    "## q1: Calculate the quartiles of the co2_emission column of food_consumption.\n",
    "quartiles = np.quantile(food_consumption['co2_emission'], np.linspace(0,1,5))\n",
    "quartiles"
   ]
  },
  {
   "cell_type": "code",
   "execution_count": 47,
   "id": "e48a3620",
   "metadata": {},
   "outputs": [
    {
     "data": {
      "text/plain": [
       "array([   0.   ,    3.54 ,   11.026,   25.59 ,   99.978, 1712.   ])"
      ]
     },
     "execution_count": 47,
     "metadata": {},
     "output_type": "execute_result"
    }
   ],
   "source": [
    "## q2: Calculate the six quantiles that split up the data into 5 pieces (quintiles) of the co2_emission column of food_consumption.\n",
    "quintiles = np.quantile(food_consumption['co2_emission'], np.linspace(0,1,6))\n",
    "quintiles"
   ]
  },
  {
   "cell_type": "code",
   "execution_count": 48,
   "id": "07275817",
   "metadata": {},
   "outputs": [
    {
     "data": {
      "text/plain": [
       "array([0.00000e+00, 6.68000e-01, 3.54000e+00, 7.04000e+00, 1.10260e+01,\n",
       "       1.65300e+01, 2.55900e+01, 4.42710e+01, 9.99780e+01, 2.03629e+02,\n",
       "       1.71200e+03])"
      ]
     },
     "execution_count": 48,
     "metadata": {},
     "output_type": "execute_result"
    }
   ],
   "source": [
    "## q3: Calculate the eleven quantiles of co2_emission that split up the data into ten pieces (deciles).\n",
    "deciles = np.quantile(food_consumption['co2_emission'], np.linspace(0,1,11))\n",
    "deciles"
   ]
  },
  {
   "cell_type": "code",
   "execution_count": null,
   "id": "34d91f4e",
   "metadata": {},
   "outputs": [],
   "source": []
  },
  {
   "cell_type": "markdown",
   "id": "a6d0d9ac",
   "metadata": {},
   "source": [
    "### Interquartile range (IQR)\n",
    "\n",
    "The interquartile range, or IQR, is another measure of spread. It's the distance between the 25th and 75th percentile, which is also the height of the box in a boxplot. \n",
    "\n",
    "<img src=\"q-5.jpg\" style=\"max-width:800px\">\n",
    "\n",
    "We can calculate it using the quantile function, or using the iqr function from scipy-dot-stats to get 5-point-9 hours."
   ]
  },
  {
   "cell_type": "markdown",
   "id": "2588bac4",
   "metadata": {},
   "source": [
    "### Outliers\n",
    "\n",
    "Outliers are data points that are substantially different from the others. But how do we know what a substantial difference is? \n",
    "\n",
    "<img src=\"out.jpg\" style=\"max-width:800px\">\n",
    "\n",
    "<img src=\"out-3.jpg\" style=\"max-width:800px\">\n",
    "\n",
    "A rule that's often used is that any data point less than the first quartile minus 1-point-5 times the IQR is an outlier, as well as any point greater than the third quartile plus 1-point-5 times the IQR.\n",
    "\n",
    "### Finding outliers\n",
    "\n",
    "<img src=\"out-2.jpg\" style=\"max-width:800px\">\n",
    "\n",
    "- To find outliers, we'll start by calculating the IQR of the mammals' body weights. \n",
    "\n",
    "- We can then calculate the lower and upper thresholds following the formulas from the previous slide. \n",
    "\n",
    "- We can now subset the DataFrame to find mammals whose body weight is below or above the thresholds. \n"
   ]
  },
  {
   "cell_type": "code",
   "execution_count": null,
   "id": "424d543b",
   "metadata": {},
   "outputs": [],
   "source": []
  },
  {
   "cell_type": "markdown",
   "id": "bb7154b4",
   "metadata": {},
   "source": [
    "## Exercise 5: Finding outliers using IQR\n",
    "\n",
    "Outliers can have big effects on statistics like mean, as well as statistics that rely on the mean, such as variance and standard deviation. \n",
    "\n",
    "Interquartile range, or IQR, is another way of measuring spread that's less influenced by outliers. IQR is also often used to find outliers. If a value is less than  or greater than , it's considered an outlier. \n",
    "\n",
    "In this exercise, you'll calculate IQR and use it to find some outliers.\n",
    "\n",
    "\n",
    "- Calculate the total co2_emission per country by grouping by country and taking the sum of co2_emission. Store the resulting DataFrame as emissions_by_country.\n",
    "\n",
    "\n",
    "- Compute the first and third quartiles of emissions_by_country and store these as q1 and q3.\n",
    "\n",
    "\n",
    "- Calculate the interquartile range of emissions_by_country and store it as iqr.\n",
    "\n",
    "\n",
    "- Calculate the lower and upper cutoffs for outliers of emissions_by_country, and store these as lower and upper.\n",
    "\n",
    "\n",
    "- Subset emissions_by_country to get countries with a total emission greater than the upper cutoff or a total emission less than the lower cutoff.\n"
   ]
  },
  {
   "cell_type": "code",
   "execution_count": 53,
   "id": "4a5c3b4b",
   "metadata": {},
   "outputs": [
    {
     "data": {
      "text/html": [
       "<div>\n",
       "<style scoped>\n",
       "    .dataframe tbody tr th:only-of-type {\n",
       "        vertical-align: middle;\n",
       "    }\n",
       "\n",
       "    .dataframe tbody tr th {\n",
       "        vertical-align: top;\n",
       "    }\n",
       "\n",
       "    .dataframe thead th {\n",
       "        text-align: right;\n",
       "    }\n",
       "</style>\n",
       "<table border=\"1\" class=\"dataframe\">\n",
       "  <thead>\n",
       "    <tr style=\"text-align: right;\">\n",
       "      <th></th>\n",
       "      <th>country</th>\n",
       "      <th>food_category</th>\n",
       "      <th>consumption</th>\n",
       "      <th>co2_emission</th>\n",
       "    </tr>\n",
       "  </thead>\n",
       "  <tbody>\n",
       "    <tr>\n",
       "      <th>0</th>\n",
       "      <td>Argentina</td>\n",
       "      <td>pork</td>\n",
       "      <td>10.51</td>\n",
       "      <td>37.20</td>\n",
       "    </tr>\n",
       "    <tr>\n",
       "      <th>1</th>\n",
       "      <td>Argentina</td>\n",
       "      <td>poultry</td>\n",
       "      <td>38.66</td>\n",
       "      <td>41.53</td>\n",
       "    </tr>\n",
       "    <tr>\n",
       "      <th>2</th>\n",
       "      <td>Argentina</td>\n",
       "      <td>beef</td>\n",
       "      <td>55.48</td>\n",
       "      <td>1712.00</td>\n",
       "    </tr>\n",
       "    <tr>\n",
       "      <th>3</th>\n",
       "      <td>Argentina</td>\n",
       "      <td>lamb_goat</td>\n",
       "      <td>1.56</td>\n",
       "      <td>54.63</td>\n",
       "    </tr>\n",
       "    <tr>\n",
       "      <th>4</th>\n",
       "      <td>Argentina</td>\n",
       "      <td>fish</td>\n",
       "      <td>4.36</td>\n",
       "      <td>6.96</td>\n",
       "    </tr>\n",
       "  </tbody>\n",
       "</table>\n",
       "</div>"
      ],
      "text/plain": [
       "     country food_category  consumption  co2_emission\n",
       "0  Argentina          pork        10.51         37.20\n",
       "1  Argentina       poultry        38.66         41.53\n",
       "2  Argentina          beef        55.48       1712.00\n",
       "3  Argentina     lamb_goat         1.56         54.63\n",
       "4  Argentina          fish         4.36          6.96"
      ]
     },
     "execution_count": 53,
     "metadata": {},
     "output_type": "execute_result"
    }
   ],
   "source": [
    "food_consumption.head()"
   ]
  },
  {
   "cell_type": "code",
   "execution_count": 55,
   "id": "8c2aa2a9",
   "metadata": {},
   "outputs": [
    {
     "data": {
      "text/plain": [
       "country\n",
       "Albania      1777.85\n",
       "Algeria       707.88\n",
       "Angola        412.99\n",
       "Argentina    2172.40\n",
       "Armenia      1109.93\n",
       "              ...   \n",
       "Uruguay      1634.91\n",
       "Venezuela    1104.10\n",
       "Vietnam       641.51\n",
       "Zambia        225.30\n",
       "Zimbabwe      350.33\n",
       "Name: co2_emission, Length: 130, dtype: float64"
      ]
     },
     "execution_count": 55,
     "metadata": {},
     "output_type": "execute_result"
    }
   ],
   "source": [
    "## q1: 1) Calculate the total co2_emission per country by grouping by country and taking the sum of co2_emission. \n",
    "##    2) Store the resulting DataFrame as emissions_by_country.\n",
    "\n",
    "emissions_by_country = food_consumption.groupby('country')[\"co2_emission\"].sum()\n",
    "emissions_by_country"
   ]
  },
  {
   "cell_type": "code",
   "execution_count": 56,
   "id": "f4ba76c8",
   "metadata": {},
   "outputs": [
    {
     "name": "stdout",
     "output_type": "stream",
     "text": [
      "446.65999999999997\n",
      "1111.1524999999997\n"
     ]
    }
   ],
   "source": [
    "## q2: Compute the first and third quartiles of emissions_by_country and store these as q1 and q3.\n",
    "\n",
    "q1 = np.quantile(emissions_by_country, 0.25)\n",
    "print(q1)\n",
    "\n",
    "q3 = np.quantile(emissions_by_country, 0.75)\n",
    "print(q3)"
   ]
  },
  {
   "cell_type": "code",
   "execution_count": 57,
   "id": "8c8de6fd",
   "metadata": {},
   "outputs": [
    {
     "data": {
      "text/plain": [
       "664.4924999999997"
      ]
     },
     "execution_count": 57,
     "metadata": {},
     "output_type": "execute_result"
    }
   ],
   "source": [
    "## q3: Calculate the interquartile range of emissions_by_country and store it as iqr.\n",
    "iqr = q3-q1\n",
    "iqr"
   ]
  },
  {
   "cell_type": "code",
   "execution_count": 58,
   "id": "97952c36",
   "metadata": {},
   "outputs": [
    {
     "name": "stdout",
     "output_type": "stream",
     "text": [
      "-550.0787499999996\n",
      "2107.891249999999\n"
     ]
    }
   ],
   "source": [
    "## q4: Calculate the lower and upper cutoffs for outliers of emissions_by_country, and store these as lower and upper.\n",
    "lower = q1 - 1.5 * iqr\n",
    "print(lower)\n",
    "\n",
    "upper = q3 + 1.5 * iqr\n",
    "print(upper)"
   ]
  },
  {
   "cell_type": "code",
   "execution_count": 59,
   "id": "cbd2f729",
   "metadata": {},
   "outputs": [
    {
     "data": {
      "text/plain": [
       "country\n",
       "Albania      1777.85\n",
       "Algeria       707.88\n",
       "Angola        412.99\n",
       "Argentina    2172.40\n",
       "Armenia      1109.93\n",
       "              ...   \n",
       "Uruguay      1634.91\n",
       "Venezuela    1104.10\n",
       "Vietnam       641.51\n",
       "Zambia        225.30\n",
       "Zimbabwe      350.33\n",
       "Name: co2_emission, Length: 130, dtype: float64"
      ]
     },
     "execution_count": 59,
     "metadata": {},
     "output_type": "execute_result"
    }
   ],
   "source": [
    "emissions_by_country"
   ]
  },
  {
   "cell_type": "code",
   "execution_count": 60,
   "id": "ee8cc713",
   "metadata": {},
   "outputs": [
    {
     "data": {
      "text/plain": [
       "country\n",
       "Argentina    2172.4\n",
       "Name: co2_emission, dtype: float64"
      ]
     },
     "execution_count": 60,
     "metadata": {},
     "output_type": "execute_result"
    }
   ],
   "source": [
    "## q5: Subset emissions_by_country to get countries with -\n",
    "##     a total emission greater than the upper cutoff or a total emission less than the lower cutoff.\n",
    "\n",
    "outliers = emissions_by_country[(emissions_by_country < lower) | (emissions_by_country > upper)]\n",
    "outliers"
   ]
  },
  {
   "cell_type": "markdown",
   "id": "2fef6a4d",
   "metadata": {},
   "source": [
    " It looks like Argentina has a substantially higher amount of CO2 emissions per person than other countries in the world."
   ]
  },
  {
   "cell_type": "code",
   "execution_count": null,
   "id": "9070c6f4",
   "metadata": {},
   "outputs": [],
   "source": []
  },
  {
   "cell_type": "code",
   "execution_count": null,
   "id": "deb2347f",
   "metadata": {},
   "outputs": [],
   "source": []
  }
 ],
 "metadata": {
  "kernelspec": {
   "display_name": "Python 3",
   "language": "python",
   "name": "python3"
  },
  "language_info": {
   "codemirror_mode": {
    "name": "ipython",
    "version": 3
   },
   "file_extension": ".py",
   "mimetype": "text/x-python",
   "name": "python",
   "nbconvert_exporter": "python",
   "pygments_lexer": "ipython3",
   "version": "3.8.8"
  }
 },
 "nbformat": 4,
 "nbformat_minor": 5
}

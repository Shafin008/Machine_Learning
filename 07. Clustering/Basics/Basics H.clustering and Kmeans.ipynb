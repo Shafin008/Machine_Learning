{
 "cells": [
  {
   "cell_type": "markdown",
   "id": "fbd54513",
   "metadata": {},
   "source": [
    "#### What is Unsupervised learning? \n",
    "\n",
    "It is an umbrella term for a group of machine learning algorithms that are used to find patterns. \n",
    "- The data that is used in these algorithms is not labeled, classified or characterized prior to running the algorithm. \n",
    "- The objective of the algorithm is to interpret any structure in the data. \n",
    "- Common unsupervised learning algorithms are clustering, anomaly detections, and neural networks. \n",
    "\n",
    "####  What is a cluster?\n",
    "A cluster is a group of items with similar characteristics. \n",
    "\n",
    "#### What is clustering?\n",
    "\n",
    "Clustering is the process of grouping items with similar characteristics. Items in one group similar to each other than in other groups. Clustering falls under the group of unsupervised learning algorithms as the data is not labeled, grouped or characterized beforehand. \n",
    "\n",
    "Example:\n",
    "1. ***The Google News:*** A cluster of news articles has similar words and word associations appearing in them.\n",
    "2. Another example of clustering is ***segmentation of customers*** based on their spending habits. A cluster of customers would exhibit similar spending habits."
   ]
  },
  {
   "cell_type": "markdown",
   "id": "65e69fb9",
   "metadata": {},
   "source": [
    "### Hierarchical Clustering\n",
    "\n",
    "Let us look at the steps in hierarchical clustering before the implementation. For demonstration purposes, let us consider 20 points on a 2D plane.\n",
    "\n",
    "**Step1:**\n",
    "\n",
    "In the first step, all the points are considered as individual clusters. A cluster center is a mean of attributes of all data points in a cluster. In this case, cluster centers will have two attributes - the mean of x and y coordinates. At this stage, cluster centers of all clusters are the coordinates of the individual points.\n",
    "\n",
    "**Step2:**\n",
    "\n",
    "Next, the distances between all pairs of cluster centers are computed and the two closest clusters are merged. The cluster center of the merged cluster is then recomputed. \n",
    "\n",
    "**Step3:**\n",
    "\n",
    "Then the clusters with the closest cluster centers are merged. This process of merging the two closest clusters continues until we arrive at the desired clusters. At every step, the number of clusters reduces by one. \n",
    "\n",
    "**Step4:**\n",
    "\n",
    "As visible from the distribution of points, let us stop at three clusters. Finally, these are three clusters that you arrive at after the algorithm has run.\n",
    "\n",
    "\n",
    "\n",
    "### Example: Pokémon sightings: hierarchical clustering\n",
    "\n",
    "There have been reports of sightings of rare, legendary Pokémon. You have been asked to investigate! \n",
    "A list of 20 points with x and y coordinates is given. Plot the coordinates of sightings to find out where the Pokémon might be."
   ]
  },
  {
   "cell_type": "code",
   "execution_count": 2,
   "id": "52ce897e",
   "metadata": {},
   "outputs": [],
   "source": [
    "import numpy as np\n",
    "import pandas as pd\n",
    "import matplotlib.pyplot as plt\n",
    "import seaborn as sns"
   ]
  },
  {
   "cell_type": "code",
   "execution_count": 1,
   "id": "4ef0c2e9",
   "metadata": {},
   "outputs": [],
   "source": [
    "x = [9, 6, 2, 3, 1, 7, 1, 6, 1, 7, 23, 26, 25, 23, 21, 23, 23, 20, 30, 23]\n",
    "y = [8, 4, 10, 6, 0, 4, 10, 10, 6, 1, 29, 25, 30, 29, 29, 30, 25, 27, 26, 30]"
   ]
  },
  {
   "cell_type": "markdown",
   "id": "16dd6e50",
   "metadata": {},
   "source": [
    "#### Plotting data for clustering - the scatter plot\n",
    "\n",
    "As a preliminary analysis before you perform any clustering analysis on the points, visualizing helps you understand how many natural clusters are present in the data."
   ]
  },
  {
   "cell_type": "code",
   "execution_count": 3,
   "id": "796a627a",
   "metadata": {
    "scrolled": true
   },
   "outputs": [
    {
     "name": "stderr",
     "output_type": "stream",
     "text": [
      "C:\\Users\\User\\anaconda3\\lib\\site-packages\\seaborn\\_decorators.py:36: FutureWarning: Pass the following variables as keyword args: x, y. From version 0.12, the only valid positional argument will be `data`, and passing other arguments without an explicit keyword will result in an error or misinterpretation.\n",
      "  warnings.warn(\n"
     ]
    },
    {
     "data": {
      "text/plain": [
       "<AxesSubplot:>"
      ]
     },
     "execution_count": 3,
     "metadata": {},
     "output_type": "execute_result"
    },
    {
     "data": {
      "image/png": "[encoded data removed]",
      "text/plain": [
       "<Figure size 432x288 with 1 Axes>"
      ]
     },
     "metadata": {
      "needs_background": "light"
     },
     "output_type": "display_data"
    }
   ],
   "source": [
    "## First visualize this points for gaining insights\n",
    "\n",
    "sns.scatterplot(x, y)"
   ]
  },
  {
   "cell_type": "markdown",
   "id": "1ceabe6c",
   "metadata": {},
   "source": [
    "In the scatter plot we can see that there are two areas where Pokémon sightings are dense. This means that the points seem to separate into two clusters. Now, we will form two clusters of the sightings using hierarchical clustering.\n",
    "\n",
    "First we'll create a dataframe with the list of 20 points with x and y coordinates is stored in . "
   ]
  },
  {
   "cell_type": "code",
   "execution_count": 5,
   "id": "45d1aa68",
   "metadata": {},
   "outputs": [
    {
     "data": {
      "text/html": [
       "<div>\n",
       "<style scoped>\n",
       "    .dataframe tbody tr th:only-of-type {\n",
       "        vertical-align: middle;\n",
       "    }\n",
       "\n",
       "    .dataframe tbody tr th {\n",
       "        vertical-align: top;\n",
       "    }\n",
       "\n",
       "    .dataframe thead th {\n",
       "        text-align: right;\n",
       "    }\n",
       "</style>\n",
       "<table border=\"1\" class=\"dataframe\">\n",
       "  <thead>\n",
       "    <tr style=\"text-align: right;\">\n",
       "      <th></th>\n",
       "      <th>x_coordinate</th>\n",
       "      <th>y_coordinate</th>\n",
       "    </tr>\n",
       "  </thead>\n",
       "  <tbody>\n",
       "    <tr>\n",
       "      <th>0</th>\n",
       "      <td>9</td>\n",
       "      <td>8</td>\n",
       "    </tr>\n",
       "    <tr>\n",
       "      <th>1</th>\n",
       "      <td>6</td>\n",
       "      <td>4</td>\n",
       "    </tr>\n",
       "    <tr>\n",
       "      <th>2</th>\n",
       "      <td>2</td>\n",
       "      <td>10</td>\n",
       "    </tr>\n",
       "    <tr>\n",
       "      <th>3</th>\n",
       "      <td>3</td>\n",
       "      <td>6</td>\n",
       "    </tr>\n",
       "    <tr>\n",
       "      <th>4</th>\n",
       "      <td>1</td>\n",
       "      <td>0</td>\n",
       "    </tr>\n",
       "  </tbody>\n",
       "</table>\n",
       "</div>"
      ],
      "text/plain": [
       "   x_coordinate  y_coordinate\n",
       "0             9             8\n",
       "1             6             4\n",
       "2             2            10\n",
       "3             3             6\n",
       "4             1             0"
      ]
     },
     "execution_count": 5,
     "metadata": {},
     "output_type": "execute_result"
    }
   ],
   "source": [
    "## A list of 20 points with x and y coordinates is stored in a dataframe.\n",
    "\n",
    "df = pd.DataFrame({\"x_coordinate\": x, 'y_coordinate':y})\n",
    "df.head()"
   ]
  },
  {
   "cell_type": "markdown",
   "id": "58b826f1",
   "metadata": {},
   "source": [
    "#### Hierarchical clustering in SciPy\n",
    "\n",
    "Let us now look at its simple implementation in SciPy. The required methods for hierarchical clustering, linkage and fcluster, are stored in scipy-dot-cluster-dot-hierarchy. "
   ]
  },
  {
   "cell_type": "code",
   "execution_count": 6,
   "id": "a612e9e2",
   "metadata": {},
   "outputs": [],
   "source": [
    "from scipy.cluster.hierarchy import linkage, fcluster"
   ]
  },
  {
   "cell_type": "markdown",
   "id": "fd3bdd2f",
   "metadata": {},
   "source": [
    "The linkage method computes distances between intermediate clusters. "
   ]
  },
  {
   "cell_type": "code",
   "execution_count": 8,
   "id": "46e59e07",
   "metadata": {},
   "outputs": [],
   "source": [
    "## Use the linkage() function to compute distances using the ward method.\n",
    "\n",
    "Z = linkage(df, \"ward\")\n",
    "#Z"
   ]
  },
  {
   "cell_type": "markdown",
   "id": "1ad72063",
   "metadata": {},
   "source": [
    "The fcluster method generates clusters and assigns associated cluster labels to a new column in the dataframe."
   ]
  },
  {
   "cell_type": "code",
   "execution_count": 11,
   "id": "b15df0b6",
   "metadata": {},
   "outputs": [
    {
     "data": {
      "text/html": [
       "<div>\n",
       "<style scoped>\n",
       "    .dataframe tbody tr th:only-of-type {\n",
       "        vertical-align: middle;\n",
       "    }\n",
       "\n",
       "    .dataframe tbody tr th {\n",
       "        vertical-align: top;\n",
       "    }\n",
       "\n",
       "    .dataframe thead th {\n",
       "        text-align: right;\n",
       "    }\n",
       "</style>\n",
       "<table border=\"1\" class=\"dataframe\">\n",
       "  <thead>\n",
       "    <tr style=\"text-align: right;\">\n",
       "      <th></th>\n",
       "      <th>x_coordinate</th>\n",
       "      <th>y_coordinate</th>\n",
       "      <th>cluster_labels</th>\n",
       "    </tr>\n",
       "  </thead>\n",
       "  <tbody>\n",
       "    <tr>\n",
       "      <th>0</th>\n",
       "      <td>9</td>\n",
       "      <td>8</td>\n",
       "      <td>2</td>\n",
       "    </tr>\n",
       "    <tr>\n",
       "      <th>1</th>\n",
       "      <td>6</td>\n",
       "      <td>4</td>\n",
       "      <td>2</td>\n",
       "    </tr>\n",
       "    <tr>\n",
       "      <th>2</th>\n",
       "      <td>2</td>\n",
       "      <td>10</td>\n",
       "      <td>2</td>\n",
       "    </tr>\n",
       "    <tr>\n",
       "      <th>3</th>\n",
       "      <td>3</td>\n",
       "      <td>6</td>\n",
       "      <td>2</td>\n",
       "    </tr>\n",
       "    <tr>\n",
       "      <th>4</th>\n",
       "      <td>1</td>\n",
       "      <td>0</td>\n",
       "      <td>2</td>\n",
       "    </tr>\n",
       "  </tbody>\n",
       "</table>\n",
       "</div>"
      ],
      "text/plain": [
       "   x_coordinate  y_coordinate  cluster_labels\n",
       "0             9             8               2\n",
       "1             6             4               2\n",
       "2             2            10               2\n",
       "3             3             6               2\n",
       "4             1             0               2"
      ]
     },
     "execution_count": 11,
     "metadata": {},
     "output_type": "execute_result"
    }
   ],
   "source": [
    "# Generate cluster labels for each data point with two clusters using the fcluster() function.\n",
    "\n",
    "df['cluster_labels'] = fcluster(Z, 2, criterion='maxclust') ## \"2\" is for 2 clusters\n",
    "df.head()"
   ]
  },
  {
   "cell_type": "markdown",
   "id": "ca4211cc",
   "metadata": {},
   "source": [
    "Finally, we plot the points using seaborn with the cluster labels as the hue argument to associate clusters with different colors."
   ]
  },
  {
   "cell_type": "code",
   "execution_count": 13,
   "id": "34751d17",
   "metadata": {},
   "outputs": [
    {
     "data": {
      "image/png": "[encoded data removed]",
      "text/plain": [
       "<Figure size 432x288 with 1 Axes>"
      ]
     },
     "metadata": {
      "needs_background": "light"
     },
     "output_type": "display_data"
    }
   ],
   "source": [
    "# Plot the points with seaborn\n",
    "sns.scatterplot(x=\"x_coordinate\", y=\"y_coordinate\", hue='cluster_labels', data=df)\n",
    "plt.show()"
   ]
  },
  {
   "cell_type": "markdown",
   "id": "b20dc0f4",
   "metadata": {},
   "source": [
    "Here is the result of the seaborn scatterplot, showing the 2 clusters."
   ]
  },
  {
   "cell_type": "markdown",
   "id": "deaa6787",
   "metadata": {},
   "source": [
    "### K-Means Clustering:\n",
    "\n",
    "Now, we'll discuss the algorithm of k-means clustering for this example\n",
    "\n",
    "**Step1:**\n",
    "First, a random cluster center is generated for each of the three clusters.\n",
    "\n",
    "**Step2:**\n",
    "Next, the distance to these cluster centers is computed for each point to assign to the closest cluster.\n",
    "\n",
    "**Step3:**\n",
    "The cluster centers are recomputed. This iteration of assigning points to the recomputed cluster centers is performed a predefined number of times. \n",
    "\n",
    "### Example: Pokémon sightings: k-means clustering\n",
    "\n",
    "Just like the previous exercise, we will use the same example of Pokémon sightings. In this exercise, you will form clusters of the sightings using k-means clustering."
   ]
  },
  {
   "cell_type": "markdown",
   "id": "b85a5c22",
   "metadata": {},
   "source": [
    "#### K-means clustering in SciPy\n",
    "\n",
    "K-means clustering is implemented using methods kmeans and vq of scipy-dot-cluster-dot-vq."
   ]
  },
  {
   "cell_type": "code",
   "execution_count": 37,
   "id": "9d407b0c",
   "metadata": {},
   "outputs": [],
   "source": [
    "x = [9.0, 6.0, 2.0, 3.0, 1.0, 7.0, 1.0, 6.0, 1.0, 7.0, 23.0, 26.0, 25.0, 23.0, 21.0, 23.0, 23.0, 20.0, 30.0, 23.0]\n",
    "y = [8.0, 4.0, 10.0, 6.0, 0.0, 4.0, 10.0, 10.0, 6.0, 1.0, 29.0, 25.0, 30.0, 29.0, 29.0, 30.0, 25.0, 27.0, 26.0, 30.0]"
   ]
  },
  {
   "cell_type": "code",
   "execution_count": 38,
   "id": "db4c7fdb",
   "metadata": {},
   "outputs": [
    {
     "data": {
      "text/html": [
       "<div>\n",
       "<style scoped>\n",
       "    .dataframe tbody tr th:only-of-type {\n",
       "        vertical-align: middle;\n",
       "    }\n",
       "\n",
       "    .dataframe tbody tr th {\n",
       "        vertical-align: top;\n",
       "    }\n",
       "\n",
       "    .dataframe thead th {\n",
       "        text-align: right;\n",
       "    }\n",
       "</style>\n",
       "<table border=\"1\" class=\"dataframe\">\n",
       "  <thead>\n",
       "    <tr style=\"text-align: right;\">\n",
       "      <th></th>\n",
       "      <th>x_coordinate</th>\n",
       "      <th>y_coordinate</th>\n",
       "    </tr>\n",
       "  </thead>\n",
       "  <tbody>\n",
       "    <tr>\n",
       "      <th>0</th>\n",
       "      <td>9.0</td>\n",
       "      <td>8.0</td>\n",
       "    </tr>\n",
       "    <tr>\n",
       "      <th>1</th>\n",
       "      <td>6.0</td>\n",
       "      <td>4.0</td>\n",
       "    </tr>\n",
       "    <tr>\n",
       "      <th>2</th>\n",
       "      <td>2.0</td>\n",
       "      <td>10.0</td>\n",
       "    </tr>\n",
       "    <tr>\n",
       "      <th>3</th>\n",
       "      <td>3.0</td>\n",
       "      <td>6.0</td>\n",
       "    </tr>\n",
       "    <tr>\n",
       "      <th>4</th>\n",
       "      <td>1.0</td>\n",
       "      <td>0.0</td>\n",
       "    </tr>\n",
       "  </tbody>\n",
       "</table>\n",
       "</div>"
      ],
      "text/plain": [
       "   x_coordinate  y_coordinate\n",
       "0           9.0           8.0\n",
       "1           6.0           4.0\n",
       "2           2.0          10.0\n",
       "3           3.0           6.0\n",
       "4           1.0           0.0"
      ]
     },
     "execution_count": 38,
     "metadata": {},
     "output_type": "execute_result"
    }
   ],
   "source": [
    "## A list of 20 points with x and y coordinates is stored in a dataframe.\n",
    "\n",
    "df = pd.DataFrame({\"x_coordinate\": x, 'y_coordinate': y})\n",
    "df.head()"
   ]
  },
  {
   "cell_type": "code",
   "execution_count": 39,
   "id": "18394c28",
   "metadata": {},
   "outputs": [],
   "source": [
    "from scipy.cluster.vq import kmeans, vq"
   ]
  },
  {
   "cell_type": "markdown",
   "id": "2ec1012f",
   "metadata": {},
   "source": [
    "The centroids of the clusters are computed using kmeans."
   ]
  },
  {
   "cell_type": "code",
   "execution_count": 40,
   "id": "0a4e0b04",
   "metadata": {},
   "outputs": [],
   "source": [
    "# Compute cluster centers\n",
    "centroids, distortion = kmeans(df, 2) ## \"2\" is for 2 clusters"
   ]
  },
  {
   "cell_type": "code",
   "execution_count": 41,
   "id": "3b3908e1",
   "metadata": {},
   "outputs": [
    {
     "data": {
      "text/plain": [
       "array([[23.7, 28. ],\n",
       "       [ 4.3,  5.9]])"
      ]
     },
     "execution_count": 41,
     "metadata": {},
     "output_type": "execute_result"
    }
   ],
   "source": [
    "centroids"
   ]
  },
  {
   "cell_type": "code",
   "execution_count": 42,
   "id": "9d91f227",
   "metadata": {},
   "outputs": [
    {
     "data": {
      "text/plain": [
       "3.5804428772109915"
      ]
     },
     "execution_count": 42,
     "metadata": {},
     "output_type": "execute_result"
    }
   ],
   "source": [
    "distortion"
   ]
  },
  {
   "cell_type": "markdown",
   "id": "8aa0d320",
   "metadata": {},
   "source": [
    "Cluster label assignments for each point are done through vq"
   ]
  },
  {
   "cell_type": "code",
   "execution_count": 43,
   "id": "e28b9c7b",
   "metadata": {},
   "outputs": [],
   "source": [
    "# Assign cluster labels\n",
    "df['cluster_labels'], dist = vq(df, centroids)"
   ]
  },
  {
   "cell_type": "code",
   "execution_count": 44,
   "id": "97dbbcb3",
   "metadata": {
    "scrolled": true
   },
   "outputs": [
    {
     "data": {
      "text/plain": [
       "0     1\n",
       "1     1\n",
       "2     1\n",
       "3     1\n",
       "4     1\n",
       "5     1\n",
       "6     1\n",
       "7     1\n",
       "8     1\n",
       "9     1\n",
       "10    0\n",
       "11    0\n",
       "12    0\n",
       "13    0\n",
       "14    0\n",
       "15    0\n",
       "16    0\n",
       "17    0\n",
       "18    0\n",
       "19    0\n",
       "Name: cluster_labels, dtype: int32"
      ]
     },
     "execution_count": 44,
     "metadata": {},
     "output_type": "execute_result"
    }
   ],
   "source": [
    "df['cluster_labels']"
   ]
  },
  {
   "cell_type": "code",
   "execution_count": 45,
   "id": "d1e8836d",
   "metadata": {},
   "outputs": [
    {
     "data": {
      "text/plain": [
       "array([5.14781507, 2.54950976, 4.70106371, 1.30384048, 6.76017751,\n",
       "       3.3015148 , 5.26307895, 4.4384682 , 3.3015148 , 5.59464029,\n",
       "       1.22065556, 3.78021163, 2.38537209, 1.22065556, 2.87923601,\n",
       "       2.11896201, 3.08058436, 3.83275358, 6.60984115, 2.11896201])"
      ]
     },
     "execution_count": 45,
     "metadata": {},
     "output_type": "execute_result"
    }
   ],
   "source": [
    "dist"
   ]
  },
  {
   "cell_type": "markdown",
   "id": "0bfeb040",
   "metadata": {},
   "source": [
    "The second argument in both methods is distortion, which we capture in a dummy variable."
   ]
  },
  {
   "cell_type": "markdown",
   "id": "045699a0",
   "metadata": {},
   "source": [
    "Finally, we plot the clusters using seaborn."
   ]
  },
  {
   "cell_type": "code",
   "execution_count": 46,
   "id": "0c00c630",
   "metadata": {},
   "outputs": [
    {
     "data": {
      "image/png": "[encoded data removed]",
      "text/plain": [
       "<Figure size 432x288 with 1 Axes>"
      ]
     },
     "metadata": {
      "needs_background": "light"
     },
     "output_type": "display_data"
    }
   ],
   "source": [
    "# Plot the points with seaborn\n",
    "sns.scatterplot(x=\"x_coordinate\", y=\"y_coordinate\", hue='cluster_labels', data=df)\n",
    "plt.show()"
   ]
  },
  {
   "cell_type": "markdown",
   "id": "8c8286a2",
   "metadata": {},
   "source": [
    "###  Data preparation for cluster analysis\n",
    "\n",
    "let us discuss an important step in processing data that we should apply before performing clustering. Why do we need to prepare data for clustering? \n",
    "\n",
    "Imagine a situation where you have a set of variables with incomparable units - such as the dimensions of a product and its price. Even if variables have the same unit, they may be significantly different in terms of their scales and variances. If we use data in this raw form, the results of clustering may be biased. The clusters formed may be dependent on one variable significantly more than the other. How do we account for these issues, then? \n",
    "\n",
    "We use a process called normalization.\n",
    "\n",
    "#### Normalization of data\n",
    "\n",
    "It is a process by which we rescale the values of a variable with respect to standard deviation of the data.\n",
    "\n",
    "The process of normalization is achieved through dividing a value by its standard deviation. The resultant standard deviation post normalization is 1. \n",
    "\n",
    "A normalization library is available on the `SciPy` package,using the `whiten` method of the `vq` class. First, we initiate the data to be normalized in a list and then use the whiten method, to transform. The array may be one or multi dimensional. "
   ]
  },
  {
   "cell_type": "code",
   "execution_count": 58,
   "id": "6012d16c",
   "metadata": {},
   "outputs": [
    {
     "data": {
      "text/plain": [
       "array([3.07692308, 2.30769231, 1.53846154, 2.30769231, 0.76923077,\n",
       "       0.76923077, 1.53846154, 0.        , 0.76923077, 3.07692308])"
      ]
     },
     "execution_count": 58,
     "metadata": {},
     "output_type": "execute_result"
    }
   ],
   "source": [
    "# Import the whiten function\n",
    "from scipy.cluster.vq import whiten\n",
    "\n",
    "goals_for = [4,3,2,3,1,1,2,0,1,4]\n",
    "\n",
    "# Use the whiten() function to standardize the data\n",
    "scaled_data = whiten(goals_for)\n",
    "scaled_data"
   ]
  },
  {
   "cell_type": "code",
   "execution_count": 59,
   "id": "395ec7fd",
   "metadata": {},
   "outputs": [
    {
     "data": {
      "image/png": "[encoded data removed]",
      "text/plain": [
       "<Figure size 432x288 with 1 Axes>"
      ]
     },
     "metadata": {
      "needs_background": "light"
     },
     "output_type": "display_data"
    }
   ],
   "source": [
    "# Plot original data\n",
    "plt.plot(goals_for, label='original')\n",
    "\n",
    "# Plot scaled data\n",
    "plt.plot(scaled_data, label='scaled')\n",
    "\n",
    "# Show the legend in the plot\n",
    "plt.legend()\n",
    "\n",
    "# Display the plot\n",
    "plt.show()"
   ]
  },
  {
   "cell_type": "markdown",
   "id": "fb1cec55",
   "metadata": {},
   "source": [
    "As you can see by using Normalization, the variation in the scaled data has been toned down from the original data. Interestingly, the trends remain similar to the original data though."
   ]
  },
  {
   "cell_type": "markdown",
   "id": "5a4ff205",
   "metadata": {},
   "source": [
    "### Example: FIFA 18: Normalize data\n",
    "\n",
    "FIFA 18 is a football video game that was released in 2017 for PC and consoles. The dataset that you are about to work on contains data on the 1000 top individual players in the game. \n",
    "\n",
    "You will explore various features of the data as we move ahead in the course. In this exercise, you will work with two columns, eur_wage, the wage of a player in Euros and eur_value, their current transfer market value."
   ]
  },
  {
   "cell_type": "code",
   "execution_count": 49,
   "id": "b7025941",
   "metadata": {
    "scrolled": true
   },
   "outputs": [
    {
     "data": {
      "text/html": [
       "<div>\n",
       "<style scoped>\n",
       "    .dataframe tbody tr th:only-of-type {\n",
       "        vertical-align: middle;\n",
       "    }\n",
       "\n",
       "    .dataframe tbody tr th {\n",
       "        vertical-align: top;\n",
       "    }\n",
       "\n",
       "    .dataframe thead th {\n",
       "        text-align: right;\n",
       "    }\n",
       "</style>\n",
       "<table border=\"1\" class=\"dataframe\">\n",
       "  <thead>\n",
       "    <tr style=\"text-align: right;\">\n",
       "      <th></th>\n",
       "      <th>ID</th>\n",
       "      <th>name</th>\n",
       "      <th>full_name</th>\n",
       "      <th>club</th>\n",
       "      <th>club_logo</th>\n",
       "      <th>special</th>\n",
       "      <th>age</th>\n",
       "      <th>league</th>\n",
       "      <th>birth_date</th>\n",
       "      <th>height_cm</th>\n",
       "      <th>...</th>\n",
       "      <th>prefers_cb</th>\n",
       "      <th>prefers_lb</th>\n",
       "      <th>prefers_lwb</th>\n",
       "      <th>prefers_ls</th>\n",
       "      <th>prefers_lf</th>\n",
       "      <th>prefers_lam</th>\n",
       "      <th>prefers_lcm</th>\n",
       "      <th>prefers_ldm</th>\n",
       "      <th>prefers_lcb</th>\n",
       "      <th>prefers_gk</th>\n",
       "    </tr>\n",
       "  </thead>\n",
       "  <tbody>\n",
       "    <tr>\n",
       "      <th>0</th>\n",
       "      <td>20801</td>\n",
       "      <td>Cristiano Ronaldo</td>\n",
       "      <td>C. Ronaldo dos Santos Aveiro</td>\n",
       "      <td>Real Madrid CF</td>\n",
       "      <td>https://cdn.sofifa.org/18/teams/243.png</td>\n",
       "      <td>2228</td>\n",
       "      <td>32</td>\n",
       "      <td>Spanish Primera División</td>\n",
       "      <td>1985-02-05</td>\n",
       "      <td>185.0</td>\n",
       "      <td>...</td>\n",
       "      <td>False</td>\n",
       "      <td>False</td>\n",
       "      <td>False</td>\n",
       "      <td>False</td>\n",
       "      <td>False</td>\n",
       "      <td>False</td>\n",
       "      <td>False</td>\n",
       "      <td>False</td>\n",
       "      <td>False</td>\n",
       "      <td>False</td>\n",
       "    </tr>\n",
       "    <tr>\n",
       "      <th>1</th>\n",
       "      <td>158023</td>\n",
       "      <td>L. Messi</td>\n",
       "      <td>Lionel Messi</td>\n",
       "      <td>FC Barcelona</td>\n",
       "      <td>https://cdn.sofifa.org/18/teams/241.png</td>\n",
       "      <td>2158</td>\n",
       "      <td>30</td>\n",
       "      <td>Spanish Primera División</td>\n",
       "      <td>1987-06-24</td>\n",
       "      <td>170.0</td>\n",
       "      <td>...</td>\n",
       "      <td>False</td>\n",
       "      <td>False</td>\n",
       "      <td>False</td>\n",
       "      <td>False</td>\n",
       "      <td>False</td>\n",
       "      <td>False</td>\n",
       "      <td>False</td>\n",
       "      <td>False</td>\n",
       "      <td>False</td>\n",
       "      <td>False</td>\n",
       "    </tr>\n",
       "    <tr>\n",
       "      <th>2</th>\n",
       "      <td>190871</td>\n",
       "      <td>Neymar</td>\n",
       "      <td>Neymar da Silva Santos Jr.</td>\n",
       "      <td>Paris Saint-Germain</td>\n",
       "      <td>https://cdn.sofifa.org/18/teams/73.png</td>\n",
       "      <td>2100</td>\n",
       "      <td>25</td>\n",
       "      <td>French Ligue 1</td>\n",
       "      <td>1992-02-05</td>\n",
       "      <td>175.0</td>\n",
       "      <td>...</td>\n",
       "      <td>False</td>\n",
       "      <td>False</td>\n",
       "      <td>False</td>\n",
       "      <td>False</td>\n",
       "      <td>False</td>\n",
       "      <td>False</td>\n",
       "      <td>False</td>\n",
       "      <td>False</td>\n",
       "      <td>False</td>\n",
       "      <td>False</td>\n",
       "    </tr>\n",
       "    <tr>\n",
       "      <th>3</th>\n",
       "      <td>176580</td>\n",
       "      <td>L. Suárez</td>\n",
       "      <td>Luis Suárez</td>\n",
       "      <td>FC Barcelona</td>\n",
       "      <td>https://cdn.sofifa.org/18/teams/241.png</td>\n",
       "      <td>2291</td>\n",
       "      <td>30</td>\n",
       "      <td>Spanish Primera División</td>\n",
       "      <td>1987-01-24</td>\n",
       "      <td>182.0</td>\n",
       "      <td>...</td>\n",
       "      <td>False</td>\n",
       "      <td>False</td>\n",
       "      <td>False</td>\n",
       "      <td>False</td>\n",
       "      <td>False</td>\n",
       "      <td>False</td>\n",
       "      <td>False</td>\n",
       "      <td>False</td>\n",
       "      <td>False</td>\n",
       "      <td>False</td>\n",
       "    </tr>\n",
       "    <tr>\n",
       "      <th>4</th>\n",
       "      <td>167495</td>\n",
       "      <td>M. Neuer</td>\n",
       "      <td>Manuel Neuer</td>\n",
       "      <td>FC Bayern Munich</td>\n",
       "      <td>https://cdn.sofifa.org/18/teams/21.png</td>\n",
       "      <td>1493</td>\n",
       "      <td>31</td>\n",
       "      <td>German Bundesliga</td>\n",
       "      <td>1986-03-27</td>\n",
       "      <td>193.0</td>\n",
       "      <td>...</td>\n",
       "      <td>False</td>\n",
       "      <td>False</td>\n",
       "      <td>False</td>\n",
       "      <td>False</td>\n",
       "      <td>False</td>\n",
       "      <td>False</td>\n",
       "      <td>False</td>\n",
       "      <td>False</td>\n",
       "      <td>False</td>\n",
       "      <td>True</td>\n",
       "    </tr>\n",
       "  </tbody>\n",
       "</table>\n",
       "<p>5 rows × 185 columns</p>\n",
       "</div>"
      ],
      "text/plain": [
       "       ID               name                     full_name  \\\n",
       "0   20801  Cristiano Ronaldo  C. Ronaldo dos Santos Aveiro   \n",
       "1  158023           L. Messi                  Lionel Messi   \n",
       "2  190871             Neymar    Neymar da Silva Santos Jr.   \n",
       "3  176580          L. Suárez                   Luis Suárez   \n",
       "4  167495           M. Neuer                  Manuel Neuer   \n",
       "\n",
       "                  club                                club_logo  special  age  \\\n",
       "0       Real Madrid CF  https://cdn.sofifa.org/18/teams/243.png     2228   32   \n",
       "1         FC Barcelona  https://cdn.sofifa.org/18/teams/241.png     2158   30   \n",
       "2  Paris Saint-Germain   https://cdn.sofifa.org/18/teams/73.png     2100   25   \n",
       "3         FC Barcelona  https://cdn.sofifa.org/18/teams/241.png     2291   30   \n",
       "4     FC Bayern Munich   https://cdn.sofifa.org/18/teams/21.png     1493   31   \n",
       "\n",
       "                     league  birth_date  height_cm  ...  prefers_cb  \\\n",
       "0  Spanish Primera División  1985-02-05      185.0  ...       False   \n",
       "1  Spanish Primera División  1987-06-24      170.0  ...       False   \n",
       "2            French Ligue 1  1992-02-05      175.0  ...       False   \n",
       "3  Spanish Primera División  1987-01-24      182.0  ...       False   \n",
       "4         German Bundesliga  1986-03-27      193.0  ...       False   \n",
       "\n",
       "  prefers_lb  prefers_lwb prefers_ls prefers_lf prefers_lam  prefers_lcm  \\\n",
       "0      False        False      False      False       False        False   \n",
       "1      False        False      False      False       False        False   \n",
       "2      False        False      False      False       False        False   \n",
       "3      False        False      False      False       False        False   \n",
       "4      False        False      False      False       False        False   \n",
       "\n",
       "   prefers_ldm  prefers_lcb  prefers_gk  \n",
       "0        False        False       False  \n",
       "1        False        False       False  \n",
       "2        False        False       False  \n",
       "3        False        False       False  \n",
       "4        False        False        True  \n",
       "\n",
       "[5 rows x 185 columns]"
      ]
     },
     "execution_count": 49,
     "metadata": {},
     "output_type": "execute_result"
    }
   ],
   "source": [
    "fifa = pd.read_csv(\"fifa_18_sample_data.csv\")\n",
    "fifa.head(5)"
   ]
  },
  {
   "cell_type": "markdown",
   "id": "ac105c21",
   "metadata": {},
   "source": [
    "Scale the values of eur_wage and eur_value using the whiten() function."
   ]
  },
  {
   "cell_type": "code",
   "execution_count": 52,
   "id": "086f2557",
   "metadata": {},
   "outputs": [
    {
     "data": {
      "text/plain": [
       "0    9.112425\n",
       "1    9.112425\n",
       "2    4.515892\n",
       "3    8.225375\n",
       "4    3.709483\n",
       "Name: scaled_wage, dtype: float64"
      ]
     },
     "execution_count": 52,
     "metadata": {},
     "output_type": "execute_result"
    }
   ],
   "source": [
    "fifa['scaled_wage'] = whiten(fifa[\"eur_wage\"])\n",
    "#fifa['scaled_wage'].head()"
   ]
  },
  {
   "cell_type": "code",
   "execution_count": 54,
   "id": "84e9a76b",
   "metadata": {},
   "outputs": [
    {
     "data": {
      "image/png": "[encoded data removed]",
      "text/plain": [
       "<Figure size 432x288 with 1 Axes>"
      ]
     },
     "metadata": {
      "needs_background": "light"
     },
     "output_type": "display_data"
    }
   ],
   "source": [
    "# Plot original data\n",
    "plt.plot(fifa[\"eur_wage\"], label='original')\n",
    "\n",
    "# Plot scaled data\n",
    "plt.plot(fifa['scaled_wage'], label='scaled')\n",
    "\n",
    "plt.legend()\n",
    "plt.show()"
   ]
  },
  {
   "cell_type": "code",
   "execution_count": 51,
   "id": "6d47ca0b",
   "metadata": {
    "scrolled": true
   },
   "outputs": [
    {
     "data": {
      "text/plain": [
       "0    6.975431\n",
       "1    7.669323\n",
       "2    8.984064\n",
       "3    7.084993\n",
       "4    4.455511\n",
       "Name: scaled_value, dtype: float64"
      ]
     },
     "execution_count": 51,
     "metadata": {},
     "output_type": "execute_result"
    }
   ],
   "source": [
    "fifa['scaled_value'] = whiten(fifa[\"eur_value\"])\n",
    "#fifa['scaled_value'].head()"
   ]
  },
  {
   "cell_type": "code",
   "execution_count": 55,
   "id": "81a67fc4",
   "metadata": {},
   "outputs": [
    {
     "data": {
      "image/png": "[encoded data removed]",
      "text/plain": [
       "<Figure size 432x288 with 1 Axes>"
      ]
     },
     "metadata": {
      "needs_background": "light"
     },
     "output_type": "display_data"
    }
   ],
   "source": [
    "# Plot original data\n",
    "plt.plot(fifa[\"eur_value\"], label='original')\n",
    "\n",
    "# Plot scaled data\n",
    "plt.plot(fifa['scaled_value'], label='scaled')\n",
    "\n",
    "plt.legend()\n",
    "plt.show()"
   ]
  },
  {
   "cell_type": "code",
   "execution_count": 53,
   "id": "384a05cb",
   "metadata": {},
   "outputs": [
    {
     "data": {
      "image/png": "[encoded data removed]",
      "text/plain": [
       "<Figure size 432x288 with 1 Axes>"
      ]
     },
     "metadata": {
      "needs_background": "light"
     },
     "output_type": "display_data"
    }
   ],
   "source": [
    "# Plot the two columns in a scatter plot\n",
    "fifa.plot(x=\"scaled_wage\", y='scaled_value', kind='scatter')\n",
    "plt.show()"
   ]
  },
  {
   "cell_type": "code",
   "execution_count": 57,
   "id": "b8796ff8",
   "metadata": {},
   "outputs": [
    {
     "data": {
      "text/html": [
       "<div>\n",
       "<style scoped>\n",
       "    .dataframe tbody tr th:only-of-type {\n",
       "        vertical-align: middle;\n",
       "    }\n",
       "\n",
       "    .dataframe tbody tr th {\n",
       "        vertical-align: top;\n",
       "    }\n",
       "\n",
       "    .dataframe thead th {\n",
       "        text-align: right;\n",
       "    }\n",
       "</style>\n",
       "<table border=\"1\" class=\"dataframe\">\n",
       "  <thead>\n",
       "    <tr style=\"text-align: right;\">\n",
       "      <th></th>\n",
       "      <th>scaled_wage</th>\n",
       "      <th>scaled_value</th>\n",
       "    </tr>\n",
       "  </thead>\n",
       "  <tbody>\n",
       "    <tr>\n",
       "      <th>count</th>\n",
       "      <td>1000.000000</td>\n",
       "      <td>1000.000000</td>\n",
       "    </tr>\n",
       "    <tr>\n",
       "      <th>mean</th>\n",
       "      <td>1.119812</td>\n",
       "      <td>1.306272</td>\n",
       "    </tr>\n",
       "    <tr>\n",
       "      <th>std</th>\n",
       "      <td>1.000500</td>\n",
       "      <td>1.000500</td>\n",
       "    </tr>\n",
       "    <tr>\n",
       "      <th>min</th>\n",
       "      <td>0.000000</td>\n",
       "      <td>0.000000</td>\n",
       "    </tr>\n",
       "    <tr>\n",
       "      <th>25%</th>\n",
       "      <td>0.467717</td>\n",
       "      <td>0.730412</td>\n",
       "    </tr>\n",
       "    <tr>\n",
       "      <th>50%</th>\n",
       "      <td>0.854794</td>\n",
       "      <td>1.022576</td>\n",
       "    </tr>\n",
       "    <tr>\n",
       "      <th>75%</th>\n",
       "      <td>1.407184</td>\n",
       "      <td>1.542995</td>\n",
       "    </tr>\n",
       "    <tr>\n",
       "      <th>max</th>\n",
       "      <td>9.112425</td>\n",
       "      <td>8.984064</td>\n",
       "    </tr>\n",
       "  </tbody>\n",
       "</table>\n",
       "</div>"
      ],
      "text/plain": [
       "       scaled_wage  scaled_value\n",
       "count  1000.000000   1000.000000\n",
       "mean      1.119812      1.306272\n",
       "std       1.000500      1.000500\n",
       "min       0.000000      0.000000\n",
       "25%       0.467717      0.730412\n",
       "50%       0.854794      1.022576\n",
       "75%       1.407184      1.542995\n",
       "max       9.112425      8.984064"
      ]
     },
     "execution_count": 57,
     "metadata": {},
     "output_type": "execute_result"
    }
   ],
   "source": [
    "# Check mean and standard deviation of scaled values\n",
    "## The resultant standard deviation post normalization will always be 1.\n",
    "\n",
    "fifa[['scaled_wage', 'scaled_value']].describe()"
   ]
  },
  {
   "cell_type": "code",
   "execution_count": null,
   "id": "298f9b4a",
   "metadata": {},
   "outputs": [],
   "source": []
  },
  {
   "cell_type": "code",
   "execution_count": null,
   "id": "907d5fb6",
   "metadata": {},
   "outputs": [],
   "source": []
  },
  {
   "cell_type": "code",
   "execution_count": null,
   "id": "284f2414",
   "metadata": {},
   "outputs": [],
   "source": []
  },
  {
   "cell_type": "code",
   "execution_count": null,
   "id": "8d5a4caa",
   "metadata": {},
   "outputs": [],
   "source": []
  }
 ],
 "metadata": {
  "kernelspec": {
   "display_name": "Python 3 (ipykernel)",
   "language": "python",
   "name": "python3"
  },
  "language_info": {
   "codemirror_mode": {
    "name": "ipython",
    "version": 3
   },
   "file_extension": ".py",
   "mimetype": "text/x-python",
   "name": "python",
   "nbconvert_exporter": "python",
   "pygments_lexer": "ipython3",
   "version": "3.8.13"
  }
 },
 "nbformat": 4,
 "nbformat_minor": 5
}

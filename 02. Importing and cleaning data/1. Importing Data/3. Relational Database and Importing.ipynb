{
 "cells": [
  {
   "cell_type": "code",
   "execution_count": 1,
   "id": "1028f5da",
   "metadata": {},
   "outputs": [],
   "source": [
    "import pandas as pd"
   ]
  },
  {
   "cell_type": "markdown",
   "id": "07fc70e5",
   "metadata": {},
   "source": [
    "Here, you're going to fire up your very first SQL engine. You'll create an engine to connect to the SQLite database `'Chinook.sqlite'`\n",
    "\n",
    "Here, `\"sqlite:///Chinook.sqlite\"` is called the `connection string` to the `SQLite database Chinook.sqlite`"
   ]
  },
  {
   "cell_type": "code",
   "execution_count": 21,
   "id": "a3244165",
   "metadata": {},
   "outputs": [],
   "source": [
    "# Import necessary module\n",
    "from sqlalchemy import create_engine\n",
    "\n",
    "# Create engine: engine\n",
    "engine = create_engine(\"sqlite:///Chinook.sqlite\")"
   ]
  },
  {
   "cell_type": "markdown",
   "id": "65dd023a",
   "metadata": {},
   "source": [
    "### Ex 1:\n",
    "\n",
    "In this exercise, you'll once again create an engine to connect to `'Chinook.sqlite'`. Before you can get any data out of the database, however, you'll need to know what `tables` it contains!\n",
    "\n",
    "To this end, you'll save the `table names` to a `list` using the method `table_names()` on the engine and then you will print the list."
   ]
  },
  {
   "cell_type": "code",
   "execution_count": 22,
   "id": "c4b04833",
   "metadata": {},
   "outputs": [
    {
     "name": "stdout",
     "output_type": "stream",
     "text": [
      "['Album', 'Artist', 'Customer', 'Employee', 'Genre', 'Invoice', 'InvoiceLine', 'MediaType', 'Playlist', 'PlaylistTrack', 'Track']\n"
     ]
    },
    {
     "name": "stderr",
     "output_type": "stream",
     "text": [
      "<ipython-input-22-3e3a234ef054>:8: SADeprecationWarning: The Engine.table_names() method is deprecated and will be removed in a future release.  Please refer to Inspector.get_table_names(). (deprecated since: 1.4)\n",
      "  table_names = engine.table_names()\n"
     ]
    }
   ],
   "source": [
    "# Import the function create_engine from the module sqlalchemy\n",
    "from sqlalchemy import create_engine\n",
    "\n",
    "# Create an engine to connect to the SQLite database 'Chinook.sqlite' and assign it to engine.\n",
    "engine = create_engine(\"sqlite:///Chinook.sqlite\")\n",
    "\n",
    "# Using the method table_names() on the engine engine, assign the table names of 'Chinook.sqlite' to the variable table_names.\n",
    "table_names = engine.table_names()\n",
    "\n",
    "# Print the table names to the shell\n",
    "print(table_names)"
   ]
  },
  {
   "cell_type": "code",
   "execution_count": 23,
   "id": "4206e717",
   "metadata": {},
   "outputs": [],
   "source": [
    "## Query : Getting Data out from the Database\n",
    "\n",
    "## To return all the columns of the table we use \"SELECT\" and \"FROM\"\n",
    " \n",
    "## SELECT * FROM Table_Name ---->> It'll return all the columns of all rows of the table "
   ]
  },
  {
   "cell_type": "markdown",
   "id": "bcc7d682",
   "metadata": {},
   "source": [
    "### Work flow of SQL querying\n",
    "\n",
    "### EX 2:\n",
    "\n",
    "Now, it's time for liftoff! In this exercise, you'll perform the Hello World of SQL queries, `SELECT`, in order to `retrieve all columns` of the table `Album` in the `Chinook database`. Recall that the query `SELECT *` selects `all columns`."
   ]
  },
  {
   "cell_type": "code",
   "execution_count": 2,
   "id": "965e1219",
   "metadata": {},
   "outputs": [
    {
     "name": "stdout",
     "output_type": "stream",
     "text": [
      "   EmployeeId LastName FirstName                Title  ReportsTo  \\\n",
      "0           1    Adams    Andrew      General Manager        NaN   \n",
      "1           2  Edwards     Nancy        Sales Manager        1.0   \n",
      "2           3  Peacock      Jane  Sales Support Agent        2.0   \n",
      "3           4     Park  Margaret  Sales Support Agent        2.0   \n",
      "4           5  Johnson     Steve  Sales Support Agent        2.0   \n",
      "\n",
      "             BirthDate             HireDate              Address      City  \\\n",
      "0  1962-02-18 00:00:00  2002-08-14 00:00:00  11120 Jasper Ave NW  Edmonton   \n",
      "1  1958-12-08 00:00:00  2002-05-01 00:00:00         825 8 Ave SW   Calgary   \n",
      "2  1973-08-29 00:00:00  2002-04-01 00:00:00        1111 6 Ave SW   Calgary   \n",
      "3  1947-09-19 00:00:00  2003-05-03 00:00:00     683 10 Street SW   Calgary   \n",
      "4  1965-03-03 00:00:00  2003-10-17 00:00:00         7727B 41 Ave   Calgary   \n",
      "\n",
      "  State Country PostalCode              Phone                Fax  \\\n",
      "0    AB  Canada    T5K 2N1  +1 (780) 428-9482  +1 (780) 428-3457   \n",
      "1    AB  Canada    T2P 2T3  +1 (403) 262-3443  +1 (403) 262-3322   \n",
      "2    AB  Canada    T2P 5M5  +1 (403) 262-3443  +1 (403) 262-6712   \n",
      "3    AB  Canada    T2P 5G3  +1 (403) 263-4423  +1 (403) 263-4289   \n",
      "4    AB  Canada    T3B 1Y7   1 (780) 836-9987   1 (780) 836-9543   \n",
      "\n",
      "                      Email  \n",
      "0    andrew@chinookcorp.com  \n",
      "1     nancy@chinookcorp.com  \n",
      "2      jane@chinookcorp.com  \n",
      "3  margaret@chinookcorp.com  \n",
      "4     steve@chinookcorp.com  \n"
     ]
    }
   ],
   "source": [
    "# Import packages and functions\n",
    "\n",
    "from sqlalchemy import create_engine\n",
    "import pandas as pd\n",
    "\n",
    "# Create the database engine\n",
    "engine = create_engine(\"sqlite:///Chinook.sqlite\")\n",
    "\n",
    "# Connect to the engine\n",
    "# Open the engine connection as con using the method connect() on the engine.\n",
    "con = engine.connect()\n",
    "\n",
    "# Query the database\n",
    "# Execute the query that selects ALL columns from the Album table. Store the results in rs.\n",
    "rs = con.execute('SELECT * FROM Employee')\n",
    "\n",
    "# Save query results to a DataFrame df by applying the fetchall() method\n",
    "df = pd.DataFrame(rs.fetchall())\n",
    "\n",
    "# Using the rs object, set the DataFrame's column names to the corresponding names of the table columns.\n",
    "df.columns = rs.keys()\n",
    "\n",
    "# Close the connection\n",
    "con.close()\n",
    "\n",
    "# Print head of DataFrame df\n",
    "print(df.head())"
   ]
  },
  {
   "cell_type": "markdown",
   "id": "a9e1ac52",
   "metadata": {},
   "source": [
    "### Customizing the SQL Queries\n",
    "\n",
    "Now you're going to figure out how to customize your query in order to:\n",
    "\n",
    "1.Select `specified columns` from a table;\n",
    "\n",
    "2.Select a `specified number of rows`;\n",
    "\n",
    "3.Import `column names` from the database table."
   ]
  },
  {
   "cell_type": "code",
   "execution_count": 3,
   "id": "e8c8ec97",
   "metadata": {},
   "outputs": [],
   "source": [
    "## By Using the context manager \"with\" we no longer need to worry about closing the connection\n",
    "\n",
    "# The engine connection can be opened with the statement---\n",
    "with engine.connect() as con:\n",
    "    # We can Select specified columns from a table instead of all the columns\n",
    "    # Execute the SQL query that selects the columns LastName and Title from the Employee table.\n",
    "    # Store the results in the variable rs.\n",
    "    rs = con.execute(\"SELECT LastName, Title FROM Employee\")\n",
    "    \n",
    "    # We can use fetchmany() method to Select a specified number of rows instead of fetching all the rows\n",
    "    # Apply the method fetchmany() to rs in order to retrieve 3 of the records. Store them in the DataFrame df\n",
    "    df = pd.DataFrame(rs.fetchmany(size = 3))\n",
    "    \n",
    "    # Using the rs object, set the DataFrame's column names to the corresponding names of the table columns.\n",
    "    df.columns = rs.keys()"
   ]
  },
  {
   "cell_type": "code",
   "execution_count": 4,
   "id": "524890ba",
   "metadata": {},
   "outputs": [
    {
     "name": "stdout",
     "output_type": "stream",
     "text": [
      "3\n",
      "  LastName                Title\n",
      "0    Adams      General Manager\n",
      "1  Edwards        Sales Manager\n",
      "2  Peacock  Sales Support Agent\n"
     ]
    }
   ],
   "source": [
    "# Print the length of the DataFrame df\n",
    "print(len(df))\n",
    "\n",
    "# Print the head of the DataFrame df\n",
    "print(df.head())"
   ]
  },
  {
   "cell_type": "markdown",
   "id": "ab3c72a6",
   "metadata": {},
   "source": [
    "### Filtering your database records using SQL's WHERE\n",
    "\n",
    "There are a couple more standard SQL query chops that will aid you in your journey to becoming an SQL ninja.\n",
    "\n",
    "Let's say, for example that you wanted to get all records from the `Customer` table of the `Chinook database` for which the `Country` is `'Canada'`. You can do this very easily in SQL using a `SELECT` statement followed by a `WHERE` clause as follows:\n",
    "\n",
    "`SELECT * FROM Customer WHERE Country = 'Canada'`\n",
    "\n",
    "in fact, you can `filter` any `SELECT` statement by `any condition` using a `WHERE` clause. This is called `filtering your records.`\n",
    "\n",
    "### Ex 3:\n",
    "\n",
    "In this interactive exercise, you'll `select` all records of the `Employee` table for which `'EmployeeId'` is `greater than or equal to 6.`"
   ]
  },
  {
   "cell_type": "code",
   "execution_count": 7,
   "id": "fea76b4c",
   "metadata": {
    "scrolled": true
   },
   "outputs": [
    {
     "name": "stdout",
     "output_type": "stream",
     "text": [
      "   EmployeeId  LastName FirstName       Title  ReportsTo            BirthDate  \\\n",
      "0           6  Mitchell   Michael  IT Manager          1  1973-07-01 00:00:00   \n",
      "1           7      King    Robert    IT Staff          6  1970-05-29 00:00:00   \n",
      "2           8  Callahan     Laura    IT Staff          6  1968-01-09 00:00:00   \n",
      "\n",
      "              HireDate                      Address        City State Country  \\\n",
      "0  2003-10-17 00:00:00         5827 Bowness Road NW     Calgary    AB  Canada   \n",
      "1  2004-01-02 00:00:00  590 Columbia Boulevard West  Lethbridge    AB  Canada   \n",
      "2  2004-03-04 00:00:00                  923 7 ST NW  Lethbridge    AB  Canada   \n",
      "\n",
      "  PostalCode              Phone                Fax                    Email  \n",
      "0    T3B 0C5  +1 (403) 246-9887  +1 (403) 246-9899  michael@chinookcorp.com  \n",
      "1    T1K 5N8  +1 (403) 456-9986  +1 (403) 456-8485   robert@chinookcorp.com  \n",
      "2    T1H 1Y8  +1 (403) 467-3351  +1 (403) 467-8772    laura@chinookcorp.com  \n"
     ]
    }
   ],
   "source": [
    "# Complete the argument of create_engine() so that the engine for the SQLite database 'Chinook.sqlite' is created.\n",
    "engine = create_engine(\"sqlite:///Chinook.sqlite\")\n",
    "\n",
    "# Open engine in context manager\n",
    "with engine.connect() as con:\n",
    "\n",
    "    # Execute the query that selects all records from the Employee table where 'EmployeeId' is greater than or equal to 6.\n",
    "    # Use the >= operator and assign the results to rs.\n",
    "    rs = con.execute(\"SELECT * FROM Employee WHERE EmployeeId >= 6\")\n",
    "    \n",
    "    # Apply the method fetchall() to rs in order to fetch all records in rs. Store them in the DataFrame df.\n",
    "    df = pd.DataFrame(rs.fetchall())\n",
    "    \n",
    "    # Using the rs object, set the DataFrame's column names to the corresponding names of the table columns.\n",
    "    df.columns = rs.keys()\n",
    "\n",
    "# Print the head of the DataFrame df\n",
    "print(df.head())"
   ]
  },
  {
   "cell_type": "markdown",
   "id": "8a973dbe",
   "metadata": {},
   "source": [
    "### Ordering your SQL records with ORDER BY\n",
    "\n",
    "You can also `order` your SQL query results. For example, if you wanted to get all records from the `Customer` table of the `Chinook database` and order them `in increasing order` by the column `SupportRepId`, you could do so with the following query:\n",
    "\n",
    "`\"SELECT * FROM Customer ORDER BY SupportRepId\"`\n",
    "\n",
    "In fact, you can `order` `any SELECT` statement by `any column`.\n",
    "\n",
    "\n",
    "### Ex 4:\n",
    "\n",
    "In this interactive exercise, you'll `select` all records of the `Employee` table and `order` them in `increasing order` by the column `BirthDate`.\n"
   ]
  },
  {
   "cell_type": "code",
   "execution_count": 8,
   "id": "0a9c982b",
   "metadata": {},
   "outputs": [
    {
     "name": "stdout",
     "output_type": "stream",
     "text": [
      "   EmployeeId  LastName FirstName                Title  ReportsTo  \\\n",
      "0           4      Park  Margaret  Sales Support Agent        2.0   \n",
      "1           2   Edwards     Nancy        Sales Manager        1.0   \n",
      "2           1     Adams    Andrew      General Manager        NaN   \n",
      "3           5   Johnson     Steve  Sales Support Agent        2.0   \n",
      "4           8  Callahan     Laura             IT Staff        6.0   \n",
      "\n",
      "             BirthDate             HireDate              Address        City  \\\n",
      "0  1947-09-19 00:00:00  2003-05-03 00:00:00     683 10 Street SW     Calgary   \n",
      "1  1958-12-08 00:00:00  2002-05-01 00:00:00         825 8 Ave SW     Calgary   \n",
      "2  1962-02-18 00:00:00  2002-08-14 00:00:00  11120 Jasper Ave NW    Edmonton   \n",
      "3  1965-03-03 00:00:00  2003-10-17 00:00:00         7727B 41 Ave     Calgary   \n",
      "4  1968-01-09 00:00:00  2004-03-04 00:00:00          923 7 ST NW  Lethbridge   \n",
      "\n",
      "  State Country PostalCode              Phone                Fax  \\\n",
      "0    AB  Canada    T2P 5G3  +1 (403) 263-4423  +1 (403) 263-4289   \n",
      "1    AB  Canada    T2P 2T3  +1 (403) 262-3443  +1 (403) 262-3322   \n",
      "2    AB  Canada    T5K 2N1  +1 (780) 428-9482  +1 (780) 428-3457   \n",
      "3    AB  Canada    T3B 1Y7   1 (780) 836-9987   1 (780) 836-9543   \n",
      "4    AB  Canada    T1H 1Y8  +1 (403) 467-3351  +1 (403) 467-8772   \n",
      "\n",
      "                      Email  \n",
      "0  margaret@chinookcorp.com  \n",
      "1     nancy@chinookcorp.com  \n",
      "2    andrew@chinookcorp.com  \n",
      "3     steve@chinookcorp.com  \n",
      "4     laura@chinookcorp.com  \n"
     ]
    }
   ],
   "source": [
    "# Using the function create_engine(), \n",
    "# create an engine for the SQLite database Chinook.sqlite and assign it to the variable engine.\n",
    "engine = create_engine(\"sqlite:///Chinook.sqlite\")\n",
    "\n",
    "# Open engine in context manager \n",
    "with engine.connect() as con:\n",
    "    \n",
    "    # execute the query that selects all records from the Employee table \n",
    "    # and orders them in increasing order by the column BirthDate. Assign the result to rs.\n",
    "    rs = con.execute(\"SELECT * FROM Employee ORDER BY BirthDate\")\n",
    "    \n",
    "    # In a call to pd.DataFrame(), apply the method fetchall() to rs in order to fetch all records in rs. \n",
    "    # Store them in the DataFrame df.\n",
    "    df = pd.DataFrame(rs.fetchall())\n",
    "\n",
    "    # Set the DataFrame's column names to the corresponding names of the table columns.\n",
    "    df.columns = rs.keys()\n",
    "\n",
    "# Print head of DataFrame\n",
    "print(df.head())"
   ]
  },
  {
   "cell_type": "markdown",
   "id": "33546ec8",
   "metadata": {},
   "source": [
    "###  Relationships between tables: INNER JOIN\n",
    "\n",
    "To `INNER JOIN` the `Orders` and `Customers` tables from the `Northwind database`, Hugo executed the following SQL query:\n",
    "\n",
    "`\"SELECT OrderID, CompanyName FROM Orders INNER JOIN Customers on Orders.CustomerID = Customers.CustomerID\"`\n",
    "\n",
    "### Ex 5:\n",
    "\n",
    "Here, you'll perform your first `INNER JOIN`! You'll be working with your favourite SQLite database, `Chinook.sqlite`. For each record in the `Album` table, you'll extract the `Title` along with the `Name` of the Artist. The latter will come from the `Artist` table and so you will need to `INNER JOIN` these two tables on the `ArtistID` column of both."
   ]
  },
  {
   "cell_type": "code",
   "execution_count": 10,
   "id": "b5d0f529",
   "metadata": {},
   "outputs": [
    {
     "name": "stdout",
     "output_type": "stream",
     "text": [
      "                                   Title       Name\n",
      "0  For Those About To Rock We Salute You      AC/DC\n",
      "1                      Balls to the Wall     Accept\n",
      "2                      Restless and Wild     Accept\n",
      "3                      Let There Be Rock      AC/DC\n",
      "4                               Big Ones  Aerosmith\n"
     ]
    }
   ],
   "source": [
    "# Open engine in context manager\n",
    "with engine.connect() as con:\n",
    "    \n",
    "    # Assign to rs the results from the following query: \n",
    "    # 'select' all the records, extracting the 'Title' of the record and 'Name' of the artist of each record\n",
    "    # 'from' the 'Album' table and the 'Artist' table, respectively--\n",
    "    # 'INNER JOIN' these two tables on the 'ArtistID' column of both.\n",
    "    rs = con.execute(\"SELECT Title, Name FROM Album INNER JOIN Artist on Album.ArtistID = Artist.ArtistID\")\n",
    "    \n",
    "    # In a call to pd.DataFrame(), apply the method fetchall() to rs in order to fetch all records in rs\n",
    "    # Store them in the DataFrame df and set the DataFrame's column names to the corresponding names of the table columns.\n",
    "    df = pd.DataFrame(rs.fetchall())\n",
    "    df.columns = rs.keys()\n",
    "\n",
    "# Print head of DataFrame df\n",
    "print(df.head())\n"
   ]
  },
  {
   "cell_type": "code",
   "execution_count": null,
   "id": "5f598707",
   "metadata": {},
   "outputs": [],
   "source": []
  },
  {
   "cell_type": "code",
   "execution_count": null,
   "id": "05a08ed4",
   "metadata": {},
   "outputs": [],
   "source": []
  },
  {
   "cell_type": "code",
   "execution_count": null,
   "id": "211abffd",
   "metadata": {},
   "outputs": [],
   "source": []
  },
  {
   "cell_type": "code",
   "execution_count": null,
   "id": "83651fdd",
   "metadata": {},
   "outputs": [],
   "source": []
  },
  {
   "cell_type": "code",
   "execution_count": null,
   "id": "bb9fda01",
   "metadata": {},
   "outputs": [],
   "source": []
  },
  {
   "cell_type": "code",
   "execution_count": null,
   "id": "286559e8",
   "metadata": {},
   "outputs": [],
   "source": []
  },
  {
   "cell_type": "code",
   "execution_count": null,
   "id": "bfc5c292",
   "metadata": {},
   "outputs": [],
   "source": []
  },
  {
   "cell_type": "code",
   "execution_count": null,
   "id": "5ba5c05a",
   "metadata": {},
   "outputs": [],
   "source": []
  },
  {
   "cell_type": "code",
   "execution_count": null,
   "id": "a7240b61",
   "metadata": {},
   "outputs": [],
   "source": []
  },
  {
   "cell_type": "code",
   "execution_count": null,
   "id": "955415bc",
   "metadata": {},
   "outputs": [],
   "source": []
  },
  {
   "cell_type": "code",
   "execution_count": null,
   "id": "b0de5147",
   "metadata": {},
   "outputs": [],
   "source": []
  },
  {
   "cell_type": "code",
   "execution_count": null,
   "id": "d2157adf",
   "metadata": {},
   "outputs": [],
   "source": []
  },
  {
   "cell_type": "code",
   "execution_count": null,
   "id": "a351fbb8",
   "metadata": {},
   "outputs": [],
   "source": []
  },
  {
   "cell_type": "code",
   "execution_count": null,
   "id": "cb808e04",
   "metadata": {},
   "outputs": [],
   "source": []
  },
  {
   "cell_type": "code",
   "execution_count": null,
   "id": "d08868f9",
   "metadata": {},
   "outputs": [],
   "source": []
  },
  {
   "cell_type": "code",
   "execution_count": null,
   "id": "2795890e",
   "metadata": {},
   "outputs": [],
   "source": []
  },
  {
   "cell_type": "code",
   "execution_count": null,
   "id": "bf695dd8",
   "metadata": {},
   "outputs": [],
   "source": []
  },
  {
   "cell_type": "code",
   "execution_count": null,
   "id": "d9252e40",
   "metadata": {},
   "outputs": [],
   "source": []
  },
  {
   "cell_type": "code",
   "execution_count": null,
   "id": "637ed5c7",
   "metadata": {},
   "outputs": [],
   "source": []
  },
  {
   "cell_type": "code",
   "execution_count": null,
   "id": "25fe0082",
   "metadata": {},
   "outputs": [],
   "source": []
  },
  {
   "cell_type": "code",
   "execution_count": null,
   "id": "1f065644",
   "metadata": {},
   "outputs": [],
   "source": []
  },
  {
   "cell_type": "code",
   "execution_count": null,
   "id": "5e03aaf2",
   "metadata": {},
   "outputs": [],
   "source": []
  },
  {
   "cell_type": "code",
   "execution_count": null,
   "id": "20f378b4",
   "metadata": {},
   "outputs": [],
   "source": []
  },
  {
   "cell_type": "code",
   "execution_count": null,
   "id": "f390b4f3",
   "metadata": {},
   "outputs": [],
   "source": []
  },
  {
   "cell_type": "code",
   "execution_count": null,
   "id": "c63ca849",
   "metadata": {},
   "outputs": [],
   "source": []
  },
  {
   "cell_type": "code",
   "execution_count": null,
   "id": "9d0e0344",
   "metadata": {},
   "outputs": [],
   "source": []
  },
  {
   "cell_type": "code",
   "execution_count": null,
   "id": "eb6d7537",
   "metadata": {},
   "outputs": [],
   "source": []
  },
  {
   "cell_type": "code",
   "execution_count": null,
   "id": "e3dd6307",
   "metadata": {},
   "outputs": [],
   "source": []
  }
 ],
 "metadata": {
  "kernelspec": {
   "display_name": "Python 3",
   "language": "python",
   "name": "python3"
  },
  "language_info": {
   "codemirror_mode": {
    "name": "ipython",
    "version": 3
   },
   "file_extension": ".py",
   "mimetype": "text/x-python",
   "name": "python",
   "nbconvert_exporter": "python",
   "pygments_lexer": "ipython3",
   "version": "3.8.8"
  }
 },
 "nbformat": 4,
 "nbformat_minor": 5
}

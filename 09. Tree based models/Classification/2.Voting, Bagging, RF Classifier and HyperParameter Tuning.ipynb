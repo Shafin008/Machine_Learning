{
 "cells": [
  {
   "cell_type": "code",
   "execution_count": 1,
   "id": "d5c27bf7",
   "metadata": {},
   "outputs": [],
   "source": [
    "import pandas as pd\n",
    "import numpy as np\n",
    "import matplotlib.pyplot as plt\n",
    "import seaborn as sns"
   ]
  },
  {
   "cell_type": "markdown",
   "id": "8b3263b6",
   "metadata": {},
   "source": [
    "#### Limitations of CARTs\n",
    "\n",
    "CARTs have limitations- \n",
    "\n",
    "- A classification tree for example, is only able to produce orthogonal decision boundaries. \n",
    "\n",
    "- CARTs are also very sensitive to small variations in the training set. Sometimes, when a single point is removed from the training set, a CART's learned parameters may changed drastically. \n",
    "\n",
    "- CARTs also suffer from high variance when they are trained without constraints. In such case, they may overfit the training set. \n",
    "\n",
    "A solution that takes advantage of the flexibility of CARTs while reducing their tendency to memorize noise is ensemble learning.\n",
    "\n",
    "### Ensemble Learning\n",
    "\n",
    "Ensemble learning can be summarized as follows: \n",
    "\n",
    "- As a first step, the same training set is fed to different classifier models\n",
    "\n",
    "- Each classifier learns its parameters and makes its own predictions.\n",
    "\n",
    "- Then these predictions are fed to a meta model which aggregates them and outputs a final prediction. \n",
    "\n",
    "- The final prediction is more robust and less prone to errors than each individual model. \n",
    "\n",
    "- The best results are obtained when the models are skillful but in different ways meaning that if some models make predictions that are way off, the other models should compensate these errors. In such case, the meta-model's predictions are more robust.\n",
    "\n",
    "####  Ensemble Learning in Practice: Voting Classifier\n",
    "\n",
    "Let's now take a look at an ensemble technique known as the voting classifier. More concretely, we'll consider a binary classification task. \n",
    "\n",
    "Suppose, The ensemble here consists of N classifiers making the predictions P0,P1,to,PN with P = 0 or 1. The meta model outputs the final prediction by hard voting.\n",
    "\n",
    "#### Majority voting(Hard Voting)\n",
    "\n",
    "As the name implies, this majority voting technique combines the output of many classifiers using a majority voting approach. In other words, the combined prediction is the mode of the individual predictions. It is recommended to use an odd number of classifiers. For example, if we use four classifiers, the predictions for positive and negative classes could be tied. Therefore, we need at least three classifiers, and when problem constraints allow it, use five or more.\n",
    "\n",
    "To understand majority voting, consider a voting classifier that consists of 3 trained classifiers. Suppose, classifiers 1 and 3 predict the label of 1 for a new data-point, classifier 2 predicts the label 0. In this case, 1 has 2 votes while 0 has 1 vote. As a result, the voting classifier predicts 1.\n",
    "\n",
    "Keep in mind that Majority Voting is a technique which can only be applied to classification problems."
   ]
  },
  {
   "cell_type": "markdown",
   "id": "7c936bdf",
   "metadata": {},
   "source": [
    "#### Voting Classifier in sklearn (Breast-Cancer dataset)\n",
    "\n",
    "let's train the breast cancer dataset using scikit-learn. You'll do so using all the features in the dataset to predict whether a cell is malignant or not. \n",
    "\n",
    "Building a voting classifier, receiving a list of classifiers, and returning the combined model would be a cumbersome script for us to build. Luckily, scikit-learn already provides this functionality with the VotingClassifier class. \n",
    "\n",
    "In addition to the usual imports, import LogisticRegression, DecisionTreeClassifier and KNeighborsClassifier. You also need to \n",
    "import VotingClassifier from sklearn-dot-ensemble."
   ]
  },
  {
   "cell_type": "code",
   "execution_count": 2,
   "id": "c539e016",
   "metadata": {},
   "outputs": [],
   "source": [
    "df = pd.read_csv(\"wbc.csv\")"
   ]
  },
  {
   "cell_type": "code",
   "execution_count": 3,
   "id": "5f2fdc71",
   "metadata": {},
   "outputs": [],
   "source": [
    "label = []\n",
    "\n",
    "for i in df[\"diagnosis\"]:\n",
    "    if i == \"M\":\n",
    "        label.append(1)\n",
    "    else:\n",
    "        label.append(0)"
   ]
  },
  {
   "cell_type": "code",
   "execution_count": 4,
   "id": "7a6dcbb0",
   "metadata": {},
   "outputs": [],
   "source": [
    "df[\"labels\"] = label"
   ]
  },
  {
   "cell_type": "code",
   "execution_count": 5,
   "id": "7e16c6f0",
   "metadata": {},
   "outputs": [
    {
     "data": {
      "text/html": [
       "<div>\n",
       "<style scoped>\n",
       "    .dataframe tbody tr th:only-of-type {\n",
       "        vertical-align: middle;\n",
       "    }\n",
       "\n",
       "    .dataframe tbody tr th {\n",
       "        vertical-align: top;\n",
       "    }\n",
       "\n",
       "    .dataframe thead th {\n",
       "        text-align: right;\n",
       "    }\n",
       "</style>\n",
       "<table border=\"1\" class=\"dataframe\">\n",
       "  <thead>\n",
       "    <tr style=\"text-align: right;\">\n",
       "      <th></th>\n",
       "      <th>id</th>\n",
       "      <th>diagnosis</th>\n",
       "      <th>radius_mean</th>\n",
       "      <th>texture_mean</th>\n",
       "      <th>perimeter_mean</th>\n",
       "      <th>area_mean</th>\n",
       "      <th>smoothness_mean</th>\n",
       "      <th>compactness_mean</th>\n",
       "      <th>concavity_mean</th>\n",
       "      <th>concave points_mean</th>\n",
       "      <th>...</th>\n",
       "      <th>perimeter_worst</th>\n",
       "      <th>area_worst</th>\n",
       "      <th>smoothness_worst</th>\n",
       "      <th>compactness_worst</th>\n",
       "      <th>concavity_worst</th>\n",
       "      <th>concave points_worst</th>\n",
       "      <th>symmetry_worst</th>\n",
       "      <th>fractal_dimension_worst</th>\n",
       "      <th>Unnamed: 32</th>\n",
       "      <th>labels</th>\n",
       "    </tr>\n",
       "  </thead>\n",
       "  <tbody>\n",
       "    <tr>\n",
       "      <th>0</th>\n",
       "      <td>842302</td>\n",
       "      <td>M</td>\n",
       "      <td>17.99</td>\n",
       "      <td>10.38</td>\n",
       "      <td>122.80</td>\n",
       "      <td>1001.0</td>\n",
       "      <td>0.11840</td>\n",
       "      <td>0.27760</td>\n",
       "      <td>0.3001</td>\n",
       "      <td>0.14710</td>\n",
       "      <td>...</td>\n",
       "      <td>184.60</td>\n",
       "      <td>2019.0</td>\n",
       "      <td>0.1622</td>\n",
       "      <td>0.6656</td>\n",
       "      <td>0.7119</td>\n",
       "      <td>0.2654</td>\n",
       "      <td>0.4601</td>\n",
       "      <td>0.11890</td>\n",
       "      <td>NaN</td>\n",
       "      <td>1</td>\n",
       "    </tr>\n",
       "    <tr>\n",
       "      <th>1</th>\n",
       "      <td>842517</td>\n",
       "      <td>M</td>\n",
       "      <td>20.57</td>\n",
       "      <td>17.77</td>\n",
       "      <td>132.90</td>\n",
       "      <td>1326.0</td>\n",
       "      <td>0.08474</td>\n",
       "      <td>0.07864</td>\n",
       "      <td>0.0869</td>\n",
       "      <td>0.07017</td>\n",
       "      <td>...</td>\n",
       "      <td>158.80</td>\n",
       "      <td>1956.0</td>\n",
       "      <td>0.1238</td>\n",
       "      <td>0.1866</td>\n",
       "      <td>0.2416</td>\n",
       "      <td>0.1860</td>\n",
       "      <td>0.2750</td>\n",
       "      <td>0.08902</td>\n",
       "      <td>NaN</td>\n",
       "      <td>1</td>\n",
       "    </tr>\n",
       "    <tr>\n",
       "      <th>2</th>\n",
       "      <td>84300903</td>\n",
       "      <td>M</td>\n",
       "      <td>19.69</td>\n",
       "      <td>21.25</td>\n",
       "      <td>130.00</td>\n",
       "      <td>1203.0</td>\n",
       "      <td>0.10960</td>\n",
       "      <td>0.15990</td>\n",
       "      <td>0.1974</td>\n",
       "      <td>0.12790</td>\n",
       "      <td>...</td>\n",
       "      <td>152.50</td>\n",
       "      <td>1709.0</td>\n",
       "      <td>0.1444</td>\n",
       "      <td>0.4245</td>\n",
       "      <td>0.4504</td>\n",
       "      <td>0.2430</td>\n",
       "      <td>0.3613</td>\n",
       "      <td>0.08758</td>\n",
       "      <td>NaN</td>\n",
       "      <td>1</td>\n",
       "    </tr>\n",
       "    <tr>\n",
       "      <th>3</th>\n",
       "      <td>84348301</td>\n",
       "      <td>M</td>\n",
       "      <td>11.42</td>\n",
       "      <td>20.38</td>\n",
       "      <td>77.58</td>\n",
       "      <td>386.1</td>\n",
       "      <td>0.14250</td>\n",
       "      <td>0.28390</td>\n",
       "      <td>0.2414</td>\n",
       "      <td>0.10520</td>\n",
       "      <td>...</td>\n",
       "      <td>98.87</td>\n",
       "      <td>567.7</td>\n",
       "      <td>0.2098</td>\n",
       "      <td>0.8663</td>\n",
       "      <td>0.6869</td>\n",
       "      <td>0.2575</td>\n",
       "      <td>0.6638</td>\n",
       "      <td>0.17300</td>\n",
       "      <td>NaN</td>\n",
       "      <td>1</td>\n",
       "    </tr>\n",
       "    <tr>\n",
       "      <th>4</th>\n",
       "      <td>84358402</td>\n",
       "      <td>M</td>\n",
       "      <td>20.29</td>\n",
       "      <td>14.34</td>\n",
       "      <td>135.10</td>\n",
       "      <td>1297.0</td>\n",
       "      <td>0.10030</td>\n",
       "      <td>0.13280</td>\n",
       "      <td>0.1980</td>\n",
       "      <td>0.10430</td>\n",
       "      <td>...</td>\n",
       "      <td>152.20</td>\n",
       "      <td>1575.0</td>\n",
       "      <td>0.1374</td>\n",
       "      <td>0.2050</td>\n",
       "      <td>0.4000</td>\n",
       "      <td>0.1625</td>\n",
       "      <td>0.2364</td>\n",
       "      <td>0.07678</td>\n",
       "      <td>NaN</td>\n",
       "      <td>1</td>\n",
       "    </tr>\n",
       "  </tbody>\n",
       "</table>\n",
       "<p>5 rows × 34 columns</p>\n",
       "</div>"
      ],
      "text/plain": [
       "         id diagnosis  radius_mean  texture_mean  perimeter_mean  area_mean  \\\n",
       "0    842302         M        17.99         10.38          122.80     1001.0   \n",
       "1    842517         M        20.57         17.77          132.90     1326.0   \n",
       "2  84300903         M        19.69         21.25          130.00     1203.0   \n",
       "3  84348301         M        11.42         20.38           77.58      386.1   \n",
       "4  84358402         M        20.29         14.34          135.10     1297.0   \n",
       "\n",
       "   smoothness_mean  compactness_mean  concavity_mean  concave points_mean  \\\n",
       "0          0.11840           0.27760          0.3001              0.14710   \n",
       "1          0.08474           0.07864          0.0869              0.07017   \n",
       "2          0.10960           0.15990          0.1974              0.12790   \n",
       "3          0.14250           0.28390          0.2414              0.10520   \n",
       "4          0.10030           0.13280          0.1980              0.10430   \n",
       "\n",
       "   ...  perimeter_worst  area_worst  smoothness_worst  compactness_worst  \\\n",
       "0  ...           184.60      2019.0            0.1622             0.6656   \n",
       "1  ...           158.80      1956.0            0.1238             0.1866   \n",
       "2  ...           152.50      1709.0            0.1444             0.4245   \n",
       "3  ...            98.87       567.7            0.2098             0.8663   \n",
       "4  ...           152.20      1575.0            0.1374             0.2050   \n",
       "\n",
       "   concavity_worst  concave points_worst  symmetry_worst  \\\n",
       "0           0.7119                0.2654          0.4601   \n",
       "1           0.2416                0.1860          0.2750   \n",
       "2           0.4504                0.2430          0.3613   \n",
       "3           0.6869                0.2575          0.6638   \n",
       "4           0.4000                0.1625          0.2364   \n",
       "\n",
       "   fractal_dimension_worst  Unnamed: 32  labels  \n",
       "0                  0.11890          NaN       1  \n",
       "1                  0.08902          NaN       1  \n",
       "2                  0.08758          NaN       1  \n",
       "3                  0.17300          NaN       1  \n",
       "4                  0.07678          NaN       1  \n",
       "\n",
       "[5 rows x 34 columns]"
      ]
     },
     "execution_count": 5,
     "metadata": {},
     "output_type": "execute_result"
    }
   ],
   "source": [
    "df.head()"
   ]
  },
  {
   "cell_type": "code",
   "execution_count": 6,
   "id": "2ac1cc91",
   "metadata": {},
   "outputs": [],
   "source": [
    "X = df.drop(['id', 'diagnosis','Unnamed: 32', \"labels\"], axis = 1)"
   ]
  },
  {
   "cell_type": "code",
   "execution_count": 7,
   "id": "301074ec",
   "metadata": {},
   "outputs": [
    {
     "data": {
      "text/plain": [
       "array([1, 0], dtype=int64)"
      ]
     },
     "execution_count": 7,
     "metadata": {},
     "output_type": "execute_result"
    }
   ],
   "source": [
    "y = df[\"labels\"]\n",
    "y.unique()"
   ]
  },
  {
   "cell_type": "markdown",
   "id": "86f31bda",
   "metadata": {},
   "source": [
    "Then, split the data into 70%-train and 30%-test "
   ]
  },
  {
   "cell_type": "code",
   "execution_count": 8,
   "id": "633507c2",
   "metadata": {},
   "outputs": [],
   "source": [
    "from sklearn.model_selection import train_test_split"
   ]
  },
  {
   "cell_type": "code",
   "execution_count": 9,
   "id": "a49c4bdf",
   "metadata": {},
   "outputs": [],
   "source": [
    "X_train, X_test, y_train, y_test = train_test_split(X, y, test_size=0.2, random_state=1)"
   ]
  },
  {
   "cell_type": "markdown",
   "id": "7d96bb79",
   "metadata": {},
   "source": [
    "Instantiate the different models"
   ]
  },
  {
   "cell_type": "code",
   "execution_count": 10,
   "id": "227ac5e0",
   "metadata": {},
   "outputs": [],
   "source": [
    "# Import models, including VotingClassifier meta-model\n",
    "from sklearn.linear_model import LogisticRegression\n",
    "from sklearn.tree import DecisionTreeClassifier\n",
    "from sklearn.neighbors import KNeighborsClassifier as KNN\n",
    "from sklearn.ensemble import VotingClassifier"
   ]
  },
  {
   "cell_type": "code",
   "execution_count": 11,
   "id": "e3141c9d",
   "metadata": {},
   "outputs": [],
   "source": [
    "# Instantiate individual classifiers\n",
    "lr = LogisticRegression(random_state=1)\n",
    "knn = KNN()\n",
    "dt = DecisionTreeClassifier(random_state=1)"
   ]
  },
  {
   "cell_type": "markdown",
   "id": "d8684d39",
   "metadata": {},
   "source": [
    "The main input - with keyword \"estimators\" - is a list of (string, estimator) tuples. Each string is a label and each estimator is a sklearn classifier. You do not have to fit the classifiers individually, as the voting classifier will take care of that for us. "
   ]
  },
  {
   "cell_type": "code",
   "execution_count": 12,
   "id": "9ba37486",
   "metadata": {},
   "outputs": [],
   "source": [
    "# Define a list called classifier that contains the tuples (classifier_name, classifier)\n",
    "classifiers = [('Logistic Regression', lr),\n",
    "               ('K Nearest Neighbours', knn),\n",
    "               ('Classification Tree', dt)]"
   ]
  },
  {
   "cell_type": "markdown",
   "id": "0a041f6b",
   "metadata": {},
   "source": [
    "write a for loop to iterate over the list classifiers; fit each classifier to the training set, evaluate its accuracy on the test set and print the result. "
   ]
  },
  {
   "cell_type": "code",
   "execution_count": 13,
   "id": "7ce4e2ab",
   "metadata": {},
   "outputs": [],
   "source": [
    "from sklearn.metrics import accuracy_score"
   ]
  },
  {
   "cell_type": "code",
   "execution_count": 14,
   "id": "33c37e6d",
   "metadata": {},
   "outputs": [
    {
     "name": "stdout",
     "output_type": "stream",
     "text": [
      "Logistic Regression : 0.947\n",
      "K Nearest Neighbours : 0.939\n",
      "Classification Tree : 0.947\n"
     ]
    },
    {
     "name": "stderr",
     "output_type": "stream",
     "text": [
      "C:\\Users\\User\\anaconda3\\lib\\site-packages\\sklearn\\linear_model\\_logistic.py:763: ConvergenceWarning: lbfgs failed to converge (status=1):\n",
      "STOP: TOTAL NO. of ITERATIONS REACHED LIMIT.\n",
      "\n",
      "Increase the number of iterations (max_iter) or scale the data as shown in:\n",
      "    https://scikit-learn.org/stable/modules/preprocessing.html\n",
      "Please also refer to the documentation for alternative solver options:\n",
      "    https://scikit-learn.org/stable/modules/linear_model.html#logistic-regression\n",
      "  n_iter_i = _check_optimize_result(\n"
     ]
    }
   ],
   "source": [
    "# Iterate over the defined list of tuples containing the classifiers\n",
    "\n",
    "for clf_name, clf in classifiers:\n",
    "    \n",
    "    #fit clf to the training set\n",
    "    clf.fit(X_train, y_train)\n",
    "    \n",
    "    # Predict the labels of the test set\n",
    "    y_pred = clf.predict(X_test)\n",
    "    \n",
    "    # Evaluate the accuracy of clf on the test set\n",
    "    print('{:s} : {:.3f}'.format(clf_name, accuracy_score(y_test, y_pred)))"
   ]
  },
  {
   "cell_type": "markdown",
   "id": "c5186316",
   "metadata": {},
   "source": [
    "The output shows that the best classifier LogisticRegression achieves an accuracy of 95.3%."
   ]
  },
  {
   "cell_type": "markdown",
   "id": "6bfd8265",
   "metadata": {},
   "source": [
    "Finally, you can instantiate a voting classifier vc by setting the estimators parameter to classifiers. "
   ]
  },
  {
   "cell_type": "code",
   "execution_count": 15,
   "id": "874fd234",
   "metadata": {},
   "outputs": [],
   "source": [
    "# Instantiate a VotingClassifier 'vc'\n",
    "vc = VotingClassifier(estimators=classifiers)"
   ]
  },
  {
   "cell_type": "code",
   "execution_count": 16,
   "id": "8c554628",
   "metadata": {},
   "outputs": [
    {
     "name": "stderr",
     "output_type": "stream",
     "text": [
      "C:\\Users\\User\\anaconda3\\lib\\site-packages\\sklearn\\linear_model\\_logistic.py:763: ConvergenceWarning: lbfgs failed to converge (status=1):\n",
      "STOP: TOTAL NO. of ITERATIONS REACHED LIMIT.\n",
      "\n",
      "Increase the number of iterations (max_iter) or scale the data as shown in:\n",
      "    https://scikit-learn.org/stable/modules/preprocessing.html\n",
      "Please also refer to the documentation for alternative solver options:\n",
      "    https://scikit-learn.org/stable/modules/linear_model.html#logistic-regression\n",
      "  n_iter_i = _check_optimize_result(\n"
     ]
    }
   ],
   "source": [
    "# Fit 'vc' to the traing set and predict test set labels\n",
    "vc.fit(X_train, y_train)\n",
    "y_pred = vc.predict(X_test)"
   ]
  },
  {
   "cell_type": "code",
   "execution_count": 17,
   "id": "5b93f19e",
   "metadata": {},
   "outputs": [
    {
     "name": "stdout",
     "output_type": "stream",
     "text": [
      "Voting Classifier: 94.73684210526315\n"
     ]
    }
   ],
   "source": [
    "# Evaluate the test-set accuracy of 'vc'\n",
    "print('Voting Classifier: {}'.format(accuracy_score(y_test, y_pred) * 100))"
   ]
  },
  {
   "cell_type": "markdown",
   "id": "f9dfbf06",
   "metadata": {},
   "source": [
    "Fitting vc to the training set yields a test set accuracy of 95.91%. This accuracy is higher than that achieved by any of the individual models in the ensemble."
   ]
  },
  {
   "cell_type": "markdown",
   "id": "0199787e",
   "metadata": {},
   "source": [
    "### Soft Voting (Averaging)\n",
    "\n",
    "This ensembling technique is known as averaging, or \"soft\" voting, and it can be applied to both classification and regression. In this technique, the combined prediction is the mean of the individual predictions. \n",
    "\n",
    "For Regression, we use the predicted values. And for Classification, we use the predicted probabilities. \n",
    "\n",
    "As the mean doesn't have ambiguous cases like the mode, we can use any number of estimators, as long as we have at least two of them.\n",
    "\n",
    "#### Averaging ensemble with scikit-learn\n",
    "\n",
    "To build an averaging classifier, we'll use the same class as before: VotingClassifier. The main difference is that we specify an additional parameter: voting with the value of \"soft\". The default value is \"hard\". \n",
    "\n",
    "We can also pass the optional parameter weights, which specifies a weight for each of the estimators. If specified, the combined prediction is a weighted average of the individual ones. Otherwise, the weights are considered uniform. \n",
    "\n",
    "Ideally, the weights should be tuned while training the model, for example, using grid search cross-validation.\n",
    "\n",
    "#### Note\n",
    "\n",
    "In a similar way, we can build an Averaging regressor. For this purpose, we use the VotingRegressor class from the sklearn dot ensemble module. The first parameter is also the list of string / estimators tuples, but instead of classifiers we use regressors."
   ]
  },
  {
   "cell_type": "code",
   "execution_count": 18,
   "id": "39f53934",
   "metadata": {
    "scrolled": true
   },
   "outputs": [
    {
     "name": "stderr",
     "output_type": "stream",
     "text": [
      "C:\\Users\\User\\anaconda3\\lib\\site-packages\\sklearn\\linear_model\\_logistic.py:763: ConvergenceWarning: lbfgs failed to converge (status=1):\n",
      "STOP: TOTAL NO. of ITERATIONS REACHED LIMIT.\n",
      "\n",
      "Increase the number of iterations (max_iter) or scale the data as shown in:\n",
      "    https://scikit-learn.org/stable/modules/preprocessing.html\n",
      "Please also refer to the documentation for alternative solver options:\n",
      "    https://scikit-learn.org/stable/modules/linear_model.html#logistic-regression\n",
      "  n_iter_i = _check_optimize_result(\n",
      "C:\\Users\\User\\anaconda3\\lib\\site-packages\\sklearn\\linear_model\\_logistic.py:763: ConvergenceWarning: lbfgs failed to converge (status=1):\n",
      "STOP: TOTAL NO. of ITERATIONS REACHED LIMIT.\n",
      "\n",
      "Increase the number of iterations (max_iter) or scale the data as shown in:\n",
      "    https://scikit-learn.org/stable/modules/preprocessing.html\n",
      "Please also refer to the documentation for alternative solver options:\n",
      "    https://scikit-learn.org/stable/modules/linear_model.html#logistic-regression\n",
      "  n_iter_i = _check_optimize_result(\n"
     ]
    },
    {
     "name": "stdout",
     "output_type": "stream",
     "text": [
      "Voting: 94.74, Averaging: 95.61\n"
     ]
    }
   ],
   "source": [
    "# List of (string, estimator) tuples\n",
    "estimators = [(\"lr\", lr),(\"dt\", dt), (\"knn\", knn)]\n",
    "\n",
    "# Build and fit a voting classifier\n",
    "clf_vote = VotingClassifier(estimators = estimators)\n",
    "clf_vote.fit(X_train, y_train)\n",
    "\n",
    "# Build and fit an averaging classifier\n",
    "clf_avg = VotingClassifier(estimators = estimators, voting = \"soft\", weights=[3,1,2])\n",
    "clf_avg.fit(X_train, y_train)\n",
    "\n",
    "# Evaluate the performance of both models\n",
    "acc_vote = accuracy_score(y_test, clf_vote.predict(X_test)) \n",
    "acc_avg = accuracy_score(y_test,  clf_avg.predict(X_test))\n",
    "print('Voting: {:.2f}, Averaging: {:.2f}'.format(acc_vote * 100, acc_avg * 100))"
   ]
  },
  {
   "cell_type": "markdown",
   "id": "dda7880d",
   "metadata": {},
   "source": [
    "####  \"Weak\" model\n",
    "\n",
    "Voting and averaging, which you learned about in the previous lesson, work by combining the predictions of already trained models. Usually, these use a small number of estimators that are fine-tuned and individually optimized for the problem. In fact, these estimators are so well trained that, in some cases, they produce decent results on their own. We'll refer to these estimators as fine-tuned. This approach is appropriate when you already have optimized models and want to improve performance further by combining them. \n",
    "\n",
    "But what happens when you don't have these estimators trained beforehand? Well, that's when \"weak\" estimators come into play.\n",
    "\n",
    "#### Fine-tuned vs \"weak\" models\n",
    "\n",
    "You may ask yourself: what's the difference between a weak and a fine-tuned model? \n",
    "\n",
    "The idea of \"weak\" doesn't mean that it is a bad model, just that it is not as strong as a highly optimized, fine-tuned model.\n",
    "\n",
    "#### Properties of \"weak\" models\n",
    "\n",
    "A weak estimator, or model, is one which is just slightly better than random guessing. Therefore, the error rate is less than 50% but close to it. A weak model should be light in terms of space and computational requirements, and fast during training and evaluation.\n",
    "\n",
    "One good example is a decision tree. Imagine that we fit a decision tree to the data, but instead of optimizing it completely, we limit it to a depth of two. This restricts the model to learn as much as possible, but makes sure that it has the three desired properties: \n",
    "\n",
    "- low performance (just above random guessing), \n",
    "\n",
    "- it is light (we only need two levels of decision), \n",
    "\n",
    "- and therefore, it is also fast for predictions.\n",
    "\n",
    "#### Examples of \"weak\" models\n",
    "\n",
    "These are some common examples of weak models. As we stated before, a decision tree constrained with small depth could be used as a weak model. \n",
    "\n",
    "Another example is logistic regression, which makes the assumption that the classes are linearly separable. This is not always true, in which case, logistic regression would be wrong, but potentially still useful as a weak estimator. We could also limit the number of iterations for training, or specify a high value of the parameter C to use a weak regularization. \n",
    "\n",
    "For regression problems, we have linear regression. Linear regression, like logistic regression, makes the assumption that the output is a linear function of the input features. Again, for this model we could limit the number of iterations or not use normalization. As we are more interested in the properties of a weak model, any other estimator which has the three desired properties can be used as well."
   ]
  },
  {
   "cell_type": "code",
   "execution_count": 19,
   "id": "b775e753",
   "metadata": {},
   "outputs": [],
   "source": [
    "from sklearn.metrics import confusion_matrix, f1_score"
   ]
  },
  {
   "cell_type": "code",
   "execution_count": 20,
   "id": "2027ae4f",
   "metadata": {},
   "outputs": [
    {
     "name": "stdout",
     "output_type": "stream",
     "text": [
      "Confusion matrix:\n",
      " [[70  2]\n",
      " [ 3 39]]\n",
      "F1-Score: 0.940\n",
      "Accuracy Score : 0.956\n"
     ]
    }
   ],
   "source": [
    "# Build unrestricted decision tree\n",
    "clf = DecisionTreeClassifier(min_samples_leaf=3, min_samples_split=9, random_state=1)\n",
    "clf.fit(X_train, y_train)\n",
    "\n",
    "# Predict the labels\n",
    "pred = clf.predict(X_test)\n",
    "\n",
    "# Print the confusion matrix\n",
    "cm = confusion_matrix(y_test, pred)\n",
    "print('Confusion matrix:\\n', cm)\n",
    "\n",
    "# Print the F1 score\n",
    "score = f1_score(y_test, pred)\n",
    "print('F1-Score: {:.3f}'.format(score))\n",
    "# Evaluate the accuracy on the test set\n",
    "print('Accuracy Score : {:.3f}'.format(accuracy_score(y_test, pred)))"
   ]
  },
  {
   "cell_type": "code",
   "execution_count": 21,
   "id": "646b56eb",
   "metadata": {},
   "outputs": [
    {
     "name": "stdout",
     "output_type": "stream",
     "text": [
      "Confusion matrix:\n",
      " [[71  1]\n",
      " [ 6 36]]\n",
      "F1-Score: 0.911\n",
      "Accuracy Score : 0.939\n"
     ]
    }
   ],
   "source": [
    "# Build restricted decision tree\n",
    "clf = DecisionTreeClassifier(max_depth=4, max_features=2, random_state=1)\n",
    "clf.fit(X_train, y_train)\n",
    "\n",
    "# Predict the labels\n",
    "pred = clf.predict(X_test)\n",
    "\n",
    "# Print the confusion matrix\n",
    "cm = confusion_matrix(y_test, pred)\n",
    "print('Confusion matrix:\\n', cm)\n",
    "\n",
    "# Print the F1 score\n",
    "score = f1_score(y_test, pred)\n",
    "print('F1-Score: {:.3f}'.format(score))\n",
    "# Evaluate the accuracy on the test set\n",
    "print('Accuracy Score : {:.3f}'.format(accuracy_score(y_test, pred)))"
   ]
  },
  {
   "cell_type": "markdown",
   "id": "a7428a8b",
   "metadata": {},
   "source": [
    "Notice how the restricted decision tree performs worse than unrestricted, and is better than random guessing."
   ]
  },
  {
   "cell_type": "markdown",
   "id": "f9db162d",
   "metadata": {},
   "source": [
    "#### Heterogeneous vs Homogeneous Ensembles\n",
    "\n",
    "Until now, you've only seen heterogeneous ensemble methods, which use different types of fine-tuned algorithms. Therefore, they tend to work well with a small number of estimators. For example, we could combine a decision tree, a logistic regression, and a support vector machine using voting to improve the results. Here are included Voting, Averaging, and Stacking. \n",
    "\n",
    "Homogeneous ensemble methods such as bagging, on the other hand, work by applying the same algorithm on all the estimators, and this algorithm must be a \"weak\" model. In practice, we end up working with a large number of \"weak\" estimators in order to have better performance than that of a single model. Bagging and Boosting are some of the most popular of this kind.\n",
    "\n",
    "The requirements for Homogeneous ensemble methods are the following: \n",
    "\n",
    "- First, all the models must be independent. \n",
    "\n",
    "- Secondly, each model performs better than random guessing. \n",
    "\n",
    "- And finally, all individual models have similar performance. \n",
    "\n",
    "If these three conditions are met, then adding more models increases the probability of the ensemble to be correct, and makes this probability tend to 1, equivalent to 100%! The second and third requirements can be fulfilled by using the same \"weak\" model for all the estimators, as then all will have a similar performance and be better than random guessing."
   ]
  },
  {
   "cell_type": "markdown",
   "id": "97cb736d",
   "metadata": {},
   "source": [
    "### Bagging Classifier\n",
    "\n",
    "We know that, The Voting Classifier is an ensemble of models that are fit to the same training set using different algorithms. You also saw that the final predictions were obtained by majority voting. \n",
    "\n",
    "In Bagging, the ensemble is formed by models that use the same training algorithm. However, these models are not trained on the entire training set. Instead, each model is trained on a different subset of the data.\n",
    "\n",
    "#### Bagging\n",
    "\n",
    "In fact, bagging stands for bootstrap aggregation. Its name refers to the fact that it uses a technique known as the bootstrap. Overall, Bagging has the effect of reducing the variance of individual models in the ensemble.\n",
    "\n",
    "#### Bootstrap\n",
    "\n",
    "Let's first try to understand what the bootstrap method is. Consider the case where you have 3 balls labeled A, B, and C. A bootstrap sample is a sample drawn from this with replacement. By replacement, we mean that any ball can be drawn many times. \n",
    "\n",
    "For example, in the first bootstrap B can be drawn 3 times in a row. In the second bootstrap sample, A can be drawn two times while B can be drawn once, and so on. \n",
    "\n",
    "But how bootstraping can help us produce an ensemble?\n",
    "\n",
    "In the training phase, bagging consists of drawing N different bootstrap samples from the training set. Each of these bootstrap samples are then used to train N models that use the same algorithm .\n",
    "\n",
    "When a new instance is fed to the different models forming the bagging ensemble, each model outputs its prediction. The meta model collects these predictions and outputs a final prediction depending on the nature of the problem.\n",
    "\n",
    "#### Pros and cons of bagging\n",
    "\n",
    "Why is bagging a useful technique? \n",
    "\n",
    "- First, it helps reduce variance, as the sampling is truly random. \n",
    "\n",
    "- Bias can also be reduced since we use voting or averaging to combine the models. \n",
    "\n",
    "- Because of the high number of estimators used, bagging provides stability and robustness. \n",
    "\n",
    "- Cons : However, Bagging is computationally expensive in terms of space and time.\n"
   ]
  },
  {
   "cell_type": "markdown",
   "id": "c9f0491b",
   "metadata": {},
   "source": [
    "#### Training with bootstrapping\n",
    "\n",
    "Let's now build a \"weak\" decision tree classifier and train it on a sample of the training set drawn with replacement. This will help you understand what happens on every iteration of a bagging ensemble."
   ]
  },
  {
   "cell_type": "code",
   "execution_count": 22,
   "id": "ba4c7b89",
   "metadata": {},
   "outputs": [],
   "source": [
    "def build_decision_tree(X_train, y_train, num_dt, random_state=None):\n",
    "    \n",
    "    # Build the list of individual models\n",
    "    weak_dt_list = []\n",
    "    for i in range(num_dt):\n",
    "        # Takes a sample with replacement,\n",
    "        X_train_sample = X_train.sample(frac=1.0, replace=True, random_state=i)\n",
    "        y_train_sample = y_train.loc[X_train_sample.index]\n",
    "\n",
    "        # Build a \"weak\" Decision Tree classifier\n",
    "        clf = DecisionTreeClassifier(random_state = i)\n",
    "        # Fit the model to the training sample\n",
    "        weak_dt_list.append(clf.fit(X_train_sample, y_train_sample))\n",
    "    \n",
    "    return weak_dt_list\n",
    "    \n",
    "\n",
    "def predict_voting(weak_estimators, X_train, y_train, X_test):\n",
    "    \n",
    "    estimators = []\n",
    "    \n",
    "    for j in weak_estimators:\n",
    "        estimators.append((\"DT {}\".format(weak_estimators.index(j)), j))\n",
    "    \n",
    "\n",
    "    clf_vote = VotingClassifier(estimators = estimators)\n",
    "    clf_vote.fit(X_train, y_train)\n",
    "    prediction = clf_vote.predict(X_test)\n",
    "    \n",
    "    return prediction"
   ]
  },
  {
   "cell_type": "code",
   "execution_count": 23,
   "id": "38b527b9",
   "metadata": {},
   "outputs": [
    {
     "name": "stdout",
     "output_type": "stream",
     "text": [
      "F1 score: 0.914\n",
      "Accuracy Score : 0.939\n"
     ]
    }
   ],
   "source": [
    "### For 20 weak classifiers\n",
    "weak_classifiers = build_decision_tree(X_train, y_train, 300, random_state=None)\n",
    "\n",
    "# Predict on the test set\n",
    "pred = predict_voting(weak_classifiers,X_train, y_train, X_test)\n",
    "\n",
    "# Print the F1 score\n",
    "print('F1 score: {:.3f}'.format(f1_score(y_test, pred)))\n",
    "\n",
    "# Evaluate the accuracy on the test set\n",
    "print('Accuracy Score : {:.3f}'.format(accuracy_score(y_test, pred)))"
   ]
  },
  {
   "cell_type": "markdown",
   "id": "d4c14039",
   "metadata": {},
   "source": [
    "#### Bagging: Classification & Regression\n",
    "\n",
    "In classification, the final prediction is obtained by majority voting. The corresponding classifier in scikit-learn is BaggingClassifier. In regression, the final prediction is the average of the predictions made by the individual models forming the ensemble. The corresponding regressor in scikit-learn is BaggingRegressor.\n",
    "\n",
    "\n",
    "#### Bagging Classifier in sklearn (Breast-Cancer dataset)\n",
    "\n",
    "Great! Now that you understand how Bagging works, let's train a BaggingClassifier in scikit-learn on the breast cancer dataset. Note that the dataset is already loaded. \n",
    "\n",
    "First import BaggingClassifier, DecisionTreeClassifier, accuracy_score and train_test_split and then split the data into 70%-train and 30%-test."
   ]
  },
  {
   "cell_type": "code",
   "execution_count": 24,
   "id": "a929a86f",
   "metadata": {},
   "outputs": [],
   "source": [
    "# Import models and utility functions\n",
    "from sklearn.ensemble import BaggingClassifier\n",
    "from sklearn.tree import DecisionTreeClassifier\n",
    "from sklearn.metrics import accuracy_score\n",
    "from sklearn.model_selection import train_test_split"
   ]
  },
  {
   "cell_type": "markdown",
   "id": "a7f8af95",
   "metadata": {},
   "source": [
    "Now, instantiate a classification tree dt. You can then instantiate a BaggingClassifier bc that consists of 300 classification trees dt. This can be done by setting the parameters base_estimator to dt and n_estimators to 300. In addition, set the paramter n_jobs to -1 so that all CPU cores are used in computation. "
   ]
  },
  {
   "cell_type": "code",
   "execution_count": 25,
   "id": "fea8ffb9",
   "metadata": {},
   "outputs": [],
   "source": [
    "# Instantiate a classification-tree 'dt'\n",
    "dt = DecisionTreeClassifier(random_state=1, max_depth = 2) ## Weak estimator\n",
    "# Instantiate a BaggingClassifier 'bc'\n",
    "bc = BaggingClassifier(base_estimator=dt, n_estimators=300, n_jobs=-1)"
   ]
  },
  {
   "cell_type": "code",
   "execution_count": 26,
   "id": "3446a6aa",
   "metadata": {},
   "outputs": [],
   "source": [
    "# Fit 'bc' to the training set\n",
    "bc.fit(X_train, y_train)\n",
    "\n",
    "# Predict test set labels\n",
    "y_pred = bc.predict(X_test)"
   ]
  },
  {
   "cell_type": "code",
   "execution_count": 27,
   "id": "82b30192",
   "metadata": {},
   "outputs": [
    {
     "name": "stdout",
     "output_type": "stream",
     "text": [
      "Accuracy of Bagging Classifier: 94.737\n"
     ]
    }
   ],
   "source": [
    "# Evaluate and print test-set accuracy\n",
    "accuracy = accuracy_score(y_test, y_pred)\n",
    "print('Accuracy of Bagging Classifier: {:.3f}'.format(accuracy * 100))"
   ]
  },
  {
   "cell_type": "markdown",
   "id": "62ee91b1",
   "metadata": {},
   "source": [
    "The output shows that a BaggingClassifier achieves a test set accuracy of 95.9%. Training the classification tree dt, which is the base estimator here, to the same training set would lead to a test set accuracy of 93%(see initial dt classifier result). The result highlights how bagging outperforms the base estimator dt."
   ]
  },
  {
   "cell_type": "markdown",
   "id": "5db9cf55",
   "metadata": {},
   "source": [
    "#### Out Of Bag Evaluation\n",
    "\n",
    "Recall that in bagging, some instances may be sampled several times for one model. On the other hand, other instance may not be sampled at all.On average, for each model, 63% of the training instances are sampled. The remaining 37% that are not sampled constitute what is known as the Out-of-bag or OOB instances. \n",
    "\n",
    "Since OOB instances are not seen by a model during training, these can be used to estimate the performance of the ensemble without the need for cross-validation. This technique is known as OOB-evaluation."
   ]
  },
  {
   "cell_type": "markdown",
   "id": "17a7003d",
   "metadata": {},
   "source": [
    "Alright! Now it's time to see OOB-evaluation in action. Again, we'll be classifying cancerous cells as malignant or benign from the breast cancer dataset which is already loaded. After importing BaggingClassifier, DecisionTreeClassifier, accuracy_score and train_test_split, split the dataset into 70%-train and 30%-test.\n",
    "\n",
    "Importantly, set the parameter oob_score to True in order to evaluate the OOB-accuracy of bc after training. \n",
    "\n",
    "Note that in scikit-learn, the OOB-score corresponds to the accuracy for classifiers and the r-squared score for regressors."
   ]
  },
  {
   "cell_type": "code",
   "execution_count": 28,
   "id": "2e04c388",
   "metadata": {},
   "outputs": [],
   "source": [
    "# Instantiate a BaggingClassifier 'bc'; set oob_score = True\n",
    "bc = BaggingClassifier(base_estimator=dt, n_estimators=300, oob_score=True, n_jobs=-1)"
   ]
  },
  {
   "cell_type": "code",
   "execution_count": 29,
   "id": "f94c9d6f",
   "metadata": {},
   "outputs": [],
   "source": [
    "# Fit 'bc' to the training set\n",
    "bc.fit(X_train, y_train)\n",
    "\n",
    "# Predict the test set labels\n",
    "y_pred = bc.predict(X_test)"
   ]
  },
  {
   "cell_type": "markdown",
   "id": "734d08ae",
   "metadata": {},
   "source": [
    "evaluate the OOB-accuracy of bc by extracting the attribute oob_score_ from the trained instance; assign the result to oob_accuracy and print out the results. "
   ]
  },
  {
   "cell_type": "code",
   "execution_count": 30,
   "id": "facb51f2",
   "metadata": {},
   "outputs": [],
   "source": [
    "# Evaluate test set accuracy\n",
    "test_accuracy = accuracy_score(y_test, y_pred)\n",
    "\n",
    "# Extract the OOB accuracy from 'bc'\n",
    "oob_accuracy = bc.oob_score_"
   ]
  },
  {
   "cell_type": "code",
   "execution_count": 31,
   "id": "177ee120",
   "metadata": {},
   "outputs": [
    {
     "name": "stdout",
     "output_type": "stream",
     "text": [
      "Test set accuracy: 0.947\n",
      "OOB accuracy: 0.949\n"
     ]
    }
   ],
   "source": [
    "# Print test set accuracy\n",
    "print('Test set accuracy: {:.3f}'.format(test_accuracy))\n",
    "\n",
    "# Print OOB accuracy\n",
    "print('OOB accuracy: {:.3f}'.format(oob_accuracy))"
   ]
  },
  {
   "cell_type": "markdown",
   "id": "5907a771",
   "metadata": {},
   "source": [
    "The test-set accuracy is about 95.9% and the OOB-accuracy is about 95.2%. The two obtained accuracies are pretty close though not exactly equal. These results highlight how OOB-evaluation can be an efficient technique to obtain a performance estimate of a bagged-ensemble on unseen data without performing cross-validation."
   ]
  },
  {
   "cell_type": "markdown",
   "id": "f7f18daa",
   "metadata": {},
   "source": [
    "#### Basic parameters for bagging\n",
    "\n",
    "Let's review some of the parameters of bagging ensemble models you've already seen. \n",
    "\n",
    "- One of the most important parameters is `base_estimator`, the \"weak\" model which will be built for each sample. \n",
    "\n",
    "- The `n_estimators` parameter specifies the number of estimators to use. This is ten by default, but in practice we'll use more, and the larger the better. Usually between 100 and 500 trees are enough.\n",
    "\n",
    "- You also learned how to calculate the out-of-bag score by specifying the parameter `oob_score` as True.\n",
    "\n",
    "#### Additional parameters for bagging\n",
    "\n",
    "Let's take a look at some additional parameters you can use to further improve your bagging models. \n",
    "\n",
    "- First we have `max_samples`, which specifies the number of instances to draw for each estimator. The default is 1.0, equivalent to 100%. \n",
    "\n",
    "\n",
    "- Another important parameter is `max_features`. This is the number of features to draw randomly for each estimator. It is also 1.0 by default. Using lower values provides more diversity for the individual models and reduces the correlation among them, as each will get a different sample of both features and instances. \n",
    "\n",
    "       a. For classification, the optimal value lies around the square root of the number of features.  \n",
    "\n",
    "       b. For regression, the optimal value is usually close to one third of the number of features. \n",
    "\n",
    "\n",
    "- There's also the parameter `bootstrap`, which is a boolean to indicate whether samples are drawn with replacement. The default is True, as that is the nature of Bagging. \n",
    "\n",
    "      a. If passed as True, then it is recommended to use max_samples as 100%. \n",
    "\n",
    "      b. If False, then max_samples should be lower than 100%, because otherwise all the samples would be identical."
   ]
  },
  {
   "cell_type": "code",
   "execution_count": 32,
   "id": "1fffa1d7",
   "metadata": {},
   "outputs": [],
   "source": [
    "# Build a balanced logistic regression\n",
    "clf_base = LogisticRegression(max_iter = 5000, class_weight='balanced', random_state=1)\n",
    "\n",
    "# Build and fit a bagging classifier with custom parameters\n",
    "clf_bag = BaggingClassifier(base_estimator = clf_base, n_estimators = 50, max_features=10, max_samples = 0.65, \n",
    "                            bootstrap= True,  random_state=1)\n",
    "clf_bag.fit(X_train, y_train)\n",
    "\n",
    "# Calculate predictions and evaluate the accuracy on the test set\n",
    "y_pred = clf_bag.predict(X_test)"
   ]
  },
  {
   "cell_type": "code",
   "execution_count": 33,
   "id": "37fdb6e2",
   "metadata": {},
   "outputs": [
    {
     "name": "stdout",
     "output_type": "stream",
     "text": [
      "Accuracy:  0.93\n"
     ]
    }
   ],
   "source": [
    "print('Accuracy:  {:.2f}'.format(accuracy_score(y_test, y_pred)))"
   ]
  },
  {
   "cell_type": "markdown",
   "id": "7c13813c",
   "metadata": {},
   "source": [
    "### Random forest\n",
    "\n",
    "Recall that in bagging the base estimator could be any model including a decision tree, logistic regression or even a neural network. Each estimator is trained on a distinct bootstrap sample drawn from the training set using all available features.\n",
    "\n",
    "Random Forests is an ensemble method that uses a decision tree as a base estimator. In Random Forests, each estimator is trained on a different bootstrap sample having the same size as the training set. \n",
    "\n",
    "Random forests introduces further randomization than bagging when training each of the base estimators. When each tree is trained, only d features can be sampled at each node without replacement, where d is a number smaller than the total number of features. \n",
    "\n",
    "In scikit-learn d defaults to the square-root of the number of features. For example, if there are 100 features, only 10 features are sampled at each node.\n",
    "\n",
    "#### Random Forests: Prediction\n",
    "\n",
    "For classification, the final prediction is made by majority voting. The corresponding scikit-learn class is RandomForestClassifier. \n",
    "\n",
    "For regression, the final prediction is the average of all the labels predicted by the base estimators. The corresponding scikit-learn class is RandomForestRegressor. \n",
    "\n",
    "These classes are also part of the sklearn dot ensemble module. In general, Random Forests achieves a lower variance than individual trees.\n",
    "\n",
    "\n",
    "Let's look at some of the most important parameters. \n",
    "\n",
    "- First we have the parameters shared with Bagging: n_estimators, max_features, and oob_score. \n",
    "\n",
    "- And then we have the tree-specific parameters: the maximum depth, the minimum number of samples required to split a node, the minimum number of samples required in a leaf node, and class weight. \n",
    "\n",
    "Class weight is a useful parameter which allows you to specify the weights for each class using a dictionary. Or we can pass it as the string value \"balanced\" and the model will use the class distribution to calculate balanced weights. Therefore, random forests are able to deal with imbalanced targets."
   ]
  },
  {
   "cell_type": "markdown",
   "id": "e6349306",
   "metadata": {},
   "source": [
    "\n"
   ]
  },
  {
   "cell_type": "code",
   "execution_count": 34,
   "id": "78b82175",
   "metadata": {},
   "outputs": [],
   "source": [
    "from sklearn.ensemble import RandomForestClassifier\n",
    "clf_rf = RandomForestClassifier(random_state=1)"
   ]
  },
  {
   "cell_type": "code",
   "execution_count": 35,
   "id": "95aa5fb6",
   "metadata": {},
   "outputs": [
    {
     "data": {
      "text/plain": [
       "RandomForestClassifier(random_state=1)"
      ]
     },
     "execution_count": 35,
     "metadata": {},
     "output_type": "execute_result"
    }
   ],
   "source": [
    "clf_rf.fit(X_train,y_train)"
   ]
  },
  {
   "cell_type": "code",
   "execution_count": 36,
   "id": "a8a5ba66",
   "metadata": {},
   "outputs": [],
   "source": [
    "rf_pred = clf_rf.predict(X_test)"
   ]
  },
  {
   "cell_type": "code",
   "execution_count": 37,
   "id": "74a7b757",
   "metadata": {},
   "outputs": [
    {
     "name": "stdout",
     "output_type": "stream",
     "text": [
      "Accuracy:  0.956\n"
     ]
    }
   ],
   "source": [
    "print('Accuracy:  {:.3f}'.format(accuracy_score(y_test, rf_pred)))"
   ]
  },
  {
   "cell_type": "markdown",
   "id": "7f7b34ff",
   "metadata": {},
   "source": [
    "#### Feature Importance\n",
    "\n",
    "When a tree based method is trained, the predictive power of a feature or its importance can be assessed. \n",
    "\n",
    "In scikit-learn, feature importance is assessed by measuring how much the tree nodes use a particular feature to reduce impurity. \n",
    "\n",
    "Note that the importance of a feature is expressed as a percentage indicating the weight of that feature in training and prediction. Once you train a tree-based model in scikit-learn, the features importances can be accessed by extracting the feature_importance_ attribute from the model."
   ]
  },
  {
   "cell_type": "code",
   "execution_count": 38,
   "id": "1ed1aa04",
   "metadata": {},
   "outputs": [
    {
     "data": {
      "text/plain": [
       "array([0.06811959, 0.01895654, 0.06651358, 0.04562212, 0.00559711,\n",
       "       0.0050085 , 0.05854792, 0.09173071, 0.00249771, 0.00226877,\n",
       "       0.02215035, 0.0035935 , 0.00779888, 0.0288948 , 0.00429829,\n",
       "       0.00313988, 0.00286557, 0.00498554, 0.00458959, 0.00526312,\n",
       "       0.08431373, 0.01757519, 0.13077297, 0.11767767, 0.00914248,\n",
       "       0.01092473, 0.03087749, 0.13030665, 0.00923893, 0.00672809])"
      ]
     },
     "execution_count": 38,
     "metadata": {},
     "output_type": "execute_result"
    }
   ],
   "source": [
    "clf_rf.feature_importances_"
   ]
  },
  {
   "cell_type": "markdown",
   "id": "8e6a1f5e",
   "metadata": {},
   "source": [
    "#### Feature Importance in sklearn\n",
    "\n",
    "To visualize the importance of features as assessed by rf, you can create a pandas series of the features importances as shown here and then sort this series and make a horiztonal-barplot."
   ]
  },
  {
   "cell_type": "code",
   "execution_count": 39,
   "id": "468ac231",
   "metadata": {
    "scrolled": true
   },
   "outputs": [],
   "source": [
    "# Create a pd.Series of features importances\n",
    "importances_rf = pd.Series(clf_rf.feature_importances_, index = X.columns)\n",
    "#importances_rf"
   ]
  },
  {
   "cell_type": "code",
   "execution_count": 40,
   "id": "283367d0",
   "metadata": {},
   "outputs": [],
   "source": [
    "# Sort importances_rf\n",
    "sorted_importances_rf = importances_rf.sort_values()\n",
    "#sorted_importances_rf"
   ]
  },
  {
   "cell_type": "code",
   "execution_count": 41,
   "id": "23172be5",
   "metadata": {},
   "outputs": [
    {
     "data": {
      "image/png": "[encoded data removed]",
      "text/plain": [
       "<Figure size 1000x700 with 1 Axes>"
      ]
     },
     "metadata": {
      "needs_background": "light"
     },
     "output_type": "display_data"
    }
   ],
   "source": [
    "# Make a horizontal bar plot\n",
    "plt.figure(figsize=(10,7),dpi=100)\n",
    "\n",
    "sorted_importances_rf.plot(kind='barh', color='orange'); \n",
    "\n",
    "plt.show()"
   ]
  },
  {
   "cell_type": "markdown",
   "id": "4dd6efc1",
   "metadata": {},
   "source": [
    "#### Grid search CV in sklearn (Breast Cancer dataset)\n",
    "\n",
    "Let's now tune rf on the wisconsin breast cancer dataset which is already loaded and split into 80%-train and 20%-test. First, import GridSearchCV from sklearn-dot-model_selection. "
   ]
  },
  {
   "cell_type": "code",
   "execution_count": 42,
   "id": "3353ac6f",
   "metadata": {},
   "outputs": [],
   "source": [
    "# Import GridSearchCV\n",
    "from sklearn.model_selection import GridSearchCV"
   ]
  },
  {
   "cell_type": "code",
   "execution_count": 43,
   "id": "171b3434",
   "metadata": {},
   "outputs": [],
   "source": [
    "# Define the grid of hyperparameters 'params_dt'\n",
    "params_rf = {'n_estimators': [20,25,27,30], 'max_depth': [2,3,4,6,7,8,9],'max_features': ['log2', 'sqrt']}"
   ]
  },
  {
   "cell_type": "code",
   "execution_count": 44,
   "id": "7d87f280",
   "metadata": {},
   "outputs": [],
   "source": [
    "# Instantiate a 10-fold CV grid search object 'grid_dt'\n",
    "grid_rf = GridSearchCV(estimator=clf_rf, param_grid=params_rf, scoring='accuracy', cv=5, n_jobs=-1)"
   ]
  },
  {
   "cell_type": "code",
   "execution_count": 45,
   "id": "f0b61c86",
   "metadata": {},
   "outputs": [
    {
     "data": {
      "text/plain": [
       "GridSearchCV(cv=5, estimator=RandomForestClassifier(random_state=1), n_jobs=-1,\n",
       "             param_grid={'max_depth': [2, 3, 4, 6, 7, 8, 9],\n",
       "                         'max_features': ['log2', 'sqrt'],\n",
       "                         'n_estimators': [20, 25, 27, 30]},\n",
       "             scoring='accuracy')"
      ]
     },
     "execution_count": 45,
     "metadata": {},
     "output_type": "execute_result"
    }
   ],
   "source": [
    "# Fit 'grid_dt' to the training data\n",
    "grid_rf.fit(X_train, y_train)"
   ]
  },
  {
   "cell_type": "code",
   "execution_count": 46,
   "id": "31efd195",
   "metadata": {},
   "outputs": [
    {
     "name": "stdout",
     "output_type": "stream",
     "text": [
      "Best hyerparameters:\n",
      " {'max_depth': 6, 'max_features': 'log2', 'n_estimators': 25}\n"
     ]
    }
   ],
   "source": [
    "# Extract best hyperparameters from 'grid_dt'\n",
    "best_hyperparams = grid_rf.best_params_\n",
    "print('Best hyerparameters:\\n', best_hyperparams)"
   ]
  },
  {
   "cell_type": "code",
   "execution_count": 47,
   "id": "67ab8485",
   "metadata": {},
   "outputs": [
    {
     "name": "stdout",
     "output_type": "stream",
     "text": [
      "Best CV accuracy\n"
     ]
    }
   ],
   "source": [
    "# Extract best CV score from 'grid_dt'\n",
    "best_CV_score = grid_rf.best_score_\n",
    "print('Best CV accuracy'.format(best_CV_score))"
   ]
  },
  {
   "cell_type": "code",
   "execution_count": 48,
   "id": "34f6d3c5",
   "metadata": {},
   "outputs": [
    {
     "data": {
      "text/plain": [
       "0.956043956043956"
      ]
     },
     "execution_count": 48,
     "metadata": {},
     "output_type": "execute_result"
    }
   ],
   "source": [
    "best_CV_score"
   ]
  },
  {
   "cell_type": "code",
   "execution_count": 49,
   "id": "85b340db",
   "metadata": {},
   "outputs": [],
   "source": [
    "# Extract best model from 'grid_dt'\n",
    "best_model = grid_rf.best_estimator_"
   ]
  },
  {
   "cell_type": "code",
   "execution_count": 50,
   "id": "b25cfb82",
   "metadata": {},
   "outputs": [],
   "source": [
    "# Evaluate test set accuracy\n",
    "test_acc = best_model.score(X_test,y_test)"
   ]
  },
  {
   "cell_type": "code",
   "execution_count": 51,
   "id": "7a30e1c2",
   "metadata": {},
   "outputs": [
    {
     "name": "stdout",
     "output_type": "stream",
     "text": [
      "Accuracy Score of Untuned RF : 95.614\n",
      "Accuracy Score of Tuned RF: 96.491\n"
     ]
    }
   ],
   "source": [
    "# Evaluate the accuracy on the test set 0f untuned DT\n",
    "print('Accuracy Score of Untuned RF : {:.3f}'.format(accuracy_score(y_test, rf_pred)*100))\n",
    "\n",
    "# Print test set accuracy of tuned DT\n",
    "print(\"Accuracy Score of Tuned RF: {:.3f}\".format(test_acc*100))"
   ]
  },
  {
   "cell_type": "code",
   "execution_count": null,
   "id": "d72d5521",
   "metadata": {},
   "outputs": [],
   "source": []
  },
  {
   "cell_type": "code",
   "execution_count": null,
   "id": "8316937c",
   "metadata": {},
   "outputs": [],
   "source": []
  },
  {
   "cell_type": "code",
   "execution_count": null,
   "id": "7b17fba8",
   "metadata": {},
   "outputs": [],
   "source": []
  },
  {
   "cell_type": "code",
   "execution_count": null,
   "id": "c6cc6648",
   "metadata": {},
   "outputs": [],
   "source": []
  },
  {
   "cell_type": "code",
   "execution_count": null,
   "id": "f8a39702",
   "metadata": {},
   "outputs": [],
   "source": []
  },
  {
   "cell_type": "code",
   "execution_count": null,
   "id": "5214d691",
   "metadata": {},
   "outputs": [],
   "source": []
  },
  {
   "cell_type": "code",
   "execution_count": null,
   "id": "03b54e46",
   "metadata": {},
   "outputs": [],
   "source": []
  }
 ],
 "metadata": {
  "kernelspec": {
   "display_name": "Python 3",
   "language": "python",
   "name": "python3"
  },
  "language_info": {
   "codemirror_mode": {
    "name": "ipython",
    "version": 3
   },
   "file_extension": ".py",
   "mimetype": "text/x-python",
   "name": "python",
   "nbconvert_exporter": "python",
   "pygments_lexer": "ipython3",
   "version": "3.8.8"
  }
 },
 "nbformat": 4,
 "nbformat_minor": 5
}

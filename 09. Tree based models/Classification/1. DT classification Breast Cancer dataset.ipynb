{
 "cells": [
  {
   "cell_type": "code",
   "execution_count": 1,
   "id": "a63c80df",
   "metadata": {},
   "outputs": [],
   "source": [
    "import pandas as pd\n",
    "import numpy as np\n",
    "import matplotlib.pyplot as plt\n",
    "import seaborn as sns"
   ]
  },
  {
   "cell_type": "markdown",
   "id": "81f882a2",
   "metadata": {},
   "source": [
    "### Building Blocks of a Decision-Tree\n",
    "\n",
    "A decision-tree is a data-structure consisting of a hierarchy of individual units called nodes. A node is a point that involves either a question or a prediction.\n",
    "\n",
    "The root is the node at which the decision-tree starts growing. It has no parent node and involves a question that gives rise to 2 children nodes through two branches. \n",
    "\n",
    "An internal node is a node that has a parent. It also involves a question that gives rise to 2 children nodes. \n",
    "\n",
    "Finally, a node that has no children is called a leaf. A leaf has one parent node and involves no questions. It's where a prediction is made.\n",
    "\n",
    "When a classification tree is trained on a labeled dataset, the tree learns patterns from the features in such a way to produce the purest leafs. In other words the tree is trained in such a way so that, in each leaf, one class-label is predominant.\n",
    "\n",
    "###  Information Gain (IG)\n",
    "\n",
    "When an unconstrained tree is trained, the nodes are grown recursively; in other words, the obtention of an internal node or a leaf depends on the state of its predecessors. To produce the purest leafs possible, at each node, a tree asks a question involving one feature and a split-point. But how does it know which feature and which split-point to pick? It does so by maximizing Information gain!\n",
    "\n",
    "The tree considers that every node contains information and aims at maximizing the Information Gain obtained after each split. Consider the case where a node with N samples is split into a left-node with Nleft samples and a right-node with Nright samples. If the information gain obtained by splitting a node is null, the node is declared a leaf. \n",
    "\n",
    "'What criterion is used to measure the impurity of a node?' \n",
    "\n",
    "There are different criteria you can use among which are the gini-index and entropy.\n",
    "\n",
    "\n",
    "\n",
    "### Classification-tree\n",
    "\n",
    "Given a labeled dataset, a classification tree learns a sequence of if-else questions about individual features in order to infer the labels. In contrast to linear models, trees are able to capture non-linear relationships between features and labels. In addition, trees don't require the features to be on the same scale through standardization for example.\n",
    "\n",
    "\n",
    "#### Breast Cancer Dataset in 2D\n",
    "To understand trees more concretely, we'll try to predict whether a tumor is malignant or benign in the Wisconsin Breast Cancer dataset."
   ]
  },
  {
   "cell_type": "code",
   "execution_count": 2,
   "id": "f74aa324",
   "metadata": {},
   "outputs": [],
   "source": [
    "df = pd.read_csv(\"wbc.csv\")"
   ]
  },
  {
   "cell_type": "code",
   "execution_count": 3,
   "id": "b56254df",
   "metadata": {
    "scrolled": true
   },
   "outputs": [
    {
     "data": {
      "text/html": [
       "<div>\n",
       "<style scoped>\n",
       "    .dataframe tbody tr th:only-of-type {\n",
       "        vertical-align: middle;\n",
       "    }\n",
       "\n",
       "    .dataframe tbody tr th {\n",
       "        vertical-align: top;\n",
       "    }\n",
       "\n",
       "    .dataframe thead th {\n",
       "        text-align: right;\n",
       "    }\n",
       "</style>\n",
       "<table border=\"1\" class=\"dataframe\">\n",
       "  <thead>\n",
       "    <tr style=\"text-align: right;\">\n",
       "      <th></th>\n",
       "      <th>id</th>\n",
       "      <th>diagnosis</th>\n",
       "      <th>radius_mean</th>\n",
       "      <th>texture_mean</th>\n",
       "      <th>perimeter_mean</th>\n",
       "      <th>area_mean</th>\n",
       "      <th>smoothness_mean</th>\n",
       "      <th>compactness_mean</th>\n",
       "      <th>concavity_mean</th>\n",
       "      <th>concave points_mean</th>\n",
       "      <th>...</th>\n",
       "      <th>texture_worst</th>\n",
       "      <th>perimeter_worst</th>\n",
       "      <th>area_worst</th>\n",
       "      <th>smoothness_worst</th>\n",
       "      <th>compactness_worst</th>\n",
       "      <th>concavity_worst</th>\n",
       "      <th>concave points_worst</th>\n",
       "      <th>symmetry_worst</th>\n",
       "      <th>fractal_dimension_worst</th>\n",
       "      <th>Unnamed: 32</th>\n",
       "    </tr>\n",
       "  </thead>\n",
       "  <tbody>\n",
       "    <tr>\n",
       "      <th>0</th>\n",
       "      <td>842302</td>\n",
       "      <td>M</td>\n",
       "      <td>17.99</td>\n",
       "      <td>10.38</td>\n",
       "      <td>122.80</td>\n",
       "      <td>1001.0</td>\n",
       "      <td>0.11840</td>\n",
       "      <td>0.27760</td>\n",
       "      <td>0.3001</td>\n",
       "      <td>0.14710</td>\n",
       "      <td>...</td>\n",
       "      <td>17.33</td>\n",
       "      <td>184.60</td>\n",
       "      <td>2019.0</td>\n",
       "      <td>0.1622</td>\n",
       "      <td>0.6656</td>\n",
       "      <td>0.7119</td>\n",
       "      <td>0.2654</td>\n",
       "      <td>0.4601</td>\n",
       "      <td>0.11890</td>\n",
       "      <td>NaN</td>\n",
       "    </tr>\n",
       "    <tr>\n",
       "      <th>1</th>\n",
       "      <td>842517</td>\n",
       "      <td>M</td>\n",
       "      <td>20.57</td>\n",
       "      <td>17.77</td>\n",
       "      <td>132.90</td>\n",
       "      <td>1326.0</td>\n",
       "      <td>0.08474</td>\n",
       "      <td>0.07864</td>\n",
       "      <td>0.0869</td>\n",
       "      <td>0.07017</td>\n",
       "      <td>...</td>\n",
       "      <td>23.41</td>\n",
       "      <td>158.80</td>\n",
       "      <td>1956.0</td>\n",
       "      <td>0.1238</td>\n",
       "      <td>0.1866</td>\n",
       "      <td>0.2416</td>\n",
       "      <td>0.1860</td>\n",
       "      <td>0.2750</td>\n",
       "      <td>0.08902</td>\n",
       "      <td>NaN</td>\n",
       "    </tr>\n",
       "    <tr>\n",
       "      <th>2</th>\n",
       "      <td>84300903</td>\n",
       "      <td>M</td>\n",
       "      <td>19.69</td>\n",
       "      <td>21.25</td>\n",
       "      <td>130.00</td>\n",
       "      <td>1203.0</td>\n",
       "      <td>0.10960</td>\n",
       "      <td>0.15990</td>\n",
       "      <td>0.1974</td>\n",
       "      <td>0.12790</td>\n",
       "      <td>...</td>\n",
       "      <td>25.53</td>\n",
       "      <td>152.50</td>\n",
       "      <td>1709.0</td>\n",
       "      <td>0.1444</td>\n",
       "      <td>0.4245</td>\n",
       "      <td>0.4504</td>\n",
       "      <td>0.2430</td>\n",
       "      <td>0.3613</td>\n",
       "      <td>0.08758</td>\n",
       "      <td>NaN</td>\n",
       "    </tr>\n",
       "    <tr>\n",
       "      <th>3</th>\n",
       "      <td>84348301</td>\n",
       "      <td>M</td>\n",
       "      <td>11.42</td>\n",
       "      <td>20.38</td>\n",
       "      <td>77.58</td>\n",
       "      <td>386.1</td>\n",
       "      <td>0.14250</td>\n",
       "      <td>0.28390</td>\n",
       "      <td>0.2414</td>\n",
       "      <td>0.10520</td>\n",
       "      <td>...</td>\n",
       "      <td>26.50</td>\n",
       "      <td>98.87</td>\n",
       "      <td>567.7</td>\n",
       "      <td>0.2098</td>\n",
       "      <td>0.8663</td>\n",
       "      <td>0.6869</td>\n",
       "      <td>0.2575</td>\n",
       "      <td>0.6638</td>\n",
       "      <td>0.17300</td>\n",
       "      <td>NaN</td>\n",
       "    </tr>\n",
       "    <tr>\n",
       "      <th>4</th>\n",
       "      <td>84358402</td>\n",
       "      <td>M</td>\n",
       "      <td>20.29</td>\n",
       "      <td>14.34</td>\n",
       "      <td>135.10</td>\n",
       "      <td>1297.0</td>\n",
       "      <td>0.10030</td>\n",
       "      <td>0.13280</td>\n",
       "      <td>0.1980</td>\n",
       "      <td>0.10430</td>\n",
       "      <td>...</td>\n",
       "      <td>16.67</td>\n",
       "      <td>152.20</td>\n",
       "      <td>1575.0</td>\n",
       "      <td>0.1374</td>\n",
       "      <td>0.2050</td>\n",
       "      <td>0.4000</td>\n",
       "      <td>0.1625</td>\n",
       "      <td>0.2364</td>\n",
       "      <td>0.07678</td>\n",
       "      <td>NaN</td>\n",
       "    </tr>\n",
       "  </tbody>\n",
       "</table>\n",
       "<p>5 rows × 33 columns</p>\n",
       "</div>"
      ],
      "text/plain": [
       "         id diagnosis  radius_mean  texture_mean  perimeter_mean  area_mean  \\\n",
       "0    842302         M        17.99         10.38          122.80     1001.0   \n",
       "1    842517         M        20.57         17.77          132.90     1326.0   \n",
       "2  84300903         M        19.69         21.25          130.00     1203.0   \n",
       "3  84348301         M        11.42         20.38           77.58      386.1   \n",
       "4  84358402         M        20.29         14.34          135.10     1297.0   \n",
       "\n",
       "   smoothness_mean  compactness_mean  concavity_mean  concave points_mean  \\\n",
       "0          0.11840           0.27760          0.3001              0.14710   \n",
       "1          0.08474           0.07864          0.0869              0.07017   \n",
       "2          0.10960           0.15990          0.1974              0.12790   \n",
       "3          0.14250           0.28390          0.2414              0.10520   \n",
       "4          0.10030           0.13280          0.1980              0.10430   \n",
       "\n",
       "   ...  texture_worst  perimeter_worst  area_worst  smoothness_worst  \\\n",
       "0  ...          17.33           184.60      2019.0            0.1622   \n",
       "1  ...          23.41           158.80      1956.0            0.1238   \n",
       "2  ...          25.53           152.50      1709.0            0.1444   \n",
       "3  ...          26.50            98.87       567.7            0.2098   \n",
       "4  ...          16.67           152.20      1575.0            0.1374   \n",
       "\n",
       "   compactness_worst  concavity_worst  concave points_worst  symmetry_worst  \\\n",
       "0             0.6656           0.7119                0.2654          0.4601   \n",
       "1             0.1866           0.2416                0.1860          0.2750   \n",
       "2             0.4245           0.4504                0.2430          0.3613   \n",
       "3             0.8663           0.6869                0.2575          0.6638   \n",
       "4             0.2050           0.4000                0.1625          0.2364   \n",
       "\n",
       "   fractal_dimension_worst  Unnamed: 32  \n",
       "0                  0.11890          NaN  \n",
       "1                  0.08902          NaN  \n",
       "2                  0.08758          NaN  \n",
       "3                  0.17300          NaN  \n",
       "4                  0.07678          NaN  \n",
       "\n",
       "[5 rows x 33 columns]"
      ]
     },
     "execution_count": 3,
     "metadata": {},
     "output_type": "execute_result"
    }
   ],
   "source": [
    "df.head()"
   ]
  },
  {
   "cell_type": "code",
   "execution_count": 4,
   "id": "d8fc2a6b",
   "metadata": {},
   "outputs": [
    {
     "data": {
      "text/plain": [
       "(569, 33)"
      ]
     },
     "execution_count": 4,
     "metadata": {},
     "output_type": "execute_result"
    }
   ],
   "source": [
    "df.shape"
   ]
  },
  {
   "cell_type": "code",
   "execution_count": 5,
   "id": "28af7825",
   "metadata": {
    "scrolled": true
   },
   "outputs": [
    {
     "data": {
      "text/plain": [
       "Index(['id', 'diagnosis', 'radius_mean', 'texture_mean', 'perimeter_mean',\n",
       "       'area_mean', 'smoothness_mean', 'compactness_mean', 'concavity_mean',\n",
       "       'concave points_mean', 'symmetry_mean', 'fractal_dimension_mean',\n",
       "       'radius_se', 'texture_se', 'perimeter_se', 'area_se', 'smoothness_se',\n",
       "       'compactness_se', 'concavity_se', 'concave points_se', 'symmetry_se',\n",
       "       'fractal_dimension_se', 'radius_worst', 'texture_worst',\n",
       "       'perimeter_worst', 'area_worst', 'smoothness_worst',\n",
       "       'compactness_worst', 'concavity_worst', 'concave points_worst',\n",
       "       'symmetry_worst', 'fractal_dimension_worst', 'Unnamed: 32'],\n",
       "      dtype='object')"
      ]
     },
     "execution_count": 5,
     "metadata": {},
     "output_type": "execute_result"
    }
   ],
   "source": [
    "df.columns"
   ]
  },
  {
   "cell_type": "code",
   "execution_count": 6,
   "id": "272a02fa",
   "metadata": {},
   "outputs": [
    {
     "data": {
      "text/html": [
       "<div>\n",
       "<style scoped>\n",
       "    .dataframe tbody tr th:only-of-type {\n",
       "        vertical-align: middle;\n",
       "    }\n",
       "\n",
       "    .dataframe tbody tr th {\n",
       "        vertical-align: top;\n",
       "    }\n",
       "\n",
       "    .dataframe thead th {\n",
       "        text-align: right;\n",
       "    }\n",
       "</style>\n",
       "<table border=\"1\" class=\"dataframe\">\n",
       "  <thead>\n",
       "    <tr style=\"text-align: right;\">\n",
       "      <th></th>\n",
       "      <th>diagnosis</th>\n",
       "    </tr>\n",
       "  </thead>\n",
       "  <tbody>\n",
       "    <tr>\n",
       "      <th>count</th>\n",
       "      <td>569</td>\n",
       "    </tr>\n",
       "    <tr>\n",
       "      <th>unique</th>\n",
       "      <td>2</td>\n",
       "    </tr>\n",
       "    <tr>\n",
       "      <th>top</th>\n",
       "      <td>B</td>\n",
       "    </tr>\n",
       "    <tr>\n",
       "      <th>freq</th>\n",
       "      <td>357</td>\n",
       "    </tr>\n",
       "  </tbody>\n",
       "</table>\n",
       "</div>"
      ],
      "text/plain": [
       "       diagnosis\n",
       "count        569\n",
       "unique         2\n",
       "top            B\n",
       "freq         357"
      ]
     },
     "execution_count": 6,
     "metadata": {},
     "output_type": "execute_result"
    }
   ],
   "source": [
    "df.describe(exclude=\"number\")"
   ]
  },
  {
   "cell_type": "code",
   "execution_count": 7,
   "id": "8e2439e3",
   "metadata": {},
   "outputs": [],
   "source": [
    "X = df.drop(['id', 'diagnosis','Unnamed: 32'], axis = 1)"
   ]
  },
  {
   "cell_type": "code",
   "execution_count": 8,
   "id": "dc85f9f5",
   "metadata": {},
   "outputs": [
    {
     "data": {
      "text/plain": [
       "array(['M', 'B'], dtype=object)"
      ]
     },
     "execution_count": 8,
     "metadata": {},
     "output_type": "execute_result"
    }
   ],
   "source": [
    "y = df[\"diagnosis\"]\n",
    "y.unique()"
   ]
  },
  {
   "cell_type": "markdown",
   "id": "604afe1c",
   "metadata": {},
   "source": [
    "In order to obtain an unbiased estimate of a model's performance, you must evaluate it on an unseen test set. To do so, first import the functions train_test_split() from sklearn.model_selection then split the data into 80% train and 20% test using train_test_split(). Set the parameter stratify to y in order for the train and test sets to have the same proportion of class labels as the unsplit dataset. "
   ]
  },
  {
   "cell_type": "code",
   "execution_count": 9,
   "id": "4f9ba134",
   "metadata": {},
   "outputs": [],
   "source": [
    "from sklearn.model_selection import train_test_split"
   ]
  },
  {
   "cell_type": "code",
   "execution_count": 10,
   "id": "060c72d4",
   "metadata": {},
   "outputs": [],
   "source": [
    "X_train, X_test, y_train, y_test = train_test_split(X, y, test_size=0.2, random_state=1)"
   ]
  },
  {
   "cell_type": "markdown",
   "id": "097233ef",
   "metadata": {},
   "source": [
    "#### Classification-tree in scikit-learn\n",
    "\n",
    "To understand the tree's predictions more concretely, we need to understand how it classifies instances in the feature-space.\n",
    "\n",
    "####  Decision Regions\n",
    "\n",
    "A classification-model divides the feature-space into regions where all instances in one region are assigned to only one class-label. These regions are known as decision-regions. Decision-regions are separated by surfaces called decision-boundaries. The  decision-boundary of a linear-classifier is a straight-line.\n",
    "\n",
    "In contrast, a classification-tree produces rectangular decision-regions in the feature-space. This happens because at each split made by the tree, only one feature is involved.\n",
    "\n",
    "\n",
    "Now that you know what a classification tree is, let's fit one with scikit-learn. First, import DecisionTreeClassifier from sklearn.tree. Also, and accuracy_score() from sklearn.metrics. "
   ]
  },
  {
   "cell_type": "code",
   "execution_count": 11,
   "id": "5cbfc2f7",
   "metadata": {},
   "outputs": [],
   "source": [
    "# Import DecisionTreeClassifier from sklearn.tree\n",
    "from sklearn.tree import DecisionTreeClassifier\n",
    "# Import accuracy_score\n",
    "from sklearn.metrics import accuracy_score"
   ]
  },
  {
   "cell_type": "markdown",
   "id": "69c383da",
   "metadata": {},
   "source": [
    "You can now use DecisionTreeClassifier() to instantiate a tree classifier, dt with a maximum depth of 6 by setting the parameter max_depth to 6 and set the parameter random_state to 1 for reproducibility."
   ]
  },
  {
   "cell_type": "code",
   "execution_count": 12,
   "id": "75862ee5",
   "metadata": {},
   "outputs": [],
   "source": [
    "# Instantiate dt_entropy, set 'entropy' as the information criterion\n",
    "dt_gini = DecisionTreeClassifier(max_depth=6, criterion='gini', random_state=1)"
   ]
  },
  {
   "cell_type": "markdown",
   "id": "fd7ab1f1",
   "metadata": {},
   "source": [
    "Then call the fit method on dt and pass X_train and y_train. "
   ]
  },
  {
   "cell_type": "code",
   "execution_count": 13,
   "id": "91a88909",
   "metadata": {},
   "outputs": [
    {
     "data": {
      "text/plain": [
       "DecisionTreeClassifier(max_depth=6, random_state=1)"
      ]
     },
     "execution_count": 13,
     "metadata": {},
     "output_type": "execute_result"
    }
   ],
   "source": [
    "# Fit dt_entropy to the training set\n",
    "dt_gini.fit(X_train, y_train)"
   ]
  },
  {
   "cell_type": "markdown",
   "id": "af80fc91",
   "metadata": {},
   "source": [
    "To predict the labels of the test-set, call the predict method on dt. "
   ]
  },
  {
   "cell_type": "code",
   "execution_count": 14,
   "id": "51b084ff",
   "metadata": {},
   "outputs": [],
   "source": [
    "# Use dt_entropy to predict test set labels\n",
    "y_pred= dt_gini.predict(X_test)"
   ]
  },
  {
   "cell_type": "markdown",
   "id": "697a9dad",
   "metadata": {},
   "source": [
    "Finally print the accuracy of the test set using accuracy_score(). "
   ]
  },
  {
   "cell_type": "code",
   "execution_count": 15,
   "id": "547a4c92",
   "metadata": {},
   "outputs": [],
   "source": [
    "# Evaluate accuracy_entropy\n",
    "accuracy_gini = accuracy_score(y_test, y_pred)"
   ]
  },
  {
   "cell_type": "code",
   "execution_count": 16,
   "id": "68a651da",
   "metadata": {},
   "outputs": [],
   "source": [
    "# Instantiate dt_entropy, set 'entropy' as the information criterion\n",
    "dt_entropy = DecisionTreeClassifier(max_depth=6, criterion='entropy', random_state=1)"
   ]
  },
  {
   "cell_type": "code",
   "execution_count": 17,
   "id": "5c9a96ce",
   "metadata": {},
   "outputs": [
    {
     "data": {
      "text/plain": [
       "DecisionTreeClassifier(criterion='entropy', max_depth=6, random_state=1)"
      ]
     },
     "execution_count": 17,
     "metadata": {},
     "output_type": "execute_result"
    }
   ],
   "source": [
    "# Fit dt_entropy to the training set\n",
    "dt_entropy.fit(X_train, y_train)"
   ]
  },
  {
   "cell_type": "code",
   "execution_count": 18,
   "id": "56250874",
   "metadata": {},
   "outputs": [],
   "source": [
    "# Use dt_entropy to predict test set labels\n",
    "y_pred2= dt_entropy.predict(X_test)"
   ]
  },
  {
   "cell_type": "code",
   "execution_count": 19,
   "id": "e2c46e68",
   "metadata": {},
   "outputs": [],
   "source": [
    "# Evaluate accuracy_entropy\n",
    "accuracy_entropy = accuracy_score(y_test, y_pred2)"
   ]
  },
  {
   "cell_type": "code",
   "execution_count": 20,
   "id": "6d833309",
   "metadata": {},
   "outputs": [
    {
     "name": "stdout",
     "output_type": "stream",
     "text": [
      "Accuracy achieved by using entropy:  0.9473684210526315\n",
      "Accuracy achieved by using the gini index:  0.9473684210526315\n"
     ]
    }
   ],
   "source": [
    "# Print accuracy_entropy\n",
    "print('Accuracy achieved by using entropy: ', accuracy_entropy)\n",
    "\n",
    "# Print accuracy_gini\n",
    "print('Accuracy achieved by using the gini index: ', accuracy_gini)"
   ]
  },
  {
   "cell_type": "code",
   "execution_count": 21,
   "id": "dcedc27d",
   "metadata": {},
   "outputs": [
    {
     "name": "stderr",
     "output_type": "stream",
     "text": [
      "C:\\Users\\User\\anaconda3\\lib\\site-packages\\sklearn\\linear_model\\_logistic.py:763: ConvergenceWarning: lbfgs failed to converge (status=1):\n",
      "STOP: TOTAL NO. of ITERATIONS REACHED LIMIT.\n",
      "\n",
      "Increase the number of iterations (max_iter) or scale the data as shown in:\n",
      "    https://scikit-learn.org/stable/modules/preprocessing.html\n",
      "Please also refer to the documentation for alternative solver options:\n",
      "    https://scikit-learn.org/stable/modules/linear_model.html#logistic-regression\n",
      "  n_iter_i = _check_optimize_result(\n"
     ]
    }
   ],
   "source": [
    "# Import LogisticRegression from sklearn.linear_model\n",
    "from sklearn.linear_model import LogisticRegression\n",
    "\n",
    "# Instatiate logreg\n",
    "logreg = LogisticRegression(random_state=1)\n",
    "\n",
    "# Fit logreg to the training set\n",
    "logreg.fit(X_train, y_train)\n",
    "\n",
    "y_pred_log = logreg.predict(X_test)\n",
    "\n",
    "# Evaluate accuracy\n",
    "accuracy_log = accuracy_score(y_test, y_pred_log)"
   ]
  },
  {
   "cell_type": "code",
   "execution_count": 22,
   "id": "434f8531",
   "metadata": {},
   "outputs": [
    {
     "name": "stdout",
     "output_type": "stream",
     "text": [
      "Accuracy achieved by using entropy:  0.9473684210526315\n",
      "Accuracy achieved by using the gini index:  0.9473684210526315\n",
      "Accuracy achieved by using the logistic Regression:  0.9473684210526315\n"
     ]
    }
   ],
   "source": [
    "# Print accuracy_entropy\n",
    "print('Accuracy achieved by using entropy: ', accuracy_entropy)\n",
    "\n",
    "# Print accuracy_gini\n",
    "print('Accuracy achieved by using the gini index: ', accuracy_gini)\n",
    "\n",
    "# Print accuracy_gini\n",
    "print('Accuracy achieved by using the logistic Regression: ', accuracy_log)"
   ]
  },
  {
   "cell_type": "markdown",
   "id": "b445819f",
   "metadata": {},
   "source": [
    "### Tuning a CART's hyperparameters\n",
    "\n",
    "To obtain a better performance, the hyperparameters of a machine learning should be tuned.\n",
    "\n",
    "#### Hyperparameters\n",
    "\n",
    "Machine learning models are characterized by parameters and hyperparameters. \n",
    "\n",
    "Parameters are learned from data through training; examples of parameters include the split-feature and the split-point of a node in a CART. \n",
    "\n",
    "Hyperparameters are not learned from data; they should be set prior to training. Examples of hyperparameters include the maximum-depth and the splitting-criterion of a CART.\n",
    "\n",
    "#### What is hyperparameter tuning?\n",
    "\n",
    "- Hyperparameter tuning consists of searching for the set of optimal hyperparameters for the learning algorithm. \n",
    "\n",
    "- The solution involves finding the set of optimal hyperparameters yielding an optimal model. \n",
    "\n",
    "- The optimal model yields an optimal score. \n",
    "\n",
    "- The score function measures the agreement between true labels and a model's predictions. In sklearn, it defaults to accuracy for classifiers and r-squared for regressors. \n",
    "\n",
    "- A model's generalization performance is evaluated using cross-validation.\n",
    "\n",
    "#### Why tune hyperparameters?\n",
    "\n",
    "A legitimate question that you may ask is: why bother tuning hyperparameters? \n",
    "\n",
    "Well, in scikit-learn, a model's default hyperparameters are not optimal for all problems. Hyperparameters should be tuned to obtain the best model performance.\n",
    "\n",
    "#### Approaches to hyperparameter tuning\n",
    "\n",
    "Now there are many approaches for hyperparameter tuning including: \n",
    "\n",
    "- Grid-search, \n",
    "\n",
    "- Random-search,\n",
    "\n",
    "- Bayesian Optimization,\n",
    "\n",
    "- Genetic Algorithms etc...\n",
    "\n",
    "#### Grid search cross validation\n",
    "\n",
    "In grid-search cross-validation, \n",
    "\n",
    "- first you manually set a grid of discrete hyperparameter values. \n",
    "\n",
    "- Then, you pick a metric for scoring model performance and you search exhaustively through the grid. \n",
    "\n",
    "- For each set of hyperparameters, you evaluate each model's score. \n",
    "\n",
    "- The optimal hyperparameters are those for which the model achieves the best cross-validation score. \n",
    "\n",
    "- Note that grid-search suffers from the curse of dimensionality, i.e the bigger the grid, the longer it takes to find the solution.\n",
    "\n",
    "\n",
    "#### Grid search cross validation: example\n",
    "\n",
    "Let's walk through a concrete example to understand this procedure. \n",
    "\n",
    "Consider the case of a CART where you search through the two-dimensional hyperparameter grid. The dimensions correspond to the CART's maximum-depth and the minimum-percentage of samples per leaf. For each combination of hyperparameters, the cross-validation score is evaluated using k-fold CV for example. Finally, the optimal hyperparameters correspond to the model achieving the best cross-validation score."
   ]
  },
  {
   "cell_type": "markdown",
   "id": "6ba996fa",
   "metadata": {},
   "source": [
    "#### Inspecting the hyperparameters of a CART in sklearn\n",
    "\n",
    "Let's now see how we can inspect the hyperparameters of a CART in scikit-learn. You can first instantiate a DecisionTreeClassifier dt "
   ]
  },
  {
   "cell_type": "code",
   "execution_count": 24,
   "id": "6ff7ae51",
   "metadata": {},
   "outputs": [
    {
     "name": "stdout",
     "output_type": "stream",
     "text": [
      "Accuracy Score of Untuned DT : 94.737\n"
     ]
    }
   ],
   "source": [
    "# Instantiate a classification-tree 'dt'\n",
    "dt = DecisionTreeClassifier(random_state=1) ## Weak estimator\n",
    "# Fit 'bc' to the training set\n",
    "dt.fit(X_train, y_train)\n",
    "\n",
    "# Predict the test set labels\n",
    "y_pred = dt.predict(X_test)\n",
    "\n",
    "# Evaluate the accuracy on the test set 0f untuned DT\n",
    "print('Accuracy Score of Untuned DT : {:.3f}'.format(accuracy_score(y_test, y_pred)*100))"
   ]
  },
  {
   "cell_type": "markdown",
   "id": "b7c356cd",
   "metadata": {},
   "source": [
    "Then, call dt's -dot-get_params() method. This prints out a dictionary where the keys are the hyperparameter names."
   ]
  },
  {
   "cell_type": "code",
   "execution_count": 25,
   "id": "64965d00",
   "metadata": {},
   "outputs": [
    {
     "name": "stdout",
     "output_type": "stream",
     "text": [
      "{'ccp_alpha': 0.0, 'class_weight': None, 'criterion': 'gini', 'max_depth': None, 'max_features': None, 'max_leaf_nodes': None, 'min_impurity_decrease': 0.0, 'min_impurity_split': None, 'min_samples_leaf': 1, 'min_samples_split': 2, 'min_weight_fraction_leaf': 0.0, 'random_state': 1, 'splitter': 'best'}\n"
     ]
    }
   ],
   "source": [
    "# Print out 'dt's hyperparameters\n",
    "print(dt.get_params())"
   ]
  },
  {
   "cell_type": "markdown",
   "id": "85a1b5d1",
   "metadata": {},
   "source": [
    "In the following, we'll only be optimizing max_depth, max_features and min_samples_leaf. Note that max_features is the number of features to consider when looking for the best split. When it's a float, it is interpreted as a percentage. \n",
    "\n",
    "#### Grid search CV in sklearn (Breast Cancer dataset)\n",
    "\n",
    "Let's now tune dt on the wisconsin breast cancer dataset which is already loaded and split into 80%-train and 20%-test. First, import GridSearchCV from sklearn-dot-model_selection. "
   ]
  },
  {
   "cell_type": "code",
   "execution_count": 26,
   "id": "31ba9cd4",
   "metadata": {},
   "outputs": [],
   "source": [
    "# Import GridSearchCV\n",
    "from sklearn.model_selection import GridSearchCV"
   ]
  },
  {
   "cell_type": "markdown",
   "id": "e91a028c",
   "metadata": {},
   "source": [
    "Then, define a dictionary called params_dt containing the names of the hyperparameters to tune as keys and lists of hyperparameter-values as values."
   ]
  },
  {
   "cell_type": "code",
   "execution_count": 27,
   "id": "cfa3ea13",
   "metadata": {},
   "outputs": [],
   "source": [
    "# Define the grid of hyperparameters 'params_dt'\n",
    "params_dt = {'max_depth': [5,6,7],'max_features': [0.6,0.7,0.8,0.9], \n",
    "             'min_samples_split':[3,4,5,6]\n",
    "             }"
   ]
  },
  {
   "cell_type": "markdown",
   "id": "00311342",
   "metadata": {},
   "source": [
    "Once done, instantiate a GridSearchCV object grid_dt by passing dt as an estimator and params_dt as param_grid. Also set scoring to accuracy and cv to 10 in order to use 10-fold stratified cross-validation for model evaluation. "
   ]
  },
  {
   "cell_type": "code",
   "execution_count": 28,
   "id": "6c5aeffa",
   "metadata": {},
   "outputs": [],
   "source": [
    "# Instantiate a 10-fold CV grid search object 'grid_dt'\n",
    "grid_dt = GridSearchCV(estimator=dt, param_grid=params_dt, scoring='accuracy', cv=10, n_jobs=-1)"
   ]
  },
  {
   "cell_type": "markdown",
   "id": "1097cceb",
   "metadata": {},
   "source": [
    "Finally, fit grid_dt to the training set."
   ]
  },
  {
   "cell_type": "code",
   "execution_count": 29,
   "id": "ade2a394",
   "metadata": {},
   "outputs": [
    {
     "data": {
      "text/plain": [
       "GridSearchCV(cv=10, estimator=DecisionTreeClassifier(random_state=1), n_jobs=-1,\n",
       "             param_grid={'max_depth': [5, 6, 7],\n",
       "                         'max_features': [0.6, 0.7, 0.8, 0.9],\n",
       "                         'min_samples_split': [3, 4, 5, 6]},\n",
       "             scoring='accuracy')"
      ]
     },
     "execution_count": 29,
     "metadata": {},
     "output_type": "execute_result"
    }
   ],
   "source": [
    "# Fit 'grid_dt' to the training data\n",
    "grid_dt.fit(X_train, y_train)"
   ]
  },
  {
   "cell_type": "markdown",
   "id": "73d093ad",
   "metadata": {},
   "source": [
    "#### Extracting the best hyperparameters\n",
    "\n",
    "After training grid_dt, the best set of hyperparameter-values can be extracted from the attribute -dot-best_params_ of grid_dt. Also, the best cross validation accuracy can be accessed through grid_dt's -dot-best_score_ attribute."
   ]
  },
  {
   "cell_type": "code",
   "execution_count": 30,
   "id": "e5115a72",
   "metadata": {},
   "outputs": [
    {
     "name": "stdout",
     "output_type": "stream",
     "text": [
      "Best hyerparameters:\n",
      " {'max_depth': 5, 'max_features': 0.6, 'min_samples_split': 4}\n"
     ]
    }
   ],
   "source": [
    "# Extract best hyperparameters from 'grid_dt'\n",
    "best_hyperparams = grid_dt.best_params_\n",
    "print('Best hyerparameters:\\n', best_hyperparams)"
   ]
  },
  {
   "cell_type": "code",
   "execution_count": 31,
   "id": "844f9939",
   "metadata": {},
   "outputs": [
    {
     "name": "stdout",
     "output_type": "stream",
     "text": [
      "Best CV accuracy\n"
     ]
    }
   ],
   "source": [
    "# Extract best CV score from 'grid_dt'\n",
    "best_CV_score = grid_dt.best_score_\n",
    "print('Best CV accuracy'.format(best_CV_score))"
   ]
  },
  {
   "cell_type": "code",
   "execution_count": 32,
   "id": "311920cc",
   "metadata": {},
   "outputs": [
    {
     "data": {
      "text/plain": [
       "0.9540096618357488"
      ]
     },
     "execution_count": 32,
     "metadata": {},
     "output_type": "execute_result"
    }
   ],
   "source": [
    "best_CV_score"
   ]
  },
  {
   "cell_type": "markdown",
   "id": "7ae2a05e",
   "metadata": {},
   "source": [
    "#### Extracting the best estimator\n",
    "\n",
    "Similarly, the best-model can be extracted using the -dot-best_estimator attribute. \n",
    "\n",
    "Note that this model is fitted on the whole training set because the refit parameter of GridSearchCV is set to True by default. "
   ]
  },
  {
   "cell_type": "code",
   "execution_count": 33,
   "id": "08bb31fe",
   "metadata": {},
   "outputs": [],
   "source": [
    "# Extract best model from 'grid_dt'\n",
    "best_model = grid_dt.best_estimator_"
   ]
  },
  {
   "cell_type": "code",
   "execution_count": 34,
   "id": "bde93eb3",
   "metadata": {},
   "outputs": [],
   "source": [
    "# Evaluate test set accuracy\n",
    "test_acc = best_model.score(X_test,y_test)"
   ]
  },
  {
   "cell_type": "code",
   "execution_count": 36,
   "id": "0ee07237",
   "metadata": {},
   "outputs": [
    {
     "name": "stdout",
     "output_type": "stream",
     "text": [
      "Accuracy Score of Untuned DT : 94.737\n",
      "Accuracy Score of best model: 95.614\n"
     ]
    }
   ],
   "source": [
    "# Evaluate the accuracy on the test set 0f untuned DT\n",
    "print('Accuracy Score of Untuned DT : {:.3f}'.format(accuracy_score(y_test, y_pred)*100))\n",
    "\n",
    "# Print test set accuracy of tuned DT\n",
    "print(\"Accuracy Score of best model: {:.3f}\".format(test_acc*100))"
   ]
  },
  {
   "cell_type": "markdown",
   "id": "1410fcb1",
   "metadata": {},
   "source": [
    "Finally, you can evaluate this model's test set accuracy using the score method. The result is about 95.6% while the score of an untuned CART is of 93.9%."
   ]
  },
  {
   "cell_type": "markdown",
   "id": "e0a44773",
   "metadata": {},
   "source": [
    "#### Extra (Plotting Decision Boundary)"
   ]
  },
  {
   "cell_type": "code",
   "execution_count": 37,
   "id": "53b8f48b",
   "metadata": {},
   "outputs": [],
   "source": [
    "import numpy as np\n",
    "import matplotlib.pyplot as plt\n",
    "import pandas as pd\n",
    "\n",
    "def plot_decision_boundaries(X, y, model_class, **model_params):\n",
    "    \"\"\"\n",
    "    Function to plot the decision boundaries of a classification model.\n",
    "    This uses just the first two columns of the data for fitting \n",
    "    the model as we need to find the predicted value for every point in \n",
    "    scatter plot.\n",
    "    Arguments:\n",
    "            X: Feature data as a NumPy-type array.\n",
    "            y: Label data as a NumPy-type array.\n",
    "            model_class: A Scikit-learn ML estimator class \n",
    "            e.g. GaussianNB (imported from sklearn.naive_bayes) or\n",
    "            LogisticRegression (imported from sklearn.linear_model)\n",
    "            **model_params: Model parameters to be passed on to the ML estimator\n",
    "    \n",
    "    Typical code example:\n",
    "            plt.figure()\n",
    "            plt.title(\"KNN decision boundary with neighbros: 5\",fontsize=16)\n",
    "            plot_decision_boundaries(X_train,y_train,KNeighborsClassifier,n_neighbors=5)\n",
    "            plt.show()\n",
    "    \"\"\"\n",
    "    try:\n",
    "        X = np.array(X)\n",
    "        y = np.array(y).flatten()\n",
    "    except:\n",
    "        print(\"Coercing input data to NumPy arrays failed\")\n",
    "    \n",
    "    # Reduces to the first two columns of data\n",
    "    reduced_data = X[:, :2]\n",
    "    \n",
    "    # Instantiate the model object\n",
    "    model = model_class(**model_params)\n",
    "    \n",
    "    # Fits the model with the reduced data\n",
    "    model.fit(reduced_data, y)\n",
    "\n",
    "    # Step size of the mesh. Decrease to increase the quality of the VQ.\n",
    "    h = .02     # point in the mesh [x_min, m_max]x[y_min, y_max].    \n",
    "\n",
    "    # Plot the decision boundary. For that, we will assign a color to each\n",
    "    x_min, x_max = reduced_data[:, 0].min() - 1, reduced_data[:, 0].max() + 1\n",
    "    y_min, y_max = reduced_data[:, 1].min() - 1, reduced_data[:, 1].max() + 1\n",
    "    \n",
    "    # Meshgrid creation\n",
    "    xx, yy = np.meshgrid(np.arange(x_min, x_max, h), np.arange(y_min, y_max, h))\n",
    "\n",
    "    # Obtain labels for each point in mesh using the model.\n",
    "    Z = model.predict(np.c_[xx.ravel(), yy.ravel()])    \n",
    "\n",
    "    x_min, x_max = X[:, 0].min() - 1, X[:, 0].max() + 1\n",
    "    y_min, y_max = X[:, 1].min() - 1, X[:, 1].max() + 1\n",
    "    xx, yy = np.meshgrid(np.arange(x_min, x_max, 0.1),\n",
    "                         np.arange(y_min, y_max, 0.1))\n",
    "\n",
    "    # Predictions to obtain the classification results\n",
    "    Z = model.predict(np.c_[xx.ravel(), yy.ravel()]).reshape(xx.shape)\n",
    "\n",
    "    # Plotting\n",
    "    plt.contourf(xx, yy, Z, alpha=0.4)\n",
    "    plt.scatter(X[:, 0], X[:, 1], c=y, alpha=0.8)\n",
    "    plt.xlabel('radius_mean',fontsize=15)\n",
    "    plt.ylabel('concave points_mean',fontsize=15)\n",
    "    plt.xticks(fontsize=14)\n",
    "    plt.yticks(fontsize=14)\n",
    "    return plt"
   ]
  },
  {
   "cell_type": "code",
   "execution_count": 38,
   "id": "f7ed8a76",
   "metadata": {},
   "outputs": [],
   "source": [
    "new_df = df[['radius_mean','concave points_mean', \"diagnosis\"]]"
   ]
  },
  {
   "cell_type": "code",
   "execution_count": 39,
   "id": "f44eaeea",
   "metadata": {},
   "outputs": [],
   "source": [
    "X = new_df.drop(\"diagnosis\", axis = 1)"
   ]
  },
  {
   "cell_type": "code",
   "execution_count": 40,
   "id": "0c454123",
   "metadata": {},
   "outputs": [],
   "source": [
    "label = []\n",
    "\n",
    "for i in new_df[\"diagnosis\"]:\n",
    "    if i == \"M\":\n",
    "        label.append(1)\n",
    "    else:\n",
    "        label.append(0)"
   ]
  },
  {
   "cell_type": "code",
   "execution_count": 41,
   "id": "616c763f",
   "metadata": {},
   "outputs": [
    {
     "name": "stderr",
     "output_type": "stream",
     "text": [
      "<ipython-input-41-c0a68a88a3ff>:1: SettingWithCopyWarning: \n",
      "A value is trying to be set on a copy of a slice from a DataFrame.\n",
      "Try using .loc[row_indexer,col_indexer] = value instead\n",
      "\n",
      "See the caveats in the documentation: https://pandas.pydata.org/pandas-docs/stable/user_guide/indexing.html#returning-a-view-versus-a-copy\n",
      "  new_df[\"labels\"] = label\n"
     ]
    }
   ],
   "source": [
    "new_df[\"labels\"] = label"
   ]
  },
  {
   "cell_type": "code",
   "execution_count": 42,
   "id": "7d98606f",
   "metadata": {},
   "outputs": [
    {
     "data": {
      "text/html": [
       "<div>\n",
       "<style scoped>\n",
       "    .dataframe tbody tr th:only-of-type {\n",
       "        vertical-align: middle;\n",
       "    }\n",
       "\n",
       "    .dataframe tbody tr th {\n",
       "        vertical-align: top;\n",
       "    }\n",
       "\n",
       "    .dataframe thead th {\n",
       "        text-align: right;\n",
       "    }\n",
       "</style>\n",
       "<table border=\"1\" class=\"dataframe\">\n",
       "  <thead>\n",
       "    <tr style=\"text-align: right;\">\n",
       "      <th></th>\n",
       "      <th>radius_mean</th>\n",
       "      <th>concave points_mean</th>\n",
       "      <th>diagnosis</th>\n",
       "      <th>labels</th>\n",
       "    </tr>\n",
       "  </thead>\n",
       "  <tbody>\n",
       "    <tr>\n",
       "      <th>0</th>\n",
       "      <td>17.99</td>\n",
       "      <td>0.14710</td>\n",
       "      <td>M</td>\n",
       "      <td>1</td>\n",
       "    </tr>\n",
       "    <tr>\n",
       "      <th>1</th>\n",
       "      <td>20.57</td>\n",
       "      <td>0.07017</td>\n",
       "      <td>M</td>\n",
       "      <td>1</td>\n",
       "    </tr>\n",
       "    <tr>\n",
       "      <th>2</th>\n",
       "      <td>19.69</td>\n",
       "      <td>0.12790</td>\n",
       "      <td>M</td>\n",
       "      <td>1</td>\n",
       "    </tr>\n",
       "    <tr>\n",
       "      <th>3</th>\n",
       "      <td>11.42</td>\n",
       "      <td>0.10520</td>\n",
       "      <td>M</td>\n",
       "      <td>1</td>\n",
       "    </tr>\n",
       "    <tr>\n",
       "      <th>4</th>\n",
       "      <td>20.29</td>\n",
       "      <td>0.10430</td>\n",
       "      <td>M</td>\n",
       "      <td>1</td>\n",
       "    </tr>\n",
       "  </tbody>\n",
       "</table>\n",
       "</div>"
      ],
      "text/plain": [
       "   radius_mean  concave points_mean diagnosis  labels\n",
       "0        17.99              0.14710         M       1\n",
       "1        20.57              0.07017         M       1\n",
       "2        19.69              0.12790         M       1\n",
       "3        11.42              0.10520         M       1\n",
       "4        20.29              0.10430         M       1"
      ]
     },
     "execution_count": 42,
     "metadata": {},
     "output_type": "execute_result"
    }
   ],
   "source": [
    "new_df.head()"
   ]
  },
  {
   "cell_type": "code",
   "execution_count": 43,
   "id": "020f9db6",
   "metadata": {
    "scrolled": true
   },
   "outputs": [
    {
     "data": {
      "text/plain": [
       "array([1, 0], dtype=int64)"
      ]
     },
     "execution_count": 43,
     "metadata": {},
     "output_type": "execute_result"
    }
   ],
   "source": [
    "y = new_df[\"labels\"]\n",
    "y.unique()  ###  class 1 corresponds to a malignant tumor and class 0 corresponds to a benign tumor."
   ]
  },
  {
   "cell_type": "code",
   "execution_count": 44,
   "id": "422cbf4d",
   "metadata": {},
   "outputs": [],
   "source": [
    "X_train, X_test, y_train, y_test = train_test_split(X, y, test_size=0.2, random_state=1)"
   ]
  },
  {
   "cell_type": "code",
   "execution_count": 45,
   "id": "b8e219f1",
   "metadata": {},
   "outputs": [
    {
     "data": {
      "image/png": "[encoded data removed]",
      "text/plain": [
       "<Figure size 1500x700 with 1 Axes>"
      ]
     },
     "metadata": {
      "needs_background": "light"
     },
     "output_type": "display_data"
    }
   ],
   "source": [
    "plt.figure(figsize = (15,7), dpi =100)\n",
    "plt.title(\"Logistic Regression decision boundary\", fontsize=16)\n",
    "plot_decision_boundaries(X_train,y_train,LogisticRegression, random_state = 1)\n",
    "plt.show()"
   ]
  },
  {
   "cell_type": "code",
   "execution_count": 46,
   "id": "4ad55183",
   "metadata": {},
   "outputs": [
    {
     "data": {
      "image/png": "[encoded data removed]",
      "text/plain": [
       "<Figure size 1500x700 with 1 Axes>"
      ]
     },
     "metadata": {
      "needs_background": "light"
     },
     "output_type": "display_data"
    }
   ],
   "source": [
    "plt.figure(figsize = (15,7), dpi =100)\n",
    "plt.title(\"Decision Tree Classifier decision boundary\", fontsize=16)\n",
    "plot_decision_boundaries(X_train,y_train,DecisionTreeClassifier,max_depth=6, criterion='gini', random_state=1)\n",
    "plt.show()"
   ]
  },
  {
   "cell_type": "markdown",
   "id": "95a450f2",
   "metadata": {},
   "source": [
    "Notice how the decision boundary produced by logistic regression is linear while the boundaries produced by the classification tree divide the feature space into rectangular regions."
   ]
  },
  {
   "cell_type": "markdown",
   "id": "a01898ac",
   "metadata": {},
   "source": [
    "#### Advantages of CARTs\n",
    "\n",
    "CARTs(classification and regression Trees) present many advantages. For example \n",
    "\n",
    "- they are easy to understand and their output is easy to interpret. \n",
    "\n",
    "- In addition, CARTs are easy to use and their flexibility gives them an ability to describe nonlinear dependencies between features and labels. \n",
    "\n",
    "- Moreover, you don't need a lot of feature preprocessing to train a CART. In contrast to other models, you don't have to standardize or normalize features before feeding them to a CART.\n",
    "\n"
   ]
  },
  {
   "cell_type": "code",
   "execution_count": null,
   "id": "f59b835a",
   "metadata": {},
   "outputs": [],
   "source": []
  },
  {
   "cell_type": "code",
   "execution_count": null,
   "id": "fe1ec8e5",
   "metadata": {},
   "outputs": [],
   "source": []
  }
 ],
 "metadata": {
  "kernelspec": {
   "display_name": "Python 3 (ipykernel)",
   "language": "python",
   "name": "python3"
  },
  "language_info": {
   "codemirror_mode": {
    "name": "ipython",
    "version": 3
   },
   "file_extension": ".py",
   "mimetype": "text/x-python",
   "name": "python",
   "nbconvert_exporter": "python",
   "pygments_lexer": "ipython3",
   "version": "3.8.13"
  }
 },
 "nbformat": 4,
 "nbformat_minor": 5
}

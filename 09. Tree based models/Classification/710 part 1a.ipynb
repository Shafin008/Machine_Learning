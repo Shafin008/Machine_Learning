{
 "cells": [
  {
   "cell_type": "code",
   "execution_count": 1,
   "id": "c13b5247",
   "metadata": {},
   "outputs": [],
   "source": [
    "import pandas as pd\n",
    "import numpy as np"
   ]
  },
  {
   "cell_type": "code",
   "execution_count": 2,
   "id": "a45a7552",
   "metadata": {},
   "outputs": [],
   "source": [
    "from sklearn.datasets import make_classification\n",
    "\n",
    "X,y = make_classification(n_samples=100000, n_features=25, n_informative=20, n_redundant=5, random_state=0)"
   ]
  },
  {
   "cell_type": "code",
   "execution_count": 3,
   "id": "cbeea978",
   "metadata": {},
   "outputs": [
    {
     "data": {
      "text/plain": [
       "(100000, 25)"
      ]
     },
     "execution_count": 3,
     "metadata": {},
     "output_type": "execute_result"
    }
   ],
   "source": [
    "X.shape"
   ]
  },
  {
   "cell_type": "code",
   "execution_count": 4,
   "id": "f48d3141",
   "metadata": {},
   "outputs": [
    {
     "data": {
      "text/plain": [
       "array([1, 1, 0, ..., 1, 0, 1])"
      ]
     },
     "execution_count": 4,
     "metadata": {},
     "output_type": "execute_result"
    }
   ],
   "source": [
    "y"
   ]
  },
  {
   "cell_type": "code",
   "execution_count": 5,
   "id": "b53018cf",
   "metadata": {},
   "outputs": [],
   "source": [
    "test_X = X[:60000, :]"
   ]
  },
  {
   "cell_type": "code",
   "execution_count": 6,
   "id": "1902ac8d",
   "metadata": {},
   "outputs": [
    {
     "data": {
      "text/plain": [
       "(60000, 25)"
      ]
     },
     "execution_count": 6,
     "metadata": {},
     "output_type": "execute_result"
    }
   ],
   "source": [
    "test_X.shape"
   ]
  },
  {
   "cell_type": "code",
   "execution_count": 7,
   "id": "b025d822",
   "metadata": {},
   "outputs": [],
   "source": [
    "df = pd.DataFrame(test_X, columns = [\"Column{}\".format(i) for i in range(25)])"
   ]
  },
  {
   "cell_type": "code",
   "execution_count": 8,
   "id": "bba77763",
   "metadata": {},
   "outputs": [
    {
     "data": {
      "text/html": [
       "<div>\n",
       "<style scoped>\n",
       "    .dataframe tbody tr th:only-of-type {\n",
       "        vertical-align: middle;\n",
       "    }\n",
       "\n",
       "    .dataframe tbody tr th {\n",
       "        vertical-align: top;\n",
       "    }\n",
       "\n",
       "    .dataframe thead th {\n",
       "        text-align: right;\n",
       "    }\n",
       "</style>\n",
       "<table border=\"1\" class=\"dataframe\">\n",
       "  <thead>\n",
       "    <tr style=\"text-align: right;\">\n",
       "      <th></th>\n",
       "      <th>Column0</th>\n",
       "      <th>Column1</th>\n",
       "      <th>Column2</th>\n",
       "      <th>Column3</th>\n",
       "      <th>Column4</th>\n",
       "      <th>Column5</th>\n",
       "      <th>Column6</th>\n",
       "      <th>Column7</th>\n",
       "      <th>Column8</th>\n",
       "      <th>Column9</th>\n",
       "      <th>...</th>\n",
       "      <th>Column15</th>\n",
       "      <th>Column16</th>\n",
       "      <th>Column17</th>\n",
       "      <th>Column18</th>\n",
       "      <th>Column19</th>\n",
       "      <th>Column20</th>\n",
       "      <th>Column21</th>\n",
       "      <th>Column22</th>\n",
       "      <th>Column23</th>\n",
       "      <th>Column24</th>\n",
       "    </tr>\n",
       "  </thead>\n",
       "  <tbody>\n",
       "    <tr>\n",
       "      <th>0</th>\n",
       "      <td>0.374795</td>\n",
       "      <td>2.409882</td>\n",
       "      <td>-3.785127</td>\n",
       "      <td>0.680042</td>\n",
       "      <td>1.762758</td>\n",
       "      <td>0.850472</td>\n",
       "      <td>-2.392243</td>\n",
       "      <td>-0.835476</td>\n",
       "      <td>1.082143</td>\n",
       "      <td>-1.253907</td>\n",
       "      <td>...</td>\n",
       "      <td>0.321433</td>\n",
       "      <td>0.246301</td>\n",
       "      <td>0.252601</td>\n",
       "      <td>4.012128</td>\n",
       "      <td>0.088547</td>\n",
       "      <td>-1.327247</td>\n",
       "      <td>-2.174767</td>\n",
       "      <td>0.061074</td>\n",
       "      <td>-4.597709</td>\n",
       "      <td>-1.769054</td>\n",
       "    </tr>\n",
       "    <tr>\n",
       "      <th>1</th>\n",
       "      <td>5.294405</td>\n",
       "      <td>3.381126</td>\n",
       "      <td>0.628389</td>\n",
       "      <td>1.271747</td>\n",
       "      <td>-2.066395</td>\n",
       "      <td>-1.487487</td>\n",
       "      <td>-0.046180</td>\n",
       "      <td>-3.990081</td>\n",
       "      <td>0.824087</td>\n",
       "      <td>-3.305013</td>\n",
       "      <td>...</td>\n",
       "      <td>-3.370297</td>\n",
       "      <td>1.580230</td>\n",
       "      <td>-1.246286</td>\n",
       "      <td>-0.304895</td>\n",
       "      <td>1.726794</td>\n",
       "      <td>-0.056653</td>\n",
       "      <td>0.482031</td>\n",
       "      <td>-1.618998</td>\n",
       "      <td>-5.363979</td>\n",
       "      <td>-1.027658</td>\n",
       "    </tr>\n",
       "    <tr>\n",
       "      <th>2</th>\n",
       "      <td>-3.582907</td>\n",
       "      <td>0.657844</td>\n",
       "      <td>3.672484</td>\n",
       "      <td>0.723356</td>\n",
       "      <td>-4.947266</td>\n",
       "      <td>-0.471917</td>\n",
       "      <td>-0.352738</td>\n",
       "      <td>-11.224308</td>\n",
       "      <td>4.810373</td>\n",
       "      <td>10.842853</td>\n",
       "      <td>...</td>\n",
       "      <td>-2.054689</td>\n",
       "      <td>1.089028</td>\n",
       "      <td>-1.701240</td>\n",
       "      <td>2.196797</td>\n",
       "      <td>3.795722</td>\n",
       "      <td>-1.438148</td>\n",
       "      <td>-4.035236</td>\n",
       "      <td>-3.182302</td>\n",
       "      <td>0.212775</td>\n",
       "      <td>3.008187</td>\n",
       "    </tr>\n",
       "    <tr>\n",
       "      <th>3</th>\n",
       "      <td>-4.837864</td>\n",
       "      <td>0.080024</td>\n",
       "      <td>3.082630</td>\n",
       "      <td>-4.340017</td>\n",
       "      <td>1.924474</td>\n",
       "      <td>5.323912</td>\n",
       "      <td>-0.887652</td>\n",
       "      <td>-9.740558</td>\n",
       "      <td>0.278714</td>\n",
       "      <td>4.830757</td>\n",
       "      <td>...</td>\n",
       "      <td>-0.993260</td>\n",
       "      <td>-3.934576</td>\n",
       "      <td>-2.762419</td>\n",
       "      <td>-1.773916</td>\n",
       "      <td>-0.721765</td>\n",
       "      <td>-3.328776</td>\n",
       "      <td>-4.715541</td>\n",
       "      <td>2.241265</td>\n",
       "      <td>-4.451833</td>\n",
       "      <td>2.083070</td>\n",
       "    </tr>\n",
       "    <tr>\n",
       "      <th>4</th>\n",
       "      <td>6.869779</td>\n",
       "      <td>-1.221610</td>\n",
       "      <td>0.297304</td>\n",
       "      <td>-0.803456</td>\n",
       "      <td>-1.021820</td>\n",
       "      <td>-0.809890</td>\n",
       "      <td>0.041137</td>\n",
       "      <td>1.046422</td>\n",
       "      <td>-1.151566</td>\n",
       "      <td>-0.484239</td>\n",
       "      <td>...</td>\n",
       "      <td>-2.764893</td>\n",
       "      <td>1.485713</td>\n",
       "      <td>3.403892</td>\n",
       "      <td>0.261279</td>\n",
       "      <td>-3.216273</td>\n",
       "      <td>0.935161</td>\n",
       "      <td>0.678729</td>\n",
       "      <td>2.304216</td>\n",
       "      <td>8.114040</td>\n",
       "      <td>1.931248</td>\n",
       "    </tr>\n",
       "  </tbody>\n",
       "</table>\n",
       "<p>5 rows × 25 columns</p>\n",
       "</div>"
      ],
      "text/plain": [
       "    Column0   Column1   Column2   Column3   Column4   Column5   Column6  \\\n",
       "0  0.374795  2.409882 -3.785127  0.680042  1.762758  0.850472 -2.392243   \n",
       "1  5.294405  3.381126  0.628389  1.271747 -2.066395 -1.487487 -0.046180   \n",
       "2 -3.582907  0.657844  3.672484  0.723356 -4.947266 -0.471917 -0.352738   \n",
       "3 -4.837864  0.080024  3.082630 -4.340017  1.924474  5.323912 -0.887652   \n",
       "4  6.869779 -1.221610  0.297304 -0.803456 -1.021820 -0.809890  0.041137   \n",
       "\n",
       "     Column7   Column8    Column9  ...  Column15  Column16  Column17  \\\n",
       "0  -0.835476  1.082143  -1.253907  ...  0.321433  0.246301  0.252601   \n",
       "1  -3.990081  0.824087  -3.305013  ... -3.370297  1.580230 -1.246286   \n",
       "2 -11.224308  4.810373  10.842853  ... -2.054689  1.089028 -1.701240   \n",
       "3  -9.740558  0.278714   4.830757  ... -0.993260 -3.934576 -2.762419   \n",
       "4   1.046422 -1.151566  -0.484239  ... -2.764893  1.485713  3.403892   \n",
       "\n",
       "   Column18  Column19  Column20  Column21  Column22  Column23  Column24  \n",
       "0  4.012128  0.088547 -1.327247 -2.174767  0.061074 -4.597709 -1.769054  \n",
       "1 -0.304895  1.726794 -0.056653  0.482031 -1.618998 -5.363979 -1.027658  \n",
       "2  2.196797  3.795722 -1.438148 -4.035236 -3.182302  0.212775  3.008187  \n",
       "3 -1.773916 -0.721765 -3.328776 -4.715541  2.241265 -4.451833  2.083070  \n",
       "4  0.261279 -3.216273  0.935161  0.678729  2.304216  8.114040  1.931248  \n",
       "\n",
       "[5 rows x 25 columns]"
      ]
     },
     "execution_count": 8,
     "metadata": {},
     "output_type": "execute_result"
    }
   ],
   "source": [
    "df.head()"
   ]
  },
  {
   "cell_type": "code",
   "execution_count": 9,
   "id": "599a490d",
   "metadata": {},
   "outputs": [],
   "source": [
    "test_y = y[:60000]"
   ]
  },
  {
   "cell_type": "code",
   "execution_count": 10,
   "id": "c3c47244",
   "metadata": {},
   "outputs": [
    {
     "data": {
      "text/plain": [
       "(60000,)"
      ]
     },
     "execution_count": 10,
     "metadata": {},
     "output_type": "execute_result"
    }
   ],
   "source": [
    "test_y.shape"
   ]
  },
  {
   "cell_type": "code",
   "execution_count": 11,
   "id": "4b48a46e",
   "metadata": {},
   "outputs": [],
   "source": [
    "df[\"label\"] = test_y"
   ]
  },
  {
   "cell_type": "code",
   "execution_count": 12,
   "id": "d9b04c3a",
   "metadata": {},
   "outputs": [
    {
     "data": {
      "text/html": [
       "<div>\n",
       "<style scoped>\n",
       "    .dataframe tbody tr th:only-of-type {\n",
       "        vertical-align: middle;\n",
       "    }\n",
       "\n",
       "    .dataframe tbody tr th {\n",
       "        vertical-align: top;\n",
       "    }\n",
       "\n",
       "    .dataframe thead th {\n",
       "        text-align: right;\n",
       "    }\n",
       "</style>\n",
       "<table border=\"1\" class=\"dataframe\">\n",
       "  <thead>\n",
       "    <tr style=\"text-align: right;\">\n",
       "      <th></th>\n",
       "      <th>Column0</th>\n",
       "      <th>Column1</th>\n",
       "      <th>Column2</th>\n",
       "      <th>Column3</th>\n",
       "      <th>Column4</th>\n",
       "      <th>Column5</th>\n",
       "      <th>Column6</th>\n",
       "      <th>Column7</th>\n",
       "      <th>Column8</th>\n",
       "      <th>Column9</th>\n",
       "      <th>...</th>\n",
       "      <th>Column16</th>\n",
       "      <th>Column17</th>\n",
       "      <th>Column18</th>\n",
       "      <th>Column19</th>\n",
       "      <th>Column20</th>\n",
       "      <th>Column21</th>\n",
       "      <th>Column22</th>\n",
       "      <th>Column23</th>\n",
       "      <th>Column24</th>\n",
       "      <th>label</th>\n",
       "    </tr>\n",
       "  </thead>\n",
       "  <tbody>\n",
       "    <tr>\n",
       "      <th>0</th>\n",
       "      <td>0.374795</td>\n",
       "      <td>2.409882</td>\n",
       "      <td>-3.785127</td>\n",
       "      <td>0.680042</td>\n",
       "      <td>1.762758</td>\n",
       "      <td>0.850472</td>\n",
       "      <td>-2.392243</td>\n",
       "      <td>-0.835476</td>\n",
       "      <td>1.082143</td>\n",
       "      <td>-1.253907</td>\n",
       "      <td>...</td>\n",
       "      <td>0.246301</td>\n",
       "      <td>0.252601</td>\n",
       "      <td>4.012128</td>\n",
       "      <td>0.088547</td>\n",
       "      <td>-1.327247</td>\n",
       "      <td>-2.174767</td>\n",
       "      <td>0.061074</td>\n",
       "      <td>-4.597709</td>\n",
       "      <td>-1.769054</td>\n",
       "      <td>1</td>\n",
       "    </tr>\n",
       "    <tr>\n",
       "      <th>1</th>\n",
       "      <td>5.294405</td>\n",
       "      <td>3.381126</td>\n",
       "      <td>0.628389</td>\n",
       "      <td>1.271747</td>\n",
       "      <td>-2.066395</td>\n",
       "      <td>-1.487487</td>\n",
       "      <td>-0.046180</td>\n",
       "      <td>-3.990081</td>\n",
       "      <td>0.824087</td>\n",
       "      <td>-3.305013</td>\n",
       "      <td>...</td>\n",
       "      <td>1.580230</td>\n",
       "      <td>-1.246286</td>\n",
       "      <td>-0.304895</td>\n",
       "      <td>1.726794</td>\n",
       "      <td>-0.056653</td>\n",
       "      <td>0.482031</td>\n",
       "      <td>-1.618998</td>\n",
       "      <td>-5.363979</td>\n",
       "      <td>-1.027658</td>\n",
       "      <td>1</td>\n",
       "    </tr>\n",
       "    <tr>\n",
       "      <th>2</th>\n",
       "      <td>-3.582907</td>\n",
       "      <td>0.657844</td>\n",
       "      <td>3.672484</td>\n",
       "      <td>0.723356</td>\n",
       "      <td>-4.947266</td>\n",
       "      <td>-0.471917</td>\n",
       "      <td>-0.352738</td>\n",
       "      <td>-11.224308</td>\n",
       "      <td>4.810373</td>\n",
       "      <td>10.842853</td>\n",
       "      <td>...</td>\n",
       "      <td>1.089028</td>\n",
       "      <td>-1.701240</td>\n",
       "      <td>2.196797</td>\n",
       "      <td>3.795722</td>\n",
       "      <td>-1.438148</td>\n",
       "      <td>-4.035236</td>\n",
       "      <td>-3.182302</td>\n",
       "      <td>0.212775</td>\n",
       "      <td>3.008187</td>\n",
       "      <td>0</td>\n",
       "    </tr>\n",
       "    <tr>\n",
       "      <th>3</th>\n",
       "      <td>-4.837864</td>\n",
       "      <td>0.080024</td>\n",
       "      <td>3.082630</td>\n",
       "      <td>-4.340017</td>\n",
       "      <td>1.924474</td>\n",
       "      <td>5.323912</td>\n",
       "      <td>-0.887652</td>\n",
       "      <td>-9.740558</td>\n",
       "      <td>0.278714</td>\n",
       "      <td>4.830757</td>\n",
       "      <td>...</td>\n",
       "      <td>-3.934576</td>\n",
       "      <td>-2.762419</td>\n",
       "      <td>-1.773916</td>\n",
       "      <td>-0.721765</td>\n",
       "      <td>-3.328776</td>\n",
       "      <td>-4.715541</td>\n",
       "      <td>2.241265</td>\n",
       "      <td>-4.451833</td>\n",
       "      <td>2.083070</td>\n",
       "      <td>1</td>\n",
       "    </tr>\n",
       "    <tr>\n",
       "      <th>4</th>\n",
       "      <td>6.869779</td>\n",
       "      <td>-1.221610</td>\n",
       "      <td>0.297304</td>\n",
       "      <td>-0.803456</td>\n",
       "      <td>-1.021820</td>\n",
       "      <td>-0.809890</td>\n",
       "      <td>0.041137</td>\n",
       "      <td>1.046422</td>\n",
       "      <td>-1.151566</td>\n",
       "      <td>-0.484239</td>\n",
       "      <td>...</td>\n",
       "      <td>1.485713</td>\n",
       "      <td>3.403892</td>\n",
       "      <td>0.261279</td>\n",
       "      <td>-3.216273</td>\n",
       "      <td>0.935161</td>\n",
       "      <td>0.678729</td>\n",
       "      <td>2.304216</td>\n",
       "      <td>8.114040</td>\n",
       "      <td>1.931248</td>\n",
       "      <td>0</td>\n",
       "    </tr>\n",
       "  </tbody>\n",
       "</table>\n",
       "<p>5 rows × 26 columns</p>\n",
       "</div>"
      ],
      "text/plain": [
       "    Column0   Column1   Column2   Column3   Column4   Column5   Column6  \\\n",
       "0  0.374795  2.409882 -3.785127  0.680042  1.762758  0.850472 -2.392243   \n",
       "1  5.294405  3.381126  0.628389  1.271747 -2.066395 -1.487487 -0.046180   \n",
       "2 -3.582907  0.657844  3.672484  0.723356 -4.947266 -0.471917 -0.352738   \n",
       "3 -4.837864  0.080024  3.082630 -4.340017  1.924474  5.323912 -0.887652   \n",
       "4  6.869779 -1.221610  0.297304 -0.803456 -1.021820 -0.809890  0.041137   \n",
       "\n",
       "     Column7   Column8    Column9  ...  Column16  Column17  Column18  \\\n",
       "0  -0.835476  1.082143  -1.253907  ...  0.246301  0.252601  4.012128   \n",
       "1  -3.990081  0.824087  -3.305013  ...  1.580230 -1.246286 -0.304895   \n",
       "2 -11.224308  4.810373  10.842853  ...  1.089028 -1.701240  2.196797   \n",
       "3  -9.740558  0.278714   4.830757  ... -3.934576 -2.762419 -1.773916   \n",
       "4   1.046422 -1.151566  -0.484239  ...  1.485713  3.403892  0.261279   \n",
       "\n",
       "   Column19  Column20  Column21  Column22  Column23  Column24  label  \n",
       "0  0.088547 -1.327247 -2.174767  0.061074 -4.597709 -1.769054      1  \n",
       "1  1.726794 -0.056653  0.482031 -1.618998 -5.363979 -1.027658      1  \n",
       "2  3.795722 -1.438148 -4.035236 -3.182302  0.212775  3.008187      0  \n",
       "3 -0.721765 -3.328776 -4.715541  2.241265 -4.451833  2.083070      1  \n",
       "4 -3.216273  0.935161  0.678729  2.304216  8.114040  1.931248      0  \n",
       "\n",
       "[5 rows x 26 columns]"
      ]
     },
     "execution_count": 12,
     "metadata": {},
     "output_type": "execute_result"
    }
   ],
   "source": [
    "df.head()"
   ]
  },
  {
   "cell_type": "code",
   "execution_count": 13,
   "id": "dfc77368",
   "metadata": {},
   "outputs": [],
   "source": [
    "features = df.drop(\"label\", axis = 1)"
   ]
  },
  {
   "cell_type": "code",
   "execution_count": 14,
   "id": "be09bf0a",
   "metadata": {},
   "outputs": [
    {
     "data": {
      "text/plain": [
       "(60000, 25)"
      ]
     },
     "execution_count": 14,
     "metadata": {},
     "output_type": "execute_result"
    }
   ],
   "source": [
    "features.shape"
   ]
  },
  {
   "cell_type": "code",
   "execution_count": 15,
   "id": "f1a6dd3b",
   "metadata": {},
   "outputs": [],
   "source": [
    "class_label = df[\"label\"]"
   ]
  },
  {
   "cell_type": "code",
   "execution_count": 19,
   "id": "6fbe9727",
   "metadata": {},
   "outputs": [
    {
     "data": {
      "text/plain": [
       "0.50045"
      ]
     },
     "execution_count": 19,
     "metadata": {},
     "output_type": "execute_result"
    }
   ],
   "source": [
    "sum(class_label)/len(class_label)"
   ]
  },
  {
   "cell_type": "code",
   "execution_count": 16,
   "id": "6188bd04",
   "metadata": {},
   "outputs": [],
   "source": [
    "from sklearn.model_selection import train_test_split"
   ]
  },
  {
   "cell_type": "code",
   "execution_count": 17,
   "id": "d3ef845c",
   "metadata": {},
   "outputs": [],
   "source": [
    "X_train, X_test, y_train, y_test = train_test_split(features, class_label, stratify=class_label ,random_state=42)"
   ]
  },
  {
   "cell_type": "code",
   "execution_count": 18,
   "id": "5221dd30",
   "metadata": {},
   "outputs": [
    {
     "data": {
      "text/plain": [
       "0.5004444444444445"
      ]
     },
     "execution_count": 18,
     "metadata": {},
     "output_type": "execute_result"
    }
   ],
   "source": [
    "sum(y_train)/len(y_train)"
   ]
  },
  {
   "cell_type": "code",
   "execution_count": 20,
   "id": "c4d7cac6",
   "metadata": {},
   "outputs": [
    {
     "data": {
      "text/plain": [
       "0.5004666666666666"
      ]
     },
     "execution_count": 20,
     "metadata": {},
     "output_type": "execute_result"
    }
   ],
   "source": [
    "sum(y_test)/len(y_test)"
   ]
  },
  {
   "cell_type": "code",
   "execution_count": 21,
   "id": "e9b2289e",
   "metadata": {},
   "outputs": [
    {
     "data": {
      "text/plain": [
       "(60000, 25)"
      ]
     },
     "execution_count": 21,
     "metadata": {},
     "output_type": "execute_result"
    }
   ],
   "source": [
    "features.shape"
   ]
  },
  {
   "cell_type": "code",
   "execution_count": 22,
   "id": "3359b166",
   "metadata": {
    "scrolled": true
   },
   "outputs": [
    {
     "data": {
      "text/plain": [
       "(45000, 25)"
      ]
     },
     "execution_count": 22,
     "metadata": {},
     "output_type": "execute_result"
    }
   ],
   "source": [
    "X_train.shape"
   ]
  },
  {
   "cell_type": "code",
   "execution_count": 23,
   "id": "824977a1",
   "metadata": {},
   "outputs": [
    {
     "data": {
      "text/plain": [
       "(45000,)"
      ]
     },
     "execution_count": 23,
     "metadata": {},
     "output_type": "execute_result"
    }
   ],
   "source": [
    "y_train.shape"
   ]
  },
  {
   "cell_type": "code",
   "execution_count": 24,
   "id": "d0ed4022",
   "metadata": {},
   "outputs": [],
   "source": [
    "import time\n",
    "from sklearn.metrics import accuracy_score, roc_auc_score, f1_score\n",
    "from sklearn.model_selection import cross_val_score"
   ]
  },
  {
   "cell_type": "code",
   "execution_count": 25,
   "id": "e0f32e89",
   "metadata": {},
   "outputs": [],
   "source": [
    "# Import models, including VotingClassifier meta-model\n",
    "from sklearn.linear_model import LogisticRegression\n",
    "from sklearn.tree import DecisionTreeClassifier\n",
    "from sklearn.neighbors import KNeighborsClassifier\n",
    "from sklearn.ensemble import RandomForestClassifier\n",
    "from sklearn.ensemble import AdaBoostClassifier\n",
    "from sklearn.ensemble import GradientBoostingClassifier\n",
    "import xgboost as xgb\n",
    "import lightgbm as lgb"
   ]
  },
  {
   "cell_type": "code",
   "execution_count": 26,
   "id": "9ebac63b",
   "metadata": {},
   "outputs": [],
   "source": [
    "accuracy = {}\n",
    "roc_auc = {}\n",
    "f1 = {}\n",
    "cross_val_acc={}\n",
    "diff_cv_acc = {}\n",
    "speed_fit = {}\n",
    "speed_cv = {}"
   ]
  },
  {
   "cell_type": "markdown",
   "id": "69f15c0a",
   "metadata": {},
   "source": [
    "### Decision Tree"
   ]
  },
  {
   "cell_type": "code",
   "execution_count": 27,
   "id": "1cb1ffa1",
   "metadata": {},
   "outputs": [],
   "source": [
    "dt_model = DecisionTreeClassifier()\n",
    "\n",
    "start = time.time()\n",
    "\n",
    "dt_model.fit(X_train,y_train)\n",
    "\n",
    "pred_dt = dt_model.predict(X_test)\n",
    "\n",
    "end = time.time()\n",
    "\n",
    "speed_fit[\"fit_speed_dt\"] = np.round( end - start, 3)\n",
    "\n",
    "\n",
    "speed_cv[\"cv_speed_dt\"] = np.round( end - start, 3)"
   ]
  },
  {
   "cell_type": "code",
   "execution_count": 24,
   "id": "41b8e5ab",
   "metadata": {},
   "outputs": [],
   "source": [
    "start = time.time()\n",
    "score_dt = cross_val_score(estimator =dt_model,X = X_train.values, y = y_train, scoring=\"accuracy\", cv=5, n_jobs=-1)\n",
    "end = time.time()\n",
    "\n",
    "# Predict the test set probabilities of positive class\n",
    "y_pred_proba_dt = dt_model.predict_proba(X_test)[:,1]"
   ]
  },
  {
   "cell_type": "code",
   "execution_count": 25,
   "id": "e324784e",
   "metadata": {},
   "outputs": [
    {
     "name": "stdout",
     "output_type": "stream",
     "text": [
      "{'Accuracy Score_dt': 85.207} {'cross_val_acc_dt': 84.8} {'roc_auc_score_dt': 85.206} {'f1_score_dt': 85.245} {'diff_cv_acc_dt': 0.407} {'fit_speed_dt': 1.697} {'cv_speed_dt': 3.897}\n"
     ]
    }
   ],
   "source": [
    "accuracy['Accuracy Score_dt'] = np.round(accuracy_score(y_test, pred_dt)*100, 3)\n",
    "cross_val_acc[\"cross_val_acc_dt\"] = np.round(np.mean(score_dt).round(3) * 100,3)\n",
    "roc_auc['roc_auc_score_dt'] = np.round(roc_auc_score(y_test, y_pred_proba_dt) *100, 3)\n",
    "f1['f1_score_dt'] = np.round(f1_score(y_test, pred_dt) * 100, 3)\n",
    "diff_cv_acc[\"diff_cv_acc_dt\"] = np.abs(np.round(accuracy['Accuracy Score_dt']-cross_val_acc[\"cross_val_acc_dt\"],3))\n",
    "print(accuracy, cross_val_acc, roc_auc, f1, diff_cv_acc, speed_fit, speed_cv)"
   ]
  },
  {
   "cell_type": "markdown",
   "id": "23b3fe2b",
   "metadata": {},
   "source": [
    "### Logistic Regression"
   ]
  },
  {
   "cell_type": "code",
   "execution_count": 26,
   "id": "35db06c9",
   "metadata": {},
   "outputs": [],
   "source": [
    "lr_model = LogisticRegression(max_iter=1000)\n",
    "\n",
    "start = time.time()\n",
    "\n",
    "lr_model.fit(X_train,y_train)\n",
    "\n",
    "pred_lr = lr_model.predict(X_test)\n",
    "\n",
    "end = time.time()\n",
    "\n",
    "speed_fit[\"fit_speed_lr\"] = np.round( end - start, 3)"
   ]
  },
  {
   "cell_type": "code",
   "execution_count": 27,
   "id": "35522be2",
   "metadata": {},
   "outputs": [],
   "source": [
    "start = time.time()\n",
    "score_lr = cross_val_score(estimator =lr_model,X =  X_train.values, y = y_train, scoring=\"accuracy\", cv=5, n_jobs=-1)\n",
    "end = time.time()\n",
    "speed_cv[\"cv_speed_lr\"] = np.round( end - start, 3)\n",
    "\n",
    "\n",
    "# Predict the test set probabilities of positive class\n",
    "y_pred_proba_lr = lr_model.predict_proba(X_test)[:,1]"
   ]
  },
  {
   "cell_type": "code",
   "execution_count": 28,
   "id": "a4242f11",
   "metadata": {},
   "outputs": [
    {
     "name": "stdout",
     "output_type": "stream",
     "text": [
      "{'Accuracy Score_dt': 85.207, 'Accuracy Score_lr': 79.84} {'cross_val_acc_dt': 84.8, 'cross_val_acc_lr': 79.0} {'roc_auc_score_dt': 85.206, 'roc_auc_score_lr': 87.506} {'f1_score_dt': 85.245, 'f1_score_lr': 79.781} {'diff_cv_acc_dt': 0.407, 'diff_cv_acc_lr': 0.84} {'fit_speed_dt': 1.697, 'fit_speed_lr': 0.167} {'cv_speed_dt': 3.897, 'cv_speed_lr': 2.175}\n"
     ]
    }
   ],
   "source": [
    "accuracy['Accuracy Score_lr'] = np.round(accuracy_score(y_test, pred_lr)*100, 3)\n",
    "\n",
    "cross_val_acc[\"cross_val_acc_lr\"] = np.round(np.mean(score_lr).round(3) * 100,3)\n",
    "\n",
    "roc_auc['roc_auc_score_lr'] = np.round(roc_auc_score(y_test, y_pred_proba_lr) *100, 3)\n",
    "\n",
    "f1['f1_score_lr'] = np.round(f1_score(y_test, pred_lr) * 100, 3)\n",
    "\n",
    "diff_cv_acc[\"diff_cv_acc_lr\"] = np.round(np.abs(accuracy['Accuracy Score_lr']-cross_val_acc[\"cross_val_acc_lr\"]), 3)\n",
    "\n",
    "print(accuracy, cross_val_acc, roc_auc, f1, diff_cv_acc, speed_fit, speed_cv)"
   ]
  },
  {
   "cell_type": "markdown",
   "id": "25a3901b",
   "metadata": {},
   "source": [
    "### KNN"
   ]
  },
  {
   "cell_type": "code",
   "execution_count": 29,
   "id": "b994f2ae",
   "metadata": {},
   "outputs": [],
   "source": [
    "knn_model = KNeighborsClassifier()\n",
    "\n",
    "start = time.time()\n",
    "\n",
    "knn_model.fit(X_train,y_train)\n",
    "\n",
    "pred_knn = knn_model.predict(X_test)\n",
    "\n",
    "end = time.time()\n",
    "\n",
    "speed_fit[\"fit_speed_knn\"] = np.round( end - start, 3)"
   ]
  },
  {
   "cell_type": "code",
   "execution_count": 30,
   "id": "24c269a3",
   "metadata": {},
   "outputs": [],
   "source": [
    "start = time.time()\n",
    "score_knn = cross_val_score(estimator =knn_model,X =  X_train.values, y = y_train, scoring=\"accuracy\", cv=5, n_jobs=-1)\n",
    "end = time.time()\n",
    "speed_cv[\"cv_speed_knn\"] = np.round( end - start, 3)\n",
    "\n",
    "# Predict the test set probabilities of positive class\n",
    "y_pred_proba_knn = knn_model.predict_proba(X_test)[:,1]"
   ]
  },
  {
   "cell_type": "code",
   "execution_count": 31,
   "id": "64a1c43d",
   "metadata": {},
   "outputs": [
    {
     "name": "stdout",
     "output_type": "stream",
     "text": [
      "{'Accuracy Score_dt': 85.207, 'Accuracy Score_lr': 79.84, 'Accuracy Score_knn': 96.953} {'cross_val_acc_dt': 84.8, 'cross_val_acc_lr': 79.0, 'cross_val_acc_knn': 96.6} {'roc_auc_score_dt': 85.206, 'roc_auc_score_lr': 87.506, 'roc_auc_score_knn': 99.039} {'f1_score_dt': 85.245, 'f1_score_lr': 79.781, 'f1_score_knn': 96.954} {'diff_cv_acc_dt': 0.407, 'diff_cv_acc_lr': 0.84, 'diff_cv_acc_knn': 0.353} {'fit_speed_dt': 1.697, 'fit_speed_lr': 0.167, 'fit_speed_knn': 14.949} {'cv_speed_dt': 3.897, 'cv_speed_lr': 2.175, 'cv_speed_knn': 23.285}\n"
     ]
    }
   ],
   "source": [
    "accuracy['Accuracy Score_knn'] = np.round(accuracy_score(y_test, pred_knn)*100, 3)\n",
    "\n",
    "cross_val_acc[\"cross_val_acc_knn\"] = np.round(np.mean(score_knn).round(3) * 100,3)\n",
    "\n",
    "roc_auc['roc_auc_score_knn'] = np.round(roc_auc_score(y_test, y_pred_proba_knn) *100, 3)\n",
    "\n",
    "f1['f1_score_knn'] = np.round(f1_score(y_test, pred_knn) * 100, 3)\n",
    "\n",
    "diff_cv_acc[\"diff_cv_acc_knn\"] = np.round(np.abs(accuracy['Accuracy Score_knn']-cross_val_acc[\"cross_val_acc_knn\"]), 3)\n",
    "\n",
    "print(accuracy, cross_val_acc, roc_auc, f1, diff_cv_acc, speed_fit, speed_cv)"
   ]
  },
  {
   "cell_type": "markdown",
   "id": "864d318e",
   "metadata": {},
   "source": [
    "### Random Forest"
   ]
  },
  {
   "cell_type": "code",
   "execution_count": 32,
   "id": "6e42ac48",
   "metadata": {},
   "outputs": [],
   "source": [
    "rf_model = RandomForestClassifier()\n",
    "\n",
    "start = time.time()\n",
    "\n",
    "rf_model.fit(X_train,y_train)\n",
    "\n",
    "pred_rf = rf_model.predict(X_test)\n",
    "\n",
    "end = time.time()\n",
    "\n",
    "speed_fit[\"fit_speed_rf\"] = np.round( end - start, 3)"
   ]
  },
  {
   "cell_type": "code",
   "execution_count": 33,
   "id": "54fa0484",
   "metadata": {},
   "outputs": [],
   "source": [
    "start = time.time()\n",
    "score_rf = cross_val_score(estimator =rf_model,X =  X_train.values, y = y_train, scoring=\"accuracy\", cv=5, n_jobs=-1)\n",
    "end = time.time()\n",
    "\n",
    "speed_cv[\"cv_speed_rf\"] = np.round( end - start, 3)\n",
    "\n",
    "# Predict the test set probabilities of positive class\n",
    "y_pred_proba_rf = rf_model.predict_proba(X_test)[:,1]"
   ]
  },
  {
   "cell_type": "code",
   "execution_count": 34,
   "id": "a29b672a",
   "metadata": {},
   "outputs": [
    {
     "name": "stdout",
     "output_type": "stream",
     "text": [
      "{'Accuracy Score_dt': 85.207, 'Accuracy Score_lr': 79.84, 'Accuracy Score_knn': 96.953, 'Accuracy Score_rf': 96.547} {'cross_val_acc_dt': 84.8, 'cross_val_acc_lr': 79.0, 'cross_val_acc_knn': 96.6, 'cross_val_acc_rf': 95.8} {'roc_auc_score_dt': 85.206, 'roc_auc_score_lr': 87.506, 'roc_auc_score_knn': 99.039, 'roc_auc_score_rf': 99.01} {'f1_score_dt': 85.245, 'f1_score_lr': 79.781, 'f1_score_knn': 96.954, 'f1_score_rf': 96.524} {'diff_cv_acc_dt': 0.407, 'diff_cv_acc_lr': 0.84, 'diff_cv_acc_knn': 0.353, 'diff_cv_acc_rf': 0.747} {'fit_speed_dt': 1.697, 'fit_speed_lr': 0.167, 'fit_speed_knn': 14.949, 'fit_speed_rf': 20.749} {'cv_speed_dt': 3.897, 'cv_speed_lr': 2.175, 'cv_speed_knn': 23.285, 'cv_speed_rf': 17.1}\n"
     ]
    }
   ],
   "source": [
    "accuracy['Accuracy Score_rf'] = np.round(accuracy_score(y_test, pred_rf)*100, 3)\n",
    "\n",
    "cross_val_acc[\"cross_val_acc_rf\"] = np.round(np.mean(score_rf).round(3) * 100,3)\n",
    "\n",
    "roc_auc['roc_auc_score_rf'] = np.round(roc_auc_score(y_test, y_pred_proba_rf) *100, 3)\n",
    "\n",
    "f1['f1_score_rf'] = np.round(f1_score(y_test, pred_rf) * 100, 3)\n",
    "\n",
    "diff_cv_acc[\"diff_cv_acc_rf\"] = np.round(np.abs(accuracy['Accuracy Score_rf']-cross_val_acc[\"cross_val_acc_rf\"]), 3)\n",
    "\n",
    "print(accuracy, cross_val_acc, roc_auc, f1, diff_cv_acc, speed_fit, speed_cv)"
   ]
  },
  {
   "cell_type": "code",
   "execution_count": null,
   "id": "8a232fb2",
   "metadata": {},
   "outputs": [],
   "source": []
  },
  {
   "cell_type": "markdown",
   "id": "7fb6317a",
   "metadata": {},
   "source": [
    "### AdaBoost"
   ]
  },
  {
   "cell_type": "code",
   "execution_count": 35,
   "id": "d2acecd1",
   "metadata": {},
   "outputs": [],
   "source": [
    "ada_model = AdaBoostClassifier(n_estimators=100)\n",
    "\n",
    "start = time.time()\n",
    "\n",
    "ada_model.fit(X_train,y_train)\n",
    "\n",
    "pred_ada = ada_model.predict(X_test)\n",
    "\n",
    "end = time.time()\n",
    "\n",
    "speed_fit[\"fit_speed_ada\"] = np.round( end - start, 3)"
   ]
  },
  {
   "cell_type": "code",
   "execution_count": 36,
   "id": "9b16f66a",
   "metadata": {},
   "outputs": [],
   "source": [
    "start = time.time()\n",
    "score_ada = cross_val_score(estimator =ada_model,X =  X_train.values, y = y_train, scoring=\"accuracy\", cv=5, n_jobs=-1)\n",
    "end = time.time()\n",
    "\n",
    "speed_cv[\"cv_speed_ada\"] = np.round( end - start, 3)\n",
    "\n",
    "# Predict the test set probabilities of positive class\n",
    "y_pred_proba_ada = ada_model.predict_proba(X_test)[:,1]"
   ]
  },
  {
   "cell_type": "code",
   "execution_count": 37,
   "id": "dbc5a76a",
   "metadata": {},
   "outputs": [
    {
     "name": "stdout",
     "output_type": "stream",
     "text": [
      "{'Accuracy Score_dt': 85.207, 'Accuracy Score_lr': 79.84, 'Accuracy Score_knn': 96.953, 'Accuracy Score_rf': 96.547, 'Accuracy Score_ada': 81.733} {'cross_val_acc_dt': 84.8, 'cross_val_acc_lr': 79.0, 'cross_val_acc_knn': 96.6, 'cross_val_acc_rf': 95.8, 'cross_val_acc_ada': 81.0} {'roc_auc_score_dt': 85.206, 'roc_auc_score_lr': 87.506, 'roc_auc_score_knn': 99.039, 'roc_auc_score_rf': 99.01, 'roc_auc_score_ada': 89.74} {'f1_score_dt': 85.245, 'f1_score_lr': 79.781, 'f1_score_knn': 96.954, 'f1_score_rf': 96.524, 'f1_score_ada': 81.763} {'diff_cv_acc_dt': 0.407, 'diff_cv_acc_lr': 0.84, 'diff_cv_acc_knn': 0.353, 'diff_cv_acc_rf': 0.747, 'diff_cv_acc_ada': 0.733} {'fit_speed_dt': 1.697, 'fit_speed_lr': 0.167, 'fit_speed_knn': 14.949, 'fit_speed_rf': 20.749, 'fit_speed_ada': 16.277} {'cv_speed_dt': 3.897, 'cv_speed_lr': 2.175, 'cv_speed_knn': 23.285, 'cv_speed_rf': 17.1, 'cv_speed_ada': 15.011}\n"
     ]
    }
   ],
   "source": [
    "accuracy['Accuracy Score_ada'] = np.round(accuracy_score(y_test, pred_ada)*100, 3)\n",
    "\n",
    "cross_val_acc[\"cross_val_acc_ada\"] = np.round(np.mean(score_ada).round(3) * 100,3)\n",
    "\n",
    "roc_auc['roc_auc_score_ada'] = np.round(roc_auc_score(y_test, y_pred_proba_ada) *100, 3)\n",
    "\n",
    "f1['f1_score_ada'] = np.round(f1_score(y_test, pred_ada) * 100, 3)\n",
    "\n",
    "diff_cv_acc[\"diff_cv_acc_ada\"] = np.round(np.abs(accuracy['Accuracy Score_ada']-cross_val_acc[\"cross_val_acc_ada\"]), 3)\n",
    "\n",
    "print(accuracy, cross_val_acc, roc_auc, f1, diff_cv_acc, speed_fit, speed_cv)"
   ]
  },
  {
   "cell_type": "markdown",
   "id": "1b5dcf19",
   "metadata": {},
   "source": [
    "### Gradient Boosting"
   ]
  },
  {
   "cell_type": "code",
   "execution_count": 38,
   "id": "4319fd62",
   "metadata": {},
   "outputs": [],
   "source": [
    "gb_model = GradientBoostingClassifier()\n",
    "\n",
    "start = time.time()\n",
    "\n",
    "gb_model.fit(X_train,y_train)\n",
    "\n",
    "pred_gb = gb_model.predict(X_test)\n",
    "\n",
    "end = time.time()\n",
    "\n",
    "speed_fit[\"fit_speed_gb\"] = np.round( end - start, 3)"
   ]
  },
  {
   "cell_type": "code",
   "execution_count": 39,
   "id": "a4d91798",
   "metadata": {},
   "outputs": [],
   "source": [
    "start = time.time()\n",
    "score_gb = cross_val_score(estimator =gb_model,X =  X_train.values, y = y_train, scoring=\"accuracy\", cv=5, n_jobs=-1)\n",
    "end = time.time()\n",
    "\n",
    "speed_cv[\"cv_speed_gb\"] = np.round( end - start, 3)\n",
    "\n",
    "# Predict the test set probabilities of positive class\n",
    "y_pred_proba_gb = gb_model.predict_proba(X_test)[:,1]"
   ]
  },
  {
   "cell_type": "code",
   "execution_count": 40,
   "id": "157d240f",
   "metadata": {},
   "outputs": [
    {
     "name": "stdout",
     "output_type": "stream",
     "text": [
      "{'Accuracy Score_dt': 85.207, 'Accuracy Score_lr': 79.84, 'Accuracy Score_knn': 96.953, 'Accuracy Score_rf': 96.547, 'Accuracy Score_ada': 81.733, 'Accuracy Score_gb': 89.767} {'cross_val_acc_dt': 84.8, 'cross_val_acc_lr': 79.0, 'cross_val_acc_knn': 96.6, 'cross_val_acc_rf': 95.8, 'cross_val_acc_ada': 81.0, 'cross_val_acc_gb': 89.1} {'roc_auc_score_dt': 85.206, 'roc_auc_score_lr': 87.506, 'roc_auc_score_knn': 99.039, 'roc_auc_score_rf': 99.01, 'roc_auc_score_ada': 89.74, 'roc_auc_score_gb': 96.1} {'f1_score_dt': 85.245, 'f1_score_lr': 79.781, 'f1_score_knn': 96.954, 'f1_score_rf': 96.524, 'f1_score_ada': 81.763, 'f1_score_gb': 89.682} {'diff_cv_acc_dt': 0.407, 'diff_cv_acc_lr': 0.84, 'diff_cv_acc_knn': 0.353, 'diff_cv_acc_rf': 0.747, 'diff_cv_acc_ada': 0.733, 'diff_cv_acc_gb': 0.667} {'fit_speed_dt': 1.697, 'fit_speed_lr': 0.167, 'fit_speed_knn': 14.949, 'fit_speed_rf': 20.749, 'fit_speed_ada': 16.277, 'fit_speed_gb': 38.91} {'cv_speed_dt': 3.897, 'cv_speed_lr': 2.175, 'cv_speed_knn': 23.285, 'cv_speed_rf': 17.1, 'cv_speed_ada': 15.011, 'cv_speed_gb': 33.689}\n"
     ]
    }
   ],
   "source": [
    "accuracy['Accuracy Score_gb'] = np.round(accuracy_score(y_test, pred_gb)*100, 3)\n",
    "\n",
    "cross_val_acc[\"cross_val_acc_gb\"] = np.round(np.mean(score_gb).round(3) * 100,3)\n",
    "\n",
    "roc_auc['roc_auc_score_gb'] = np.round(roc_auc_score(y_test, y_pred_proba_gb) *100, 3)\n",
    "\n",
    "f1['f1_score_gb'] = np.round(f1_score(y_test, pred_gb) * 100, 3)\n",
    "\n",
    "diff_cv_acc[\"diff_cv_acc_gb\"] = np.round(np.abs(accuracy['Accuracy Score_gb']-cross_val_acc[\"cross_val_acc_gb\"]), 3)\n",
    "\n",
    "print(accuracy, cross_val_acc, roc_auc, f1, diff_cv_acc, speed_fit, speed_cv)"
   ]
  },
  {
   "cell_type": "markdown",
   "id": "476ae54f",
   "metadata": {},
   "source": [
    "### Light GBM"
   ]
  },
  {
   "cell_type": "code",
   "execution_count": 41,
   "id": "f71692b5",
   "metadata": {},
   "outputs": [],
   "source": [
    "lgb_model = lgb.LGBMClassifier()\n",
    "\n",
    "start = time.time()\n",
    "\n",
    "lgb_model.fit(X_train,y_train)\n",
    "\n",
    "pred_lgb = lgb_model.predict(X_test)\n",
    "\n",
    "end = time.time()\n",
    "\n",
    "speed_fit[\"fit_speed_lgb\"] = np.round(end - start, 3)"
   ]
  },
  {
   "cell_type": "code",
   "execution_count": 42,
   "id": "d8188276",
   "metadata": {},
   "outputs": [],
   "source": [
    "start = time.time()\n",
    "score_lgb = cross_val_score(estimator = lgb_model, X =  X_train.values, y = y_train, scoring=\"accuracy\", cv=5, n_jobs=-1)\n",
    "end = time.time()\n",
    "\n",
    "speed_cv[\"cv_speed_lgb\"] = np.round( end - start, 3)\n",
    "\n",
    "# Predict the test set probabilities of positive class\n",
    "y_pred_proba_lgb = lgb_model.predict_proba(X_test)[:,1]"
   ]
  },
  {
   "cell_type": "code",
   "execution_count": 43,
   "id": "adf50314",
   "metadata": {},
   "outputs": [
    {
     "name": "stdout",
     "output_type": "stream",
     "text": [
      "{'Accuracy Score_dt': 85.207, 'Accuracy Score_lr': 79.84, 'Accuracy Score_knn': 96.953, 'Accuracy Score_rf': 96.547, 'Accuracy Score_ada': 81.733, 'Accuracy Score_gb': 89.767, 'Accuracy Score_lgb': 95.853} {'cross_val_acc_dt': 84.8, 'cross_val_acc_lr': 79.0, 'cross_val_acc_knn': 96.6, 'cross_val_acc_rf': 95.8, 'cross_val_acc_ada': 81.0, 'cross_val_acc_gb': 89.1, 'cross_val_acc_lgb': 95.5} {'roc_auc_score_dt': 85.206, 'roc_auc_score_lr': 87.506, 'roc_auc_score_knn': 99.039, 'roc_auc_score_rf': 99.01, 'roc_auc_score_ada': 89.74, 'roc_auc_score_gb': 96.1, 'roc_auc_score_lgb': 98.927} {'f1_score_dt': 85.245, 'f1_score_lr': 79.781, 'f1_score_knn': 96.954, 'f1_score_rf': 96.524, 'f1_score_ada': 81.763, 'f1_score_gb': 89.682, 'f1_score_lgb': 95.843} {'diff_cv_acc_dt': 0.407, 'diff_cv_acc_lr': 0.84, 'diff_cv_acc_knn': 0.353, 'diff_cv_acc_rf': 0.747, 'diff_cv_acc_ada': 0.733, 'diff_cv_acc_gb': 0.667, 'diff_cv_acc_lgb': 0.353} {'fit_speed_dt': 1.697, 'fit_speed_lr': 0.167, 'fit_speed_knn': 14.949, 'fit_speed_rf': 20.749, 'fit_speed_ada': 16.277, 'fit_speed_gb': 38.91, 'fit_speed_lgb': 0.364} {'cv_speed_dt': 3.897, 'cv_speed_lr': 2.175, 'cv_speed_knn': 23.285, 'cv_speed_rf': 17.1, 'cv_speed_ada': 15.011, 'cv_speed_gb': 33.689, 'cv_speed_lgb': 2.245}\n"
     ]
    }
   ],
   "source": [
    "accuracy['Accuracy Score_lgb'] = np.round(accuracy_score(y_test, pred_lgb)*100, 3)\n",
    "\n",
    "cross_val_acc[\"cross_val_acc_lgb\"] = np.round(np.mean(score_lgb).round(3) * 100,3)\n",
    "\n",
    "roc_auc['roc_auc_score_lgb'] = np.round(roc_auc_score(y_test, y_pred_proba_lgb) *100, 3)\n",
    "\n",
    "f1['f1_score_lgb'] = np.round(f1_score(y_test, pred_lgb) * 100, 3)\n",
    "\n",
    "diff_cv_acc[\"diff_cv_acc_lgb\"] = np.round(np.abs(accuracy['Accuracy Score_lgb']-cross_val_acc[\"cross_val_acc_lgb\"]), 3)\n",
    "\n",
    "print(accuracy, cross_val_acc, roc_auc, f1, diff_cv_acc, speed_fit, speed_cv)"
   ]
  },
  {
   "cell_type": "markdown",
   "id": "7b533360",
   "metadata": {},
   "source": [
    "### XGBoost"
   ]
  },
  {
   "cell_type": "code",
   "execution_count": 44,
   "id": "e49bacb7",
   "metadata": {},
   "outputs": [
    {
     "name": "stdout",
     "output_type": "stream",
     "text": [
      "[17:25:31] WARNING: D:\\bld\\xgboost-split_1637426510059\\work\\src\\learner.cc:1115: Starting in XGBoost 1.3.0, the default evaluation metric used with the objective 'binary:logistic' was changed from 'error' to 'logloss'. Explicitly set eval_metric if you'd like to restore the old behavior.\n"
     ]
    },
    {
     "name": "stderr",
     "output_type": "stream",
     "text": [
      "C:\\Users\\User\\anaconda3\\lib\\site-packages\\xgboost\\sklearn.py:1224: UserWarning: The use of label encoder in XGBClassifier is deprecated and will be removed in a future release. To remove this warning, do the following: 1) Pass option use_label_encoder=False when constructing XGBClassifier object; and 2) Encode your labels (y) as integers starting with 0, i.e. 0, 1, 2, ..., [num_class - 1].\n",
      "  warnings.warn(label_encoder_deprecation_msg, UserWarning)\n"
     ]
    }
   ],
   "source": [
    "xgb_model = xgb.XGBClassifier(objective='binary:logistic')\n",
    "\n",
    "start = time.time()\n",
    "\n",
    "xgb_model.fit(X_train,y_train)\n",
    "\n",
    "pred_xgb = xgb_model.predict(X_test)\n",
    "\n",
    "end = time.time()\n",
    "\n",
    "speed_fit[\"fit_speed_xgb\"] = np.round(end - start, 3)"
   ]
  },
  {
   "cell_type": "code",
   "execution_count": 45,
   "id": "c72f3665",
   "metadata": {},
   "outputs": [],
   "source": [
    "start = time.time()\n",
    "score_xgb = cross_val_score(estimator = xgb_model, X =  X_train.values, y = y_train, scoring=\"accuracy\", cv=5, n_jobs=-1)\n",
    "end = time.time()\n",
    "\n",
    "speed_cv[\"cv_speed_xgb\"] = np.round( end - start, 3)\n",
    "\n",
    "# Predict the test set probabilities of positive class\n",
    "y_pred_proba_xgb = xgb_model.predict_proba(X_test)[:,1]"
   ]
  },
  {
   "cell_type": "code",
   "execution_count": 46,
   "id": "7e933b37",
   "metadata": {},
   "outputs": [
    {
     "name": "stdout",
     "output_type": "stream",
     "text": [
      "{'Accuracy Score_dt': 85.207, 'Accuracy Score_lr': 79.84, 'Accuracy Score_knn': 96.953, 'Accuracy Score_rf': 96.547, 'Accuracy Score_ada': 81.733, 'Accuracy Score_gb': 89.767, 'Accuracy Score_lgb': 95.853, 'Accuracy Score_xgb': 97.107} {'cross_val_acc_dt': 84.8, 'cross_val_acc_lr': 79.0, 'cross_val_acc_knn': 96.6, 'cross_val_acc_rf': 95.8, 'cross_val_acc_ada': 81.0, 'cross_val_acc_gb': 89.1, 'cross_val_acc_lgb': 95.5, 'cross_val_acc_xgb': 96.8} {'roc_auc_score_dt': 85.206, 'roc_auc_score_lr': 87.506, 'roc_auc_score_knn': 99.039, 'roc_auc_score_rf': 99.01, 'roc_auc_score_ada': 89.74, 'roc_auc_score_gb': 96.1, 'roc_auc_score_lgb': 98.927, 'roc_auc_score_xgb': 99.176} {'f1_score_dt': 85.245, 'f1_score_lr': 79.781, 'f1_score_knn': 96.954, 'f1_score_rf': 96.524, 'f1_score_ada': 81.763, 'f1_score_gb': 89.682, 'f1_score_lgb': 95.843, 'f1_score_xgb': 97.107} {'diff_cv_acc_dt': 0.407, 'diff_cv_acc_lr': 0.84, 'diff_cv_acc_knn': 0.353, 'diff_cv_acc_rf': 0.747, 'diff_cv_acc_ada': 0.733, 'diff_cv_acc_gb': 0.667, 'diff_cv_acc_lgb': 0.353, 'diff_cv_acc_xgb': 0.307} {'fit_speed_dt': 1.697, 'fit_speed_lr': 0.167, 'fit_speed_knn': 14.949, 'fit_speed_rf': 20.749, 'fit_speed_ada': 16.277, 'fit_speed_gb': 38.91, 'fit_speed_lgb': 0.364, 'fit_speed_xgb': 4.699} {'cv_speed_dt': 3.897, 'cv_speed_lr': 2.175, 'cv_speed_knn': 23.285, 'cv_speed_rf': 17.1, 'cv_speed_ada': 15.011, 'cv_speed_gb': 33.689, 'cv_speed_lgb': 2.245, 'cv_speed_xgb': 17.585}\n"
     ]
    }
   ],
   "source": [
    "accuracy['Accuracy Score_xgb'] = np.round(accuracy_score(y_test, pred_xgb)*100, 3)\n",
    "\n",
    "cross_val_acc[\"cross_val_acc_xgb\"] = np.round(np.mean(score_xgb).round(3) * 100,3)\n",
    "\n",
    "roc_auc['roc_auc_score_xgb'] = np.round(roc_auc_score(y_test, y_pred_proba_xgb) *100, 3)\n",
    "\n",
    "f1['f1_score_xgb'] = np.round(f1_score(y_test, pred_xgb) * 100, 3)\n",
    "\n",
    "diff_cv_acc[\"diff_cv_acc_xgb\"] = np.round(np.abs(accuracy['Accuracy Score_xgb']-cross_val_acc[\"cross_val_acc_xgb\"]), 3)\n",
    "\n",
    "print(accuracy, cross_val_acc, roc_auc, f1, diff_cv_acc, speed_fit, speed_cv)"
   ]
  },
  {
   "cell_type": "code",
   "execution_count": 47,
   "id": "574cb044",
   "metadata": {},
   "outputs": [
    {
     "data": {
      "text/plain": [
       "{'Accuracy Score_dt': 85.207,\n",
       " 'Accuracy Score_lr': 79.84,\n",
       " 'Accuracy Score_knn': 96.953,\n",
       " 'Accuracy Score_rf': 96.547,\n",
       " 'Accuracy Score_ada': 81.733,\n",
       " 'Accuracy Score_gb': 89.767,\n",
       " 'Accuracy Score_lgb': 95.853,\n",
       " 'Accuracy Score_xgb': 97.107}"
      ]
     },
     "execution_count": 47,
     "metadata": {},
     "output_type": "execute_result"
    }
   ],
   "source": [
    "accuracy"
   ]
  },
  {
   "cell_type": "code",
   "execution_count": 48,
   "id": "d16d4d43",
   "metadata": {},
   "outputs": [
    {
     "data": {
      "text/plain": [
       "{'cross_val_acc_dt': 84.8,\n",
       " 'cross_val_acc_lr': 79.0,\n",
       " 'cross_val_acc_knn': 96.6,\n",
       " 'cross_val_acc_rf': 95.8,\n",
       " 'cross_val_acc_ada': 81.0,\n",
       " 'cross_val_acc_gb': 89.1,\n",
       " 'cross_val_acc_lgb': 95.5,\n",
       " 'cross_val_acc_xgb': 96.8}"
      ]
     },
     "execution_count": 48,
     "metadata": {},
     "output_type": "execute_result"
    }
   ],
   "source": [
    "cross_val_acc"
   ]
  },
  {
   "cell_type": "code",
   "execution_count": 49,
   "id": "9d2fe7da",
   "metadata": {},
   "outputs": [
    {
     "data": {
      "text/plain": [
       "{'roc_auc_score_dt': 85.206,\n",
       " 'roc_auc_score_lr': 87.506,\n",
       " 'roc_auc_score_knn': 99.039,\n",
       " 'roc_auc_score_rf': 99.01,\n",
       " 'roc_auc_score_ada': 89.74,\n",
       " 'roc_auc_score_gb': 96.1,\n",
       " 'roc_auc_score_lgb': 98.927,\n",
       " 'roc_auc_score_xgb': 99.176}"
      ]
     },
     "execution_count": 49,
     "metadata": {},
     "output_type": "execute_result"
    }
   ],
   "source": [
    "roc_auc"
   ]
  },
  {
   "cell_type": "code",
   "execution_count": 50,
   "id": "5c8e01b7",
   "metadata": {},
   "outputs": [
    {
     "data": {
      "text/plain": [
       "{'f1_score_dt': 85.245,\n",
       " 'f1_score_lr': 79.781,\n",
       " 'f1_score_knn': 96.954,\n",
       " 'f1_score_rf': 96.524,\n",
       " 'f1_score_ada': 81.763,\n",
       " 'f1_score_gb': 89.682,\n",
       " 'f1_score_lgb': 95.843,\n",
       " 'f1_score_xgb': 97.107}"
      ]
     },
     "execution_count": 50,
     "metadata": {},
     "output_type": "execute_result"
    }
   ],
   "source": [
    "f1"
   ]
  },
  {
   "cell_type": "code",
   "execution_count": 51,
   "id": "ece9314b",
   "metadata": {},
   "outputs": [
    {
     "data": {
      "text/plain": [
       "{'diff_cv_acc_dt': 0.407,\n",
       " 'diff_cv_acc_lr': 0.84,\n",
       " 'diff_cv_acc_knn': 0.353,\n",
       " 'diff_cv_acc_rf': 0.747,\n",
       " 'diff_cv_acc_ada': 0.733,\n",
       " 'diff_cv_acc_gb': 0.667,\n",
       " 'diff_cv_acc_lgb': 0.353,\n",
       " 'diff_cv_acc_xgb': 0.307}"
      ]
     },
     "execution_count": 51,
     "metadata": {},
     "output_type": "execute_result"
    }
   ],
   "source": [
    "diff_cv_acc"
   ]
  },
  {
   "cell_type": "code",
   "execution_count": 52,
   "id": "e2d23213",
   "metadata": {},
   "outputs": [
    {
     "data": {
      "text/plain": [
       "{'fit_speed_dt': 1.697,\n",
       " 'fit_speed_lr': 0.167,\n",
       " 'fit_speed_knn': 14.949,\n",
       " 'fit_speed_rf': 20.749,\n",
       " 'fit_speed_ada': 16.277,\n",
       " 'fit_speed_gb': 38.91,\n",
       " 'fit_speed_lgb': 0.364,\n",
       " 'fit_speed_xgb': 4.699}"
      ]
     },
     "execution_count": 52,
     "metadata": {},
     "output_type": "execute_result"
    }
   ],
   "source": [
    "speed_fit"
   ]
  },
  {
   "cell_type": "code",
   "execution_count": 53,
   "id": "6bce76e1",
   "metadata": {},
   "outputs": [
    {
     "data": {
      "text/plain": [
       "{'cv_speed_dt': 3.897,\n",
       " 'cv_speed_lr': 2.175,\n",
       " 'cv_speed_knn': 23.285,\n",
       " 'cv_speed_rf': 17.1,\n",
       " 'cv_speed_ada': 15.011,\n",
       " 'cv_speed_gb': 33.689,\n",
       " 'cv_speed_lgb': 2.245,\n",
       " 'cv_speed_xgb': 17.585}"
      ]
     },
     "execution_count": 53,
     "metadata": {},
     "output_type": "execute_result"
    }
   ],
   "source": [
    "speed_cv"
   ]
  },
  {
   "cell_type": "code",
   "execution_count": null,
   "id": "96b5cdea",
   "metadata": {},
   "outputs": [],
   "source": []
  },
  {
   "cell_type": "code",
   "execution_count": null,
   "id": "1a0f9ab2",
   "metadata": {},
   "outputs": [],
   "source": []
  },
  {
   "cell_type": "code",
   "execution_count": null,
   "id": "70c2821b",
   "metadata": {},
   "outputs": [],
   "source": []
  },
  {
   "cell_type": "code",
   "execution_count": null,
   "id": "d70c9bde",
   "metadata": {},
   "outputs": [],
   "source": []
  },
  {
   "cell_type": "code",
   "execution_count": null,
   "id": "9e5b951b",
   "metadata": {},
   "outputs": [],
   "source": []
  },
  {
   "cell_type": "code",
   "execution_count": null,
   "id": "31a6803e",
   "metadata": {},
   "outputs": [],
   "source": []
  },
  {
   "cell_type": "code",
   "execution_count": null,
   "id": "d70f7f0e",
   "metadata": {},
   "outputs": [],
   "source": []
  },
  {
   "cell_type": "code",
   "execution_count": null,
   "id": "3a9c3291",
   "metadata": {},
   "outputs": [],
   "source": []
  },
  {
   "cell_type": "code",
   "execution_count": null,
   "id": "e430d67f",
   "metadata": {},
   "outputs": [],
   "source": []
  },
  {
   "cell_type": "code",
   "execution_count": null,
   "id": "dedc503e",
   "metadata": {},
   "outputs": [],
   "source": []
  },
  {
   "cell_type": "code",
   "execution_count": null,
   "id": "2bfd8bc3",
   "metadata": {},
   "outputs": [],
   "source": []
  },
  {
   "cell_type": "code",
   "execution_count": null,
   "id": "d8f8283e",
   "metadata": {},
   "outputs": [],
   "source": []
  },
  {
   "cell_type": "code",
   "execution_count": null,
   "id": "fca1ae8c",
   "metadata": {},
   "outputs": [],
   "source": []
  }
 ],
 "metadata": {
  "kernelspec": {
   "display_name": "Python 3",
   "language": "python",
   "name": "python3"
  },
  "language_info": {
   "codemirror_mode": {
    "name": "ipython",
    "version": 3
   },
   "file_extension": ".py",
   "mimetype": "text/x-python",
   "name": "python",
   "nbconvert_exporter": "python",
   "pygments_lexer": "ipython3",
   "version": "3.8.8"
  }
 },
 "nbformat": 4,
 "nbformat_minor": 5
}

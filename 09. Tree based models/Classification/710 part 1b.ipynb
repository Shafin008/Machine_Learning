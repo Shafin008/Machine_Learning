{
 "cells": [
  {
   "cell_type": "code",
   "execution_count": 1,
   "id": "b9f304df",
   "metadata": {},
   "outputs": [],
   "source": [
    "import pandas as pd\n",
    "import numpy as np"
   ]
  },
  {
   "cell_type": "code",
   "execution_count": 2,
   "id": "cbfc971b",
   "metadata": {},
   "outputs": [],
   "source": [
    "from sklearn.datasets import make_classification\n",
    "\n",
    "X,y = make_classification(n_samples=100000, n_features=25, n_informative=20, n_redundant=5, random_state=0)"
   ]
  },
  {
   "cell_type": "code",
   "execution_count": 3,
   "id": "61444303",
   "metadata": {},
   "outputs": [],
   "source": [
    "df = pd.DataFrame(X, columns = [\"Column{}\".format(i) for i in range(25)])"
   ]
  },
  {
   "cell_type": "code",
   "execution_count": 4,
   "id": "8fed9628",
   "metadata": {},
   "outputs": [],
   "source": [
    "df[\"label\"] = y"
   ]
  },
  {
   "cell_type": "code",
   "execution_count": 5,
   "id": "de39f222",
   "metadata": {},
   "outputs": [
    {
     "data": {
      "text/html": [
       "<div>\n",
       "<style scoped>\n",
       "    .dataframe tbody tr th:only-of-type {\n",
       "        vertical-align: middle;\n",
       "    }\n",
       "\n",
       "    .dataframe tbody tr th {\n",
       "        vertical-align: top;\n",
       "    }\n",
       "\n",
       "    .dataframe thead th {\n",
       "        text-align: right;\n",
       "    }\n",
       "</style>\n",
       "<table border=\"1\" class=\"dataframe\">\n",
       "  <thead>\n",
       "    <tr style=\"text-align: right;\">\n",
       "      <th></th>\n",
       "      <th>Column0</th>\n",
       "      <th>Column1</th>\n",
       "      <th>Column2</th>\n",
       "      <th>Column3</th>\n",
       "      <th>Column4</th>\n",
       "      <th>Column5</th>\n",
       "      <th>Column6</th>\n",
       "      <th>Column7</th>\n",
       "      <th>Column8</th>\n",
       "      <th>Column9</th>\n",
       "      <th>...</th>\n",
       "      <th>Column16</th>\n",
       "      <th>Column17</th>\n",
       "      <th>Column18</th>\n",
       "      <th>Column19</th>\n",
       "      <th>Column20</th>\n",
       "      <th>Column21</th>\n",
       "      <th>Column22</th>\n",
       "      <th>Column23</th>\n",
       "      <th>Column24</th>\n",
       "      <th>label</th>\n",
       "    </tr>\n",
       "  </thead>\n",
       "  <tbody>\n",
       "    <tr>\n",
       "      <th>0</th>\n",
       "      <td>0.374795</td>\n",
       "      <td>2.409882</td>\n",
       "      <td>-3.785127</td>\n",
       "      <td>0.680042</td>\n",
       "      <td>1.762758</td>\n",
       "      <td>0.850472</td>\n",
       "      <td>-2.392243</td>\n",
       "      <td>-0.835476</td>\n",
       "      <td>1.082143</td>\n",
       "      <td>-1.253907</td>\n",
       "      <td>...</td>\n",
       "      <td>0.246301</td>\n",
       "      <td>0.252601</td>\n",
       "      <td>4.012128</td>\n",
       "      <td>0.088547</td>\n",
       "      <td>-1.327247</td>\n",
       "      <td>-2.174767</td>\n",
       "      <td>0.061074</td>\n",
       "      <td>-4.597709</td>\n",
       "      <td>-1.769054</td>\n",
       "      <td>1</td>\n",
       "    </tr>\n",
       "    <tr>\n",
       "      <th>1</th>\n",
       "      <td>5.294405</td>\n",
       "      <td>3.381126</td>\n",
       "      <td>0.628389</td>\n",
       "      <td>1.271747</td>\n",
       "      <td>-2.066395</td>\n",
       "      <td>-1.487487</td>\n",
       "      <td>-0.046180</td>\n",
       "      <td>-3.990081</td>\n",
       "      <td>0.824087</td>\n",
       "      <td>-3.305013</td>\n",
       "      <td>...</td>\n",
       "      <td>1.580230</td>\n",
       "      <td>-1.246286</td>\n",
       "      <td>-0.304895</td>\n",
       "      <td>1.726794</td>\n",
       "      <td>-0.056653</td>\n",
       "      <td>0.482031</td>\n",
       "      <td>-1.618998</td>\n",
       "      <td>-5.363979</td>\n",
       "      <td>-1.027658</td>\n",
       "      <td>1</td>\n",
       "    </tr>\n",
       "    <tr>\n",
       "      <th>2</th>\n",
       "      <td>-3.582907</td>\n",
       "      <td>0.657844</td>\n",
       "      <td>3.672484</td>\n",
       "      <td>0.723356</td>\n",
       "      <td>-4.947266</td>\n",
       "      <td>-0.471917</td>\n",
       "      <td>-0.352738</td>\n",
       "      <td>-11.224308</td>\n",
       "      <td>4.810373</td>\n",
       "      <td>10.842853</td>\n",
       "      <td>...</td>\n",
       "      <td>1.089028</td>\n",
       "      <td>-1.701240</td>\n",
       "      <td>2.196797</td>\n",
       "      <td>3.795722</td>\n",
       "      <td>-1.438148</td>\n",
       "      <td>-4.035236</td>\n",
       "      <td>-3.182302</td>\n",
       "      <td>0.212775</td>\n",
       "      <td>3.008187</td>\n",
       "      <td>0</td>\n",
       "    </tr>\n",
       "    <tr>\n",
       "      <th>3</th>\n",
       "      <td>-4.837864</td>\n",
       "      <td>0.080024</td>\n",
       "      <td>3.082630</td>\n",
       "      <td>-4.340017</td>\n",
       "      <td>1.924474</td>\n",
       "      <td>5.323912</td>\n",
       "      <td>-0.887652</td>\n",
       "      <td>-9.740558</td>\n",
       "      <td>0.278714</td>\n",
       "      <td>4.830757</td>\n",
       "      <td>...</td>\n",
       "      <td>-3.934576</td>\n",
       "      <td>-2.762419</td>\n",
       "      <td>-1.773916</td>\n",
       "      <td>-0.721765</td>\n",
       "      <td>-3.328776</td>\n",
       "      <td>-4.715541</td>\n",
       "      <td>2.241265</td>\n",
       "      <td>-4.451833</td>\n",
       "      <td>2.083070</td>\n",
       "      <td>1</td>\n",
       "    </tr>\n",
       "    <tr>\n",
       "      <th>4</th>\n",
       "      <td>6.869779</td>\n",
       "      <td>-1.221610</td>\n",
       "      <td>0.297304</td>\n",
       "      <td>-0.803456</td>\n",
       "      <td>-1.021820</td>\n",
       "      <td>-0.809890</td>\n",
       "      <td>0.041137</td>\n",
       "      <td>1.046422</td>\n",
       "      <td>-1.151566</td>\n",
       "      <td>-0.484239</td>\n",
       "      <td>...</td>\n",
       "      <td>1.485713</td>\n",
       "      <td>3.403892</td>\n",
       "      <td>0.261279</td>\n",
       "      <td>-3.216273</td>\n",
       "      <td>0.935161</td>\n",
       "      <td>0.678729</td>\n",
       "      <td>2.304216</td>\n",
       "      <td>8.114040</td>\n",
       "      <td>1.931248</td>\n",
       "      <td>0</td>\n",
       "    </tr>\n",
       "  </tbody>\n",
       "</table>\n",
       "<p>5 rows × 26 columns</p>\n",
       "</div>"
      ],
      "text/plain": [
       "    Column0   Column1   Column2   Column3   Column4   Column5   Column6  \\\n",
       "0  0.374795  2.409882 -3.785127  0.680042  1.762758  0.850472 -2.392243   \n",
       "1  5.294405  3.381126  0.628389  1.271747 -2.066395 -1.487487 -0.046180   \n",
       "2 -3.582907  0.657844  3.672484  0.723356 -4.947266 -0.471917 -0.352738   \n",
       "3 -4.837864  0.080024  3.082630 -4.340017  1.924474  5.323912 -0.887652   \n",
       "4  6.869779 -1.221610  0.297304 -0.803456 -1.021820 -0.809890  0.041137   \n",
       "\n",
       "     Column7   Column8    Column9  ...  Column16  Column17  Column18  \\\n",
       "0  -0.835476  1.082143  -1.253907  ...  0.246301  0.252601  4.012128   \n",
       "1  -3.990081  0.824087  -3.305013  ...  1.580230 -1.246286 -0.304895   \n",
       "2 -11.224308  4.810373  10.842853  ...  1.089028 -1.701240  2.196797   \n",
       "3  -9.740558  0.278714   4.830757  ... -3.934576 -2.762419 -1.773916   \n",
       "4   1.046422 -1.151566  -0.484239  ...  1.485713  3.403892  0.261279   \n",
       "\n",
       "   Column19  Column20  Column21  Column22  Column23  Column24  label  \n",
       "0  0.088547 -1.327247 -2.174767  0.061074 -4.597709 -1.769054      1  \n",
       "1  1.726794 -0.056653  0.482031 -1.618998 -5.363979 -1.027658      1  \n",
       "2  3.795722 -1.438148 -4.035236 -3.182302  0.212775  3.008187      0  \n",
       "3 -0.721765 -3.328776 -4.715541  2.241265 -4.451833  2.083070      1  \n",
       "4 -3.216273  0.935161  0.678729  2.304216  8.114040  1.931248      0  \n",
       "\n",
       "[5 rows x 26 columns]"
      ]
     },
     "execution_count": 5,
     "metadata": {},
     "output_type": "execute_result"
    }
   ],
   "source": [
    "df.head()"
   ]
  },
  {
   "cell_type": "code",
   "execution_count": 6,
   "id": "b1fbad9e",
   "metadata": {},
   "outputs": [],
   "source": [
    "features = df.drop(\"label\", axis = 1)"
   ]
  },
  {
   "cell_type": "code",
   "execution_count": 7,
   "id": "f86a8a9a",
   "metadata": {},
   "outputs": [
    {
     "data": {
      "text/plain": [
       "(100000, 25)"
      ]
     },
     "execution_count": 7,
     "metadata": {},
     "output_type": "execute_result"
    }
   ],
   "source": [
    "features.shape"
   ]
  },
  {
   "cell_type": "code",
   "execution_count": 8,
   "id": "6ea630f4",
   "metadata": {},
   "outputs": [],
   "source": [
    "class_label = df[\"label\"]"
   ]
  },
  {
   "cell_type": "code",
   "execution_count": 9,
   "id": "267ac862",
   "metadata": {},
   "outputs": [],
   "source": [
    "from sklearn.model_selection import train_test_split"
   ]
  },
  {
   "cell_type": "code",
   "execution_count": 10,
   "id": "6be7ab04",
   "metadata": {},
   "outputs": [],
   "source": [
    "X_train, X_test, y_train, y_test = train_test_split(features, class_label, stratify=class_label ,random_state=42)"
   ]
  },
  {
   "cell_type": "code",
   "execution_count": 11,
   "id": "2690cb37",
   "metadata": {},
   "outputs": [
    {
     "data": {
      "text/plain": [
       "(75000, 25)"
      ]
     },
     "execution_count": 11,
     "metadata": {},
     "output_type": "execute_result"
    }
   ],
   "source": [
    "X_train.shape"
   ]
  },
  {
   "cell_type": "code",
   "execution_count": 12,
   "id": "343946ee",
   "metadata": {},
   "outputs": [
    {
     "data": {
      "text/plain": [
       "(75000,)"
      ]
     },
     "execution_count": 12,
     "metadata": {},
     "output_type": "execute_result"
    }
   ],
   "source": [
    "y_train.shape"
   ]
  },
  {
   "cell_type": "code",
   "execution_count": 13,
   "id": "69f9a939",
   "metadata": {},
   "outputs": [],
   "source": [
    "import time\n",
    "from sklearn.metrics import accuracy_score, roc_auc_score, f1_score\n",
    "from sklearn.model_selection import cross_val_score"
   ]
  },
  {
   "cell_type": "code",
   "execution_count": 14,
   "id": "1579fcf1",
   "metadata": {},
   "outputs": [],
   "source": [
    "# Import models\n",
    "from sklearn.linear_model import LogisticRegression\n",
    "from sklearn.tree import DecisionTreeClassifier\n",
    "from sklearn.neighbors import KNeighborsClassifier\n",
    "from sklearn.ensemble import RandomForestClassifier\n",
    "from sklearn.ensemble import AdaBoostClassifier\n",
    "from sklearn.ensemble import GradientBoostingClassifier\n",
    "import xgboost as xgb\n",
    "import lightgbm as lgb"
   ]
  },
  {
   "cell_type": "code",
   "execution_count": 15,
   "id": "ec1d32f6",
   "metadata": {},
   "outputs": [],
   "source": [
    "accuracy = {}\n",
    "roc_auc = {}\n",
    "f1 = {}\n",
    "cross_val_acc={}\n",
    "diff_cv_acc = {}\n",
    "speed_fit = {}\n",
    "speed_cv = {}"
   ]
  },
  {
   "cell_type": "markdown",
   "id": "d6fec773",
   "metadata": {},
   "source": [
    "### Decision Tree"
   ]
  },
  {
   "cell_type": "code",
   "execution_count": 16,
   "id": "0654e533",
   "metadata": {},
   "outputs": [],
   "source": [
    "dt_model = DecisionTreeClassifier()\n",
    "\n",
    "start = time.time()\n",
    "\n",
    "dt_model.fit(X_train,y_train)\n",
    "\n",
    "pred_dt = dt_model.predict(X_test)\n",
    "\n",
    "end = time.time()\n",
    "\n",
    "speed_fit[\"fit_speed_dt\"] = np.round( end - start, 3)"
   ]
  },
  {
   "cell_type": "code",
   "execution_count": 17,
   "id": "cd01082a",
   "metadata": {},
   "outputs": [],
   "source": [
    "start = time.time()\n",
    "score_dt = cross_val_score(estimator =dt_model,X = X_train.values, y = y_train, scoring=\"accuracy\", cv=5, n_jobs=-1)\n",
    "end = time.time()\n",
    "\n",
    "speed_cv[\"cv_speed_dt\"] = np.round( end - start, 3)\n",
    "# Predict the test set probabilities of positive class\n",
    "y_pred_proba_dt = dt_model.predict_proba(X_test)[:,1]"
   ]
  },
  {
   "cell_type": "code",
   "execution_count": 18,
   "id": "11f24ac0",
   "metadata": {},
   "outputs": [
    {
     "name": "stdout",
     "output_type": "stream",
     "text": [
      "{'Accuracy Score_dt': 86.432} {'cross_val_acc_dt': 86.3} {'roc_auc_score_dt': 86.432} {'f1_score_dt': 86.461} {'diff_cv_acc_dt': 0.132} {'fit_speed_dt': 3.171} {'cv_speed_dt': 5.295}\n"
     ]
    }
   ],
   "source": [
    "accuracy['Accuracy Score_dt'] = np.round(accuracy_score(y_test, pred_dt)*100, 3)\n",
    "cross_val_acc[\"cross_val_acc_dt\"] = np.round(np.mean(score_dt).round(3) * 100,3)\n",
    "roc_auc['roc_auc_score_dt'] = np.round(roc_auc_score(y_test, y_pred_proba_dt) *100, 3)\n",
    "f1['f1_score_dt'] = np.round(f1_score(y_test, pred_dt) * 100, 3)\n",
    "diff_cv_acc[\"diff_cv_acc_dt\"] = np.abs(np.round(accuracy['Accuracy Score_dt']-cross_val_acc[\"cross_val_acc_dt\"],3))\n",
    "print(accuracy, cross_val_acc, roc_auc, f1, diff_cv_acc, speed_fit, speed_cv)"
   ]
  },
  {
   "cell_type": "markdown",
   "id": "09a104be",
   "metadata": {},
   "source": [
    "### Logistic Regression"
   ]
  },
  {
   "cell_type": "code",
   "execution_count": 19,
   "id": "7ea0e5b2",
   "metadata": {},
   "outputs": [],
   "source": [
    "lr_model = LogisticRegression(max_iter=1000)\n",
    "\n",
    "start = time.time()\n",
    "\n",
    "lr_model.fit(X_train,y_train)\n",
    "\n",
    "pred_lr = lr_model.predict(X_test)\n",
    "\n",
    "end = time.time()\n",
    "\n",
    "speed_fit[\"fit_speed_lr\"] = np.round( end - start, 3)"
   ]
  },
  {
   "cell_type": "code",
   "execution_count": 20,
   "id": "41273b35",
   "metadata": {},
   "outputs": [],
   "source": [
    "start = time.time()\n",
    "score_lr = cross_val_score(estimator =lr_model,X =  X_train.values, y = y_train, scoring=\"accuracy\", cv=5, n_jobs=-1)\n",
    "end = time.time()\n",
    "speed_cv[\"cv_speed_lr\"] = np.round( end - start, 3)\n",
    "\n",
    "# Predict the test set probabilities of positive class\n",
    "y_pred_proba_lr = lr_model.predict_proba(X_test)[:,1]"
   ]
  },
  {
   "cell_type": "code",
   "execution_count": 22,
   "id": "b38511f8",
   "metadata": {},
   "outputs": [
    {
     "name": "stdout",
     "output_type": "stream",
     "text": [
      "{'Accuracy Score_dt': 86.432, 'Accuracy Score_lr': 79.024} {'cross_val_acc_dt': 86.3, 'cross_val_acc_lr': 79.2} {'roc_auc_score_dt': 86.432, 'roc_auc_score_lr': 86.819} {'f1_score_dt': 86.461, 'f1_score_lr': 78.93} {'diff_cv_acc_dt': 0.132, 'diff_cv_acc_lr': 0.176} {'fit_speed_dt': 3.171, 'fit_speed_lr': 0.262} {'cv_speed_dt': 5.295, 'cv_speed_lr': 2.444}\n"
     ]
    }
   ],
   "source": [
    "accuracy['Accuracy Score_lr'] = np.round(accuracy_score(y_test, pred_lr)*100, 3)\n",
    "\n",
    "cross_val_acc[\"cross_val_acc_lr\"] = np.round(np.mean(score_lr).round(3) * 100,3)\n",
    "\n",
    "roc_auc['roc_auc_score_lr'] = np.round(roc_auc_score(y_test, y_pred_proba_lr) *100, 3)\n",
    "\n",
    "f1['f1_score_lr'] = np.round(f1_score(y_test, pred_lr) * 100, 3)\n",
    "\n",
    "diff_cv_acc[\"diff_cv_acc_lr\"] = np.round(np.abs(accuracy['Accuracy Score_lr']-cross_val_acc[\"cross_val_acc_lr\"]), 3)\n",
    "\n",
    "print(accuracy, cross_val_acc, roc_auc, f1, diff_cv_acc, speed_fit, speed_cv)"
   ]
  },
  {
   "cell_type": "markdown",
   "id": "c88219a7",
   "metadata": {},
   "source": [
    "### KNN"
   ]
  },
  {
   "cell_type": "code",
   "execution_count": 23,
   "id": "ed708c06",
   "metadata": {},
   "outputs": [],
   "source": [
    "knn_model = KNeighborsClassifier()\n",
    "\n",
    "start = time.time()\n",
    "\n",
    "knn_model.fit(X_train,y_train)\n",
    "\n",
    "pred_knn = knn_model.predict(X_test)\n",
    "\n",
    "end = time.time()\n",
    "\n",
    "speed_fit[\"fit_speed_knn\"] = np.round( end - start, 3)"
   ]
  },
  {
   "cell_type": "code",
   "execution_count": 24,
   "id": "7ef8ac18",
   "metadata": {},
   "outputs": [],
   "source": [
    "start = time.time()\n",
    "score_knn = cross_val_score(estimator =knn_model,X =  X_train.values, y = y_train, scoring=\"accuracy\", cv=5, n_jobs=-1)\n",
    "end = time.time()\n",
    "speed_cv[\"cv_speed_knn\"] = np.round( end - start, 3)\n",
    "# Predict the test set probabilities of positive class\n",
    "y_pred_proba_knn = knn_model.predict_proba(X_test)[:,1]"
   ]
  },
  {
   "cell_type": "code",
   "execution_count": 25,
   "id": "96854b8e",
   "metadata": {},
   "outputs": [
    {
     "name": "stdout",
     "output_type": "stream",
     "text": [
      "{'Accuracy Score_dt': 86.432, 'Accuracy Score_lr': 79.024, 'Accuracy Score_knn': 97.204} {'cross_val_acc_dt': 86.3, 'cross_val_acc_lr': 79.2, 'cross_val_acc_knn': 97.0} {'roc_auc_score_dt': 86.432, 'roc_auc_score_lr': 86.819, 'roc_auc_score_knn': 99.028} {'f1_score_dt': 86.461, 'f1_score_lr': 78.93, 'f1_score_knn': 97.201} {'diff_cv_acc_dt': 0.132, 'diff_cv_acc_lr': 0.176, 'diff_cv_acc_knn': 0.204} {'fit_speed_dt': 3.171, 'fit_speed_lr': 0.262, 'fit_speed_knn': 37.918} {'cv_speed_dt': 5.295, 'cv_speed_lr': 2.444, 'cv_speed_knn': 59.557}\n"
     ]
    }
   ],
   "source": [
    "accuracy['Accuracy Score_knn'] = np.round(accuracy_score(y_test, pred_knn)*100, 3)\n",
    "\n",
    "cross_val_acc[\"cross_val_acc_knn\"] = np.round(np.mean(score_knn).round(3) * 100,3)\n",
    "\n",
    "roc_auc['roc_auc_score_knn'] = np.round(roc_auc_score(y_test, y_pred_proba_knn) *100, 3)\n",
    "\n",
    "f1['f1_score_knn'] = np.round(f1_score(y_test, pred_knn) * 100, 3)\n",
    "\n",
    "diff_cv_acc[\"diff_cv_acc_knn\"] = np.round(np.abs(accuracy['Accuracy Score_knn']-cross_val_acc[\"cross_val_acc_knn\"]), 3)\n",
    "\n",
    "print(accuracy, cross_val_acc, roc_auc, f1, diff_cv_acc, speed_fit, speed_cv)"
   ]
  },
  {
   "cell_type": "markdown",
   "id": "f20b39d7",
   "metadata": {},
   "source": [
    "### Random Forest"
   ]
  },
  {
   "cell_type": "code",
   "execution_count": 26,
   "id": "c596409d",
   "metadata": {},
   "outputs": [],
   "source": [
    "rf_model = RandomForestClassifier()\n",
    "\n",
    "start = time.time()\n",
    "\n",
    "rf_model.fit(X_train,y_train)\n",
    "\n",
    "pred_rf = rf_model.predict(X_test)\n",
    "\n",
    "end = time.time()\n",
    "\n",
    "speed_fit[\"fit_speed_rf\"] = np.round( end - start, 3)"
   ]
  },
  {
   "cell_type": "code",
   "execution_count": 27,
   "id": "0e969ae1",
   "metadata": {},
   "outputs": [],
   "source": [
    "start = time.time()\n",
    "score_rf = cross_val_score(estimator =rf_model,X =  X_train.values, y = y_train, scoring=\"accuracy\", cv=5, n_jobs=-1)\n",
    "end = time.time()\n",
    "\n",
    "speed_cv[\"cv_speed_rf\"] = np.round( end - start, 3)\n",
    "\n",
    "# Predict the test set probabilities of positive class\n",
    "y_pred_proba_rf = rf_model.predict_proba(X_test)[:,1]"
   ]
  },
  {
   "cell_type": "code",
   "execution_count": 28,
   "id": "02c69b09",
   "metadata": {},
   "outputs": [
    {
     "name": "stdout",
     "output_type": "stream",
     "text": [
      "{'Accuracy Score_dt': 86.432, 'Accuracy Score_lr': 79.024, 'Accuracy Score_knn': 97.204, 'Accuracy Score_rf': 96.608} {'cross_val_acc_dt': 86.3, 'cross_val_acc_lr': 79.2, 'cross_val_acc_knn': 97.0, 'cross_val_acc_rf': 96.3} {'roc_auc_score_dt': 86.432, 'roc_auc_score_lr': 86.819, 'roc_auc_score_knn': 99.028, 'roc_auc_score_rf': 99.058} {'f1_score_dt': 86.461, 'f1_score_lr': 78.93, 'f1_score_knn': 97.201, 'f1_score_rf': 96.588} {'diff_cv_acc_dt': 0.132, 'diff_cv_acc_lr': 0.176, 'diff_cv_acc_knn': 0.204, 'diff_cv_acc_rf': 0.308} {'fit_speed_dt': 3.171, 'fit_speed_lr': 0.262, 'fit_speed_knn': 37.918, 'fit_speed_rf': 37.452} {'cv_speed_dt': 5.295, 'cv_speed_lr': 2.444, 'cv_speed_knn': 59.557, 'cv_speed_rf': 30.596}\n"
     ]
    }
   ],
   "source": [
    "accuracy['Accuracy Score_rf'] = np.round(accuracy_score(y_test, pred_rf)*100, 3)\n",
    "\n",
    "cross_val_acc[\"cross_val_acc_rf\"] = np.round(np.mean(score_rf).round(3) * 100,3)\n",
    "\n",
    "roc_auc['roc_auc_score_rf'] = np.round(roc_auc_score(y_test, y_pred_proba_rf) *100, 3)\n",
    "\n",
    "f1['f1_score_rf'] = np.round(f1_score(y_test, pred_rf) * 100, 3)\n",
    "\n",
    "diff_cv_acc[\"diff_cv_acc_rf\"] = np.round(np.abs(accuracy['Accuracy Score_rf']-cross_val_acc[\"cross_val_acc_rf\"]), 3)\n",
    "\n",
    "print(accuracy, cross_val_acc, roc_auc, f1, diff_cv_acc, speed_fit, speed_cv)"
   ]
  },
  {
   "cell_type": "markdown",
   "id": "ea5de543",
   "metadata": {},
   "source": [
    "### AdaBoost"
   ]
  },
  {
   "cell_type": "code",
   "execution_count": 29,
   "id": "c95f4296",
   "metadata": {},
   "outputs": [],
   "source": [
    "ada_model = AdaBoostClassifier(n_estimators=100)\n",
    "\n",
    "start = time.time()\n",
    "\n",
    "ada_model.fit(X_train,y_train)\n",
    "\n",
    "pred_ada = ada_model.predict(X_test)\n",
    "\n",
    "end = time.time()\n",
    "\n",
    "speed_fit[\"fit_speed_ada\"] = np.round( end - start, 3)"
   ]
  },
  {
   "cell_type": "code",
   "execution_count": 30,
   "id": "f8043067",
   "metadata": {},
   "outputs": [],
   "source": [
    "start = time.time()\n",
    "score_ada = cross_val_score(estimator =ada_model,X =  X_train.values, y = y_train, scoring=\"accuracy\", cv=5, n_jobs=-1)\n",
    "end = time.time()\n",
    "\n",
    "speed_cv[\"cv_speed_ada\"] = np.round( end - start, 3)\n",
    "\n",
    "# Predict the test set probabilities of positive class\n",
    "y_pred_proba_ada = ada_model.predict_proba(X_test)[:,1]"
   ]
  },
  {
   "cell_type": "code",
   "execution_count": 31,
   "id": "f5d696e4",
   "metadata": {},
   "outputs": [
    {
     "name": "stdout",
     "output_type": "stream",
     "text": [
      "{'Accuracy Score_dt': 86.432, 'Accuracy Score_lr': 79.024, 'Accuracy Score_knn': 97.204, 'Accuracy Score_rf': 96.608, 'Accuracy Score_ada': 81.14} {'cross_val_acc_dt': 86.3, 'cross_val_acc_lr': 79.2, 'cross_val_acc_knn': 97.0, 'cross_val_acc_rf': 96.3, 'cross_val_acc_ada': 81.4} {'roc_auc_score_dt': 86.432, 'roc_auc_score_lr': 86.819, 'roc_auc_score_knn': 99.028, 'roc_auc_score_rf': 99.058, 'roc_auc_score_ada': 89.467} {'f1_score_dt': 86.461, 'f1_score_lr': 78.93, 'f1_score_knn': 97.201, 'f1_score_rf': 96.588, 'f1_score_ada': 81.154} {'diff_cv_acc_dt': 0.132, 'diff_cv_acc_lr': 0.176, 'diff_cv_acc_knn': 0.204, 'diff_cv_acc_rf': 0.308, 'diff_cv_acc_ada': 0.26} {'fit_speed_dt': 3.171, 'fit_speed_lr': 0.262, 'fit_speed_knn': 37.918, 'fit_speed_rf': 37.452, 'fit_speed_ada': 28.579} {'cv_speed_dt': 5.295, 'cv_speed_lr': 2.444, 'cv_speed_knn': 59.557, 'cv_speed_rf': 30.596, 'cv_speed_ada': 27.657}\n"
     ]
    }
   ],
   "source": [
    "accuracy['Accuracy Score_ada'] = np.round(accuracy_score(y_test, pred_ada)*100, 3)\n",
    "\n",
    "cross_val_acc[\"cross_val_acc_ada\"] = np.round(np.mean(score_ada).round(3) * 100,3)\n",
    "\n",
    "roc_auc['roc_auc_score_ada'] = np.round(roc_auc_score(y_test, y_pred_proba_ada) *100, 3)\n",
    "\n",
    "f1['f1_score_ada'] = np.round(f1_score(y_test, pred_ada) * 100, 3)\n",
    "\n",
    "diff_cv_acc[\"diff_cv_acc_ada\"] = np.round(np.abs(accuracy['Accuracy Score_ada']-cross_val_acc[\"cross_val_acc_ada\"]), 3)\n",
    "\n",
    "print(accuracy, cross_val_acc, roc_auc, f1, diff_cv_acc, speed_fit, speed_cv)"
   ]
  },
  {
   "cell_type": "markdown",
   "id": "3d7afcf0",
   "metadata": {},
   "source": [
    "### Gradient Boosting"
   ]
  },
  {
   "cell_type": "code",
   "execution_count": 32,
   "id": "223cdcac",
   "metadata": {},
   "outputs": [],
   "source": [
    "gb_model = GradientBoostingClassifier()\n",
    "\n",
    "start = time.time()\n",
    "\n",
    "gb_model.fit(X_train,y_train)\n",
    "\n",
    "pred_gb = gb_model.predict(X_test)\n",
    "\n",
    "end = time.time()\n",
    "\n",
    "speed_fit[\"fit_speed_gb\"] = np.round( end - start, 3)"
   ]
  },
  {
   "cell_type": "code",
   "execution_count": 33,
   "id": "86294d19",
   "metadata": {},
   "outputs": [],
   "source": [
    "start = time.time()\n",
    "score_gb = cross_val_score(estimator =gb_model,X =  X_train.values, y = y_train, scoring=\"accuracy\", cv=5, n_jobs=-1)\n",
    "end = time.time()\n",
    "\n",
    "speed_cv[\"cv_speed_gb\"] = np.round( end - start, 3)\n",
    "\n",
    "# Predict the test set probabilities of positive class\n",
    "y_pred_proba_gb = gb_model.predict_proba(X_test)[:,1]"
   ]
  },
  {
   "cell_type": "code",
   "execution_count": 34,
   "id": "0c0e56bc",
   "metadata": {},
   "outputs": [
    {
     "name": "stdout",
     "output_type": "stream",
     "text": [
      "{'Accuracy Score_dt': 86.432, 'Accuracy Score_lr': 79.024, 'Accuracy Score_knn': 97.204, 'Accuracy Score_rf': 96.608, 'Accuracy Score_ada': 81.14, 'Accuracy Score_gb': 88.928} {'cross_val_acc_dt': 86.3, 'cross_val_acc_lr': 79.2, 'cross_val_acc_knn': 97.0, 'cross_val_acc_rf': 96.3, 'cross_val_acc_ada': 81.4, 'cross_val_acc_gb': 89.2} {'roc_auc_score_dt': 86.432, 'roc_auc_score_lr': 86.819, 'roc_auc_score_knn': 99.028, 'roc_auc_score_rf': 99.058, 'roc_auc_score_ada': 89.467, 'roc_auc_score_gb': 95.763} {'f1_score_dt': 86.461, 'f1_score_lr': 78.93, 'f1_score_knn': 97.201, 'f1_score_rf': 96.588, 'f1_score_ada': 81.154, 'f1_score_gb': 88.821} {'diff_cv_acc_dt': 0.132, 'diff_cv_acc_lr': 0.176, 'diff_cv_acc_knn': 0.204, 'diff_cv_acc_rf': 0.308, 'diff_cv_acc_ada': 0.26, 'diff_cv_acc_gb': 0.272} {'fit_speed_dt': 3.171, 'fit_speed_lr': 0.262, 'fit_speed_knn': 37.918, 'fit_speed_rf': 37.452, 'fit_speed_ada': 28.579, 'fit_speed_gb': 68.417} {'cv_speed_dt': 5.295, 'cv_speed_lr': 2.444, 'cv_speed_knn': 59.557, 'cv_speed_rf': 30.596, 'cv_speed_ada': 27.657, 'cv_speed_gb': 60.938}\n"
     ]
    }
   ],
   "source": [
    "accuracy['Accuracy Score_gb'] = np.round(accuracy_score(y_test, pred_gb)*100, 3)\n",
    "\n",
    "cross_val_acc[\"cross_val_acc_gb\"] = np.round(np.mean(score_gb).round(3) * 100,3)\n",
    "\n",
    "roc_auc['roc_auc_score_gb'] = np.round(roc_auc_score(y_test, y_pred_proba_gb) *100, 3)\n",
    "\n",
    "f1['f1_score_gb'] = np.round(f1_score(y_test, pred_gb) * 100, 3)\n",
    "\n",
    "diff_cv_acc[\"diff_cv_acc_gb\"] = np.round(np.abs(accuracy['Accuracy Score_gb']-cross_val_acc[\"cross_val_acc_gb\"]), 3)\n",
    "\n",
    "print(accuracy, cross_val_acc, roc_auc, f1, diff_cv_acc, speed_fit, speed_cv)"
   ]
  },
  {
   "cell_type": "markdown",
   "id": "cbbcf59c",
   "metadata": {},
   "source": [
    "### Light GBM"
   ]
  },
  {
   "cell_type": "code",
   "execution_count": 35,
   "id": "8f00d3ec",
   "metadata": {},
   "outputs": [],
   "source": [
    "lgb_model = lgb.LGBMClassifier()\n",
    "\n",
    "start = time.time()\n",
    "\n",
    "lgb_model.fit(X_train,y_train)\n",
    "\n",
    "pred_lgb = lgb_model.predict(X_test)\n",
    "\n",
    "end = time.time()\n",
    "\n",
    "speed_fit[\"fit_speed_lgb\"] = np.round(end - start, 3)"
   ]
  },
  {
   "cell_type": "code",
   "execution_count": 36,
   "id": "6d418cf5",
   "metadata": {},
   "outputs": [],
   "source": [
    "start = time.time()\n",
    "score_lgb = cross_val_score(estimator = lgb_model, X =  X_train.values, y = y_train, scoring=\"accuracy\", cv=5, n_jobs=-1)\n",
    "end = time.time()\n",
    "\n",
    "speed_cv[\"cv_speed_lgb\"] = np.round( end - start, 3)\n",
    "\n",
    "# Predict the test set probabilities of positive class\n",
    "y_pred_proba_lgb = lgb_model.predict_proba(X_test)[:,1]"
   ]
  },
  {
   "cell_type": "code",
   "execution_count": 37,
   "id": "aad83576",
   "metadata": {},
   "outputs": [
    {
     "name": "stdout",
     "output_type": "stream",
     "text": [
      "{'Accuracy Score_dt': 86.432, 'Accuracy Score_lr': 79.024, 'Accuracy Score_knn': 97.204, 'Accuracy Score_rf': 96.608, 'Accuracy Score_ada': 81.14, 'Accuracy Score_gb': 88.928, 'Accuracy Score_lgb': 95.508} {'cross_val_acc_dt': 86.3, 'cross_val_acc_lr': 79.2, 'cross_val_acc_knn': 97.0, 'cross_val_acc_rf': 96.3, 'cross_val_acc_ada': 81.4, 'cross_val_acc_gb': 89.2, 'cross_val_acc_lgb': 95.8} {'roc_auc_score_dt': 86.432, 'roc_auc_score_lr': 86.819, 'roc_auc_score_knn': 99.028, 'roc_auc_score_rf': 99.058, 'roc_auc_score_ada': 89.467, 'roc_auc_score_gb': 95.763, 'roc_auc_score_lgb': 98.858} {'f1_score_dt': 86.461, 'f1_score_lr': 78.93, 'f1_score_knn': 97.201, 'f1_score_rf': 96.588, 'f1_score_ada': 81.154, 'f1_score_gb': 88.821, 'f1_score_lgb': 95.498} {'diff_cv_acc_dt': 0.132, 'diff_cv_acc_lr': 0.176, 'diff_cv_acc_knn': 0.204, 'diff_cv_acc_rf': 0.308, 'diff_cv_acc_ada': 0.26, 'diff_cv_acc_gb': 0.272, 'diff_cv_acc_lgb': 0.292} {'fit_speed_dt': 3.171, 'fit_speed_lr': 0.262, 'fit_speed_knn': 37.918, 'fit_speed_rf': 37.452, 'fit_speed_ada': 28.579, 'fit_speed_gb': 68.417, 'fit_speed_lgb': 0.472} {'cv_speed_dt': 5.295, 'cv_speed_lr': 2.444, 'cv_speed_knn': 59.557, 'cv_speed_rf': 30.596, 'cv_speed_ada': 27.657, 'cv_speed_gb': 60.938, 'cv_speed_lgb': 2.801}\n"
     ]
    }
   ],
   "source": [
    "accuracy['Accuracy Score_lgb'] = np.round(accuracy_score(y_test, pred_lgb)*100, 3)\n",
    "\n",
    "cross_val_acc[\"cross_val_acc_lgb\"] = np.round(np.mean(score_lgb).round(3) * 100,3)\n",
    "\n",
    "roc_auc['roc_auc_score_lgb'] = np.round(roc_auc_score(y_test, y_pred_proba_lgb) *100, 3)\n",
    "\n",
    "f1['f1_score_lgb'] = np.round(f1_score(y_test, pred_lgb) * 100, 3)\n",
    "\n",
    "diff_cv_acc[\"diff_cv_acc_lgb\"] = np.round(np.abs(accuracy['Accuracy Score_lgb']-cross_val_acc[\"cross_val_acc_lgb\"]), 3)\n",
    "\n",
    "print(accuracy, cross_val_acc, roc_auc, f1, diff_cv_acc, speed_fit, speed_cv)"
   ]
  },
  {
   "cell_type": "markdown",
   "id": "77c35d76",
   "metadata": {},
   "source": [
    "### XGBoost"
   ]
  },
  {
   "cell_type": "code",
   "execution_count": 38,
   "id": "03715763",
   "metadata": {},
   "outputs": [
    {
     "name": "stdout",
     "output_type": "stream",
     "text": [
      "[17:16:57] WARNING: D:\\bld\\xgboost-split_1637426510059\\work\\src\\learner.cc:1115: Starting in XGBoost 1.3.0, the default evaluation metric used with the objective 'binary:logistic' was changed from 'error' to 'logloss'. Explicitly set eval_metric if you'd like to restore the old behavior.\n"
     ]
    },
    {
     "name": "stderr",
     "output_type": "stream",
     "text": [
      "C:\\Users\\User\\anaconda3\\lib\\site-packages\\xgboost\\sklearn.py:1224: UserWarning: The use of label encoder in XGBClassifier is deprecated and will be removed in a future release. To remove this warning, do the following: 1) Pass option use_label_encoder=False when constructing XGBClassifier object; and 2) Encode your labels (y) as integers starting with 0, i.e. 0, 1, 2, ..., [num_class - 1].\n",
      "  warnings.warn(label_encoder_deprecation_msg, UserWarning)\n"
     ]
    }
   ],
   "source": [
    "xgb_model = xgb.XGBClassifier(objective='binary:logistic')\n",
    "\n",
    "start = time.time()\n",
    "\n",
    "xgb_model.fit(X_train,y_train)\n",
    "\n",
    "pred_xgb = xgb_model.predict(X_test)\n",
    "\n",
    "end = time.time()\n",
    "\n",
    "speed_fit[\"fit_speed_xgb\"] = np.round(end - start, 3)"
   ]
  },
  {
   "cell_type": "code",
   "execution_count": 39,
   "id": "9f3ed847",
   "metadata": {},
   "outputs": [],
   "source": [
    "start = time.time()\n",
    "score_xgb = cross_val_score(estimator = xgb_model, X =  X_train.values, y = y_train, scoring=\"accuracy\", cv=5, n_jobs=-1)\n",
    "end = time.time()\n",
    "\n",
    "speed_cv[\"cv_speed_xgb\"] = np.round( end - start, 3)\n",
    "\n",
    "# Predict the test set probabilities of positive class\n",
    "y_pred_proba_xgb = xgb_model.predict_proba(X_test)[:,1]"
   ]
  },
  {
   "cell_type": "code",
   "execution_count": 40,
   "id": "84361aae",
   "metadata": {},
   "outputs": [
    {
     "name": "stdout",
     "output_type": "stream",
     "text": [
      "{'Accuracy Score_dt': 86.432, 'Accuracy Score_lr': 79.024, 'Accuracy Score_knn': 97.204, 'Accuracy Score_rf': 96.608, 'Accuracy Score_ada': 81.14, 'Accuracy Score_gb': 88.928, 'Accuracy Score_lgb': 95.508, 'Accuracy Score_xgb': 97.144} {'cross_val_acc_dt': 86.3, 'cross_val_acc_lr': 79.2, 'cross_val_acc_knn': 97.0, 'cross_val_acc_rf': 96.3, 'cross_val_acc_ada': 81.4, 'cross_val_acc_gb': 89.2, 'cross_val_acc_lgb': 95.8, 'cross_val_acc_xgb': 97.1} {'roc_auc_score_dt': 86.432, 'roc_auc_score_lr': 86.819, 'roc_auc_score_knn': 99.028, 'roc_auc_score_rf': 99.058, 'roc_auc_score_ada': 89.467, 'roc_auc_score_gb': 95.763, 'roc_auc_score_lgb': 98.858, 'roc_auc_score_xgb': 99.241} {'f1_score_dt': 86.461, 'f1_score_lr': 78.93, 'f1_score_knn': 97.201, 'f1_score_rf': 96.588, 'f1_score_ada': 81.154, 'f1_score_gb': 88.821, 'f1_score_lgb': 95.498, 'f1_score_xgb': 97.139} {'diff_cv_acc_dt': 0.132, 'diff_cv_acc_lr': 0.176, 'diff_cv_acc_knn': 0.204, 'diff_cv_acc_rf': 0.308, 'diff_cv_acc_ada': 0.26, 'diff_cv_acc_gb': 0.272, 'diff_cv_acc_lgb': 0.292, 'diff_cv_acc_xgb': 0.044} {'fit_speed_dt': 3.171, 'fit_speed_lr': 0.262, 'fit_speed_knn': 37.918, 'fit_speed_rf': 37.452, 'fit_speed_ada': 28.579, 'fit_speed_gb': 68.417, 'fit_speed_lgb': 0.472, 'fit_speed_xgb': 7.757} {'cv_speed_dt': 5.295, 'cv_speed_lr': 2.444, 'cv_speed_knn': 59.557, 'cv_speed_rf': 30.596, 'cv_speed_ada': 27.657, 'cv_speed_gb': 60.938, 'cv_speed_lgb': 2.801, 'cv_speed_xgb': 30.596}\n"
     ]
    }
   ],
   "source": [
    "accuracy['Accuracy Score_xgb'] = np.round(accuracy_score(y_test, pred_xgb)*100, 3)\n",
    "\n",
    "cross_val_acc[\"cross_val_acc_xgb\"] = np.round(np.mean(score_xgb).round(3) * 100,3)\n",
    "\n",
    "roc_auc['roc_auc_score_xgb'] = np.round(roc_auc_score(y_test, y_pred_proba_xgb) *100, 3)\n",
    "\n",
    "f1['f1_score_xgb'] = np.round(f1_score(y_test, pred_xgb) * 100, 3)\n",
    "\n",
    "diff_cv_acc[\"diff_cv_acc_xgb\"] = np.round(np.abs(accuracy['Accuracy Score_xgb']-cross_val_acc[\"cross_val_acc_xgb\"]), 3)\n",
    "\n",
    "print(accuracy, cross_val_acc, roc_auc, f1, diff_cv_acc, speed_fit, speed_cv)"
   ]
  },
  {
   "cell_type": "code",
   "execution_count": 41,
   "id": "68653427",
   "metadata": {},
   "outputs": [
    {
     "data": {
      "text/plain": [
       "{'Accuracy Score_dt': 86.432,\n",
       " 'Accuracy Score_lr': 79.024,\n",
       " 'Accuracy Score_knn': 97.204,\n",
       " 'Accuracy Score_rf': 96.608,\n",
       " 'Accuracy Score_ada': 81.14,\n",
       " 'Accuracy Score_gb': 88.928,\n",
       " 'Accuracy Score_lgb': 95.508,\n",
       " 'Accuracy Score_xgb': 97.144}"
      ]
     },
     "execution_count": 41,
     "metadata": {},
     "output_type": "execute_result"
    }
   ],
   "source": [
    "accuracy"
   ]
  },
  {
   "cell_type": "code",
   "execution_count": 42,
   "id": "1d0d8489",
   "metadata": {},
   "outputs": [
    {
     "data": {
      "text/plain": [
       "{'cross_val_acc_dt': 86.3,\n",
       " 'cross_val_acc_lr': 79.2,\n",
       " 'cross_val_acc_knn': 97.0,\n",
       " 'cross_val_acc_rf': 96.3,\n",
       " 'cross_val_acc_ada': 81.4,\n",
       " 'cross_val_acc_gb': 89.2,\n",
       " 'cross_val_acc_lgb': 95.8,\n",
       " 'cross_val_acc_xgb': 97.1}"
      ]
     },
     "execution_count": 42,
     "metadata": {},
     "output_type": "execute_result"
    }
   ],
   "source": [
    "cross_val_acc"
   ]
  },
  {
   "cell_type": "code",
   "execution_count": 43,
   "id": "327cf800",
   "metadata": {},
   "outputs": [
    {
     "data": {
      "text/plain": [
       "{'roc_auc_score_dt': 86.432,\n",
       " 'roc_auc_score_lr': 86.819,\n",
       " 'roc_auc_score_knn': 99.028,\n",
       " 'roc_auc_score_rf': 99.058,\n",
       " 'roc_auc_score_ada': 89.467,\n",
       " 'roc_auc_score_gb': 95.763,\n",
       " 'roc_auc_score_lgb': 98.858,\n",
       " 'roc_auc_score_xgb': 99.241}"
      ]
     },
     "execution_count": 43,
     "metadata": {},
     "output_type": "execute_result"
    }
   ],
   "source": [
    "roc_auc"
   ]
  },
  {
   "cell_type": "code",
   "execution_count": 44,
   "id": "707dfb0c",
   "metadata": {},
   "outputs": [
    {
     "data": {
      "text/plain": [
       "{'f1_score_dt': 86.461,\n",
       " 'f1_score_lr': 78.93,\n",
       " 'f1_score_knn': 97.201,\n",
       " 'f1_score_rf': 96.588,\n",
       " 'f1_score_ada': 81.154,\n",
       " 'f1_score_gb': 88.821,\n",
       " 'f1_score_lgb': 95.498,\n",
       " 'f1_score_xgb': 97.139}"
      ]
     },
     "execution_count": 44,
     "metadata": {},
     "output_type": "execute_result"
    }
   ],
   "source": [
    "f1"
   ]
  },
  {
   "cell_type": "code",
   "execution_count": 45,
   "id": "44350e20",
   "metadata": {},
   "outputs": [
    {
     "data": {
      "text/plain": [
       "{'diff_cv_acc_dt': 0.132,\n",
       " 'diff_cv_acc_lr': 0.176,\n",
       " 'diff_cv_acc_knn': 0.204,\n",
       " 'diff_cv_acc_rf': 0.308,\n",
       " 'diff_cv_acc_ada': 0.26,\n",
       " 'diff_cv_acc_gb': 0.272,\n",
       " 'diff_cv_acc_lgb': 0.292,\n",
       " 'diff_cv_acc_xgb': 0.044}"
      ]
     },
     "execution_count": 45,
     "metadata": {},
     "output_type": "execute_result"
    }
   ],
   "source": [
    "diff_cv_acc"
   ]
  },
  {
   "cell_type": "code",
   "execution_count": 46,
   "id": "5566b61c",
   "metadata": {},
   "outputs": [
    {
     "data": {
      "text/plain": [
       "{'fit_speed_dt': 3.171,\n",
       " 'fit_speed_lr': 0.262,\n",
       " 'fit_speed_knn': 37.918,\n",
       " 'fit_speed_rf': 37.452,\n",
       " 'fit_speed_ada': 28.579,\n",
       " 'fit_speed_gb': 68.417,\n",
       " 'fit_speed_lgb': 0.472,\n",
       " 'fit_speed_xgb': 7.757}"
      ]
     },
     "execution_count": 46,
     "metadata": {},
     "output_type": "execute_result"
    }
   ],
   "source": [
    "speed_fit"
   ]
  },
  {
   "cell_type": "code",
   "execution_count": 47,
   "id": "ec03e0be",
   "metadata": {},
   "outputs": [
    {
     "data": {
      "text/plain": [
       "{'cv_speed_dt': 5.295,\n",
       " 'cv_speed_lr': 2.444,\n",
       " 'cv_speed_knn': 59.557,\n",
       " 'cv_speed_rf': 30.596,\n",
       " 'cv_speed_ada': 27.657,\n",
       " 'cv_speed_gb': 60.938,\n",
       " 'cv_speed_lgb': 2.801,\n",
       " 'cv_speed_xgb': 30.596}"
      ]
     },
     "execution_count": 47,
     "metadata": {},
     "output_type": "execute_result"
    }
   ],
   "source": [
    "speed_cv"
   ]
  },
  {
   "cell_type": "code",
   "execution_count": null,
   "id": "7561604c",
   "metadata": {},
   "outputs": [],
   "source": []
  }
 ],
 "metadata": {
  "kernelspec": {
   "display_name": "Python 3",
   "language": "python",
   "name": "python3"
  },
  "language_info": {
   "codemirror_mode": {
    "name": "ipython",
    "version": 3
   },
   "file_extension": ".py",
   "mimetype": "text/x-python",
   "name": "python",
   "nbconvert_exporter": "python",
   "pygments_lexer": "ipython3",
   "version": "3.8.8"
  }
 },
 "nbformat": 4,
 "nbformat_minor": 5
}

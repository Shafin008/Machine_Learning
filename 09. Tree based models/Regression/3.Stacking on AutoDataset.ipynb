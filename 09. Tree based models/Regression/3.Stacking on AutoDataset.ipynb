{
 "cells": [
  {
   "cell_type": "code",
   "execution_count": 1,
   "id": "3fd84e28",
   "metadata": {},
   "outputs": [],
   "source": [
    "import pandas as pd\n",
    "import numpy as np"
   ]
  },
  {
   "cell_type": "code",
   "execution_count": 2,
   "id": "f11d0388",
   "metadata": {},
   "outputs": [
    {
     "data": {
      "text/html": [
       "<div>\n",
       "<style scoped>\n",
       "    .dataframe tbody tr th:only-of-type {\n",
       "        vertical-align: middle;\n",
       "    }\n",
       "\n",
       "    .dataframe tbody tr th {\n",
       "        vertical-align: top;\n",
       "    }\n",
       "\n",
       "    .dataframe thead th {\n",
       "        text-align: right;\n",
       "    }\n",
       "</style>\n",
       "<table border=\"1\" class=\"dataframe\">\n",
       "  <thead>\n",
       "    <tr style=\"text-align: right;\">\n",
       "      <th></th>\n",
       "      <th>mpg</th>\n",
       "      <th>displ</th>\n",
       "      <th>hp</th>\n",
       "      <th>weight</th>\n",
       "      <th>accel</th>\n",
       "      <th>origin</th>\n",
       "      <th>size</th>\n",
       "    </tr>\n",
       "  </thead>\n",
       "  <tbody>\n",
       "    <tr>\n",
       "      <th>0</th>\n",
       "      <td>18.0</td>\n",
       "      <td>250.0</td>\n",
       "      <td>88</td>\n",
       "      <td>3139</td>\n",
       "      <td>14.5</td>\n",
       "      <td>US</td>\n",
       "      <td>15.0</td>\n",
       "    </tr>\n",
       "    <tr>\n",
       "      <th>1</th>\n",
       "      <td>9.0</td>\n",
       "      <td>304.0</td>\n",
       "      <td>193</td>\n",
       "      <td>4732</td>\n",
       "      <td>18.5</td>\n",
       "      <td>US</td>\n",
       "      <td>20.0</td>\n",
       "    </tr>\n",
       "    <tr>\n",
       "      <th>2</th>\n",
       "      <td>36.1</td>\n",
       "      <td>91.0</td>\n",
       "      <td>60</td>\n",
       "      <td>1800</td>\n",
       "      <td>16.4</td>\n",
       "      <td>Asia</td>\n",
       "      <td>10.0</td>\n",
       "    </tr>\n",
       "    <tr>\n",
       "      <th>3</th>\n",
       "      <td>18.5</td>\n",
       "      <td>250.0</td>\n",
       "      <td>98</td>\n",
       "      <td>3525</td>\n",
       "      <td>19.0</td>\n",
       "      <td>US</td>\n",
       "      <td>15.0</td>\n",
       "    </tr>\n",
       "    <tr>\n",
       "      <th>4</th>\n",
       "      <td>34.3</td>\n",
       "      <td>97.0</td>\n",
       "      <td>78</td>\n",
       "      <td>2188</td>\n",
       "      <td>15.8</td>\n",
       "      <td>Europe</td>\n",
       "      <td>10.0</td>\n",
       "    </tr>\n",
       "  </tbody>\n",
       "</table>\n",
       "</div>"
      ],
      "text/plain": [
       "    mpg  displ   hp  weight  accel  origin  size\n",
       "0  18.0  250.0   88    3139   14.5      US  15.0\n",
       "1   9.0  304.0  193    4732   18.5      US  20.0\n",
       "2  36.1   91.0   60    1800   16.4    Asia  10.0\n",
       "3  18.5  250.0   98    3525   19.0      US  15.0\n",
       "4  34.3   97.0   78    2188   15.8  Europe  10.0"
      ]
     },
     "execution_count": 2,
     "metadata": {},
     "output_type": "execute_result"
    }
   ],
   "source": [
    "df = pd.read_csv(\"auto.csv\")\n",
    "df.head()"
   ]
  },
  {
   "cell_type": "code",
   "execution_count": 3,
   "id": "c3364850",
   "metadata": {},
   "outputs": [],
   "source": [
    "X = df.drop([\"mpg\", \"origin\"], axis = 1)"
   ]
  },
  {
   "cell_type": "code",
   "execution_count": 4,
   "id": "58232420",
   "metadata": {},
   "outputs": [],
   "source": [
    "y = df[\"mpg\"]"
   ]
  },
  {
   "cell_type": "code",
   "execution_count": 5,
   "id": "a4273c32",
   "metadata": {},
   "outputs": [],
   "source": [
    "from sklearn.model_selection import train_test_split\n",
    "from sklearn.metrics import mean_squared_error "
   ]
  },
  {
   "cell_type": "code",
   "execution_count": 6,
   "id": "6d380225",
   "metadata": {},
   "outputs": [],
   "source": [
    "X_train, X_test, y_train, y_test = train_test_split(X, y, test_size=0.25, random_state=3)"
   ]
  },
  {
   "cell_type": "code",
   "execution_count": 7,
   "id": "0f38f46c",
   "metadata": {},
   "outputs": [],
   "source": [
    "from sklearn.linear_model import LinearRegression, Ridge\n",
    "from sklearn.tree import DecisionTreeRegressor"
   ]
  },
  {
   "cell_type": "markdown",
   "id": "f91450d9",
   "metadata": {},
   "source": [
    "### The intuition behind stacking\n",
    "\n",
    "Stacking ensembles leverage this idea of relay races. Instead of passing a baton, individual models pass their predictions together with the input features to the next model.\n",
    "\n",
    "#### Stacking architecture\n",
    "\n",
    "- Each individual model uses the same dataset and input features. These are the first-layer estimators. \n",
    "\n",
    "- Then, estimators pass their predictions as additional input features to the second-layer estimator. \n",
    "\n",
    "- So far, we have seen ensemble methods that use simple arithmetic operations like the mean or the mode as combiners. However, in Stacking, the combiner is itself a trainable model. \n",
    "\n",
    "- In addition, this combiner model has not only the predictions as input features, but also the original dataset. This allows it to determine which estimator is more accurate depending on the input features.\n",
    "\n",
    "#### Combiner model as anchor \n",
    "\n",
    "- The combiner model plays a similar role to the anchor in the relay race. It is also the last team member and the one which provides the final predictions. \n",
    "\n",
    "- In order to be effective, the combiner model must display the same characteristics as the team anchor. It should learn to identify the strengths and weaknesses of the individual estimators. \n",
    "\n",
    "- It also defines tasks. Depending on the input features, it chooses which model provides the best prediction. \n",
    "\n",
    "- In addition, the combiner is itself a model, and therefore takes part in the team job of learning useful patterns to predict the target."
   ]
  },
  {
   "cell_type": "markdown",
   "id": "635281e2",
   "metadata": {},
   "source": [
    "### Build your first stacked ensemble\n",
    "\n",
    "Unfortunately, scikit-learn does not provide any implementations of stacking. This provides us an opportunity to build a stacked ensemble from scratch and really understand how it works. For this purpose, we'll make use of the scikit-learn estimators which you already know as a base for the implementation.\n",
    "\n",
    "#### General Steps\n",
    "There are 5 steps to building this. \n",
    "\n",
    "- Step one, prepare the dataset. \n",
    "\n",
    "- Step two, build the first-layer estimators. \n",
    "\n",
    "- Step three, append the predictions from the individual estimator to the original dataset. \n",
    "\n",
    "- Step four, build the second-layer meta estimator. And \n",
    "\n",
    "- step five, use the stacked ensemble model for the final predictions."
   ]
  },
  {
   "cell_type": "markdown",
   "id": "0d108fdb",
   "metadata": {},
   "source": [
    "#### Step two: Build the first-layer estimators.\n",
    "\n",
    "The second step is to instantiate the first-layer estimators and fit them to the training set. As an example, we can use the models which you built previously. First, we build a Linear regressor, Then, we build a Ridge regressor and a Decision Tree Regressor. \n",
    "\n",
    "Something important to remember is that all the estimators are trained with the same combination of input features and target."
   ]
  },
  {
   "cell_type": "code",
   "execution_count": 8,
   "id": "31ac03cb",
   "metadata": {},
   "outputs": [],
   "source": [
    "### Build and fit the first-layer estimators\n",
    "# Instantiate dt\n",
    "dt = DecisionTreeRegressor(max_depth=3,random_state=500)\n",
    "\n",
    "# Build and fit linear regression model\n",
    "reg_lm = LinearRegression(normalize = True)\n",
    "\n",
    "# Build and fit Ridge regression model\n",
    "reg_ridge = Ridge(random_state =500)"
   ]
  },
  {
   "cell_type": "code",
   "execution_count": 9,
   "id": "9066cc0f",
   "metadata": {},
   "outputs": [
    {
     "data": {
      "text/plain": [
       "Ridge(random_state=500)"
      ]
     },
     "execution_count": 9,
     "metadata": {},
     "output_type": "execute_result"
    }
   ],
   "source": [
    "dt.fit(X_train,y_train)\n",
    "reg_lm.fit(X_train, y_train)\n",
    "reg_ridge.fit(X_train, y_train)"
   ]
  },
  {
   "cell_type": "markdown",
   "id": "5cec2329",
   "metadata": {},
   "source": [
    "#### Step 3: Append the predictions to the dataset\n",
    "\n",
    "The third step is to append the predictions to the dataset. \n",
    "\n",
    "- We first calculate predictions on the training set with the first-layer estimators. \n",
    "\n",
    "- We combine those predictions to form a new DataFrame. \n",
    "\n",
    "- Finally, we concatenate the training features with the DataFrame using the concat function from Pandas."
   ]
  },
  {
   "cell_type": "code",
   "execution_count": 10,
   "id": "38f6f3e8",
   "metadata": {},
   "outputs": [],
   "source": [
    "# Predict with the first-layer estimators on X_train\n",
    "\n",
    "### training set predictions\n",
    "pred_lr_t = reg_lm.predict(X_train)\n",
    "pred_ridge_t = reg_ridge.predict(X_train)\n",
    "pred_dt_t = dt.predict(X_train)"
   ]
  },
  {
   "cell_type": "code",
   "execution_count": 11,
   "id": "08b4ee87",
   "metadata": {},
   "outputs": [
    {
     "data": {
      "text/html": [
       "<div>\n",
       "<style scoped>\n",
       "    .dataframe tbody tr th:only-of-type {\n",
       "        vertical-align: middle;\n",
       "    }\n",
       "\n",
       "    .dataframe tbody tr th {\n",
       "        vertical-align: top;\n",
       "    }\n",
       "\n",
       "    .dataframe thead th {\n",
       "        text-align: right;\n",
       "    }\n",
       "</style>\n",
       "<table border=\"1\" class=\"dataframe\">\n",
       "  <thead>\n",
       "    <tr style=\"text-align: right;\">\n",
       "      <th></th>\n",
       "      <th>pred_lr_t</th>\n",
       "      <th>pred_ridge_t</th>\n",
       "      <th>pred_dt_t</th>\n",
       "    </tr>\n",
       "  </thead>\n",
       "  <tbody>\n",
       "    <tr>\n",
       "      <th>75</th>\n",
       "      <td>27.171174</td>\n",
       "      <td>27.169658</td>\n",
       "      <td>25.501613</td>\n",
       "    </tr>\n",
       "    <tr>\n",
       "      <th>14</th>\n",
       "      <td>16.954360</td>\n",
       "      <td>16.952343</td>\n",
       "      <td>15.101961</td>\n",
       "    </tr>\n",
       "    <tr>\n",
       "      <th>47</th>\n",
       "      <td>12.874920</td>\n",
       "      <td>12.875501</td>\n",
       "      <td>12.863636</td>\n",
       "    </tr>\n",
       "    <tr>\n",
       "      <th>46</th>\n",
       "      <td>28.123223</td>\n",
       "      <td>28.122714</td>\n",
       "      <td>25.501613</td>\n",
       "    </tr>\n",
       "    <tr>\n",
       "      <th>123</th>\n",
       "      <td>24.724055</td>\n",
       "      <td>24.725397</td>\n",
       "      <td>29.437209</td>\n",
       "    </tr>\n",
       "  </tbody>\n",
       "</table>\n",
       "</div>"
      ],
      "text/plain": [
       "     pred_lr_t  pred_ridge_t  pred_dt_t\n",
       "75   27.171174     27.169658  25.501613\n",
       "14   16.954360     16.952343  15.101961\n",
       "47   12.874920     12.875501  12.863636\n",
       "46   28.123223     28.122714  25.501613\n",
       "123  24.724055     24.725397  29.437209"
      ]
     },
     "execution_count": 11,
     "metadata": {},
     "output_type": "execute_result"
    }
   ],
   "source": [
    "## # Create a Pandas DataFrame with the predictions\n",
    "train_pred_df = pd.DataFrame({'pred_lr_t':pred_lr_t, 'pred_ridge_t':pred_ridge_t , 'pred_dt_t':pred_dt_t}, index=X_train.index)\n",
    "train_pred_df.head()"
   ]
  },
  {
   "cell_type": "code",
   "execution_count": 12,
   "id": "fd2d3be8",
   "metadata": {},
   "outputs": [
    {
     "data": {
      "text/html": [
       "<div>\n",
       "<style scoped>\n",
       "    .dataframe tbody tr th:only-of-type {\n",
       "        vertical-align: middle;\n",
       "    }\n",
       "\n",
       "    .dataframe tbody tr th {\n",
       "        vertical-align: top;\n",
       "    }\n",
       "\n",
       "    .dataframe thead th {\n",
       "        text-align: right;\n",
       "    }\n",
       "</style>\n",
       "<table border=\"1\" class=\"dataframe\">\n",
       "  <thead>\n",
       "    <tr style=\"text-align: right;\">\n",
       "      <th></th>\n",
       "      <th>displ</th>\n",
       "      <th>hp</th>\n",
       "      <th>weight</th>\n",
       "      <th>accel</th>\n",
       "      <th>size</th>\n",
       "      <th>pred_lr_t</th>\n",
       "      <th>pred_ridge_t</th>\n",
       "      <th>pred_dt_t</th>\n",
       "    </tr>\n",
       "  </thead>\n",
       "  <tbody>\n",
       "    <tr>\n",
       "      <th>75</th>\n",
       "      <td>140.0</td>\n",
       "      <td>92</td>\n",
       "      <td>2572</td>\n",
       "      <td>14.9</td>\n",
       "      <td>10.0</td>\n",
       "      <td>27.171174</td>\n",
       "      <td>27.169658</td>\n",
       "      <td>25.501613</td>\n",
       "    </tr>\n",
       "    <tr>\n",
       "      <th>14</th>\n",
       "      <td>400.0</td>\n",
       "      <td>150</td>\n",
       "      <td>3761</td>\n",
       "      <td>9.5</td>\n",
       "      <td>20.0</td>\n",
       "      <td>16.954360</td>\n",
       "      <td>16.952343</td>\n",
       "      <td>15.101961</td>\n",
       "    </tr>\n",
       "    <tr>\n",
       "      <th>47</th>\n",
       "      <td>318.0</td>\n",
       "      <td>150</td>\n",
       "      <td>4457</td>\n",
       "      <td>13.5</td>\n",
       "      <td>20.0</td>\n",
       "      <td>12.874920</td>\n",
       "      <td>12.875501</td>\n",
       "      <td>12.863636</td>\n",
       "    </tr>\n",
       "    <tr>\n",
       "      <th>46</th>\n",
       "      <td>119.0</td>\n",
       "      <td>97</td>\n",
       "      <td>2300</td>\n",
       "      <td>14.7</td>\n",
       "      <td>10.0</td>\n",
       "      <td>28.123223</td>\n",
       "      <td>28.122714</td>\n",
       "      <td>25.501613</td>\n",
       "    </tr>\n",
       "    <tr>\n",
       "      <th>123</th>\n",
       "      <td>121.0</td>\n",
       "      <td>67</td>\n",
       "      <td>2950</td>\n",
       "      <td>19.9</td>\n",
       "      <td>12.5</td>\n",
       "      <td>24.724055</td>\n",
       "      <td>24.725397</td>\n",
       "      <td>29.437209</td>\n",
       "    </tr>\n",
       "  </tbody>\n",
       "</table>\n",
       "</div>"
      ],
      "text/plain": [
       "     displ   hp  weight  accel  size  pred_lr_t  pred_ridge_t  pred_dt_t\n",
       "75   140.0   92    2572   14.9  10.0  27.171174     27.169658  25.501613\n",
       "14   400.0  150    3761    9.5  20.0  16.954360     16.952343  15.101961\n",
       "47   318.0  150    4457   13.5  20.0  12.874920     12.875501  12.863636\n",
       "46   119.0   97    2300   14.7  10.0  28.123223     28.122714  25.501613\n",
       "123  121.0   67    2950   19.9  12.5  24.724055     24.725397  29.437209"
      ]
     },
     "execution_count": 12,
     "metadata": {},
     "output_type": "execute_result"
    }
   ],
   "source": [
    "# Concatenate X_train with the predictions DataFrame\n",
    "X_train_2nd = pd.concat([X_train,train_pred_df], axis=1)\n",
    "X_train_2nd.head()"
   ]
  },
  {
   "cell_type": "markdown",
   "id": "90d18a4c",
   "metadata": {},
   "source": [
    "#### 4. Build the second-layer meta estimator\n",
    "\n",
    "The fourth step is to build the second layer estimator. Any model of your choice can be used here. The meta-estimator must be trained using the second training set."
   ]
  },
  {
   "cell_type": "code",
   "execution_count": 13,
   "id": "ae8c9156",
   "metadata": {},
   "outputs": [
    {
     "data": {
      "text/plain": [
       "DecisionTreeRegressor(max_depth=3, random_state=500)"
      ]
     },
     "execution_count": 13,
     "metadata": {},
     "output_type": "execute_result"
    }
   ],
   "source": [
    "# Build the second-layer meta estimator\n",
    "clf_stack = DecisionTreeRegressor(max_depth=3,random_state=500)\n",
    "\n",
    "## Train the model using the second training set\n",
    "clf_stack.fit(X_train_2nd, y_train)"
   ]
  },
  {
   "cell_type": "markdown",
   "id": "f56f9118",
   "metadata": {},
   "source": [
    "#### 5. Use the stacked ensemble for predictions\n",
    "\n",
    "The fifth and final step is to use the stacked ensemble for predictions on new data, like the test set. It's similar to the third step. \n",
    "\n",
    "- First, we obtain the predictions from the first-layer estimators and join them in a DataFrame. \n",
    "\n",
    "- Then, we concatenate the features with the predictions DataFrame. \n",
    "\n",
    "- Finally, the actual predictions are obtained from the second-layer meta estimator."
   ]
  },
  {
   "cell_type": "code",
   "execution_count": 14,
   "id": "696d704d",
   "metadata": {},
   "outputs": [],
   "source": [
    "## Use the stacked ensemble for predictions\n",
    "# Predict with the first-layer estimators on X_test\n",
    "\n",
    "# Calculate the predictions on the test set\n",
    "pred_lr = reg_lm.predict(X_test)\n",
    "\n",
    "\n",
    "# Calculate the predictions on the test set\n",
    "pred_ridge = reg_ridge.predict(X_test)\n",
    "\n",
    "# Compute y_pred\n",
    "pred_dt = dt.predict(X_test)"
   ]
  },
  {
   "cell_type": "code",
   "execution_count": 15,
   "id": "83e3bfd1",
   "metadata": {},
   "outputs": [
    {
     "data": {
      "text/html": [
       "<div>\n",
       "<style scoped>\n",
       "    .dataframe tbody tr th:only-of-type {\n",
       "        vertical-align: middle;\n",
       "    }\n",
       "\n",
       "    .dataframe tbody tr th {\n",
       "        vertical-align: top;\n",
       "    }\n",
       "\n",
       "    .dataframe thead th {\n",
       "        text-align: right;\n",
       "    }\n",
       "</style>\n",
       "<table border=\"1\" class=\"dataframe\">\n",
       "  <thead>\n",
       "    <tr style=\"text-align: right;\">\n",
       "      <th></th>\n",
       "      <th>pred_lr</th>\n",
       "      <th>pred_ridge</th>\n",
       "      <th>pred_dt</th>\n",
       "    </tr>\n",
       "  </thead>\n",
       "  <tbody>\n",
       "    <tr>\n",
       "      <th>352</th>\n",
       "      <td>21.542646</td>\n",
       "      <td>21.544295</td>\n",
       "      <td>20.930000</td>\n",
       "    </tr>\n",
       "    <tr>\n",
       "      <th>16</th>\n",
       "      <td>31.260820</td>\n",
       "      <td>31.262056</td>\n",
       "      <td>32.903704</td>\n",
       "    </tr>\n",
       "    <tr>\n",
       "      <th>288</th>\n",
       "      <td>14.995364</td>\n",
       "      <td>14.996189</td>\n",
       "      <td>15.101961</td>\n",
       "    </tr>\n",
       "    <tr>\n",
       "      <th>281</th>\n",
       "      <td>29.131151</td>\n",
       "      <td>29.129484</td>\n",
       "      <td>25.501613</td>\n",
       "    </tr>\n",
       "    <tr>\n",
       "      <th>201</th>\n",
       "      <td>31.324604</td>\n",
       "      <td>31.326080</td>\n",
       "      <td>32.903704</td>\n",
       "    </tr>\n",
       "  </tbody>\n",
       "</table>\n",
       "</div>"
      ],
      "text/plain": [
       "       pred_lr  pred_ridge    pred_dt\n",
       "352  21.542646   21.544295  20.930000\n",
       "16   31.260820   31.262056  32.903704\n",
       "288  14.995364   14.996189  15.101961\n",
       "281  29.131151   29.129484  25.501613\n",
       "201  31.324604   31.326080  32.903704"
      ]
     },
     "execution_count": 15,
     "metadata": {},
     "output_type": "execute_result"
    }
   ],
   "source": [
    "# Create a Pandas DataFrame with the predictions\n",
    "test_pred_df = pd.DataFrame({'pred_lr':pred_lr, 'pred_ridge':pred_ridge , 'pred_dt':pred_dt}, index=X_test.index)\n",
    "test_pred_df.head()"
   ]
  },
  {
   "cell_type": "code",
   "execution_count": 16,
   "id": "6a6f31a2",
   "metadata": {},
   "outputs": [
    {
     "data": {
      "text/html": [
       "<div>\n",
       "<style scoped>\n",
       "    .dataframe tbody tr th:only-of-type {\n",
       "        vertical-align: middle;\n",
       "    }\n",
       "\n",
       "    .dataframe tbody tr th {\n",
       "        vertical-align: top;\n",
       "    }\n",
       "\n",
       "    .dataframe thead th {\n",
       "        text-align: right;\n",
       "    }\n",
       "</style>\n",
       "<table border=\"1\" class=\"dataframe\">\n",
       "  <thead>\n",
       "    <tr style=\"text-align: right;\">\n",
       "      <th></th>\n",
       "      <th>displ</th>\n",
       "      <th>hp</th>\n",
       "      <th>weight</th>\n",
       "      <th>accel</th>\n",
       "      <th>size</th>\n",
       "      <th>pred_lr</th>\n",
       "      <th>pred_ridge</th>\n",
       "      <th>pred_dt</th>\n",
       "    </tr>\n",
       "  </thead>\n",
       "  <tbody>\n",
       "    <tr>\n",
       "      <th>352</th>\n",
       "      <td>163.0</td>\n",
       "      <td>125</td>\n",
       "      <td>3140</td>\n",
       "      <td>13.6</td>\n",
       "      <td>15.0</td>\n",
       "      <td>21.542646</td>\n",
       "      <td>21.544295</td>\n",
       "      <td>20.930000</td>\n",
       "    </tr>\n",
       "    <tr>\n",
       "      <th>16</th>\n",
       "      <td>79.0</td>\n",
       "      <td>58</td>\n",
       "      <td>1825</td>\n",
       "      <td>18.6</td>\n",
       "      <td>10.0</td>\n",
       "      <td>31.260820</td>\n",
       "      <td>31.262056</td>\n",
       "      <td>32.903704</td>\n",
       "    </tr>\n",
       "    <tr>\n",
       "      <th>288</th>\n",
       "      <td>318.0</td>\n",
       "      <td>140</td>\n",
       "      <td>4080</td>\n",
       "      <td>13.7</td>\n",
       "      <td>20.0</td>\n",
       "      <td>14.995364</td>\n",
       "      <td>14.996189</td>\n",
       "      <td>15.101961</td>\n",
       "    </tr>\n",
       "    <tr>\n",
       "      <th>281</th>\n",
       "      <td>70.0</td>\n",
       "      <td>97</td>\n",
       "      <td>2330</td>\n",
       "      <td>13.5</td>\n",
       "      <td>7.5</td>\n",
       "      <td>29.131151</td>\n",
       "      <td>29.129484</td>\n",
       "      <td>25.501613</td>\n",
       "    </tr>\n",
       "    <tr>\n",
       "      <th>201</th>\n",
       "      <td>68.0</td>\n",
       "      <td>49</td>\n",
       "      <td>1867</td>\n",
       "      <td>19.5</td>\n",
       "      <td>10.0</td>\n",
       "      <td>31.324604</td>\n",
       "      <td>31.326080</td>\n",
       "      <td>32.903704</td>\n",
       "    </tr>\n",
       "  </tbody>\n",
       "</table>\n",
       "</div>"
      ],
      "text/plain": [
       "     displ   hp  weight  accel  size    pred_lr  pred_ridge    pred_dt\n",
       "352  163.0  125    3140   13.6  15.0  21.542646   21.544295  20.930000\n",
       "16    79.0   58    1825   18.6  10.0  31.260820   31.262056  32.903704\n",
       "288  318.0  140    4080   13.7  20.0  14.995364   14.996189  15.101961\n",
       "281   70.0   97    2330   13.5   7.5  29.131151   29.129484  25.501613\n",
       "201   68.0   49    1867   19.5  10.0  31.324604   31.326080  32.903704"
      ]
     },
     "execution_count": 16,
     "metadata": {},
     "output_type": "execute_result"
    }
   ],
   "source": [
    "# Concatenate X_test with the predictions DataFrame\n",
    "X_test_2nd = pd.concat([X_test, test_pred_df],axis=1)\n",
    "X_test_2nd.head()"
   ]
  },
  {
   "cell_type": "code",
   "execution_count": 17,
   "id": "238e6d5d",
   "metadata": {},
   "outputs": [],
   "source": [
    "# Obtain the final predictions from the second-layer estimator\n",
    "pred_stack = clf_stack.predict(X_test_2nd)"
   ]
  },
  {
   "cell_type": "code",
   "execution_count": 18,
   "id": "a6cda5a5",
   "metadata": {},
   "outputs": [],
   "source": [
    "# Evaluate the performance using the RMSE\n",
    "rmse_stack1 = np.sqrt(mean_squared_error(y_test, pred_stack))"
   ]
  },
  {
   "cell_type": "markdown",
   "id": "1233ed22",
   "metadata": {},
   "source": [
    "### Let’s mlxtend it!\n",
    "In this lesson, you'll be introduced to the Mlxtend library, which allows you to easily build stacking ensembles.\n",
    "\n",
    "Mlxtend stands for Machine Learning Extensions. It is a third-party Python library which contains many utilities and tools for machine learning and Data Science tasks, including feature selection, ensemble methods, visualization, and model evaluation. It has an intuitive API, and works well with scikit-learn estimators, which is very convenient for our purpose.\n",
    "\n",
    "#### Stacking implementation from mlxtend\n",
    "\n",
    "Mlxtend uses a slightly different stacking architecture to the one we've seen previously. Similar to the architecture we already know, \n",
    "\n",
    "the first-layer estimators are trained on the complete feature set. However, it uses only the predictions as the input features for the second-layer meta-estimator, which makes it lighter and faster for both training and predicting. \n",
    "\n",
    "An additional important property of the implementation, is that the second-layer estimators can be trained using the predicted class-labels or class probabilities as input features. The use of the class probabilities may allow you to solve more complex problems.\n",
    "\n",
    "#### StackingRegressor with mlxtend\n",
    "\n",
    "- For Stacking regressors with Mlxtend, First, you import StackingRegressor from the mlxtend dot regressor module. \n",
    "\n",
    "- Then, you instantiate the 1st-layer regressors which you want to use without training them, as the Stacking regressor will take care of that. In the same way, you must instantiate the second-layer meta classifier of your choice. With this, you are ready to build the Stacking regressor. \n",
    "\n",
    "- The first parameter it expects is regressors, which is a list of the first-layer regressors. The second parameter is meta_regressor, which is the meta-regressor you instantiated previously. \n",
    "\n",
    "- An additional parameter which you may be interested in is use_features_in_secondary. This allows you to train the model on both the original input features as well as the individual predictions. By default it is false. \n",
    "\n",
    "- After instantiating the Stacking regressors, you can call the fit and predict methods just like you would for a scikit-learn estimator."
   ]
  },
  {
   "cell_type": "code",
   "execution_count": 19,
   "id": "b13b0f3d",
   "metadata": {},
   "outputs": [],
   "source": [
    "from mlxtend.regressor import StackingRegressor"
   ]
  },
  {
   "cell_type": "code",
   "execution_count": 20,
   "id": "6e40d1e1",
   "metadata": {},
   "outputs": [],
   "source": [
    "# Instantiate the 1st-layer regressors\n",
    "reg_dt = DecisionTreeRegressor(max_depth=3,random_state=500)\n",
    "reg_lr = LinearRegression(normalize=True)\n",
    "reg_ridge = Ridge(random_state = 500)\n",
    "\n",
    "# Instantiate the 2nd-layer regressor\n",
    "reg_meta = Ridge(random_state = 500)"
   ]
  },
  {
   "cell_type": "code",
   "execution_count": 21,
   "id": "471ea2b1",
   "metadata": {},
   "outputs": [
    {
     "data": {
      "text/plain": [
       "StackingRegressor(meta_regressor=Ridge(random_state=500),\n",
       "                  regressors=[DecisionTreeRegressor(max_depth=3,\n",
       "                                                    random_state=500),\n",
       "                              LinearRegression(normalize=True),\n",
       "                              Ridge(random_state=500)])"
      ]
     },
     "execution_count": 21,
     "metadata": {},
     "output_type": "execute_result"
    }
   ],
   "source": [
    "# Build the Stacking regressor\n",
    "reg_stack = StackingRegressor(regressors=[reg_dt,reg_lr,reg_ridge], meta_regressor=reg_meta)\n",
    "reg_stack.fit(X_train,y_train)"
   ]
  },
  {
   "cell_type": "code",
   "execution_count": 22,
   "id": "3a61c976",
   "metadata": {},
   "outputs": [],
   "source": [
    "# Obtain the final predictions from the second-layer estimator\n",
    "pred_stack = reg_stack.predict(X_test)\n",
    "\n",
    "# Evaluate the performance using the RMSE\n",
    "rmse_stack = np.sqrt(mean_squared_error(y_test, pred_stack))\n"
   ]
  },
  {
   "cell_type": "code",
   "execution_count": 23,
   "id": "964d318a",
   "metadata": {},
   "outputs": [
    {
     "name": "stdout",
     "output_type": "stream",
     "text": [
      "RMSE Linear Regression: 5.007\n",
      "RMSE Ridge Regression: 5.006\n",
      "RMSE Decision Tree: 4.365\n",
      "RMSE after manual Stacking: 4.917\n",
      "RMSE after Stacking with Mlxtend: 4.356\n"
     ]
    }
   ],
   "source": [
    "# Evaluate the performance using the RMSE\n",
    "rmse_lr = np.sqrt(mean_squared_error(y_test,pred_lr))\n",
    "print('RMSE Linear Regression: {:.3f}'.format(rmse_lr))\n",
    "\n",
    "# Evaluate the performance using the RMSE\n",
    "rmse_ridge = np.sqrt(mean_squared_error(y_test,pred_ridge))\n",
    "print('RMSE Ridge Regression: {:.3f}'.format(rmse_ridge))\n",
    "\n",
    "# Evaluate the performance using the RMSE\n",
    "rmse_dt = np.sqrt(mean_squared_error(y_test, pred_dt))\n",
    "print('RMSE Decision Tree: {:.3f}'.format(rmse_dt))\n",
    "\n",
    "# Evaluate the performance on the test set using the MAE metric\n",
    "print('RMSE after manual Stacking: {:.3f}'.format(rmse_stack1))\n",
    "\n",
    "# Evaluate the performance on the test set using the MAE metric\n",
    "print('RMSE after Stacking with Mlxtend: {:.3f}'.format(rmse_stack))"
   ]
  },
  {
   "cell_type": "code",
   "execution_count": null,
   "id": "bc44478d",
   "metadata": {},
   "outputs": [],
   "source": []
  }
 ],
 "metadata": {
  "kernelspec": {
   "display_name": "Python 3",
   "language": "python",
   "name": "python3"
  },
  "language_info": {
   "codemirror_mode": {
    "name": "ipython",
    "version": 3
   },
   "file_extension": ".py",
   "mimetype": "text/x-python",
   "name": "python",
   "nbconvert_exporter": "python",
   "pygments_lexer": "ipython3",
   "version": "3.8.8"
  }
 },
 "nbformat": 4,
 "nbformat_minor": 5
}

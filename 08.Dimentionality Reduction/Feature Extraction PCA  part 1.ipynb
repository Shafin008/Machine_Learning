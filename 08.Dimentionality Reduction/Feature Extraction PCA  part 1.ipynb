{
 "cells": [
  {
   "cell_type": "code",
   "execution_count": 1,
   "id": "7cfb786b",
   "metadata": {},
   "outputs": [],
   "source": [
    "import numpy as np\n",
    "import pandas as pd\n",
    "import matplotlib.pyplot as plt\n",
    "import seaborn as sns"
   ]
  },
  {
   "cell_type": "markdown",
   "id": "57444ce8",
   "metadata": {},
   "source": [
    "### Feature extraction\n",
    "\n",
    "feature extraction is the process of calculating new features based on the existing ones while trying to lose as little information as possible.\n",
    "\n",
    "#### Feature selection vs extraction\n",
    "In Feature selection process some features are dropped completely for the ease of the calculation by considering different aspects of the datasets. \n",
    "\n",
    "Feature extraction is different in the sense that it creates new features, which are in fact combinations of the original ones. When you have good understanding of the features in your dataset you can sometimes combine multiple features into a new feature that makes the original ones obsolete."
   ]
  },
  {
   "cell_type": "code",
   "execution_count": 2,
   "id": "1445c43b",
   "metadata": {},
   "outputs": [
    {
     "data": {
      "text/html": [
       "<div>\n",
       "<style scoped>\n",
       "    .dataframe tbody tr th:only-of-type {\n",
       "        vertical-align: middle;\n",
       "    }\n",
       "\n",
       "    .dataframe tbody tr th {\n",
       "        vertical-align: top;\n",
       "    }\n",
       "\n",
       "    .dataframe thead th {\n",
       "        text-align: right;\n",
       "    }\n",
       "</style>\n",
       "<table border=\"1\" class=\"dataframe\">\n",
       "  <thead>\n",
       "    <tr style=\"text-align: right;\">\n",
       "      <th></th>\n",
       "      <th>storeID</th>\n",
       "      <th>product</th>\n",
       "      <th>quantity</th>\n",
       "      <th>revenue</th>\n",
       "    </tr>\n",
       "  </thead>\n",
       "  <tbody>\n",
       "    <tr>\n",
       "      <th>0</th>\n",
       "      <td>A</td>\n",
       "      <td>Apples</td>\n",
       "      <td>1811</td>\n",
       "      <td>9300.6</td>\n",
       "    </tr>\n",
       "    <tr>\n",
       "      <th>1</th>\n",
       "      <td>A</td>\n",
       "      <td>Bananas</td>\n",
       "      <td>1003</td>\n",
       "      <td>3375.2</td>\n",
       "    </tr>\n",
       "    <tr>\n",
       "      <th>2</th>\n",
       "      <td>A</td>\n",
       "      <td>Oranges</td>\n",
       "      <td>1604</td>\n",
       "      <td>8528.5</td>\n",
       "    </tr>\n",
       "    <tr>\n",
       "      <th>3</th>\n",
       "      <td>B</td>\n",
       "      <td>Apples</td>\n",
       "      <td>1785</td>\n",
       "      <td>9181.0</td>\n",
       "    </tr>\n",
       "    <tr>\n",
       "      <th>4</th>\n",
       "      <td>B</td>\n",
       "      <td>Bananas</td>\n",
       "      <td>944</td>\n",
       "      <td>3680.2</td>\n",
       "    </tr>\n",
       "  </tbody>\n",
       "</table>\n",
       "</div>"
      ],
      "text/plain": [
       "  storeID  product  quantity  revenue\n",
       "0       A   Apples      1811   9300.6\n",
       "1       A  Bananas      1003   3375.2\n",
       "2       A  Oranges      1604   8528.5\n",
       "3       B   Apples      1785   9181.0\n",
       "4       B  Bananas       944   3680.2"
      ]
     },
     "execution_count": 2,
     "metadata": {},
     "output_type": "execute_result"
    }
   ],
   "source": [
    "df = pd.read_csv(\"grocery_sales.csv\")\n",
    "df.head()"
   ]
  },
  {
   "cell_type": "markdown",
   "id": "24f8e980",
   "metadata": {},
   "source": [
    "#### Manual feature extraction\n",
    "\n",
    "Suppose, You want to compare prices for specific products between stores. In this dataset The quantity and revenue features tell you how many items of a particular product were sold in a store and what the total revenue was. For the purpose of your analysis it's more interesting to know the average price per product. So, now what we have to do is -\n",
    "\n",
    "1. Calculate the product price from the quantity sold and total revenue.\n",
    "2. Drop the quantity and revenue features from the dataset."
   ]
  },
  {
   "cell_type": "code",
   "execution_count": 3,
   "id": "ab415e40",
   "metadata": {
    "scrolled": false
   },
   "outputs": [
    {
     "data": {
      "text/html": [
       "<div>\n",
       "<style scoped>\n",
       "    .dataframe tbody tr th:only-of-type {\n",
       "        vertical-align: middle;\n",
       "    }\n",
       "\n",
       "    .dataframe tbody tr th {\n",
       "        vertical-align: top;\n",
       "    }\n",
       "\n",
       "    .dataframe thead th {\n",
       "        text-align: right;\n",
       "    }\n",
       "</style>\n",
       "<table border=\"1\" class=\"dataframe\">\n",
       "  <thead>\n",
       "    <tr style=\"text-align: right;\">\n",
       "      <th></th>\n",
       "      <th>storeID</th>\n",
       "      <th>product</th>\n",
       "      <th>quantity</th>\n",
       "      <th>revenue</th>\n",
       "      <th>product_price</th>\n",
       "    </tr>\n",
       "  </thead>\n",
       "  <tbody>\n",
       "    <tr>\n",
       "      <th>0</th>\n",
       "      <td>A</td>\n",
       "      <td>Apples</td>\n",
       "      <td>1811</td>\n",
       "      <td>9300.6</td>\n",
       "      <td>5.135616</td>\n",
       "    </tr>\n",
       "    <tr>\n",
       "      <th>1</th>\n",
       "      <td>A</td>\n",
       "      <td>Bananas</td>\n",
       "      <td>1003</td>\n",
       "      <td>3375.2</td>\n",
       "      <td>3.365105</td>\n",
       "    </tr>\n",
       "    <tr>\n",
       "      <th>2</th>\n",
       "      <td>A</td>\n",
       "      <td>Oranges</td>\n",
       "      <td>1604</td>\n",
       "      <td>8528.5</td>\n",
       "      <td>5.317020</td>\n",
       "    </tr>\n",
       "    <tr>\n",
       "      <th>3</th>\n",
       "      <td>B</td>\n",
       "      <td>Apples</td>\n",
       "      <td>1785</td>\n",
       "      <td>9181.0</td>\n",
       "      <td>5.143417</td>\n",
       "    </tr>\n",
       "    <tr>\n",
       "      <th>4</th>\n",
       "      <td>B</td>\n",
       "      <td>Bananas</td>\n",
       "      <td>944</td>\n",
       "      <td>3680.2</td>\n",
       "      <td>3.898517</td>\n",
       "    </tr>\n",
       "  </tbody>\n",
       "</table>\n",
       "</div>"
      ],
      "text/plain": [
       "  storeID  product  quantity  revenue  product_price\n",
       "0       A   Apples      1811   9300.6       5.135616\n",
       "1       A  Bananas      1003   3375.2       3.365105\n",
       "2       A  Oranges      1604   8528.5       5.317020\n",
       "3       B   Apples      1785   9181.0       5.143417\n",
       "4       B  Bananas       944   3680.2       3.898517"
      ]
     },
     "execution_count": 3,
     "metadata": {},
     "output_type": "execute_result"
    }
   ],
   "source": [
    "df[\"product_price\"] = df[\"revenue\"] / df[\"quantity\"]\n",
    "df.head()"
   ]
  },
  {
   "cell_type": "code",
   "execution_count": 4,
   "id": "d9fb0927",
   "metadata": {},
   "outputs": [
    {
     "data": {
      "text/html": [
       "<div>\n",
       "<style scoped>\n",
       "    .dataframe tbody tr th:only-of-type {\n",
       "        vertical-align: middle;\n",
       "    }\n",
       "\n",
       "    .dataframe tbody tr th {\n",
       "        vertical-align: top;\n",
       "    }\n",
       "\n",
       "    .dataframe thead th {\n",
       "        text-align: right;\n",
       "    }\n",
       "</style>\n",
       "<table border=\"1\" class=\"dataframe\">\n",
       "  <thead>\n",
       "    <tr style=\"text-align: right;\">\n",
       "      <th></th>\n",
       "      <th>storeID</th>\n",
       "      <th>product</th>\n",
       "      <th>product_price</th>\n",
       "    </tr>\n",
       "  </thead>\n",
       "  <tbody>\n",
       "    <tr>\n",
       "      <th>0</th>\n",
       "      <td>A</td>\n",
       "      <td>Apples</td>\n",
       "      <td>5.135616</td>\n",
       "    </tr>\n",
       "    <tr>\n",
       "      <th>1</th>\n",
       "      <td>A</td>\n",
       "      <td>Bananas</td>\n",
       "      <td>3.365105</td>\n",
       "    </tr>\n",
       "    <tr>\n",
       "      <th>2</th>\n",
       "      <td>A</td>\n",
       "      <td>Oranges</td>\n",
       "      <td>5.317020</td>\n",
       "    </tr>\n",
       "    <tr>\n",
       "      <th>3</th>\n",
       "      <td>B</td>\n",
       "      <td>Apples</td>\n",
       "      <td>5.143417</td>\n",
       "    </tr>\n",
       "    <tr>\n",
       "      <th>4</th>\n",
       "      <td>B</td>\n",
       "      <td>Bananas</td>\n",
       "      <td>3.898517</td>\n",
       "    </tr>\n",
       "  </tbody>\n",
       "</table>\n",
       "</div>"
      ],
      "text/plain": [
       "  storeID  product  product_price\n",
       "0       A   Apples       5.135616\n",
       "1       A  Bananas       3.365105\n",
       "2       A  Oranges       5.317020\n",
       "3       B   Apples       5.143417\n",
       "4       B  Bananas       3.898517"
      ]
     },
     "execution_count": 4,
     "metadata": {},
     "output_type": "execute_result"
    }
   ],
   "source": [
    "df =df.drop([\"revenue\", \"quantity\"], axis=1)\n",
    "df.head()"
   ]
  },
  {
   "cell_type": "markdown",
   "id": "b5d7ef1d",
   "metadata": {},
   "source": [
    "### PCA\n",
    "\n",
    "PCA creates a new reference system aligned with the variance in the data. Before doing PCA to the dataset we need to Scale the dataset, After standardizing, we can add perpendicular vectors that are aligned with the main directions of variance. We can describe each point in the dataset as a combination of these vectors multiplied with a value each. These values are then called principal components.\n",
    "\n",
    "You'll now apply PCA on larger ANSUR datasample with 13 dimensions."
   ]
  },
  {
   "cell_type": "code",
   "execution_count": 5,
   "id": "117c9f0d",
   "metadata": {},
   "outputs": [
    {
     "data": {
      "text/html": [
       "<div>\n",
       "<style scoped>\n",
       "    .dataframe tbody tr th:only-of-type {\n",
       "        vertical-align: middle;\n",
       "    }\n",
       "\n",
       "    .dataframe tbody tr th {\n",
       "        vertical-align: top;\n",
       "    }\n",
       "\n",
       "    .dataframe thead th {\n",
       "        text-align: right;\n",
       "    }\n",
       "</style>\n",
       "<table border=\"1\" class=\"dataframe\">\n",
       "  <thead>\n",
       "    <tr style=\"text-align: right;\">\n",
       "      <th></th>\n",
       "      <th>stature_m</th>\n",
       "      <th>buttockheight</th>\n",
       "      <th>waistdepth</th>\n",
       "      <th>span</th>\n",
       "      <th>waistcircumference</th>\n",
       "      <th>shouldercircumference</th>\n",
       "      <th>footlength</th>\n",
       "      <th>handlength</th>\n",
       "      <th>functionalleglength</th>\n",
       "      <th>chestheight</th>\n",
       "      <th>chestcircumference</th>\n",
       "      <th>cervicaleheight</th>\n",
       "      <th>sittingheight</th>\n",
       "    </tr>\n",
       "  </thead>\n",
       "  <tbody>\n",
       "    <tr>\n",
       "      <th>0</th>\n",
       "      <td>1.776</td>\n",
       "      <td>882</td>\n",
       "      <td>240</td>\n",
       "      <td>1782</td>\n",
       "      <td>933</td>\n",
       "      <td>1151</td>\n",
       "      <td>273</td>\n",
       "      <td>193</td>\n",
       "      <td>1136</td>\n",
       "      <td>1292</td>\n",
       "      <td>1074</td>\n",
       "      <td>1535</td>\n",
       "      <td>928</td>\n",
       "    </tr>\n",
       "    <tr>\n",
       "      <th>1</th>\n",
       "      <td>1.702</td>\n",
       "      <td>870</td>\n",
       "      <td>225</td>\n",
       "      <td>1745</td>\n",
       "      <td>870</td>\n",
       "      <td>1119</td>\n",
       "      <td>263</td>\n",
       "      <td>195</td>\n",
       "      <td>1096</td>\n",
       "      <td>1244</td>\n",
       "      <td>1021</td>\n",
       "      <td>1471</td>\n",
       "      <td>884</td>\n",
       "    </tr>\n",
       "    <tr>\n",
       "      <th>2</th>\n",
       "      <td>1.735</td>\n",
       "      <td>901</td>\n",
       "      <td>255</td>\n",
       "      <td>1867</td>\n",
       "      <td>964</td>\n",
       "      <td>1276</td>\n",
       "      <td>270</td>\n",
       "      <td>203</td>\n",
       "      <td>1115</td>\n",
       "      <td>1288</td>\n",
       "      <td>1120</td>\n",
       "      <td>1501</td>\n",
       "      <td>917</td>\n",
       "    </tr>\n",
       "    <tr>\n",
       "      <th>3</th>\n",
       "      <td>1.655</td>\n",
       "      <td>821</td>\n",
       "      <td>205</td>\n",
       "      <td>1708</td>\n",
       "      <td>857</td>\n",
       "      <td>1155</td>\n",
       "      <td>267</td>\n",
       "      <td>194</td>\n",
       "      <td>1034</td>\n",
       "      <td>1205</td>\n",
       "      <td>1114</td>\n",
       "      <td>1423</td>\n",
       "      <td>903</td>\n",
       "    </tr>\n",
       "    <tr>\n",
       "      <th>4</th>\n",
       "      <td>1.914</td>\n",
       "      <td>1080</td>\n",
       "      <td>214</td>\n",
       "      <td>2035</td>\n",
       "      <td>868</td>\n",
       "      <td>1231</td>\n",
       "      <td>305</td>\n",
       "      <td>218</td>\n",
       "      <td>1279</td>\n",
       "      <td>1452</td>\n",
       "      <td>1048</td>\n",
       "      <td>1684</td>\n",
       "      <td>919</td>\n",
       "    </tr>\n",
       "  </tbody>\n",
       "</table>\n",
       "</div>"
      ],
      "text/plain": [
       "   stature_m  buttockheight  waistdepth  span  waistcircumference  \\\n",
       "0      1.776            882         240  1782                 933   \n",
       "1      1.702            870         225  1745                 870   \n",
       "2      1.735            901         255  1867                 964   \n",
       "3      1.655            821         205  1708                 857   \n",
       "4      1.914           1080         214  2035                 868   \n",
       "\n",
       "   shouldercircumference  footlength  handlength  functionalleglength  \\\n",
       "0                   1151         273         193                 1136   \n",
       "1                   1119         263         195                 1096   \n",
       "2                   1276         270         203                 1115   \n",
       "3                   1155         267         194                 1034   \n",
       "4                   1231         305         218                 1279   \n",
       "\n",
       "   chestheight  chestcircumference  cervicaleheight  sittingheight  \n",
       "0         1292                1074             1535            928  \n",
       "1         1244                1021             1471            884  \n",
       "2         1288                1120             1501            917  \n",
       "3         1205                1114             1423            903  \n",
       "4         1452                1048             1684            919  "
      ]
     },
     "execution_count": 5,
     "metadata": {},
     "output_type": "execute_result"
    }
   ],
   "source": [
    "ansur_df = pd.read_csv(\"ans_m_df.csv\")\n",
    "ansur_df.head()"
   ]
  },
  {
   "cell_type": "code",
   "execution_count": 6,
   "id": "9131ae64",
   "metadata": {},
   "outputs": [
    {
     "data": {
      "text/plain": [
       "(4082, 13)"
      ]
     },
     "execution_count": 6,
     "metadata": {},
     "output_type": "execute_result"
    }
   ],
   "source": [
    "ansur_df.shape"
   ]
  },
  {
   "cell_type": "code",
   "execution_count": 7,
   "id": "3653808d",
   "metadata": {
    "scrolled": true
   },
   "outputs": [
    {
     "data": {
      "text/plain": [
       "Index(['stature_m', 'buttockheight', 'waistdepth', 'span',\n",
       "       'waistcircumference', 'shouldercircumference', 'footlength',\n",
       "       'handlength', 'functionalleglength', 'chestheight',\n",
       "       'chestcircumference', 'cervicaleheight', 'sittingheight'],\n",
       "      dtype='object')"
      ]
     },
     "execution_count": 7,
     "metadata": {},
     "output_type": "execute_result"
    }
   ],
   "source": [
    "ansur_df.columns"
   ]
  },
  {
   "cell_type": "markdown",
   "id": "03a51a00",
   "metadata": {},
   "source": [
    "#### Scaling the Data\n",
    "\n",
    "Before we do PCA, we have to scale the values with the StandardScaler(). PCA can really underperform if you don't do this. We can then create our PCA instance and apply the .fit_transform() method to the scaled data to calculate the two principal components."
   ]
  },
  {
   "cell_type": "code",
   "execution_count": 8,
   "id": "fb133cf8",
   "metadata": {},
   "outputs": [],
   "source": [
    "from sklearn.preprocessing import StandardScaler\n",
    "\n",
    "scaler = StandardScaler()"
   ]
  },
  {
   "cell_type": "code",
   "execution_count": 9,
   "id": "312fd932",
   "metadata": {
    "scrolled": false
   },
   "outputs": [
    {
     "data": {
      "text/html": [
       "<div>\n",
       "<style scoped>\n",
       "    .dataframe tbody tr th:only-of-type {\n",
       "        vertical-align: middle;\n",
       "    }\n",
       "\n",
       "    .dataframe tbody tr th {\n",
       "        vertical-align: top;\n",
       "    }\n",
       "\n",
       "    .dataframe thead th {\n",
       "        text-align: right;\n",
       "    }\n",
       "</style>\n",
       "<table border=\"1\" class=\"dataframe\">\n",
       "  <thead>\n",
       "    <tr style=\"text-align: right;\">\n",
       "      <th></th>\n",
       "      <th>stature_m</th>\n",
       "      <th>buttockheight</th>\n",
       "      <th>waistdepth</th>\n",
       "      <th>span</th>\n",
       "      <th>waistcircumference</th>\n",
       "      <th>shouldercircumference</th>\n",
       "      <th>footlength</th>\n",
       "      <th>handlength</th>\n",
       "      <th>functionalleglength</th>\n",
       "      <th>chestheight</th>\n",
       "      <th>chestcircumference</th>\n",
       "      <th>cervicaleheight</th>\n",
       "      <th>sittingheight</th>\n",
       "    </tr>\n",
       "  </thead>\n",
       "  <tbody>\n",
       "    <tr>\n",
       "      <th>0</th>\n",
       "      <td>0.288659</td>\n",
       "      <td>-0.117539</td>\n",
       "      <td>0.064171</td>\n",
       "      <td>-0.379976</td>\n",
       "      <td>-0.067842</td>\n",
       "      <td>-0.433911</td>\n",
       "      <td>0.139047</td>\n",
       "      <td>-0.027933</td>\n",
       "      <td>0.104153</td>\n",
       "      <td>0.015477</td>\n",
       "      <td>0.174945</td>\n",
       "      <td>0.279757</td>\n",
       "      <td>0.272041</td>\n",
       "    </tr>\n",
       "    <tr>\n",
       "      <th>1</th>\n",
       "      <td>-0.790965</td>\n",
       "      <td>-0.357956</td>\n",
       "      <td>-0.367753</td>\n",
       "      <td>-0.817215</td>\n",
       "      <td>-0.631892</td>\n",
       "      <td>-0.937225</td>\n",
       "      <td>-0.624254</td>\n",
       "      <td>0.173167</td>\n",
       "      <td>-0.608384</td>\n",
       "      <td>-0.827371</td>\n",
       "      <td>-0.431292</td>\n",
       "      <td>-0.731771</td>\n",
       "      <td>-0.960665</td>\n",
       "    </tr>\n",
       "    <tr>\n",
       "      <th>2</th>\n",
       "      <td>-0.309511</td>\n",
       "      <td>0.263122</td>\n",
       "      <td>0.496095</td>\n",
       "      <td>0.624491</td>\n",
       "      <td>0.209707</td>\n",
       "      <td>1.532160</td>\n",
       "      <td>-0.089943</td>\n",
       "      <td>0.977571</td>\n",
       "      <td>-0.269929</td>\n",
       "      <td>-0.054760</td>\n",
       "      <td>0.701113</td>\n",
       "      <td>-0.257617</td>\n",
       "      <td>-0.036135</td>\n",
       "    </tr>\n",
       "    <tr>\n",
       "      <th>3</th>\n",
       "      <td>-1.476672</td>\n",
       "      <td>-1.339661</td>\n",
       "      <td>-0.943651</td>\n",
       "      <td>-1.254454</td>\n",
       "      <td>-0.748283</td>\n",
       "      <td>-0.370997</td>\n",
       "      <td>-0.318933</td>\n",
       "      <td>0.072617</td>\n",
       "      <td>-1.712816</td>\n",
       "      <td>-1.512186</td>\n",
       "      <td>0.632482</td>\n",
       "      <td>-1.490418</td>\n",
       "      <td>-0.428360</td>\n",
       "    </tr>\n",
       "    <tr>\n",
       "      <th>4</th>\n",
       "      <td>2.302012</td>\n",
       "      <td>3.849351</td>\n",
       "      <td>-0.684497</td>\n",
       "      <td>2.609793</td>\n",
       "      <td>-0.649798</td>\n",
       "      <td>0.824374</td>\n",
       "      <td>2.581610</td>\n",
       "      <td>2.485828</td>\n",
       "      <td>2.651473</td>\n",
       "      <td>2.824973</td>\n",
       "      <td>-0.122455</td>\n",
       "      <td>2.634722</td>\n",
       "      <td>0.019897</td>\n",
       "    </tr>\n",
       "  </tbody>\n",
       "</table>\n",
       "</div>"
      ],
      "text/plain": [
       "   stature_m  buttockheight  waistdepth      span  waistcircumference  \\\n",
       "0   0.288659      -0.117539    0.064171 -0.379976           -0.067842   \n",
       "1  -0.790965      -0.357956   -0.367753 -0.817215           -0.631892   \n",
       "2  -0.309511       0.263122    0.496095  0.624491            0.209707   \n",
       "3  -1.476672      -1.339661   -0.943651 -1.254454           -0.748283   \n",
       "4   2.302012       3.849351   -0.684497  2.609793           -0.649798   \n",
       "\n",
       "   shouldercircumference  footlength  handlength  functionalleglength  \\\n",
       "0              -0.433911    0.139047   -0.027933             0.104153   \n",
       "1              -0.937225   -0.624254    0.173167            -0.608384   \n",
       "2               1.532160   -0.089943    0.977571            -0.269929   \n",
       "3              -0.370997   -0.318933    0.072617            -1.712816   \n",
       "4               0.824374    2.581610    2.485828             2.651473   \n",
       "\n",
       "   chestheight  chestcircumference  cervicaleheight  sittingheight  \n",
       "0     0.015477            0.174945         0.279757       0.272041  \n",
       "1    -0.827371           -0.431292        -0.731771      -0.960665  \n",
       "2    -0.054760            0.701113        -0.257617      -0.036135  \n",
       "3    -1.512186            0.632482        -1.490418      -0.428360  \n",
       "4     2.824973           -0.122455         2.634722       0.019897  "
      ]
     },
     "execution_count": 9,
     "metadata": {},
     "output_type": "execute_result"
    }
   ],
   "source": [
    "ansur_std_df = pd.DataFrame(scaler.fit_transform(ansur_df), columns = ansur_df.columns)\n",
    "ansur_std_df.head()"
   ]
  },
  {
   "cell_type": "markdown",
   "id": "5b747200",
   "metadata": {},
   "source": [
    "We can calculate these principal components for all points in the dataset with sklearn's PCA() class. We can then create our PCA instance and apply the .fit_transform() method to the scaled data to calculate the principal components."
   ]
  },
  {
   "cell_type": "code",
   "execution_count": 10,
   "id": "d02011ef",
   "metadata": {},
   "outputs": [],
   "source": [
    "from sklearn.decomposition import PCA"
   ]
  },
  {
   "cell_type": "code",
   "execution_count": 11,
   "id": "9cf05dde",
   "metadata": {},
   "outputs": [],
   "source": [
    "pca_model = PCA()"
   ]
  },
  {
   "cell_type": "code",
   "execution_count": 12,
   "id": "16bb86e8",
   "metadata": {},
   "outputs": [
    {
     "data": {
      "text/plain": [
       "PCA()"
      ]
     },
     "execution_count": 12,
     "metadata": {},
     "output_type": "execute_result"
    }
   ],
   "source": [
    "pca_model.fit(ansur_std_df)"
   ]
  },
  {
   "cell_type": "markdown",
   "id": "5206f35c",
   "metadata": {},
   "source": [
    "#### PCA concept\n",
    "\n",
    "Most of the time, The first and second principal components explains most of the variances in the data, where the first component is most important as it is aligned with the biggest source of variance in the data.\n",
    "\n",
    "If we would add a third feature to the original dataset we would also have to add a third principal component if we don't want to lose any information. And this remains true as you keep adding features. You could describe a 100 feature dataset with 100 principal components. \n",
    "\n",
    "But why would you want to do such a thing? The components are much harder to understand than the original features.\n",
    "\n",
    "#### Principal component explained variance ratio\n",
    "\n",
    "The answer lies in the fact that the components share no duplicate information and that they are ranked from most to least important. We can access the explained variance ratio of each principal component after fitting the algorithm to the data using the .explained_variance_ratio_ attribute. "
   ]
  },
  {
   "cell_type": "code",
   "execution_count": 13,
   "id": "3828064f",
   "metadata": {
    "scrolled": true
   },
   "outputs": [
    {
     "data": {
      "text/plain": [
       "array([0.57832831, 0.2230137 , 0.06404218, 0.04252456, 0.0278581 ,\n",
       "       0.01761021, 0.01681037, 0.01014147, 0.00706488, 0.00607973,\n",
       "       0.00344643, 0.00228095, 0.00079911])"
      ]
     },
     "execution_count": 13,
     "metadata": {},
     "output_type": "execute_result"
    }
   ],
   "source": [
    "pca_model.explained_variance_ratio_"
   ]
  },
  {
   "cell_type": "markdown",
   "id": "de9620e1",
   "metadata": {},
   "source": [
    "#### Plotting the variances of PCA features\n",
    "\n",
    "Let's see how to plot the variances of the PCA features in practice. Create a range enumerating the PCA features, and make a bar plot of the variances; the variances are available as the explained_variance attribute of the PCA model."
   ]
  },
  {
   "cell_type": "code",
   "execution_count": 15,
   "id": "85ddf3a3",
   "metadata": {},
   "outputs": [
    {
     "data": {
      "image/png": "[encoded data removed]",
      "text/plain": [
       "<Figure size 1500x700 with 1 Axes>"
      ]
     },
     "metadata": {
      "needs_background": "light"
     },
     "output_type": "display_data"
    }
   ],
   "source": [
    "# Plot the explained variances\n",
    "plt.figure(figsize = (15,7), dpi= 100)\n",
    "features = range(pca_model.n_components_)\n",
    "plt.bar(features, pca_model.explained_variance_ratio_)\n",
    "plt.xlabel('PCA feature')\n",
    "plt.ylabel('variance')\n",
    "plt.xticks(features)\n",
    "plt.show()"
   ]
  },
  {
   "cell_type": "markdown",
   "id": "c2184db1",
   "metadata": {},
   "source": [
    "####  PCA for dimensionality reduction\n",
    "\n",
    "We can use NumPy's cumulative sum method on the .explained_variance_ratio_ attribute to see how much variance we can explain in total by using a certain number of components. "
   ]
  },
  {
   "cell_type": "code",
   "execution_count": 73,
   "id": "5671a3a6",
   "metadata": {
    "scrolled": false
   },
   "outputs": [
    {
     "data": {
      "text/plain": [
       "array([0.57832831, 0.801342  , 0.86538419, 0.90790875, 0.93576684,\n",
       "       0.95337706, 0.97018743, 0.9803289 , 0.98739378, 0.99347351,\n",
       "       0.99691994, 0.99920089, 1.        ])"
      ]
     },
     "execution_count": 73,
     "metadata": {},
     "output_type": "execute_result"
    }
   ],
   "source": [
    "pca_model.explained_variance_ratio_.cumsum()"
   ]
  },
  {
   "cell_type": "markdown",
   "id": "8c808f4b",
   "metadata": {},
   "source": [
    "In this case it tells us that the first components explains 57% of the variance in the data and the second the remaining 22%. \n",
    "\n",
    "When you are dealing with a dataset with a lot of correlation the explained variance typically becomes concentrated in the first few components. The remaining components then explain so little variance that they can be dropped. \n",
    "\n",
    "we can see taht, Using just the first two components would still allow us to keep 80% of the variance in the data. This is why PCA is so powerful for dimensionality reduction."
   ]
  },
  {
   "cell_type": "markdown",
   "id": "911c360c",
   "metadata": {},
   "source": [
    "Suppose, If we don't want to lose more than 10% of explained variance during dimensionality reduction, then the lowest number of principal components we can keep is 4 principal components. That means, by Using just 4 principal components we can explain more than 90% of the variance in the 13 feature dataset."
   ]
  },
  {
   "cell_type": "markdown",
   "id": "73fcb087",
   "metadata": {},
   "source": [
    "#### Creating the PCA dataframe from the Original Dataframe\n",
    "\n",
    "Now, we'll create a new dataframe by using our first 4 PC's"
   ]
  },
  {
   "cell_type": "code",
   "execution_count": 81,
   "id": "fbba3af9",
   "metadata": {},
   "outputs": [],
   "source": [
    "pc = pca_model.fit_transform(ansur_std_df)"
   ]
  },
  {
   "cell_type": "code",
   "execution_count": 82,
   "id": "e2d0615e",
   "metadata": {
    "scrolled": true
   },
   "outputs": [
    {
     "data": {
      "text/plain": [
       "array([[-0.10673474, -0.12845724, -0.41084092, -0.01419072],\n",
       "       [ 2.17443143, -0.39966548,  0.69486635,  0.06888209],\n",
       "       [-0.80450793,  1.15524016,  0.80817399, -0.70707245],\n",
       "       ...,\n",
       "       [ 2.57799085,  1.39645454, -0.47885158,  0.07126971],\n",
       "       [ 1.77395003, -1.50533624,  0.40344172, -0.19626103],\n",
       "       [-3.9419875 ,  1.03311698,  1.40711118,  0.96916667]])"
      ]
     },
     "execution_count": 82,
     "metadata": {},
     "output_type": "execute_result"
    }
   ],
   "source": [
    "pc[:, 0:4]"
   ]
  },
  {
   "cell_type": "code",
   "execution_count": 83,
   "id": "339e256c",
   "metadata": {},
   "outputs": [
    {
     "data": {
      "text/html": [
       "<div>\n",
       "<style scoped>\n",
       "    .dataframe tbody tr th:only-of-type {\n",
       "        vertical-align: middle;\n",
       "    }\n",
       "\n",
       "    .dataframe tbody tr th {\n",
       "        vertical-align: top;\n",
       "    }\n",
       "\n",
       "    .dataframe thead th {\n",
       "        text-align: right;\n",
       "    }\n",
       "</style>\n",
       "<table border=\"1\" class=\"dataframe\">\n",
       "  <thead>\n",
       "    <tr style=\"text-align: right;\">\n",
       "      <th></th>\n",
       "      <th>PC 1</th>\n",
       "      <th>PC 2</th>\n",
       "      <th>PC 3</th>\n",
       "      <th>PC 4</th>\n",
       "    </tr>\n",
       "  </thead>\n",
       "  <tbody>\n",
       "    <tr>\n",
       "      <th>0</th>\n",
       "      <td>-0.106735</td>\n",
       "      <td>-0.128457</td>\n",
       "      <td>-0.410841</td>\n",
       "      <td>-0.014191</td>\n",
       "    </tr>\n",
       "    <tr>\n",
       "      <th>1</th>\n",
       "      <td>2.174431</td>\n",
       "      <td>-0.399665</td>\n",
       "      <td>0.694866</td>\n",
       "      <td>0.068882</td>\n",
       "    </tr>\n",
       "    <tr>\n",
       "      <th>2</th>\n",
       "      <td>-0.804508</td>\n",
       "      <td>1.155240</td>\n",
       "      <td>0.808174</td>\n",
       "      <td>-0.707072</td>\n",
       "    </tr>\n",
       "    <tr>\n",
       "      <th>3</th>\n",
       "      <td>3.276417</td>\n",
       "      <td>0.506931</td>\n",
       "      <td>0.523673</td>\n",
       "      <td>-1.615155</td>\n",
       "    </tr>\n",
       "    <tr>\n",
       "      <th>4</th>\n",
       "      <td>-6.913195</td>\n",
       "      <td>-3.109787</td>\n",
       "      <td>1.937470</td>\n",
       "      <td>1.054101</td>\n",
       "    </tr>\n",
       "  </tbody>\n",
       "</table>\n",
       "</div>"
      ],
      "text/plain": [
       "       PC 1      PC 2      PC 3      PC 4\n",
       "0 -0.106735 -0.128457 -0.410841 -0.014191\n",
       "1  2.174431 -0.399665  0.694866  0.068882\n",
       "2 -0.804508  1.155240  0.808174 -0.707072\n",
       "3  3.276417  0.506931  0.523673 -1.615155\n",
       "4 -6.913195 -3.109787  1.937470  1.054101"
      ]
     },
     "execution_count": 83,
     "metadata": {},
     "output_type": "execute_result"
    }
   ],
   "source": [
    "four_pc_df = pd.DataFrame(pc[:, 0:4], columns=['PC 1', 'PC 2', 'PC 3', 'PC 4'])\n",
    "four_pc_df.head()"
   ]
  },
  {
   "cell_type": "code",
   "execution_count": 84,
   "id": "7b4984a1",
   "metadata": {},
   "outputs": [
    {
     "data": {
      "text/html": [
       "<div>\n",
       "<style scoped>\n",
       "    .dataframe tbody tr th:only-of-type {\n",
       "        vertical-align: middle;\n",
       "    }\n",
       "\n",
       "    .dataframe tbody tr th {\n",
       "        vertical-align: top;\n",
       "    }\n",
       "\n",
       "    .dataframe thead th {\n",
       "        text-align: right;\n",
       "    }\n",
       "</style>\n",
       "<table border=\"1\" class=\"dataframe\">\n",
       "  <thead>\n",
       "    <tr style=\"text-align: right;\">\n",
       "      <th></th>\n",
       "      <th>PC 1</th>\n",
       "      <th>PC 2</th>\n",
       "      <th>PC 3</th>\n",
       "      <th>PC 4</th>\n",
       "      <th>PC 5</th>\n",
       "      <th>PC 6</th>\n",
       "      <th>PC 7</th>\n",
       "      <th>PC 8</th>\n",
       "      <th>PC 9</th>\n",
       "      <th>PC 10</th>\n",
       "      <th>PC 11</th>\n",
       "      <th>PC 12</th>\n",
       "      <th>PC 13</th>\n",
       "    </tr>\n",
       "  </thead>\n",
       "  <tbody>\n",
       "    <tr>\n",
       "      <th>0</th>\n",
       "      <td>-0.106735</td>\n",
       "      <td>-0.128457</td>\n",
       "      <td>-0.410841</td>\n",
       "      <td>-0.014191</td>\n",
       "      <td>0.394098</td>\n",
       "      <td>-0.253546</td>\n",
       "      <td>-0.084907</td>\n",
       "      <td>0.269305</td>\n",
       "      <td>-0.234441</td>\n",
       "      <td>-0.059134</td>\n",
       "      <td>-0.161303</td>\n",
       "      <td>-0.267887</td>\n",
       "      <td>-0.011829</td>\n",
       "    </tr>\n",
       "    <tr>\n",
       "      <th>1</th>\n",
       "      <td>2.174431</td>\n",
       "      <td>-0.399665</td>\n",
       "      <td>0.694866</td>\n",
       "      <td>0.068882</td>\n",
       "      <td>0.418598</td>\n",
       "      <td>0.287322</td>\n",
       "      <td>0.109741</td>\n",
       "      <td>0.484254</td>\n",
       "      <td>-0.101049</td>\n",
       "      <td>-0.146606</td>\n",
       "      <td>-0.074437</td>\n",
       "      <td>-0.189415</td>\n",
       "      <td>0.018401</td>\n",
       "    </tr>\n",
       "    <tr>\n",
       "      <th>2</th>\n",
       "      <td>-0.804508</td>\n",
       "      <td>1.155240</td>\n",
       "      <td>0.808174</td>\n",
       "      <td>-0.707072</td>\n",
       "      <td>-0.778371</td>\n",
       "      <td>0.803188</td>\n",
       "      <td>0.436320</td>\n",
       "      <td>0.078966</td>\n",
       "      <td>0.312247</td>\n",
       "      <td>-0.036709</td>\n",
       "      <td>0.326122</td>\n",
       "      <td>-0.008462</td>\n",
       "      <td>0.060673</td>\n",
       "    </tr>\n",
       "    <tr>\n",
       "      <th>3</th>\n",
       "      <td>3.276417</td>\n",
       "      <td>0.506931</td>\n",
       "      <td>0.523673</td>\n",
       "      <td>-1.615155</td>\n",
       "      <td>-0.192054</td>\n",
       "      <td>-0.087298</td>\n",
       "      <td>0.290449</td>\n",
       "      <td>0.645270</td>\n",
       "      <td>-0.709699</td>\n",
       "      <td>-0.565111</td>\n",
       "      <td>0.118403</td>\n",
       "      <td>-0.073932</td>\n",
       "      <td>0.081627</td>\n",
       "    </tr>\n",
       "    <tr>\n",
       "      <th>4</th>\n",
       "      <td>-6.913195</td>\n",
       "      <td>-3.109787</td>\n",
       "      <td>1.937470</td>\n",
       "      <td>1.054101</td>\n",
       "      <td>-0.503498</td>\n",
       "      <td>-0.315324</td>\n",
       "      <td>0.716835</td>\n",
       "      <td>0.279637</td>\n",
       "      <td>0.118597</td>\n",
       "      <td>-0.034145</td>\n",
       "      <td>-0.085350</td>\n",
       "      <td>0.058882</td>\n",
       "      <td>0.105834</td>\n",
       "    </tr>\n",
       "  </tbody>\n",
       "</table>\n",
       "</div>"
      ],
      "text/plain": [
       "       PC 1      PC 2      PC 3      PC 4      PC 5      PC 6      PC 7  \\\n",
       "0 -0.106735 -0.128457 -0.410841 -0.014191  0.394098 -0.253546 -0.084907   \n",
       "1  2.174431 -0.399665  0.694866  0.068882  0.418598  0.287322  0.109741   \n",
       "2 -0.804508  1.155240  0.808174 -0.707072 -0.778371  0.803188  0.436320   \n",
       "3  3.276417  0.506931  0.523673 -1.615155 -0.192054 -0.087298  0.290449   \n",
       "4 -6.913195 -3.109787  1.937470  1.054101 -0.503498 -0.315324  0.716835   \n",
       "\n",
       "       PC 8      PC 9     PC 10     PC 11     PC 12     PC 13  \n",
       "0  0.269305 -0.234441 -0.059134 -0.161303 -0.267887 -0.011829  \n",
       "1  0.484254 -0.101049 -0.146606 -0.074437 -0.189415  0.018401  \n",
       "2  0.078966  0.312247 -0.036709  0.326122 -0.008462  0.060673  \n",
       "3  0.645270 -0.709699 -0.565111  0.118403 -0.073932  0.081627  \n",
       "4  0.279637  0.118597 -0.034145 -0.085350  0.058882  0.105834  "
      ]
     },
     "execution_count": 84,
     "metadata": {},
     "output_type": "execute_result"
    }
   ],
   "source": [
    "pc_df = pd.DataFrame(pc, columns=['PC 1', 'PC 2', 'PC 3', 'PC 4', 'PC 5', 'PC 6', 'PC 7', 'PC 8', 'PC 9', 'PC 10', \n",
    "                                  'PC 11', 'PC 12','PC 13'])\n",
    "pc_df.head()"
   ]
  },
  {
   "cell_type": "code",
   "execution_count": 85,
   "id": "98983f1d",
   "metadata": {},
   "outputs": [
    {
     "data": {
      "text/plain": [
       "(4082, 13)"
      ]
     },
     "execution_count": 85,
     "metadata": {},
     "output_type": "execute_result"
    }
   ],
   "source": [
    "pc.shape"
   ]
  },
  {
   "cell_type": "code",
   "execution_count": null,
   "id": "9e61b9fb",
   "metadata": {},
   "outputs": [],
   "source": []
  }
 ],
 "metadata": {
  "kernelspec": {
   "display_name": "Python 3",
   "language": "python",
   "name": "python3"
  },
  "language_info": {
   "codemirror_mode": {
    "name": "ipython",
    "version": 3
   },
   "file_extension": ".py",
   "mimetype": "text/x-python",
   "name": "python",
   "nbconvert_exporter": "python",
   "pygments_lexer": "ipython3",
   "version": "3.8.8"
  }
 },
 "nbformat": 4,
 "nbformat_minor": 5
}

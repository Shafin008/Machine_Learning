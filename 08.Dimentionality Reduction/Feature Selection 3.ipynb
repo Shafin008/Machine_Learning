{
 "cells": [
  {
   "cell_type": "markdown",
   "id": "b097a35a",
   "metadata": {},
   "source": [
    "#### Regularized linear regression\n",
    "\n",
    "Now we'll focus on how to reduce dimensionality using regressions.\n",
    "\n",
    "You'll be working on the numeric ANSUR body measurements dataset to predict a persons Body Mass Index (BMI) using the Lasso() regressor. \n",
    "\n",
    "BMI is a metric derived from body height and weight but those two features have been removed from the dataset to give the model a challenge."
   ]
  },
  {
   "cell_type": "code",
   "execution_count": 1,
   "id": "d80aa387",
   "metadata": {},
   "outputs": [],
   "source": [
    "import numpy as np\n",
    "import pandas as pd\n",
    "import matplotlib.pyplot as plt\n",
    "import seaborn as sns"
   ]
  },
  {
   "cell_type": "code",
   "execution_count": 19,
   "id": "ccf48c7c",
   "metadata": {},
   "outputs": [
    {
     "data": {
      "text/html": [
       "<div>\n",
       "<style scoped>\n",
       "    .dataframe tbody tr th:only-of-type {\n",
       "        vertical-align: middle;\n",
       "    }\n",
       "\n",
       "    .dataframe tbody tr th {\n",
       "        vertical-align: top;\n",
       "    }\n",
       "\n",
       "    .dataframe thead th {\n",
       "        text-align: right;\n",
       "    }\n",
       "</style>\n",
       "<table border=\"1\" class=\"dataframe\">\n",
       "  <thead>\n",
       "    <tr style=\"text-align: right;\">\n",
       "      <th></th>\n",
       "      <th>abdominalextensiondepthsitting</th>\n",
       "      <th>acromialheight</th>\n",
       "      <th>acromionradialelength</th>\n",
       "      <th>anklecircumference</th>\n",
       "      <th>axillaheight</th>\n",
       "      <th>balloffootcircumference</th>\n",
       "      <th>balloffootlength</th>\n",
       "      <th>biacromialbreadth</th>\n",
       "      <th>bicepscircumferenceflexed</th>\n",
       "      <th>bicristalbreadth</th>\n",
       "      <th>...</th>\n",
       "      <th>waistbreadth</th>\n",
       "      <th>waistcircumference</th>\n",
       "      <th>waistdepth</th>\n",
       "      <th>waistfrontlengthsitting</th>\n",
       "      <th>waistheightomphalion</th>\n",
       "      <th>wristcircumference</th>\n",
       "      <th>wristheight</th>\n",
       "      <th>weight_kg</th>\n",
       "      <th>stature_m</th>\n",
       "      <th>BMI</th>\n",
       "    </tr>\n",
       "  </thead>\n",
       "  <tbody>\n",
       "    <tr>\n",
       "      <th>0</th>\n",
       "      <td>266</td>\n",
       "      <td>1467</td>\n",
       "      <td>337</td>\n",
       "      <td>222</td>\n",
       "      <td>1347</td>\n",
       "      <td>253</td>\n",
       "      <td>202</td>\n",
       "      <td>401</td>\n",
       "      <td>369</td>\n",
       "      <td>274</td>\n",
       "      <td>...</td>\n",
       "      <td>329</td>\n",
       "      <td>933</td>\n",
       "      <td>240</td>\n",
       "      <td>440</td>\n",
       "      <td>1054</td>\n",
       "      <td>175</td>\n",
       "      <td>853</td>\n",
       "      <td>81.5</td>\n",
       "      <td>1.776</td>\n",
       "      <td>25.838761</td>\n",
       "    </tr>\n",
       "    <tr>\n",
       "      <th>1</th>\n",
       "      <td>233</td>\n",
       "      <td>1395</td>\n",
       "      <td>326</td>\n",
       "      <td>220</td>\n",
       "      <td>1293</td>\n",
       "      <td>245</td>\n",
       "      <td>193</td>\n",
       "      <td>394</td>\n",
       "      <td>338</td>\n",
       "      <td>257</td>\n",
       "      <td>...</td>\n",
       "      <td>316</td>\n",
       "      <td>870</td>\n",
       "      <td>225</td>\n",
       "      <td>371</td>\n",
       "      <td>1054</td>\n",
       "      <td>167</td>\n",
       "      <td>815</td>\n",
       "      <td>72.6</td>\n",
       "      <td>1.702</td>\n",
       "      <td>25.062103</td>\n",
       "    </tr>\n",
       "    <tr>\n",
       "      <th>2</th>\n",
       "      <td>287</td>\n",
       "      <td>1430</td>\n",
       "      <td>341</td>\n",
       "      <td>230</td>\n",
       "      <td>1327</td>\n",
       "      <td>256</td>\n",
       "      <td>196</td>\n",
       "      <td>427</td>\n",
       "      <td>408</td>\n",
       "      <td>261</td>\n",
       "      <td>...</td>\n",
       "      <td>329</td>\n",
       "      <td>964</td>\n",
       "      <td>255</td>\n",
       "      <td>411</td>\n",
       "      <td>1041</td>\n",
       "      <td>180</td>\n",
       "      <td>831</td>\n",
       "      <td>92.9</td>\n",
       "      <td>1.735</td>\n",
       "      <td>30.861480</td>\n",
       "    </tr>\n",
       "    <tr>\n",
       "      <th>3</th>\n",
       "      <td>234</td>\n",
       "      <td>1347</td>\n",
       "      <td>310</td>\n",
       "      <td>230</td>\n",
       "      <td>1239</td>\n",
       "      <td>262</td>\n",
       "      <td>199</td>\n",
       "      <td>401</td>\n",
       "      <td>359</td>\n",
       "      <td>262</td>\n",
       "      <td>...</td>\n",
       "      <td>315</td>\n",
       "      <td>857</td>\n",
       "      <td>205</td>\n",
       "      <td>399</td>\n",
       "      <td>968</td>\n",
       "      <td>176</td>\n",
       "      <td>793</td>\n",
       "      <td>79.4</td>\n",
       "      <td>1.655</td>\n",
       "      <td>28.988417</td>\n",
       "    </tr>\n",
       "    <tr>\n",
       "      <th>4</th>\n",
       "      <td>250</td>\n",
       "      <td>1585</td>\n",
       "      <td>372</td>\n",
       "      <td>247</td>\n",
       "      <td>1478</td>\n",
       "      <td>267</td>\n",
       "      <td>224</td>\n",
       "      <td>435</td>\n",
       "      <td>356</td>\n",
       "      <td>263</td>\n",
       "      <td>...</td>\n",
       "      <td>303</td>\n",
       "      <td>868</td>\n",
       "      <td>214</td>\n",
       "      <td>379</td>\n",
       "      <td>1245</td>\n",
       "      <td>188</td>\n",
       "      <td>954</td>\n",
       "      <td>94.6</td>\n",
       "      <td>1.914</td>\n",
       "      <td>25.823034</td>\n",
       "    </tr>\n",
       "  </tbody>\n",
       "</table>\n",
       "<p>5 rows × 94 columns</p>\n",
       "</div>"
      ],
      "text/plain": [
       "   abdominalextensiondepthsitting  acromialheight  acromionradialelength  \\\n",
       "0                             266            1467                    337   \n",
       "1                             233            1395                    326   \n",
       "2                             287            1430                    341   \n",
       "3                             234            1347                    310   \n",
       "4                             250            1585                    372   \n",
       "\n",
       "   anklecircumference  axillaheight  balloffootcircumference  \\\n",
       "0                 222          1347                      253   \n",
       "1                 220          1293                      245   \n",
       "2                 230          1327                      256   \n",
       "3                 230          1239                      262   \n",
       "4                 247          1478                      267   \n",
       "\n",
       "   balloffootlength  biacromialbreadth  bicepscircumferenceflexed  \\\n",
       "0               202                401                        369   \n",
       "1               193                394                        338   \n",
       "2               196                427                        408   \n",
       "3               199                401                        359   \n",
       "4               224                435                        356   \n",
       "\n",
       "   bicristalbreadth  ...  waistbreadth  waistcircumference  waistdepth  \\\n",
       "0               274  ...           329                 933         240   \n",
       "1               257  ...           316                 870         225   \n",
       "2               261  ...           329                 964         255   \n",
       "3               262  ...           315                 857         205   \n",
       "4               263  ...           303                 868         214   \n",
       "\n",
       "   waistfrontlengthsitting  waistheightomphalion  wristcircumference  \\\n",
       "0                      440                  1054                 175   \n",
       "1                      371                  1054                 167   \n",
       "2                      411                  1041                 180   \n",
       "3                      399                   968                 176   \n",
       "4                      379                  1245                 188   \n",
       "\n",
       "   wristheight  weight_kg  stature_m        BMI  \n",
       "0          853       81.5      1.776  25.838761  \n",
       "1          815       72.6      1.702  25.062103  \n",
       "2          831       92.9      1.735  30.861480  \n",
       "3          793       79.4      1.655  28.988417  \n",
       "4          954       94.6      1.914  25.823034  \n",
       "\n",
       "[5 rows x 94 columns]"
      ]
     },
     "execution_count": 19,
     "metadata": {},
     "output_type": "execute_result"
    }
   ],
   "source": [
    "df = pd.read_csv(\"an_male.csv\")\n",
    "df.head()"
   ]
  },
  {
   "cell_type": "code",
   "execution_count": 20,
   "id": "c6551036",
   "metadata": {},
   "outputs": [],
   "source": [
    "X = df.drop(\"BMI\", axis =1)"
   ]
  },
  {
   "cell_type": "code",
   "execution_count": 82,
   "id": "a2224977",
   "metadata": {},
   "outputs": [
    {
     "data": {
      "text/plain": [
       "0       25.838761\n",
       "1       25.062103\n",
       "2       30.861480\n",
       "3       28.988417\n",
       "4       25.823034\n",
       "          ...    \n",
       "4077    23.689663\n",
       "4078    28.761967\n",
       "4079    29.130633\n",
       "4080    24.766866\n",
       "4081    29.477038\n",
       "Name: BMI, Length: 4082, dtype: float64"
      ]
     },
     "execution_count": 82,
     "metadata": {},
     "output_type": "execute_result"
    }
   ],
   "source": [
    "y = df[\"BMI\"]"
   ]
  },
  {
   "cell_type": "code",
   "execution_count": 22,
   "id": "1d7d124c",
   "metadata": {},
   "outputs": [],
   "source": [
    "from sklearn.model_selection import train_test_split"
   ]
  },
  {
   "cell_type": "code",
   "execution_count": 23,
   "id": "ca537aa2",
   "metadata": {},
   "outputs": [],
   "source": [
    "# Set the test size to 30% to get a 70-30% train test split\n",
    "X_train, X_test, y_train, y_test = train_test_split(X, y, test_size=0.30, random_state=0)"
   ]
  },
  {
   "cell_type": "code",
   "execution_count": 24,
   "id": "e438283a",
   "metadata": {},
   "outputs": [],
   "source": [
    "from sklearn.preprocessing import StandardScaler"
   ]
  },
  {
   "cell_type": "code",
   "execution_count": 25,
   "id": "35daae38",
   "metadata": {},
   "outputs": [],
   "source": [
    "# Fit the scaler on the training features and transform these in one go\n",
    "X_train_std = scaler.fit_transform(X_train)"
   ]
  },
  {
   "cell_type": "code",
   "execution_count": 26,
   "id": "d53974fe",
   "metadata": {},
   "outputs": [],
   "source": [
    "from sklearn.linear_model import Lasso"
   ]
  },
  {
   "cell_type": "code",
   "execution_count": 27,
   "id": "d4f6f05d",
   "metadata": {},
   "outputs": [],
   "source": [
    "# Create the Lasso model\n",
    "la = Lasso()"
   ]
  },
  {
   "cell_type": "code",
   "execution_count": 28,
   "id": "b6d5a409",
   "metadata": {},
   "outputs": [
    {
     "data": {
      "text/plain": [
       "Lasso()"
      ]
     },
     "execution_count": 28,
     "metadata": {},
     "output_type": "execute_result"
    }
   ],
   "source": [
    "# Fit it to the standardized training data\n",
    "la.fit(X_train_std, y_train)"
   ]
  },
  {
   "cell_type": "code",
   "execution_count": 29,
   "id": "488d85b0",
   "metadata": {},
   "outputs": [],
   "source": [
    "# Transform the test set with the pre-fitted scaler\n",
    "X_test_std = scaler.transform(X_test)"
   ]
  },
  {
   "cell_type": "markdown",
   "id": "411c144d",
   "metadata": {},
   "source": [
    "Now that you've trained the Lasso model, you'll score its predictive capacity (R^2) on the test set "
   ]
  },
  {
   "cell_type": "code",
   "execution_count": 30,
   "id": "31fae6ee",
   "metadata": {},
   "outputs": [
    {
     "data": {
      "text/plain": [
       "0.8470200125853813"
      ]
     },
     "execution_count": 30,
     "metadata": {},
     "output_type": "execute_result"
    }
   ],
   "source": [
    "# Calculate the coefficient of determination (R squared) on X_test_std\n",
    "r_squared = la.score(X_test_std, y_test)\n",
    "r_squared"
   ]
  },
  {
   "cell_type": "code",
   "execution_count": 31,
   "id": "5100401a",
   "metadata": {
    "scrolled": true
   },
   "outputs": [
    {
     "name": "stdout",
     "output_type": "stream",
     "text": [
      "The model can predict 84.7% of the variance in the test set.\n"
     ]
    }
   ],
   "source": [
    "print(\"The model can predict {0:.1%} of the variance in the test set.\".format(r_squared))"
   ]
  },
  {
   "cell_type": "code",
   "execution_count": 33,
   "id": "2b6e8504",
   "metadata": {
    "scrolled": false
   },
   "outputs": [
    {
     "data": {
      "text/plain": [
       "array([ 0.09198472, -0.        , -0.        ,  0.        , -0.        ,\n",
       "        0.        , -0.        ,  0.        ,  0.26349677,  0.        ,\n",
       "        0.        ,  0.        ,  0.        ,  0.        ,  0.        ,\n",
       "        0.        ,  0.30062148, -0.        , -0.        , -0.        ,\n",
       "        0.06019966, -0.        ,  0.        ,  0.84028524,  0.        ,\n",
       "       -0.        , -0.        ,  0.        , -0.        ,  0.        ,\n",
       "        0.        , -0.        ,  0.        , -0.        ,  0.        ,\n",
       "       -0.        , -0.        ,  0.        ,  0.        , -0.        ,\n",
       "       -0.        ,  0.        ,  0.        , -0.        ,  0.        ,\n",
       "        0.        ,  0.        ,  0.        ,  0.        ,  0.        ,\n",
       "        0.        , -0.        ,  0.        ,  0.        ,  0.        ,\n",
       "       -0.        , -0.        , -0.        , -0.        ,  0.        ,\n",
       "        0.        ,  0.01276255,  0.        , -0.        , -0.        ,\n",
       "       -0.        , -0.        ,  0.        , -0.        , -0.        ,\n",
       "       -0.        , -0.        , -0.        , -0.        , -0.        ,\n",
       "       -0.        ,  0.75354765,  0.        , -0.        , -0.        ,\n",
       "       -0.        , -0.        ,  0.        ,  0.        ,  0.        ,\n",
       "        0.4317104 ,  0.26286887,  0.        , -0.        ,  0.        ,\n",
       "       -0.        ,  0.        , -0.        ])"
      ]
     },
     "execution_count": 33,
     "metadata": {},
     "output_type": "execute_result"
    }
   ],
   "source": [
    "la.coef_"
   ]
  },
  {
   "cell_type": "markdown",
   "id": "0e9e78b0",
   "metadata": {},
   "source": [
    "We'll count how many features are ignored because their coefficient is reduced to zero."
   ]
  },
  {
   "cell_type": "code",
   "execution_count": 34,
   "id": "f1c72118",
   "metadata": {},
   "outputs": [],
   "source": [
    "# Create a list that has True values when coefficients equal 0\n",
    "zero_coef = la.coef_ == 0"
   ]
  },
  {
   "cell_type": "code",
   "execution_count": 35,
   "id": "b5092b2f",
   "metadata": {},
   "outputs": [
    {
     "data": {
      "text/plain": [
       "84"
      ]
     },
     "execution_count": 35,
     "metadata": {},
     "output_type": "execute_result"
    }
   ],
   "source": [
    "# Calculate how many features have a zero coefficient\n",
    "n_ignored = sum(zero_coef)\n",
    "n_ignored"
   ]
  },
  {
   "cell_type": "code",
   "execution_count": 36,
   "id": "a7b48100",
   "metadata": {},
   "outputs": [
    {
     "name": "stdout",
     "output_type": "stream",
     "text": [
      "The model has ignored 84 out of 93 features.\n"
     ]
    }
   ],
   "source": [
    "print(\"The model has ignored {} out of {} features.\".format(n_ignored, len(la.coef_)))"
   ]
  },
  {
   "cell_type": "markdown",
   "id": "18d5ef32",
   "metadata": {},
   "source": [
    "#### Adjusting the regularization strength\n",
    "\n",
    "Your current Lasso model has an  score of 84.7%. When a model applies overly powerful regularization it can suffer from high bias, hurting its predictive power.\n",
    "\n",
    "Let's improve the balance between predictive power and model simplicity by tweaking the alpha parameter."
   ]
  },
  {
   "cell_type": "code",
   "execution_count": 77,
   "id": "6d3c6905",
   "metadata": {},
   "outputs": [],
   "source": [
    "# Find the highest alpha value with R-squared above 98% from the options: 1, 0.5, 0.1, and 0.01\n",
    "la = Lasso(alpha = 0.1, random_state=0)"
   ]
  },
  {
   "cell_type": "code",
   "execution_count": 78,
   "id": "8b575bd8",
   "metadata": {},
   "outputs": [
    {
     "data": {
      "text/plain": [
       "Lasso(alpha=0.1, random_state=0)"
      ]
     },
     "execution_count": 78,
     "metadata": {},
     "output_type": "execute_result"
    }
   ],
   "source": [
    "# Fits the model and calculates performance stats\n",
    "la.fit(X_train_std, y_train)"
   ]
  },
  {
   "cell_type": "code",
   "execution_count": 79,
   "id": "4d6a0553",
   "metadata": {
    "scrolled": true
   },
   "outputs": [
    {
     "data": {
      "text/plain": [
       "0.9915041489437504"
      ]
     },
     "execution_count": 79,
     "metadata": {},
     "output_type": "execute_result"
    }
   ],
   "source": [
    "r_squared = la.score(X_test_std, y_test)\n",
    "r_squared"
   ]
  },
  {
   "cell_type": "code",
   "execution_count": 80,
   "id": "17e48ee2",
   "metadata": {},
   "outputs": [
    {
     "data": {
      "text/plain": [
       "75"
      ]
     },
     "execution_count": 80,
     "metadata": {},
     "output_type": "execute_result"
    }
   ],
   "source": [
    "n_ignored_features = sum(la.coef_ == 0)\n",
    "n_ignored_features"
   ]
  },
  {
   "cell_type": "code",
   "execution_count": 81,
   "id": "f37ec5cd",
   "metadata": {},
   "outputs": [
    {
     "name": "stdout",
     "output_type": "stream",
     "text": [
      "The model can predict 99.2% of the variance in the test set.\n",
      "75 out of 93 features were ignored.\n"
     ]
    }
   ],
   "source": [
    "# Print peformance stats \n",
    "print(\"The model can predict {0:.1%} of the variance in the test set.\".format(r_squared))\n",
    "print(\"{} out of {} features were ignored.\".format(n_ignored_features, len(la.coef_)))"
   ]
  },
  {
   "cell_type": "markdown",
   "id": "3f33b421",
   "metadata": {},
   "source": [
    "With this more appropriate regularization strength we can predict 99% of the variance in the BMI value while ignoring 2/3 of the features."
   ]
  },
  {
   "cell_type": "markdown",
   "id": "393de51d",
   "metadata": {},
   "source": [
    "#### Combining feature selectors\n",
    "In the previous lesson we saw how Lasso models allow you to tweak the strength of regularization with the alpha parameter.\n",
    "\n",
    "We manually set this alpha parameter to find a balance between removing as much features as possible and model accuracy. However, manually finding a good alpha value can be tedious. Good news is, there is a way to automate this."
   ]
  },
  {
   "cell_type": "code",
   "execution_count": 224,
   "id": "d424092b",
   "metadata": {},
   "outputs": [],
   "source": [
    "X = df.drop('bicepscircumferenceflexed', axis =1)"
   ]
  },
  {
   "cell_type": "code",
   "execution_count": 225,
   "id": "e28b78db",
   "metadata": {},
   "outputs": [],
   "source": [
    "y = df[\"bicepscircumferenceflexed\"]"
   ]
  },
  {
   "cell_type": "code",
   "execution_count": 303,
   "id": "2ae700c4",
   "metadata": {},
   "outputs": [],
   "source": [
    "# Set the test size to 30% to get a 70-30% train test split\n",
    "X_train, X_test, y_train, y_test = train_test_split(X, y, test_size=0.33, random_state=0)"
   ]
  },
  {
   "cell_type": "code",
   "execution_count": 304,
   "id": "b91ddcd5",
   "metadata": {},
   "outputs": [],
   "source": [
    "# Fit the scaler on the training features and transform these in one go\n",
    "X_train_std = scaler.fit_transform(X_train)"
   ]
  },
  {
   "cell_type": "markdown",
   "id": "61553aa5",
   "metadata": {},
   "source": [
    "#### LassoCV regressor\n",
    "\n",
    "The LassoCV() class will use cross validation to try out different alpha settings and select the best one. When we fit this model to our training data it will get an alpha_ attribute with the optimal value.\n",
    "\n",
    "#### Creating a LassoCV regressor\n",
    "\n",
    "You'll be predicting biceps circumference on a subsample of the male ANSUR dataset using the LassoCV() regressor that automatically tunes the regularization strength (alpha value) using Cross-Validation."
   ]
  },
  {
   "cell_type": "code",
   "execution_count": 305,
   "id": "bc03d57f",
   "metadata": {},
   "outputs": [],
   "source": [
    "from sklearn.linear_model import LassoCV"
   ]
  },
  {
   "cell_type": "code",
   "execution_count": 306,
   "id": "00ad878e",
   "metadata": {},
   "outputs": [],
   "source": [
    "# Create and fit the LassoCV model on the training set\n",
    "lcv = LassoCV(max_iter=15000)"
   ]
  },
  {
   "cell_type": "code",
   "execution_count": 307,
   "id": "206d275f",
   "metadata": {},
   "outputs": [
    {
     "data": {
      "text/plain": [
       "LassoCV(max_iter=15000)"
      ]
     },
     "execution_count": 307,
     "metadata": {},
     "output_type": "execute_result"
    }
   ],
   "source": [
    "lcv.fit(X_train_std,y_train)"
   ]
  },
  {
   "cell_type": "code",
   "execution_count": 308,
   "id": "9d941264",
   "metadata": {},
   "outputs": [
    {
     "name": "stdout",
     "output_type": "stream",
     "text": [
      "Optimal alpha = 0.030\n"
     ]
    }
   ],
   "source": [
    "print('Optimal alpha = {0:.3f}'.format(lcv.alpha_))"
   ]
  },
  {
   "cell_type": "code",
   "execution_count": 309,
   "id": "ee6cc1dc",
   "metadata": {},
   "outputs": [],
   "source": [
    "# Transform the test set with the pre-fitted scaler\n",
    "X_test_std = scaler.transform(X_test)"
   ]
  },
  {
   "cell_type": "code",
   "execution_count": 310,
   "id": "fc0f99ef",
   "metadata": {},
   "outputs": [],
   "source": [
    "# Calculate R squared on the test set\n",
    "r_squared = lcv.score(X_test_std, y_test)\n"
   ]
  },
  {
   "cell_type": "code",
   "execution_count": 311,
   "id": "c9054890",
   "metadata": {},
   "outputs": [
    {
     "name": "stdout",
     "output_type": "stream",
     "text": [
      "The model explains 87.7% of the test set variance\n"
     ]
    }
   ],
   "source": [
    "print('The model explains {0:.1%} of the test set variance'.format(r_squared))"
   ]
  },
  {
   "cell_type": "markdown",
   "id": "b312c3b6",
   "metadata": {},
   "source": [
    "To actually remove the features to which the Lasso regressor assigned a zero coefficient, we once again create a mask with True values for all non-zero coefficients."
   ]
  },
  {
   "cell_type": "code",
   "execution_count": 312,
   "id": "7c53a177",
   "metadata": {},
   "outputs": [],
   "source": [
    "# Create a mask for coefficients not equal to zero\n",
    "lcv_mask = lcv.coef_ != 0"
   ]
  },
  {
   "cell_type": "code",
   "execution_count": 313,
   "id": "8adab605",
   "metadata": {},
   "outputs": [
    {
     "name": "stdout",
     "output_type": "stream",
     "text": [
      "81 features out of 93 selected\n"
     ]
    }
   ],
   "source": [
    "print('{} features out of {} selected'.format(sum(lcv_mask), len(lcv_mask)))"
   ]
  },
  {
   "cell_type": "markdown",
   "id": "97ba7929",
   "metadata": {},
   "source": [
    "#### Ensemble models for extra votes\n",
    "\n",
    "The LassoCV() model selected 81 out of 93 features. Not bad, but not a spectacular dimensionality reduction either. Let's use two more models to select the 10 features they consider most important using the Recursive Feature Eliminator (RFE)."
   ]
  },
  {
   "cell_type": "markdown",
   "id": "0cf9e1e9",
   "metadata": {},
   "source": [
    "#### Feature selection with gradient boosting\n",
    "\n",
    "The second model we train is a gradient boosting model. Like random forests gradient boosting is an ensemble method that will calculate feature importance values. We've wrapped a Recursive Feature Selector or RFE, around the model to have it select the same number of features as the LassoCV() regressor did. We can then use the support_ attribute of the fitted model to create gb_mask."
   ]
  },
  {
   "cell_type": "code",
   "execution_count": 390,
   "id": "6dfd52ea",
   "metadata": {},
   "outputs": [],
   "source": [
    "from sklearn.feature_selection import RFE\n",
    "from sklearn.ensemble import GradientBoostingRegressor"
   ]
  },
  {
   "cell_type": "code",
   "execution_count": 391,
   "id": "0b009afd",
   "metadata": {},
   "outputs": [],
   "source": [
    "# Select 10 features with RFE on a GradientBoostingRegressor, drop 3 features on each step\n",
    "rfe_gb = RFE(estimator=GradientBoostingRegressor(), \n",
    "             n_features_to_select=10, step=3, verbose=1)"
   ]
  },
  {
   "cell_type": "code",
   "execution_count": 392,
   "id": "933ed716",
   "metadata": {},
   "outputs": [
    {
     "data": {
      "text/plain": [
       "RFE(estimator=GradientBoostingRegressor(), n_features_to_select=10, step=3,\n",
       "    verbose=1)"
      ]
     },
     "execution_count": 392,
     "metadata": {},
     "output_type": "execute_result"
    }
   ],
   "source": [
    "rfe_gb.fit(X_train, y_train)"
   ]
  },
  {
   "cell_type": "code",
   "execution_count": 393,
   "id": "b5af701b",
   "metadata": {},
   "outputs": [
    {
     "name": "stdout",
     "output_type": "stream",
     "text": [
      "The model can explain 83.6% of the variance in the test set\n"
     ]
    }
   ],
   "source": [
    "# Calculate the R squared on the test set\n",
    "r_squared = rfe_gb.score(X_test,y_test)\n",
    "print('The model can explain {0:.1%} of the variance in the test set'.format(r_squared))"
   ]
  },
  {
   "cell_type": "code",
   "execution_count": 318,
   "id": "06c2ae75",
   "metadata": {},
   "outputs": [],
   "source": [
    "# Assign the support array to gb_mask\n",
    "gb_mask = rfe_gb.support_"
   ]
  },
  {
   "cell_type": "markdown",
   "id": "15ca2847",
   "metadata": {},
   "source": [
    "####  Feature selection with random forest\n",
    "\n",
    "The final model we train is a random forest regressor model. We've wrapped a Recursive Feature Selector or RFE, around the model to have it select the same number of features as the LassoCV() regressor did. We can then use the support_ attribute of the fitted model to create rf_mask."
   ]
  },
  {
   "cell_type": "code",
   "execution_count": 319,
   "id": "0fef7d16",
   "metadata": {},
   "outputs": [],
   "source": [
    "from sklearn.ensemble import RandomForestRegressor"
   ]
  },
  {
   "cell_type": "code",
   "execution_count": 320,
   "id": "62e54041",
   "metadata": {},
   "outputs": [],
   "source": [
    "# Select 10 features with RFE on a RandomForestRegressor, drop 3 features on each step\n",
    "rfe_rf = RFE(estimator=RandomForestRegressor(), \n",
    "             n_features_to_select=10, step=3, verbose=1)"
   ]
  },
  {
   "cell_type": "code",
   "execution_count": 321,
   "id": "49bac051",
   "metadata": {},
   "outputs": [
    {
     "name": "stdout",
     "output_type": "stream",
     "text": [
      "Fitting estimator with 93 features.\n",
      "Fitting estimator with 90 features.\n",
      "Fitting estimator with 87 features.\n",
      "Fitting estimator with 84 features.\n",
      "Fitting estimator with 81 features.\n",
      "Fitting estimator with 78 features.\n",
      "Fitting estimator with 75 features.\n",
      "Fitting estimator with 72 features.\n",
      "Fitting estimator with 69 features.\n",
      "Fitting estimator with 66 features.\n",
      "Fitting estimator with 63 features.\n",
      "Fitting estimator with 60 features.\n",
      "Fitting estimator with 57 features.\n",
      "Fitting estimator with 54 features.\n",
      "Fitting estimator with 51 features.\n",
      "Fitting estimator with 48 features.\n",
      "Fitting estimator with 45 features.\n",
      "Fitting estimator with 42 features.\n",
      "Fitting estimator with 39 features.\n",
      "Fitting estimator with 36 features.\n",
      "Fitting estimator with 33 features.\n",
      "Fitting estimator with 30 features.\n",
      "Fitting estimator with 27 features.\n",
      "Fitting estimator with 24 features.\n",
      "Fitting estimator with 21 features.\n",
      "Fitting estimator with 18 features.\n",
      "Fitting estimator with 15 features.\n",
      "Fitting estimator with 12 features.\n"
     ]
    },
    {
     "data": {
      "text/plain": [
       "RFE(estimator=RandomForestRegressor(), n_features_to_select=10, step=3,\n",
       "    verbose=1)"
      ]
     },
     "execution_count": 321,
     "metadata": {},
     "output_type": "execute_result"
    }
   ],
   "source": [
    "rfe_rf.fit(X_train, y_train)"
   ]
  },
  {
   "cell_type": "code",
   "execution_count": 322,
   "id": "88eff9f4",
   "metadata": {},
   "outputs": [
    {
     "name": "stdout",
     "output_type": "stream",
     "text": [
      "The model can explain 82.9% of the variance in the test set\n"
     ]
    }
   ],
   "source": [
    "# Calculate the R squared on the test set\n",
    "r_squared = rfe_rf.score(X_test, y_test)\n",
    "print('The model can explain {0:.1%} of the variance in the test set'.format(r_squared))\n"
   ]
  },
  {
   "cell_type": "code",
   "execution_count": 323,
   "id": "756520db",
   "metadata": {},
   "outputs": [],
   "source": [
    "# Assign the support array to gb_mask\n",
    "rf_mask = rfe_rf.support_"
   ]
  },
  {
   "cell_type": "markdown",
   "id": "e099f1ce",
   "metadata": {},
   "source": [
    "####  Combining the feature selectors\n",
    "\n",
    "Finally, we can start counting the votes on whether to select a feature. We use NumPy's sum() function, pass it the three masks in a list, and set the axis argument to 0. \n",
    "\n",
    "We'll then get an array with the number of votes that each feature got. What we do with this vote then depends on how conservative we want to be. If we want to make sure we don't lose any information, we could select all features with at least one vote. "
   ]
  },
  {
   "cell_type": "code",
   "execution_count": 324,
   "id": "06372bde",
   "metadata": {
    "scrolled": true
   },
   "outputs": [
    {
     "name": "stdout",
     "output_type": "stream",
     "text": [
      "[1 1 1 1 0 1 1 1 1 3 1 1 1 1 2 1 1 1 0 1 1 3 1 3 1 1 2 1 1 1 1 1 1 0 1 1 3\n",
      " 3 1 1 1 1 1 0 1 1 1 0 0 1 0 1 1 1 0 1 1 1 1 1 1 1 1 1 1 1 3 1 1 0 1 1 1 0\n",
      " 1 3 1 1 1 1 1 0 1 1 1 3 1 1 1 0 1 1 3]\n"
     ]
    }
   ],
   "source": [
    "# Sum the votes of the three models\n",
    "votes = np.sum([lcv_mask,rf_mask,gb_mask], axis = 0)\n",
    "print(votes)"
   ]
  },
  {
   "cell_type": "markdown",
   "id": "a5ffeb30",
   "metadata": {},
   "source": [
    "In this example we chose to have at least 3 models voting for a feature in order to keep it. "
   ]
  },
  {
   "cell_type": "code",
   "execution_count": 368,
   "id": "a6e87765",
   "metadata": {
    "scrolled": true
   },
   "outputs": [
    {
     "name": "stdout",
     "output_type": "stream",
     "text": [
      "[False False False False False False False False False  True False False\n",
      " False False False False False False False False False  True False  True\n",
      " False False False False False False False False False False False False\n",
      "  True  True False False False False False False False False False False\n",
      " False False False False False False False False False False False False\n",
      " False False False False False False  True False False False False False\n",
      " False False False  True False False False False False False False False\n",
      " False  True False False False False False False  True]\n"
     ]
    }
   ],
   "source": [
    "# Create a mask for features selected by all 3 models\n",
    "meta_mask = votes == 3\n",
    "print(meta_mask)"
   ]
  },
  {
   "cell_type": "markdown",
   "id": "5b74b36e",
   "metadata": {},
   "source": [
    "All that is left now is to actually implement the dimensionality reduction. We can do it by applying the mask to our feature dataset X with the loc method."
   ]
  },
  {
   "cell_type": "code",
   "execution_count": 369,
   "id": "342eef19",
   "metadata": {},
   "outputs": [
    {
     "name": "stdout",
     "output_type": "stream",
     "text": [
      "Index(['bideltoidbreadth', 'chestbreadth', 'chestdepth',\n",
      "       'forearmcircumferenceflexed', 'forearmforearmbreadth',\n",
      "       'shouldercircumference', 'thighcircumference', 'waistdepth', 'BMI'],\n",
      "      dtype='object')\n"
     ]
    }
   ],
   "source": [
    "# Apply the dimensionality reduction on X\n",
    "X_reduced = X.loc[:, meta_mask]\n",
    "print(X_reduced.columns)"
   ]
  },
  {
   "cell_type": "code",
   "execution_count": 370,
   "id": "dbcaae38",
   "metadata": {},
   "outputs": [],
   "source": [
    "# Plug the reduced dataset into a linear regression pipeline\n",
    "X_train, X_test, y_train, y_test = train_test_split(X_reduced, y, test_size=0.3, random_state=0)"
   ]
  },
  {
   "cell_type": "code",
   "execution_count": 371,
   "id": "0efcece1",
   "metadata": {},
   "outputs": [],
   "source": [
    "from sklearn.linear_model import LinearRegression"
   ]
  },
  {
   "cell_type": "code",
   "execution_count": 372,
   "id": "931ced11",
   "metadata": {},
   "outputs": [],
   "source": [
    "lm = LinearRegression()"
   ]
  },
  {
   "cell_type": "code",
   "execution_count": 373,
   "id": "4a32da53",
   "metadata": {},
   "outputs": [
    {
     "data": {
      "text/plain": [
       "LinearRegression()"
      ]
     },
     "execution_count": 373,
     "metadata": {},
     "output_type": "execute_result"
    }
   ],
   "source": [
    "lm.fit(scaler.fit_transform(X_train), y_train)"
   ]
  },
  {
   "cell_type": "code",
   "execution_count": 374,
   "id": "55d3101a",
   "metadata": {},
   "outputs": [
    {
     "name": "stdout",
     "output_type": "stream",
     "text": [
      "The model can explain 84.7% of the variance in the test set using 9 features.\n"
     ]
    }
   ],
   "source": [
    "r_squared = lm.score(scaler.transform(X_test), y_test)\n",
    "print('The model can explain {0:.1%} of the variance in the test set using {1:} features.'.format(r_squared, len(lm.coef_)))"
   ]
  },
  {
   "cell_type": "code",
   "execution_count": null,
   "id": "8198d945",
   "metadata": {},
   "outputs": [],
   "source": []
  },
  {
   "cell_type": "code",
   "execution_count": null,
   "id": "c9631fe6",
   "metadata": {},
   "outputs": [],
   "source": []
  },
  {
   "cell_type": "code",
   "execution_count": null,
   "id": "cec34a42",
   "metadata": {},
   "outputs": [],
   "source": []
  },
  {
   "cell_type": "code",
   "execution_count": null,
   "id": "91c3ca3f",
   "metadata": {},
   "outputs": [],
   "source": []
  },
  {
   "cell_type": "code",
   "execution_count": null,
   "id": "cf158307",
   "metadata": {},
   "outputs": [],
   "source": []
  },
  {
   "cell_type": "code",
   "execution_count": null,
   "id": "d0e487de",
   "metadata": {},
   "outputs": [],
   "source": []
  },
  {
   "cell_type": "code",
   "execution_count": null,
   "id": "32516e72",
   "metadata": {},
   "outputs": [],
   "source": []
  },
  {
   "cell_type": "code",
   "execution_count": null,
   "id": "803b8c65",
   "metadata": {},
   "outputs": [],
   "source": []
  },
  {
   "cell_type": "code",
   "execution_count": null,
   "id": "f6e2b4b1",
   "metadata": {},
   "outputs": [],
   "source": []
  },
  {
   "cell_type": "code",
   "execution_count": null,
   "id": "5967ec04",
   "metadata": {},
   "outputs": [],
   "source": []
  },
  {
   "cell_type": "code",
   "execution_count": null,
   "id": "1204d822",
   "metadata": {},
   "outputs": [],
   "source": []
  },
  {
   "cell_type": "code",
   "execution_count": null,
   "id": "051cc4c6",
   "metadata": {},
   "outputs": [],
   "source": []
  },
  {
   "cell_type": "code",
   "execution_count": null,
   "id": "267e8a3f",
   "metadata": {},
   "outputs": [],
   "source": []
  },
  {
   "cell_type": "code",
   "execution_count": null,
   "id": "ad8334de",
   "metadata": {},
   "outputs": [],
   "source": []
  },
  {
   "cell_type": "code",
   "execution_count": null,
   "id": "237da622",
   "metadata": {},
   "outputs": [],
   "source": []
  }
 ],
 "metadata": {
  "kernelspec": {
   "display_name": "Python 3",
   "language": "python",
   "name": "python3"
  },
  "language_info": {
   "codemirror_mode": {
    "name": "ipython",
    "version": 3
   },
   "file_extension": ".py",
   "mimetype": "text/x-python",
   "name": "python",
   "nbconvert_exporter": "python",
   "pygments_lexer": "ipython3",
   "version": "3.8.8"
  }
 },
 "nbformat": 4,
 "nbformat_minor": 5
}

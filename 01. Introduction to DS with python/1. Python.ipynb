{
 "cells": [
  {
   "cell_type": "code",
   "execution_count": 5,
   "id": "1c03ac33",
   "metadata": {},
   "outputs": [],
   "source": [
    "## Using text annotation in a line plot"
   ]
  },
  {
   "cell_type": "code",
   "execution_count": null,
   "id": "1fe5f267",
   "metadata": {},
   "outputs": [],
   "source": [
    "# Officer Deshaun\n",
    "plt.plot(deshaun.day_of_week, deshaun.hours_worked, label='Deshaun')\n",
    "\n",
    "# Add a label to Aditya's plot\n",
    "plt.plot(aditya.day_of_week, aditya.hours_worked, label=\"Aditya\")\n",
    "\n",
    "# Add a label to Mengfei's plot\n",
    "plt.plot(mengfei.day_of_week, mengfei.hours_worked, label=\"Mengfei\")"
   ]
  },
  {
   "cell_type": "code",
   "execution_count": null,
   "id": "aafb924f",
   "metadata": {},
   "outputs": [],
   "source": [
    "# Add annotation \"Missing June data\" at (2.5, 80)\n",
    "plt.text(2.5,80,\"Missing June data\")"
   ]
  },
  {
   "cell_type": "code",
   "execution_count": 6,
   "id": "8ddedee4",
   "metadata": {},
   "outputs": [],
   "source": [
    "## Using any visualization library by using plt.style.use()"
   ]
  },
  {
   "cell_type": "markdown",
   "id": "9b00ee1e",
   "metadata": {},
   "source": [
    "Changing the plotting style is a fast way to change the entire look of your plot without having to update individual colors or line styles. Some popular styles include:\n",
    "\n",
    "1.'fivethirtyeight' - Based on the color scheme of the popular website\n",
    "\n",
    "2.'grayscale' - Great for when you don't have a color printer!\n",
    "\n",
    "3.'seaborn' - Based on another Python visualization library\n",
    "\n",
    "4.'classic' - The default color scheme for Matplotlib"
   ]
  },
  {
   "cell_type": "code",
   "execution_count": 2,
   "id": "74921c01",
   "metadata": {},
   "outputs": [],
   "source": [
    "# Choose any of the styles\n",
    "# print(plt.style.available)"
   ]
  },
  {
   "cell_type": "code",
   "execution_count": null,
   "id": "1458416d",
   "metadata": {},
   "outputs": [],
   "source": [
    "plt.style.use('seaborn-dark')"
   ]
  },
  {
   "cell_type": "code",
   "execution_count": 4,
   "id": "621712fd",
   "metadata": {},
   "outputs": [],
   "source": [
    "## Adding error bars in barplot"
   ]
  },
  {
   "cell_type": "code",
   "execution_count": null,
   "id": "b988e4d1",
   "metadata": {},
   "outputs": [],
   "source": [
    "# Display the DataFrame hours using print\n",
    "print(hours)\n",
    "\n",
    "# Create a bar plot from the DataFrame hours\n",
    "plt.bar(hours.officer, hours.avg_hours_worked,\n",
    "        # Add error bars\n",
    "        yerr = hours[\"std_hours_worked\"])\n",
    "\n",
    "# Display the plot\n",
    "plt.show()"
   ]
  },
  {
   "cell_type": "code",
   "execution_count": 1,
   "id": "a2f10a56",
   "metadata": {},
   "outputs": [],
   "source": [
    "## Stacking Bar plot"
   ]
  },
  {
   "cell_type": "code",
   "execution_count": null,
   "id": "a029bb9f",
   "metadata": {},
   "outputs": [],
   "source": [
    "# Plot the number of hours spent on desk work\n",
    "plt.bar(hours.officer, hours.desk_work, label='Desk Work')\n",
    "\n",
    "# Plot the hours spent on field work on top of desk work\n",
    "plt.bar(hours.officer, hours.field_work, label=\"Field Work\",\n",
    "            bottom = hours.desk_work )\n",
    "\n",
    "# Add a legend\n",
    "plt.legend()\n",
    "\n",
    "# Display the plot\n",
    "plt.show()"
   ]
  },
  {
   "cell_type": "code",
   "execution_count": null,
   "id": "571d8fae",
   "metadata": {},
   "outputs": [],
   "source": [
    "## Creating a histogram\n",
    "# density used for normalizing the values to 1"
   ]
  },
  {
   "cell_type": "code",
   "execution_count": null,
   "id": "9f3985dc",
   "metadata": {},
   "outputs": [],
   "source": [
    "# Create a histogram\n",
    "plt.hist(gravel.radius,\n",
    "         bins=40,\n",
    "         range=(2, 8),\n",
    "         density=True)\n",
    "\n",
    "# Label plot\n",
    "plt.xlabel('Gravel Radius (mm)')\n",
    "plt.ylabel('Frequency')\n",
    "plt.title('Sample from Shoeprint')\n",
    "\n",
    "# Display histogram\n",
    "plt.show()"
   ]
  },
  {
   "cell_type": "code",
   "execution_count": null,
   "id": "a015131e",
   "metadata": {},
   "outputs": [],
   "source": []
  }
 ],
 "metadata": {
  "kernelspec": {
   "display_name": "Python 3 (ipykernel)",
   "language": "python",
   "name": "python3"
  },
  "language_info": {
   "codemirror_mode": {
    "name": "ipython",
    "version": 3
   },
   "file_extension": ".py",
   "mimetype": "text/x-python",
   "name": "python",
   "nbconvert_exporter": "python",
   "pygments_lexer": "ipython3",
   "version": "3.8.13"
  }
 },
 "nbformat": 4,
 "nbformat_minor": 5
}

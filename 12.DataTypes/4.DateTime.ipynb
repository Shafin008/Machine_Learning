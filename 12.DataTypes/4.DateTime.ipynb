{
 "cells": [
  {
   "cell_type": "markdown",
   "id": "be3ff4e8-2cb5-40b2-a1ea-4c9d5ec26117",
   "metadata": {},
   "source": [
    "### Ex1: Strings to DateTimes\n",
    "Time to begin your DateTime journey! You'll start by using the .strptime() method from the datetime object as shown in the video, passing it both the string and the format. A full list of the format string components is available in the Python documentation.\n",
    "\n",
    "You'll be using the datetime column from the Chicago Transit Authority data, which is available as dates_list. Feel free to explore it in the IPython Shell: You'll see that it has the format of Month, Day, Year.\n",
    "\n",
    "- Import the datetime object from datetime.\n",
    "\n",
    "- Iterate over the dates_list, using date_str as your iterator variable.\n",
    "\n",
    "- Convert each date_str into a datetime object called date_dt using the datetime.strptime() function, with '%m/%d/%Y' as your format.\n",
    "\n",
    "- Print each date_dt."
   ]
  },
  {
   "cell_type": "code",
   "execution_count": null,
   "id": "0599a096-07ae-42fe-95d7-c48145ac46be",
   "metadata": {},
   "outputs": [],
   "source": [
    "# Import the datetime object from datetime\n",
    "____\n",
    "\n",
    "# Iterate over the dates_list \n",
    "for ____ in ____:\n",
    "    # Convert each date to a datetime object: date_dt\n",
    "    date_dt = ____\n",
    "    \n",
    "    # Print each date_dt\n",
    "    print(____)"
   ]
  },
  {
   "cell_type": "code",
   "execution_count": null,
   "id": "086f1ca9-f294-4977-a34f-4c5d80527985",
   "metadata": {},
   "outputs": [],
   "source": [
    "# # Import the datetime object from datetime\n",
    "# from datetime import datetime\n",
    "\n",
    "# # Iterate over the dates_list \n",
    "# for date_str in dates_list:\n",
    "#     # Convert each date to a datetime object: date_dt\n",
    "#     date_dt = datetime.strptime(date_str, '%m/%d/%Y')\n",
    "    \n",
    "#     # Print each date_dt\n",
    "#     print(date_dt)"
   ]
  },
  {
   "cell_type": "markdown",
   "id": "98d05a70-5062-47d1-93a9-a91b7bfcf1ba",
   "metadata": {},
   "source": [
    "### Ex2: Converting to a String\n",
    "Converting from a datetime object to a string is done with the .strftime() method on a instance of the datetime object. You pass a format string just like the ones used in the prior exercise.\n",
    "\n",
    "There is also a widely used string output standard called ISO-8601. It has a shortcut method named .isoformat(). I encourage you to use it anytime you write out to a file.\n",
    "\n",
    "All the datetimes you created for the transit data in the prior exercise are saved in the datetimes_list.\n",
    "\n",
    "\n",
    "- Loop over the first 10 items of the datetimes_list, using item as your iterator variable.\n",
    "\n",
    "- Print out the item as a string in the format of 'MM/DD/YYYY'. For this, the format string is '%m/%d/%Y'.\n",
    "\n",
    "- Print out the item as an ISO standard string."
   ]
  },
  {
   "cell_type": "code",
   "execution_count": null,
   "id": "4d8dd7c8-5a45-463c-80f8-68618b3ac546",
   "metadata": {},
   "outputs": [],
   "source": [
    "# Loop over the first 10 items of the datetimes_list\n",
    "for item in datetimes_list[:10]:\n",
    "    # Print out the record as a string in the format of 'MM/DD/YYYY'\n",
    "    print(____)\n",
    "    \n",
    "    # Print out the record as an ISO standard string\n",
    "    print(____)"
   ]
  },
  {
   "cell_type": "code",
   "execution_count": null,
   "id": "2f6f9d97-ad1e-4800-9ba6-6ca93dc6774d",
   "metadata": {},
   "outputs": [],
   "source": [
    "# # Loop over the first 10 items of the datetimes_list\n",
    "# for item in datetimes_list[:10]:\n",
    "#     # Print out the record as a string in the format of 'MM/DD/YYYY'\n",
    "#     print(item.strftime('%m/%d/%Y'))\n",
    "    \n",
    "#     # Print out the record as an ISO standard string\n",
    "#     print(item.isoformat())"
   ]
  },
  {
   "cell_type": "markdown",
   "id": "54be2592-ac1f-4a3a-9ec8-7c8ceef27996",
   "metadata": {},
   "source": [
    "### Ex3: Pieces of Time\n",
    "When working with datetime objects, you'll often want to group them by some component of the datetime such as the month, year, day, etc. Each of these are available as attributes on an instance of a datetime object.\n",
    "\n",
    "You're going to work with the summary of the CTA's daily ridership. It contains the following columns, in order: service_date, day_type, bus, rail_boardings, and total_rides. The modules defaultdict and datetime have already been imported for you.\n",
    "\n",
    "\n",
    "- Create a defaultdict of an integer called monthly_total_rides.\n",
    "\n",
    "- Loop over the list daily_summaries, which contains the columns mentioned above in the assignment text.\n",
    "\n",
    "- Convert the service_date (1st element of daily_summary) to a datetime object called service_datetime. Use '%m/%d/%Y' as your format string.\n",
    "\n",
    "- Use the month of the service_datetime as the dict key and add the total_rides (5th element of daily_summary) to the current amount for the month. Be sure to convert this into an integer.\n",
    "\n",
    "- Print monthly_total_rides."
   ]
  },
  {
   "cell_type": "code",
   "execution_count": null,
   "id": "dd7d0ad6-dde3-43d6-9499-e19f49d623d3",
   "metadata": {},
   "outputs": [],
   "source": [
    "# Create a defaultdict of an integer: monthly_total_rides\n",
    "monthly_total_rides = ____\n",
    "\n",
    "# Loop over the list daily_summaries\n",
    "for daily_summary in daily_summaries:\n",
    "    # Convert the service_date to a datetime object\n",
    "    service_datetime = ____\n",
    "\n",
    "    # Add the total rides to the current amount for the month\n",
    "    monthly_total_rides[____] += int(____)\n",
    "    \n",
    "# Print monthly_total_rides\n",
    "print(monthly_total_rides)"
   ]
  },
  {
   "cell_type": "code",
   "execution_count": null,
   "id": "3d5a8fdd-96ef-4960-a4a2-a49bebc834c5",
   "metadata": {},
   "outputs": [],
   "source": [
    "# # Create a defaultdict of an integer: monthly_total_rides\n",
    "# monthly_total_rides = defaultdict(int)\n",
    "\n",
    "# # Loop over the list daily_summaries\n",
    "# for daily_summary in daily_summaries:\n",
    "#     # Convert the service_date to a datetime object\n",
    "#     service_datetime = datetime.strptime(daily_summary[0], '%m/%d/%Y')\n",
    "\n",
    "#     # Add the total rides to the current amount for the month\n",
    "#     monthly_total_rides[service_datetime.month] += int(daily_summary[4])\n",
    "    \n",
    "# # Print monthly_total_rides\n",
    "# print(monthly_total_rides)"
   ]
  },
  {
   "cell_type": "markdown",
   "id": "03fd908c-e9e1-420c-8440-ad3d5ef73547",
   "metadata": {},
   "source": [
    "#### Ex4: Creating DateTime Objects... Now\n",
    "Often when working with datetime objects, you'll want to work on windows or ranges that start from the current date and time. You can do this using the datetime now functions. There is a .now() method on the datetime object in the datetime module and a .utcnow() method. The .now() method returns the current local time on the machine on which it is run, and .utcnow() does the same thing but returns the value in UTC time. You'll need to be very familiar with these methods.\n",
    "\n",
    "No dataset is used in this exercise, but bear with us as you'll need to do this often to compare year/month-to-date etc.\n",
    "\n",
    "- Import datetime from the datetime module.\n",
    "\n",
    "- Store the local datetime as local_dt and print it.\n",
    "\n",
    "- Store the UTC datetime as utc_dt and print it."
   ]
  },
  {
   "cell_type": "code",
   "execution_count": null,
   "id": "8c51356c-915f-4b99-93d9-ea42ef80552d",
   "metadata": {},
   "outputs": [],
   "source": [
    "# Import datetime from the datetime module\n",
    "____\n",
    "\n",
    "# Compute the local datetime: local_dt\n",
    "local_dt = ____\n",
    "\n",
    "# Print the local datetime\n",
    "print(local_dt)\n",
    "\n",
    "# Compute the UTC datetime: utc_dt\n",
    "utc_dt = ____\n",
    "\n",
    "# Print the UTC datetime\n",
    "print(utc_dt)"
   ]
  },
  {
   "cell_type": "code",
   "execution_count": null,
   "id": "fdc425f1-bb1e-48d6-af04-bcfb174d5bb3",
   "metadata": {},
   "outputs": [],
   "source": [
    "# # Import datetime from the datetime module\n",
    "# from datetime import datetime\n",
    "\n",
    "# # Compute the local datetime: local_dt\n",
    "# local_dt = datetime.now()\n",
    "\n",
    "# # Print the local datetime\n",
    "# print(local_dt)\n",
    "\n",
    "# # Compute the UTC datetime: utc_dt\n",
    "# utc_dt = datetime.utcnow()\n",
    "\n",
    "# # Print the UTC datetime\n",
    "# print(utc_dt)"
   ]
  },
  {
   "cell_type": "markdown",
   "id": "709d61d7-ea69-4130-8242-1791b246130e",
   "metadata": {},
   "source": [
    "### Ex5: Timezones\n",
    "In order to work effectively with other timezones, you can use the pytz library. To use timezones, you need to import the timezone object from the pytz module. Then you can use the timezone constructor and pass it a name of a timezone, such as CT = timezone('US/Central'). You can get a full list of timezone names at Wikipedia. In Python 3, you can make a datetime object \"aware\" by passing a timezone as the tzinfo keyword argument to the .replace() method on a datetime instance.\n",
    "\n",
    "An \"aware\" datetime object has an .astimezone() method that accepts a timezone object and returns a new datetime object in the desired timezone. If the tzinfo is not set for the datetime object it assumes the timezone of the computer you are working on.\n",
    "\n",
    "A list, daily_summaries, has been supplied for you it contains the datetime and rail ridership for trains going to New York. You need to determine the time in New York so you can align it with the New York Transit Authority data.\n",
    "\n",
    "- Create a Timezone object for Chicago ('US/Central') called chicago_usa_tz.\n",
    "\n",
    "- Create a Timezone object for New York ('US/Eastern') called ny_usa_tz.\n",
    "\n",
    "- Iterate over the daily_summaries, unpacking it into the variables orig_dt and ridership.\n",
    "\n",
    "- Make the orig_dt timezone \"aware\" for Chicago, using chicago_usa_tz. Store the result in chicago_dt.\n",
    "\n",
    "- Convert chicago_dt to the New York timezone, ny_dt.\n",
    "\n",
    "- Print the chicago_dt, ny_dt, and ridership."
   ]
  },
  {
   "cell_type": "code",
   "execution_count": null,
   "id": "e2426fb0-cafc-4d77-85c2-6a34570609f3",
   "metadata": {},
   "outputs": [],
   "source": [
    "# Create a Timezone object for Chicago\n",
    "chicago_usa_tz = ____\n",
    "\n",
    "# Create a Timezone object for New York\n",
    "ny_usa_tz = ____\n",
    "\n",
    "# Iterate over the daily_summaries list\n",
    "for ____, ____ in ____:\n",
    "\n",
    "    # Make the orig_dt timezone \"aware\" for Chicago\n",
    "    chicago_dt = ____\n",
    "    \n",
    "    # Convert chicago_dt to the New York Timezone\n",
    "    ny_dt = ____\n",
    "    \n",
    "    # Print the chicago_dt, ny_dt, and ridership\n",
    "    print('Chicago: %s, NY: %s, Ridership: %s' % (chicago_dt, ny_dt, ridership))"
   ]
  },
  {
   "cell_type": "code",
   "execution_count": null,
   "id": "5fd9b1e1-51f3-4c03-98a0-7b4bba77abe7",
   "metadata": {},
   "outputs": [],
   "source": [
    "# # Create a Timezone object for Chicago\n",
    "# chicago_usa_tz = timezone('US/Central')\n",
    "\n",
    "# # Create a Timezone object for New York\n",
    "# ny_usa_tz = timezone('US/Eastern')\n",
    "\n",
    "# # Iterate over the daily_summaries list\n",
    "# for orig_dt, ridership in daily_summaries:\n",
    "\n",
    "#     # Make the orig_dt timezone \"aware\" for Chicago\n",
    "#     chicago_dt = orig_dt.replace(tzinfo=chicago_usa_tz)\n",
    "    \n",
    "#     # Convert chicago_dt to the New York Timezone\n",
    "#     ny_dt = chicago_dt.astimezone(ny_usa_tz)\n",
    "    \n",
    "#     # Print the chicago_dt, ny_dt, and ridership\n",
    "#     print('Chicago: %s, NY: %s, Ridership: %s' % (chicago_dt, ny_dt, ridership))"
   ]
  },
  {
   "cell_type": "markdown",
   "id": "56014fa7-61d5-4936-b232-4239ebd7c065",
   "metadata": {},
   "source": [
    "#### Ex6: Finding a time in the future and from the past\n",
    "Another common case when working with times is to get a date 30, 60, or 90 days in the past from some date. In Python, the timedelta object from the datetime module is used to represent differences in datetime objects. You can create a timedelta by passing any number of keyword arguments such as days, seconds, microseconds, milliseconds, minutes, hours, and weeks to timedelta().\n",
    "\n",
    "Once you have a timedelta object, you can add or subtract it from a datetime object to get a datetime object relative to the original datetime object.\n",
    "\n",
    "A dictionary, daily_summaries, has been supplied for you. It contains the datetime as the key with a dict as the value that has 'day_type' and 'total_ridership' keys. A list of datetimes to review called review_dates is also available.\n",
    "\n",
    "- Import timedelta from the datetime module.\n",
    "\n",
    "- Build a timedelta of 30 days called glanceback using timedelta().\n",
    "\n",
    "- Iterate over the review_dates, using date as your iterator variable.\n",
    "\n",
    "- Calculate the date 30 days back by subtracting glanceback from date.\n",
    "\n",
    "- Print the date, along with 'day_type' and 'total_ridership' from daily_summaries for that date.\n",
    "\n",
    "- Print the prior_period_dt, along with 'day_type' and 'total_ridership' from daily_summaries for that date (prior_period_dt)."
   ]
  },
  {
   "cell_type": "code",
   "execution_count": null,
   "id": "8a101d1b-03c0-4184-b24d-c1e97997b64f",
   "metadata": {},
   "outputs": [],
   "source": [
    "# Import timedelta from the datetime module\n",
    "____\n",
    "\n",
    "# Build a timedelta of 30 days: glanceback\n",
    "glanceback = ____\n",
    "\n",
    "# Iterate over the review_dates as date\n",
    "for ____ in ____:\n",
    "    # Calculate the date 30 days back: prior_period_dt\n",
    "    prior_period_dt = ____ - ____\n",
    "    \n",
    "    # Print the review_date, day_type and total_ridership\n",
    "    print('Date: %s, Type: %s, Total Ridership: %s' %\n",
    "         (____, \n",
    "          ____[____]['____'], \n",
    "          ____[____]['____']))\n",
    "\n",
    "    # Print the prior_period_dt, day_type and total_ridership\n",
    "    print('Date: %s, Type: %s, Total Ridership: %s' %\n",
    "         (____, \n",
    "          ____, \n",
    "          ____))"
   ]
  },
  {
   "cell_type": "code",
   "execution_count": 1,
   "id": "57371906-0f79-4d42-970d-69d9311e561d",
   "metadata": {},
   "outputs": [],
   "source": [
    "# # Import timedelta from the datetime module\n",
    "# from datetime import timedelta\n",
    "\n",
    "# # Build a timedelta of 30 days: glanceback\n",
    "# glanceback = timedelta(days=30)\n",
    "\n",
    "# # Iterate over the review_dates as date\n",
    "# for date in review_dates:\n",
    "#     # Calculate the date 30 days back: prior_period_dt\n",
    "#     prior_period_dt = date - glanceback\n",
    "    \n",
    "#     # Print the review_date, day_type and total_ridership\n",
    "#     print('Date: %s, Type: %s, Total Ridership: %s' %\n",
    "#          (date, \n",
    "#           daily_summaries[date]['day_type'], \n",
    "#           daily_summaries[date]['total_ridership']))\n",
    "\n",
    "#     # Print the prior_period_dt, day_type and total_ridership\n",
    "#     print('Date: %s, Type: %s, Total Ridership: %s' %\n",
    "#          (prior_period_dt, \n",
    "#           daily_summaries[prior_period_dt]['day_type'], \n",
    "#           daily_summaries[prior_period_dt]['total_ridership']))"
   ]
  },
  {
   "cell_type": "markdown",
   "id": "7c37688f-1731-43f0-867d-a0840d136f1e",
   "metadata": {},
   "source": [
    "#### Ex7: Finding differences in DateTimes\n",
    "Just like you were able to subtract a timedelta from a datetime to find a date in the past, you can also calculate the difference between two dates to get the timedelta between in return. Here, you'll find out how much time has elapsed between two transit dates.\n",
    "\n",
    "A list of tuples called date_ranges is provided for you. We took the dates from our dataset at every 30th record, and we paired up the records into tuples in a stepwise fashion.\n",
    "\n",
    "\n",
    "- Iterate over date_ranges, unpacking it into start_date and end_date.\n",
    "\n",
    "- Print the end_date and start_date using the same print() function.\n",
    "\n",
    "- Print the difference between each end_date and start_date."
   ]
  },
  {
   "cell_type": "code",
   "execution_count": null,
   "id": "2d6efa30-4bff-4264-8fb0-258f83c351a9",
   "metadata": {},
   "outputs": [],
   "source": [
    "# Iterate over the date_ranges\n",
    "for ____, ____ in ____:\n",
    "    # Print the End and Start Date\n",
    "    print(____, ____)\n",
    "    # Print the difference between each end and start date\n",
    "    ____"
   ]
  },
  {
   "cell_type": "code",
   "execution_count": null,
   "id": "812fe991-2669-49c7-97c6-1f6bfd4c70aa",
   "metadata": {},
   "outputs": [],
   "source": [
    "# # Iterate over the date_ranges\n",
    "# for start_date, end_date in date_ranges:\n",
    "#     # Print the End and Start Date\n",
    "#     print(end_date, start_date)\n",
    "#     # Print the difference between each end and start date\n",
    "#     print(end_date - start_date)"
   ]
  },
  {
   "cell_type": "markdown",
   "id": "bc0bb320-a9d6-4eda-b744-18aa6d78117c",
   "metadata": {},
   "source": [
    "### Ex8: Localizing time with pendulum\n",
    "Here, you're going to use pendulum to practice doing some common datetime operations!\n",
    "\n",
    "- Import the pendulum module.\n",
    "\n",
    "- Create a now datetime for Tokyo ('Asia/Tokyo') called tokyo_dt.\n",
    "\n",
    "- Convert tokyo_dt to Los Angeles time ('America/Los_Angeles'). Store the result as la_dt.\n",
    "\n",
    "- Print the ISO 8601 string of la_dt, using the .to_iso8601_string() method."
   ]
  },
  {
   "cell_type": "code",
   "execution_count": null,
   "id": "ac6ab25d-121f-4114-a7d9-6fe56a59fec3",
   "metadata": {},
   "outputs": [],
   "source": [
    "# Import the pendulum module\n",
    "____\n",
    "\n",
    "# Create a now datetime for Tokyo: tokyo_dt\n",
    "tokyo_dt = ____\n",
    "\n",
    "# Covert the tokyo_dt to Los Angeles: la_dt\n",
    "la_dt = ____\n",
    "\n",
    "# Print the ISO 8601 string of la_dt\n",
    "print(____)"
   ]
  },
  {
   "cell_type": "code",
   "execution_count": null,
   "id": "2e14c9c0-afbb-4aa6-8d9d-1c9549ed22bb",
   "metadata": {},
   "outputs": [],
   "source": [
    "# # Import the pendulum module\n",
    "# import pendulum\n",
    "\n",
    "# # Create a now datetime for Tokyo: tokyo_dt\n",
    "# tokyo_dt = pendulum.now('Asia/Tokyo')\n",
    "\n",
    "# # Covert the tokyo_dt to Los Angeles: la_dt\n",
    "# la_dt = tokyo_dt.in_timezone('America/Los_Angeles')\n",
    "\n",
    "# # Print the ISO 8601 string of la_dt\n",
    "# print(la_dt.to_iso8601_string())"
   ]
  },
  {
   "cell_type": "markdown",
   "id": "2dde0aea-f45d-4b84-a67d-26fc2dfa0e3e",
   "metadata": {},
   "source": [
    "### Ex9:Humanizing Differences with Pendulum\n",
    "Pendulum provides a powerful way to convert strings to pendulum datetime objects via the .parse() method. Just pass it a date string and it will attempt to convert into a valid pendulum datetime. By default, .parse() can process dates in ISO 8601 format. To allow it to parse other date formats, pass strict = False.\n",
    "\n",
    "It also has a wonderful alternative to timedelta. When calculating the difference between two dates by subtraction, pendulum provides methods such as .in_days() to output the difference in a chosen metric. These are just the beginning of what pendulum can do for you.\n",
    "\n",
    "A list of tuples called date_ranges is provided for you. This is the same list of tuples that contain two dates that was used a few exercises prior. You'll be focusing on comparing ranges of records.\n",
    "\n",
    "You can learn more in the pendulum documentation. Here, it has been imported for you.\n",
    "\n",
    "\n",
    "- Iterate over the date_ranges list, unpacking it into start_date and end_date. These dates are not in ISO 8601 format.\n",
    "\n",
    "- Use pendulum to convert the start_date string to a pendulum date called start_dt.\n",
    "\n",
    "- Use pendulum to convert the end_date string to pendulum date called end_dt.\n",
    "\n",
    "- Calculate the difference between end_dt and start_dt. Store the result as diff_period.\n",
    "\n",
    "- Print the difference in days, using the .in_days() method."
   ]
  },
  {
   "cell_type": "code",
   "execution_count": null,
   "id": "98451f1a-f6b5-465f-98d9-7e4bb0215f71",
   "metadata": {},
   "outputs": [],
   "source": [
    "# Iterate over date_ranges\n",
    "for ____, ____ in ____:\n",
    "\n",
    "    # Convert the start_date string to a pendulum date: start_dt \n",
    "    start_dt = ____\n",
    "    \n",
    "    # Convert the end_date string to a pendulum date: end_dt \n",
    "    end_dt = ____\n",
    "    \n",
    "    # Print the End and Start Date\n",
    "    print(end_dt, start_dt)\n",
    "    \n",
    "    # Calculate the difference between end_dt and start_dt: diff_period\n",
    "    diff_period = ____ - ____\n",
    "    \n",
    "    # Print the difference in days\n",
    "    ____"
   ]
  },
  {
   "cell_type": "code",
   "execution_count": null,
   "id": "93cd35aa-7cae-4d90-b33d-64fb941ac1fb",
   "metadata": {},
   "outputs": [],
   "source": [
    "# # Iterate over date_ranges\n",
    "# for start_date, end_date in date_ranges:\n",
    "\n",
    "#     # Convert the start_date string to a pendulum date: start_dt \n",
    "#     start_dt = pendulum.parse(start_date, strict = False)\n",
    "    \n",
    "#     # Convert the end_date string to a pendulum date: end_dt \n",
    "#     end_dt = pendulum.parse(end_date, strict = False)\n",
    "    \n",
    "#     # Print the End and Start Date\n",
    "#     print(end_dt, start_dt)\n",
    "    \n",
    "#     # Calculate the difference between end_dt and start_dt: diff_period\n",
    "#     diff_period = end_dt - start_dt\n",
    "    \n",
    "#     # Print the difference in days\n",
    "#     print(diff_period.in_days())"
   ]
  },
  {
   "cell_type": "code",
   "execution_count": null,
   "id": "20256c50-764c-46c8-b0ed-a9bc0372edf0",
   "metadata": {},
   "outputs": [],
   "source": []
  },
  {
   "cell_type": "code",
   "execution_count": null,
   "id": "40cc16ef-e5ff-45b7-a7f3-5d875ec1c558",
   "metadata": {},
   "outputs": [],
   "source": []
  },
  {
   "cell_type": "code",
   "execution_count": null,
   "id": "eb50e5e1-2746-4278-809d-8af8e221a535",
   "metadata": {},
   "outputs": [],
   "source": []
  },
  {
   "cell_type": "code",
   "execution_count": null,
   "id": "12bcd1db-4d85-4c28-b24d-34a443e90405",
   "metadata": {},
   "outputs": [],
   "source": []
  },
  {
   "cell_type": "code",
   "execution_count": null,
   "id": "8a0ba589-41c2-49d4-b23b-7e7ab688486a",
   "metadata": {},
   "outputs": [],
   "source": []
  },
  {
   "cell_type": "code",
   "execution_count": null,
   "id": "1da0d1ac-3992-42c8-9042-71df69020b87",
   "metadata": {},
   "outputs": [],
   "source": []
  },
  {
   "cell_type": "code",
   "execution_count": null,
   "id": "74780059-a584-4aaf-8d44-853f79f68181",
   "metadata": {},
   "outputs": [],
   "source": []
  },
  {
   "cell_type": "code",
   "execution_count": null,
   "id": "b90c4f91-5a50-4801-94a9-63395f90a97e",
   "metadata": {},
   "outputs": [],
   "source": []
  },
  {
   "cell_type": "code",
   "execution_count": null,
   "id": "a522b35d-a2c1-486b-8190-ae6950a8a7ad",
   "metadata": {},
   "outputs": [],
   "source": []
  },
  {
   "cell_type": "code",
   "execution_count": null,
   "id": "a0685c56-8d75-478b-9e0e-8a14caea4078",
   "metadata": {},
   "outputs": [],
   "source": []
  },
  {
   "cell_type": "code",
   "execution_count": null,
   "id": "3787bf86-700c-407c-9841-10db544b64c7",
   "metadata": {},
   "outputs": [],
   "source": []
  },
  {
   "cell_type": "code",
   "execution_count": null,
   "id": "0ad31267-f3c0-4fa6-9859-de20fff347eb",
   "metadata": {},
   "outputs": [],
   "source": []
  },
  {
   "cell_type": "code",
   "execution_count": null,
   "id": "f09dda0f-cb0d-4146-bf55-3c2a23df54bd",
   "metadata": {},
   "outputs": [],
   "source": []
  },
  {
   "cell_type": "code",
   "execution_count": null,
   "id": "7056a0da-7e88-41a5-8af3-de3089a6ea68",
   "metadata": {},
   "outputs": [],
   "source": []
  },
  {
   "cell_type": "code",
   "execution_count": null,
   "id": "8b45a987-de93-4fbc-bcc9-f993ba20f6bb",
   "metadata": {},
   "outputs": [],
   "source": []
  },
  {
   "cell_type": "code",
   "execution_count": null,
   "id": "9aa8ead1-3f0a-43b6-81c5-df9fd96613e2",
   "metadata": {},
   "outputs": [],
   "source": []
  },
  {
   "cell_type": "code",
   "execution_count": null,
   "id": "77d7b98b-36ae-4b23-abe9-7ffca361f670",
   "metadata": {},
   "outputs": [],
   "source": []
  },
  {
   "cell_type": "code",
   "execution_count": null,
   "id": "eed8b5e4-df53-44a0-aeb1-fb45690fc9b1",
   "metadata": {},
   "outputs": [],
   "source": []
  },
  {
   "cell_type": "code",
   "execution_count": null,
   "id": "11cb77f7-aacc-45a1-8ad8-167402cd5292",
   "metadata": {},
   "outputs": [],
   "source": []
  },
  {
   "cell_type": "code",
   "execution_count": null,
   "id": "3fc8efbb-2756-493c-a976-c33de7621a52",
   "metadata": {},
   "outputs": [],
   "source": []
  },
  {
   "cell_type": "code",
   "execution_count": null,
   "id": "52b7950f-bc47-4e24-82a5-b1c2f921b4c2",
   "metadata": {},
   "outputs": [],
   "source": []
  },
  {
   "cell_type": "code",
   "execution_count": null,
   "id": "a1cb01a3-d587-45d6-9a43-bb332c8cef01",
   "metadata": {},
   "outputs": [],
   "source": []
  },
  {
   "cell_type": "code",
   "execution_count": null,
   "id": "71649360-3013-4086-99f1-e5ba9f46ee77",
   "metadata": {},
   "outputs": [],
   "source": []
  },
  {
   "cell_type": "code",
   "execution_count": null,
   "id": "ea12af13-01bd-4b0e-b462-174195f432f9",
   "metadata": {},
   "outputs": [],
   "source": []
  }
 ],
 "metadata": {
  "kernelspec": {
   "display_name": "Python 3 (ipykernel)",
   "language": "python",
   "name": "python3"
  },
  "language_info": {
   "codemirror_mode": {
    "name": "ipython",
    "version": 3
   },
   "file_extension": ".py",
   "mimetype": "text/x-python",
   "name": "python",
   "nbconvert_exporter": "python",
   "pygments_lexer": "ipython3",
   "version": "3.8.13"
  }
 },
 "nbformat": 4,
 "nbformat_minor": 5
}

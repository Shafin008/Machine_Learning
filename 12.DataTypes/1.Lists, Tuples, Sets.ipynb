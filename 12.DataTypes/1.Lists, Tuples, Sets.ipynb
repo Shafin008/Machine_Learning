{
 "cells": [
  {
   "cell_type": "markdown",
   "id": "8f1f8b44",
   "metadata": {},
   "source": [
    "# Container sequences\n",
    "\n",
    "A container sequence gets its name because it holds a sequence of elements of other data types. In the data science world, we'll use these containers to store our data for aggregation, order, sorting, and more. Python provides several container sequences such as lists, sets, and tuples to name a few. \n",
    "\n",
    "They can be mutable meaning that they can have elements added and removed from them. Immutability, not able to be altered, allows us to protect our reference data, and replace individual data points with sums, averages, derivations, etc. \n",
    "\n",
    "We can iterate, also known as looping, over the data contained within these containers. Being able to iterate over these sequences allows us to group data, aggregate it, and process it over time. \n",
    "\n",
    "Let's start with learning about container types by looking at lists.\n",
    "\n",
    "\n",
    "\n",
    "## Lists\n",
    "\n",
    "Often we need to hold an ordered collection of items, and lists allow us to do just that. Lists are mutable so we can add or remove data from them. Lists also allow us to access an individual element within them using an index."
   ]
  },
  {
   "cell_type": "code",
   "execution_count": 12,
   "id": "43340216",
   "metadata": {},
   "outputs": [
    {
     "data": {
      "text/plain": [
       "['Ximena', 'Aliza', 'Ayden', 'Calvin']"
      ]
     },
     "execution_count": 12,
     "metadata": {},
     "output_type": "execute_result"
    }
   ],
   "source": [
    "# Create a list containing the names: baby_names\n",
    "baby_names = ['Ximena', 'Aliza', 'Ayden', 'Calvin']\n",
    "baby_names"
   ]
  },
  {
   "cell_type": "markdown",
   "id": "30a7951a",
   "metadata": {},
   "source": [
    "### .append() method\n",
    "\n",
    "If we want to add individual data elements to a list, we can do it by using the .append() method. "
   ]
  },
  {
   "cell_type": "code",
   "execution_count": 13,
   "id": "fee6a59f",
   "metadata": {},
   "outputs": [
    {
     "data": {
      "text/plain": [
       "['Ximena', 'Aliza', 'Ayden', 'Calvin', 'anik']"
      ]
     },
     "execution_count": 13,
     "metadata": {},
     "output_type": "execute_result"
    }
   ],
   "source": [
    "baby_names.append(\"anik\")\n",
    "baby_names"
   ]
  },
  {
   "cell_type": "code",
   "execution_count": 14,
   "id": "42e58761",
   "metadata": {},
   "outputs": [
    {
     "data": {
      "text/plain": [
       "['Ximena', 'Aliza', 'Ayden', 'Calvin', 'anik', ['shafin', 'nahin']]"
      ]
     },
     "execution_count": 14,
     "metadata": {},
     "output_type": "execute_result"
    }
   ],
   "source": [
    "new_baby_names = [\"shafin\", \"nahin\"]\n",
    "\n",
    "# Now if we want to add these names we can use append method\n",
    "\n",
    "baby_names.append(new_baby_names)\n",
    "baby_names"
   ]
  },
  {
   "cell_type": "markdown",
   "id": "3336bca1",
   "metadata": {},
   "source": [
    "But we can see there's a problem. It adds the whole list while we want the names of that listWe can solve this by indexing. But first we'll have remove the list of new baby names. Which we can do by remove method.\n",
    "\n",
    "### .remove() method"
   ]
  },
  {
   "cell_type": "code",
   "execution_count": 15,
   "id": "372ef573",
   "metadata": {},
   "outputs": [
    {
     "data": {
      "text/plain": [
       "['Ximena', 'Aliza', 'Ayden', 'Calvin', 'anik']"
      ]
     },
     "execution_count": 15,
     "metadata": {},
     "output_type": "execute_result"
    }
   ],
   "source": [
    "baby_names.remove(new_baby_names)\n",
    "baby_names"
   ]
  },
  {
   "cell_type": "markdown",
   "id": "a5a342b0",
   "metadata": {},
   "source": [
    "Now if we want to add the names, we can use indexing"
   ]
  },
  {
   "cell_type": "code",
   "execution_count": 16,
   "id": "c70ff186",
   "metadata": {},
   "outputs": [
    {
     "data": {
      "text/plain": [
       "['Ximena', 'Aliza', 'Ayden', 'Calvin', 'anik', 'shafin', 'nahin']"
      ]
     },
     "execution_count": 16,
     "metadata": {},
     "output_type": "execute_result"
    }
   ],
   "source": [
    "baby_names.append(new_baby_names[0])\n",
    "baby_names.append(new_baby_names[1])\n",
    "\n",
    "baby_names"
   ]
  },
  {
   "cell_type": "markdown",
   "id": "b6c04010",
   "metadata": {},
   "source": [
    "Now we can see that we can add many names by append method and indexing. But in this way it'll be difficult when there will be so many names. To solve this issue we can use extend method.\n",
    "\n",
    "### .extend() method\n",
    "\n",
    "If you want to combine a list with another array type (list, set, tuple), you can use the .extend() method on the list."
   ]
  },
  {
   "cell_type": "code",
   "execution_count": 23,
   "id": "a51ced14",
   "metadata": {},
   "outputs": [
    {
     "name": "stdout",
     "output_type": "stream",
     "text": [
      "['Ximena', 'Aliza', 'Ayden', 'Calvin', 'anik', 'shafin', 'nahin', 'baby1', 'baby2']\n"
     ]
    }
   ],
   "source": [
    "new_baby_names2 = [\"baby1\", \"baby2\"]\n",
    "\n",
    "baby_names.extend(new_baby_names2)\n",
    "print(baby_names)"
   ]
  },
  {
   "cell_type": "markdown",
   "id": "76b78c58",
   "metadata": {},
   "source": [
    "### Another way of removing elements\n",
    "\n",
    "Suppose we want to remove the last element of the list. We can use pop method.\n",
    "\n",
    "### .pop() method"
   ]
  },
  {
   "cell_type": "code",
   "execution_count": 24,
   "id": "c09073d4",
   "metadata": {},
   "outputs": [
    {
     "data": {
      "text/plain": [
       "['Ximena', 'Aliza', 'Ayden', 'Calvin', 'anik', 'shafin', 'nahin', 'baby1']"
      ]
     },
     "execution_count": 24,
     "metadata": {},
     "output_type": "execute_result"
    }
   ],
   "source": [
    "baby_names.pop()\n",
    "baby_names"
   ]
  },
  {
   "cell_type": "markdown",
   "id": "3a18e4bd",
   "metadata": {},
   "source": [
    "So, we can see in the baby names last name baby2 has been removed. But to make this method covenient we can use index method to find out the specific index for the element or elements we want to remove.\n",
    "\n",
    "### .index() method\n",
    "\n",
    "Suppose we want to remove baby1 from the list. So first we can find out the index and remove it"
   ]
  },
  {
   "cell_type": "code",
   "execution_count": 25,
   "id": "9b737052",
   "metadata": {},
   "outputs": [
    {
     "data": {
      "text/plain": [
       "7"
      ]
     },
     "execution_count": 25,
     "metadata": {},
     "output_type": "execute_result"
    }
   ],
   "source": [
    "idx = baby_names.index('baby1')\n",
    "idx"
   ]
  },
  {
   "cell_type": "code",
   "execution_count": 26,
   "id": "6d26d44e",
   "metadata": {},
   "outputs": [
    {
     "data": {
      "text/plain": [
       "['Ximena', 'Aliza', 'Ayden', 'Calvin', 'anik', 'shafin', 'nahin']"
      ]
     },
     "execution_count": 26,
     "metadata": {},
     "output_type": "execute_result"
    }
   ],
   "source": [
    "## Now we can remove it by pop() method\n",
    "\n",
    "baby_names.pop(idx)\n",
    "baby_names"
   ]
  },
  {
   "cell_type": "markdown",
   "id": "b9a0badc",
   "metadata": {},
   "source": [
    "We can also save the removed value to a variable by pop() method."
   ]
  },
  {
   "cell_type": "code",
   "execution_count": 29,
   "id": "0773a382",
   "metadata": {},
   "outputs": [
    {
     "data": {
      "text/plain": [
       "'anik'"
      ]
     },
     "execution_count": 29,
     "metadata": {},
     "output_type": "execute_result"
    }
   ],
   "source": [
    "removed_name = baby_names.pop(baby_names.index(\"anik\"))\n",
    "removed_name"
   ]
  },
  {
   "cell_type": "markdown",
   "id": "6e1fdfe8",
   "metadata": {},
   "source": [
    "### Sorting lists\n",
    "\n",
    "Python provides the sort method and sorted function that accepts an iterable such as a list and returns a new list with the elements in the proper order."
   ]
  },
  {
   "cell_type": "code",
   "execution_count": 37,
   "id": "db036e8f",
   "metadata": {},
   "outputs": [
    {
     "data": {
      "text/plain": [
       "['math', 'physics', 'chem', 'biology', 'comsci']"
      ]
     },
     "execution_count": 37,
     "metadata": {},
     "output_type": "execute_result"
    }
   ],
   "source": [
    "courses = ['math', 'physics', 'chem', 'biology', 'comsci']\n",
    "courses"
   ]
  },
  {
   "cell_type": "markdown",
   "id": "ad746f6c",
   "metadata": {},
   "source": [
    "### .sort() method\n",
    "\n",
    ".sort() method changes the whole list"
   ]
  },
  {
   "cell_type": "code",
   "execution_count": 38,
   "id": "a45bc843",
   "metadata": {},
   "outputs": [
    {
     "name": "stdout",
     "output_type": "stream",
     "text": [
      "None\n",
      "['biology', 'chem', 'comsci', 'math', 'physics']\n"
     ]
    }
   ],
   "source": [
    "c = courses.sort()\n",
    "print(c)\n",
    "print(courses)"
   ]
  },
  {
   "cell_type": "markdown",
   "id": "1fec6e10",
   "metadata": {},
   "source": [
    "We can see that courses variable no longer the same. This can lead to many mistakes if we do any big projects. To slove this we can use sorted function"
   ]
  },
  {
   "cell_type": "markdown",
   "id": "ccb55216",
   "metadata": {},
   "source": [
    "### sorted function "
   ]
  },
  {
   "cell_type": "code",
   "execution_count": 39,
   "id": "f7b76612",
   "metadata": {},
   "outputs": [
    {
     "data": {
      "text/plain": [
       "['math', 'physics', 'chem', 'biology', 'comsci']"
      ]
     },
     "execution_count": 39,
     "metadata": {},
     "output_type": "execute_result"
    }
   ],
   "source": [
    "courses2 = ['math', 'physics', 'chem', 'biology', 'comsci']\n",
    "courses2"
   ]
  },
  {
   "cell_type": "code",
   "execution_count": 40,
   "id": "7b3bf5d7",
   "metadata": {},
   "outputs": [
    {
     "name": "stdout",
     "output_type": "stream",
     "text": [
      "['biology', 'chem', 'comsci', 'math', 'physics']\n",
      "['math', 'physics', 'chem', 'biology', 'comsci']\n"
     ]
    }
   ],
   "source": [
    "d = sorted(courses2)\n",
    "\n",
    "print(d)\n",
    "print(courses2)"
   ]
  },
  {
   "cell_type": "markdown",
   "id": "1afbf101",
   "metadata": {},
   "source": [
    "here we can see sorted function doesn't change the variable elements"
   ]
  },
  {
   "cell_type": "markdown",
   "id": "9824aca6",
   "metadata": {},
   "source": [
    "### reversing a sorted list\n",
    "\n",
    "We can also reverse the sorted list "
   ]
  },
  {
   "cell_type": "code",
   "execution_count": 41,
   "id": "c9894be6",
   "metadata": {},
   "outputs": [
    {
     "data": {
      "text/plain": [
       "['biology', 'chem', 'comsci', 'math', 'physics']"
      ]
     },
     "execution_count": 41,
     "metadata": {},
     "output_type": "execute_result"
    }
   ],
   "source": [
    "d"
   ]
  },
  {
   "cell_type": "code",
   "execution_count": 42,
   "id": "0db66f01",
   "metadata": {},
   "outputs": [
    {
     "data": {
      "text/plain": [
       "['physics', 'math', 'comsci', 'chem', 'biology']"
      ]
     },
     "execution_count": 42,
     "metadata": {},
     "output_type": "execute_result"
    }
   ],
   "source": [
    "e = sorted(d, reverse=True)\n",
    "e"
   ]
  },
  {
   "cell_type": "markdown",
   "id": "ccbf9a54",
   "metadata": {},
   "source": [
    "###  .insert() method\n",
    "\n",
    "In this case you can add data anywhere in the list by using indexing"
   ]
  },
  {
   "cell_type": "code",
   "execution_count": 44,
   "id": "2484bf8d",
   "metadata": {},
   "outputs": [
    {
     "data": {
      "text/plain": [
       "['biology', 'chem', 'comsci', 'math', 'physics']"
      ]
     },
     "execution_count": 44,
     "metadata": {},
     "output_type": "execute_result"
    }
   ],
   "source": [
    "courses"
   ]
  },
  {
   "cell_type": "markdown",
   "id": "b18f4f82",
   "metadata": {},
   "source": [
    "Suppose we want to add a subject in the first index"
   ]
  },
  {
   "cell_type": "code",
   "execution_count": 45,
   "id": "a4819c78",
   "metadata": {},
   "outputs": [
    {
     "name": "stdout",
     "output_type": "stream",
     "text": [
      "['bangla', 'biology', 'chem', 'comsci', 'math', 'physics']\n"
     ]
    }
   ],
   "source": [
    "courses.insert(0, \"bangla\")\n",
    "print(courses)"
   ]
  },
  {
   "cell_type": "markdown",
   "id": "15817cad",
   "metadata": {},
   "source": [
    "## Tuples\n",
    "\n",
    "The next container type we want to learn about is the tuple. Tuples are widely used internally many of the systems we depend on like databases.\n",
    "\n",
    "Tuples are very much like lists they hold data in the order, and we can access elements inside a tuple with an index. However, the similarities end there. \n",
    "\n",
    "Tuples are easier to process and more memory efficient than lists. Tuples are immutable, which means we can't add or remove elements from them. This is powerful because we can use them to ensure that our data is not altered. \n",
    "\n",
    "We can create tuples by pairing up elements. Finally, we can use something called unpacking to expand a tuple into named variables that represent each element in the tuple. "
   ]
  },
  {
   "cell_type": "markdown",
   "id": "b422983d",
   "metadata": {},
   "source": [
    "### Zipping tuples\n",
    "\n",
    "Often, we'll have lists where we want to matchup elements into pairs, and the zip function enables us to do that. "
   ]
  },
  {
   "cell_type": "code",
   "execution_count": 46,
   "id": "6d5a3a9d",
   "metadata": {},
   "outputs": [],
   "source": [
    "girl_names = ['JADA', 'Emily', 'Ava', 'SERENITY', 'Claire', 'SOPHIA', 'Sarah', 'ASHLEY', 'CHAYA']\n",
    "boy_names = ['JOSIAH', 'ETHAN', 'David', 'Jayden', 'MASON', 'RYAN', 'CHRISTIAN', 'ISAIAH', 'JAYDEN']"
   ]
  },
  {
   "cell_type": "markdown",
   "id": "af0185e6",
   "metadata": {},
   "source": [
    "Here we can see that the letter cases of the names are not the same. We can use many methods to solve this. Here we'll use .title() method to resolve this."
   ]
  },
  {
   "cell_type": "code",
   "execution_count": 49,
   "id": "5b4ab330",
   "metadata": {},
   "outputs": [
    {
     "name": "stdout",
     "output_type": "stream",
     "text": [
      "['Jada', 'Emily', 'Ava', 'Serenity', 'Claire', 'Sophia', 'Sarah', 'Ashley', 'Chaya']\n"
     ]
    }
   ],
   "source": [
    "g_names = []\n",
    "\n",
    "for i in girl_names:\n",
    "    g_names.append(i.title())\n",
    "\n",
    "print(g_names)"
   ]
  },
  {
   "cell_type": "code",
   "execution_count": 50,
   "id": "5c7fa902",
   "metadata": {},
   "outputs": [
    {
     "name": "stdout",
     "output_type": "stream",
     "text": [
      "['Josiah', 'Ethan', 'David', 'Jayden', 'Mason', 'Ryan', 'Christian', 'Isaiah', 'Jayden']\n"
     ]
    }
   ],
   "source": [
    "b_names = []\n",
    "\n",
    "for j in boy_names:\n",
    "    b_names.append(j.title())\n",
    "\n",
    "print(b_names)"
   ]
  },
  {
   "cell_type": "markdown",
   "id": "d4eeb8f6",
   "metadata": {},
   "source": [
    "Now we can pair up the girl names and boy names"
   ]
  },
  {
   "cell_type": "code",
   "execution_count": 52,
   "id": "d1c5ee05",
   "metadata": {},
   "outputs": [
    {
     "name": "stdout",
     "output_type": "stream",
     "text": [
      "[('Jada', 'Josiah'), ('Emily', 'Ethan'), ('Ava', 'David'), ('Serenity', 'Jayden'), ('Claire', 'Mason'), ('Sophia', 'Ryan'), ('Sarah', 'Christian'), ('Ashley', 'Isaiah'), ('Chaya', 'Jayden')]\n"
     ]
    }
   ],
   "source": [
    "pairs = list(zip(g_names, b_names))\n",
    "print(pairs)"
   ]
  },
  {
   "cell_type": "markdown",
   "id": "23c8728a",
   "metadata": {},
   "source": [
    "We can see pair looks like a list of Tuples. Notice that the tuples use a parenthesis as their object representation."
   ]
  },
  {
   "cell_type": "markdown",
   "id": "1a967423",
   "metadata": {},
   "source": [
    "### Unpacking tuples\n",
    "\n",
    "Now let's look at how we can use unpacking with a tuple. Tuple unpacking, also sometimes called tuple expansion, allows us to assign the elements of a tuple to named variables for later use. This syntax allows us to create more readable and less error prone code."
   ]
  },
  {
   "cell_type": "code",
   "execution_count": 53,
   "id": "7581c60f",
   "metadata": {},
   "outputs": [
    {
     "name": "stdout",
     "output_type": "stream",
     "text": [
      "Emily\n",
      "Ethan\n"
     ]
    }
   ],
   "source": [
    "g_name_2, b_name_2 = pairs[1]\n",
    "print(g_name_2)\n",
    "print(b_name_2)"
   ]
  },
  {
   "cell_type": "markdown",
   "id": "2e536ea8",
   "metadata": {},
   "source": [
    "#### More unpacking in Loops\n",
    "\n",
    "Unpacking is especially powerful in loops."
   ]
  },
  {
   "cell_type": "code",
   "execution_count": 55,
   "id": "2d960d8c",
   "metadata": {},
   "outputs": [
    {
     "name": "stdout",
     "output_type": "stream",
     "text": [
      "Girl_Name: Jada\n",
      "Boy_Name: Josiah\n",
      "Girl_Name: Emily\n",
      "Boy_Name: Ethan\n",
      "Girl_Name: Ava\n",
      "Boy_Name: David\n",
      "Girl_Name: Serenity\n",
      "Boy_Name: Jayden\n",
      "Girl_Name: Claire\n",
      "Boy_Name: Mason\n",
      "Girl_Name: Sophia\n",
      "Boy_Name: Ryan\n",
      "Girl_Name: Sarah\n",
      "Boy_Name: Christian\n",
      "Girl_Name: Ashley\n",
      "Boy_Name: Isaiah\n",
      "Girl_Name: Chaya\n",
      "Boy_Name: Jayden\n"
     ]
    }
   ],
   "source": [
    "for g_n, b_n in pairs:\n",
    "    print(f\"Girl_Name: {g_n}\")\n",
    "    print(f\"Boy_Name: {b_n}\")"
   ]
  },
  {
   "cell_type": "markdown",
   "id": "831096fe",
   "metadata": {},
   "source": [
    "###  Enumerating positions\n",
    "\n",
    "Often we want to know what the index is of an element in the iterable is. The enumerate function enabled us to do that by creating tuples where the first element of the tuple is the index of the element in the original list, then the element itself.\n",
    "\n",
    "We can use this to track rankings in our data or skip elements we are not interested in. Here I'm going to enumerate our top pairs list and split that resulting tuple into idx and item. \n",
    "\n",
    "I can also use tuple unpacking on the item to get all three components separately. This can be exceptionally powerful. Let's look at a bit of responsibility that comes with this power."
   ]
  },
  {
   "cell_type": "code",
   "execution_count": 62,
   "id": "ca3e508c",
   "metadata": {},
   "outputs": [
    {
     "name": "stdout",
     "output_type": "stream",
     "text": [
      "Index: 0\n",
      " Girl_Name: Jada\n",
      " Boy_Name: Josiah\n",
      "Index: 1\n",
      " Girl_Name: Emily\n",
      " Boy_Name: Ethan\n",
      "Index: 2\n",
      " Girl_Name: Ava\n",
      " Boy_Name: David\n",
      "Index: 3\n",
      " Girl_Name: Serenity\n",
      " Boy_Name: Jayden\n",
      "Index: 4\n",
      " Girl_Name: Claire\n",
      " Boy_Name: Mason\n",
      "Index: 5\n",
      " Girl_Name: Sophia\n",
      " Boy_Name: Ryan\n",
      "Index: 6\n",
      " Girl_Name: Sarah\n",
      " Boy_Name: Christian\n",
      "Index: 7\n",
      " Girl_Name: Ashley\n",
      " Boy_Name: Isaiah\n",
      "Index: 8\n",
      " Girl_Name: Chaya\n",
      " Boy_Name: Jayden\n"
     ]
    }
   ],
   "source": [
    "for idx, names in enumerate(pairs):\n",
    "    g_name, b_name = names\n",
    "    print(f\"Index: {idx}\\n\", f\"Girl_Name: {g_name}\\n\", f\"Boy_Name: {b_name}\")"
   ]
  },
  {
   "cell_type": "markdown",
   "id": "55851e18",
   "metadata": {},
   "source": [
    "## Sets\n",
    "\n",
    "Now that you've learned about lists and tuples let's look at our last built-in array data type the set. Sets are excellent for finding all the unique values in a column of your data, a list of elements, or even rows from a file.We use sets when we want to store unique data elements in an unordered fashion. \n",
    "\n",
    "For example, I might want to store a list of each type of cookie I had without any duplicates. Set are also mutable so I can add and remove elements from them.\n",
    "\n",
    "### Creating Sets\n",
    "\n",
    "A set is almost always created from a list. For example, I might have a list of cookies I've eaten today. I can make a set of them by passing them into the set constructor. "
   ]
  },
  {
   "cell_type": "code",
   "execution_count": 74,
   "id": "17bfa8c5",
   "metadata": {},
   "outputs": [
    {
     "name": "stdout",
     "output_type": "stream",
     "text": [
      "['chocolate chip', 'peanut butter', 'chocolate chip', 'oatmeal cream', 'chocolate chip']\n",
      "{'oatmeal cream', 'peanut butter', 'chocolate chip'}\n"
     ]
    }
   ],
   "source": [
    "cookies_eaten_today = ['chocolate chip', 'peanut butter', 'chocolate chip', 'oatmeal cream', 'chocolate chip']\n",
    "print(cookies_eaten_today)\n",
    "types_of_cookies_eaten = set(cookies_eaten_today)\n",
    "print(types_of_cookies_eaten)"
   ]
  },
  {
   "cell_type": "markdown",
   "id": "016110b6",
   "metadata": {},
   "source": [
    "After printing, you might notice that although I had 3 chocolate chip cookies in my list, once I make it a set, there is only one occurrence of it in the set. This occurs because sets only store unique items."
   ]
  },
  {
   "cell_type": "markdown",
   "id": "91d779c3",
   "metadata": {},
   "source": [
    "###  Modifying Sets\n",
    "\n",
    "### .add() method\n",
    "\n",
    "When working with a set we will use the add method to add a new element to the set. It will only add the element if it is unique otherwise it just continues on."
   ]
  },
  {
   "cell_type": "code",
   "execution_count": 75,
   "id": "037ebb30",
   "metadata": {},
   "outputs": [
    {
     "name": "stdout",
     "output_type": "stream",
     "text": [
      "{'oatmeal cream', 'peanut butter', 'chocolate chip'}\n",
      "{'oatmeal cream', 'peanut butter', 'biscotti', 'chocolate chip'}\n"
     ]
    }
   ],
   "source": [
    "print(types_of_cookies_eaten)\n",
    "\n",
    "types_of_cookies_eaten.add('biscotti')\n",
    "\n",
    "types_of_cookies_eaten.add('chocolate chip')\n",
    "\n",
    "print(types_of_cookies_eaten)"
   ]
  },
  {
   "cell_type": "markdown",
   "id": "04413cde",
   "metadata": {},
   "source": [
    "### .update() method\n",
    "\n",
    "Also, we can add multiple items using the update method. The update method takes a list of items and adds each one to the set if it is not present. "
   ]
  },
  {
   "cell_type": "code",
   "execution_count": 76,
   "id": "e6d9f260",
   "metadata": {},
   "outputs": [
    {
     "name": "stdout",
     "output_type": "stream",
     "text": [
      "{'chocolate chip', 'biscotti', 'peanut butter', 'anzac', 'oatmeal cream'}\n"
     ]
    }
   ],
   "source": [
    "cookies_hugo_ate = ['chocolate chip', 'anzac']\n",
    "\n",
    "types_of_cookies_eaten.update(cookies_hugo_ate)\n",
    "\n",
    "print(types_of_cookies_eaten)"
   ]
  },
  {
   "cell_type": "markdown",
   "id": "736dd1d6",
   "metadata": {},
   "source": [
    "### Removing data from sets\n",
    "\n",
    "When removing data from a set, we can use the discard method to safely remove an element from the set by its value. No error will be thrown if the value is not found. \n",
    "\n",
    "We can also use the pop method to remove and return an arbitrary element from the set."
   ]
  },
  {
   "cell_type": "code",
   "execution_count": 77,
   "id": "7c869a06",
   "metadata": {},
   "outputs": [
    {
     "name": "stdout",
     "output_type": "stream",
     "text": [
      "{'chocolate chip', 'biscotti', 'peanut butter', 'anzac', 'oatmeal cream'}\n",
      "{'chocolate chip', 'peanut butter', 'anzac', 'oatmeal cream'}\n"
     ]
    }
   ],
   "source": [
    "print(types_of_cookies_eaten)\n",
    "\n",
    "types_of_cookies_eaten.discard('biscotti')\n",
    "\n",
    "print(types_of_cookies_eaten)"
   ]
  },
  {
   "cell_type": "code",
   "execution_count": 78,
   "id": "4bceac82",
   "metadata": {},
   "outputs": [
    {
     "name": "stdout",
     "output_type": "stream",
     "text": [
      "{'chocolate chip', 'peanut butter', 'anzac', 'oatmeal cream'}\n",
      "chocolate chip\n",
      "peanut butter\n",
      "{'anzac', 'oatmeal cream'}\n"
     ]
    }
   ],
   "source": [
    "print(types_of_cookies_eaten)\n",
    "\n",
    "print(types_of_cookies_eaten.pop())\n",
    "print(types_of_cookies_eaten.pop())\n",
    "\n",
    "print(types_of_cookies_eaten)"
   ]
  },
  {
   "cell_type": "markdown",
   "id": "5ff581a6",
   "metadata": {},
   "source": [
    "### Set theory\n",
    "\n",
    "We can also perform some set theories from math to perform very quick comparison operations.\n",
    "\n",
    "### Set Operations - .union() method\n",
    "\n",
    "The union method on a set accepts a set as an argument and returns all the unique elements from both sets as a new one. \n",
    "\n",
    "Speaking of examples, I'm going to create two new sets of the cookies Hugo and I have eaten. Then I'm going to use the union method to see the full set of cookies eaten by both of us. "
   ]
  },
  {
   "cell_type": "code",
   "execution_count": 79,
   "id": "933e44f1",
   "metadata": {},
   "outputs": [
    {
     "name": "stdout",
     "output_type": "stream",
     "text": [
      "{'peanut butter', 'chocolate chip', 'anzac', 'oatmeal cream'}\n"
     ]
    }
   ],
   "source": [
    "cookies_jason_ate = set(['chocolate chip', 'oatmeal cream', 'peanut butter'])\n",
    "\n",
    "cookies_hugo_ate = set(['chocolate chip', 'anzac'])\n",
    "\n",
    "print(cookies_jason_ate.union(cookies_hugo_ate))"
   ]
  },
  {
   "cell_type": "markdown",
   "id": "11405e9f",
   "metadata": {},
   "source": [
    "### Set Operations - .intersection() method\n",
    "\n",
    "The intersection method also accepts a set and returns the overlapping elements found in both sets. I'll use the intersection method to see the cookies that Hugo and I both ate. While these two methods help us find commonality, sets also provide methods to help us find differences."
   ]
  },
  {
   "cell_type": "code",
   "execution_count": 82,
   "id": "ce7a67ac",
   "metadata": {},
   "outputs": [
    {
     "name": "stdout",
     "output_type": "stream",
     "text": [
      "{'chocolate chip'}\n"
     ]
    }
   ],
   "source": [
    "cookies_jason_ate = set(['chocolate chip', 'oatmeal cream', 'peanut butter'])\n",
    "\n",
    "cookies_hugo_ate = set(['chocolate chip', 'anzac'])\n",
    "\n",
    "print(cookies_jason_ate.intersection(cookies_hugo_ate))"
   ]
  },
  {
   "cell_type": "markdown",
   "id": "e24d90b9",
   "metadata": {},
   "source": [
    "### Set Operations - .difference() method\n",
    "\n",
    "We can use the difference method, which accepts a set, to find elements in one set that are not present in another set. The target we call the difference method on is important as that will be the basis for our differences. \n",
    "\n",
    "So here I want to see the cookies that I ate that Hugo didn't, which I can do by calling difference on my set of cookies and giving it Hugo's set and I can perform the reverse of this operation by using Hugo's list as the target."
   ]
  },
  {
   "cell_type": "code",
   "execution_count": 83,
   "id": "bad306ad",
   "metadata": {},
   "outputs": [
    {
     "data": {
      "text/plain": [
       "{'oatmeal cream', 'peanut butter'}"
      ]
     },
     "execution_count": 83,
     "metadata": {},
     "output_type": "execute_result"
    }
   ],
   "source": [
    "cookies_jason_ate = set(['chocolate chip', 'oatmeal cream', 'peanut butter'])\n",
    "\n",
    "cookies_hugo_ate = set(['chocolate chip', 'anzac'])\n",
    "\n",
    "cookies_jason_ate.difference(cookies_hugo_ate)"
   ]
  },
  {
   "cell_type": "code",
   "execution_count": 84,
   "id": "ad30f354",
   "metadata": {},
   "outputs": [
    {
     "data": {
      "text/plain": [
       "{'anzac'}"
      ]
     },
     "execution_count": 84,
     "metadata": {},
     "output_type": "execute_result"
    }
   ],
   "source": [
    "cookies_jason_ate = set(['chocolate chip', 'oatmeal cream', 'peanut butter'])\n",
    "\n",
    "cookies_hugo_ate = set(['chocolate chip', 'anzac'])\n",
    "\n",
    "cookies_hugo_ate.difference(cookies_jason_ate)"
   ]
  },
  {
   "cell_type": "code",
   "execution_count": null,
   "id": "47c2c724",
   "metadata": {},
   "outputs": [],
   "source": []
  },
  {
   "cell_type": "code",
   "execution_count": null,
   "id": "eb23b01b",
   "metadata": {},
   "outputs": [],
   "source": []
  },
  {
   "cell_type": "code",
   "execution_count": null,
   "id": "2a516681",
   "metadata": {},
   "outputs": [],
   "source": []
  },
  {
   "cell_type": "code",
   "execution_count": null,
   "id": "daf1429e",
   "metadata": {},
   "outputs": [],
   "source": []
  },
  {
   "cell_type": "code",
   "execution_count": null,
   "id": "1251a50b",
   "metadata": {},
   "outputs": [],
   "source": []
  },
  {
   "cell_type": "code",
   "execution_count": null,
   "id": "9add8c44",
   "metadata": {},
   "outputs": [],
   "source": []
  },
  {
   "cell_type": "code",
   "execution_count": null,
   "id": "74378ced",
   "metadata": {},
   "outputs": [],
   "source": []
  },
  {
   "cell_type": "code",
   "execution_count": null,
   "id": "08170279",
   "metadata": {},
   "outputs": [],
   "source": []
  },
  {
   "cell_type": "code",
   "execution_count": null,
   "id": "a21a17a6",
   "metadata": {},
   "outputs": [],
   "source": []
  }
 ],
 "metadata": {
  "kernelspec": {
   "display_name": "Python 3",
   "language": "python",
   "name": "python3"
  },
  "language_info": {
   "codemirror_mode": {
    "name": "ipython",
    "version": 3
   },
   "file_extension": ".py",
   "mimetype": "text/x-python",
   "name": "python",
   "nbconvert_exporter": "python",
   "pygments_lexer": "ipython3",
   "version": "3.8.8"
  }
 },
 "nbformat": 4,
 "nbformat_minor": 5
}

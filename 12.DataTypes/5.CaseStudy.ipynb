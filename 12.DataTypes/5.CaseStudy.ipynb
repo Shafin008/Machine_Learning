{
 "cells": [
  {
   "cell_type": "markdown",
   "id": "1ae5228b-55e5-42d2-8ae2-9a23efc15756",
   "metadata": {},
   "source": [
    "### Ex1: Reading your data with CSV Reader and Establishing your Data Containers\n",
    "Let's get started! The exercises in this chapter are intentionally more challenging, to give you a chance to really solidify your knowledge. Don't lose heart if you find yourself stuck; think back to the concepts you've learned in previous chapters and how you can apply them to this crime dataset. Good luck!\n",
    "\n",
    "Your data file, crime_sampler.csv contains the date (1st column), block where it occurred (2nd column), primary type of the crime (3rd), description of the crime (4th), description of the location (5th), if an arrest was made (6th), was it a domestic case (7th), and city district (8th).\n",
    "\n",
    "Here, however, you'll focus only 4 columns: The date, type of crime, location, and whether or not the crime resulted in an arrest.\n",
    "\n",
    "Your job in this exercise is to use a CSV Reader to load up a list to hold the data you're going to analyze.\n",
    "\n",
    "\n",
    "- Import the Python csv module.\n",
    "\n",
    "- Create a Python file object in read mode for crime_sampler.csv called csvfile.\n",
    "\n",
    "- Create an empty list called crime_data.\n",
    "\n",
    "- Loop over a csv reader on the file object :\n",
    "\n",
    "- Inside the loop, append the date (first element), type of crime (third element), location description (fifth element), and arrest (sixth element) to the crime_data list.\n",
    "\n",
    "- Remove the first element (headers) from the crime_data list.\n",
    "\n",
    "- Print the first 10 records of the crime_data list. This has been done for you, so hit 'Submit Answer' to see the result!"
   ]
  },
  {
   "cell_type": "code",
   "execution_count": null,
   "id": "cf0af659-5e49-464c-a5ba-7c4bd61063df",
   "metadata": {},
   "outputs": [],
   "source": [
    "# Import the csv module\n",
    "____\n",
    "\n",
    "# Create the file object: csvfile\n",
    "csvfile = ____\n",
    "\n",
    "# Create an empty list: crime_data\n",
    "crime_data = ____\n",
    "\n",
    "# Loop over a csv reader on the file object\n",
    "for row in ____:\n",
    "\n",
    "    # Append the date, type of crime, location description, and arrest\n",
    "    crime_data.append((row[0], row[2], row[4], row[5]))\n",
    "    \n",
    "# Remove the first element from crime_data\n",
    "____\n",
    "\n",
    "# Print the first 10 records\n",
    "print(crime_data[:10])"
   ]
  },
  {
   "cell_type": "code",
   "execution_count": null,
   "id": "215c8660-ac13-47b2-83e2-e842ff688a4c",
   "metadata": {},
   "outputs": [],
   "source": [
    "# # Import the csv module\n",
    "# import csv \n",
    "\n",
    "# # Create the file object: csvfile\n",
    "# csvfile = open('crime_sampler.csv', 'r')\n",
    "\n",
    "# # Create an empty list: crime_data\n",
    "# crime_data = []\n",
    "\n",
    "# # Loop over a csv reader on the file object\n",
    "# for row in csv.reader(csvfile):\n",
    "\n",
    "#     # Append the date, type of crime, location description, and arrest\n",
    "#     crime_data.append((row[0], row[2], row[4], row[5]))\n",
    "    \n",
    "# # Remove the first element from crime_data\n",
    "# crime_data.pop(0)\n",
    "\n",
    "# # Print the first 10 records\n",
    "# print(crime_data[:10])"
   ]
  },
  {
   "cell_type": "markdown",
   "id": "f235cbda-808f-427b-b02d-104e5e8a54d9",
   "metadata": {},
   "source": [
    "### Ex2: Find the Months with the Highest Number of Crimes\n",
    "Using the crime_data list from the prior exercise, you'll answer a common question that arises when dealing with crime data: How many crimes are committed each month?\n",
    "\n",
    "Feel free to use the IPython Shell to explore the crime_data list - it has been pre-loaded for you. For example, crime_data[0][0] will show you the first column of the first row which, in this case, is the date and time time that the crime occurred.\n",
    "\n",
    "\n",
    "- Import Counter from collections and datetime from datetime.\n",
    "\n",
    "- Create a Counter object called crimes_by_month.\n",
    "\n",
    "- Loop over the crime_data list:\n",
    "\n",
    "- Using the datetime.strptime() function, convert the first element of each item into a Python Datetime Object called date.\n",
    "\n",
    "- Increment the counter for the month associated with this row by one. You can access the month of date using date.month.\n",
    "\n",
    "- Print the 3 most common months for crime."
   ]
  },
  {
   "cell_type": "code",
   "execution_count": null,
   "id": "e4013fb3-9a8e-4a0f-8605-5586a9546340",
   "metadata": {},
   "outputs": [],
   "source": [
    "# Import necessary modules\n",
    "____\n",
    "____\n",
    "\n",
    "# Create a Counter Object: crimes_by_month\n",
    "crimes_by_month = ____\n",
    "\n",
    "# Loop over the crime_data list\n",
    "for ____ in ____:\n",
    "    \n",
    "    # Convert the first element of each item into a Python Datetime Object: date\n",
    "    date = ____(____, '%m/%d/%Y %I:%M:%S %p')\n",
    "    \n",
    "    # Increment the counter for the month of the row by one\n",
    "    ____ += 1\n",
    "    \n",
    "# Print the 3 most common months for crime\n",
    "print(____)"
   ]
  },
  {
   "cell_type": "code",
   "execution_count": null,
   "id": "dbb8be70-bc70-4ea4-b5e6-081c074d23d0",
   "metadata": {},
   "outputs": [],
   "source": [
    "# # Import necessary modules\n",
    "# from collections import Counter\n",
    "# from datetime import datetime\n",
    "\n",
    "# # Create a Counter Object: crimes_by_month\n",
    "# crimes_by_month = Counter()\n",
    "\n",
    "# # Loop over the crime_data list\n",
    "# for row in crime_data:\n",
    "    \n",
    "#     # Convert the first element of each item into a Python Datetime Object\n",
    "#     date = datetime.strptime(row[0], '%m/%d/%Y %I:%M:%S %p')\n",
    "    \n",
    "#     # Increment the counter for the month of the row by one\n",
    "#     crimes_by_month[date.month] += 1\n",
    "    \n",
    "# # Print the 3 most common months for crime\n",
    "# print(crimes_by_month.most_common(3))"
   ]
  },
  {
   "cell_type": "markdown",
   "id": "34b48e0c-ee21-487b-9205-cd3ba940520f",
   "metadata": {},
   "source": [
    "### Ex3: Transforming your Data Containers to Month and Location\n",
    "Now let's flip your crime_data list into a dictionary keyed by month with a list of location values for each month, and filter down to the records for the year 2016. Remember you can use the shell to look at the crime_data list, such as crime_data[1][4] to see the location of the crime in the second item of the list (since lists start at 0).\n",
    "\n",
    "\n",
    "- Import defaultdict from collections and datetime from datetime.\n",
    "\n",
    "- Create a dictionary that defaults to a list called locations_by_month.\n",
    "\n",
    "- Loop over the crime_data list: \n",
    "- Convert the first element to a date object exactly like you did in the previous exercise. \n",
    "- If the year is 2016, set the key of locations_by_month to be the month of date and .append() the location (fifth element of row) to the values list.\n",
    "\n",
    "- Print the dictionary. This has been done for you, so hit 'Submit Answer' to see the result!"
   ]
  },
  {
   "cell_type": "code",
   "execution_count": null,
   "id": "7747cc17-81bd-42a7-9d6c-2e446e41d862",
   "metadata": {},
   "outputs": [],
   "source": [
    "# Import necessary modules\n",
    "____\n",
    "____\n",
    "\n",
    "# Create a dictionary that defaults to a list: locations_by_month\n",
    "locations_by_month = ____\n",
    "\n",
    "# Loop over the crime_data list\n",
    "for row in ____:\n",
    "    # Convert the first element to a date object\n",
    "    date = ____(____, '%m/%d/%Y %I:%M:%S %p')\n",
    "    \n",
    "    # If the year is 2016 \n",
    "    if ____.____ == ____:\n",
    "        # Set the dictionary key to the month and append the location (fifth element) to the values list\n",
    "        ____\n",
    "    \n",
    "# Print the dictionary\n",
    "print(locations_by_month)"
   ]
  },
  {
   "cell_type": "code",
   "execution_count": null,
   "id": "732f8524-24b3-49a9-b247-8dd929c9da80",
   "metadata": {},
   "outputs": [],
   "source": [
    "# # Import necessary modules\n",
    "# from collections import defaultdict\n",
    "# from datetime import datetime\n",
    "\n",
    "# # Create a dictionary that defaults to a list: locations_by_month\n",
    "# locations_by_month = defaultdict(list)\n",
    "\n",
    "# # Loop over the crime_data list\n",
    "# for row in crime_data:\n",
    "#     # Convert the first element to a date object\n",
    "#     date = datetime.strptime(row[0], '%m/%d/%Y %I:%M:%S %p')\n",
    "    \n",
    "#     # If the year is 2016 \n",
    "#     if date.year == 2016:\n",
    "#         # Set the dictionary key to the month and append the location (fifth element) to the values list\n",
    "#         locations_by_month[date.month].append(row[4])\n",
    "    \n",
    "# # Print the dictionary\n",
    "# print(locations_by_month)"
   ]
  },
  {
   "cell_type": "markdown",
   "id": "51e64fc4-0af7-4be4-9f95-097df0923e51",
   "metadata": {},
   "source": [
    "#### Ex4: Find the Most Common Crimes by Location Type by Month in 2016\n",
    "Using the locations_by_month dictionary from the prior exercise, you'll now determine common crimes by month and location type. Because your dataset is so large, it's a good idea to use Counter to look at an aspect of it in an easier to manageable size and learn more about it.\n",
    "\n",
    "\n",
    "- Import Counter from collections.\n",
    "\n",
    "- Loop over the items from your dictionary, using tuple expansion to unpack locations_by_month.items() into month and locations.\n",
    "\n",
    "- Make a Counter of the locations called location_count.\n",
    "\n",
    "- Print the month.\n",
    "\n",
    "- Print the five most common crime locations."
   ]
  },
  {
   "cell_type": "code",
   "execution_count": null,
   "id": "487ae13a-2138-4c4e-a2be-c883abe07056",
   "metadata": {},
   "outputs": [],
   "source": [
    "# Import Counter from collections\n",
    "____\n",
    "\n",
    "# Loop over the items from locations_by_month using tuple expansion of the month and locations\n",
    "for ____, ____ in ____:\n",
    "    # Make a Counter of the locations\n",
    "    location_count = ____\n",
    "    # Print the month \n",
    "    print(____)\n",
    "    # Print the most common location\n",
    "    print(____)"
   ]
  },
  {
   "cell_type": "code",
   "execution_count": null,
   "id": "0e5b3e98-b734-4364-a765-7685ec40337a",
   "metadata": {},
   "outputs": [],
   "source": [
    "# # Import Counter from collections\n",
    "# from collections import Counter\n",
    "\n",
    "# # Loop over the items from locations_by_month using tuple expansion of the month and locations\n",
    "# for month, locations in locations_by_month.items():\n",
    "#     # Make a Counter of the locations\n",
    "#     location_count = Counter(locations)\n",
    "#     # Print the month \n",
    "#     print(month)\n",
    "#     # Print the most common location\n",
    "#     print(location_count.most_common(5))"
   ]
  },
  {
   "cell_type": "markdown",
   "id": "392b96ac-8675-4e22-98c5-f1f83e56774b",
   "metadata": {},
   "source": [
    "#### Ex5: Reading your Data with DictReader and Establishing your Data Containers\n",
    "\n",
    "Your data file, crime_sampler.csv contains in positional order: the date, block where it occurred, primary type of the crime, description of the crime, description of the location, if an arrest was made, was it a domestic case, and city district.\n",
    "\n",
    "You'll now use a DictReader to load up a dictionary to hold your data with the district as the key and the rest of the data in a list. The csv, defaultdict, and datetime modules have already been imported for you.\n",
    "\n",
    "\n",
    "- Create a Python file object in read mode for crime_sampler.csv called csvfile.\n",
    "\n",
    "- Create a dictionary that defaults to a list called crimes_by_district.\n",
    "\n",
    "- Loop over a DictReader of the CSV file:\n",
    "\n",
    "- Pop 'District' from each row and store it as district.\n",
    "\n",
    "- Append the rest of the data (row) to the district key of crimes_by_district."
   ]
  },
  {
   "cell_type": "code",
   "execution_count": null,
   "id": "ec0db391-4990-46c7-9240-6e5169836221",
   "metadata": {},
   "outputs": [],
   "source": [
    "# Create the CSV file: csvfile\n",
    "csvfile = ____\n",
    "\n",
    "# Create a dictionary that defaults to a list: crimes_by_district\n",
    "crimes_by_district = ____\n",
    "\n",
    "# Loop over a DictReader of the CSV file\n",
    "for row in ____:\n",
    "    # Pop the district from each row: district\n",
    "    district = ____\n",
    "    # Append the rest of the data to the list for proper district in crimes_by_district\n",
    "    ____"
   ]
  },
  {
   "cell_type": "code",
   "execution_count": null,
   "id": "a6d9207c-2426-4699-a5fc-d4354af9400f",
   "metadata": {},
   "outputs": [],
   "source": [
    "# # Create the CSV file: csvfile\n",
    "# csvfile = open('crime_sampler.csv', 'r')\n",
    "\n",
    "# # Create a dictionary that defaults to a list: crimes_by_district\n",
    "# crimes_by_district = defaultdict(list)\n",
    "\n",
    "# # Loop over a DictReader of the CSV file\n",
    "# for row in csv.DictReader(csvfile):\n",
    "#     # Pop the district from each row: district\n",
    "#     district = row.pop('District')\n",
    "#     # Append the rest of the data to the list for proper district in crimes_by_district\n",
    "#     crimes_by_district[district].append(row)"
   ]
  },
  {
   "cell_type": "markdown",
   "id": "1be05813-a251-47c5-9f7b-6a87586b8256",
   "metadata": {},
   "source": [
    "#### Ex6: Determine the Arrests by District by Year\n",
    "Using your crimes_by_district dictionary from the previous exercise, you'll now determine the number arrests in each City district for each year. Counter is already imported for you. You'll want to use the IPython Shell to explore the crimes_by_district dictionary to determine how to check if an arrest was made.\n",
    "\n",
    "\n",
    "- Loop over the crimes_by_district dictionary, unpacking it into the variables district and crimes.\n",
    "- Create an empty Counter object called year_count.\n",
    "- Loop over the crimes:\n",
    "- If there was an arrest,\n",
    "- Convert crime['Date'] to a datetime object called year.\n",
    "- Add the crime to the Counter for the year, by using year as the key of year_count.\n",
    "- Print the Counter. This has been done for you, so hit 'Submit Answer' to see the result!"
   ]
  },
  {
   "cell_type": "code",
   "execution_count": null,
   "id": "8f72e922-c1cb-4fe1-b6a1-0305dc513d31",
   "metadata": {},
   "outputs": [],
   "source": [
    "# Loop over the crimes_by_district using expansion as district and crimes\n",
    "for ____, ____ in ____:\n",
    "    # Print the district\n",
    "    print(district)\n",
    "    \n",
    "    # Create an empty Counter object: year_count\n",
    "    year_count = ____\n",
    "    \n",
    "    # Loop over the crimes:\n",
    "    for crime in ____:\n",
    "        # If there was an arrest\n",
    "        if ____['____'] == '____':\n",
    "            # Convert the Date to a datetime and get the year\n",
    "            year = ____(____, '%m/%d/%Y %I:%M:%S %p').year\n",
    "            # Increment the Counter for the year\n",
    "            ____ += 1\n",
    "            \n",
    "    # Print the counter\n",
    "    print(year_count)"
   ]
  },
  {
   "cell_type": "code",
   "execution_count": null,
   "id": "ec2ad62f-080c-4f9b-a318-9bf30aca69ec",
   "metadata": {},
   "outputs": [],
   "source": [
    "# # Loop over the crimes_by_district using expansion as district and crimes\n",
    "# for district, crimes in crimes_by_district.items():\n",
    "#     # Print the district\n",
    "#     print(district)\n",
    "    \n",
    "#     # Create an empty Counter object: year_count\n",
    "#     year_count = Counter()\n",
    "    \n",
    "#     # Loop over the crimes:\n",
    "#     for crime in crimes:\n",
    "#          # If there was an arrest\n",
    "#         if crime['Arrest'] == 'true':\n",
    "#             # Convert the Date to a datetime and get the year\n",
    "#             year = datetime.strptime(crime['Date'], '%m/%d/%Y %I:%M:%S %p').year\n",
    "#             # Increment the Counter for the year\n",
    "#             year_count[year] += 1\n",
    "            \n",
    "#     # Print the counter\n",
    "#     print(year_count)"
   ]
  },
  {
   "cell_type": "markdown",
   "id": "bb2837c0-235d-4830-8e3f-806ccd8a287a",
   "metadata": {},
   "source": [
    "#### Unique Crimes by City Block\n",
    "You're in the home stretch!\n",
    "\n",
    "Here, your data has been reshaped into a dictionary called crimes_by_block in which crimes are listed by city block. Your task in this exercise is to get a unique list of crimes that have occurred on a couple of the blocks that have been selected for you to learn more about. You might remember that you used set() to solve problems like this in Chapter 1.\n",
    "\n",
    "Go for it!\n",
    "\n",
    "- Create a unique list of crimes for the '001XX N STATE ST' block called n_state_st_crimes and print it.\n",
    "\n",
    "- Create a unique list of crimes for the '0000X W TERMINAL ST' block called w_terminal_st_crimes and print it.\n",
    "\n",
    "- Find the crimes committed on 001XX N STATE ST but not 0000X W TERMINAL ST. Store the result as crime_differences and print it."
   ]
  },
  {
   "cell_type": "code",
   "execution_count": null,
   "id": "afdbf367-566a-4450-ab58-d358733fdb21",
   "metadata": {},
   "outputs": [],
   "source": [
    "# Create a unique list of crimes for the first block: n_state_st_crimes\n",
    "n_state_st_crimes = ____\n",
    "\n",
    "# Print the list\n",
    "print(n_state_st_crimes)\n",
    "\n",
    "# Create a unique list of crimes for the second block: w_terminal_st_crimes\n",
    "w_terminal_st_crimes = ____\n",
    "\n",
    "# Print the list\n",
    "print(w_terminal_st_crimes)\n",
    "\n",
    "# Find the differences between the two blocks: crime_differences\n",
    "crime_differences = ____\n",
    "\n",
    "# Print the differences\n",
    "print(crime_differences)"
   ]
  },
  {
   "cell_type": "code",
   "execution_count": null,
   "id": "66859c59-edae-4feb-ada2-b24559038f4f",
   "metadata": {},
   "outputs": [],
   "source": [
    "# # Create a unique list of crimes for the first block: n_state_st_crimes\n",
    "# n_state_st_crimes = set(crimes_by_block['001XX N STATE ST'])\n",
    "\n",
    "# # Print the list\n",
    "# print(n_state_st_crimes)\n",
    "\n",
    "# # Create a unique list of crimes for the second block: w_terminal_st_crimes\n",
    "# w_terminal_st_crimes = set(crimes_by_block['0000X W TERMINAL ST'])\n",
    "\n",
    "# # Print the list\n",
    "# print(w_terminal_st_crimes)\n",
    "\n",
    "# # Find the differences between the two blocks: crime_differences\n",
    "# crime_differences = n_state_st_crimes.difference(w_terminal_st_crimes)\n",
    "\n",
    "# # Print the differences\n",
    "# print(crime_differences)"
   ]
  },
  {
   "cell_type": "code",
   "execution_count": null,
   "id": "5709ff64-9557-4489-a6fe-6d17df4ca216",
   "metadata": {},
   "outputs": [],
   "source": []
  },
  {
   "cell_type": "code",
   "execution_count": null,
   "id": "13e9c1c3-a038-4e9e-9673-a932ddfc20c6",
   "metadata": {},
   "outputs": [],
   "source": []
  },
  {
   "cell_type": "code",
   "execution_count": null,
   "id": "8ea4f0bc-9669-44e9-a90e-ac1ca321f566",
   "metadata": {},
   "outputs": [],
   "source": []
  },
  {
   "cell_type": "code",
   "execution_count": null,
   "id": "cdb45d8e-0f03-4702-935a-821bc0f3106a",
   "metadata": {},
   "outputs": [],
   "source": []
  },
  {
   "cell_type": "code",
   "execution_count": null,
   "id": "8e4c9b58-5a9f-4f15-a38c-b59250e9b47b",
   "metadata": {},
   "outputs": [],
   "source": []
  },
  {
   "cell_type": "code",
   "execution_count": null,
   "id": "4b3385ae-09eb-4ce5-bd34-a3c23696bc65",
   "metadata": {},
   "outputs": [],
   "source": []
  },
  {
   "cell_type": "code",
   "execution_count": null,
   "id": "acc0e033-cd00-4a7f-9b80-8cae440ca5ae",
   "metadata": {},
   "outputs": [],
   "source": []
  },
  {
   "cell_type": "code",
   "execution_count": null,
   "id": "5a529e5b-eae8-4732-8f20-53155175b505",
   "metadata": {},
   "outputs": [],
   "source": []
  },
  {
   "cell_type": "code",
   "execution_count": null,
   "id": "5e41ad0e-4385-4f2c-9592-4337df71be36",
   "metadata": {},
   "outputs": [],
   "source": []
  },
  {
   "cell_type": "code",
   "execution_count": null,
   "id": "ed4c6011-ee67-4d63-9e57-30fe463a67c2",
   "metadata": {},
   "outputs": [],
   "source": []
  },
  {
   "cell_type": "code",
   "execution_count": null,
   "id": "ac64e6af-edf4-4d32-b2f7-574b6e3d1e3a",
   "metadata": {},
   "outputs": [],
   "source": []
  },
  {
   "cell_type": "code",
   "execution_count": null,
   "id": "01dd4cba-f3ef-4e31-9919-28deb692b708",
   "metadata": {},
   "outputs": [],
   "source": []
  },
  {
   "cell_type": "code",
   "execution_count": null,
   "id": "d0d97db0-804e-4001-a249-55772e80b6b3",
   "metadata": {},
   "outputs": [],
   "source": []
  },
  {
   "cell_type": "code",
   "execution_count": null,
   "id": "182f50dc-d115-48bc-9470-0176bbaaf74a",
   "metadata": {},
   "outputs": [],
   "source": []
  },
  {
   "cell_type": "code",
   "execution_count": null,
   "id": "7b468ae8-025a-4895-b683-ed75aabbe169",
   "metadata": {},
   "outputs": [],
   "source": []
  },
  {
   "cell_type": "code",
   "execution_count": null,
   "id": "80e2dedd-d1a9-4ce5-8dd5-a8d758145c7c",
   "metadata": {},
   "outputs": [],
   "source": []
  },
  {
   "cell_type": "code",
   "execution_count": null,
   "id": "9919f4e0-2360-4448-acc1-c0c7529c0e2d",
   "metadata": {},
   "outputs": [],
   "source": []
  },
  {
   "cell_type": "code",
   "execution_count": null,
   "id": "7192dbe7-ebab-411f-b08f-045acab3581c",
   "metadata": {},
   "outputs": [],
   "source": []
  },
  {
   "cell_type": "code",
   "execution_count": null,
   "id": "0e105ed6-b7bb-4a45-95a9-4261424e3786",
   "metadata": {},
   "outputs": [],
   "source": []
  },
  {
   "cell_type": "code",
   "execution_count": null,
   "id": "6789067d-0a3d-414b-843b-f400c3030873",
   "metadata": {},
   "outputs": [],
   "source": []
  },
  {
   "cell_type": "code",
   "execution_count": null,
   "id": "cb9173ca-1c1d-4456-a852-f25e20f534dd",
   "metadata": {},
   "outputs": [],
   "source": []
  },
  {
   "cell_type": "code",
   "execution_count": null,
   "id": "c54a63b0-ff99-454e-b4b6-60c2c5dfa365",
   "metadata": {},
   "outputs": [],
   "source": []
  },
  {
   "cell_type": "code",
   "execution_count": null,
   "id": "8cbcb569-bcf1-4007-a2a0-db0a80fda836",
   "metadata": {},
   "outputs": [],
   "source": []
  },
  {
   "cell_type": "code",
   "execution_count": null,
   "id": "578e1008-dd0a-4c8f-ae48-47435a5224c9",
   "metadata": {},
   "outputs": [],
   "source": []
  },
  {
   "cell_type": "code",
   "execution_count": null,
   "id": "ef1bdd83-2610-413b-a424-c34d9cf55228",
   "metadata": {},
   "outputs": [],
   "source": []
  },
  {
   "cell_type": "code",
   "execution_count": null,
   "id": "35aa8e26-0280-4e2a-865e-7b1b596458dc",
   "metadata": {},
   "outputs": [],
   "source": []
  },
  {
   "cell_type": "code",
   "execution_count": null,
   "id": "39ae89fe-f67b-4fbc-bfad-702c0aa7a125",
   "metadata": {},
   "outputs": [],
   "source": []
  },
  {
   "cell_type": "code",
   "execution_count": null,
   "id": "9cd2df93-0e50-4c86-9817-6e5c42c6a33d",
   "metadata": {},
   "outputs": [],
   "source": []
  }
 ],
 "metadata": {
  "kernelspec": {
   "display_name": "Python 3 (ipykernel)",
   "language": "python",
   "name": "python3"
  },
  "language_info": {
   "codemirror_mode": {
    "name": "ipython",
    "version": 3
   },
   "file_extension": ".py",
   "mimetype": "text/x-python",
   "name": "python",
   "nbconvert_exporter": "python",
   "pygments_lexer": "ipython3",
   "version": "3.8.13"
  }
 },
 "nbformat": 4,
 "nbformat_minor": 5
}

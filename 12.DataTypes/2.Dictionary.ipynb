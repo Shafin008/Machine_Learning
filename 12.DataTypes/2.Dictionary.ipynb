{
 "cells": [
  {
   "cell_type": "markdown",
   "id": "33be0c39",
   "metadata": {},
   "source": [
    "## Using dictionaries\n",
    "\n",
    "Now that you are familiar with the container sequence types, let's dive into dictionaries. People often joke that everything in Python is a dictionary, and while it is a joke, there is a tiny bit of truth to that. \n",
    "\n",
    "Dictionary are useful for storing key/value pair, grouping data by time or structuring hierarchical data like org charts. \n",
    "\n",
    "Dictionaries hold data in key/value pairs. While the key must be alphanumeric, the value can be any other data type. It's also possible to nest dictionaries so that you can work with grouped or hierarchical data. \n",
    "\n",
    "We can also iterate over the keys and values of a dictionary. We can also iterate over the items of a dictionary, which are tuples of the key value pairs)! We create dictionaries using the dict() method or the braces shortcut.\n",
    "\n",
    "\n",
    "### Creating and looping through dictionaries\n",
    "\n",
    "You'll often encounter the need to loop over some array type data. You start that by creating an empty dictionary and assigning part of your array data as the key and the rest as the value.\n",
    "\n",
    "Dictionaries can also be sorted. By default, using sorted() on a dictionary will sort by the keys of the dictionary. You can also reverse the order by passing reverse=True as a keyword argument.\n",
    "\n",
    "Finally, since sorted returns a list, you can use slice notation to select only part of the list. For example, [:10] will slice the first ten items off a list and return only those items."
   ]
  },
  {
   "cell_type": "markdown",
   "id": "f8feeaf5",
   "metadata": {},
   "source": [
    "### Exercise 1:\n",
    "\n",
    "Sort in descending order and Print the first 10 names from the dictionary female_baby_names_2012"
   ]
  },
  {
   "cell_type": "code",
   "execution_count": 1,
   "id": "79df7eea",
   "metadata": {},
   "outputs": [],
   "source": [
    "female_baby_names_2012 = {44: 'RIVKY', 26: 'JULIA', 43: 'TOBY', 37: 'MALKY', \n",
    "                         19: 'ABIGAIL', 25: 'ZOE', 42: 'PENELOPE', 39: 'MALKA', \n",
    "                         33: 'SHAINDY', 36: 'MADISON', 35: 'GITTY', 32: 'STELLA', \n",
    "                         41: 'MADELINE', 7: 'CHAYA', 38: 'EVA', 18: 'ELIZABETH', \n",
    "                         30: 'GRACE', 34: 'FAIGY', 14: 'SARA', 45: 'NICOLE', 20: 'ALEXANDRA', \n",
    "                         12: 'EMILY', 29: 'HANNAH', 1: 'EMMA', 40: 'ALEXA', 28: 'GABRIELLA', \n",
    "                         24: 'RIVKA', 4: 'SOPHIA', 5: 'ESTHER', 27: 'SOPHIE', 22: 'LILY', 10: 'MIRIAM', \n",
    "                         8: 'AVA', 9: 'CHANA', 13: 'MIA', 6: 'RACHEL', 17: 'MAYA', 31: 'AVERY', 11: 'ELLA', \n",
    "                         23: 'SOFIA', 3: 'SARAH', 21: 'VICTORIA', 16: 'ISABELLA', 2: 'LEAH', 15: 'CHARLOTTE', \n",
    "                         46: 'VIOLET', 47: 'NATALIE', 69: 'LILIANA', 62: 'SURY', 71: 'SAVANNAH', 75: 'VERA', \n",
    "                         72: 'VANESSA', 48: 'REBECCA', 77: 'SYLVIA', 67: 'TAYLOR', 57: 'VALENTINA', 73: 'SIMONE', \n",
    "                         79: 'SHAINA', 53: 'RILEY', 64: 'YIDES', 78: 'SIMA', 51: 'NINA', 74: 'SLOANE', 63: 'NAOMI', \n",
    "                         70: 'YAEL', 55: 'SYDNEY', 68: 'ZOEY', 76: 'YEHUDIS', 60: 'FRANCESCA', 49: 'MARIA', 61: 'ZISSY', \n",
    "                         65: 'SKYLAR', 59: 'JOSEPHINE', 66: 'VERONICA', 50: 'YITTY', 58: 'TALIA', 52: 'KATHERINE', \n",
    "                         54: 'SIENNA', 56: 'VIVIENNE', 81: 'YITTA', 83: 'YARA', 82: 'TZIVIA', 80: 'TZIPORA'}"
   ]
  },
  {
   "cell_type": "code",
   "execution_count": 2,
   "id": "71c527bf",
   "metadata": {},
   "outputs": [
    {
     "name": "stdout",
     "output_type": "stream",
     "text": [
      "83 YARA\n",
      "82 TZIVIA\n",
      "81 YITTA\n",
      "80 TZIPORA\n",
      "79 SHAINA\n",
      "78 SIMA\n",
      "77 SYLVIA\n",
      "76 YEHUDIS\n",
      "75 VERA\n",
      "74 SLOANE\n"
     ]
    }
   ],
   "source": [
    "sorted_names = {}\n",
    "for rank, names in sorted(female_baby_names_2012.items(), reverse = True)[:10]:\n",
    "    print(rank,names)"
   ]
  },
  {
   "cell_type": "markdown",
   "id": "09319b4e",
   "metadata": {},
   "source": [
    "### Safely finding by key\n",
    "\n",
    "if you attempt to access a key that isn't present in a dictionary, you'll get a KeyError. One option to handle this type of error is to use a try: except:\n",
    "\n",
    "Python provides a faster, more versatile tool to help with this problem in the form of the .get() method. The get method allows you to safely get a value from a key by passing the key. If the key is not found in the dictionary, it returns None. You can optionally supply a second argument which will be returned instead of None. \n",
    "\n",
    "Accessing data in a safe manner is critical to ensure your programs execute properly. "
   ]
  },
  {
   "cell_type": "markdown",
   "id": "4c3f96e7",
   "metadata": {},
   "source": [
    "### Exercise 2:\n",
    "\n",
    "- Safely print rank 7 from the female_baby_names_2012  dictionary.\n",
    "\n",
    "- Safely print the type of rank 100 from the female_baby_names_2012  dictionary.\n",
    "\n",
    "- Safely print rank 105 from the female_baby_names_2012 dictionary or 'Not Found' if 105 is not found."
   ]
  },
  {
   "cell_type": "code",
   "execution_count": 3,
   "id": "c4bc44fc",
   "metadata": {},
   "outputs": [
    {
     "name": "stdout",
     "output_type": "stream",
     "text": [
      "CHAYA\n"
     ]
    }
   ],
   "source": [
    "print(female_baby_names_2012.get(7))"
   ]
  },
  {
   "cell_type": "code",
   "execution_count": 4,
   "id": "fa6ab916",
   "metadata": {},
   "outputs": [
    {
     "name": "stdout",
     "output_type": "stream",
     "text": [
      "None\n",
      "<class 'NoneType'>\n"
     ]
    }
   ],
   "source": [
    "print(female_baby_names_2012.get(100))\n",
    "print(type(female_baby_names_2012.get(100)))"
   ]
  },
  {
   "cell_type": "code",
   "execution_count": 5,
   "id": "99b2d5fa",
   "metadata": {},
   "outputs": [
    {
     "name": "stdout",
     "output_type": "stream",
     "text": [
      "Not Found\n"
     ]
    }
   ],
   "source": [
    "print(female_baby_names_2012.get(105, \"Not Found\"))"
   ]
  },
  {
   "cell_type": "markdown",
   "id": "f7259f6d",
   "metadata": {},
   "source": [
    "### Dealing with nested data\n",
    "\n",
    "A dictionary can contain another dictionary as the value of a key, and this is a very common way to deal with repeating data structures such as yearly, monthly or weekly data. All the same rules apply when creating or accessing the dictionary.\n",
    "\n",
    "For example, if you had a dictionary that had a ranking of my cookie consumption by year and type of cookie."
   ]
  },
  {
   "cell_type": "code",
   "execution_count": 7,
   "id": "2b553af4",
   "metadata": {},
   "outputs": [
    {
     "data": {
      "text/plain": [
       "{'2017': {'chocolate chip': 483, 'peanut butter': 115},\n",
       " '2016': {'chocolate chip': 9513, 'peanut butter': 6792}}"
      ]
     },
     "execution_count": 7,
     "metadata": {},
     "output_type": "execute_result"
    }
   ],
   "source": [
    "cookies = {'2017': {'chocolate chip': 483, 'peanut butter': 115}, '2016': {'chocolate chip': 9513, 'peanut butter': 6792}}\n",
    "cookies"
   ]
  },
  {
   "cell_type": "markdown",
   "id": "75ebbb35",
   "metadata": {},
   "source": [
    "Suppose, I want to access how many chocolate chip cookies I ate in 2016"
   ]
  },
  {
   "cell_type": "code",
   "execution_count": 8,
   "id": "e469706a",
   "metadata": {},
   "outputs": [
    {
     "data": {
      "text/plain": [
       "dict_keys(['2017', '2016'])"
      ]
     },
     "execution_count": 8,
     "metadata": {},
     "output_type": "execute_result"
    }
   ],
   "source": [
    "cookies.keys()"
   ]
  },
  {
   "cell_type": "code",
   "execution_count": 9,
   "id": "7ac6f3a5",
   "metadata": {},
   "outputs": [
    {
     "data": {
      "text/plain": [
       "{'chocolate chip': 9513, 'peanut butter': 6792}"
      ]
     },
     "execution_count": 9,
     "metadata": {},
     "output_type": "execute_result"
    }
   ],
   "source": [
    "cookies[\"2016\"]"
   ]
  },
  {
   "cell_type": "code",
   "execution_count": 10,
   "id": "cc051cda",
   "metadata": {},
   "outputs": [
    {
     "data": {
      "text/plain": [
       "9513"
      ]
     },
     "execution_count": 10,
     "metadata": {},
     "output_type": "execute_result"
    }
   ],
   "source": [
    "cookies[\"2016\"]['chocolate chip']"
   ]
  },
  {
   "cell_type": "code",
   "execution_count": 11,
   "id": "06a0075a",
   "metadata": {},
   "outputs": [],
   "source": [
    "boy_names = {2013: {50: 'Logan', 13: 'Henry', 54: 'Yaakov', 47: 'Yitzchok', \n",
    "        49: 'Menachem', 32: 'Luke', 44: 'Aron', 56: 'Omar', \n",
    "        42: 'Aaron', 5: 'Daniel', 43: 'Zachary', 45: 'Luca', \n",
    "        24: 'Anthony', 16: 'Nicholas', 30: 'Leo', 25: 'Isaac', \n",
    "        57: 'Levi', 19: 'Chaim', 51: 'Aiden', 37: 'Christopher', \n",
    "        55: 'Yakov', 33: 'Jackson', 21: 'Liam', 36: 'Joshua', \n",
    "        53: 'Peter', 38: 'Sebastian', 7: 'James', 52: 'Yisroel', \n",
    "        40: 'Eli', 27: 'Andrew', 35: 'Theodore', 8: 'Jacob', \n",
    "        2: 'Joseph', 14: 'Noah', 34: 'Shimon', 46: 'Yehuda', \n",
    "        29: 'Yosef', 22: 'Ryan', 9: 'Jack', 1: 'David', 28: 'Gabriel', \n",
    "        48: 'Owen', 26: 'Oliver', 11: 'William', 31: 'Thomas', 23: 'Lucas', \n",
    "        10: 'Alexander', 39: 'Mason', 4: 'Moshe', 41: 'Nathan', \n",
    "        17: 'Matthew', 12: 'John', 6: 'Benjamin', 20: 'Abraham', \n",
    "        18: 'Adam', 3: 'Michael', 15: 'Samuel', 62: 'Jonah', \n",
    "        61: 'Connor', 60: 'Patrick', 59: 'Shmuel', 58: 'Simon', \n",
    "        79: 'Parker', 82: 'Nicolas', 95: 'Sawyer', 94: 'Yoel', \n",
    "        90: 'Rayan', 73: 'Sean', 85: 'Usher', 92: 'Yossi', \n",
    "        65: 'Nathaniel', 93: 'Wesley', 81: 'Yechiel', 69: 'Hunter', \n",
    "        76: 'Martin', 74: 'Sam', 87: 'Yusuf', 67: 'Tyler', 88: 'Yehoshua',\n",
    "        84: 'Spencer', 83: 'Timothy', 63: 'Zev', 86: 'Rafael', \n",
    "        91: 'Tristan', 89: 'Shaya', 71: 'Lipa', 66: 'Harrison', \n",
    "        68: 'Mark', 75: 'Solomon', 78: 'Wyatt', 80: 'Steven', \n",
    "        64: 'Tzvi', 70: 'Mohamed', 72: 'Mendel', 77: 'Edward', \n",
    "        96: 'Yousef', 100: 'Yitzchak', 99: 'Yeshaya', 97: 'Walter', 98: 'Zalmen'}, \n",
    " 2014: {54: 'Aron', 14: 'Henry', 58: 'Miles', 38: 'Andrew', 33: 'Eli', \n",
    "        42: 'Jackson', 51: 'Yitzchok', 56: 'Levi', 57: 'Shmuel', \n",
    "        39: 'Zachary', 5: 'Jacob', 40: 'Owen', 48: 'Asher', 26: 'Lucas', \n",
    "        21: 'Noah', 50: 'Robert', 47: 'Jonathan', 55: 'Mark', 36: 'Mason', \n",
    "        29: 'Anthony', 45: 'Aiden', 37: 'Mordechai', 53: 'Christian', \n",
    "        18: 'Ethan', 52: 'George', 24: 'Theodore', 34: 'Shimon', 30: 'Oliver', \n",
    "        7: 'Alexander', 46: 'Christopher', 22: 'Matthew', 9: 'Samuel', 2: 'David', \n",
    "        11: 'James', 35: 'Luke', 28: 'Yosef', 44: 'Nathan', 20: 'Ryan', 10: 'Jack', \n",
    "        1: 'Joseph', 49: 'Logan', 32: 'Gabriel', 17: 'John', 15: 'Abraham', \n",
    "        19: 'Liam', 16: 'Nicholas', 4: 'Moshe', 13: 'William', 12: 'Adam', \n",
    "        27: 'Thomas', 6: 'Benjamin', 23: 'Chaim', 41: 'Yehuda', 31: 'Max', \n",
    "        3: 'Michael', 25: 'Isaac', 8: 'Daniel', 43: 'Yisroel', 59: 'Shlomo', \n",
    "        60: 'Peter', 90: 'Naftali', 75: 'Shia', 98: 'Yisrael', 88: 'Youssef', \n",
    "        74: 'Oscar', 84: 'Philip', 93: 'Shmiel', 95: 'Naftuli', 68: 'Yakov', \n",
    "        96: 'Yusuf', 89: 'Simcha', 91: 'Ronan', 78: 'Tyler', 72: 'Edward', \n",
    "        92: 'Usher', 69: 'Hunter', 85: 'Timothy', 80: 'Sam', 82: 'Ian', \n",
    "        94: 'Yousef', 66: 'Nathaniel', 87: 'Xavier', 97: 'Yossi', 73: 'Yechiel', \n",
    "        67: 'Yaakov', 86: 'Yehoshua', 81: 'Shaya', 70: 'Vincent', 79: 'Wyatt', \n",
    "        61: 'Sean', 64: 'Gavin', 83: 'Raphael', 65: 'Zev', 62: 'Eliezer', 76: 'Leonardo', \n",
    "        77: 'Victor', 63: 'Solomon', 71: 'Ari', 100: 'Yoel', 101: 'Yahya', 99: 'Shea', 102: 'Yidel'}, \n",
    " 2012: {}}"
   ]
  },
  {
   "cell_type": "markdown",
   "id": "eec4d25e",
   "metadata": {},
   "source": [
    "### Exercise 3:\n",
    "\n",
    "- Print the keys of the boy_names dictionary.\n",
    "\n",
    "\n",
    "- Print the keys of the boy_names dictionary for the year 2013.\n",
    "\n",
    "\n",
    "- Loop over the boy_names dictionary. Inside the loop, safely print the year and the third ranked name. Print 'Unknown' if the third ranked name is not found."
   ]
  },
  {
   "cell_type": "code",
   "execution_count": 12,
   "id": "9ae0c919",
   "metadata": {},
   "outputs": [
    {
     "data": {
      "text/plain": [
       "dict_keys([2013, 2014, 2012])"
      ]
     },
     "execution_count": 12,
     "metadata": {},
     "output_type": "execute_result"
    }
   ],
   "source": [
    "boy_names.keys()"
   ]
  },
  {
   "cell_type": "code",
   "execution_count": 13,
   "id": "2b43870e",
   "metadata": {},
   "outputs": [
    {
     "data": {
      "text/plain": [
       "dict_keys([50, 13, 54, 47, 49, 32, 44, 56, 42, 5, 43, 45, 24, 16, 30, 25, 57, 19, 51, 37, 55, 33, 21, 36, 53, 38, 7, 52, 40, 27, 35, 8, 2, 14, 34, 46, 29, 22, 9, 1, 28, 48, 26, 11, 31, 23, 10, 39, 4, 41, 17, 12, 6, 20, 18, 3, 15, 62, 61, 60, 59, 58, 79, 82, 95, 94, 90, 73, 85, 92, 65, 93, 81, 69, 76, 74, 87, 67, 88, 84, 83, 63, 86, 91, 89, 71, 66, 68, 75, 78, 80, 64, 70, 72, 77, 96, 100, 99, 97, 98])"
      ]
     },
     "execution_count": 13,
     "metadata": {},
     "output_type": "execute_result"
    }
   ],
   "source": [
    "boy_names[2013].keys()"
   ]
  },
  {
   "cell_type": "code",
   "execution_count": 14,
   "id": "3059c6cf",
   "metadata": {},
   "outputs": [
    {
     "name": "stdout",
     "output_type": "stream",
     "text": [
      "2013 Michael\n",
      "2014 Michael\n",
      "2012 Unknown\n"
     ]
    }
   ],
   "source": [
    "for year in boy_names:\n",
    "    print(year, boy_names[year].get(3, \"Unknown\"))"
   ]
  },
  {
   "cell_type": "markdown",
   "id": "8b88bf1a",
   "metadata": {},
   "source": [
    "### Adding and extending dictionaries\n",
    "\n",
    "Dictionaries are mutable, so we can alter them in a number of ways. Let's start by adding data to them. You can add data to a dictionary just by using a new key as an index and assigning it a value.It's important to remember that if it's a nested dictionary, then all the keys in the data path must exist, and each key in the path must be assigned individually. \n",
    "\n",
    "It's also possible to supply a dictionary, list of tuples or a set of keywords arguments to the update() method to add values into a dictionary. We can also create a list of tuples, and supply them to the update() method. "
   ]
  },
  {
   "cell_type": "code",
   "execution_count": 15,
   "id": "671d634d",
   "metadata": {},
   "outputs": [],
   "source": [
    "names_2011 = {51: 'Owen', 19: 'Andrew', 46: 'Sebastian', 36: 'Isaac', \n",
    "              38: 'Zachary', 52: 'Vincent', 47: 'Mark', 45: 'Yehuda', \n",
    "              34: 'Max', 7: 'Daniel', 30: 'Oliver', 18: 'Anthony', \n",
    "              22: 'Lucas', 53: 'Tyler', 25: 'Thomas', 14: 'John', \n",
    "              48: 'Robert', 23: 'Dylan', 39: 'Leo', 16: 'Henry', \n",
    "              35: 'Shimon', 42: 'Jake', 28: 'Yosef', 37: 'Joshua', \n",
    "              27: 'Menachem', 50: 'George', 49: 'Logan', 56: 'Yitzchok', \n",
    "              55: 'Aidan', 10: 'Jack', 17: 'Chaim', 54: 'Yakov', 9: 'Matthew', \n",
    "              1: 'Michael', 44: 'Yisroel', 15: 'Nicholas', 21: 'Charles', \n",
    "              43: 'Mordechai', 31: 'Noah', 6: 'Moshe', 2: 'Joseph', \n",
    "              41: 'Aiden', 20: 'Liam', 4: 'David', 8: 'Alexander', \n",
    "              24: 'Ryan', 5: 'Benjamin', 33: 'Gabriel', 12: 'James', \n",
    "              29: 'Luke', 26: 'Ethan', 11: 'Samuel', 40: 'Julian', \n",
    "              3: 'Jacob', 32: 'Eli', 13: 'William', 58: 'Theodore', \n",
    "              61: 'Zev', 63: 'Yaakov', 64: 'Shmuel', 59: 'Peter', \n",
    "              62: 'Nathaniel', 60: 'Solomon', 57: 'Asher', 92: 'Spencer', \n",
    "              90: 'Yitzchak', 82: 'Wyatt', 72: 'Sam', 91: 'Shea', \n",
    "              88: 'Rocco', 70: 'Cole', 68: 'Jayden', 66: 'Tzvi', \n",
    "              89: 'Xavier', 94: 'Yida', 83: 'Tristan', 71: 'Sean', \n",
    "              67: 'Levi', 76: 'Moses', 78: 'Usher', 93: 'Zalmen', \n",
    "              84: 'Louis', 87: 'Yoel', 80: 'Yechiel', 81: 'Shaya', \n",
    "              85: 'Yehoshua', 75: 'Steven', 77: 'Shia', 73: 'Victor', \n",
    "              86: 'Sholom', 79: 'Nicolas', 74: 'Omar', 65: 'Shulem', \n",
    "              69: 'Mohamed', 96: 'Youssef', 97: 'Yonah', 95: 'Yousef'}"
   ]
  },
  {
   "cell_type": "markdown",
   "id": "89d95d4f",
   "metadata": {},
   "source": [
    "### Exercise 4:\n",
    "\n",
    "- Assign the names_2011 dictionary as the value to the 2011 key of the boy_names dictionary.\n",
    "\n",
    "\n",
    "- Update the 2012 key in the boy_names dictionary with the following data in a list of tuples: (1, 'Casey'), (2, 'Aiden').\n",
    "\n",
    "\n",
    "- Loop over the boy_names dictionary. Inside the for loop, sort the data for each year of boy_names by descending rank and take the first result which will be the lowest ranked name.\n",
    "\n",
    "\n",
    "- Safely print the year and least popular name or 'Not Available' if it is not found. Take advantage of the .get() method."
   ]
  },
  {
   "cell_type": "code",
   "execution_count": 16,
   "id": "426b554f",
   "metadata": {},
   "outputs": [
    {
     "data": {
      "text/plain": [
       "dict_keys([2013, 2014, 2012, 2011])"
      ]
     },
     "execution_count": 16,
     "metadata": {},
     "output_type": "execute_result"
    }
   ],
   "source": [
    "# Assign the names_2011 dictionary as the value to the 2011 key of boy_names\n",
    "\n",
    "boy_names[2011] = names_2011\n",
    "boy_names.keys()"
   ]
  },
  {
   "cell_type": "code",
   "execution_count": 17,
   "id": "41f9a525",
   "metadata": {},
   "outputs": [
    {
     "data": {
      "text/plain": [
       "{}"
      ]
     },
     "execution_count": 17,
     "metadata": {},
     "output_type": "execute_result"
    }
   ],
   "source": [
    "boy_names[2012]"
   ]
  },
  {
   "cell_type": "code",
   "execution_count": 18,
   "id": "2a7b9bc3",
   "metadata": {},
   "outputs": [
    {
     "data": {
      "text/plain": [
       "{1: 'Casey', 2: 'Aiden'}"
      ]
     },
     "execution_count": 18,
     "metadata": {},
     "output_type": "execute_result"
    }
   ],
   "source": [
    "# # Update the 2012 key in the boy_names dictionary\n",
    "\n",
    "tup = (1, 'Casey'), (2, 'Aiden')\n",
    "boy_names[2012].update(list(tup))\n",
    "boy_names[2012]"
   ]
  },
  {
   "cell_type": "code",
   "execution_count": 19,
   "id": "509a158c",
   "metadata": {},
   "outputs": [
    {
     "name": "stdout",
     "output_type": "stream",
     "text": [
      "2013 Yitzchak\n",
      "2014 Yidel\n",
      "2012 Aiden\n",
      "2011 Yonah\n"
     ]
    }
   ],
   "source": [
    "for year in boy_names:\n",
    "    lowest_ranked = sorted(boy_names[year], reverse=True)[0]\n",
    "    #print(lowest_ranked)\n",
    "    print(year, boy_names[year].get(lowest_ranked, \"Not Available\"))"
   ]
  },
  {
   "cell_type": "markdown",
   "id": "fef2b277",
   "metadata": {},
   "source": [
    "It looks like 'Yonah', 'Yitzchak', and 'Yidel' were the least popular baby names in 2011, 2013, and 2014. The dictionary in the 2012 key of boy_names did not contain any data until you added 'Casey' and 'Aiden', so unsurprisingly, 'Aiden' is the least popular name."
   ]
  },
  {
   "cell_type": "markdown",
   "id": "76e9751b",
   "metadata": {},
   "source": [
    "### Popping and deleting from dictionaries\n",
    "\n",
    "You can use the del python instruction on a dictionary key to remove data from a dictionary. However, it's important to remember that del will throw a KeyError if the key you are trying to delete does not exist. You can not use it with the .get() method to safely delete items; however, it can be used with try: catch:.\n",
    "\n",
    "The pop() method provides a safe way to remove keys from a dictionary. If you want to save that deleted data into another variable for further processing, the .pop() dictionary method will do just that. You can supply a default value for .pop() much like you did for .get() to safely deal with missing keys. It's also typical to use .pop() instead of del since it is a safe method."
   ]
  },
  {
   "cell_type": "code",
   "execution_count": 20,
   "id": "56cf755f",
   "metadata": {},
   "outputs": [],
   "source": [
    "female_names = {2013: {7: 'Rachel', 2: 'Emma', 4: 'Sophia', 5: 'Sarah', \n",
    "                       9: 'Miriam', 6: 'Leah', 8: 'Chaya', 3: 'Esther', \n",
    "                       1: 'Olivia', 10: 'Chana'}, \n",
    "                \n",
    "                2014: {10: 'Miriam', 5: 'Emma', 2: 'Esther', 9: 'Ava', 4: 'Leah', 3: 'Rachel', \n",
    "                       7: 'Sarah', 8: 'Sophia', 6: 'Chaya', 1: 'Olivia'}, \n",
    "                \n",
    "                2012: {}, \n",
    "                \n",
    "                2011: {10: 'Miriam', 5: 'Emma', 2: 'Esther', 9: 'Ava', 4: 'Leah', \n",
    "                       3: 'Rachel', 7: 'Sarah', 8: 'Sophia', 6: 'Chaya', 1: 'Olivia'}}"
   ]
  },
  {
   "cell_type": "markdown",
   "id": "f68da66e",
   "metadata": {},
   "source": [
    "### Exercise 5\n",
    "\n",
    "- Remove 2011 from female_names and store it as female_names_2011.\n",
    "\n",
    "\n",
    "- Safely remove 2015 from female_names with a empty dictionary as the default and store it as female_names_2015. To do this, pass in an empty dictionary {} as a second argument to .pop().\n",
    "\n",
    "\n",
    "- Delete 2012 from female_names."
   ]
  },
  {
   "cell_type": "code",
   "execution_count": 21,
   "id": "3e0ecfdd",
   "metadata": {},
   "outputs": [
    {
     "name": "stdout",
     "output_type": "stream",
     "text": [
      "{10: 'Miriam', 5: 'Emma', 2: 'Esther', 9: 'Ava', 4: 'Leah', 3: 'Rachel', 7: 'Sarah', 8: 'Sophia', 6: 'Chaya', 1: 'Olivia'}\n"
     ]
    }
   ],
   "source": [
    "# Remove 2011 from female_names and store it as female_names_2011.\n",
    "\n",
    "female_names_2011 = female_names.pop(2011)\n",
    "print(female_names_2011)"
   ]
  },
  {
   "cell_type": "code",
   "execution_count": 22,
   "id": "a9079733",
   "metadata": {},
   "outputs": [],
   "source": [
    "#female_names[2015]"
   ]
  },
  {
   "cell_type": "code",
   "execution_count": 23,
   "id": "b610fb97",
   "metadata": {},
   "outputs": [
    {
     "data": {
      "text/plain": [
       "{}"
      ]
     },
     "execution_count": 23,
     "metadata": {},
     "output_type": "execute_result"
    }
   ],
   "source": [
    "# Safely remove 2015 from female_names with an empty dictionary as the default and store it as female_names_2015. \n",
    "# To do this, pass in an empty dictionary {} as a second argument to .pop().\n",
    "\n",
    "female_names_2015 = female_names.pop(2015, {})\n",
    "female_names_2015"
   ]
  },
  {
   "cell_type": "code",
   "execution_count": 24,
   "id": "202e91d6",
   "metadata": {},
   "outputs": [],
   "source": [
    "# Delete 2012 from female_names.\n",
    "\n",
    "del female_names[2012]"
   ]
  },
  {
   "cell_type": "code",
   "execution_count": 25,
   "id": "e14e3635",
   "metadata": {},
   "outputs": [
    {
     "name": "stdout",
     "output_type": "stream",
     "text": [
      "{2013: {7: 'Rachel', 2: 'Emma', 4: 'Sophia', 5: 'Sarah', 9: 'Miriam', 6: 'Leah', 8: 'Chaya', 3: 'Esther', 1: 'Olivia', 10: 'Chana'}, 2014: {10: 'Miriam', 5: 'Emma', 2: 'Esther', 9: 'Ava', 4: 'Leah', 3: 'Rachel', 7: 'Sarah', 8: 'Sophia', 6: 'Chaya', 1: 'Olivia'}}\n"
     ]
    }
   ],
   "source": [
    "print(female_names)"
   ]
  },
  {
   "cell_type": "markdown",
   "id": "0248bf71",
   "metadata": {},
   "source": [
    "As expected, only the data from the years 2013 and 2014 is retained."
   ]
  },
  {
   "cell_type": "markdown",
   "id": "d5557f59",
   "metadata": {},
   "source": [
    "### Working with dictionaries more pythonically\n",
    "\n",
    "So far, you've worked a lot with the keys of a dictionary to access data, but in Python, the preferred manner for iterating over items in a dictionary is with the .items() method.\n",
    "\n",
    "This returns each key and value from the dictionary as a tuple, which you can unpack in a for loop. "
   ]
  },
  {
   "cell_type": "code",
   "execution_count": 26,
   "id": "3e5c3f6e",
   "metadata": {},
   "outputs": [],
   "source": [
    "baby_names = {\n",
    "              2013: {7: 'James', 2: 'Joseph', 4: 'Moshe', 5: 'Daniel', 9: 'Jack', \n",
    "                     6: 'Benjamin', 8: 'Jacob', 3: 'Michael', 1: 'David', 10: 'Alexander'}, \n",
    "              \n",
    "              2014: {10: 'Jack', 5: 'Jacob', 2: 'David', 9: 'Samuel', 4: 'Moshe', 3: 'Michael', \n",
    "                     7: 'Alexander', 8: 'Daniel', 6: 'Benjamin', 1: 'Joseph'}, \n",
    "              \n",
    "              2012: {}\n",
    "             \n",
    "            }"
   ]
  },
  {
   "cell_type": "markdown",
   "id": "d9cd6fe0",
   "metadata": {},
   "source": [
    "### Exercise 6\n",
    "\n",
    "- Iterate over baby_names[2014], unpacking it into rank and name. Print each rank and name.\n",
    "\n",
    "\n",
    "- Repeat the process for baby_names[2012]."
   ]
  },
  {
   "cell_type": "code",
   "execution_count": 27,
   "id": "740077a4",
   "metadata": {},
   "outputs": [
    {
     "name": "stdout",
     "output_type": "stream",
     "text": [
      "Rank: 10  Baby_Name: Jack\n",
      "Rank: 5  Baby_Name: Jacob\n",
      "Rank: 2  Baby_Name: David\n",
      "Rank: 9  Baby_Name: Samuel\n",
      "Rank: 4  Baby_Name: Moshe\n",
      "Rank: 3  Baby_Name: Michael\n",
      "Rank: 7  Baby_Name: Alexander\n",
      "Rank: 8  Baby_Name: Daniel\n",
      "Rank: 6  Baby_Name: Benjamin\n",
      "Rank: 1  Baby_Name: Joseph\n"
     ]
    }
   ],
   "source": [
    "# Iterate over baby_names[2014], unpacking it into rank and name. Print each rank and name.\n",
    "\n",
    "for rank,name in baby_names[2014].items():\n",
    "    print(f\"Rank: {rank}  Baby_Name: {name}\")   "
   ]
  },
  {
   "cell_type": "markdown",
   "id": "8dcc6c97",
   "metadata": {},
   "source": [
    "### Exercise 7\n",
    "\n",
    "- Check to see if 2011 is in the baby_names dictionary. Print 'Found 2011' if it is present.\n",
    "\n",
    "\n",
    "- Check to see if 1 is in baby_names[2012]. Print 'Found Rank 1 in 2012' if found and 'Rank 1 missing from 2012' if not found.\n",
    "\n",
    "\n",
    "- Check to see if rank 5 is in baby_names[2013]. Print 'Found Rank 5' if it is present."
   ]
  },
  {
   "cell_type": "code",
   "execution_count": 28,
   "id": "46f10c37",
   "metadata": {},
   "outputs": [],
   "source": [
    "# Check to see if 2011 is in the baby_names dictionary. Print 'Found 2011' if it is present.\n",
    "\n",
    "if 2011 in baby_names:\n",
    "    print('Found 2011')"
   ]
  },
  {
   "cell_type": "code",
   "execution_count": 29,
   "id": "8f662273",
   "metadata": {},
   "outputs": [
    {
     "name": "stdout",
     "output_type": "stream",
     "text": [
      "Rank 1 missing from 2012\n"
     ]
    }
   ],
   "source": [
    "if 1 in baby_names[2012]:\n",
    "    print(\"Found Rank 1 in 2012\")\n",
    "else:\n",
    "    print('Rank 1 missing from 2012')"
   ]
  },
  {
   "cell_type": "code",
   "execution_count": 30,
   "id": "837c8320",
   "metadata": {},
   "outputs": [
    {
     "name": "stdout",
     "output_type": "stream",
     "text": [
      "Found Rank 5\n"
     ]
    }
   ],
   "source": [
    "if 5 in baby_names[2013]:\n",
    "    print('Found Rank 5')"
   ]
  },
  {
   "cell_type": "markdown",
   "id": "f2c02a9b",
   "metadata": {},
   "source": [
    "### Working with csv files:\n",
    "\n",
    "Many of the data sets you're going to encounter as a data scientist will be published as CSV files, because it's one of the most common ways to dump data from a database or storage system. Generally it begins with a header line that identifies the fields in each row. Then a line for each row of data. But CSV files are not required to have a header. Let's look at how to read data from these.\n",
    "\n",
    "### Reading from a file using CSV reader\n",
    "\n",
    "Python provides a wonderful module called csv to work with these types of files. To create a Python file object, you use the open() function, which accepts a file name and a mode. The mode is typically 'r' for read or 'w' for write. \n",
    "\n",
    "Then we pass the file object to the dot reader() method on the csv module and use it as you would any other iterable.\n",
    "\n",
    "Often CSV files will have a header row with field names, and you will need to use slice notation such as [1:] to skip the header row.\n",
    "\n",
    "Here I import the csv module, create a file object for the baby_names.csv data file. Then I use the csv dot reader to read the file and iterate over each line or row in the file and print it."
   ]
  },
  {
   "cell_type": "code",
   "execution_count": 31,
   "id": "fc2f519b",
   "metadata": {},
   "outputs": [],
   "source": [
    "import csv"
   ]
  },
  {
   "cell_type": "markdown",
   "id": "762f2cfb",
   "metadata": {},
   "source": [
    "### Exercise 8:\n",
    "\n",
    "Create a Dictionary from baby_names.csv file where keys will be the \"RANK\" from csv file and values will be \"NAME\" from the csv file"
   ]
  },
  {
   "cell_type": "code",
   "execution_count": 43,
   "id": "c42e54af",
   "metadata": {},
   "outputs": [
    {
     "name": "stdout",
     "output_type": "stream",
     "text": [
      "{'RANK': 'NAME', '75': 'Shia', '67': 'Yaakov', '42': 'Jackson', '51': 'Yitzchok', '53': 'Christian', '62': 'Eliezer', '8': 'Daniel', '74': 'Oscar', '71': 'Ari', '78': 'Tyler', '73': 'Yechiel', '72': 'Edward', '77': 'Victor', '60': 'Peter', '1': 'Joseph', '70': 'Vincent', '61': 'Sean', '65': 'Zev', '58': 'Miles', '41': 'Yehuda', '76': 'Leonardo', '68': 'Yakov', '48': 'Asher', '55': 'Mark', '40': 'Owen', '66': 'Nathaniel', '64': 'Gavin', '34': 'Shimon', '44': 'Nathan', '57': 'Shmuel', '63': 'Solomon', '33': 'Eli', '31': 'Max', '20': 'Ryan', '69': 'Hunter', '35': 'Luke', '13': 'William', '52': 'George', '59': 'Shlomo', '39': 'Zachary', '9': 'Samuel', '27': 'Thomas', '10': 'Jack', '56': 'Levi', '12': 'Adam', '2': 'David', '25': 'Isaac', '18': 'Ethan', '14': 'Henry', '38': 'Andrew', '28': 'Yosef', '6': 'Benjamin', '3': 'Michael', '19': 'Liam', '45': 'Aiden', '47': 'Jonathan', '11': 'James', '79': 'Wyatt', '17': 'John', '43': 'Yisroel', '80': 'Sam', '37': 'Mordechai', '81': 'Shaya', '46': 'Christopher', '5': 'Jacob', '22': 'Matthew', '50': 'Robert', '21': 'Noah', '30': 'Oliver', '24': 'Theodore', '54': 'Aron', '15': 'Abraham', '36': 'Mason', '23': 'Chaim', '7': 'Alexander', '16': 'Nicholas', '49': 'Logan', '29': 'Anthony', '4': 'Moshe', '32': 'Gabriel', '26': 'Lucas', '92': 'Usher', '90': 'Naftali', '82': 'Ian', '91': 'Ronan', '88': 'Youssef', '89': 'Simcha', '94': 'Yousef', '83': 'Raphael', '93': 'Shmiel', '84': 'Philip', '87': 'Xavier', '85': 'Timothy', '86': 'Yehoshua', '96': 'Yusuf', '97': 'Yossi', '95': 'Naftuli', '99': 'Shea', '98': 'Yisrael', '100': 'Yoel', '101': 'Yahya', '102': 'Yidel'}\n"
     ]
    }
   ],
   "source": [
    "csvfile = open(\"baby_names.csv\", \"r\")\n",
    "\n",
    "new_baby_names = {}\n",
    "\n",
    "for row in csv.reader(csvfile):\n",
    "    #print(row)\n",
    "    new_baby_names[row[5]] = row[3]\n",
    "print(new_baby_names)"
   ]
  },
  {
   "cell_type": "markdown",
   "id": "9beff3cd",
   "metadata": {},
   "source": [
    "### Creating a dictionary from a file\n",
    "\n",
    "The csv module also provides a way to directly create a dictionary from a CSV file with the DictReader class. \n",
    "\n",
    "If the file has a header row, that row will automatically be used as the keys for the dictionary. However, if not, you can supply a list of keys to be used. \n",
    "\n",
    "Each row from the file is returned as a dictionary. Using DictReader can make it much easier to read your code and understand what data is being used, especially when compared to the numbered indexes you used in the prior exercise."
   ]
  },
  {
   "cell_type": "code",
   "execution_count": 45,
   "id": "b795c03c",
   "metadata": {},
   "outputs": [
    {
     "name": "stdout",
     "output_type": "stream",
     "text": [
      "{'75': 'Shia', '67': 'Yaakov', '42': 'Jackson', '51': 'Yitzchok', '53': 'Christian', '62': 'Eliezer', '8': 'Daniel', '74': 'Oscar', '71': 'Ari', '78': 'Tyler', '73': 'Yechiel', '72': 'Edward', '77': 'Victor', '60': 'Peter', '1': 'Joseph', '70': 'Vincent', '61': 'Sean', '65': 'Zev', '58': 'Miles', '41': 'Yehuda', '76': 'Leonardo', '68': 'Yakov', '48': 'Asher', '55': 'Mark', '40': 'Owen', '66': 'Nathaniel', '64': 'Gavin', '34': 'Shimon', '44': 'Nathan', '57': 'Shmuel', '63': 'Solomon', '33': 'Eli', '31': 'Max', '20': 'Ryan', '69': 'Hunter', '35': 'Luke', '13': 'William', '52': 'George', '59': 'Shlomo', '39': 'Zachary', '9': 'Samuel', '27': 'Thomas', '10': 'Jack', '56': 'Levi', '12': 'Adam', '2': 'David', '25': 'Isaac', '18': 'Ethan', '14': 'Henry', '38': 'Andrew', '28': 'Yosef', '6': 'Benjamin', '3': 'Michael', '19': 'Liam', '45': 'Aiden', '47': 'Jonathan', '11': 'James', '79': 'Wyatt', '17': 'John', '43': 'Yisroel', '80': 'Sam', '37': 'Mordechai', '81': 'Shaya', '46': 'Christopher', '5': 'Jacob', '22': 'Matthew', '50': 'Robert', '21': 'Noah', '30': 'Oliver', '24': 'Theodore', '54': 'Aron', '15': 'Abraham', '36': 'Mason', '23': 'Chaim', '7': 'Alexander', '16': 'Nicholas', '49': 'Logan', '29': 'Anthony', '4': 'Moshe', '32': 'Gabriel', '26': 'Lucas', '92': 'Usher', '90': 'Naftali', '82': 'Ian', '91': 'Ronan', '88': 'Youssef', '89': 'Simcha', '94': 'Yousef', '83': 'Raphael', '93': 'Shmiel', '84': 'Philip', '87': 'Xavier', '85': 'Timothy', '86': 'Yehoshua', '96': 'Yusuf', '97': 'Yossi', '95': 'Naftuli', '99': 'Shea', '98': 'Yisrael', '100': 'Yoel', '101': 'Yahya', '102': 'Yidel'}\n"
     ]
    }
   ],
   "source": [
    "csvfile = open(\"baby_names.csv\", \"r\")\n",
    "\n",
    "new_baby_names2 = {}\n",
    "\n",
    "for row in csv.DictReader(csvfile):\n",
    "    #print(row)\n",
    "    new_baby_names2[row[\"RANK\"]] = row[\"NAME\"]\n",
    "print(new_baby_names2)"
   ]
  },
  {
   "cell_type": "code",
   "execution_count": null,
   "id": "3f4c5415",
   "metadata": {},
   "outputs": [],
   "source": []
  },
  {
   "cell_type": "code",
   "execution_count": null,
   "id": "1611e990",
   "metadata": {},
   "outputs": [],
   "source": []
  },
  {
   "cell_type": "code",
   "execution_count": null,
   "id": "3ea0cbed",
   "metadata": {},
   "outputs": [],
   "source": []
  },
  {
   "cell_type": "code",
   "execution_count": null,
   "id": "f6106d28",
   "metadata": {},
   "outputs": [],
   "source": []
  },
  {
   "cell_type": "code",
   "execution_count": null,
   "id": "9ee8ac28",
   "metadata": {},
   "outputs": [],
   "source": []
  },
  {
   "cell_type": "code",
   "execution_count": null,
   "id": "ec6ee692",
   "metadata": {},
   "outputs": [],
   "source": []
  },
  {
   "cell_type": "code",
   "execution_count": null,
   "id": "a6b62a66",
   "metadata": {},
   "outputs": [],
   "source": []
  },
  {
   "cell_type": "code",
   "execution_count": null,
   "id": "2ec67a27",
   "metadata": {},
   "outputs": [],
   "source": []
  },
  {
   "cell_type": "code",
   "execution_count": null,
   "id": "29fb0dca",
   "metadata": {},
   "outputs": [],
   "source": []
  },
  {
   "cell_type": "code",
   "execution_count": null,
   "id": "3a7ca763",
   "metadata": {},
   "outputs": [],
   "source": []
  },
  {
   "cell_type": "code",
   "execution_count": null,
   "id": "562b060d",
   "metadata": {},
   "outputs": [],
   "source": []
  },
  {
   "cell_type": "code",
   "execution_count": null,
   "id": "a2bce3ea",
   "metadata": {},
   "outputs": [],
   "source": []
  }
 ],
 "metadata": {
  "kernelspec": {
   "display_name": "Python 3 (ipykernel)",
   "language": "python",
   "name": "python3"
  },
  "language_info": {
   "codemirror_mode": {
    "name": "ipython",
    "version": 3
   },
   "file_extension": ".py",
   "mimetype": "text/x-python",
   "name": "python",
   "nbconvert_exporter": "python",
   "pygments_lexer": "ipython3",
   "version": "3.8.13"
  }
 },
 "nbformat": 4,
 "nbformat_minor": 5
}

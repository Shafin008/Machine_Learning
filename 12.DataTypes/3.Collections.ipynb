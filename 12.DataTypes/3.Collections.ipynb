{
 "cells": [
  {
   "cell_type": "markdown",
   "id": "706983c4-7502-448a-b7d2-92aba849ceed",
   "metadata": {
    "tags": []
   },
   "source": [
    "### Counter Exercises:\n",
    "\n",
    "#### 1. Counter on lists\n",
    "\n",
    "Counter is a powerful tool for counting, validating, and learning more about the elements within a dataset that is found in the collections module. You pass an iterable (list, set, tuple) or a dictionary to the Counter. You can also use the Counter object similarly to a dictionary with key/value assignment, for example counter[key] = value.\n",
    "\n",
    "A common usage for Counter is checking data for consistency prior to using it, so let's do just that. In this exercise, you'll be using data from the Chicago Transit Authority on ridership.\n",
    "\n",
    "\n",
    "- Import the Counter object from collections.\n",
    "\n",
    "- Print the first ten items from the stations list.\n",
    "\n",
    "- Create a Counter of the stations list called station_count.\n",
    "\n",
    "- Print the station_count."
   ]
  },
  {
   "cell_type": "code",
   "execution_count": null,
   "id": "53d1bd85-e0f0-4056-84d0-1c7c6b3dbcc5",
   "metadata": {},
   "outputs": [],
   "source": [
    "# Import the Counter object\n",
    "____\n",
    "\n",
    "# Print the first ten items from the stations list\n",
    "____\n",
    "\n",
    "# Create a Counter of the stations list: station_count\n",
    "station_count = ____\n",
    "\n",
    "# Print the station_count\n",
    "____"
   ]
  },
  {
   "cell_type": "code",
   "execution_count": null,
   "id": "9c00d25e-34d0-421f-ab5f-b77b5e2bc33c",
   "metadata": {},
   "outputs": [],
   "source": [
    "# # Import the Counter object\n",
    "# from collections import Counter\n",
    "\n",
    "# # Print the first ten items from the stations list\n",
    "# print(stations[:10])\n",
    "\n",
    "# # Create a Counter of the stations list: station_count\n",
    "# station_count = Counter(stations)\n",
    "\n",
    "# # Print the station_count\n",
    "# print(station_count)"
   ]
  },
  {
   "cell_type": "markdown",
   "id": "e59c6ad6-160d-468d-bc6a-ccfb949b4fbf",
   "metadata": {},
   "source": [
    "#### 2. Find the most common element\n",
    "\n",
    "Finding most common elements\n",
    "Another powerful usage of Counter is finding the most common elements in a list. This can be done with the .most_common() method.\n",
    "\n",
    "Practice using this now to find the most common stations in a stations list.\n",
    "\n",
    "\n",
    "- Import the Counter object from collections.\n",
    "\n",
    "- Create a Counter of the stations list called station_count.\n",
    "\n",
    "- Print the 5 most common elements."
   ]
  },
  {
   "cell_type": "code",
   "execution_count": null,
   "id": "f467cf05-9a31-422e-adfa-1f6ce39be8f1",
   "metadata": {},
   "outputs": [],
   "source": [
    "# Import the Counter object\n",
    "____\n",
    "\n",
    "# Create a Counter of the stations list: station_count\n",
    "station_count = ____\n",
    "\n",
    "# Find the 5 most common elements\n",
    "print(____)"
   ]
  },
  {
   "cell_type": "code",
   "execution_count": null,
   "id": "2472a151-1c2c-431b-893f-06c3dc0f5b00",
   "metadata": {},
   "outputs": [],
   "source": [
    "# # Import the Counter object\n",
    "# from collections import Counter\n",
    "\n",
    "# # Create a Counter of the stations list: station_count\n",
    "# station_count = Counter(stations)\n",
    "\n",
    "# # Find the 5 most common elements\n",
    "# print(station_count.most_common(5))"
   ]
  },
  {
   "cell_type": "markdown",
   "id": "e186332c-1e8c-40f2-be3b-df7ad4008263",
   "metadata": {},
   "source": [
    "### DefaultDict() Exercises:\n",
    "\n",
    "#### EX1: Creating dictionaries of an unknown structure\n",
    "\n",
    "Occasionally, you'll need a structure to hold nested data, and you may not be certain that the keys will all actually exist. This can be an issue if you're trying to append items to a list for that key. You might remember the NYC data that we explored in the video. In order to solve the problem with a regular dictionary, you'll need to test that the key exists in the dictionary, and if not, add it with an empty list.\n",
    "\n",
    "You'll be working with a list of entries that contains ridership details on the Chicago transit system. You're going to solve this same type of problem with a much easier solution in the next exercise.\n",
    "\n",
    "\n",
    "- Create an empty dictionary called ridership.\n",
    "\n",
    "- Iterate over entries, unpacking it into the variables date, stop, and riders.\n",
    "\n",
    "- Check to see if the date already exists in the ridership dictionary. If it does not exist, create an empty list for the date key.\n",
    "\n",
    "- Append a tuple consisting of stop and riders to the date key of the ridership dictionary.\n",
    "\n",
    "- Print the ridership for '03/09/2016'."
   ]
  },
  {
   "cell_type": "code",
   "execution_count": null,
   "id": "70537626-6d59-4961-89e0-5a2ef2f038a1",
   "metadata": {},
   "outputs": [],
   "source": [
    "# Create an empty dictionary: ridership\n",
    "ridership = ____\n",
    "\n",
    "# Iterate over the entries\n",
    "for ____, ____, ____ in ____:\n",
    "    # Check to see if date is already in the ridership dictionary\n",
    "    if ____ not in ____:\n",
    "        # Create an empty list for any missing date\n",
    "        ridership[date] = ____\n",
    "    # Append the stop and riders as a tuple to the date keys list\n",
    "    ridership[date].____\n",
    "    \n",
    "# Print the ridership for '03/09/2016'\n",
    "print(____)"
   ]
  },
  {
   "cell_type": "code",
   "execution_count": null,
   "id": "bd0561f9-c983-4ccf-a848-be36e195a902",
   "metadata": {},
   "outputs": [],
   "source": [
    "# # Create an empty dictionary: ridership\n",
    "# ridership = {}\n",
    "\n",
    "# # Iterate over the entries\n",
    "# for date, stop, riders in entries:\n",
    "#     # Check to see if date is already in the ridership dictionary\n",
    "#     if date not in ridership:\n",
    "#         # Create an empty list for any missing date\n",
    "#         ridership[date] = []\n",
    "#     # Append the stop and riders as a tuple to the date keys list\n",
    "#     ridership[date].append((stop, riders))\n",
    "    \n",
    "# # Print the ridership for '03/09/2016'\n",
    "# print(ridership['03/09/2016'])"
   ]
  },
  {
   "cell_type": "markdown",
   "id": "ebecc3ab-d9d5-403b-a936-06fd37b0a3cc",
   "metadata": {},
   "source": [
    "#### Ex2: Safely appending to a key's value list\n",
    "\n",
    "Often when working with dictionaries, you will need to initialize a data type before you can use it. A prime example of this is a list, which has to be initialized on each key before you can append to that list.\n",
    "\n",
    "A defaultdict allows you to define what each uninitialized key will contain. When establishing a defaultdict, you pass it the type you want it to be, such as a list, tuple, set, int, string, dictionary or any other valid type object.\n",
    "\n",
    "\n",
    "\n",
    "- Import defaultdict from collections.\n",
    "\n",
    "- Create a defaultdict with a default type of list called ridership.\n",
    "\n",
    "- Iterate over the list entries, unpacking it into the variables date, stop, and riders, exactly as you did in the previous exercise.\n",
    "\n",
    "- Use stop as the key of the ridership dictionary and append riders to its value.\n",
    "\n",
    "- Print the first 10 items of the ridership dictionary. You can use the .items() method for this. Remember, you have to convert ridership.items() to a list before slicing."
   ]
  },
  {
   "cell_type": "code",
   "execution_count": null,
   "id": "39b58d75-da57-4d98-8bbe-964c35e012fa",
   "metadata": {},
   "outputs": [],
   "source": [
    "# Import defaultdict\n",
    "____\n",
    "\n",
    "# Create a defaultdict with a default type of list: ridership\n",
    "ridership = ____\n",
    "\n",
    "# Iterate over the entries\n",
    "for ____, ____, ____ in ____:\n",
    "    # Use the stop as the key of ridership and append the riders to its value\n",
    "    ____\n",
    "    \n",
    "# Print the first 10 items of the ridership dictionary\n",
    "print(____(____)[:10])"
   ]
  },
  {
   "cell_type": "code",
   "execution_count": null,
   "id": "1b10cb48-6b6a-4b2f-b540-0ee942d447eb",
   "metadata": {},
   "outputs": [],
   "source": [
    "# # Import defaultdict\n",
    "# from collections import defaultdict\n",
    "\n",
    "# # Create a defaultdict with a default type of list: ridership\n",
    "# ridership = defaultdict(list)\n",
    "\n",
    "# # Iterate over the entries\n",
    "# for date, stop, riders in entries:\n",
    "#     # Use the stop as the key of ridership and append the riders to its value\n",
    "#     ridership[stop].append(riders)\n",
    "    \n",
    "# # Print the first 10 items of the ridership dictionary\n",
    "# print(list(ridership.items())[:10])"
   ]
  },
  {
   "cell_type": "markdown",
   "id": "bfefcd98-f91e-4457-b029-0f444fc17028",
   "metadata": {},
   "source": [
    "### OrderedDict() Exercises:\n",
    "\n",
    "#### Ex1: Working with OrderedDictionaries\n",
    "\n",
    "Recently in Python 3.6, dictionaries were made to maintain the order in which the keys were inserted; however, in all versions prior to that you need to use an OrderedDict to maintain insertion order.\n",
    "\n",
    "Let's create a dictionary of all the stop times by route and rider, then use it to find the ridership throughout the day.\n",
    "\n",
    "- Import OrderedDict from collections.\n",
    "\n",
    "- Create an OrderedDict called ridership_date.\n",
    "\n",
    "- Iterate over the list entries, unpacking it into date and riders.\n",
    "\n",
    "- If a key does not exist in ridership_date for the date, set it equal to 0 (if only you could use defaultdict here!)\n",
    "\n",
    "- Add riders to the date key of ridership_date.\n",
    "\n",
    "- Print the first 31 records. Remember to convert the items into a list."
   ]
  },
  {
   "cell_type": "code",
   "execution_count": null,
   "id": "159d9cef-656a-4265-8526-18d3832feda5",
   "metadata": {},
   "outputs": [],
   "source": [
    "# Import OrderedDict from collections\n",
    "____\n",
    "\n",
    "# Create an OrderedDict called: ridership_date\n",
    "ridership_date = ____\n",
    "\n",
    "# Iterate over the entries\n",
    "for ____, ____ in ____:\n",
    "    # If a key does not exist in ridership_date, set it to 0\n",
    "    if  ____ not in ____:\n",
    "        ____ = 0\n",
    "        \n",
    "    # Add riders to the date key in ridership_date\n",
    "    ____ += ____\n",
    "    \n",
    "# Print the first 31 records\n",
    "____"
   ]
  },
  {
   "cell_type": "code",
   "execution_count": null,
   "id": "40cb4b31-e5c6-4237-8d2c-6bd724ccf727",
   "metadata": {},
   "outputs": [],
   "source": [
    "# # Import OrderedDict from collections\n",
    "# from collections import OrderedDict\n",
    "\n",
    "# # Create an OrderedDict called: ridership_date\n",
    "# ridership_date = OrderedDict()\n",
    "\n",
    "# # Iterate over the entries\n",
    "# for date, riders in entries:\n",
    "#     # If a key does not exist in ridership_date, set it to 0\n",
    "#     if date not in ridership_date:\n",
    "#         ridership_date[date] = 0\n",
    "        \n",
    "#     # Add riders to the date key in ridership_date\n",
    "#     ridership_date[date] += riders\n",
    "    \n",
    "# # Print the first 31 records\n",
    "# print(list(ridership_date.items())[:31])"
   ]
  },
  {
   "cell_type": "markdown",
   "id": "6ac12d8d-c18c-4a65-a0a4-b8e382e5b92e",
   "metadata": {},
   "source": [
    "#### Ex2: Powerful Ordered popping\n",
    "Where OrderedDicts really shine is when you need to access the data in the dictionary in the order you added it. OrderedDict has a .popitem() method that will return items in reverse of which they were inserted. You can also pass .popitem() the last=False keyword argument and go through the items in the order of how they were added.\n",
    "\n",
    "Here, you'll use the ridership_date OrderedDict you created in the previous exercise.\n",
    "\n",
    "\n",
    "- Print the first key in ridership_date (Remember to make keys a list before slicing).\n",
    "\n",
    "- Pop the first item from ridership_date and print it.\n",
    "\n",
    "- Print the last key in ridership_date.\n",
    "\n",
    "- Pop the last item from ridership_date and print it."
   ]
  },
  {
   "cell_type": "code",
   "execution_count": null,
   "id": "1c236ecb-f439-40e5-a780-85f3b704c1b2",
   "metadata": {},
   "outputs": [],
   "source": [
    "# Print the first key in ridership_date\n",
    "____\n",
    "\n",
    "# Pop the first item from ridership_date and print it\n",
    "____\n",
    "\n",
    "# Print the last key in ridership_date\n",
    "____\n",
    "\n",
    "# Pop the last item from ridership_date and print it\n",
    "____"
   ]
  },
  {
   "cell_type": "code",
   "execution_count": null,
   "id": "01db2271-9c6f-4017-a5fe-a2c6cfd019a0",
   "metadata": {},
   "outputs": [],
   "source": [
    "# # Print the first key in ridership_date\n",
    "# print(list(ridership_date.keys())[0])\n",
    "\n",
    "# # Pop the first item from ridership_date and print it\n",
    "# print(ridership_date.popitem(last=False))\n",
    "\n",
    "# # Print the last key in ridership_date\n",
    "# print(list(ridership_date.keys())[-1])\n",
    "\n",
    "# # Pop the last item from ridership_date and print it\n",
    "# print(ridership_date.popitem())"
   ]
  },
  {
   "cell_type": "markdown",
   "id": "457be387-da6d-4e20-aab3-39b1b43877fc",
   "metadata": {},
   "source": [
    "### namedtuple() exercises:\n",
    "\n",
    "#### Ex1: Creating namedtuples for storing data\n",
    "Often times when working with data, you will use a dictionary just so you can use key names to make reading the code and accessing the data easier to understand. Python has another container called a namedtuple that is a tuple, but has names for each position of the tuple. You create one by passing a name for the tuple type and a list of field names.\n",
    "\n",
    "For example, Cookie = namedtuple(\"Cookie\", ['name', 'quantity']) will create a container, and you can create new ones of the type using Cookie('chocolate chip', 1) where you can access the name using the name attribute, and then get the quantity using the quantity attribute.\n",
    "\n",
    "In this exercise, you're going to restructure the transit data you've been working with into namedtuples for more descriptive code.\n",
    "\n",
    "\n",
    "- Import namedtuple from collections.\n",
    "\n",
    "- Create a namedtuple called DateDetails with a type name of DateDetails and fields of 'date', 'stop', and 'riders'.\n",
    "\n",
    "- Create a list called labeled_entries.\n",
    "\n",
    "- Iterate over the entries list, unpacking it into date, stop, and riders.\n",
    "\n",
    "- Create a new DateDetails namedtuple instance for each entry and append it to labeled_entries.\n",
    "\n",
    "- Print the first 5 items in labeled_entries. This has been done for you, so hit 'Submit Answer' to see the result!"
   ]
  },
  {
   "cell_type": "code",
   "execution_count": null,
   "id": "0491392e-9d2f-483d-87a1-a9c924c68f5c",
   "metadata": {},
   "outputs": [],
   "source": [
    "# Import namedtuple from collections\n",
    "from collections import namedtuple\n",
    "\n",
    "# Create the namedtuple: DateDetails\n",
    "DateDetails = namedtuple('DateDetails', ['date', 'stop', 'riders'])\n",
    "\n",
    "# Create the empty list: labeled_entries\n",
    "labeled_entries = []\n",
    "\n",
    "# Iterate over the entries list\n",
    "for ____, ____, ____ in ____:\n",
    "    # Append a new DateDetails namedtuple instance for each entry to labeled_entries\n",
    "    ____\n",
    "    \n",
    "# Print the first 5 items in labeled_entries\n",
    "print(labeled_entries[:5])"
   ]
  },
  {
   "cell_type": "code",
   "execution_count": null,
   "id": "762aef3b-b1ae-4d1b-b355-30a38e03830e",
   "metadata": {},
   "outputs": [],
   "source": [
    "# # Import namedtuple from collections\n",
    "# from collections import namedtuple\n",
    "\n",
    "# # Create the namedtuple: DateDetails\n",
    "# DateDetails = namedtuple('DateDetails', ['date', 'stop', 'riders'])\n",
    "\n",
    "# # Create the empty list: labeled_entries\n",
    "# labeled_entries = []\n",
    "\n",
    "# # Iterate over the entries list\n",
    "# for date, stop, riders in entries:\n",
    "#     # Append a new DateDetails namedtuple instance for each entry to labeled_entries\n",
    "#     labeled_entries.append(DateDetails(date, stop, riders))\n",
    "    \n",
    "# # Print the first 5 items in labeled_entries\n",
    "# print(labeled_entries[:5])"
   ]
  },
  {
   "cell_type": "markdown",
   "id": "c618cbaf-db35-4d66-97bf-7f18edc6d0cc",
   "metadata": {},
   "source": [
    "#### Ex2: Leveraging attributes on namedtuples\n",
    "Once you have a namedtuple, you can write more expressive code that is easier to understand. Remember, you can access the elements in the tuple by their name as an attribute. For example, you can access the date of the namedtuples in the previous exercise using the .date attribute.\n",
    "\n",
    "Here, you'll use the tuples you made in the previous exercise to see how this works.\n",
    "\n",
    "- Iterate over the first twenty items in the labeled_entries list:\n",
    "\n",
    "- Print each item's stop.\n",
    "\n",
    "- Print each item's date.\n",
    "\n",
    "- Print each item's riders."
   ]
  },
  {
   "cell_type": "code",
   "execution_count": null,
   "id": "cb624f21-2ef6-4da5-9a74-e2857d30798a",
   "metadata": {},
   "outputs": [],
   "source": [
    "# Iterate over the first twenty items in labeled_entries\n",
    "for ____ in ____:\n",
    "    # Print each item's stop\n",
    "    ____\n",
    "\n",
    "    # Print each item's date\n",
    "    ____\n",
    "\n",
    "    # Print each item's riders\n",
    "    ____"
   ]
  },
  {
   "cell_type": "code",
   "execution_count": null,
   "id": "63048e33-ba1e-42e8-92a4-8ecb4595b70c",
   "metadata": {},
   "outputs": [],
   "source": [
    "# # Iterate over the first twenty items in labeled_entries\n",
    "# for item in labeled_entries[:20]:\n",
    "#     # Print each item's stop\n",
    "#     print(item.stop)\n",
    "\n",
    "#     # Print each item's date\n",
    "#     print(item.date)\n",
    "\n",
    "#     # Print each item's riders\n",
    "#     print(item.riders)"
   ]
  },
  {
   "cell_type": "code",
   "execution_count": null,
   "id": "3c657d13-fd53-47d3-b037-f828a2ab50e9",
   "metadata": {},
   "outputs": [],
   "source": []
  },
  {
   "cell_type": "code",
   "execution_count": null,
   "id": "77ff91bd-514b-46d9-89fc-97c074356d60",
   "metadata": {},
   "outputs": [],
   "source": []
  },
  {
   "cell_type": "code",
   "execution_count": null,
   "id": "a5c17661-4fb4-42fb-843b-54695560fd3b",
   "metadata": {},
   "outputs": [],
   "source": []
  },
  {
   "cell_type": "code",
   "execution_count": null,
   "id": "68631904-dc9d-43ed-b39b-29e88976027b",
   "metadata": {},
   "outputs": [],
   "source": []
  },
  {
   "cell_type": "code",
   "execution_count": null,
   "id": "33df5c7a-7544-4a7a-9531-738197ae68aa",
   "metadata": {},
   "outputs": [],
   "source": []
  },
  {
   "cell_type": "code",
   "execution_count": null,
   "id": "bea2056d-5275-489e-a0c9-4bdec1c0fb0a",
   "metadata": {},
   "outputs": [],
   "source": []
  },
  {
   "cell_type": "code",
   "execution_count": null,
   "id": "c08c00d4-1c39-4a77-ab3e-c186c0b5c3f1",
   "metadata": {},
   "outputs": [],
   "source": []
  },
  {
   "cell_type": "code",
   "execution_count": null,
   "id": "26365c8d-1f58-4f20-9c2f-f5f5e87e066a",
   "metadata": {},
   "outputs": [],
   "source": []
  },
  {
   "cell_type": "code",
   "execution_count": null,
   "id": "6497a848-939f-440f-a25c-7cc4470ec006",
   "metadata": {},
   "outputs": [],
   "source": []
  }
 ],
 "metadata": {
  "kernelspec": {
   "display_name": "Python 3 (ipykernel)",
   "language": "python",
   "name": "python3"
  },
  "language_info": {
   "codemirror_mode": {
    "name": "ipython",
    "version": 3
   },
   "file_extension": ".py",
   "mimetype": "text/x-python",
   "name": "python",
   "nbconvert_exporter": "python",
   "pygments_lexer": "ipython3",
   "version": "3.8.13"
  }
 },
 "nbformat": 4,
 "nbformat_minor": 5
}
